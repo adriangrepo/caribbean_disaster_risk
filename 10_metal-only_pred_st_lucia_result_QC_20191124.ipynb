{
 "cells": [
  {
   "cell_type": "markdown",
   "metadata": {},
   "source": [
    "## Predict St Lucia Metal Roofs\n",
    "\n",
    "Using rotated to hz + OpenCv border\n"
   ]
  },
  {
   "cell_type": "code",
   "execution_count": 14,
   "metadata": {},
   "outputs": [],
   "source": [
    "%reload_ext autoreload\n",
    "%autoreload 2\n",
    "%matplotlib inline"
   ]
  },
  {
   "cell_type": "code",
   "execution_count": 15,
   "metadata": {},
   "outputs": [],
   "source": [
    "from fastai.vision import *\n",
    "import geopandas as gpd\n",
    "from resizeimage import resizeimage\n",
    "import datetime\n",
    "import uuid\n",
    "from os import listdir\n",
    "from os.path import isfile, join\n",
    "from ipyexperiments import *"
   ]
  },
  {
   "cell_type": "code",
   "execution_count": 16,
   "metadata": {},
   "outputs": [
    {
     "data": {
      "text/plain": [
       "1"
      ]
     },
     "execution_count": 16,
     "metadata": {},
     "output_type": "execute_result"
    }
   ],
   "source": [
    "torch.cuda.set_device(1)\n",
    "torch.cuda.current_device()"
   ]
  },
  {
   "cell_type": "code",
   "execution_count": 17,
   "metadata": {},
   "outputs": [],
   "source": [
    "data_dir = Path('data')\n"
   ]
  },
  {
   "cell_type": "code",
   "execution_count": 18,
   "metadata": {},
   "outputs": [],
   "source": [
    "MODEL_NAME='result_QC'"
   ]
  },
  {
   "cell_type": "code",
   "execution_count": 19,
   "metadata": {},
   "outputs": [],
   "source": [
    "NB_NUM='10_0'\n",
    "RUN='0'"
   ]
  },
  {
   "cell_type": "code",
   "execution_count": 20,
   "metadata": {},
   "outputs": [
    {
     "name": "stdout",
     "output_type": "stream",
     "text": [
      "UID: 3fc20e1b, DATE: 20191127\n"
     ]
    }
   ],
   "source": [
    "DATE = datetime.datetime.today().strftime('%Y%m%d')\n",
    "UID=str(uuid.uuid4())[:8]\n",
    "print(f'UID: {UID}, DATE: {DATE}')                                                 "
   ]
  },
  {
   "cell_type": "code",
   "execution_count": 21,
   "metadata": {},
   "outputs": [],
   "source": [
    "#DATE = '20191124'\n",
    "#UID = '1328c588'"
   ]
  },
  {
   "cell_type": "code",
   "execution_count": 22,
   "metadata": {},
   "outputs": [],
   "source": [
    "SUB_NUM='2'"
   ]
  },
  {
   "cell_type": "code",
   "execution_count": 23,
   "metadata": {},
   "outputs": [],
   "source": [
    "img_size=256\n",
    "bs=128"
   ]
  },
  {
   "cell_type": "code",
   "execution_count": 24,
   "metadata": {},
   "outputs": [],
   "source": [
    "train_images=data_dir/f'train/rotated/clipped/{img_size}'\n",
    "test_images=data_dir/f'test/rotated/clipped/{img_size}'"
   ]
  },
  {
   "cell_type": "code",
   "execution_count": 28,
   "metadata": {},
   "outputs": [],
   "source": [
    "def gen_df(file_):\n",
    "    df = pd.read_csv(data_folder/f'{file_}')\n",
    "    pfix=file_.split('stage-2-')[1]\n",
    "    df['model']=pfix.split('-')[0]\n",
    "    print(pfix)\n",
    "    pfix=pfix.split('10_')[1]\n",
    "    run=pfix.split('-')[0]\n",
    "    df['run']=run\n",
    "    ttype=pfix.split(f'{run}-')[1].split('-')[0]\n",
    "    df['ttype']=ttype\n",
    "    df['uid']=file_\n",
    "    return df"
   ]
  },
  {
   "cell_type": "markdown",
   "metadata": {},
   "source": [
    "#### concat predictions"
   ]
  },
  {
   "cell_type": "code",
   "execution_count": 30,
   "metadata": {},
   "outputs": [
    {
     "name": "stdout",
     "output_type": "stream",
     "text": [
      "rn152-10_0-country-all_unverified-5-20191126-963df561.csv\n",
      "rn50-10_1-country-all_unverified-5-20191126-963df561.csv\n",
      "rn152-10_2-country-all_unverified-5-20191126-963df561.csv\n",
      "rn50-10_0-roof_material-all_unverified-5-20191126-963df561.csv\n",
      "rn152-10_0-roof_material-all_unverified-5-20191126-963df561.csv\n",
      "dn121-10_1-region-all_unverified-5-20191126-963df561.csv\n",
      "rn152-10_2-roof_material-all_unverified-5-20191126-963df561.csv\n",
      "dn121-10_2-region-all_unverified-5-20191126-963df561.csv\n",
      "rn50-10_0-region-all_unverified-5-20191126-963df561.csv\n",
      "dn121-10_0-country-all_unverified-5-20191126-963df561.csv\n",
      "rn50-10_1-roof_material-all_unverified-5-20191126-963df561.csv\n",
      "rn152-10_1-region-all_unverified-5-20191126-963df561.csv\n",
      "rn50-10_0-country-all_unverified-5-20191126-963df561.csv\n",
      "dn121-10_1-country-all_unverified-5-20191126-963df561.csv\n",
      "dn121-10_0-region-all_unverified-5-20191126-963df561.csv\n",
      "rn50-10_1-region-all_unverified-5-20191126-963df561.csv\n",
      "dn121-10_1-roof_material-all_unverified-5-20191126-963df561.csv\n",
      "rn152-10_1-country-all_unverified-5-20191126-963df561.csv\n",
      "rn50-10_2-country-all_unverified-5-20191126-963df561.csv\n",
      "rn152-10_2-region-all_unverified-5-20191126-963df561.csv\n",
      "rn50-10_2-region-all_unverified-5-20191126-963df561.csv\n",
      "rn50-10_2-roof_material-all_unverified-5-20191126-963df561.csv\n",
      "dn121-10_0-roof_material-all_unverified-5-20191126-963df561.csv\n",
      "dn121-10_2-country-all_unverified-5-20191126-963df561.csv\n",
      "dn121-10_2-roof_material-all_unverified-5-20191126-963df561.csv\n",
      "rn152-10_1-roof_material-all_unverified-5-20191126-963df561.csv\n",
      "rn152-10_0-region-all_unverified-5-20191126-963df561.csv\n"
     ]
    }
   ],
   "source": [
    "c_list_ = []\n",
    "rm_list=[]\n",
    "region_list=[]\n",
    "data_folder = data_dir/'processing/1_without_cbs/'\n",
    "for file_ in os.listdir(data_folder):\n",
    "    if file_.endswith('.csv'):\n",
    "        if 'country' in file_:\n",
    "            c_list_.append(gen_df(file_))\n",
    "        elif 'roof_material' in file_:\n",
    "            rm_list.append(gen_df(file_))\n",
    "        elif 'region' in file_:\n",
    "            region_list.append(gen_df(file_))\n",
    "df_sl_c = pd.concat(c_list_)\n",
    "df_sl_rm = pd.concat(rm_list)\n",
    "df_sl_region = pd.concat(region_list)"
   ]
  },
  {
   "cell_type": "code",
   "execution_count": 31,
   "metadata": {},
   "outputs": [
    {
     "data": {
      "text/html": [
       "<div>\n",
       "<style scoped>\n",
       "    .dataframe tbody tr th:only-of-type {\n",
       "        vertical-align: middle;\n",
       "    }\n",
       "\n",
       "    .dataframe tbody tr th {\n",
       "        vertical-align: top;\n",
       "    }\n",
       "\n",
       "    .dataframe thead th {\n",
       "        text-align: right;\n",
       "    }\n",
       "</style>\n",
       "<table border=\"1\" class=\"dataframe\">\n",
       "  <thead>\n",
       "    <tr style=\"text-align: right;\">\n",
       "      <th></th>\n",
       "      <th>id</th>\n",
       "      <th>concrete_cement_colombia</th>\n",
       "      <th>concrete_cement_guatemala</th>\n",
       "      <th>concrete_cement_st_lucia</th>\n",
       "      <th>healthy_metal_colombia</th>\n",
       "      <th>healthy_metal_guatemala</th>\n",
       "      <th>healthy_metal_st_lucia</th>\n",
       "      <th>incomplete_colombia</th>\n",
       "      <th>incomplete_st_lucia</th>\n",
       "      <th>irregular_metal_colombia</th>\n",
       "      <th>irregular_metal_guatemala</th>\n",
       "      <th>irregular_metal_st_lucia</th>\n",
       "      <th>other_colombia</th>\n",
       "      <th>other_guatemala</th>\n",
       "      <th>other_st_lucia</th>\n",
       "      <th>model</th>\n",
       "      <th>run</th>\n",
       "      <th>ttype</th>\n",
       "      <th>uid</th>\n",
       "    </tr>\n",
       "  </thead>\n",
       "  <tbody>\n",
       "    <tr>\n",
       "      <td>0</td>\n",
       "      <td>7a24bd7e</td>\n",
       "      <td>0.000255</td>\n",
       "      <td>0.001458</td>\n",
       "      <td>0.000557</td>\n",
       "      <td>0.001196</td>\n",
       "      <td>0.000611</td>\n",
       "      <td>0.976295</td>\n",
       "      <td>0.000176</td>\n",
       "      <td>0.000228</td>\n",
       "      <td>0.000211</td>\n",
       "      <td>0.000957</td>\n",
       "      <td>0.003597</td>\n",
       "      <td>0.000212</td>\n",
       "      <td>0.010743</td>\n",
       "      <td>0.003503</td>\n",
       "      <td>rn152</td>\n",
       "      <td>0</td>\n",
       "      <td>country</td>\n",
       "      <td>stage-2-rn152-10_0-country-all_unverified-5-20...</td>\n",
       "    </tr>\n",
       "    <tr>\n",
       "      <td>1</td>\n",
       "      <td>7a2cf00c</td>\n",
       "      <td>0.030975</td>\n",
       "      <td>0.138384</td>\n",
       "      <td>0.004366</td>\n",
       "      <td>0.445674</td>\n",
       "      <td>0.178506</td>\n",
       "      <td>0.077426</td>\n",
       "      <td>0.027265</td>\n",
       "      <td>0.001400</td>\n",
       "      <td>0.043549</td>\n",
       "      <td>0.012433</td>\n",
       "      <td>0.004466</td>\n",
       "      <td>0.012422</td>\n",
       "      <td>0.021961</td>\n",
       "      <td>0.001173</td>\n",
       "      <td>rn152</td>\n",
       "      <td>0</td>\n",
       "      <td>country</td>\n",
       "      <td>stage-2-rn152-10_0-country-all_unverified-5-20...</td>\n",
       "    </tr>\n",
       "    <tr>\n",
       "      <td>2</td>\n",
       "      <td>7a3975e8</td>\n",
       "      <td>0.000874</td>\n",
       "      <td>0.000486</td>\n",
       "      <td>0.002189</td>\n",
       "      <td>0.025555</td>\n",
       "      <td>0.000669</td>\n",
       "      <td>0.955983</td>\n",
       "      <td>0.000497</td>\n",
       "      <td>0.000377</td>\n",
       "      <td>0.006324</td>\n",
       "      <td>0.000901</td>\n",
       "      <td>0.004304</td>\n",
       "      <td>0.000292</td>\n",
       "      <td>0.000301</td>\n",
       "      <td>0.001247</td>\n",
       "      <td>rn152</td>\n",
       "      <td>0</td>\n",
       "      <td>country</td>\n",
       "      <td>stage-2-rn152-10_0-country-all_unverified-5-20...</td>\n",
       "    </tr>\n",
       "    <tr>\n",
       "      <td>3</td>\n",
       "      <td>7a1d215e</td>\n",
       "      <td>0.000390</td>\n",
       "      <td>0.001031</td>\n",
       "      <td>0.000511</td>\n",
       "      <td>0.003794</td>\n",
       "      <td>0.000799</td>\n",
       "      <td>0.973295</td>\n",
       "      <td>0.000389</td>\n",
       "      <td>0.000270</td>\n",
       "      <td>0.001788</td>\n",
       "      <td>0.001009</td>\n",
       "      <td>0.004861</td>\n",
       "      <td>0.000395</td>\n",
       "      <td>0.003032</td>\n",
       "      <td>0.008436</td>\n",
       "      <td>rn152</td>\n",
       "      <td>0</td>\n",
       "      <td>country</td>\n",
       "      <td>stage-2-rn152-10_0-country-all_unverified-5-20...</td>\n",
       "    </tr>\n",
       "    <tr>\n",
       "      <td>4</td>\n",
       "      <td>7a42475e</td>\n",
       "      <td>0.002462</td>\n",
       "      <td>0.008615</td>\n",
       "      <td>0.002593</td>\n",
       "      <td>0.026376</td>\n",
       "      <td>0.003182</td>\n",
       "      <td>0.889495</td>\n",
       "      <td>0.001332</td>\n",
       "      <td>0.000771</td>\n",
       "      <td>0.001573</td>\n",
       "      <td>0.002933</td>\n",
       "      <td>0.007225</td>\n",
       "      <td>0.000827</td>\n",
       "      <td>0.047511</td>\n",
       "      <td>0.005106</td>\n",
       "      <td>rn152</td>\n",
       "      <td>0</td>\n",
       "      <td>country</td>\n",
       "      <td>stage-2-rn152-10_0-country-all_unverified-5-20...</td>\n",
       "    </tr>\n",
       "  </tbody>\n",
       "</table>\n",
       "</div>"
      ],
      "text/plain": [
       "         id  concrete_cement_colombia  concrete_cement_guatemala  \\\n",
       "0  7a24bd7e                  0.000255                   0.001458   \n",
       "1  7a2cf00c                  0.030975                   0.138384   \n",
       "2  7a3975e8                  0.000874                   0.000486   \n",
       "3  7a1d215e                  0.000390                   0.001031   \n",
       "4  7a42475e                  0.002462                   0.008615   \n",
       "\n",
       "   concrete_cement_st_lucia  healthy_metal_colombia  healthy_metal_guatemala  \\\n",
       "0                  0.000557                0.001196                 0.000611   \n",
       "1                  0.004366                0.445674                 0.178506   \n",
       "2                  0.002189                0.025555                 0.000669   \n",
       "3                  0.000511                0.003794                 0.000799   \n",
       "4                  0.002593                0.026376                 0.003182   \n",
       "\n",
       "   healthy_metal_st_lucia  incomplete_colombia  incomplete_st_lucia  \\\n",
       "0                0.976295             0.000176             0.000228   \n",
       "1                0.077426             0.027265             0.001400   \n",
       "2                0.955983             0.000497             0.000377   \n",
       "3                0.973295             0.000389             0.000270   \n",
       "4                0.889495             0.001332             0.000771   \n",
       "\n",
       "   irregular_metal_colombia  irregular_metal_guatemala  \\\n",
       "0                  0.000211                   0.000957   \n",
       "1                  0.043549                   0.012433   \n",
       "2                  0.006324                   0.000901   \n",
       "3                  0.001788                   0.001009   \n",
       "4                  0.001573                   0.002933   \n",
       "\n",
       "   irregular_metal_st_lucia  other_colombia  other_guatemala  other_st_lucia  \\\n",
       "0                  0.003597        0.000212         0.010743        0.003503   \n",
       "1                  0.004466        0.012422         0.021961        0.001173   \n",
       "2                  0.004304        0.000292         0.000301        0.001247   \n",
       "3                  0.004861        0.000395         0.003032        0.008436   \n",
       "4                  0.007225        0.000827         0.047511        0.005106   \n",
       "\n",
       "   model run    ttype                                                uid  \n",
       "0  rn152   0  country  stage-2-rn152-10_0-country-all_unverified-5-20...  \n",
       "1  rn152   0  country  stage-2-rn152-10_0-country-all_unverified-5-20...  \n",
       "2  rn152   0  country  stage-2-rn152-10_0-country-all_unverified-5-20...  \n",
       "3  rn152   0  country  stage-2-rn152-10_0-country-all_unverified-5-20...  \n",
       "4  rn152   0  country  stage-2-rn152-10_0-country-all_unverified-5-20...  "
      ]
     },
     "execution_count": 31,
     "metadata": {},
     "output_type": "execute_result"
    }
   ],
   "source": [
    "df_sl_c.head()"
   ]
  },
  {
   "cell_type": "code",
   "execution_count": 32,
   "metadata": {},
   "outputs": [
    {
     "data": {
      "text/html": [
       "<div>\n",
       "<style scoped>\n",
       "    .dataframe tbody tr th:only-of-type {\n",
       "        vertical-align: middle;\n",
       "    }\n",
       "\n",
       "    .dataframe tbody tr th {\n",
       "        vertical-align: top;\n",
       "    }\n",
       "\n",
       "    .dataframe thead th {\n",
       "        text-align: right;\n",
       "    }\n",
       "</style>\n",
       "<table border=\"1\" class=\"dataframe\">\n",
       "  <thead>\n",
       "    <tr style=\"text-align: right;\">\n",
       "      <th></th>\n",
       "      <th>id</th>\n",
       "      <th>concrete_cement</th>\n",
       "      <th>healthy_metal</th>\n",
       "      <th>incomplete</th>\n",
       "      <th>irregular_metal</th>\n",
       "      <th>other</th>\n",
       "      <th>model</th>\n",
       "      <th>run</th>\n",
       "      <th>ttype</th>\n",
       "      <th>uid</th>\n",
       "    </tr>\n",
       "  </thead>\n",
       "  <tbody>\n",
       "    <tr>\n",
       "      <td>0</td>\n",
       "      <td>7a24bd7e</td>\n",
       "      <td>0.011275</td>\n",
       "      <td>0.972013</td>\n",
       "      <td>0.003838</td>\n",
       "      <td>0.002410</td>\n",
       "      <td>0.010464</td>\n",
       "      <td>rn50</td>\n",
       "      <td>0</td>\n",
       "      <td>roof_material</td>\n",
       "      <td>stage-2-rn50-10_0-roof_material-all_unverified...</td>\n",
       "    </tr>\n",
       "    <tr>\n",
       "      <td>1</td>\n",
       "      <td>7a2cf00c</td>\n",
       "      <td>0.041988</td>\n",
       "      <td>0.882759</td>\n",
       "      <td>0.019981</td>\n",
       "      <td>0.024608</td>\n",
       "      <td>0.030664</td>\n",
       "      <td>rn50</td>\n",
       "      <td>0</td>\n",
       "      <td>roof_material</td>\n",
       "      <td>stage-2-rn50-10_0-roof_material-all_unverified...</td>\n",
       "    </tr>\n",
       "    <tr>\n",
       "      <td>2</td>\n",
       "      <td>7a3975e8</td>\n",
       "      <td>0.006911</td>\n",
       "      <td>0.934357</td>\n",
       "      <td>0.004743</td>\n",
       "      <td>0.049240</td>\n",
       "      <td>0.004749</td>\n",
       "      <td>rn50</td>\n",
       "      <td>0</td>\n",
       "      <td>roof_material</td>\n",
       "      <td>stage-2-rn50-10_0-roof_material-all_unverified...</td>\n",
       "    </tr>\n",
       "    <tr>\n",
       "      <td>3</td>\n",
       "      <td>7a1d215e</td>\n",
       "      <td>0.010473</td>\n",
       "      <td>0.892539</td>\n",
       "      <td>0.012409</td>\n",
       "      <td>0.072682</td>\n",
       "      <td>0.011897</td>\n",
       "      <td>rn50</td>\n",
       "      <td>0</td>\n",
       "      <td>roof_material</td>\n",
       "      <td>stage-2-rn50-10_0-roof_material-all_unverified...</td>\n",
       "    </tr>\n",
       "    <tr>\n",
       "      <td>4</td>\n",
       "      <td>7a42475e</td>\n",
       "      <td>0.076069</td>\n",
       "      <td>0.877610</td>\n",
       "      <td>0.006475</td>\n",
       "      <td>0.005844</td>\n",
       "      <td>0.034001</td>\n",
       "      <td>rn50</td>\n",
       "      <td>0</td>\n",
       "      <td>roof_material</td>\n",
       "      <td>stage-2-rn50-10_0-roof_material-all_unverified...</td>\n",
       "    </tr>\n",
       "  </tbody>\n",
       "</table>\n",
       "</div>"
      ],
      "text/plain": [
       "         id  concrete_cement  healthy_metal  incomplete  irregular_metal  \\\n",
       "0  7a24bd7e         0.011275       0.972013    0.003838         0.002410   \n",
       "1  7a2cf00c         0.041988       0.882759    0.019981         0.024608   \n",
       "2  7a3975e8         0.006911       0.934357    0.004743         0.049240   \n",
       "3  7a1d215e         0.010473       0.892539    0.012409         0.072682   \n",
       "4  7a42475e         0.076069       0.877610    0.006475         0.005844   \n",
       "\n",
       "      other model run          ttype  \\\n",
       "0  0.010464  rn50   0  roof_material   \n",
       "1  0.030664  rn50   0  roof_material   \n",
       "2  0.004749  rn50   0  roof_material   \n",
       "3  0.011897  rn50   0  roof_material   \n",
       "4  0.034001  rn50   0  roof_material   \n",
       "\n",
       "                                                 uid  \n",
       "0  stage-2-rn50-10_0-roof_material-all_unverified...  \n",
       "1  stage-2-rn50-10_0-roof_material-all_unverified...  \n",
       "2  stage-2-rn50-10_0-roof_material-all_unverified...  \n",
       "3  stage-2-rn50-10_0-roof_material-all_unverified...  \n",
       "4  stage-2-rn50-10_0-roof_material-all_unverified...  "
      ]
     },
     "execution_count": 32,
     "metadata": {},
     "output_type": "execute_result"
    }
   ],
   "source": [
    "df_sl_rm.head()"
   ]
  },
  {
   "cell_type": "code",
   "execution_count": 14,
   "metadata": {},
   "outputs": [],
   "source": [
    "def get_all_model_type_runs(model, ttype, runs):\n",
    "    df = df_sl_metal.loc[(df_sl_metal['model'] == model) & (df_sl_metal['ttype']== ttype)& df_sl_metal['run'].isin(runs)]\n",
    "    df=df[['healthy_metal','irregular_metal']]\n",
    "    classes=df.idxmax(axis=1)\n",
    "    df['roof_material']=classes\n",
    "    return df"
   ]
  },
  {
   "cell_type": "code",
   "execution_count": 15,
   "metadata": {},
   "outputs": [],
   "source": [
    "def get_all_model_type(model, ttype):\n",
    "    df = df_sl_metal.loc[(df_sl_metal['model'] == model) & (df_sl_metal['ttype'])]\n",
    "    df=df[['healthy_metal','irregular_metal']]\n",
    "    classes=df.idxmax(axis=1)\n",
    "    df['roof_material']=classes\n",
    "    return df"
   ]
  },
  {
   "cell_type": "code",
   "execution_count": 16,
   "metadata": {},
   "outputs": [],
   "source": [
    "def print_lengths(ls):\n",
    "    for l in ls:\n",
    "        print(len(l))"
   ]
  },
  {
   "cell_type": "code",
   "execution_count": 17,
   "metadata": {},
   "outputs": [],
   "source": [
    "def plot_df_types(df1, df2, df3):\n",
    "    ax = df1.roof_material.value_counts().plot(kind='bar', color='blue', width=.75, legend=True, alpha=0.2)\n",
    "    ax1 = df2.roof_material.value_counts().plot(kind='bar', color='green', width=.5, legend=True, alpha=0.2)\n",
    "    df3.roof_material.value_counts().plot(kind='bar', color='maroon', width=.25, alpha=0.5, legend=True)"
   ]
  },
  {
   "cell_type": "code",
   "execution_count": 18,
   "metadata": {},
   "outputs": [],
   "source": [
    "df_binary_rn50 = get_all_model_type('rn50', 'binary')\n",
    "df_region_rn50 = get_all_model_type('rn50', 'region')\n",
    "df_country_rn50 = get_all_model_type('rn50', 'country')"
   ]
  },
  {
   "cell_type": "code",
   "execution_count": 19,
   "metadata": {},
   "outputs": [
    {
     "data": {
      "image/png": "[encoded data removed]",
      "text/plain": [
       "<Figure size 432x288 with 1 Axes>"
      ]
     },
     "metadata": {
      "needs_background": "light"
     },
     "output_type": "display_data"
    }
   ],
   "source": [
    "plot_df_types(df_binary_rn50, df_region_rn50, df_country_rn50)"
   ]
  },
  {
   "cell_type": "code",
   "execution_count": 20,
   "metadata": {},
   "outputs": [
    {
     "data": {
      "text/html": [
       "<div>\n",
       "<style scoped>\n",
       "    .dataframe tbody tr th:only-of-type {\n",
       "        vertical-align: middle;\n",
       "    }\n",
       "\n",
       "    .dataframe tbody tr th {\n",
       "        vertical-align: top;\n",
       "    }\n",
       "\n",
       "    .dataframe thead th {\n",
       "        text-align: right;\n",
       "    }\n",
       "</style>\n",
       "<table border=\"1\" class=\"dataframe\">\n",
       "  <thead>\n",
       "    <tr style=\"text-align: right;\">\n",
       "      <th></th>\n",
       "      <th>healthy_metal</th>\n",
       "      <th>irregular_metal</th>\n",
       "      <th>roof_material</th>\n",
       "    </tr>\n",
       "  </thead>\n",
       "  <tbody>\n",
       "    <tr>\n",
       "      <td>0</td>\n",
       "      <td>0.985315</td>\n",
       "      <td>0.014685</td>\n",
       "      <td>healthy_metal</td>\n",
       "    </tr>\n",
       "    <tr>\n",
       "      <td>1</td>\n",
       "      <td>0.921417</td>\n",
       "      <td>0.078583</td>\n",
       "      <td>healthy_metal</td>\n",
       "    </tr>\n",
       "    <tr>\n",
       "      <td>2</td>\n",
       "      <td>0.991036</td>\n",
       "      <td>0.008964</td>\n",
       "      <td>healthy_metal</td>\n",
       "    </tr>\n",
       "    <tr>\n",
       "      <td>3</td>\n",
       "      <td>0.971268</td>\n",
       "      <td>0.028732</td>\n",
       "      <td>healthy_metal</td>\n",
       "    </tr>\n",
       "    <tr>\n",
       "      <td>4</td>\n",
       "      <td>0.978127</td>\n",
       "      <td>0.021873</td>\n",
       "      <td>healthy_metal</td>\n",
       "    </tr>\n",
       "  </tbody>\n",
       "</table>\n",
       "</div>"
      ],
      "text/plain": [
       "   healthy_metal  irregular_metal  roof_material\n",
       "0       0.985315         0.014685  healthy_metal\n",
       "1       0.921417         0.078583  healthy_metal\n",
       "2       0.991036         0.008964  healthy_metal\n",
       "3       0.971268         0.028732  healthy_metal\n",
       "4       0.978127         0.021873  healthy_metal"
      ]
     },
     "execution_count": 20,
     "metadata": {},
     "output_type": "execute_result"
    }
   ],
   "source": [
    "df_binary_rn50.head()"
   ]
  },
  {
   "cell_type": "code",
   "execution_count": 21,
   "metadata": {},
   "outputs": [
    {
     "name": "stdout",
     "output_type": "stream",
     "text": [
      "89232\n",
      "89232\n",
      "89232\n"
     ]
    }
   ],
   "source": [
    "print_lengths([df_binary_rn50, df_region_rn50, df_country_rn50])"
   ]
  },
  {
   "cell_type": "code",
   "execution_count": 22,
   "metadata": {},
   "outputs": [],
   "source": [
    "df_binary_rn152 = get_all_model_type('rn152', 'binary')\n",
    "df_region_rn152 = get_all_model_type('rn152', 'region')\n",
    "df_country_rn152 = get_all_model_type('rn152', 'country')"
   ]
  },
  {
   "cell_type": "code",
   "execution_count": 23,
   "metadata": {},
   "outputs": [
    {
     "data": {
      "image/png": "[encoded data removed]",
      "text/plain": [
       "<Figure size 432x288 with 1 Axes>"
      ]
     },
     "metadata": {
      "needs_background": "light"
     },
     "output_type": "display_data"
    }
   ],
   "source": [
    "plot_df_types(df_binary_rn152, df_region_rn152, df_country_rn152)"
   ]
  },
  {
   "cell_type": "code",
   "execution_count": 24,
   "metadata": {},
   "outputs": [
    {
     "name": "stdout",
     "output_type": "stream",
     "text": [
      "66924\n",
      "66924\n",
      "66924\n"
     ]
    }
   ],
   "source": [
    "print_lengths([df_binary_rn152, df_region_rn152, df_country_rn152])"
   ]
  },
  {
   "cell_type": "code",
   "execution_count": 25,
   "metadata": {},
   "outputs": [],
   "source": [
    "df_binary_dn121 = get_all_model_type('dn121', 'binary')\n",
    "df_region_dn121 = get_all_model_type('dn121', 'region')\n",
    "df_country_dn121 = get_all_model_type('dn121', 'country')"
   ]
  },
  {
   "cell_type": "code",
   "execution_count": 26,
   "metadata": {},
   "outputs": [
    {
     "data": {
      "image/png": "[encoded data removed]",
      "text/plain": [
       "<Figure size 432x288 with 1 Axes>"
      ]
     },
     "metadata": {
      "needs_background": "light"
     },
     "output_type": "display_data"
    }
   ],
   "source": [
    "plot_df_types(df_binary_dn121, df_region_dn121, df_country_dn121)"
   ]
  },
  {
   "cell_type": "code",
   "execution_count": 27,
   "metadata": {},
   "outputs": [
    {
     "name": "stdout",
     "output_type": "stream",
     "text": [
      "66924\n",
      "66924\n",
      "66924\n"
     ]
    }
   ],
   "source": [
    "print_lengths([df_binary_dn121, df_region_dn121, df_country_dn121])"
   ]
  },
  {
   "cell_type": "code",
   "execution_count": 28,
   "metadata": {},
   "outputs": [],
   "source": [
    "#### Healthy metal"
   ]
  },
  {
   "cell_type": "code",
   "execution_count": 29,
   "metadata": {},
   "outputs": [],
   "source": [
    "df_hm=df_sl_metal[['id','healthy_metal']]"
   ]
  },
  {
   "cell_type": "code",
   "execution_count": 30,
   "metadata": {},
   "outputs": [
    {
     "data": {
      "text/plain": [
       "223080"
      ]
     },
     "execution_count": 30,
     "metadata": {},
     "output_type": "execute_result"
    }
   ],
   "source": [
    "len(df_hm)"
   ]
  },
  {
   "cell_type": "code",
   "execution_count": 31,
   "metadata": {},
   "outputs": [],
   "source": [
    "result = df_hm.groupby(['id'], as_index=False).agg(\n",
    "                     ['mean', 'std'])"
   ]
  },
  {
   "cell_type": "code",
   "execution_count": 32,
   "metadata": {},
   "outputs": [
    {
     "data": {
      "text/plain": [
       "7436"
      ]
     },
     "execution_count": 32,
     "metadata": {},
     "output_type": "execute_result"
    }
   ],
   "source": [
    "len(result)"
   ]
  },
  {
   "cell_type": "code",
   "execution_count": 33,
   "metadata": {},
   "outputs": [
    {
     "data": {
      "text/html": [
       "<div>\n",
       "<style scoped>\n",
       "    .dataframe tbody tr th:only-of-type {\n",
       "        vertical-align: middle;\n",
       "    }\n",
       "\n",
       "    .dataframe tbody tr th {\n",
       "        vertical-align: top;\n",
       "    }\n",
       "\n",
       "    .dataframe thead tr th {\n",
       "        text-align: left;\n",
       "    }\n",
       "\n",
       "    .dataframe thead tr:last-of-type th {\n",
       "        text-align: right;\n",
       "    }\n",
       "</style>\n",
       "<table border=\"1\" class=\"dataframe\">\n",
       "  <thead>\n",
       "    <tr>\n",
       "      <th></th>\n",
       "      <th colspan=\"2\" halign=\"left\">healthy_metal</th>\n",
       "    </tr>\n",
       "    <tr>\n",
       "      <th></th>\n",
       "      <th>mean</th>\n",
       "      <th>std</th>\n",
       "    </tr>\n",
       "    <tr>\n",
       "      <th>id</th>\n",
       "      <th></th>\n",
       "      <th></th>\n",
       "    </tr>\n",
       "  </thead>\n",
       "  <tbody>\n",
       "    <tr>\n",
       "      <td>7a1c5026</td>\n",
       "      <td>0.884546</td>\n",
       "      <td>0.136252</td>\n",
       "    </tr>\n",
       "    <tr>\n",
       "      <td>7a1c50f8</td>\n",
       "      <td>0.778770</td>\n",
       "      <td>0.204084</td>\n",
       "    </tr>\n",
       "    <tr>\n",
       "      <td>7a1c53c8</td>\n",
       "      <td>0.148015</td>\n",
       "      <td>0.119596</td>\n",
       "    </tr>\n",
       "    <tr>\n",
       "      <td>7a1c5a6c</td>\n",
       "      <td>0.670838</td>\n",
       "      <td>0.228117</td>\n",
       "    </tr>\n",
       "    <tr>\n",
       "      <td>7a1c5b2a</td>\n",
       "      <td>0.979686</td>\n",
       "      <td>0.027731</td>\n",
       "    </tr>\n",
       "  </tbody>\n",
       "</table>\n",
       "</div>"
      ],
      "text/plain": [
       "         healthy_metal          \n",
       "                  mean       std\n",
       "id                              \n",
       "7a1c5026      0.884546  0.136252\n",
       "7a1c50f8      0.778770  0.204084\n",
       "7a1c53c8      0.148015  0.119596\n",
       "7a1c5a6c      0.670838  0.228117\n",
       "7a1c5b2a      0.979686  0.027731"
      ]
     },
     "execution_count": 33,
     "metadata": {},
     "output_type": "execute_result"
    }
   ],
   "source": [
    "result.head()"
   ]
  },
  {
   "cell_type": "markdown",
   "metadata": {},
   "source": [
    "Sort by tuple"
   ]
  },
  {
   "cell_type": "code",
   "execution_count": 34,
   "metadata": {},
   "outputs": [
    {
     "data": {
      "text/html": [
       "<div>\n",
       "<style scoped>\n",
       "    .dataframe tbody tr th:only-of-type {\n",
       "        vertical-align: middle;\n",
       "    }\n",
       "\n",
       "    .dataframe tbody tr th {\n",
       "        vertical-align: top;\n",
       "    }\n",
       "\n",
       "    .dataframe thead tr th {\n",
       "        text-align: left;\n",
       "    }\n",
       "\n",
       "    .dataframe thead tr:last-of-type th {\n",
       "        text-align: right;\n",
       "    }\n",
       "</style>\n",
       "<table border=\"1\" class=\"dataframe\">\n",
       "  <thead>\n",
       "    <tr>\n",
       "      <th></th>\n",
       "      <th colspan=\"2\" halign=\"left\">healthy_metal</th>\n",
       "    </tr>\n",
       "    <tr>\n",
       "      <th></th>\n",
       "      <th>mean</th>\n",
       "      <th>std</th>\n",
       "    </tr>\n",
       "    <tr>\n",
       "      <th>id</th>\n",
       "      <th></th>\n",
       "      <th></th>\n",
       "    </tr>\n",
       "  </thead>\n",
       "  <tbody>\n",
       "    <tr>\n",
       "      <td>7a2f9d52</td>\n",
       "      <td>0.370079</td>\n",
       "      <td>0.335969</td>\n",
       "    </tr>\n",
       "    <tr>\n",
       "      <td>7a241f2c</td>\n",
       "      <td>0.530109</td>\n",
       "      <td>0.335768</td>\n",
       "    </tr>\n",
       "    <tr>\n",
       "      <td>7a3bf48a</td>\n",
       "      <td>0.508731</td>\n",
       "      <td>0.334071</td>\n",
       "    </tr>\n",
       "    <tr>\n",
       "      <td>7a22d43c</td>\n",
       "      <td>0.586963</td>\n",
       "      <td>0.332094</td>\n",
       "    </tr>\n",
       "    <tr>\n",
       "      <td>7a3ce958</td>\n",
       "      <td>0.498415</td>\n",
       "      <td>0.329622</td>\n",
       "    </tr>\n",
       "  </tbody>\n",
       "</table>\n",
       "</div>"
      ],
      "text/plain": [
       "         healthy_metal          \n",
       "                  mean       std\n",
       "id                              \n",
       "7a2f9d52      0.370079  0.335969\n",
       "7a241f2c      0.530109  0.335768\n",
       "7a3bf48a      0.508731  0.334071\n",
       "7a22d43c      0.586963  0.332094\n",
       "7a3ce958      0.498415  0.329622"
      ]
     },
     "execution_count": 34,
     "metadata": {},
     "output_type": "execute_result"
    }
   ],
   "source": [
    "result.sort_values(by=('healthy_metal','std'),ascending=False).head()"
   ]
  },
  {
   "cell_type": "markdown",
   "metadata": {},
   "source": [
    "Or drop header"
   ]
  },
  {
   "cell_type": "code",
   "execution_count": 35,
   "metadata": {},
   "outputs": [],
   "source": [
    "result.columns = result.columns.droplevel(0)"
   ]
  },
  {
   "cell_type": "code",
   "execution_count": 36,
   "metadata": {},
   "outputs": [
    {
     "data": {
      "text/html": [
       "<div>\n",
       "<style scoped>\n",
       "    .dataframe tbody tr th:only-of-type {\n",
       "        vertical-align: middle;\n",
       "    }\n",
       "\n",
       "    .dataframe tbody tr th {\n",
       "        vertical-align: top;\n",
       "    }\n",
       "\n",
       "    .dataframe thead th {\n",
       "        text-align: right;\n",
       "    }\n",
       "</style>\n",
       "<table border=\"1\" class=\"dataframe\">\n",
       "  <thead>\n",
       "    <tr style=\"text-align: right;\">\n",
       "      <th></th>\n",
       "      <th>mean</th>\n",
       "      <th>std</th>\n",
       "    </tr>\n",
       "    <tr>\n",
       "      <th>id</th>\n",
       "      <th></th>\n",
       "      <th></th>\n",
       "    </tr>\n",
       "  </thead>\n",
       "  <tbody>\n",
       "    <tr>\n",
       "      <td>7a1c5026</td>\n",
       "      <td>0.884546</td>\n",
       "      <td>0.136252</td>\n",
       "    </tr>\n",
       "    <tr>\n",
       "      <td>7a1c50f8</td>\n",
       "      <td>0.778770</td>\n",
       "      <td>0.204084</td>\n",
       "    </tr>\n",
       "    <tr>\n",
       "      <td>7a1c53c8</td>\n",
       "      <td>0.148015</td>\n",
       "      <td>0.119596</td>\n",
       "    </tr>\n",
       "    <tr>\n",
       "      <td>7a1c5a6c</td>\n",
       "      <td>0.670838</td>\n",
       "      <td>0.228117</td>\n",
       "    </tr>\n",
       "    <tr>\n",
       "      <td>7a1c5b2a</td>\n",
       "      <td>0.979686</td>\n",
       "      <td>0.027731</td>\n",
       "    </tr>\n",
       "  </tbody>\n",
       "</table>\n",
       "</div>"
      ],
      "text/plain": [
       "              mean       std\n",
       "id                          \n",
       "7a1c5026  0.884546  0.136252\n",
       "7a1c50f8  0.778770  0.204084\n",
       "7a1c53c8  0.148015  0.119596\n",
       "7a1c5a6c  0.670838  0.228117\n",
       "7a1c5b2a  0.979686  0.027731"
      ]
     },
     "execution_count": 36,
     "metadata": {},
     "output_type": "execute_result"
    }
   ],
   "source": [
    "result.head()"
   ]
  },
  {
   "cell_type": "code",
   "execution_count": 37,
   "metadata": {},
   "outputs": [],
   "source": [
    "result=result.sort_values(by=('std'),ascending=False).reset_index()"
   ]
  },
  {
   "cell_type": "code",
   "execution_count": 38,
   "metadata": {},
   "outputs": [
    {
     "data": {
      "text/html": [
       "<div>\n",
       "<style scoped>\n",
       "    .dataframe tbody tr th:only-of-type {\n",
       "        vertical-align: middle;\n",
       "    }\n",
       "\n",
       "    .dataframe tbody tr th {\n",
       "        vertical-align: top;\n",
       "    }\n",
       "\n",
       "    .dataframe thead th {\n",
       "        text-align: right;\n",
       "    }\n",
       "</style>\n",
       "<table border=\"1\" class=\"dataframe\">\n",
       "  <thead>\n",
       "    <tr style=\"text-align: right;\">\n",
       "      <th></th>\n",
       "      <th>id</th>\n",
       "      <th>mean</th>\n",
       "      <th>std</th>\n",
       "    </tr>\n",
       "  </thead>\n",
       "  <tbody>\n",
       "    <tr>\n",
       "      <td>0</td>\n",
       "      <td>7a2f9d52</td>\n",
       "      <td>0.370079</td>\n",
       "      <td>0.335969</td>\n",
       "    </tr>\n",
       "    <tr>\n",
       "      <td>1</td>\n",
       "      <td>7a241f2c</td>\n",
       "      <td>0.530109</td>\n",
       "      <td>0.335768</td>\n",
       "    </tr>\n",
       "    <tr>\n",
       "      <td>2</td>\n",
       "      <td>7a3bf48a</td>\n",
       "      <td>0.508731</td>\n",
       "      <td>0.334071</td>\n",
       "    </tr>\n",
       "    <tr>\n",
       "      <td>3</td>\n",
       "      <td>7a22d43c</td>\n",
       "      <td>0.586963</td>\n",
       "      <td>0.332094</td>\n",
       "    </tr>\n",
       "    <tr>\n",
       "      <td>4</td>\n",
       "      <td>7a3ce958</td>\n",
       "      <td>0.498415</td>\n",
       "      <td>0.329622</td>\n",
       "    </tr>\n",
       "  </tbody>\n",
       "</table>\n",
       "</div>"
      ],
      "text/plain": [
       "         id      mean       std\n",
       "0  7a2f9d52  0.370079  0.335969\n",
       "1  7a241f2c  0.530109  0.335768\n",
       "2  7a3bf48a  0.508731  0.334071\n",
       "3  7a22d43c  0.586963  0.332094\n",
       "4  7a3ce958  0.498415  0.329622"
      ]
     },
     "execution_count": 38,
     "metadata": {},
     "output_type": "execute_result"
    }
   ],
   "source": [
    "result.head()"
   ]
  },
  {
   "cell_type": "code",
   "execution_count": 39,
   "metadata": {},
   "outputs": [
    {
     "data": {
      "text/plain": [
       "<matplotlib.axes._subplots.AxesSubplot at 0x7f59ee88a3d0>"
      ]
     },
     "execution_count": 39,
     "metadata": {},
     "output_type": "execute_result"
    },
    {
     "data": {
      "image/png": "[encoded data removed]",
      "text/plain": [
       "<Figure size 432x288 with 1 Axes>"
      ]
     },
     "metadata": {
      "needs_background": "light"
     },
     "output_type": "display_data"
    }
   ],
   "source": [
    "result.plot.hist(bins=100, alpha=0.3)"
   ]
  },
  {
   "cell_type": "markdown",
   "metadata": {},
   "source": [
    "Try as first pass using 0.8 mean as cutoff"
   ]
  },
  {
   "cell_type": "code",
   "execution_count": 40,
   "metadata": {},
   "outputs": [],
   "source": [
    "hm_10pct_stddev=result.loc[result['std'] <= 0.1]\n",
    "hm_20pct_stddev=result.loc[result['std'] <= 0.2]"
   ]
  },
  {
   "cell_type": "code",
   "execution_count": 41,
   "metadata": {},
   "outputs": [],
   "source": [
    "hm_80pct_plus=result.loc[result['mean'] >= 0.8]\n",
    "hm_70pct_plus=result.loc[result['mean'] >= 0.7]"
   ]
  },
  {
   "cell_type": "code",
   "execution_count": 42,
   "metadata": {},
   "outputs": [
    {
     "data": {
      "text/plain": [
       "0.4854760623991393"
      ]
     },
     "execution_count": 42,
     "metadata": {},
     "output_type": "execute_result"
    }
   ],
   "source": [
    "len(hm_80pct_plus)/len(result)"
   ]
  },
  {
   "cell_type": "markdown",
   "metadata": {},
   "source": [
    "#### Irregular metal"
   ]
  },
  {
   "cell_type": "code",
   "execution_count": 43,
   "metadata": {},
   "outputs": [],
   "source": [
    "df_im=df_sl_metal[['id','irregular_metal']]"
   ]
  },
  {
   "cell_type": "code",
   "execution_count": 44,
   "metadata": {},
   "outputs": [],
   "source": [
    "result_im = df_im.groupby(['id'], as_index=False).agg(\n",
    "                     ['mean', 'std'])"
   ]
  },
  {
   "cell_type": "code",
   "execution_count": 45,
   "metadata": {},
   "outputs": [],
   "source": [
    "result_im.columns = result_im.columns.droplevel(0)"
   ]
  },
  {
   "cell_type": "code",
   "execution_count": 46,
   "metadata": {},
   "outputs": [
    {
     "data": {
      "text/plain": [
       "<matplotlib.axes._subplots.AxesSubplot at 0x7f59ee5d68d0>"
      ]
     },
     "execution_count": 46,
     "metadata": {},
     "output_type": "execute_result"
    },
    {
     "data": {
      "image/png": "[encoded data removed]",
      "text/plain": [
       "<Figure size 432x288 with 1 Axes>"
      ]
     },
     "metadata": {
      "needs_background": "light"
     },
     "output_type": "display_data"
    }
   ],
   "source": [
    "result_im.plot.hist(bins=100, alpha=0.3)"
   ]
  },
  {
   "cell_type": "code",
   "execution_count": 47,
   "metadata": {},
   "outputs": [],
   "source": [
    "im_10pct_stddev=result_im.loc[result_im['std'] <= 0.1]\n",
    "im_20pct_stddev=result_im.loc[result_im['std'] <= 0.2]"
   ]
  },
  {
   "cell_type": "code",
   "execution_count": 48,
   "metadata": {},
   "outputs": [],
   "source": [
    "im_80pct_plus=result_im.loc[result_im['mean'] >= 0.8]\n",
    "im_70pct_plus=result_im.loc[result_im['mean'] >= 0.7]"
   ]
  },
  {
   "cell_type": "code",
   "execution_count": 49,
   "metadata": {},
   "outputs": [
    {
     "data": {
      "text/plain": [
       "0.013044647660032275"
      ]
     },
     "execution_count": 49,
     "metadata": {},
     "output_type": "execute_result"
    }
   ],
   "source": [
    "len(im_80pct_plus)/len(result_im)"
   ]
  },
  {
   "cell_type": "markdown",
   "metadata": {},
   "source": [
    "#### Save these as 'silver' validated"
   ]
  },
  {
   "cell_type": "code",
   "execution_count": 50,
   "metadata": {},
   "outputs": [
    {
     "name": "stderr",
     "output_type": "stream",
     "text": [
      "/home/walle/miniconda3/envs/fastai-dev/lib/python3.7/site-packages/ipykernel_launcher.py:1: SettingWithCopyWarning: \n",
      "A value is trying to be set on a copy of a slice from a DataFrame.\n",
      "Try using .loc[row_indexer,col_indexer] = value instead\n",
      "\n",
      "See the caveats in the documentation: http://pandas.pydata.org/pandas-docs/stable/user_guide/indexing.html#returning-a-view-versus-a-copy\n",
      "  \"\"\"Entry point for launching an IPython kernel.\n",
      "/home/walle/miniconda3/envs/fastai-dev/lib/python3.7/site-packages/ipykernel_launcher.py:2: SettingWithCopyWarning: \n",
      "A value is trying to be set on a copy of a slice from a DataFrame.\n",
      "Try using .loc[row_indexer,col_indexer] = value instead\n",
      "\n",
      "See the caveats in the documentation: http://pandas.pydata.org/pandas-docs/stable/user_guide/indexing.html#returning-a-view-versus-a-copy\n",
      "  \n",
      "/home/walle/miniconda3/envs/fastai-dev/lib/python3.7/site-packages/ipykernel_launcher.py:4: SettingWithCopyWarning: \n",
      "A value is trying to be set on a copy of a slice from a DataFrame.\n",
      "Try using .loc[row_indexer,col_indexer] = value instead\n",
      "\n",
      "See the caveats in the documentation: http://pandas.pydata.org/pandas-docs/stable/user_guide/indexing.html#returning-a-view-versus-a-copy\n",
      "  after removing the cwd from sys.path.\n",
      "/home/walle/miniconda3/envs/fastai-dev/lib/python3.7/site-packages/ipykernel_launcher.py:5: SettingWithCopyWarning: \n",
      "A value is trying to be set on a copy of a slice from a DataFrame.\n",
      "Try using .loc[row_indexer,col_indexer] = value instead\n",
      "\n",
      "See the caveats in the documentation: http://pandas.pydata.org/pandas-docs/stable/user_guide/indexing.html#returning-a-view-versus-a-copy\n",
      "  \"\"\"\n"
     ]
    }
   ],
   "source": [
    "im_10pct_stddev['roof_type']= 'irregular_metal'\n",
    "im_20pct_stddev['roof_type']= 'irregular_metal'\n",
    "\n",
    "hm_10pct_stddev['roof_type']= 'healthy_metal'\n",
    "hm_20pct_stddev['roof_type']= 'healthy_metal'"
   ]
  },
  {
   "cell_type": "code",
   "execution_count": 51,
   "metadata": {},
   "outputs": [
    {
     "name": "stderr",
     "output_type": "stream",
     "text": [
      "/home/walle/miniconda3/envs/fastai-dev/lib/python3.7/site-packages/ipykernel_launcher.py:1: SettingWithCopyWarning: \n",
      "A value is trying to be set on a copy of a slice from a DataFrame.\n",
      "Try using .loc[row_indexer,col_indexer] = value instead\n",
      "\n",
      "See the caveats in the documentation: http://pandas.pydata.org/pandas-docs/stable/user_guide/indexing.html#returning-a-view-versus-a-copy\n",
      "  \"\"\"Entry point for launching an IPython kernel.\n",
      "/home/walle/miniconda3/envs/fastai-dev/lib/python3.7/site-packages/ipykernel_launcher.py:2: SettingWithCopyWarning: \n",
      "A value is trying to be set on a copy of a slice from a DataFrame.\n",
      "Try using .loc[row_indexer,col_indexer] = value instead\n",
      "\n",
      "See the caveats in the documentation: http://pandas.pydata.org/pandas-docs/stable/user_guide/indexing.html#returning-a-view-versus-a-copy\n",
      "  \n"
     ]
    }
   ],
   "source": [
    "im_80pct_plus['roof_type']= 'irregular_metal'\n",
    "hm_80pct_plus['roof_type']= 'healthy_metal'"
   ]
  },
  {
   "cell_type": "code",
   "execution_count": 52,
   "metadata": {},
   "outputs": [
    {
     "name": "stderr",
     "output_type": "stream",
     "text": [
      "/home/walle/miniconda3/envs/fastai-dev/lib/python3.7/site-packages/ipykernel_launcher.py:1: SettingWithCopyWarning: \n",
      "A value is trying to be set on a copy of a slice from a DataFrame.\n",
      "Try using .loc[row_indexer,col_indexer] = value instead\n",
      "\n",
      "See the caveats in the documentation: http://pandas.pydata.org/pandas-docs/stable/user_guide/indexing.html#returning-a-view-versus-a-copy\n",
      "  \"\"\"Entry point for launching an IPython kernel.\n",
      "/home/walle/miniconda3/envs/fastai-dev/lib/python3.7/site-packages/ipykernel_launcher.py:2: SettingWithCopyWarning: \n",
      "A value is trying to be set on a copy of a slice from a DataFrame.\n",
      "Try using .loc[row_indexer,col_indexer] = value instead\n",
      "\n",
      "See the caveats in the documentation: http://pandas.pydata.org/pandas-docs/stable/user_guide/indexing.html#returning-a-view-versus-a-copy\n",
      "  \n"
     ]
    }
   ],
   "source": [
    "im_70pct_plus['roof_type']= 'irregular_metal'\n",
    "hm_70pct_plus['roof_type']= 'healthy_metal'"
   ]
  },
  {
   "cell_type": "code",
   "execution_count": 53,
   "metadata": {},
   "outputs": [
    {
     "data": {
      "text/html": [
       "<div>\n",
       "<style scoped>\n",
       "    .dataframe tbody tr th:only-of-type {\n",
       "        vertical-align: middle;\n",
       "    }\n",
       "\n",
       "    .dataframe tbody tr th {\n",
       "        vertical-align: top;\n",
       "    }\n",
       "\n",
       "    .dataframe thead th {\n",
       "        text-align: right;\n",
       "    }\n",
       "</style>\n",
       "<table border=\"1\" class=\"dataframe\">\n",
       "  <thead>\n",
       "    <tr style=\"text-align: right;\">\n",
       "      <th></th>\n",
       "      <th>mean</th>\n",
       "      <th>std</th>\n",
       "      <th>roof_type</th>\n",
       "    </tr>\n",
       "    <tr>\n",
       "      <th>id</th>\n",
       "      <th></th>\n",
       "      <th></th>\n",
       "      <th></th>\n",
       "    </tr>\n",
       "  </thead>\n",
       "  <tbody>\n",
       "    <tr>\n",
       "      <td>7a1cb3f4</td>\n",
       "      <td>0.824388</td>\n",
       "      <td>0.182925</td>\n",
       "      <td>irregular_metal</td>\n",
       "    </tr>\n",
       "    <tr>\n",
       "      <td>7a1d17fe</td>\n",
       "      <td>0.809232</td>\n",
       "      <td>0.115739</td>\n",
       "      <td>irregular_metal</td>\n",
       "    </tr>\n",
       "    <tr>\n",
       "      <td>7a1d9f94</td>\n",
       "      <td>0.827946</td>\n",
       "      <td>0.134827</td>\n",
       "      <td>irregular_metal</td>\n",
       "    </tr>\n",
       "    <tr>\n",
       "      <td>7a1d9ff8</td>\n",
       "      <td>0.865371</td>\n",
       "      <td>0.104539</td>\n",
       "      <td>irregular_metal</td>\n",
       "    </tr>\n",
       "    <tr>\n",
       "      <td>7a1de86e</td>\n",
       "      <td>0.847497</td>\n",
       "      <td>0.144340</td>\n",
       "      <td>irregular_metal</td>\n",
       "    </tr>\n",
       "  </tbody>\n",
       "</table>\n",
       "</div>"
      ],
      "text/plain": [
       "              mean       std        roof_type\n",
       "id                                           \n",
       "7a1cb3f4  0.824388  0.182925  irregular_metal\n",
       "7a1d17fe  0.809232  0.115739  irregular_metal\n",
       "7a1d9f94  0.827946  0.134827  irregular_metal\n",
       "7a1d9ff8  0.865371  0.104539  irregular_metal\n",
       "7a1de86e  0.847497  0.144340  irregular_metal"
      ]
     },
     "execution_count": 53,
     "metadata": {},
     "output_type": "execute_result"
    }
   ],
   "source": [
    "im_80pct_plus.head()"
   ]
  },
  {
   "cell_type": "code",
   "execution_count": 54,
   "metadata": {},
   "outputs": [
    {
     "name": "stderr",
     "output_type": "stream",
     "text": [
      "/home/walle/miniconda3/envs/fastai-dev/lib/python3.7/site-packages/pandas/core/frame.py:4102: SettingWithCopyWarning: \n",
      "A value is trying to be set on a copy of a slice from a DataFrame\n",
      "\n",
      "See the caveats in the documentation: http://pandas.pydata.org/pandas-docs/stable/user_guide/indexing.html#returning-a-view-versus-a-copy\n",
      "  errors=errors,\n"
     ]
    }
   ],
   "source": [
    "im_80pct_plus.drop(columns=['mean','std'],inplace=True)\n",
    "hm_80pct_plus.drop(columns=['mean','std'],inplace=True)\n",
    "im_70pct_plus.drop(columns=['mean','std'],inplace=True)\n",
    "hm_70pct_plus.drop(columns=['mean','std'],inplace=True)\n",
    "\n",
    "im_10pct_stddev.drop(columns=['mean','std'],inplace=True)\n",
    "im_20pct_stddev.drop(columns=['mean','std'],inplace=True)\n",
    "hm_10pct_stddev.drop(columns=['mean','std'],inplace=True)\n",
    "hm_20pct_stddev.drop(columns=['mean','std'],inplace=True)"
   ]
  },
  {
   "cell_type": "code",
   "execution_count": 55,
   "metadata": {},
   "outputs": [
    {
     "name": "stderr",
     "output_type": "stream",
     "text": [
      "/home/walle/miniconda3/envs/fastai-dev/lib/python3.7/site-packages/pandas/core/frame.py:7123: FutureWarning: Sorting because non-concatenation axis is not aligned. A future version\n",
      "of pandas will change to not sort by default.\n",
      "\n",
      "To accept the future behavior, pass 'sort=False'.\n",
      "\n",
      "To retain the current behavior and silence the warning, pass 'sort=True'.\n",
      "\n",
      "  sort=sort,\n"
     ]
    }
   ],
   "source": [
    "silver_val_80pct_rooftypes=im_80pct_plus.append(hm_80pct_plus).reset_index()\n",
    "silver_val_70pct_rooftypes=im_70pct_plus.append(hm_70pct_plus).reset_index()\n",
    "\n",
    "silver_val_10pct_std_rooftypes=im_10pct_stddev.append(hm_10pct_stddev).reset_index()\n",
    "silver_val_20pct_std_rooftypes=im_20pct_stddev.append(hm_20pct_stddev).reset_index()"
   ]
  },
  {
   "cell_type": "code",
   "execution_count": 56,
   "metadata": {},
   "outputs": [],
   "source": [
    "silver_val_80pct_rooftypes = silver_val_80pct_rooftypes.rename(columns={'index': 'id', 'id': 'drop'})\n",
    "silver_val_70pct_rooftypes = silver_val_70pct_rooftypes.rename(columns={'index': 'id', 'id': 'drop'})\n",
    "\n",
    "silver_val_10pct_std_rooftypes=silver_val_10pct_std_rooftypes.rename(columns={'index': 'id', 'id': 'drop'})\n",
    "silver_val_20pct_std_rooftypes=silver_val_20pct_std_rooftypes.rename(columns={'index': 'id', 'id': 'drop'})"
   ]
  },
  {
   "cell_type": "code",
   "execution_count": 57,
   "metadata": {},
   "outputs": [],
   "source": [
    "silver_val_80pct_rooftypes.drop(columns=['drop'],inplace=True)\n",
    "silver_val_70pct_rooftypes.drop(columns=['drop'],inplace=True)\n",
    "\n",
    "silver_val_10pct_std_rooftypes.drop(columns=['drop'],inplace=True)\n",
    "silver_val_20pct_std_rooftypes.drop(columns=['drop'],inplace=True)"
   ]
  },
  {
   "cell_type": "code",
   "execution_count": 58,
   "metadata": {},
   "outputs": [
    {
     "data": {
      "text/plain": [
       "3707"
      ]
     },
     "execution_count": 58,
     "metadata": {},
     "output_type": "execute_result"
    }
   ],
   "source": [
    "len(silver_val_80pct_rooftypes)"
   ]
  },
  {
   "cell_type": "code",
   "execution_count": 59,
   "metadata": {},
   "outputs": [
    {
     "data": {
      "text/plain": [
       "5210"
      ]
     },
     "execution_count": 59,
     "metadata": {},
     "output_type": "execute_result"
    }
   ],
   "source": [
    "len(silver_val_70pct_rooftypes)"
   ]
  },
  {
   "cell_type": "markdown",
   "metadata": {},
   "source": [
    "these should not be > dataset length, dont use for now"
   ]
  },
  {
   "cell_type": "code",
   "execution_count": 60,
   "metadata": {},
   "outputs": [
    {
     "data": {
      "text/plain": [
       "6688"
      ]
     },
     "execution_count": 60,
     "metadata": {},
     "output_type": "execute_result"
    }
   ],
   "source": [
    "len(silver_val_10pct_std_rooftypes)"
   ]
  },
  {
   "cell_type": "code",
   "execution_count": 61,
   "metadata": {},
   "outputs": [
    {
     "data": {
      "text/plain": [
       "11684"
      ]
     },
     "execution_count": 61,
     "metadata": {},
     "output_type": "execute_result"
    }
   ],
   "source": [
    "len(silver_val_20pct_std_rooftypes)"
   ]
  },
  {
   "cell_type": "code",
   "execution_count": 62,
   "metadata": {},
   "outputs": [
    {
     "data": {
      "text/plain": [
       "223080"
      ]
     },
     "execution_count": 62,
     "metadata": {},
     "output_type": "execute_result"
    }
   ],
   "source": [
    "len(df_sl_metal)"
   ]
  },
  {
   "cell_type": "code",
   "execution_count": 63,
   "metadata": {},
   "outputs": [],
   "source": [
    "silver_val_80pct_rooftypes.to_csv(data_dir/'st_lucia_80pct_silver_healthy_irregular_metal.csv', index=False)\n",
    "silver_val_70pct_rooftypes.to_csv(data_dir/'st_lucia_70pct_silver_healthy_irregular_metal.csv', index=False)\n",
    "\n",
    "#silver_val_10pct_std_rooftypes.to_csv(data_dir/'st_lucia_silver_10pct_std_dev_healthy_irregular_metal.csv', index=False)\n",
    "#silver_val_20pct_std_rooftypes.to_csv(data_dir/'st_lucia_silver_20pct_std_dev_healthy_irregular_metal.csv', index=False)"
   ]
  },
  {
   "cell_type": "code",
   "execution_count": 64,
   "metadata": {},
   "outputs": [],
   "source": [
    "### all pred helthy"
   ]
  },
  {
   "cell_type": "code",
   "execution_count": 65,
   "metadata": {},
   "outputs": [],
   "source": [
    "all_h = df_hm.groupby(['id'], as_index=False).agg(\n",
    "                     ['count', 'sum'])"
   ]
  },
  {
   "cell_type": "code",
   "execution_count": 66,
   "metadata": {},
   "outputs": [
    {
     "data": {
      "text/html": [
       "<div>\n",
       "<style scoped>\n",
       "    .dataframe tbody tr th:only-of-type {\n",
       "        vertical-align: middle;\n",
       "    }\n",
       "\n",
       "    .dataframe tbody tr th {\n",
       "        vertical-align: top;\n",
       "    }\n",
       "\n",
       "    .dataframe thead tr th {\n",
       "        text-align: left;\n",
       "    }\n",
       "\n",
       "    .dataframe thead tr:last-of-type th {\n",
       "        text-align: right;\n",
       "    }\n",
       "</style>\n",
       "<table border=\"1\" class=\"dataframe\">\n",
       "  <thead>\n",
       "    <tr>\n",
       "      <th></th>\n",
       "      <th colspan=\"2\" halign=\"left\">healthy_metal</th>\n",
       "    </tr>\n",
       "    <tr>\n",
       "      <th></th>\n",
       "      <th>count</th>\n",
       "      <th>sum</th>\n",
       "    </tr>\n",
       "    <tr>\n",
       "      <th>id</th>\n",
       "      <th></th>\n",
       "      <th></th>\n",
       "    </tr>\n",
       "  </thead>\n",
       "  <tbody>\n",
       "    <tr>\n",
       "      <td>7a1c5026</td>\n",
       "      <td>30</td>\n",
       "      <td>26.536383</td>\n",
       "    </tr>\n",
       "    <tr>\n",
       "      <td>7a1c50f8</td>\n",
       "      <td>30</td>\n",
       "      <td>23.363106</td>\n",
       "    </tr>\n",
       "    <tr>\n",
       "      <td>7a1c53c8</td>\n",
       "      <td>30</td>\n",
       "      <td>4.440451</td>\n",
       "    </tr>\n",
       "    <tr>\n",
       "      <td>7a1c5a6c</td>\n",
       "      <td>30</td>\n",
       "      <td>20.125147</td>\n",
       "    </tr>\n",
       "    <tr>\n",
       "      <td>7a1c5b2a</td>\n",
       "      <td>30</td>\n",
       "      <td>29.390566</td>\n",
       "    </tr>\n",
       "  </tbody>\n",
       "</table>\n",
       "</div>"
      ],
      "text/plain": [
       "         healthy_metal           \n",
       "                 count        sum\n",
       "id                               \n",
       "7a1c5026            30  26.536383\n",
       "7a1c50f8            30  23.363106\n",
       "7a1c53c8            30   4.440451\n",
       "7a1c5a6c            30  20.125147\n",
       "7a1c5b2a            30  29.390566"
      ]
     },
     "execution_count": 66,
     "metadata": {},
     "output_type": "execute_result"
    }
   ],
   "source": [
    "all_h.head()"
   ]
  },
  {
   "cell_type": "code",
   "execution_count": 67,
   "metadata": {},
   "outputs": [
    {
     "data": {
      "text/html": [
       "<div>\n",
       "<style scoped>\n",
       "    .dataframe tbody tr th:only-of-type {\n",
       "        vertical-align: middle;\n",
       "    }\n",
       "\n",
       "    .dataframe tbody tr th {\n",
       "        vertical-align: top;\n",
       "    }\n",
       "\n",
       "    .dataframe thead th {\n",
       "        text-align: right;\n",
       "    }\n",
       "</style>\n",
       "<table border=\"1\" class=\"dataframe\">\n",
       "  <thead>\n",
       "    <tr style=\"text-align: right;\">\n",
       "      <th></th>\n",
       "      <th>id</th>\n",
       "      <th>healthy_metal</th>\n",
       "    </tr>\n",
       "  </thead>\n",
       "  <tbody>\n",
       "    <tr>\n",
       "      <td>0</td>\n",
       "      <td>7a24bd7e</td>\n",
       "      <td>0.989721</td>\n",
       "    </tr>\n",
       "    <tr>\n",
       "      <td>1</td>\n",
       "      <td>7a2cf00c</td>\n",
       "      <td>0.256781</td>\n",
       "    </tr>\n",
       "    <tr>\n",
       "      <td>2</td>\n",
       "      <td>7a3975e8</td>\n",
       "      <td>0.910410</td>\n",
       "    </tr>\n",
       "    <tr>\n",
       "      <td>3</td>\n",
       "      <td>7a1d215e</td>\n",
       "      <td>0.996734</td>\n",
       "    </tr>\n",
       "    <tr>\n",
       "      <td>4</td>\n",
       "      <td>7a42475e</td>\n",
       "      <td>0.832023</td>\n",
       "    </tr>\n",
       "  </tbody>\n",
       "</table>\n",
       "</div>"
      ],
      "text/plain": [
       "         id  healthy_metal\n",
       "0  7a24bd7e       0.989721\n",
       "1  7a2cf00c       0.256781\n",
       "2  7a3975e8       0.910410\n",
       "3  7a1d215e       0.996734\n",
       "4  7a42475e       0.832023"
      ]
     },
     "execution_count": 67,
     "metadata": {},
     "output_type": "execute_result"
    }
   ],
   "source": [
    "df_hm.head()"
   ]
  },
  {
   "cell_type": "code",
   "execution_count": 68,
   "metadata": {},
   "outputs": [
    {
     "data": {
      "text/html": [
       "<div>\n",
       "<style scoped>\n",
       "    .dataframe tbody tr th:only-of-type {\n",
       "        vertical-align: middle;\n",
       "    }\n",
       "\n",
       "    .dataframe tbody tr th {\n",
       "        vertical-align: top;\n",
       "    }\n",
       "\n",
       "    .dataframe thead th {\n",
       "        text-align: right;\n",
       "    }\n",
       "</style>\n",
       "<table border=\"1\" class=\"dataframe\">\n",
       "  <thead>\n",
       "    <tr style=\"text-align: right;\">\n",
       "      <th></th>\n",
       "      <th>id</th>\n",
       "      <th>healthy_metal</th>\n",
       "      <th>irregular_metal</th>\n",
       "      <th>model</th>\n",
       "      <th>run</th>\n",
       "      <th>ttype</th>\n",
       "      <th>uid</th>\n",
       "    </tr>\n",
       "  </thead>\n",
       "  <tbody>\n",
       "    <tr>\n",
       "      <td>0</td>\n",
       "      <td>7a24bd7e</td>\n",
       "      <td>0.989721</td>\n",
       "      <td>0.002138</td>\n",
       "      <td>rn152</td>\n",
       "      <td>1</td>\n",
       "      <td>region</td>\n",
       "      <td>stage-2-rn152-10_metal-only_1-region-5-2019112...</td>\n",
       "    </tr>\n",
       "    <tr>\n",
       "      <td>1</td>\n",
       "      <td>7a2cf00c</td>\n",
       "      <td>0.256781</td>\n",
       "      <td>0.178513</td>\n",
       "      <td>rn152</td>\n",
       "      <td>1</td>\n",
       "      <td>region</td>\n",
       "      <td>stage-2-rn152-10_metal-only_1-region-5-2019112...</td>\n",
       "    </tr>\n",
       "    <tr>\n",
       "      <td>2</td>\n",
       "      <td>7a3975e8</td>\n",
       "      <td>0.910410</td>\n",
       "      <td>0.014232</td>\n",
       "      <td>rn152</td>\n",
       "      <td>1</td>\n",
       "      <td>region</td>\n",
       "      <td>stage-2-rn152-10_metal-only_1-region-5-2019112...</td>\n",
       "    </tr>\n",
       "    <tr>\n",
       "      <td>3</td>\n",
       "      <td>7a1d215e</td>\n",
       "      <td>0.996734</td>\n",
       "      <td>0.001772</td>\n",
       "      <td>rn152</td>\n",
       "      <td>1</td>\n",
       "      <td>region</td>\n",
       "      <td>stage-2-rn152-10_metal-only_1-region-5-2019112...</td>\n",
       "    </tr>\n",
       "    <tr>\n",
       "      <td>4</td>\n",
       "      <td>7a42475e</td>\n",
       "      <td>0.832023</td>\n",
       "      <td>0.008941</td>\n",
       "      <td>rn152</td>\n",
       "      <td>1</td>\n",
       "      <td>region</td>\n",
       "      <td>stage-2-rn152-10_metal-only_1-region-5-2019112...</td>\n",
       "    </tr>\n",
       "  </tbody>\n",
       "</table>\n",
       "</div>"
      ],
      "text/plain": [
       "         id  healthy_metal  irregular_metal  model run   ttype  \\\n",
       "0  7a24bd7e       0.989721         0.002138  rn152   1  region   \n",
       "1  7a2cf00c       0.256781         0.178513  rn152   1  region   \n",
       "2  7a3975e8       0.910410         0.014232  rn152   1  region   \n",
       "3  7a1d215e       0.996734         0.001772  rn152   1  region   \n",
       "4  7a42475e       0.832023         0.008941  rn152   1  region   \n",
       "\n",
       "                                                 uid  \n",
       "0  stage-2-rn152-10_metal-only_1-region-5-2019112...  \n",
       "1  stage-2-rn152-10_metal-only_1-region-5-2019112...  \n",
       "2  stage-2-rn152-10_metal-only_1-region-5-2019112...  \n",
       "3  stage-2-rn152-10_metal-only_1-region-5-2019112...  \n",
       "4  stage-2-rn152-10_metal-only_1-region-5-2019112...  "
      ]
     },
     "execution_count": 68,
     "metadata": {},
     "output_type": "execute_result"
    }
   ],
   "source": [
    "df_sl_metal.head()"
   ]
  },
  {
   "cell_type": "code",
   "execution_count": 69,
   "metadata": {},
   "outputs": [
    {
     "name": "stderr",
     "output_type": "stream",
     "text": [
      "/home/walle/miniconda3/envs/fastai-dev/lib/python3.7/site-packages/ipykernel_launcher.py:3: SettingWithCopyWarning: \n",
      "A value is trying to be set on a copy of a slice from a DataFrame.\n",
      "Try using .loc[row_indexer,col_indexer] = value instead\n",
      "\n",
      "See the caveats in the documentation: http://pandas.pydata.org/pandas-docs/stable/user_guide/indexing.html#returning-a-view-versus-a-copy\n",
      "  This is separate from the ipykernel package so we can avoid doing imports until\n"
     ]
    }
   ],
   "source": [
    "df=df_sl_metal[['healthy_metal','irregular_metal']]\n",
    "classes=df.idxmax(axis=1)\n",
    "df['roof_material']=classes"
   ]
  },
  {
   "cell_type": "code",
   "execution_count": 70,
   "metadata": {},
   "outputs": [
    {
     "name": "stderr",
     "output_type": "stream",
     "text": [
      "/home/walle/miniconda3/envs/fastai-dev/lib/python3.7/site-packages/ipykernel_launcher.py:1: SettingWithCopyWarning: \n",
      "A value is trying to be set on a copy of a slice from a DataFrame.\n",
      "Try using .loc[row_indexer,col_indexer] = value instead\n",
      "\n",
      "See the caveats in the documentation: http://pandas.pydata.org/pandas-docs/stable/user_guide/indexing.html#returning-a-view-versus-a-copy\n",
      "  \"\"\"Entry point for launching an IPython kernel.\n"
     ]
    }
   ],
   "source": [
    "df['id']=df_sl_metal['id']"
   ]
  },
  {
   "cell_type": "code",
   "execution_count": 71,
   "metadata": {},
   "outputs": [],
   "source": [
    "df.drop(columns=['healthy_metal','irregular_metal'],inplace=True)"
   ]
  },
  {
   "cell_type": "code",
   "execution_count": 72,
   "metadata": {},
   "outputs": [
    {
     "data": {
      "text/html": [
       "<div>\n",
       "<style scoped>\n",
       "    .dataframe tbody tr th:only-of-type {\n",
       "        vertical-align: middle;\n",
       "    }\n",
       "\n",
       "    .dataframe tbody tr th {\n",
       "        vertical-align: top;\n",
       "    }\n",
       "\n",
       "    .dataframe thead th {\n",
       "        text-align: right;\n",
       "    }\n",
       "</style>\n",
       "<table border=\"1\" class=\"dataframe\">\n",
       "  <thead>\n",
       "    <tr style=\"text-align: right;\">\n",
       "      <th></th>\n",
       "      <th>roof_material</th>\n",
       "      <th>id</th>\n",
       "    </tr>\n",
       "  </thead>\n",
       "  <tbody>\n",
       "    <tr>\n",
       "      <td>0</td>\n",
       "      <td>healthy_metal</td>\n",
       "      <td>7a24bd7e</td>\n",
       "    </tr>\n",
       "    <tr>\n",
       "      <td>1</td>\n",
       "      <td>healthy_metal</td>\n",
       "      <td>7a2cf00c</td>\n",
       "    </tr>\n",
       "    <tr>\n",
       "      <td>2</td>\n",
       "      <td>healthy_metal</td>\n",
       "      <td>7a3975e8</td>\n",
       "    </tr>\n",
       "    <tr>\n",
       "      <td>3</td>\n",
       "      <td>healthy_metal</td>\n",
       "      <td>7a1d215e</td>\n",
       "    </tr>\n",
       "    <tr>\n",
       "      <td>4</td>\n",
       "      <td>healthy_metal</td>\n",
       "      <td>7a42475e</td>\n",
       "    </tr>\n",
       "  </tbody>\n",
       "</table>\n",
       "</div>"
      ],
      "text/plain": [
       "   roof_material        id\n",
       "0  healthy_metal  7a24bd7e\n",
       "1  healthy_metal  7a2cf00c\n",
       "2  healthy_metal  7a3975e8\n",
       "3  healthy_metal  7a1d215e\n",
       "4  healthy_metal  7a42475e"
      ]
     },
     "execution_count": 72,
     "metadata": {},
     "output_type": "execute_result"
    }
   ],
   "source": [
    "df.head()"
   ]
  },
  {
   "cell_type": "code",
   "execution_count": 73,
   "metadata": {},
   "outputs": [],
   "source": [
    "\n",
    "df=df.replace('healthy_metal', 1)\n",
    "df=df.replace('irregular_metal', 0)"
   ]
  },
  {
   "cell_type": "code",
   "execution_count": 74,
   "metadata": {},
   "outputs": [],
   "source": [
    "all_m = df.groupby(['id'], as_index=False).agg(\n",
    "                     ['count', 'sum'])"
   ]
  },
  {
   "cell_type": "code",
   "execution_count": 75,
   "metadata": {},
   "outputs": [
    {
     "data": {
      "text/html": [
       "<div>\n",
       "<style scoped>\n",
       "    .dataframe tbody tr th:only-of-type {\n",
       "        vertical-align: middle;\n",
       "    }\n",
       "\n",
       "    .dataframe tbody tr th {\n",
       "        vertical-align: top;\n",
       "    }\n",
       "\n",
       "    .dataframe thead tr th {\n",
       "        text-align: left;\n",
       "    }\n",
       "\n",
       "    .dataframe thead tr:last-of-type th {\n",
       "        text-align: right;\n",
       "    }\n",
       "</style>\n",
       "<table border=\"1\" class=\"dataframe\">\n",
       "  <thead>\n",
       "    <tr>\n",
       "      <th></th>\n",
       "      <th colspan=\"2\" halign=\"left\">roof_material</th>\n",
       "    </tr>\n",
       "    <tr>\n",
       "      <th></th>\n",
       "      <th>count</th>\n",
       "      <th>sum</th>\n",
       "    </tr>\n",
       "    <tr>\n",
       "      <th>id</th>\n",
       "      <th></th>\n",
       "      <th></th>\n",
       "    </tr>\n",
       "  </thead>\n",
       "  <tbody>\n",
       "    <tr>\n",
       "      <td>7a1c5026</td>\n",
       "      <td>30</td>\n",
       "      <td>30</td>\n",
       "    </tr>\n",
       "    <tr>\n",
       "      <td>7a1c50f8</td>\n",
       "      <td>30</td>\n",
       "      <td>30</td>\n",
       "    </tr>\n",
       "    <tr>\n",
       "      <td>7a1c53c8</td>\n",
       "      <td>30</td>\n",
       "      <td>0</td>\n",
       "    </tr>\n",
       "    <tr>\n",
       "      <td>7a1c5a6c</td>\n",
       "      <td>30</td>\n",
       "      <td>26</td>\n",
       "    </tr>\n",
       "    <tr>\n",
       "      <td>7a1c5b2a</td>\n",
       "      <td>30</td>\n",
       "      <td>30</td>\n",
       "    </tr>\n",
       "  </tbody>\n",
       "</table>\n",
       "</div>"
      ],
      "text/plain": [
       "         roof_material    \n",
       "                 count sum\n",
       "id                        \n",
       "7a1c5026            30  30\n",
       "7a1c50f8            30  30\n",
       "7a1c53c8            30   0\n",
       "7a1c5a6c            30  26\n",
       "7a1c5b2a            30  30"
      ]
     },
     "execution_count": 75,
     "metadata": {},
     "output_type": "execute_result"
    }
   ],
   "source": [
    "all_m.head()"
   ]
  },
  {
   "cell_type": "code",
   "execution_count": 76,
   "metadata": {},
   "outputs": [],
   "source": [
    "all_m.columns = all_m.columns.droplevel(0)"
   ]
  },
  {
   "cell_type": "code",
   "execution_count": 77,
   "metadata": {},
   "outputs": [],
   "source": [
    "all_models_irregualr_metal=all_m.loc[all_m['sum'] == 0]"
   ]
  },
  {
   "cell_type": "code",
   "execution_count": 78,
   "metadata": {},
   "outputs": [
    {
     "data": {
      "text/html": [
       "<div>\n",
       "<style scoped>\n",
       "    .dataframe tbody tr th:only-of-type {\n",
       "        vertical-align: middle;\n",
       "    }\n",
       "\n",
       "    .dataframe tbody tr th {\n",
       "        vertical-align: top;\n",
       "    }\n",
       "\n",
       "    .dataframe thead th {\n",
       "        text-align: right;\n",
       "    }\n",
       "</style>\n",
       "<table border=\"1\" class=\"dataframe\">\n",
       "  <thead>\n",
       "    <tr style=\"text-align: right;\">\n",
       "      <th></th>\n",
       "      <th>count</th>\n",
       "      <th>sum</th>\n",
       "    </tr>\n",
       "    <tr>\n",
       "      <th>id</th>\n",
       "      <th></th>\n",
       "      <th></th>\n",
       "    </tr>\n",
       "  </thead>\n",
       "  <tbody>\n",
       "    <tr>\n",
       "      <td>7a1c53c8</td>\n",
       "      <td>30</td>\n",
       "      <td>0</td>\n",
       "    </tr>\n",
       "    <tr>\n",
       "      <td>7a1cb3f4</td>\n",
       "      <td>30</td>\n",
       "      <td>0</td>\n",
       "    </tr>\n",
       "    <tr>\n",
       "      <td>7a1cecde</td>\n",
       "      <td>30</td>\n",
       "      <td>0</td>\n",
       "    </tr>\n",
       "    <tr>\n",
       "      <td>7a1d17fe</td>\n",
       "      <td>30</td>\n",
       "      <td>0</td>\n",
       "    </tr>\n",
       "    <tr>\n",
       "      <td>7a1d4256</td>\n",
       "      <td>30</td>\n",
       "      <td>0</td>\n",
       "    </tr>\n",
       "  </tbody>\n",
       "</table>\n",
       "</div>"
      ],
      "text/plain": [
       "          count  sum\n",
       "id                  \n",
       "7a1c53c8     30    0\n",
       "7a1cb3f4     30    0\n",
       "7a1cecde     30    0\n",
       "7a1d17fe     30    0\n",
       "7a1d4256     30    0"
      ]
     },
     "execution_count": 78,
     "metadata": {},
     "output_type": "execute_result"
    }
   ],
   "source": [
    "all_models_irregualr_metal.head()"
   ]
  },
  {
   "cell_type": "code",
   "execution_count": 79,
   "metadata": {},
   "outputs": [],
   "source": [
    "all_models_healthy_metal=all_m.loc[all_m['sum'] == 30]"
   ]
  },
  {
   "cell_type": "code",
   "execution_count": 80,
   "metadata": {},
   "outputs": [
    {
     "data": {
      "text/plain": [
       "157"
      ]
     },
     "execution_count": 80,
     "metadata": {},
     "output_type": "execute_result"
    }
   ],
   "source": [
    "len(all_models_irregualr_metal)"
   ]
  },
  {
   "cell_type": "code",
   "execution_count": 81,
   "metadata": {},
   "outputs": [
    {
     "data": {
      "text/plain": [
       "4499"
      ]
     },
     "execution_count": 81,
     "metadata": {},
     "output_type": "execute_result"
    }
   ],
   "source": [
    "len(all_models_healthy_metal)"
   ]
  },
  {
   "cell_type": "code",
   "execution_count": 82,
   "metadata": {},
   "outputs": [
    {
     "data": {
      "text/html": [
       "<div>\n",
       "<style scoped>\n",
       "    .dataframe tbody tr th:only-of-type {\n",
       "        vertical-align: middle;\n",
       "    }\n",
       "\n",
       "    .dataframe tbody tr th {\n",
       "        vertical-align: top;\n",
       "    }\n",
       "\n",
       "    .dataframe thead th {\n",
       "        text-align: right;\n",
       "    }\n",
       "</style>\n",
       "<table border=\"1\" class=\"dataframe\">\n",
       "  <thead>\n",
       "    <tr style=\"text-align: right;\">\n",
       "      <th></th>\n",
       "      <th>count</th>\n",
       "      <th>sum</th>\n",
       "    </tr>\n",
       "    <tr>\n",
       "      <th>id</th>\n",
       "      <th></th>\n",
       "      <th></th>\n",
       "    </tr>\n",
       "  </thead>\n",
       "  <tbody>\n",
       "    <tr>\n",
       "      <td>7a1c53c8</td>\n",
       "      <td>30</td>\n",
       "      <td>0</td>\n",
       "    </tr>\n",
       "    <tr>\n",
       "      <td>7a1cb3f4</td>\n",
       "      <td>30</td>\n",
       "      <td>0</td>\n",
       "    </tr>\n",
       "    <tr>\n",
       "      <td>7a1cecde</td>\n",
       "      <td>30</td>\n",
       "      <td>0</td>\n",
       "    </tr>\n",
       "    <tr>\n",
       "      <td>7a1d17fe</td>\n",
       "      <td>30</td>\n",
       "      <td>0</td>\n",
       "    </tr>\n",
       "    <tr>\n",
       "      <td>7a1d4256</td>\n",
       "      <td>30</td>\n",
       "      <td>0</td>\n",
       "    </tr>\n",
       "  </tbody>\n",
       "</table>\n",
       "</div>"
      ],
      "text/plain": [
       "          count  sum\n",
       "id                  \n",
       "7a1c53c8     30    0\n",
       "7a1cb3f4     30    0\n",
       "7a1cecde     30    0\n",
       "7a1d17fe     30    0\n",
       "7a1d4256     30    0"
      ]
     },
     "execution_count": 82,
     "metadata": {},
     "output_type": "execute_result"
    }
   ],
   "source": [
    "all_models_irregualr_metal.head()"
   ]
  },
  {
   "cell_type": "code",
   "execution_count": 83,
   "metadata": {},
   "outputs": [],
   "source": [
    "all_models_irregualr_metal.to_csv(data_dir/'st_lucia_all_res_dense_models_irregular_metal.csv')\n",
    "all_models_healthy_metal.to_csv(data_dir/'st_lucia_all_res_dense_models_healthy_metal.csv')"
   ]
  }
 ],
 "metadata": {
  "kernelspec": {
   "display_name": "Python 3",
   "language": "python",
   "name": "python3"
  },
  "language_info": {
   "codemirror_mode": {
    "name": "ipython",
    "version": 3
   },
   "file_extension": ".py",
   "mimetype": "text/x-python",
   "name": "python",
   "nbconvert_exporter": "python",
   "pygments_lexer": "ipython3",
   "version": "3.7.4"
  }
 },
 "nbformat": 4,
 "nbformat_minor": 2
}
