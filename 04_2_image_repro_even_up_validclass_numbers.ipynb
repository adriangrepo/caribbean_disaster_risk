{
 "cells": [
  {
   "cell_type": "markdown",
   "metadata": {},
   "source": [
    "In http://localhost:8891/notebooks/caribbean_disaster_risk/03_1_1_result_qc.ipynb we see a relatively low number of 'concrete', 'incomple' and 'other' roof types\n",
    "\n",
    "Here we boost these numbers.\n",
    "\n",
    "NB just sharpening all blurred over theshold of 100 in 05_1_fastai_train_resnet_20191027.ipynb led to slightly worse results"
   ]
  },
  {
   "cell_type": "markdown",
   "metadata": {},
   "source": [
    "#### Env: \n",
    "    \n",
    "    Use solaris conda env"
   ]
  },
  {
   "cell_type": "code",
   "execution_count": 1,
   "metadata": {},
   "outputs": [],
   "source": [
    "from PIL import Image, ImageOps, ImageFilter\n",
    "import cv2\n",
    "from pathlib import Path\n",
    "from os import listdir\n",
    "from os.path import isfile, join\n",
    "from matplotlib import pyplot as plt\n",
    "from skimage import data\n",
    "from skimage.filters import unsharp_mask\n",
    "from skimage.io import imread\n",
    "import numpy as np\n",
    "import os\n",
    "\n",
    "from imutils import paths\n",
    "import argparse\n",
    "import cv2\n",
    "import shutil\n",
    "import imgaug\n",
    "from imgaug import augmenters as iaa\n",
    "import pandas as pd"
   ]
  },
  {
   "cell_type": "markdown",
   "metadata": {},
   "source": []
  },
  {
   "cell_type": "code",
   "execution_count": 2,
   "metadata": {},
   "outputs": [],
   "source": [
    "data_dir = Path('data')"
   ]
  },
  {
   "cell_type": "markdown",
   "metadata": {},
   "source": [
    "NB is re-run for different padding types"
   ]
  },
  {
   "cell_type": "code",
   "execution_count": 3,
   "metadata": {},
   "outputs": [],
   "source": [
    "img_size=256"
   ]
  },
  {
   "cell_type": "code",
   "execution_count": 4,
   "metadata": {},
   "outputs": [],
   "source": [
    "\n",
    "#BORDER_REFLECT_101\n",
    "border='reflect'\n",
    "#BORDER_WRAP\n",
    "#border='wrap'"
   ]
  },
  {
   "cell_type": "code",
   "execution_count": 5,
   "metadata": {},
   "outputs": [],
   "source": [
    "#clipped, rotated and reflected images\n",
    "train_images = data_dir/f'train/rotated/clipped/{border}/{img_size}'\n",
    "test_images = data_dir/f'test/rotated/clipped/{border}/{img_size}'\n",
    "balanced_dir = data_dir/f'train/rotated/clipped/{border}/{img_size}/balanced'\n",
    "balanced_dir.mkdir(exist_ok=True)\n",
    "balanced_dir = data_dir/f'train/rotated/clipped/{border}/{img_size}/balanced/valid'\n",
    "balanced_dir.mkdir(exist_ok=True)"
   ]
  },
  {
   "cell_type": "code",
   "execution_count": 6,
   "metadata": {},
   "outputs": [],
   "source": [
    "fnames = [f for f in listdir(train_images) if isfile(join(train_images, f))]\n",
    "tnames = [f for f in listdir(test_images) if isfile(join(test_images, f))]"
   ]
  },
  {
   "cell_type": "code",
   "execution_count": 7,
   "metadata": {},
   "outputs": [
    {
     "data": {
      "text/plain": [
       "'7a2e083e.tif'"
      ]
     },
     "execution_count": 7,
     "metadata": {},
     "output_type": "execute_result"
    }
   ],
   "source": [
    "fnames[0]"
   ]
  },
  {
   "cell_type": "code",
   "execution_count": 8,
   "metadata": {},
   "outputs": [],
   "source": [
    "df_all = pd.read_csv(data_dir/'df_train_all.csv')"
   ]
  },
  {
   "cell_type": "code",
   "execution_count": 9,
   "metadata": {},
   "outputs": [],
   "source": [
    "df_valid=df_all.loc[df_all['verified'] == True]"
   ]
  },
  {
   "cell_type": "code",
   "execution_count": 10,
   "metadata": {},
   "outputs": [],
   "source": [
    "tot=len(df_valid)"
   ]
  },
  {
   "cell_type": "code",
   "execution_count": 11,
   "metadata": {},
   "outputs": [
    {
     "data": {
      "text/plain": [
       "healthy_metal      7381\n",
       "irregular_metal    5241\n",
       "concrete_cement    1387\n",
       "incomplete          668\n",
       "other               193\n",
       "Name: roof_material, dtype: int64"
      ]
     },
     "execution_count": 11,
     "metadata": {},
     "output_type": "execute_result"
    }
   ],
   "source": [
    "df_valid['roof_material'].value_counts()"
   ]
  },
  {
   "cell_type": "code",
   "execution_count": 12,
   "metadata": {},
   "outputs": [],
   "source": [
    "#low_qty=['irregular_metal','concrete_cement', 'incomplete','other']\n",
    "#df_not_healthy_metal=df_valid.loc[df_valid['roof_material'].isin(low_qty)]"
   ]
  },
  {
   "cell_type": "code",
   "execution_count": 13,
   "metadata": {},
   "outputs": [],
   "source": [
    "other_frac=193/tot"
   ]
  },
  {
   "cell_type": "code",
   "execution_count": 14,
   "metadata": {},
   "outputs": [
    {
     "data": {
      "text/plain": [
       "77.04663212435233"
      ]
     },
     "execution_count": 14,
     "metadata": {},
     "output_type": "execute_result"
    }
   ],
   "source": [
    "1/other_frac"
   ]
  },
  {
   "cell_type": "code",
   "execution_count": 15,
   "metadata": {},
   "outputs": [],
   "source": [
    "incomplete=668/tot"
   ]
  },
  {
   "cell_type": "code",
   "execution_count": 16,
   "metadata": {},
   "outputs": [
    {
     "data": {
      "text/plain": [
       "22.26047904191617"
      ]
     },
     "execution_count": 16,
     "metadata": {},
     "output_type": "execute_result"
    }
   ],
   "source": [
    "1/incomplete"
   ]
  },
  {
   "cell_type": "code",
   "execution_count": 17,
   "metadata": {},
   "outputs": [],
   "source": [
    "concrete_cement=1387/tot"
   ]
  },
  {
   "cell_type": "code",
   "execution_count": 18,
   "metadata": {},
   "outputs": [
    {
     "data": {
      "text/plain": [
       "10.720980533525594"
      ]
     },
     "execution_count": 18,
     "metadata": {},
     "output_type": "execute_result"
    }
   ],
   "source": [
    "1/concrete_cement"
   ]
  },
  {
   "cell_type": "code",
   "execution_count": 19,
   "metadata": {},
   "outputs": [],
   "source": [
    "irregular_metal=5241/tot"
   ]
  },
  {
   "cell_type": "code",
   "execution_count": 20,
   "metadata": {},
   "outputs": [
    {
     "data": {
      "text/plain": [
       "2.8372448006105704"
      ]
     },
     "execution_count": 20,
     "metadata": {},
     "output_type": "execute_result"
    }
   ],
   "source": [
    "1/irregular_metal"
   ]
  },
  {
   "cell_type": "code",
   "execution_count": 21,
   "metadata": {},
   "outputs": [
    {
     "data": {
      "text/plain": [
       "<matplotlib.axes._subplots.AxesSubplot at 0x7f077630dfd0>"
      ]
     },
     "execution_count": 21,
     "metadata": {},
     "output_type": "execute_result"
    },
    {
     "data": {
      "image/png": "[encoded data removed]",
      "text/plain": [
       "<Figure size 432x288 with 1 Axes>"
      ]
     },
     "metadata": {
      "needs_background": "light"
     },
     "output_type": "display_data"
    }
   ],
   "source": [
    "df_valid['roof_material'].value_counts().plot(kind='bar')"
   ]
  },
  {
   "cell_type": "code",
   "execution_count": 22,
   "metadata": {},
   "outputs": [],
   "source": [
    "def mpl_show(new_im, label, title=''):\n",
    "    plt.imshow(new_im, interpolation = 'bicubic')\n",
    "    plt.xticks([]), plt.yticks([])  # to hide tick values on X and Y axis\n",
    "    text = label+' '+title\n",
    "    plt.title(text)\n",
    "    plt.show()\n",
    "    plt.close()"
   ]
  },
  {
   "cell_type": "code",
   "execution_count": 23,
   "metadata": {},
   "outputs": [],
   "source": [
    "def mpl_2_plot(im1, title1, im2, title2):\n",
    "    plt.figure(figsize=(8,4))\n",
    "    plt.subplot(121)\n",
    "    plt.imshow(im1)\n",
    "    plt.title(title1, size=12)\n",
    "    plt.axis('off')\n",
    "    plt.subplot(122)\n",
    "    plt.imshow(im2)\n",
    "    plt.title(title2, size=12)\n",
    "    plt.axis('off')\n",
    "    plt.tight_layout()\n",
    "    plt.show()  "
   ]
  },
  {
   "cell_type": "code",
   "execution_count": 24,
   "metadata": {},
   "outputs": [],
   "source": [
    "def pil_unsharp(image, radius, percent):\n",
    "    im = Image.open(image)\n",
    "    im1 = im.filter(ImageFilter.UnsharpMask(radius=radius, percent=percent))\n",
    "    return im1"
   ]
  },
  {
   "cell_type": "markdown",
   "metadata": {},
   "source": [
    "### Bluriness calculation\n",
    "Some images are clearly blurry, lets see if we can identify these\n",
    "see https://www.pyimagesearch.com/2015/09/07/blur-detection-with-opencv/"
   ]
  },
  {
   "cell_type": "code",
   "execution_count": 25,
   "metadata": {},
   "outputs": [],
   "source": [
    "#focus measures that fall below this value will be considered 'blurry'\n",
    "threshold=50.0"
   ]
  },
  {
   "cell_type": "code",
   "execution_count": 26,
   "metadata": {},
   "outputs": [],
   "source": [
    "def variance_of_laplacian(image):\n",
    "    # compute the Laplacian of the image and then return the focus\n",
    "    # measure, which is simply the variance of the Laplacian\n",
    "    return cv2.Laplacian(image, cv2.CV_64F).var()"
   ]
  },
  {
   "cell_type": "code",
   "execution_count": 27,
   "metadata": {},
   "outputs": [],
   "source": [
    "def calc_bluriness(images):\n",
    "    image_quality={}\n",
    "    i=0\n",
    "    for imagePath in images:\n",
    "        # load the image, convert it to grayscale, and compute the\n",
    "        # focus measure of the image using the Variance of Laplacian\n",
    "        # method\n",
    "        if imagePath.endswith('.tif'):\n",
    "            image = cv2.imread(imagePath)\n",
    "            try:\n",
    "                gray = cv2.cvtColor(image, cv2.COLOR_BGR2GRAY)\n",
    "                fm = variance_of_laplacian(gray)\n",
    "                text = \"Not Blurry\"\n",
    "\n",
    "                # if the focus measure is less than the supplied threshold,\n",
    "                # then the image should be considered \"blurry\"\n",
    "                if fm < threshold:\n",
    "                    text = \"Blurry\"\n",
    "                id=str(Path(imagePath).name).split('.')[0]\n",
    "                image_quality[id]=text\n",
    "                if i<50:\n",
    "                    mpl_show(image, id, text)\n",
    "                i+=1\n",
    "            except Exception as e:\n",
    "                print(f'error with {imagePath}')\n",
    "    return image_quality"
   ]
  },
  {
   "cell_type": "code",
   "execution_count": 28,
   "metadata": {},
   "outputs": [],
   "source": [
    "#non_hm=list(df_not_healthy_metal['id'])"
   ]
  },
  {
   "cell_type": "code",
   "execution_count": 29,
   "metadata": {},
   "outputs": [],
   "source": [
    "all_im=list(df_valid['id'])"
   ]
  },
  {
   "cell_type": "code",
   "execution_count": 30,
   "metadata": {},
   "outputs": [],
   "source": [
    "all_images=[]\n",
    "for n in all_im:\n",
    "    p=data_dir/f'train/rotated/clipped/{border}/256/'\n",
    "    p=p.absolute()\n",
    "    p=str(p)+'/'+n+'.tif'\n",
    "    all_images.append(p)"
   ]
  },
  {
   "cell_type": "code",
   "execution_count": 31,
   "metadata": {},
   "outputs": [],
   "source": [
    "#non_hm[:1]"
   ]
  },
  {
   "cell_type": "code",
   "execution_count": 32,
   "metadata": {},
   "outputs": [],
   "source": [
    "#nhm_images=[]\n",
    "#for n in non_hm:\n",
    "#    p=data_dir/f'train/rotated/clipped/{border}/256/'\n",
    "#    p=p.absolute()\n",
    "#    p=str(p)+'/'+n+'.tif'\n",
    "#    nhm_images.append(p)"
   ]
  },
  {
   "cell_type": "code",
   "execution_count": 33,
   "metadata": {},
   "outputs": [],
   "source": [
    "#nhm_images[0]"
   ]
  },
  {
   "cell_type": "code",
   "execution_count": 34,
   "metadata": {},
   "outputs": [],
   "source": [
    "image_quality=calc_bluriness(all_im)"
   ]
  },
  {
   "cell_type": "code",
   "execution_count": 35,
   "metadata": {},
   "outputs": [
    {
     "data": {
      "text/plain": [
       "0"
      ]
     },
     "execution_count": 35,
     "metadata": {},
     "output_type": "execute_result"
    }
   ],
   "source": [
    "len(image_quality.keys())"
   ]
  },
  {
   "cell_type": "markdown",
   "metadata": {},
   "source": [
    "see Hands-On-Image-Processing-with-Python-master/Chapter5.ipynb"
   ]
  },
  {
   "cell_type": "code",
   "execution_count": 36,
   "metadata": {},
   "outputs": [],
   "source": [
    "def pil_unsharp(image, radius, percent):\n",
    "    im = Image.open(image)\n",
    "    im1 = im.filter(ImageFilter.UnsharpMask(radius=radius, percent=percent))\n",
    "    return im1"
   ]
  },
  {
   "cell_type": "code",
   "execution_count": 37,
   "metadata": {},
   "outputs": [],
   "source": [
    "def skimage_unsharp_mark(img, radius, ammount):\n",
    "    im = imread(img)\n",
    "    im1 = unsharp_mask(im, radius=radius, amount=ammount)\n",
    "    return im1"
   ]
  },
  {
   "cell_type": "markdown",
   "metadata": {},
   "source": [
    "Unsharpen mask in PIL looks to be doing a better job than skimage "
   ]
  },
  {
   "cell_type": "code",
   "execution_count": 38,
   "metadata": {},
   "outputs": [],
   "source": [
    "def img_type_av_sz(fn_list):\n",
    "    widths = []\n",
    "    heights = []\n",
    "    for im in fn_list:\n",
    "        #100 x faster than open_image(img_f)\n",
    "        if str(im).endswith('.tif'):\n",
    "            w,h=Image.open(im).size\n",
    "            widths.append(w)\n",
    "            heights.append(h)\n",
    "    av_w = sum(widths)/len(widths)\n",
    "    av_h = sum(heights)/len(heights)\n",
    "    print(f'avg width: {av_w}, avg height: {av_h}, max w: {max(widths)}, min w: {min(widths)}, max h: {max(heights)}, min h: {min(heights)}')\n",
    "    return widths, heights"
   ]
  },
  {
   "cell_type": "code",
   "execution_count": 39,
   "metadata": {},
   "outputs": [],
   "source": [
    "f_names = [data_dir/f'train/rotated/clipped/{border}/256/{f}' for f in listdir(data_dir/f'train/rotated/clipped/{border}/256/') if isfile(join(data_dir/f'train/rotated/clipped/{border}/256/', f))]"
   ]
  },
  {
   "cell_type": "code",
   "execution_count": 40,
   "metadata": {},
   "outputs": [
    {
     "name": "stdout",
     "output_type": "stream",
     "text": [
      "avg width: 256.0, avg height: 256.0, max w: 256, min w: 256, max h: 256, min h: 256\n"
     ]
    }
   ],
   "source": [
    "widths, heights=img_type_av_sz(f_names)"
   ]
  },
  {
   "cell_type": "code",
   "execution_count": 41,
   "metadata": {},
   "outputs": [
    {
     "data": {
      "image/png": "[encoded data removed]",
      "text/plain": [
       "<Figure size 432x288 with 1 Axes>"
      ]
     },
     "metadata": {
      "needs_background": "light"
     },
     "output_type": "display_data"
    }
   ],
   "source": [
    "num_bins = 100\n",
    "n, bins, patches = plt.hist(widths, num_bins, facecolor='blue', alpha=0.5)\n",
    "plt.show()"
   ]
  },
  {
   "cell_type": "markdown",
   "metadata": {},
   "source": [
    "### sharpen  blurry non healthy metal"
   ]
  },
  {
   "cell_type": "code",
   "execution_count": null,
   "metadata": {},
   "outputs": [],
   "source": []
  },
  {
   "cell_type": "code",
   "execution_count": 42,
   "metadata": {},
   "outputs": [],
   "source": [
    "radius=2\n",
    "percent=150\n",
    "for k, v in image_quality.items():\n",
    "    if v=='Blurry':\n",
    "        sharp_im=pil_unsharp(train_images/f'{k}.tif',radius,percent)\n",
    "        sharp_im.save(train_images/f'balanced/valid/{k}_sharp.tif')"
   ]
  },
  {
   "cell_type": "code",
   "execution_count": 43,
   "metadata": {},
   "outputs": [
    {
     "name": "stderr",
     "output_type": "stream",
     "text": [
      "/home/walle/miniconda3/envs/solaris/lib/python3.6/site-packages/imgaug/imgaug.py:182: DeprecationWarning: Function `ContrastNormalization()` is deprecated. Use `imgaug.contrast.LinearContrast` instead.\n",
      "  warn_deprecated(msg, stacklevel=3)\n"
     ]
    }
   ],
   "source": [
    "seq = iaa.Sequential([\n",
    "    iaa.Fliplr(0.5), # horizontally flip 50% of all images\n",
    "    iaa.Flipud(0.5), # vertically flip 50% of all images\n",
    "    iaa.Crop(percent=(0, 0.05)), # random crops\n",
    "    iaa.SomeOf((0, 5),\n",
    "        [\n",
    "            iaa.Sometimes(0.1,\n",
    "                iaa.GaussianBlur(sigma=(0, 0.1))\n",
    "            ),\n",
    "            # Strengthen or weaken the contrast in each image.\n",
    "            iaa.Sometimes(0.1, iaa.ContrastNormalization((0.9, 1.1))),\n",
    "            iaa.Sometimes(0.05, iaa.CropAndPad(percent=(0, 0.1))), \n",
    "            iaa.Sometimes(0.1, iaa.Add((-20, 20))),\n",
    "            iaa.Sometimes(0.1, iaa.Sharpen(alpha=(0.0, 0.1))),\n",
    "            iaa.Sometimes(0.1, iaa.AdditiveGaussianNoise(scale=(0.0, 0.01*255))),\n",
    "            iaa.OneOf([iaa.Dropout((0.01, 0.1), per_channel=0.5), # randomly remove up to 10% of the pixels\n",
    "                        iaa.CoarseDropout((0.03, 0.15), size_percent=(0.02, 0.05)),\n",
    "                ])\n",
    "\n",
    "        ],\n",
    "        random_order=True)\n",
    "    ],\n",
    "    random_order=True)"
   ]
  },
  {
   "cell_type": "code",
   "execution_count": 44,
   "metadata": {},
   "outputs": [],
   "source": [
    "def apply_imgur(imgfiles, mul):\n",
    "    img_shape = (256,256)\n",
    "\n",
    "    #we need to do this n times\n",
    "    for mc in range(int(mul)):\n",
    "        X = np.zeros([len(imgfiles), img_shape[0], img_shape[1], 3], dtype=np.uint8)\n",
    "        fnames=[]\n",
    "        for index,f in enumerate(imgfiles):\n",
    "            fname=f.split('.tif')[0]\n",
    "            im = Image.open(f)\n",
    "            X[index,:] = np.array(im)[:,:,0:3]\n",
    "            fnames.append(fname)\n",
    "        images_aug = seq.augment_images(X)\n",
    "        dir_pth=data_dir/f'train/rotated/clipped/{border}/256/imgaug/'\n",
    "        print(f'augmenting {len(images_aug)} images to {dir_pth}')\n",
    "        assert len(images_aug)==len(fnames)\n",
    "        if not os.path.exists(dir_pth):\n",
    "            os.makedirs(dir_pth)\n",
    "        ij = 0\n",
    "        for b,f in zip(images_aug, fnames):\n",
    "            im = Image.fromarray(b)\n",
    "            im.save(dir_pth/f'{f}_imgaug_{mc}_{ij}.tif')\n",
    "            ij+=1"
   ]
  },
  {
   "cell_type": "code",
   "execution_count": 46,
   "metadata": {},
   "outputs": [
    {
     "name": "stdout",
     "output_type": "stream",
     "text": [
      "augmenting 14870 images to data/train/rotated/clipped/reflect/256/imgaug\n",
      "augmenting 14870 images to data/train/rotated/clipped/reflect/256/imgaug\n",
      "augmenting 14870 images to data/train/rotated/clipped/reflect/256/imgaug\n",
      "augmenting 14870 images to data/train/rotated/clipped/reflect/256/imgaug\n",
      "augmenting 14870 images to data/train/rotated/clipped/reflect/256/imgaug\n",
      "augmenting 14870 images to data/train/rotated/clipped/reflect/256/imgaug\n",
      "augmenting 14870 images to data/train/rotated/clipped/reflect/256/imgaug\n",
      "augmenting 14870 images to data/train/rotated/clipped/reflect/256/imgaug\n",
      "augmenting 14870 images to data/train/rotated/clipped/reflect/256/imgaug\n",
      "augmenting 14870 images to data/train/rotated/clipped/reflect/256/imgaug\n"
     ]
    }
   ],
   "source": [
    "apply_imgur(all_images, 10)"
   ]
  },
  {
   "cell_type": "code",
   "execution_count": 47,
   "metadata": {},
   "outputs": [],
   "source": [
    "#apply_imgur(all_images, 1)"
   ]
  },
  {
   "cell_type": "code",
   "execution_count": 48,
   "metadata": {},
   "outputs": [],
   "source": [
    "imgaug_names = [f for f in listdir(data_dir/f'train/rotated/clipped/{border}/256/') if 'imgaug' in f]"
   ]
  },
  {
   "cell_type": "code",
   "execution_count": 49,
   "metadata": {},
   "outputs": [
    {
     "data": {
      "text/plain": [
       "'7a234dfe_imgaug_3_3359.tif'"
      ]
     },
     "execution_count": 49,
     "metadata": {},
     "output_type": "execute_result"
    }
   ],
   "source": [
    "imgaug_names[0]"
   ]
  },
  {
   "cell_type": "code",
   "execution_count": 50,
   "metadata": {},
   "outputs": [
    {
     "data": {
      "text/html": [
       "<div>\n",
       "<style scoped>\n",
       "    .dataframe tbody tr th:only-of-type {\n",
       "        vertical-align: middle;\n",
       "    }\n",
       "\n",
       "    .dataframe tbody tr th {\n",
       "        vertical-align: top;\n",
       "    }\n",
       "\n",
       "    .dataframe thead th {\n",
       "        text-align: right;\n",
       "    }\n",
       "</style>\n",
       "<table border=\"1\" class=\"dataframe\">\n",
       "  <thead>\n",
       "    <tr style=\"text-align: right;\">\n",
       "      <th></th>\n",
       "      <th>id</th>\n",
       "      <th>roof_material</th>\n",
       "      <th>verified</th>\n",
       "      <th>country</th>\n",
       "      <th>region</th>\n",
       "    </tr>\n",
       "  </thead>\n",
       "  <tbody>\n",
       "    <tr>\n",
       "      <th>0</th>\n",
       "      <td>7a3f2a10</td>\n",
       "      <td>concrete_cement</td>\n",
       "      <td>True</td>\n",
       "      <td>colombia</td>\n",
       "      <td>borde_rural</td>\n",
       "    </tr>\n",
       "    <tr>\n",
       "      <th>1</th>\n",
       "      <td>7a1f731e</td>\n",
       "      <td>irregular_metal</td>\n",
       "      <td>True</td>\n",
       "      <td>colombia</td>\n",
       "      <td>borde_rural</td>\n",
       "    </tr>\n",
       "    <tr>\n",
       "      <th>2</th>\n",
       "      <td>7a424ad8</td>\n",
       "      <td>healthy_metal</td>\n",
       "      <td>True</td>\n",
       "      <td>colombia</td>\n",
       "      <td>borde_rural</td>\n",
       "    </tr>\n",
       "    <tr>\n",
       "      <th>3</th>\n",
       "      <td>7a3edc5e</td>\n",
       "      <td>healthy_metal</td>\n",
       "      <td>True</td>\n",
       "      <td>colombia</td>\n",
       "      <td>borde_rural</td>\n",
       "    </tr>\n",
       "    <tr>\n",
       "      <th>4</th>\n",
       "      <td>7a303a6e</td>\n",
       "      <td>healthy_metal</td>\n",
       "      <td>True</td>\n",
       "      <td>colombia</td>\n",
       "      <td>borde_rural</td>\n",
       "    </tr>\n",
       "  </tbody>\n",
       "</table>\n",
       "</div>"
      ],
      "text/plain": [
       "         id    roof_material  verified   country       region\n",
       "0  7a3f2a10  concrete_cement      True  colombia  borde_rural\n",
       "1  7a1f731e  irregular_metal      True  colombia  borde_rural\n",
       "2  7a424ad8    healthy_metal      True  colombia  borde_rural\n",
       "3  7a3edc5e    healthy_metal      True  colombia  borde_rural\n",
       "4  7a303a6e    healthy_metal      True  colombia  borde_rural"
      ]
     },
     "execution_count": 50,
     "metadata": {},
     "output_type": "execute_result"
    }
   ],
   "source": [
    "df_all.head()"
   ]
  },
  {
   "cell_type": "code",
   "execution_count": 51,
   "metadata": {},
   "outputs": [],
   "source": [
    "aug=[]\n",
    "for f in imgaug_names:\n",
    "    n=f.split('_')[0]\n",
    "    aug.append(n)"
   ]
  },
  {
   "cell_type": "code",
   "execution_count": 52,
   "metadata": {},
   "outputs": [],
   "source": [
    "augmented=list(set(aug))"
   ]
  },
  {
   "cell_type": "code",
   "execution_count": 53,
   "metadata": {},
   "outputs": [
    {
     "data": {
      "text/plain": [
       "'7a34eb5e'"
      ]
     },
     "execution_count": 53,
     "metadata": {},
     "output_type": "execute_result"
    }
   ],
   "source": [
    "augmented[0]"
   ]
  },
  {
   "cell_type": "code",
   "execution_count": 54,
   "metadata": {},
   "outputs": [],
   "source": [
    "df_aug=df_all.copy()"
   ]
  },
  {
   "cell_type": "code",
   "execution_count": 55,
   "metadata": {},
   "outputs": [
    {
     "data": {
      "text/plain": [
       "'7a234dfe_imgaug_3_3359.tif'"
      ]
     },
     "execution_count": 55,
     "metadata": {},
     "output_type": "execute_result"
    }
   ],
   "source": [
    "imgaug_names[0]"
   ]
  },
  {
   "cell_type": "markdown",
   "metadata": {},
   "source": [
    "Create new df containing non and augmented copies of images"
   ]
  },
  {
   "cell_type": "code",
   "execution_count": 56,
   "metadata": {},
   "outputs": [
    {
     "name": "stdout",
     "output_type": "stream",
     "text": [
      "0\n",
      "1000\n",
      "2000\n",
      "3000\n",
      "4000\n",
      "5000\n",
      "6000\n",
      "7000\n",
      "8000\n",
      "9000\n",
      "10000\n",
      "11000\n",
      "12000\n",
      "13000\n",
      "14000\n",
      "15000\n",
      "16000\n",
      "17000\n",
      "18000\n",
      "19000\n",
      "20000\n",
      "21000\n",
      "22000\n",
      "23000\n",
      "24000\n",
      "25000\n",
      "26000\n",
      "27000\n",
      "28000\n",
      "29000\n",
      "30000\n",
      "31000\n",
      "32000\n",
      "33000\n",
      "34000\n",
      "35000\n",
      "36000\n",
      "37000\n",
      "38000\n",
      "39000\n",
      "40000\n",
      "41000\n",
      "42000\n",
      "43000\n",
      "44000\n",
      "45000\n",
      "46000\n",
      "47000\n",
      "48000\n",
      "49000\n",
      "50000\n",
      "51000\n",
      "52000\n",
      "53000\n",
      "54000\n",
      "55000\n",
      "56000\n",
      "57000\n",
      "58000\n",
      "59000\n",
      "60000\n",
      "61000\n",
      "62000\n",
      "63000\n",
      "64000\n",
      "65000\n",
      "66000\n",
      "67000\n",
      "68000\n",
      "69000\n",
      "70000\n",
      "71000\n",
      "72000\n",
      "73000\n",
      "74000\n",
      "75000\n",
      "76000\n",
      "77000\n",
      "78000\n",
      "79000\n",
      "80000\n",
      "81000\n",
      "82000\n",
      "83000\n",
      "84000\n",
      "85000\n",
      "86000\n",
      "87000\n",
      "88000\n",
      "89000\n",
      "90000\n",
      "91000\n",
      "92000\n",
      "93000\n",
      "94000\n",
      "95000\n",
      "96000\n",
      "97000\n",
      "98000\n",
      "99000\n",
      "100000\n",
      "101000\n",
      "102000\n",
      "103000\n",
      "104000\n",
      "105000\n",
      "106000\n",
      "107000\n",
      "108000\n",
      "109000\n",
      "110000\n",
      "111000\n",
      "112000\n",
      "113000\n",
      "114000\n",
      "115000\n",
      "116000\n",
      "117000\n",
      "118000\n",
      "119000\n",
      "120000\n",
      "121000\n",
      "122000\n",
      "123000\n",
      "124000\n",
      "125000\n",
      "126000\n",
      "127000\n",
      "128000\n",
      "129000\n",
      "130000\n",
      "131000\n",
      "132000\n",
      "133000\n",
      "134000\n",
      "135000\n",
      "136000\n",
      "137000\n",
      "138000\n",
      "139000\n",
      "140000\n",
      "141000\n",
      "142000\n",
      "143000\n",
      "144000\n",
      "145000\n",
      "146000\n",
      "147000\n",
      "148000\n"
     ]
    }
   ],
   "source": [
    "for i,f in enumerate(imgaug_names):\n",
    "    if (i%1000)==0:\n",
    "        print(i)\n",
    "    n=f.split('_')[0]\n",
    "    row=df_all.loc[df_all['id'] == n]\n",
    "    d=row.reset_index().to_dict(orient='records')\n",
    "    if len(d)>0:\n",
    "        d=d[0]\n",
    "        t=f.split('.tif')[0]\n",
    "        d['id']=t\n",
    "        del d['index']\n",
    "        df_aug=df_aug.append(d, ignore_index=True)"
   ]
  },
  {
   "cell_type": "code",
   "execution_count": 58,
   "metadata": {},
   "outputs": [
    {
     "data": {
      "text/html": [
       "<div>\n",
       "<style scoped>\n",
       "    .dataframe tbody tr th:only-of-type {\n",
       "        vertical-align: middle;\n",
       "    }\n",
       "\n",
       "    .dataframe tbody tr th {\n",
       "        vertical-align: top;\n",
       "    }\n",
       "\n",
       "    .dataframe thead th {\n",
       "        text-align: right;\n",
       "    }\n",
       "</style>\n",
       "<table border=\"1\" class=\"dataframe\">\n",
       "  <thead>\n",
       "    <tr style=\"text-align: right;\">\n",
       "      <th></th>\n",
       "      <th>id</th>\n",
       "      <th>roof_material</th>\n",
       "      <th>verified</th>\n",
       "      <th>country</th>\n",
       "      <th>region</th>\n",
       "    </tr>\n",
       "  </thead>\n",
       "  <tbody>\n",
       "    <tr>\n",
       "      <th>234439</th>\n",
       "      <td>7a4098d2_imgaug_5_10762</td>\n",
       "      <td>healthy_metal</td>\n",
       "      <td>True</td>\n",
       "      <td>guatemala</td>\n",
       "      <td>mixco_1_and_ebenezer</td>\n",
       "    </tr>\n",
       "    <tr>\n",
       "      <th>234440</th>\n",
       "      <td>7a2a075c_imgaug_7_6930</td>\n",
       "      <td>irregular_metal</td>\n",
       "      <td>True</td>\n",
       "      <td>colombia</td>\n",
       "      <td>borde_soacha</td>\n",
       "    </tr>\n",
       "    <tr>\n",
       "      <th>234441</th>\n",
       "      <td>7a3b9b16_imgaug_9_3308</td>\n",
       "      <td>healthy_metal</td>\n",
       "      <td>True</td>\n",
       "      <td>colombia</td>\n",
       "      <td>borde_rural</td>\n",
       "    </tr>\n",
       "    <tr>\n",
       "      <th>234442</th>\n",
       "      <td>7a4492a2_imgaug_3_7806</td>\n",
       "      <td>healthy_metal</td>\n",
       "      <td>True</td>\n",
       "      <td>colombia</td>\n",
       "      <td>borde_soacha</td>\n",
       "    </tr>\n",
       "    <tr>\n",
       "      <th>234443</th>\n",
       "      <td>7a39172e_imgaug_5_9325</td>\n",
       "      <td>irregular_metal</td>\n",
       "      <td>True</td>\n",
       "      <td>colombia</td>\n",
       "      <td>borde_soacha</td>\n",
       "    </tr>\n",
       "  </tbody>\n",
       "</table>\n",
       "</div>"
      ],
      "text/plain": [
       "                             id    roof_material  verified    country  \\\n",
       "234439  7a4098d2_imgaug_5_10762    healthy_metal      True  guatemala   \n",
       "234440   7a2a075c_imgaug_7_6930  irregular_metal      True   colombia   \n",
       "234441   7a3b9b16_imgaug_9_3308    healthy_metal      True   colombia   \n",
       "234442   7a4492a2_imgaug_3_7806    healthy_metal      True   colombia   \n",
       "234443   7a39172e_imgaug_5_9325  irregular_metal      True   colombia   \n",
       "\n",
       "                      region  \n",
       "234439  mixco_1_and_ebenezer  \n",
       "234440          borde_soacha  \n",
       "234441           borde_rural  \n",
       "234442          borde_soacha  \n",
       "234443          borde_soacha  "
      ]
     },
     "execution_count": 58,
     "metadata": {},
     "output_type": "execute_result"
    }
   ],
   "source": [
    "df_aug.tail()"
   ]
  },
  {
   "cell_type": "code",
   "execution_count": 59,
   "metadata": {},
   "outputs": [
    {
     "data": {
      "text/plain": [
       "234444"
      ]
     },
     "execution_count": 59,
     "metadata": {},
     "output_type": "execute_result"
    }
   ],
   "source": [
    "len(df_aug)"
   ]
  },
  {
   "cell_type": "code",
   "execution_count": 60,
   "metadata": {},
   "outputs": [],
   "source": [
    "df_aug=df_aug.drop_duplicates(subset=['id'])"
   ]
  },
  {
   "cell_type": "code",
   "execution_count": 61,
   "metadata": {},
   "outputs": [
    {
     "data": {
      "text/plain": [
       "171253"
      ]
     },
     "execution_count": 61,
     "metadata": {},
     "output_type": "execute_result"
    }
   ],
   "source": [
    "len(df_aug)"
   ]
  },
  {
   "cell_type": "code",
   "execution_count": 62,
   "metadata": {},
   "outputs": [
    {
     "data": {
      "text/plain": [
       "<matplotlib.axes._subplots.AxesSubplot at 0x7f07751c5ef0>"
      ]
     },
     "execution_count": 62,
     "metadata": {},
     "output_type": "execute_result"
    },
    {
     "data": {
      "image/png": "[encoded data removed]",
      "text/plain": [
       "<Figure size 432x288 with 1 Axes>"
      ]
     },
     "metadata": {
      "needs_background": "light"
     },
     "output_type": "display_data"
    }
   ],
   "source": [
    "df_aug['roof_material'].value_counts().plot(kind='bar')"
   ]
  },
  {
   "cell_type": "code",
   "execution_count": 63,
   "metadata": {},
   "outputs": [],
   "source": [
    "df_aug.to_csv(data_dir/f'df_aug_{border}.csv', index=False)"
   ]
  },
  {
   "cell_type": "code",
   "execution_count": 64,
   "metadata": {},
   "outputs": [
    {
     "ename": "FileNotFoundError",
     "evalue": "[Errno 2] No such file or directory: 'data/train/rotated/clipped/reflect/256/7a44ca24_imgaug_0_3237.tif'",
     "output_type": "error",
     "traceback": [
      "\u001b[0;31m---------------------------------------------------------------------------\u001b[0m",
      "\u001b[0;31mFileNotFoundError\u001b[0m                         Traceback (most recent call last)",
      "\u001b[0;32m<ipython-input-64-66e937281b59>\u001b[0m in \u001b[0;36m<module>\u001b[0;34m\u001b[0m\n\u001b[1;32m      1\u001b[0m \u001b[0mim1\u001b[0m\u001b[0;34m=\u001b[0m\u001b[0mImage\u001b[0m\u001b[0;34m.\u001b[0m\u001b[0mopen\u001b[0m\u001b[0;34m(\u001b[0m\u001b[0mdata_dir\u001b[0m\u001b[0;34m/\u001b[0m\u001b[0;34mf'train/rotated/clipped/{border}/256/7a44ca24.tif'\u001b[0m\u001b[0;34m)\u001b[0m\u001b[0;34m\u001b[0m\u001b[0;34m\u001b[0m\u001b[0m\n\u001b[0;32m----> 2\u001b[0;31m \u001b[0mim2\u001b[0m\u001b[0;34m=\u001b[0m\u001b[0mImage\u001b[0m\u001b[0;34m.\u001b[0m\u001b[0mopen\u001b[0m\u001b[0;34m(\u001b[0m\u001b[0mdata_dir\u001b[0m\u001b[0;34m/\u001b[0m\u001b[0;34mf'train/rotated/clipped/{border}/256/7a44ca24_imgaug_0_3237.tif'\u001b[0m\u001b[0;34m)\u001b[0m\u001b[0;34m\u001b[0m\u001b[0;34m\u001b[0m\u001b[0m\n\u001b[0m\u001b[1;32m      3\u001b[0m \u001b[0mim3\u001b[0m\u001b[0;34m=\u001b[0m\u001b[0mImage\u001b[0m\u001b[0;34m.\u001b[0m\u001b[0mopen\u001b[0m\u001b[0;34m(\u001b[0m\u001b[0mdata_dir\u001b[0m\u001b[0;34m/\u001b[0m\u001b[0;34mf'train/rotated/clipped/{border}/256/7a44ca24_imgaug_1_3237.tif'\u001b[0m\u001b[0;34m)\u001b[0m\u001b[0;34m\u001b[0m\u001b[0;34m\u001b[0m\u001b[0m\n\u001b[1;32m      4\u001b[0m \u001b[0mim4\u001b[0m\u001b[0;34m=\u001b[0m\u001b[0mImage\u001b[0m\u001b[0;34m.\u001b[0m\u001b[0mopen\u001b[0m\u001b[0;34m(\u001b[0m\u001b[0mdata_dir\u001b[0m\u001b[0;34m/\u001b[0m\u001b[0;34mf'train/rotated/clipped/{border}/256/7a44ca24_imgaug_2_3237.tif'\u001b[0m\u001b[0;34m)\u001b[0m\u001b[0;34m\u001b[0m\u001b[0;34m\u001b[0m\u001b[0m\n",
      "\u001b[0;32m~/.local/lib/python3.6/site-packages/PIL/Image.py\u001b[0m in \u001b[0;36mopen\u001b[0;34m(fp, mode)\u001b[0m\n\u001b[1;32m   2650\u001b[0m \u001b[0;34m\u001b[0m\u001b[0m\n\u001b[1;32m   2651\u001b[0m     \u001b[0;32mif\u001b[0m \u001b[0mfilename\u001b[0m\u001b[0;34m:\u001b[0m\u001b[0;34m\u001b[0m\u001b[0;34m\u001b[0m\u001b[0m\n\u001b[0;32m-> 2652\u001b[0;31m         \u001b[0mfp\u001b[0m \u001b[0;34m=\u001b[0m \u001b[0mbuiltins\u001b[0m\u001b[0;34m.\u001b[0m\u001b[0mopen\u001b[0m\u001b[0;34m(\u001b[0m\u001b[0mfilename\u001b[0m\u001b[0;34m,\u001b[0m \u001b[0;34m\"rb\"\u001b[0m\u001b[0;34m)\u001b[0m\u001b[0;34m\u001b[0m\u001b[0;34m\u001b[0m\u001b[0m\n\u001b[0m\u001b[1;32m   2653\u001b[0m         \u001b[0mexclusive_fp\u001b[0m \u001b[0;34m=\u001b[0m \u001b[0;32mTrue\u001b[0m\u001b[0;34m\u001b[0m\u001b[0;34m\u001b[0m\u001b[0m\n\u001b[1;32m   2654\u001b[0m \u001b[0;34m\u001b[0m\u001b[0m\n",
      "\u001b[0;31mFileNotFoundError\u001b[0m: [Errno 2] No such file or directory: 'data/train/rotated/clipped/reflect/256/7a44ca24_imgaug_0_3237.tif'"
     ]
    }
   ],
   "source": [
    "im1=Image.open(data_dir/f'train/rotated/clipped/{border}/256/7a44ca24.tif')\n",
    "im2=Image.open(data_dir/f'train/rotated/clipped/{border}/256/7a44ca24_imgaug_0_3237.tif')\n",
    "im3=Image.open(data_dir/f'train/rotated/clipped/{border}/256/7a44ca24_imgaug_1_3237.tif')\n",
    "im4=Image.open(data_dir/f'train/rotated/clipped/{border}/256/7a44ca24_imgaug_2_3237.tif')"
   ]
  },
  {
   "cell_type": "code",
   "execution_count": null,
   "metadata": {},
   "outputs": [],
   "source": [
    "mpl_2_plot(im1, 'actual', im2, 'aug_0')"
   ]
  },
  {
   "cell_type": "code",
   "execution_count": null,
   "metadata": {},
   "outputs": [],
   "source": [
    "mpl_2_plot(im1, 'actual', im3, 'aug_1')"
   ]
  },
  {
   "cell_type": "code",
   "execution_count": null,
   "metadata": {},
   "outputs": [],
   "source": [
    "mpl_2_plot(im1, 'actual', im4, 'aug_2')"
   ]
  },
  {
   "cell_type": "code",
   "execution_count": null,
   "metadata": {},
   "outputs": [],
   "source": []
  }
 ],
 "metadata": {
  "kernelspec": {
   "display_name": "Python 3",
   "language": "python",
   "name": "python3"
  },
  "language_info": {
   "codemirror_mode": {
    "name": "ipython",
    "version": 3
   },
   "file_extension": ".py",
   "mimetype": "text/x-python",
   "name": "python",
   "nbconvert_exporter": "python",
   "pygments_lexer": "ipython3",
   "version": "3.7.4"
  }
 },
 "nbformat": 4,
 "nbformat_minor": 2
}
