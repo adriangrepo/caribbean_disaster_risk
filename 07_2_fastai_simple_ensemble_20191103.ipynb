{
 "cells": [
  {
   "cell_type": "markdown",
   "metadata": {},
   "source": [
    "## Ensemble\n",
    "\n",
    "simple ensembing by averaging predictions"
   ]
  },
  {
   "cell_type": "code",
   "execution_count": 1,
   "metadata": {},
   "outputs": [],
   "source": [
    "%reload_ext autoreload\n",
    "%autoreload 2\n",
    "%matplotlib inline"
   ]
  },
  {
   "cell_type": "code",
   "execution_count": 4,
   "metadata": {},
   "outputs": [],
   "source": [
    "import pandas as pd\n",
    "from pathlib import Path"
   ]
  },
  {
   "cell_type": "code",
   "execution_count": 5,
   "metadata": {},
   "outputs": [],
   "source": [
    "data_dir = Path('data')\n",
    "sub_dir=data_dir/'submissions'"
   ]
  },
  {
   "cell_type": "code",
   "execution_count": 7,
   "metadata": {},
   "outputs": [],
   "source": [
    "df_resnet_1=pd.read_csv(sub_dir/'stage-2-rn50-03_1-cv_reflect_101-20191026-1964891c.csv')"
   ]
  },
  {
   "cell_type": "code",
   "execution_count": 8,
   "metadata": {},
   "outputs": [],
   "source": [
    "df_resnet_2=pd.read_csv(sub_dir/'stage-2-rn50-05_3-cv_wrap-20191028-51e21949.csv')"
   ]
  },
  {
   "cell_type": "code",
   "execution_count": 9,
   "metadata": {},
   "outputs": [],
   "source": [
    "df_densenet_1=pd.read_csv(sub_dir/'stage-2-dn121-06_7-cv_reflect_101-20191031-d3611e57.csv')"
   ]
  },
  {
   "cell_type": "code",
   "execution_count": 10,
   "metadata": {},
   "outputs": [],
   "source": [
    "df_efficientnet_1=pd.read_csv(sub_dir/'stage-2-efficient_net_b0-06_3-efficientnet-20191030-9c8c52b7.csv')"
   ]
  },
  {
   "cell_type": "markdown",
   "metadata": {},
   "source": [
    "### average"
   ]
  },
  {
   "cell_type": "code",
   "execution_count": 11,
   "metadata": {},
   "outputs": [],
   "source": [
    "df_concat = pd.concat((df_resnet_1, df_resnet_2, df_densenet_1, df_efficientnet_1))"
   ]
  },
  {
   "cell_type": "code",
   "execution_count": 12,
   "metadata": {},
   "outputs": [
    {
     "data": {
      "text/html": [
       "<div>\n",
       "<style scoped>\n",
       "    .dataframe tbody tr th:only-of-type {\n",
       "        vertical-align: middle;\n",
       "    }\n",
       "\n",
       "    .dataframe tbody tr th {\n",
       "        vertical-align: top;\n",
       "    }\n",
       "\n",
       "    .dataframe thead th {\n",
       "        text-align: right;\n",
       "    }\n",
       "</style>\n",
       "<table border=\"1\" class=\"dataframe\">\n",
       "  <thead>\n",
       "    <tr style=\"text-align: right;\">\n",
       "      <th></th>\n",
       "      <th>id</th>\n",
       "      <th>concrete_cement</th>\n",
       "      <th>healthy_metal</th>\n",
       "      <th>incomplete</th>\n",
       "      <th>irregular_metal</th>\n",
       "      <th>other</th>\n",
       "    </tr>\n",
       "  </thead>\n",
       "  <tbody>\n",
       "    <tr>\n",
       "      <td>0</td>\n",
       "      <td>7a4d630a</td>\n",
       "      <td>0.013808</td>\n",
       "      <td>0.980777</td>\n",
       "      <td>0.000303</td>\n",
       "      <td>0.003716</td>\n",
       "      <td>0.001395</td>\n",
       "    </tr>\n",
       "    <tr>\n",
       "      <td>1</td>\n",
       "      <td>7a4bbbd6</td>\n",
       "      <td>0.000810</td>\n",
       "      <td>0.949852</td>\n",
       "      <td>0.000470</td>\n",
       "      <td>0.048376</td>\n",
       "      <td>0.000491</td>\n",
       "    </tr>\n",
       "    <tr>\n",
       "      <td>2</td>\n",
       "      <td>7a4ac744</td>\n",
       "      <td>0.001608</td>\n",
       "      <td>0.855418</td>\n",
       "      <td>0.001628</td>\n",
       "      <td>0.140389</td>\n",
       "      <td>0.000957</td>\n",
       "    </tr>\n",
       "    <tr>\n",
       "      <td>3</td>\n",
       "      <td>7a4881fa</td>\n",
       "      <td>0.004803</td>\n",
       "      <td>0.234743</td>\n",
       "      <td>0.006764</td>\n",
       "      <td>0.752769</td>\n",
       "      <td>0.000920</td>\n",
       "    </tr>\n",
       "    <tr>\n",
       "      <td>4</td>\n",
       "      <td>7a4aa4a8</td>\n",
       "      <td>0.004477</td>\n",
       "      <td>0.706235</td>\n",
       "      <td>0.003069</td>\n",
       "      <td>0.283955</td>\n",
       "      <td>0.002263</td>\n",
       "    </tr>\n",
       "  </tbody>\n",
       "</table>\n",
       "</div>"
      ],
      "text/plain": [
       "         id  concrete_cement  healthy_metal  incomplete  irregular_metal  \\\n",
       "0  7a4d630a         0.013808       0.980777    0.000303         0.003716   \n",
       "1  7a4bbbd6         0.000810       0.949852    0.000470         0.048376   \n",
       "2  7a4ac744         0.001608       0.855418    0.001628         0.140389   \n",
       "3  7a4881fa         0.004803       0.234743    0.006764         0.752769   \n",
       "4  7a4aa4a8         0.004477       0.706235    0.003069         0.283955   \n",
       "\n",
       "      other  \n",
       "0  0.001395  \n",
       "1  0.000491  \n",
       "2  0.000957  \n",
       "3  0.000920  \n",
       "4  0.002263  "
      ]
     },
     "execution_count": 12,
     "metadata": {},
     "output_type": "execute_result"
    }
   ],
   "source": [
    "df_concat.head()"
   ]
  },
  {
   "cell_type": "code",
   "execution_count": 13,
   "metadata": {},
   "outputs": [],
   "source": [
    "by_row_index = df_concat.groupby(df_concat.index)"
   ]
  },
  {
   "cell_type": "code",
   "execution_count": 29,
   "metadata": {},
   "outputs": [
    {
     "data": {
      "text/html": [
       "<div>\n",
       "<style scoped>\n",
       "    .dataframe tbody tr th:only-of-type {\n",
       "        vertical-align: middle;\n",
       "    }\n",
       "\n",
       "    .dataframe tbody tr th {\n",
       "        vertical-align: top;\n",
       "    }\n",
       "\n",
       "    .dataframe thead th {\n",
       "        text-align: right;\n",
       "    }\n",
       "</style>\n",
       "<table border=\"1\" class=\"dataframe\">\n",
       "  <thead>\n",
       "    <tr style=\"text-align: right;\">\n",
       "      <th></th>\n",
       "      <th>id</th>\n",
       "      <th>concrete_cement</th>\n",
       "      <th>healthy_metal</th>\n",
       "      <th>incomplete</th>\n",
       "      <th>irregular_metal</th>\n",
       "      <th>other</th>\n",
       "    </tr>\n",
       "  </thead>\n",
       "  <tbody>\n",
       "    <tr>\n",
       "      <td>0</td>\n",
       "      <td>7a4d630a</td>\n",
       "      <td>0.013808</td>\n",
       "      <td>0.980777</td>\n",
       "      <td>3.033101e-04</td>\n",
       "      <td>0.003716</td>\n",
       "      <td>1.395275e-03</td>\n",
       "    </tr>\n",
       "    <tr>\n",
       "      <td>1</td>\n",
       "      <td>7a4bbbd6</td>\n",
       "      <td>0.000810</td>\n",
       "      <td>0.949852</td>\n",
       "      <td>4.703865e-04</td>\n",
       "      <td>0.048376</td>\n",
       "      <td>4.913071e-04</td>\n",
       "    </tr>\n",
       "    <tr>\n",
       "      <td>2</td>\n",
       "      <td>7a4ac744</td>\n",
       "      <td>0.001608</td>\n",
       "      <td>0.855418</td>\n",
       "      <td>1.627956e-03</td>\n",
       "      <td>0.140389</td>\n",
       "      <td>9.566082e-04</td>\n",
       "    </tr>\n",
       "    <tr>\n",
       "      <td>3</td>\n",
       "      <td>7a4881fa</td>\n",
       "      <td>0.004803</td>\n",
       "      <td>0.234743</td>\n",
       "      <td>6.764163e-03</td>\n",
       "      <td>0.752769</td>\n",
       "      <td>9.204771e-04</td>\n",
       "    </tr>\n",
       "    <tr>\n",
       "      <td>4</td>\n",
       "      <td>7a4aa4a8</td>\n",
       "      <td>0.004477</td>\n",
       "      <td>0.706235</td>\n",
       "      <td>3.069423e-03</td>\n",
       "      <td>0.283955</td>\n",
       "      <td>2.263286e-03</td>\n",
       "    </tr>\n",
       "    <tr>\n",
       "      <td>...</td>\n",
       "      <td>...</td>\n",
       "      <td>...</td>\n",
       "      <td>...</td>\n",
       "      <td>...</td>\n",
       "      <td>...</td>\n",
       "      <td>...</td>\n",
       "    </tr>\n",
       "    <tr>\n",
       "      <td>7320</td>\n",
       "      <td>7a4f3ff4</td>\n",
       "      <td>0.000007</td>\n",
       "      <td>0.986375</td>\n",
       "      <td>9.416152e-06</td>\n",
       "      <td>0.013183</td>\n",
       "      <td>4.260044e-04</td>\n",
       "    </tr>\n",
       "    <tr>\n",
       "      <td>7321</td>\n",
       "      <td>7a4fc578</td>\n",
       "      <td>0.000011</td>\n",
       "      <td>0.999986</td>\n",
       "      <td>1.482010e-08</td>\n",
       "      <td>0.000003</td>\n",
       "      <td>7.726951e-07</td>\n",
       "    </tr>\n",
       "    <tr>\n",
       "      <td>7322</td>\n",
       "      <td>7a4ac7b2</td>\n",
       "      <td>0.006544</td>\n",
       "      <td>0.965922</td>\n",
       "      <td>1.611289e-03</td>\n",
       "      <td>0.024577</td>\n",
       "      <td>1.346010e-03</td>\n",
       "    </tr>\n",
       "    <tr>\n",
       "      <td>7323</td>\n",
       "      <td>7a47e25e</td>\n",
       "      <td>0.134326</td>\n",
       "      <td>0.853810</td>\n",
       "      <td>7.822608e-06</td>\n",
       "      <td>0.011738</td>\n",
       "      <td>1.179837e-04</td>\n",
       "    </tr>\n",
       "    <tr>\n",
       "      <td>7324</td>\n",
       "      <td>7a4e3f78</td>\n",
       "      <td>0.000001</td>\n",
       "      <td>0.990919</td>\n",
       "      <td>6.416006e-05</td>\n",
       "      <td>0.000818</td>\n",
       "      <td>8.197695e-03</td>\n",
       "    </tr>\n",
       "  </tbody>\n",
       "</table>\n",
       "<p>29300 rows × 6 columns</p>\n",
       "</div>"
      ],
      "text/plain": [
       "            id  concrete_cement  healthy_metal    incomplete  irregular_metal  \\\n",
       "0     7a4d630a         0.013808       0.980777  3.033101e-04         0.003716   \n",
       "1     7a4bbbd6         0.000810       0.949852  4.703865e-04         0.048376   \n",
       "2     7a4ac744         0.001608       0.855418  1.627956e-03         0.140389   \n",
       "3     7a4881fa         0.004803       0.234743  6.764163e-03         0.752769   \n",
       "4     7a4aa4a8         0.004477       0.706235  3.069423e-03         0.283955   \n",
       "...        ...              ...            ...           ...              ...   \n",
       "7320  7a4f3ff4         0.000007       0.986375  9.416152e-06         0.013183   \n",
       "7321  7a4fc578         0.000011       0.999986  1.482010e-08         0.000003   \n",
       "7322  7a4ac7b2         0.006544       0.965922  1.611289e-03         0.024577   \n",
       "7323  7a47e25e         0.134326       0.853810  7.822608e-06         0.011738   \n",
       "7324  7a4e3f78         0.000001       0.990919  6.416006e-05         0.000818   \n",
       "\n",
       "             other  \n",
       "0     1.395275e-03  \n",
       "1     4.913071e-04  \n",
       "2     9.566082e-04  \n",
       "3     9.204771e-04  \n",
       "4     2.263286e-03  \n",
       "...            ...  \n",
       "7320  4.260044e-04  \n",
       "7321  7.726951e-07  \n",
       "7322  1.346010e-03  \n",
       "7323  1.179837e-04  \n",
       "7324  8.197695e-03  \n",
       "\n",
       "[29300 rows x 6 columns]"
      ]
     },
     "execution_count": 29,
     "metadata": {},
     "output_type": "execute_result"
    }
   ],
   "source": [
    "by_row_index.head()"
   ]
  },
  {
   "cell_type": "code",
   "execution_count": 14,
   "metadata": {},
   "outputs": [],
   "source": [
    "df_means = by_row_index.mean()"
   ]
  },
  {
   "cell_type": "code",
   "execution_count": 15,
   "metadata": {},
   "outputs": [
    {
     "data": {
      "text/html": [
       "<div>\n",
       "<style scoped>\n",
       "    .dataframe tbody tr th:only-of-type {\n",
       "        vertical-align: middle;\n",
       "    }\n",
       "\n",
       "    .dataframe tbody tr th {\n",
       "        vertical-align: top;\n",
       "    }\n",
       "\n",
       "    .dataframe thead th {\n",
       "        text-align: right;\n",
       "    }\n",
       "</style>\n",
       "<table border=\"1\" class=\"dataframe\">\n",
       "  <thead>\n",
       "    <tr style=\"text-align: right;\">\n",
       "      <th></th>\n",
       "      <th>concrete_cement</th>\n",
       "      <th>healthy_metal</th>\n",
       "      <th>incomplete</th>\n",
       "      <th>irregular_metal</th>\n",
       "      <th>other</th>\n",
       "    </tr>\n",
       "  </thead>\n",
       "  <tbody>\n",
       "    <tr>\n",
       "      <td>0</td>\n",
       "      <td>0.006900</td>\n",
       "      <td>0.984284</td>\n",
       "      <td>0.001062</td>\n",
       "      <td>0.006436</td>\n",
       "      <td>0.001319</td>\n",
       "    </tr>\n",
       "    <tr>\n",
       "      <td>1</td>\n",
       "      <td>0.000997</td>\n",
       "      <td>0.951669</td>\n",
       "      <td>0.000856</td>\n",
       "      <td>0.045864</td>\n",
       "      <td>0.000613</td>\n",
       "    </tr>\n",
       "    <tr>\n",
       "      <td>2</td>\n",
       "      <td>0.007501</td>\n",
       "      <td>0.808328</td>\n",
       "      <td>0.007310</td>\n",
       "      <td>0.175371</td>\n",
       "      <td>0.001490</td>\n",
       "    </tr>\n",
       "    <tr>\n",
       "      <td>3</td>\n",
       "      <td>0.004724</td>\n",
       "      <td>0.170939</td>\n",
       "      <td>0.006211</td>\n",
       "      <td>0.816583</td>\n",
       "      <td>0.001543</td>\n",
       "    </tr>\n",
       "    <tr>\n",
       "      <td>4</td>\n",
       "      <td>0.008597</td>\n",
       "      <td>0.738466</td>\n",
       "      <td>0.003730</td>\n",
       "      <td>0.247354</td>\n",
       "      <td>0.001853</td>\n",
       "    </tr>\n",
       "  </tbody>\n",
       "</table>\n",
       "</div>"
      ],
      "text/plain": [
       "   concrete_cement  healthy_metal  incomplete  irregular_metal     other\n",
       "0         0.006900       0.984284    0.001062         0.006436  0.001319\n",
       "1         0.000997       0.951669    0.000856         0.045864  0.000613\n",
       "2         0.007501       0.808328    0.007310         0.175371  0.001490\n",
       "3         0.004724       0.170939    0.006211         0.816583  0.001543\n",
       "4         0.008597       0.738466    0.003730         0.247354  0.001853"
      ]
     },
     "execution_count": 15,
     "metadata": {},
     "output_type": "execute_result"
    }
   ],
   "source": [
    "df_means.head()"
   ]
  },
  {
   "cell_type": "code",
   "execution_count": 16,
   "metadata": {},
   "outputs": [],
   "source": [
    "df_means['Sum'] = df_means.sum(axis=1)"
   ]
  },
  {
   "cell_type": "code",
   "execution_count": 17,
   "metadata": {},
   "outputs": [
    {
     "data": {
      "text/html": [
       "<div>\n",
       "<style scoped>\n",
       "    .dataframe tbody tr th:only-of-type {\n",
       "        vertical-align: middle;\n",
       "    }\n",
       "\n",
       "    .dataframe tbody tr th {\n",
       "        vertical-align: top;\n",
       "    }\n",
       "\n",
       "    .dataframe thead th {\n",
       "        text-align: right;\n",
       "    }\n",
       "</style>\n",
       "<table border=\"1\" class=\"dataframe\">\n",
       "  <thead>\n",
       "    <tr style=\"text-align: right;\">\n",
       "      <th></th>\n",
       "      <th>concrete_cement</th>\n",
       "      <th>healthy_metal</th>\n",
       "      <th>incomplete</th>\n",
       "      <th>irregular_metal</th>\n",
       "      <th>other</th>\n",
       "      <th>Sum</th>\n",
       "    </tr>\n",
       "  </thead>\n",
       "  <tbody>\n",
       "    <tr>\n",
       "      <td>0</td>\n",
       "      <td>0.006900</td>\n",
       "      <td>0.984284</td>\n",
       "      <td>0.001062</td>\n",
       "      <td>0.006436</td>\n",
       "      <td>0.001319</td>\n",
       "      <td>1.0</td>\n",
       "    </tr>\n",
       "    <tr>\n",
       "      <td>1</td>\n",
       "      <td>0.000997</td>\n",
       "      <td>0.951669</td>\n",
       "      <td>0.000856</td>\n",
       "      <td>0.045864</td>\n",
       "      <td>0.000613</td>\n",
       "      <td>1.0</td>\n",
       "    </tr>\n",
       "    <tr>\n",
       "      <td>2</td>\n",
       "      <td>0.007501</td>\n",
       "      <td>0.808328</td>\n",
       "      <td>0.007310</td>\n",
       "      <td>0.175371</td>\n",
       "      <td>0.001490</td>\n",
       "      <td>1.0</td>\n",
       "    </tr>\n",
       "    <tr>\n",
       "      <td>3</td>\n",
       "      <td>0.004724</td>\n",
       "      <td>0.170939</td>\n",
       "      <td>0.006211</td>\n",
       "      <td>0.816583</td>\n",
       "      <td>0.001543</td>\n",
       "      <td>1.0</td>\n",
       "    </tr>\n",
       "    <tr>\n",
       "      <td>4</td>\n",
       "      <td>0.008597</td>\n",
       "      <td>0.738466</td>\n",
       "      <td>0.003730</td>\n",
       "      <td>0.247354</td>\n",
       "      <td>0.001853</td>\n",
       "      <td>1.0</td>\n",
       "    </tr>\n",
       "  </tbody>\n",
       "</table>\n",
       "</div>"
      ],
      "text/plain": [
       "   concrete_cement  healthy_metal  incomplete  irregular_metal     other  Sum\n",
       "0         0.006900       0.984284    0.001062         0.006436  0.001319  1.0\n",
       "1         0.000997       0.951669    0.000856         0.045864  0.000613  1.0\n",
       "2         0.007501       0.808328    0.007310         0.175371  0.001490  1.0\n",
       "3         0.004724       0.170939    0.006211         0.816583  0.001543  1.0\n",
       "4         0.008597       0.738466    0.003730         0.247354  0.001853  1.0"
      ]
     },
     "execution_count": 17,
     "metadata": {},
     "output_type": "execute_result"
    }
   ],
   "source": [
    "df_means.head()"
   ]
  },
  {
   "cell_type": "code",
   "execution_count": 19,
   "metadata": {},
   "outputs": [
    {
     "data": {
      "text/plain": [
       "7120"
      ]
     },
     "execution_count": 19,
     "metadata": {},
     "output_type": "execute_result"
    }
   ],
   "source": [
    "len(df_means['Sum'].unique())"
   ]
  },
  {
   "cell_type": "code",
   "execution_count": 25,
   "metadata": {},
   "outputs": [
    {
     "data": {
      "text/plain": [
       "7325"
      ]
     },
     "execution_count": 25,
     "metadata": {},
     "output_type": "execute_result"
    }
   ],
   "source": [
    "len(df_means)"
   ]
  },
  {
   "cell_type": "code",
   "execution_count": 22,
   "metadata": {},
   "outputs": [
    {
     "data": {
      "text/plain": [
       "1.0000001231114766"
      ]
     },
     "execution_count": 22,
     "metadata": {},
     "output_type": "execute_result"
    }
   ],
   "source": [
    "df_means['Sum'].max()"
   ]
  },
  {
   "cell_type": "code",
   "execution_count": 23,
   "metadata": {},
   "outputs": [
    {
     "data": {
      "text/plain": [
       "0.9999998725603092"
      ]
     },
     "execution_count": 23,
     "metadata": {},
     "output_type": "execute_result"
    }
   ],
   "source": [
    "df_means['Sum'].min()"
   ]
  },
  {
   "cell_type": "code",
   "execution_count": 24,
   "metadata": {},
   "outputs": [],
   "source": [
    "df_means.drop(columns=['Sum'],inplace=True)"
   ]
  },
  {
   "cell_type": "code",
   "execution_count": 30,
   "metadata": {},
   "outputs": [],
   "source": [
    "df_means['id'] = df_resnet_1['id']"
   ]
  },
  {
   "cell_type": "code",
   "execution_count": 31,
   "metadata": {},
   "outputs": [
    {
     "data": {
      "text/html": [
       "<div>\n",
       "<style scoped>\n",
       "    .dataframe tbody tr th:only-of-type {\n",
       "        vertical-align: middle;\n",
       "    }\n",
       "\n",
       "    .dataframe tbody tr th {\n",
       "        vertical-align: top;\n",
       "    }\n",
       "\n",
       "    .dataframe thead th {\n",
       "        text-align: right;\n",
       "    }\n",
       "</style>\n",
       "<table border=\"1\" class=\"dataframe\">\n",
       "  <thead>\n",
       "    <tr style=\"text-align: right;\">\n",
       "      <th></th>\n",
       "      <th>concrete_cement</th>\n",
       "      <th>healthy_metal</th>\n",
       "      <th>incomplete</th>\n",
       "      <th>irregular_metal</th>\n",
       "      <th>other</th>\n",
       "      <th>id</th>\n",
       "    </tr>\n",
       "  </thead>\n",
       "  <tbody>\n",
       "    <tr>\n",
       "      <td>0</td>\n",
       "      <td>0.006900</td>\n",
       "      <td>0.984284</td>\n",
       "      <td>0.001062</td>\n",
       "      <td>0.006436</td>\n",
       "      <td>0.001319</td>\n",
       "      <td>7a4d630a</td>\n",
       "    </tr>\n",
       "    <tr>\n",
       "      <td>1</td>\n",
       "      <td>0.000997</td>\n",
       "      <td>0.951669</td>\n",
       "      <td>0.000856</td>\n",
       "      <td>0.045864</td>\n",
       "      <td>0.000613</td>\n",
       "      <td>7a4bbbd6</td>\n",
       "    </tr>\n",
       "    <tr>\n",
       "      <td>2</td>\n",
       "      <td>0.007501</td>\n",
       "      <td>0.808328</td>\n",
       "      <td>0.007310</td>\n",
       "      <td>0.175371</td>\n",
       "      <td>0.001490</td>\n",
       "      <td>7a4ac744</td>\n",
       "    </tr>\n",
       "    <tr>\n",
       "      <td>3</td>\n",
       "      <td>0.004724</td>\n",
       "      <td>0.170939</td>\n",
       "      <td>0.006211</td>\n",
       "      <td>0.816583</td>\n",
       "      <td>0.001543</td>\n",
       "      <td>7a4881fa</td>\n",
       "    </tr>\n",
       "    <tr>\n",
       "      <td>4</td>\n",
       "      <td>0.008597</td>\n",
       "      <td>0.738466</td>\n",
       "      <td>0.003730</td>\n",
       "      <td>0.247354</td>\n",
       "      <td>0.001853</td>\n",
       "      <td>7a4aa4a8</td>\n",
       "    </tr>\n",
       "  </tbody>\n",
       "</table>\n",
       "</div>"
      ],
      "text/plain": [
       "   concrete_cement  healthy_metal  incomplete  irregular_metal     other  \\\n",
       "0         0.006900       0.984284    0.001062         0.006436  0.001319   \n",
       "1         0.000997       0.951669    0.000856         0.045864  0.000613   \n",
       "2         0.007501       0.808328    0.007310         0.175371  0.001490   \n",
       "3         0.004724       0.170939    0.006211         0.816583  0.001543   \n",
       "4         0.008597       0.738466    0.003730         0.247354  0.001853   \n",
       "\n",
       "         id  \n",
       "0  7a4d630a  \n",
       "1  7a4bbbd6  \n",
       "2  7a4ac744  \n",
       "3  7a4881fa  \n",
       "4  7a4aa4a8  "
      ]
     },
     "execution_count": 31,
     "metadata": {},
     "output_type": "execute_result"
    }
   ],
   "source": [
    "df_means.head()"
   ]
  },
  {
   "cell_type": "code",
   "execution_count": 33,
   "metadata": {},
   "outputs": [],
   "source": [
    "cols = df_means.columns.tolist()"
   ]
  },
  {
   "cell_type": "code",
   "execution_count": 35,
   "metadata": {},
   "outputs": [],
   "source": [
    "cols=['id','concrete_cement',\n",
    " 'healthy_metal',\n",
    " 'incomplete',\n",
    " 'irregular_metal',\n",
    " 'other']"
   ]
  },
  {
   "cell_type": "code",
   "execution_count": 36,
   "metadata": {},
   "outputs": [],
   "source": [
    "df_means = df_means[cols]"
   ]
  },
  {
   "cell_type": "code",
   "execution_count": 37,
   "metadata": {},
   "outputs": [
    {
     "data": {
      "text/html": [
       "<div>\n",
       "<style scoped>\n",
       "    .dataframe tbody tr th:only-of-type {\n",
       "        vertical-align: middle;\n",
       "    }\n",
       "\n",
       "    .dataframe tbody tr th {\n",
       "        vertical-align: top;\n",
       "    }\n",
       "\n",
       "    .dataframe thead th {\n",
       "        text-align: right;\n",
       "    }\n",
       "</style>\n",
       "<table border=\"1\" class=\"dataframe\">\n",
       "  <thead>\n",
       "    <tr style=\"text-align: right;\">\n",
       "      <th></th>\n",
       "      <th>id</th>\n",
       "      <th>concrete_cement</th>\n",
       "      <th>healthy_metal</th>\n",
       "      <th>incomplete</th>\n",
       "      <th>irregular_metal</th>\n",
       "      <th>other</th>\n",
       "    </tr>\n",
       "  </thead>\n",
       "  <tbody>\n",
       "    <tr>\n",
       "      <td>0</td>\n",
       "      <td>7a4d630a</td>\n",
       "      <td>0.006900</td>\n",
       "      <td>0.984284</td>\n",
       "      <td>0.001062</td>\n",
       "      <td>0.006436</td>\n",
       "      <td>0.001319</td>\n",
       "    </tr>\n",
       "    <tr>\n",
       "      <td>1</td>\n",
       "      <td>7a4bbbd6</td>\n",
       "      <td>0.000997</td>\n",
       "      <td>0.951669</td>\n",
       "      <td>0.000856</td>\n",
       "      <td>0.045864</td>\n",
       "      <td>0.000613</td>\n",
       "    </tr>\n",
       "    <tr>\n",
       "      <td>2</td>\n",
       "      <td>7a4ac744</td>\n",
       "      <td>0.007501</td>\n",
       "      <td>0.808328</td>\n",
       "      <td>0.007310</td>\n",
       "      <td>0.175371</td>\n",
       "      <td>0.001490</td>\n",
       "    </tr>\n",
       "    <tr>\n",
       "      <td>3</td>\n",
       "      <td>7a4881fa</td>\n",
       "      <td>0.004724</td>\n",
       "      <td>0.170939</td>\n",
       "      <td>0.006211</td>\n",
       "      <td>0.816583</td>\n",
       "      <td>0.001543</td>\n",
       "    </tr>\n",
       "    <tr>\n",
       "      <td>4</td>\n",
       "      <td>7a4aa4a8</td>\n",
       "      <td>0.008597</td>\n",
       "      <td>0.738466</td>\n",
       "      <td>0.003730</td>\n",
       "      <td>0.247354</td>\n",
       "      <td>0.001853</td>\n",
       "    </tr>\n",
       "  </tbody>\n",
       "</table>\n",
       "</div>"
      ],
      "text/plain": [
       "         id  concrete_cement  healthy_metal  incomplete  irregular_metal  \\\n",
       "0  7a4d630a         0.006900       0.984284    0.001062         0.006436   \n",
       "1  7a4bbbd6         0.000997       0.951669    0.000856         0.045864   \n",
       "2  7a4ac744         0.007501       0.808328    0.007310         0.175371   \n",
       "3  7a4881fa         0.004724       0.170939    0.006211         0.816583   \n",
       "4  7a4aa4a8         0.008597       0.738466    0.003730         0.247354   \n",
       "\n",
       "      other  \n",
       "0  0.001319  \n",
       "1  0.000613  \n",
       "2  0.001490  \n",
       "3  0.001543  \n",
       "4  0.001853  "
      ]
     },
     "execution_count": 37,
     "metadata": {},
     "output_type": "execute_result"
    }
   ],
   "source": [
    "df_means.head()"
   ]
  },
  {
   "cell_type": "code",
   "execution_count": 38,
   "metadata": {},
   "outputs": [],
   "source": [
    "df_means.to_csv(data_dir/f'submissions/07_2_fastai_simple_ensemble_20191103.csv', index=False)"
   ]
  },
  {
   "cell_type": "markdown",
   "metadata": {},
   "source": [
    "#### Submission result"
   ]
  },
  {
   "cell_type": "markdown",
   "metadata": {},
   "source": [
    "sub 11: 0.4306"
   ]
  },
  {
   "cell_type": "code",
   "execution_count": 39,
   "metadata": {},
   "outputs": [],
   "source": [
    "pred_df=pd.read_csv(data_dir/f'submissions/07_2_fastai_simple_ensemble_20191103.csv')"
   ]
  },
  {
   "cell_type": "code",
   "execution_count": 40,
   "metadata": {},
   "outputs": [
    {
     "data": {
      "text/plain": [
       "<matplotlib.axes._subplots.AxesSubplot at 0x7fbc121dcb10>"
      ]
     },
     "execution_count": 40,
     "metadata": {},
     "output_type": "execute_result"
    },
    {
     "data": {
      "image/png": "[encoded data removed]",
      "text/plain": [
       "<Figure size 432x288 with 1 Axes>"
      ]
     },
     "metadata": {
      "needs_background": "light"
     },
     "output_type": "display_data"
    }
   ],
   "source": [
    "pred_df.drop(columns=['id'],inplace=True)\n",
    "classes=pred_df.idxmax(axis=1)\n",
    "pd.value_counts(classes).plot(kind=\"bar\")"
   ]
  },
  {
   "cell_type": "code",
   "execution_count": null,
   "metadata": {},
   "outputs": [],
   "source": []
  },
  {
   "cell_type": "code",
   "execution_count": null,
   "metadata": {},
   "outputs": [],
   "source": []
  },
  {
   "cell_type": "code",
   "execution_count": null,
   "metadata": {},
   "outputs": [],
   "source": []
  }
 ],
 "metadata": {
  "kernelspec": {
   "display_name": "Python 3",
   "language": "python",
   "name": "python3"
  },
  "language_info": {
   "codemirror_mode": {
    "name": "ipython",
    "version": 3
   },
   "file_extension": ".py",
   "mimetype": "text/x-python",
   "name": "python",
   "nbconvert_exporter": "python",
   "pygments_lexer": "ipython3",
   "version": "3.7.4"
  }
 },
 "nbformat": 4,
 "nbformat_minor": 2
}
