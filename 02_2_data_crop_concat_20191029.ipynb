{
 "cells": [
  {
   "cell_type": "markdown",
   "metadata": {},
   "source": [
    "## Image resizing\n",
    "\n",
    "Use conda env solaris\n",
    "\n",
    "image size 512 with reflect\n",
    "and without reflect"
   ]
  },
  {
   "cell_type": "code",
   "execution_count": 1,
   "metadata": {},
   "outputs": [],
   "source": [
    "%reload_ext autoreload\n",
    "%autoreload 2\n",
    "%matplotlib inline"
   ]
  },
  {
   "cell_type": "code",
   "execution_count": 2,
   "metadata": {},
   "outputs": [],
   "source": [
    "import geopandas as gpd\n",
    "from PIL import Image\n",
    "import PIL.Image as pil_image\n",
    "import cv2\n",
    "from pathlib import Path\n",
    "from os import listdir\n",
    "from os.path import isfile, join\n",
    "from matplotlib import pyplot as plt\n",
    "import pandas as pd\n",
    "import math\n",
    "import shutil"
   ]
  },
  {
   "cell_type": "code",
   "execution_count": 3,
   "metadata": {},
   "outputs": [],
   "source": [
    "data_dir = Path('data')\n",
    "colombia_rural = Path('data/stac/colombia/borde_rural')\n",
    "colombia_soacha = Path('data/stac/colombia/borde_soacha')"
   ]
  },
  {
   "cell_type": "code",
   "execution_count": 4,
   "metadata": {},
   "outputs": [],
   "source": [
    "guatemala_mixco1 = Path('data/stac/guatemala/mixco_1_and_ebenezer')\n",
    "guatemala_mixco3 = Path('data/stac/guatemala/mixco_3')"
   ]
  },
  {
   "cell_type": "code",
   "execution_count": 5,
   "metadata": {},
   "outputs": [],
   "source": [
    "st_lucia_castries = Path('data/stac/st_lucia/castries')\n",
    "st_lucia_dennery = Path('data/stac/st_lucia/dennery')\n",
    "st_lucia_gros_islet = Path('data/stac/st_lucia/gros_islet')"
   ]
  },
  {
   "cell_type": "code",
   "execution_count": 6,
   "metadata": {},
   "outputs": [],
   "source": [
    "COUNTRY='colombia'\n",
    "REGION='borde_rural'\n",
    "DATASET = f'{COUNTRY}_{REGION}'\n",
    "DATASET_PATH=colombia_rural\n",
    "path=data_dir/f'{COUNTRY}_{REGION}/cropped/'\n",
    "TRAIN_JSON = f'train-{REGION}.geojson'\n",
    "TEST_JSON = f'test-{REGION}.geojson'"
   ]
  },
  {
   "cell_type": "code",
   "execution_count": 7,
   "metadata": {},
   "outputs": [],
   "source": [
    "CV_RESIZE_IMAGES = True\n",
    "PIL_RESIZE_IMAGES = False\n",
    "BORDER = cv2.BORDER_REFLECT_101"
   ]
  },
  {
   "cell_type": "code",
   "execution_count": 8,
   "metadata": {},
   "outputs": [],
   "source": [
    "border = 'reflect'"
   ]
  },
  {
   "cell_type": "code",
   "execution_count": 9,
   "metadata": {},
   "outputs": [],
   "source": [
    "img_size=512"
   ]
  },
  {
   "cell_type": "code",
   "execution_count": 10,
   "metadata": {},
   "outputs": [],
   "source": [
    "def create_df(data_path, json, country, region):\n",
    "    df = gpd.read_file(data_path/json)\n",
    "    e=[country] * len(df)\n",
    "    f=[region] * len(df)\n",
    "    df['country'] = e\n",
    "    df['region'] = f\n",
    "    return df"
   ]
  },
  {
   "cell_type": "code",
   "execution_count": 11,
   "metadata": {},
   "outputs": [],
   "source": [
    "df_list=[]\n",
    "path_list= [colombia_rural, colombia_soacha, guatemala_mixco1, guatemala_mixco3,\n",
    "         st_lucia_castries, st_lucia_dennery, st_lucia_gros_islet]\n",
    "json_list=['train-borde_rural.geojson','train-borde_soacha.geojson','train-mixco_1_and_ebenezer.geojson','train-mixco_3.geojson',\n",
    "          'train-castries.geojson','train-dennery.geojson','train-gros_islet.geojson']\n",
    "country_list=['colombia','colombia','guatemala','guatemala','st_lucia','st_lucia','st_lucia']\n",
    "region_list=['borde_rural','borde_soacha','mixco_1_and_ebenezer','mixco_3','castries','dennery','gros_islet']\n",
    "for data_path, json, country, region in zip(path_list,json_list,country_list,region_list):\n",
    "    df_list.append(create_df(data_path, json, country, region))"
   ]
  },
  {
   "cell_type": "code",
   "execution_count": 12,
   "metadata": {},
   "outputs": [],
   "source": [
    "df_all = pd.concat(df_list)"
   ]
  },
  {
   "cell_type": "code",
   "execution_count": 13,
   "metadata": {},
   "outputs": [
    {
     "data": {
      "text/html": [
       "<div>\n",
       "<style scoped>\n",
       "    .dataframe tbody tr th:only-of-type {\n",
       "        vertical-align: middle;\n",
       "    }\n",
       "\n",
       "    .dataframe tbody tr th {\n",
       "        vertical-align: top;\n",
       "    }\n",
       "\n",
       "    .dataframe thead th {\n",
       "        text-align: right;\n",
       "    }\n",
       "</style>\n",
       "<table border=\"1\" class=\"dataframe\">\n",
       "  <thead>\n",
       "    <tr style=\"text-align: right;\">\n",
       "      <th></th>\n",
       "      <th>id</th>\n",
       "      <th>roof_material</th>\n",
       "      <th>verified</th>\n",
       "      <th>geometry</th>\n",
       "      <th>country</th>\n",
       "      <th>region</th>\n",
       "    </tr>\n",
       "  </thead>\n",
       "  <tbody>\n",
       "    <tr>\n",
       "      <th>1962</th>\n",
       "      <td>7a22ddec</td>\n",
       "      <td>healthy_metal</td>\n",
       "      <td>False</td>\n",
       "      <td>POLYGON ((-60.95292861319552 14.08097492272584...</td>\n",
       "      <td>st_lucia</td>\n",
       "      <td>gros_islet</td>\n",
       "    </tr>\n",
       "    <tr>\n",
       "      <th>1963</th>\n",
       "      <td>7a2f73ea</td>\n",
       "      <td>healthy_metal</td>\n",
       "      <td>False</td>\n",
       "      <td>POLYGON ((-60.94701386937614 14.08085025943012...</td>\n",
       "      <td>st_lucia</td>\n",
       "      <td>gros_islet</td>\n",
       "    </tr>\n",
       "    <tr>\n",
       "      <th>1964</th>\n",
       "      <td>7a34ffa4</td>\n",
       "      <td>healthy_metal</td>\n",
       "      <td>False</td>\n",
       "      <td>POLYGON ((-60.95234511737379 14.0800326733645,...</td>\n",
       "      <td>st_lucia</td>\n",
       "      <td>gros_islet</td>\n",
       "    </tr>\n",
       "    <tr>\n",
       "      <th>1965</th>\n",
       "      <td>7a41560a</td>\n",
       "      <td>healthy_metal</td>\n",
       "      <td>False</td>\n",
       "      <td>POLYGON ((-60.94874752294435 14.08058451924303...</td>\n",
       "      <td>st_lucia</td>\n",
       "      <td>gros_islet</td>\n",
       "    </tr>\n",
       "    <tr>\n",
       "      <th>1966</th>\n",
       "      <td>7a283ad0</td>\n",
       "      <td>healthy_metal</td>\n",
       "      <td>False</td>\n",
       "      <td>POLYGON ((-60.9486881797622 14.08073516481083,...</td>\n",
       "      <td>st_lucia</td>\n",
       "      <td>gros_islet</td>\n",
       "    </tr>\n",
       "  </tbody>\n",
       "</table>\n",
       "</div>"
      ],
      "text/plain": [
       "            id  roof_material  verified  \\\n",
       "1962  7a22ddec  healthy_metal     False   \n",
       "1963  7a2f73ea  healthy_metal     False   \n",
       "1964  7a34ffa4  healthy_metal     False   \n",
       "1965  7a41560a  healthy_metal     False   \n",
       "1966  7a283ad0  healthy_metal     False   \n",
       "\n",
       "                                               geometry   country      region  \n",
       "1962  POLYGON ((-60.95292861319552 14.08097492272584...  st_lucia  gros_islet  \n",
       "1963  POLYGON ((-60.94701386937614 14.08085025943012...  st_lucia  gros_islet  \n",
       "1964  POLYGON ((-60.95234511737379 14.0800326733645,...  st_lucia  gros_islet  \n",
       "1965  POLYGON ((-60.94874752294435 14.08058451924303...  st_lucia  gros_islet  \n",
       "1966  POLYGON ((-60.9486881797622 14.08073516481083,...  st_lucia  gros_islet  "
      ]
     },
     "execution_count": 13,
     "metadata": {},
     "output_type": "execute_result"
    }
   ],
   "source": [
    "df_all.tail()"
   ]
  },
  {
   "cell_type": "code",
   "execution_count": 14,
   "metadata": {},
   "outputs": [],
   "source": [
    "#cant save to csv with geometry\n",
    "df_all.drop(columns=['geometry'],inplace=True)"
   ]
  },
  {
   "cell_type": "code",
   "execution_count": 15,
   "metadata": {},
   "outputs": [],
   "source": [
    "#df_all.to_csv(data_dir/'df_train_all.csv', index=False)"
   ]
  },
  {
   "cell_type": "code",
   "execution_count": 16,
   "metadata": {},
   "outputs": [],
   "source": [
    "#note no geo json from st_lucia castries or gros_islet\n",
    "df_t=[]\n",
    "t_path_list= [colombia_rural, colombia_soacha, guatemala_mixco1, guatemala_mixco3, st_lucia_dennery]\n",
    "t_json_list=['test-borde_rural.geojson','test-borde_soacha.geojson','test-mixco_1_and_ebenezer.geojson',\n",
    "           'test-mixco_3.geojson','test-dennery.geojson']\n",
    "t_country_list=['colombia','colombia','guatemala','guatemala','st_lucia']\n",
    "t_region_list=['borde_rural','borde_soacha','mixco_1_and_ebenezer','mixco_3','dennery']\n",
    "for data_path, json, country, region in zip(t_path_list,t_json_list,t_country_list,t_region_list):\n",
    "    df_t.append(create_df(data_path, json, country, region))"
   ]
  },
  {
   "cell_type": "code",
   "execution_count": 17,
   "metadata": {},
   "outputs": [],
   "source": [
    "df_test = pd.concat(df_t)"
   ]
  },
  {
   "cell_type": "code",
   "execution_count": 18,
   "metadata": {},
   "outputs": [
    {
     "data": {
      "text/html": [
       "<div>\n",
       "<style scoped>\n",
       "    .dataframe tbody tr th:only-of-type {\n",
       "        vertical-align: middle;\n",
       "    }\n",
       "\n",
       "    .dataframe tbody tr th {\n",
       "        vertical-align: top;\n",
       "    }\n",
       "\n",
       "    .dataframe thead th {\n",
       "        text-align: right;\n",
       "    }\n",
       "</style>\n",
       "<table border=\"1\" class=\"dataframe\">\n",
       "  <thead>\n",
       "    <tr style=\"text-align: right;\">\n",
       "      <th></th>\n",
       "      <th>id</th>\n",
       "      <th>geometry</th>\n",
       "      <th>country</th>\n",
       "      <th>region</th>\n",
       "    </tr>\n",
       "  </thead>\n",
       "  <tbody>\n",
       "    <tr>\n",
       "      <th>0</th>\n",
       "      <td>7a4d630a</td>\n",
       "      <td>POLYGON ((-74.15899863012478 4.554633886101286...</td>\n",
       "      <td>colombia</td>\n",
       "      <td>borde_rural</td>\n",
       "    </tr>\n",
       "    <tr>\n",
       "      <th>1</th>\n",
       "      <td>7a4bbbd6</td>\n",
       "      <td>POLYGON ((-74.15954898159198 4.554632289170956...</td>\n",
       "      <td>colombia</td>\n",
       "      <td>borde_rural</td>\n",
       "    </tr>\n",
       "    <tr>\n",
       "      <th>2</th>\n",
       "      <td>7a4ac744</td>\n",
       "      <td>POLYGON ((-74.15891773014597 4.555085254168239...</td>\n",
       "      <td>colombia</td>\n",
       "      <td>borde_rural</td>\n",
       "    </tr>\n",
       "    <tr>\n",
       "      <th>3</th>\n",
       "      <td>7a4881fa</td>\n",
       "      <td>POLYGON ((-74.15887087175038 4.555061673990481...</td>\n",
       "      <td>colombia</td>\n",
       "      <td>borde_rural</td>\n",
       "    </tr>\n",
       "    <tr>\n",
       "      <th>4</th>\n",
       "      <td>7a4aa4a8</td>\n",
       "      <td>POLYGON ((-74.15881842391423 4.555044808798753...</td>\n",
       "      <td>colombia</td>\n",
       "      <td>borde_rural</td>\n",
       "    </tr>\n",
       "  </tbody>\n",
       "</table>\n",
       "</div>"
      ],
      "text/plain": [
       "         id                                           geometry   country  \\\n",
       "0  7a4d630a  POLYGON ((-74.15899863012478 4.554633886101286...  colombia   \n",
       "1  7a4bbbd6  POLYGON ((-74.15954898159198 4.554632289170956...  colombia   \n",
       "2  7a4ac744  POLYGON ((-74.15891773014597 4.555085254168239...  colombia   \n",
       "3  7a4881fa  POLYGON ((-74.15887087175038 4.555061673990481...  colombia   \n",
       "4  7a4aa4a8  POLYGON ((-74.15881842391423 4.555044808798753...  colombia   \n",
       "\n",
       "        region  \n",
       "0  borde_rural  \n",
       "1  borde_rural  \n",
       "2  borde_rural  \n",
       "3  borde_rural  \n",
       "4  borde_rural  "
      ]
     },
     "execution_count": 18,
     "metadata": {},
     "output_type": "execute_result"
    }
   ],
   "source": [
    "df_test.head()"
   ]
  },
  {
   "cell_type": "code",
   "execution_count": 19,
   "metadata": {},
   "outputs": [],
   "source": [
    "#cant save to csv with geometry\n",
    "df_test.drop(columns=['geometry'],inplace=True)"
   ]
  },
  {
   "cell_type": "code",
   "execution_count": 20,
   "metadata": {},
   "outputs": [],
   "source": [
    "#df_test.to_csv(data_dir/'df_test_all.csv', index=False)"
   ]
  },
  {
   "cell_type": "markdown",
   "metadata": {},
   "source": [
    "#### get average image size"
   ]
  },
  {
   "cell_type": "code",
   "execution_count": 21,
   "metadata": {},
   "outputs": [],
   "source": [
    "def img_type_av_sz(fn_list):\n",
    "    widths = []\n",
    "    heights = []\n",
    "    for im in fn_list:\n",
    "        #100 x faster than open_image(img_f)\n",
    "        w,h=pil_image.open(im).size\n",
    "        widths.append(w)\n",
    "        heights.append(h)\n",
    "    av_w = sum(widths)/len(widths)\n",
    "    av_h = sum(heights)/len(heights)\n",
    "    print(f'avg width: {av_w}, avg height: {av_h}, max w: {max(widths)}, min w: {min(widths)}, max h: {max(heights)}, min h: {min(heights)}')\n",
    "    return widths, heights\n"
   ]
  },
  {
   "cell_type": "code",
   "execution_count": 22,
   "metadata": {},
   "outputs": [
    {
     "data": {
      "text/plain": [
       "PosixPath('data/colombia_borde_rural/cropped')"
      ]
     },
     "execution_count": 22,
     "metadata": {},
     "output_type": "execute_result"
    }
   ],
   "source": [
    "path"
   ]
  },
  {
   "cell_type": "code",
   "execution_count": 23,
   "metadata": {},
   "outputs": [],
   "source": [
    "fnames = [path/'train'/f'{f}' for f in listdir(path/'train') if isfile(join(path/'train', f))]"
   ]
  },
  {
   "cell_type": "code",
   "execution_count": 24,
   "metadata": {},
   "outputs": [
    {
     "data": {
      "text/plain": [
       "PosixPath('data/colombia_borde_rural/cropped/train/7a1e7446.tif')"
      ]
     },
     "execution_count": 24,
     "metadata": {},
     "output_type": "execute_result"
    }
   ],
   "source": [
    "fnames[0]"
   ]
  },
  {
   "cell_type": "code",
   "execution_count": 25,
   "metadata": {},
   "outputs": [],
   "source": [
    "test_fnames = [path/'train'/f'{f}' for f in listdir(path/'test') if isfile(join(path/'test', f))]"
   ]
  },
  {
   "cell_type": "code",
   "execution_count": 26,
   "metadata": {},
   "outputs": [
    {
     "name": "stdout",
     "output_type": "stream",
     "text": [
      "avg width: 264.2011006649851, avg height: 266.640220132997, max w: 1502, min w: 69, max h: 1871, min h: 59\n"
     ]
    }
   ],
   "source": [
    "widths, heights=img_type_av_sz(fnames)"
   ]
  },
  {
   "cell_type": "code",
   "execution_count": 27,
   "metadata": {},
   "outputs": [
    {
     "data": {
      "image/png": "[encoded data removed]",
      "text/plain": [
       "<Figure size 432x288 with 1 Axes>"
      ]
     },
     "metadata": {
      "needs_background": "light"
     },
     "output_type": "display_data"
    }
   ],
   "source": [
    "num_bins = 100\n",
    "n, bins, patches = plt.hist(widths, num_bins, facecolor='blue', alpha=0.5)\n",
    "plt.show()"
   ]
  },
  {
   "cell_type": "code",
   "execution_count": 28,
   "metadata": {
    "scrolled": true
   },
   "outputs": [
    {
     "data": {
      "image/png": "[encoded data removed]",
      "text/plain": [
       "<Figure size 432x288 with 1 Axes>"
      ]
     },
     "metadata": {
      "needs_background": "light"
     },
     "output_type": "display_data"
    }
   ],
   "source": [
    "num_bins = 100\n",
    "n, bins, patches = plt.hist(heights, num_bins, facecolor='red', alpha=0.5)\n",
    "plt.show()"
   ]
  },
  {
   "cell_type": "code",
   "execution_count": 29,
   "metadata": {},
   "outputs": [],
   "source": [
    "def resize_contain(image, size, resample=Image.LANCZOS, bg_color=(255, 255, 255, 255)):\n",
    "    \"\"\"\n",
    "    Resize image according to size.\n",
    "    image:      a Pillow image instance\n",
    "    size:       a list of two integers [width, height]\n",
    "    \"\"\"\n",
    "    img_format = image.format\n",
    "    img = image.copy()\n",
    "    img.thumbnail((size[0], size[1]), resample)\n",
    "    background = Image.new('RGBA', (size[0], size[1]), bg_color)\n",
    "    img_position = (\n",
    "        int(math.ceil((size[0] - img.size[0]) / 2)),\n",
    "        int(math.ceil((size[1] - img.size[1]) / 2))\n",
    "    )\n",
    "    background.paste(img, img_position)\n",
    "    background.format = img_format\n",
    "    return background.convert('RGBA')"
   ]
  },
  {
   "cell_type": "code",
   "execution_count": 30,
   "metadata": {},
   "outputs": [],
   "source": [
    "def resize_to_max(fn_list, max_w, max_h):\n",
    "    widths = []\n",
    "    heights = []\n",
    "    for im in fn_list:\n",
    "        with pil_image.open(im) as image:\n",
    "            w,h=image.size\n",
    "            if (w > max_w) or (h > max_h):\n",
    "                res_im = resize_contain(image, [max_w, max_h])\n",
    "                name=str(im).split('.')[0]\n",
    "                res_im.save(f'{name}_512.tif', image.format)"
   ]
  },
  {
   "cell_type": "code",
   "execution_count": 31,
   "metadata": {},
   "outputs": [],
   "source": [
    "def resize_all(fn_list, max_w, max_h, data_path, all_path):\n",
    "    ''' using Pillow to resize to max_w ot h'''\n",
    "    widths = []\n",
    "    heights = []\n",
    "    for im in fn_list:\n",
    "        with pil_image.open(im) as image:\n",
    "            w,h=image.size\n",
    "            res_im = resize_contain(image, [max_w, max_h])\n",
    "            name=str(im).split('.')[0]\n",
    "            name=name.split('/')[-1]\n",
    "            res_im.save(f'{data_path}/{name}.tif', image.format)\n",
    "            shutil.copyfile(f'{data_path}/{name}.tif', all_path/f'{name}.tif')"
   ]
  },
  {
   "cell_type": "markdown",
   "metadata": {},
   "source": [
    "#### OpenCV"
   ]
  },
  {
   "cell_type": "code",
   "execution_count": 32,
   "metadata": {},
   "outputs": [],
   "source": [
    "def cv_resize_all(fn_list, max_size, data_path, all_path, color, border):\n",
    "    ''' using OpenCV to resize to max_w ot h'''\n",
    "    print(f'resizing: {len(fn_list)} images to: {max_size} with OpenCV border: {border}')\n",
    "    widths = []\n",
    "    heights = []\n",
    "    for i, im in enumerate(fn_list):\n",
    "        img = cv2.imread(str(im))\n",
    "        old_size = img.shape[:2] # old_size is in (height, width) format\n",
    "        ratio = float(max_size)/max(old_size)\n",
    "        new_size = tuple([int(x*ratio) for x in old_size])\n",
    "        # new_size should be in (width, height) format\n",
    "        img = cv2.resize(img, (new_size[1], new_size[0])) \n",
    "        delta_w = max_size - new_size[1]\n",
    "        delta_h = max_size - new_size[0]\n",
    "        top, bottom = delta_h//2, delta_h-(delta_h//2)\n",
    "        left, right = delta_w//2, delta_w-(delta_w//2)\n",
    "        new_im = cv2.copyMakeBorder(img, top, bottom, left, right, border,\n",
    "    value=color)\n",
    "        name=str(im).split('.')[0]\n",
    "        name=name.split('/')[-1]\n",
    "        if i % 1000 == 0:\n",
    "            print(f'saving {i}th image to: {data_path}/{name}.tif, copying to: {all_path}/{name}.tif')\n",
    "        #write np array to image usinf PIL\n",
    "        pim = Image.fromarray(new_im)\n",
    "        pim.save(f'{data_path}/{name}.tif')\n",
    "        #new_im.imwrite(f'{data_path}/{name}.tif', new_im)\n",
    "        shutil.copyfile(f'{data_path}/{name}.tif', all_path/f'{name}.tif')"
   ]
  },
  {
   "cell_type": "code",
   "execution_count": 33,
   "metadata": {},
   "outputs": [
    {
     "data": {
      "text/plain": [
       "PosixPath('data/colombia_borde_rural/cropped/train/7a1e7446.tif')"
      ]
     },
     "execution_count": 33,
     "metadata": {},
     "output_type": "execute_result"
    }
   ],
   "source": [
    "fnames[0]"
   ]
  },
  {
   "cell_type": "code",
   "execution_count": 34,
   "metadata": {},
   "outputs": [],
   "source": [
    "train_dir = Path('data/train')\n",
    "train_dir.mkdir(exist_ok=True)\n",
    "test_dir = Path('data/test')\n",
    "test_dir.mkdir(exist_ok=True)"
   ]
  },
  {
   "cell_type": "markdown",
   "metadata": {},
   "source": [
    "#### PIL gen resized images"
   ]
  },
  {
   "cell_type": "code",
   "execution_count": 35,
   "metadata": {},
   "outputs": [],
   "source": [
    "train_sized_dir = Path(f'data/train/{img_size}')\n",
    "train_sized_dir.mkdir(exist_ok=True)\n",
    "test_sized_dir = Path(f'data/test/{img_size}')\n",
    "test_sized_dir.mkdir(exist_ok=True)"
   ]
  },
  {
   "cell_type": "markdown",
   "metadata": {},
   "source": [
    "#### OpenCV gen resized images"
   ]
  },
  {
   "cell_type": "code",
   "execution_count": 36,
   "metadata": {},
   "outputs": [],
   "source": [
    "train_cv_dir = Path(f'data/train/rotated')\n",
    "train_cv_dir.mkdir(exist_ok=True)\n",
    "train_cv_dir = Path(f'data/train/rotated/clipped')\n",
    "train_cv_dir.mkdir(exist_ok=True)\n",
    "train_cv_dir = Path(f'data/train/rotated/clipped/{border}')\n",
    "train_cv_dir.mkdir(exist_ok=True)\n",
    "train_cv_dir = Path(f'data/train/rotated/clipped/{border}/{img_size}')\n",
    "train_cv_dir.mkdir(exist_ok=True)\n",
    "train_cv_dir = Path(f'data/train/rotated/clipped/{img_size}')\n",
    "train_cv_dir.mkdir(exist_ok=True)\n",
    "test_cv_dir = Path(f'data/test/rotated')\n",
    "test_cv_dir.mkdir(exist_ok=True)\n",
    "test_cv_dir = Path(f'data/test/rotated/clipped')\n",
    "test_cv_dir.mkdir(exist_ok=True)\n",
    "test_cv_dir = Path(f'data/test/rotated/clipped/{border}')\n",
    "test_cv_dir.mkdir(exist_ok=True)\n",
    "test_cv_dir = Path(f'data/test/rotated/clipped/{border}/{img_size}')\n",
    "test_cv_dir.mkdir(exist_ok=True)"
   ]
  },
  {
   "cell_type": "markdown",
   "metadata": {},
   "source": [
    "### resize all images"
   ]
  },
  {
   "cell_type": "code",
   "execution_count": 37,
   "metadata": {},
   "outputs": [],
   "source": [
    "def pil_resize_to(fnames, test_fnames, size=256):\n",
    "    for c, r in zip(country_list, region_list):\n",
    "        p=data_dir/f'{c}_{r}/cropped/'\n",
    "        t_dir = p/f'train/{size}'\n",
    "        t_dir.mkdir(exist_ok=True)\n",
    "        resize_all(fnames, size,size, data_path=f'{p}/train/{size}', all_path=data_dir/f'train/{size}')\n",
    "        if r.strip() not in ['castries','gros_islet']:\n",
    "            t_dir = p/f'test/{size}'\n",
    "            t_dir.mkdir(exist_ok=True)\n",
    "            resize_all(test_fnames, size, size, data_path=f'{p}/test/{size}', all_path=data_dir/f'test/{size}')"
   ]
  },
  {
   "cell_type": "code",
   "execution_count": 38,
   "metadata": {},
   "outputs": [],
   "source": [
    "def cv_resize_to(fnames, test_fnames, color, size=256):\n",
    "    for c, r in zip(country_list, region_list):\n",
    "        print(f'--cv_resize_to {c} {r}')\n",
    "        p=data_dir/f'{c}_{r}/cropped/'\n",
    "        t_dir = p/f'train/rotated/clipped/{size}'\n",
    "        t_dir.mkdir(exist_ok=True)\n",
    "        cv_resize_all(fnames, size, data_path=f'{p}/train/rotated/clipped/{size}', all_path=data_dir/f'train/rotated/clipped/{border}/{size}', color=color, border=BORDER)\n",
    "        if r.strip() not in ['castries','gros_islet']:\n",
    "            t_dir = p/f'test/rotated/clipped/{size}'\n",
    "            t_dir.mkdir(exist_ok=True)\n",
    "            cv_resize_all(test_fnames, size, data_path=f'{p}/test/rotated/clipped/{size}', all_path=data_dir/f'test/rotated/clipped/{border}/{size}', color=color, border=BORDER)"
   ]
  },
  {
   "cell_type": "code",
   "execution_count": 39,
   "metadata": {},
   "outputs": [],
   "source": [
    "if PIL_RESIZE_IMAGES:\n",
    "    fl=[]\n",
    "    tl=[]\n",
    "    train_flat=[]\n",
    "    test_flat=[]\n",
    "    for c, r in zip(country_list, region_list):\n",
    "        p=data_dir/f'{c}_{r}/cropped/'\n",
    "        fn = get_image_files(p/'train')\n",
    "        fl.append(fn)\n",
    "        if r.strip() not in ['castries','gros_islet']:\n",
    "            tn = get_image_files(p/'test')\n",
    "            tl.append(tn)\n",
    "    train_flat = [item for sublist in fl for item in sublist]\n",
    "    test_flat = [item for sublist in tl for item in sublist]\n",
    "    resize_to(fnames=train_flat, test_fnames=test_flat, size=img_size)"
   ]
  },
  {
   "cell_type": "code",
   "execution_count": 40,
   "metadata": {},
   "outputs": [
    {
     "name": "stdout",
     "output_type": "stream",
     "text": [
      "colombia region borde_rural test gen\n",
      "colombia region borde_soacha test gen\n",
      "guatemala region mixco_1_and_ebenezer test gen\n",
      "guatemala region mixco_3 test gen\n",
      "st_lucia region dennery test gen\n",
      "22553 train images; 7325 test images\n",
      "--cv_resize_to colombia borde_rural\n",
      "resizing: 22553 images to: 512 with OpenCV border: 4\n",
      "saving 0th image to: data/colombia_borde_rural/cropped/train/rotated/clipped/512/7a1e7446.tif, copying to: data/train/rotated/clipped/reflect/512/7a1e7446.tif\n",
      "saving 1000th image to: data/colombia_borde_rural/cropped/train/rotated/clipped/512/7a334d58.tif, copying to: data/train/rotated/clipped/reflect/512/7a334d58.tif\n",
      "saving 2000th image to: data/colombia_borde_rural/cropped/train/rotated/clipped/512/7a442a92.tif, copying to: data/train/rotated/clipped/reflect/512/7a442a92.tif\n",
      "saving 3000th image to: data/colombia_borde_rural/cropped/train/rotated/clipped/512/7a4466f6.tif, copying to: data/train/rotated/clipped/reflect/512/7a4466f6.tif\n",
      "saving 4000th image to: data/colombia_borde_rural/cropped/train/rotated/clipped/512/7a2de9da.tif, copying to: data/train/rotated/clipped/reflect/512/7a2de9da.tif\n",
      "saving 5000th image to: data/colombia_borde_rural/cropped/train/rotated/clipped/512/7a2f7d68.tif, copying to: data/train/rotated/clipped/reflect/512/7a2f7d68.tif\n",
      "saving 6000th image to: data/colombia_borde_rural/cropped/train/rotated/clipped/512/7a3d6edc.tif, copying to: data/train/rotated/clipped/reflect/512/7a3d6edc.tif\n",
      "saving 7000th image to: data/colombia_borde_rural/cropped/train/rotated/clipped/512/7a25951e.tif, copying to: data/train/rotated/clipped/reflect/512/7a25951e.tif\n",
      "saving 8000th image to: data/colombia_borde_rural/cropped/train/rotated/clipped/512/7a38a1fe.tif, copying to: data/train/rotated/clipped/reflect/512/7a38a1fe.tif\n",
      "saving 9000th image to: data/colombia_borde_rural/cropped/train/rotated/clipped/512/7a377248.tif, copying to: data/train/rotated/clipped/reflect/512/7a377248.tif\n",
      "saving 10000th image to: data/colombia_borde_rural/cropped/train/rotated/clipped/512/7a3fd83e.tif, copying to: data/train/rotated/clipped/reflect/512/7a3fd83e.tif\n",
      "saving 11000th image to: data/colombia_borde_rural/cropped/train/rotated/clipped/512/7a31dd1a.tif, copying to: data/train/rotated/clipped/reflect/512/7a31dd1a.tif\n",
      "saving 12000th image to: data/colombia_borde_rural/cropped/train/rotated/clipped/512/7a328c74.tif, copying to: data/train/rotated/clipped/reflect/512/7a328c74.tif\n",
      "saving 13000th image to: data/colombia_borde_rural/cropped/train/rotated/clipped/512/7a42046a.tif, copying to: data/train/rotated/clipped/reflect/512/7a42046a.tif\n",
      "saving 14000th image to: data/colombia_borde_rural/cropped/train/rotated/clipped/512/7a3162f4.tif, copying to: data/train/rotated/clipped/reflect/512/7a3162f4.tif\n",
      "saving 15000th image to: data/colombia_borde_rural/cropped/train/rotated/clipped/512/7a3c2770.tif, copying to: data/train/rotated/clipped/reflect/512/7a3c2770.tif\n",
      "saving 16000th image to: data/colombia_borde_rural/cropped/train/rotated/clipped/512/7a33f668.tif, copying to: data/train/rotated/clipped/reflect/512/7a33f668.tif\n",
      "saving 17000th image to: data/colombia_borde_rural/cropped/train/rotated/clipped/512/7a42aca8.tif, copying to: data/train/rotated/clipped/reflect/512/7a42aca8.tif\n",
      "saving 18000th image to: data/colombia_borde_rural/cropped/train/rotated/clipped/512/7a4099a4.tif, copying to: data/train/rotated/clipped/reflect/512/7a4099a4.tif\n",
      "saving 19000th image to: data/colombia_borde_rural/cropped/train/rotated/clipped/512/7a1f7940.tif, copying to: data/train/rotated/clipped/reflect/512/7a1f7940.tif\n",
      "saving 20000th image to: data/colombia_borde_rural/cropped/train/rotated/clipped/512/7a351728.tif, copying to: data/train/rotated/clipped/reflect/512/7a351728.tif\n",
      "saving 21000th image to: data/colombia_borde_rural/cropped/train/rotated/clipped/512/7a337742.tif, copying to: data/train/rotated/clipped/reflect/512/7a337742.tif\n",
      "saving 22000th image to: data/colombia_borde_rural/cropped/train/rotated/clipped/512/7a26c614.tif, copying to: data/train/rotated/clipped/reflect/512/7a26c614.tif\n",
      "resizing: 7325 images to: 512 with OpenCV border: 4\n",
      "saving 0th image to: data/colombia_borde_rural/cropped/test/rotated/clipped/512/7a48ca98.tif, copying to: data/test/rotated/clipped/reflect/512/7a48ca98.tif\n",
      "saving 1000th image to: data/colombia_borde_rural/cropped/test/rotated/clipped/512/7a4f2f3c.tif, copying to: data/test/rotated/clipped/reflect/512/7a4f2f3c.tif\n",
      "saving 2000th image to: data/colombia_borde_rural/cropped/test/rotated/clipped/512/7a4e1070.tif, copying to: data/test/rotated/clipped/reflect/512/7a4e1070.tif\n",
      "saving 3000th image to: data/colombia_borde_rural/cropped/test/rotated/clipped/512/7a49fe2c.tif, copying to: data/test/rotated/clipped/reflect/512/7a49fe2c.tif\n",
      "saving 4000th image to: data/colombia_borde_rural/cropped/test/rotated/clipped/512/7a508710.tif, copying to: data/test/rotated/clipped/reflect/512/7a508710.tif\n",
      "saving 5000th image to: data/colombia_borde_rural/cropped/test/rotated/clipped/512/7a49db68.tif, copying to: data/test/rotated/clipped/reflect/512/7a49db68.tif\n",
      "saving 6000th image to: data/colombia_borde_rural/cropped/test/rotated/clipped/512/7a50a31c.tif, copying to: data/test/rotated/clipped/reflect/512/7a50a31c.tif\n",
      "saving 7000th image to: data/colombia_borde_rural/cropped/test/rotated/clipped/512/7a464430.tif, copying to: data/test/rotated/clipped/reflect/512/7a464430.tif\n",
      "--cv_resize_to colombia borde_soacha\n",
      "resizing: 22553 images to: 512 with OpenCV border: 4\n",
      "saving 0th image to: data/colombia_borde_soacha/cropped/train/rotated/clipped/512/7a1e7446.tif, copying to: data/train/rotated/clipped/reflect/512/7a1e7446.tif\n",
      "saving 1000th image to: data/colombia_borde_soacha/cropped/train/rotated/clipped/512/7a334d58.tif, copying to: data/train/rotated/clipped/reflect/512/7a334d58.tif\n",
      "saving 2000th image to: data/colombia_borde_soacha/cropped/train/rotated/clipped/512/7a442a92.tif, copying to: data/train/rotated/clipped/reflect/512/7a442a92.tif\n",
      "saving 3000th image to: data/colombia_borde_soacha/cropped/train/rotated/clipped/512/7a4466f6.tif, copying to: data/train/rotated/clipped/reflect/512/7a4466f6.tif\n",
      "saving 4000th image to: data/colombia_borde_soacha/cropped/train/rotated/clipped/512/7a2de9da.tif, copying to: data/train/rotated/clipped/reflect/512/7a2de9da.tif\n",
      "saving 5000th image to: data/colombia_borde_soacha/cropped/train/rotated/clipped/512/7a2f7d68.tif, copying to: data/train/rotated/clipped/reflect/512/7a2f7d68.tif\n",
      "saving 6000th image to: data/colombia_borde_soacha/cropped/train/rotated/clipped/512/7a3d6edc.tif, copying to: data/train/rotated/clipped/reflect/512/7a3d6edc.tif\n",
      "saving 7000th image to: data/colombia_borde_soacha/cropped/train/rotated/clipped/512/7a25951e.tif, copying to: data/train/rotated/clipped/reflect/512/7a25951e.tif\n",
      "saving 8000th image to: data/colombia_borde_soacha/cropped/train/rotated/clipped/512/7a38a1fe.tif, copying to: data/train/rotated/clipped/reflect/512/7a38a1fe.tif\n",
      "saving 9000th image to: data/colombia_borde_soacha/cropped/train/rotated/clipped/512/7a377248.tif, copying to: data/train/rotated/clipped/reflect/512/7a377248.tif\n",
      "saving 10000th image to: data/colombia_borde_soacha/cropped/train/rotated/clipped/512/7a3fd83e.tif, copying to: data/train/rotated/clipped/reflect/512/7a3fd83e.tif\n",
      "saving 11000th image to: data/colombia_borde_soacha/cropped/train/rotated/clipped/512/7a31dd1a.tif, copying to: data/train/rotated/clipped/reflect/512/7a31dd1a.tif\n",
      "saving 12000th image to: data/colombia_borde_soacha/cropped/train/rotated/clipped/512/7a328c74.tif, copying to: data/train/rotated/clipped/reflect/512/7a328c74.tif\n",
      "saving 13000th image to: data/colombia_borde_soacha/cropped/train/rotated/clipped/512/7a42046a.tif, copying to: data/train/rotated/clipped/reflect/512/7a42046a.tif\n",
      "saving 14000th image to: data/colombia_borde_soacha/cropped/train/rotated/clipped/512/7a3162f4.tif, copying to: data/train/rotated/clipped/reflect/512/7a3162f4.tif\n",
      "saving 15000th image to: data/colombia_borde_soacha/cropped/train/rotated/clipped/512/7a3c2770.tif, copying to: data/train/rotated/clipped/reflect/512/7a3c2770.tif\n",
      "saving 16000th image to: data/colombia_borde_soacha/cropped/train/rotated/clipped/512/7a33f668.tif, copying to: data/train/rotated/clipped/reflect/512/7a33f668.tif\n"
     ]
    },
    {
     "name": "stdout",
     "output_type": "stream",
     "text": [
      "saving 17000th image to: data/colombia_borde_soacha/cropped/train/rotated/clipped/512/7a42aca8.tif, copying to: data/train/rotated/clipped/reflect/512/7a42aca8.tif\n",
      "saving 18000th image to: data/colombia_borde_soacha/cropped/train/rotated/clipped/512/7a4099a4.tif, copying to: data/train/rotated/clipped/reflect/512/7a4099a4.tif\n",
      "saving 19000th image to: data/colombia_borde_soacha/cropped/train/rotated/clipped/512/7a1f7940.tif, copying to: data/train/rotated/clipped/reflect/512/7a1f7940.tif\n",
      "saving 20000th image to: data/colombia_borde_soacha/cropped/train/rotated/clipped/512/7a351728.tif, copying to: data/train/rotated/clipped/reflect/512/7a351728.tif\n",
      "saving 21000th image to: data/colombia_borde_soacha/cropped/train/rotated/clipped/512/7a337742.tif, copying to: data/train/rotated/clipped/reflect/512/7a337742.tif\n",
      "saving 22000th image to: data/colombia_borde_soacha/cropped/train/rotated/clipped/512/7a26c614.tif, copying to: data/train/rotated/clipped/reflect/512/7a26c614.tif\n",
      "resizing: 7325 images to: 512 with OpenCV border: 4\n",
      "saving 0th image to: data/colombia_borde_soacha/cropped/test/rotated/clipped/512/7a48ca98.tif, copying to: data/test/rotated/clipped/reflect/512/7a48ca98.tif\n",
      "saving 1000th image to: data/colombia_borde_soacha/cropped/test/rotated/clipped/512/7a4f2f3c.tif, copying to: data/test/rotated/clipped/reflect/512/7a4f2f3c.tif\n",
      "saving 2000th image to: data/colombia_borde_soacha/cropped/test/rotated/clipped/512/7a4e1070.tif, copying to: data/test/rotated/clipped/reflect/512/7a4e1070.tif\n",
      "saving 3000th image to: data/colombia_borde_soacha/cropped/test/rotated/clipped/512/7a49fe2c.tif, copying to: data/test/rotated/clipped/reflect/512/7a49fe2c.tif\n",
      "saving 4000th image to: data/colombia_borde_soacha/cropped/test/rotated/clipped/512/7a508710.tif, copying to: data/test/rotated/clipped/reflect/512/7a508710.tif\n",
      "saving 5000th image to: data/colombia_borde_soacha/cropped/test/rotated/clipped/512/7a49db68.tif, copying to: data/test/rotated/clipped/reflect/512/7a49db68.tif\n",
      "saving 6000th image to: data/colombia_borde_soacha/cropped/test/rotated/clipped/512/7a50a31c.tif, copying to: data/test/rotated/clipped/reflect/512/7a50a31c.tif\n",
      "saving 7000th image to: data/colombia_borde_soacha/cropped/test/rotated/clipped/512/7a464430.tif, copying to: data/test/rotated/clipped/reflect/512/7a464430.tif\n",
      "--cv_resize_to guatemala mixco_1_and_ebenezer\n",
      "resizing: 22553 images to: 512 with OpenCV border: 4\n",
      "saving 0th image to: data/guatemala_mixco_1_and_ebenezer/cropped/train/rotated/clipped/512/7a1e7446.tif, copying to: data/train/rotated/clipped/reflect/512/7a1e7446.tif\n",
      "saving 1000th image to: data/guatemala_mixco_1_and_ebenezer/cropped/train/rotated/clipped/512/7a334d58.tif, copying to: data/train/rotated/clipped/reflect/512/7a334d58.tif\n",
      "saving 2000th image to: data/guatemala_mixco_1_and_ebenezer/cropped/train/rotated/clipped/512/7a442a92.tif, copying to: data/train/rotated/clipped/reflect/512/7a442a92.tif\n",
      "saving 3000th image to: data/guatemala_mixco_1_and_ebenezer/cropped/train/rotated/clipped/512/7a4466f6.tif, copying to: data/train/rotated/clipped/reflect/512/7a4466f6.tif\n",
      "saving 4000th image to: data/guatemala_mixco_1_and_ebenezer/cropped/train/rotated/clipped/512/7a2de9da.tif, copying to: data/train/rotated/clipped/reflect/512/7a2de9da.tif\n",
      "saving 5000th image to: data/guatemala_mixco_1_and_ebenezer/cropped/train/rotated/clipped/512/7a2f7d68.tif, copying to: data/train/rotated/clipped/reflect/512/7a2f7d68.tif\n",
      "saving 6000th image to: data/guatemala_mixco_1_and_ebenezer/cropped/train/rotated/clipped/512/7a3d6edc.tif, copying to: data/train/rotated/clipped/reflect/512/7a3d6edc.tif\n",
      "saving 7000th image to: data/guatemala_mixco_1_and_ebenezer/cropped/train/rotated/clipped/512/7a25951e.tif, copying to: data/train/rotated/clipped/reflect/512/7a25951e.tif\n",
      "saving 8000th image to: data/guatemala_mixco_1_and_ebenezer/cropped/train/rotated/clipped/512/7a38a1fe.tif, copying to: data/train/rotated/clipped/reflect/512/7a38a1fe.tif\n",
      "saving 9000th image to: data/guatemala_mixco_1_and_ebenezer/cropped/train/rotated/clipped/512/7a377248.tif, copying to: data/train/rotated/clipped/reflect/512/7a377248.tif\n",
      "saving 10000th image to: data/guatemala_mixco_1_and_ebenezer/cropped/train/rotated/clipped/512/7a3fd83e.tif, copying to: data/train/rotated/clipped/reflect/512/7a3fd83e.tif\n",
      "saving 11000th image to: data/guatemala_mixco_1_and_ebenezer/cropped/train/rotated/clipped/512/7a31dd1a.tif, copying to: data/train/rotated/clipped/reflect/512/7a31dd1a.tif\n",
      "saving 12000th image to: data/guatemala_mixco_1_and_ebenezer/cropped/train/rotated/clipped/512/7a328c74.tif, copying to: data/train/rotated/clipped/reflect/512/7a328c74.tif\n",
      "saving 13000th image to: data/guatemala_mixco_1_and_ebenezer/cropped/train/rotated/clipped/512/7a42046a.tif, copying to: data/train/rotated/clipped/reflect/512/7a42046a.tif\n",
      "saving 14000th image to: data/guatemala_mixco_1_and_ebenezer/cropped/train/rotated/clipped/512/7a3162f4.tif, copying to: data/train/rotated/clipped/reflect/512/7a3162f4.tif\n",
      "saving 15000th image to: data/guatemala_mixco_1_and_ebenezer/cropped/train/rotated/clipped/512/7a3c2770.tif, copying to: data/train/rotated/clipped/reflect/512/7a3c2770.tif\n",
      "saving 16000th image to: data/guatemala_mixco_1_and_ebenezer/cropped/train/rotated/clipped/512/7a33f668.tif, copying to: data/train/rotated/clipped/reflect/512/7a33f668.tif\n",
      "saving 17000th image to: data/guatemala_mixco_1_and_ebenezer/cropped/train/rotated/clipped/512/7a42aca8.tif, copying to: data/train/rotated/clipped/reflect/512/7a42aca8.tif\n",
      "saving 18000th image to: data/guatemala_mixco_1_and_ebenezer/cropped/train/rotated/clipped/512/7a4099a4.tif, copying to: data/train/rotated/clipped/reflect/512/7a4099a4.tif\n",
      "saving 19000th image to: data/guatemala_mixco_1_and_ebenezer/cropped/train/rotated/clipped/512/7a1f7940.tif, copying to: data/train/rotated/clipped/reflect/512/7a1f7940.tif\n",
      "saving 20000th image to: data/guatemala_mixco_1_and_ebenezer/cropped/train/rotated/clipped/512/7a351728.tif, copying to: data/train/rotated/clipped/reflect/512/7a351728.tif\n",
      "saving 21000th image to: data/guatemala_mixco_1_and_ebenezer/cropped/train/rotated/clipped/512/7a337742.tif, copying to: data/train/rotated/clipped/reflect/512/7a337742.tif\n",
      "saving 22000th image to: data/guatemala_mixco_1_and_ebenezer/cropped/train/rotated/clipped/512/7a26c614.tif, copying to: data/train/rotated/clipped/reflect/512/7a26c614.tif\n",
      "resizing: 7325 images to: 512 with OpenCV border: 4\n",
      "saving 0th image to: data/guatemala_mixco_1_and_ebenezer/cropped/test/rotated/clipped/512/7a48ca98.tif, copying to: data/test/rotated/clipped/reflect/512/7a48ca98.tif\n",
      "saving 1000th image to: data/guatemala_mixco_1_and_ebenezer/cropped/test/rotated/clipped/512/7a4f2f3c.tif, copying to: data/test/rotated/clipped/reflect/512/7a4f2f3c.tif\n",
      "saving 2000th image to: data/guatemala_mixco_1_and_ebenezer/cropped/test/rotated/clipped/512/7a4e1070.tif, copying to: data/test/rotated/clipped/reflect/512/7a4e1070.tif\n",
      "saving 3000th image to: data/guatemala_mixco_1_and_ebenezer/cropped/test/rotated/clipped/512/7a49fe2c.tif, copying to: data/test/rotated/clipped/reflect/512/7a49fe2c.tif\n",
      "saving 4000th image to: data/guatemala_mixco_1_and_ebenezer/cropped/test/rotated/clipped/512/7a508710.tif, copying to: data/test/rotated/clipped/reflect/512/7a508710.tif\n",
      "saving 5000th image to: data/guatemala_mixco_1_and_ebenezer/cropped/test/rotated/clipped/512/7a49db68.tif, copying to: data/test/rotated/clipped/reflect/512/7a49db68.tif\n",
      "saving 6000th image to: data/guatemala_mixco_1_and_ebenezer/cropped/test/rotated/clipped/512/7a50a31c.tif, copying to: data/test/rotated/clipped/reflect/512/7a50a31c.tif\n",
      "saving 7000th image to: data/guatemala_mixco_1_and_ebenezer/cropped/test/rotated/clipped/512/7a464430.tif, copying to: data/test/rotated/clipped/reflect/512/7a464430.tif\n",
      "--cv_resize_to guatemala mixco_3\n",
      "resizing: 22553 images to: 512 with OpenCV border: 4\n",
      "saving 0th image to: data/guatemala_mixco_3/cropped/train/rotated/clipped/512/7a1e7446.tif, copying to: data/train/rotated/clipped/reflect/512/7a1e7446.tif\n",
      "saving 1000th image to: data/guatemala_mixco_3/cropped/train/rotated/clipped/512/7a334d58.tif, copying to: data/train/rotated/clipped/reflect/512/7a334d58.tif\n"
     ]
    },
    {
     "name": "stdout",
     "output_type": "stream",
     "text": [
      "saving 2000th image to: data/guatemala_mixco_3/cropped/train/rotated/clipped/512/7a442a92.tif, copying to: data/train/rotated/clipped/reflect/512/7a442a92.tif\n",
      "saving 3000th image to: data/guatemala_mixco_3/cropped/train/rotated/clipped/512/7a4466f6.tif, copying to: data/train/rotated/clipped/reflect/512/7a4466f6.tif\n",
      "saving 4000th image to: data/guatemala_mixco_3/cropped/train/rotated/clipped/512/7a2de9da.tif, copying to: data/train/rotated/clipped/reflect/512/7a2de9da.tif\n",
      "saving 5000th image to: data/guatemala_mixco_3/cropped/train/rotated/clipped/512/7a2f7d68.tif, copying to: data/train/rotated/clipped/reflect/512/7a2f7d68.tif\n",
      "saving 6000th image to: data/guatemala_mixco_3/cropped/train/rotated/clipped/512/7a3d6edc.tif, copying to: data/train/rotated/clipped/reflect/512/7a3d6edc.tif\n",
      "saving 7000th image to: data/guatemala_mixco_3/cropped/train/rotated/clipped/512/7a25951e.tif, copying to: data/train/rotated/clipped/reflect/512/7a25951e.tif\n",
      "saving 8000th image to: data/guatemala_mixco_3/cropped/train/rotated/clipped/512/7a38a1fe.tif, copying to: data/train/rotated/clipped/reflect/512/7a38a1fe.tif\n",
      "saving 9000th image to: data/guatemala_mixco_3/cropped/train/rotated/clipped/512/7a377248.tif, copying to: data/train/rotated/clipped/reflect/512/7a377248.tif\n",
      "saving 10000th image to: data/guatemala_mixco_3/cropped/train/rotated/clipped/512/7a3fd83e.tif, copying to: data/train/rotated/clipped/reflect/512/7a3fd83e.tif\n",
      "saving 11000th image to: data/guatemala_mixco_3/cropped/train/rotated/clipped/512/7a31dd1a.tif, copying to: data/train/rotated/clipped/reflect/512/7a31dd1a.tif\n",
      "saving 12000th image to: data/guatemala_mixco_3/cropped/train/rotated/clipped/512/7a328c74.tif, copying to: data/train/rotated/clipped/reflect/512/7a328c74.tif\n",
      "saving 13000th image to: data/guatemala_mixco_3/cropped/train/rotated/clipped/512/7a42046a.tif, copying to: data/train/rotated/clipped/reflect/512/7a42046a.tif\n",
      "saving 14000th image to: data/guatemala_mixco_3/cropped/train/rotated/clipped/512/7a3162f4.tif, copying to: data/train/rotated/clipped/reflect/512/7a3162f4.tif\n",
      "saving 15000th image to: data/guatemala_mixco_3/cropped/train/rotated/clipped/512/7a3c2770.tif, copying to: data/train/rotated/clipped/reflect/512/7a3c2770.tif\n",
      "saving 16000th image to: data/guatemala_mixco_3/cropped/train/rotated/clipped/512/7a33f668.tif, copying to: data/train/rotated/clipped/reflect/512/7a33f668.tif\n",
      "saving 17000th image to: data/guatemala_mixco_3/cropped/train/rotated/clipped/512/7a42aca8.tif, copying to: data/train/rotated/clipped/reflect/512/7a42aca8.tif\n",
      "saving 18000th image to: data/guatemala_mixco_3/cropped/train/rotated/clipped/512/7a4099a4.tif, copying to: data/train/rotated/clipped/reflect/512/7a4099a4.tif\n",
      "saving 19000th image to: data/guatemala_mixco_3/cropped/train/rotated/clipped/512/7a1f7940.tif, copying to: data/train/rotated/clipped/reflect/512/7a1f7940.tif\n",
      "saving 20000th image to: data/guatemala_mixco_3/cropped/train/rotated/clipped/512/7a351728.tif, copying to: data/train/rotated/clipped/reflect/512/7a351728.tif\n",
      "saving 21000th image to: data/guatemala_mixco_3/cropped/train/rotated/clipped/512/7a337742.tif, copying to: data/train/rotated/clipped/reflect/512/7a337742.tif\n",
      "saving 22000th image to: data/guatemala_mixco_3/cropped/train/rotated/clipped/512/7a26c614.tif, copying to: data/train/rotated/clipped/reflect/512/7a26c614.tif\n",
      "resizing: 7325 images to: 512 with OpenCV border: 4\n",
      "saving 0th image to: data/guatemala_mixco_3/cropped/test/rotated/clipped/512/7a48ca98.tif, copying to: data/test/rotated/clipped/reflect/512/7a48ca98.tif\n",
      "saving 1000th image to: data/guatemala_mixco_3/cropped/test/rotated/clipped/512/7a4f2f3c.tif, copying to: data/test/rotated/clipped/reflect/512/7a4f2f3c.tif\n",
      "saving 2000th image to: data/guatemala_mixco_3/cropped/test/rotated/clipped/512/7a4e1070.tif, copying to: data/test/rotated/clipped/reflect/512/7a4e1070.tif\n",
      "saving 3000th image to: data/guatemala_mixco_3/cropped/test/rotated/clipped/512/7a49fe2c.tif, copying to: data/test/rotated/clipped/reflect/512/7a49fe2c.tif\n",
      "saving 4000th image to: data/guatemala_mixco_3/cropped/test/rotated/clipped/512/7a508710.tif, copying to: data/test/rotated/clipped/reflect/512/7a508710.tif\n",
      "saving 5000th image to: data/guatemala_mixco_3/cropped/test/rotated/clipped/512/7a49db68.tif, copying to: data/test/rotated/clipped/reflect/512/7a49db68.tif\n",
      "saving 6000th image to: data/guatemala_mixco_3/cropped/test/rotated/clipped/512/7a50a31c.tif, copying to: data/test/rotated/clipped/reflect/512/7a50a31c.tif\n",
      "saving 7000th image to: data/guatemala_mixco_3/cropped/test/rotated/clipped/512/7a464430.tif, copying to: data/test/rotated/clipped/reflect/512/7a464430.tif\n",
      "--cv_resize_to st_lucia castries\n",
      "resizing: 22553 images to: 512 with OpenCV border: 4\n",
      "saving 0th image to: data/st_lucia_castries/cropped/train/rotated/clipped/512/7a1e7446.tif, copying to: data/train/rotated/clipped/reflect/512/7a1e7446.tif\n",
      "saving 1000th image to: data/st_lucia_castries/cropped/train/rotated/clipped/512/7a334d58.tif, copying to: data/train/rotated/clipped/reflect/512/7a334d58.tif\n",
      "saving 2000th image to: data/st_lucia_castries/cropped/train/rotated/clipped/512/7a442a92.tif, copying to: data/train/rotated/clipped/reflect/512/7a442a92.tif\n",
      "saving 3000th image to: data/st_lucia_castries/cropped/train/rotated/clipped/512/7a4466f6.tif, copying to: data/train/rotated/clipped/reflect/512/7a4466f6.tif\n",
      "saving 4000th image to: data/st_lucia_castries/cropped/train/rotated/clipped/512/7a2de9da.tif, copying to: data/train/rotated/clipped/reflect/512/7a2de9da.tif\n",
      "saving 5000th image to: data/st_lucia_castries/cropped/train/rotated/clipped/512/7a2f7d68.tif, copying to: data/train/rotated/clipped/reflect/512/7a2f7d68.tif\n",
      "saving 6000th image to: data/st_lucia_castries/cropped/train/rotated/clipped/512/7a3d6edc.tif, copying to: data/train/rotated/clipped/reflect/512/7a3d6edc.tif\n",
      "saving 7000th image to: data/st_lucia_castries/cropped/train/rotated/clipped/512/7a25951e.tif, copying to: data/train/rotated/clipped/reflect/512/7a25951e.tif\n",
      "saving 8000th image to: data/st_lucia_castries/cropped/train/rotated/clipped/512/7a38a1fe.tif, copying to: data/train/rotated/clipped/reflect/512/7a38a1fe.tif\n",
      "saving 9000th image to: data/st_lucia_castries/cropped/train/rotated/clipped/512/7a377248.tif, copying to: data/train/rotated/clipped/reflect/512/7a377248.tif\n",
      "saving 10000th image to: data/st_lucia_castries/cropped/train/rotated/clipped/512/7a3fd83e.tif, copying to: data/train/rotated/clipped/reflect/512/7a3fd83e.tif\n",
      "saving 11000th image to: data/st_lucia_castries/cropped/train/rotated/clipped/512/7a31dd1a.tif, copying to: data/train/rotated/clipped/reflect/512/7a31dd1a.tif\n",
      "saving 12000th image to: data/st_lucia_castries/cropped/train/rotated/clipped/512/7a328c74.tif, copying to: data/train/rotated/clipped/reflect/512/7a328c74.tif\n",
      "saving 13000th image to: data/st_lucia_castries/cropped/train/rotated/clipped/512/7a42046a.tif, copying to: data/train/rotated/clipped/reflect/512/7a42046a.tif\n",
      "saving 14000th image to: data/st_lucia_castries/cropped/train/rotated/clipped/512/7a3162f4.tif, copying to: data/train/rotated/clipped/reflect/512/7a3162f4.tif\n",
      "saving 15000th image to: data/st_lucia_castries/cropped/train/rotated/clipped/512/7a3c2770.tif, copying to: data/train/rotated/clipped/reflect/512/7a3c2770.tif\n",
      "saving 16000th image to: data/st_lucia_castries/cropped/train/rotated/clipped/512/7a33f668.tif, copying to: data/train/rotated/clipped/reflect/512/7a33f668.tif\n",
      "saving 17000th image to: data/st_lucia_castries/cropped/train/rotated/clipped/512/7a42aca8.tif, copying to: data/train/rotated/clipped/reflect/512/7a42aca8.tif\n",
      "saving 18000th image to: data/st_lucia_castries/cropped/train/rotated/clipped/512/7a4099a4.tif, copying to: data/train/rotated/clipped/reflect/512/7a4099a4.tif\n",
      "saving 19000th image to: data/st_lucia_castries/cropped/train/rotated/clipped/512/7a1f7940.tif, copying to: data/train/rotated/clipped/reflect/512/7a1f7940.tif\n",
      "saving 20000th image to: data/st_lucia_castries/cropped/train/rotated/clipped/512/7a351728.tif, copying to: data/train/rotated/clipped/reflect/512/7a351728.tif\n",
      "saving 21000th image to: data/st_lucia_castries/cropped/train/rotated/clipped/512/7a337742.tif, copying to: data/train/rotated/clipped/reflect/512/7a337742.tif\n"
     ]
    },
    {
     "name": "stdout",
     "output_type": "stream",
     "text": [
      "saving 22000th image to: data/st_lucia_castries/cropped/train/rotated/clipped/512/7a26c614.tif, copying to: data/train/rotated/clipped/reflect/512/7a26c614.tif\n",
      "--cv_resize_to st_lucia dennery\n",
      "resizing: 22553 images to: 512 with OpenCV border: 4\n",
      "saving 0th image to: data/st_lucia_dennery/cropped/train/rotated/clipped/512/7a1e7446.tif, copying to: data/train/rotated/clipped/reflect/512/7a1e7446.tif\n",
      "saving 1000th image to: data/st_lucia_dennery/cropped/train/rotated/clipped/512/7a334d58.tif, copying to: data/train/rotated/clipped/reflect/512/7a334d58.tif\n",
      "saving 2000th image to: data/st_lucia_dennery/cropped/train/rotated/clipped/512/7a442a92.tif, copying to: data/train/rotated/clipped/reflect/512/7a442a92.tif\n",
      "saving 3000th image to: data/st_lucia_dennery/cropped/train/rotated/clipped/512/7a4466f6.tif, copying to: data/train/rotated/clipped/reflect/512/7a4466f6.tif\n",
      "saving 4000th image to: data/st_lucia_dennery/cropped/train/rotated/clipped/512/7a2de9da.tif, copying to: data/train/rotated/clipped/reflect/512/7a2de9da.tif\n",
      "saving 5000th image to: data/st_lucia_dennery/cropped/train/rotated/clipped/512/7a2f7d68.tif, copying to: data/train/rotated/clipped/reflect/512/7a2f7d68.tif\n",
      "saving 6000th image to: data/st_lucia_dennery/cropped/train/rotated/clipped/512/7a3d6edc.tif, copying to: data/train/rotated/clipped/reflect/512/7a3d6edc.tif\n",
      "saving 7000th image to: data/st_lucia_dennery/cropped/train/rotated/clipped/512/7a25951e.tif, copying to: data/train/rotated/clipped/reflect/512/7a25951e.tif\n",
      "saving 8000th image to: data/st_lucia_dennery/cropped/train/rotated/clipped/512/7a38a1fe.tif, copying to: data/train/rotated/clipped/reflect/512/7a38a1fe.tif\n",
      "saving 9000th image to: data/st_lucia_dennery/cropped/train/rotated/clipped/512/7a377248.tif, copying to: data/train/rotated/clipped/reflect/512/7a377248.tif\n",
      "saving 10000th image to: data/st_lucia_dennery/cropped/train/rotated/clipped/512/7a3fd83e.tif, copying to: data/train/rotated/clipped/reflect/512/7a3fd83e.tif\n",
      "saving 11000th image to: data/st_lucia_dennery/cropped/train/rotated/clipped/512/7a31dd1a.tif, copying to: data/train/rotated/clipped/reflect/512/7a31dd1a.tif\n",
      "saving 12000th image to: data/st_lucia_dennery/cropped/train/rotated/clipped/512/7a328c74.tif, copying to: data/train/rotated/clipped/reflect/512/7a328c74.tif\n",
      "saving 13000th image to: data/st_lucia_dennery/cropped/train/rotated/clipped/512/7a42046a.tif, copying to: data/train/rotated/clipped/reflect/512/7a42046a.tif\n",
      "saving 14000th image to: data/st_lucia_dennery/cropped/train/rotated/clipped/512/7a3162f4.tif, copying to: data/train/rotated/clipped/reflect/512/7a3162f4.tif\n",
      "saving 15000th image to: data/st_lucia_dennery/cropped/train/rotated/clipped/512/7a3c2770.tif, copying to: data/train/rotated/clipped/reflect/512/7a3c2770.tif\n",
      "saving 16000th image to: data/st_lucia_dennery/cropped/train/rotated/clipped/512/7a33f668.tif, copying to: data/train/rotated/clipped/reflect/512/7a33f668.tif\n",
      "saving 17000th image to: data/st_lucia_dennery/cropped/train/rotated/clipped/512/7a42aca8.tif, copying to: data/train/rotated/clipped/reflect/512/7a42aca8.tif\n",
      "saving 18000th image to: data/st_lucia_dennery/cropped/train/rotated/clipped/512/7a4099a4.tif, copying to: data/train/rotated/clipped/reflect/512/7a4099a4.tif\n",
      "saving 19000th image to: data/st_lucia_dennery/cropped/train/rotated/clipped/512/7a1f7940.tif, copying to: data/train/rotated/clipped/reflect/512/7a1f7940.tif\n",
      "saving 20000th image to: data/st_lucia_dennery/cropped/train/rotated/clipped/512/7a351728.tif, copying to: data/train/rotated/clipped/reflect/512/7a351728.tif\n",
      "saving 21000th image to: data/st_lucia_dennery/cropped/train/rotated/clipped/512/7a337742.tif, copying to: data/train/rotated/clipped/reflect/512/7a337742.tif\n",
      "saving 22000th image to: data/st_lucia_dennery/cropped/train/rotated/clipped/512/7a26c614.tif, copying to: data/train/rotated/clipped/reflect/512/7a26c614.tif\n",
      "resizing: 7325 images to: 512 with OpenCV border: 4\n",
      "saving 0th image to: data/st_lucia_dennery/cropped/test/rotated/clipped/512/7a48ca98.tif, copying to: data/test/rotated/clipped/reflect/512/7a48ca98.tif\n",
      "saving 1000th image to: data/st_lucia_dennery/cropped/test/rotated/clipped/512/7a4f2f3c.tif, copying to: data/test/rotated/clipped/reflect/512/7a4f2f3c.tif\n",
      "saving 2000th image to: data/st_lucia_dennery/cropped/test/rotated/clipped/512/7a4e1070.tif, copying to: data/test/rotated/clipped/reflect/512/7a4e1070.tif\n",
      "saving 3000th image to: data/st_lucia_dennery/cropped/test/rotated/clipped/512/7a49fe2c.tif, copying to: data/test/rotated/clipped/reflect/512/7a49fe2c.tif\n",
      "saving 4000th image to: data/st_lucia_dennery/cropped/test/rotated/clipped/512/7a508710.tif, copying to: data/test/rotated/clipped/reflect/512/7a508710.tif\n",
      "saving 5000th image to: data/st_lucia_dennery/cropped/test/rotated/clipped/512/7a49db68.tif, copying to: data/test/rotated/clipped/reflect/512/7a49db68.tif\n",
      "saving 6000th image to: data/st_lucia_dennery/cropped/test/rotated/clipped/512/7a50a31c.tif, copying to: data/test/rotated/clipped/reflect/512/7a50a31c.tif\n",
      "saving 7000th image to: data/st_lucia_dennery/cropped/test/rotated/clipped/512/7a464430.tif, copying to: data/test/rotated/clipped/reflect/512/7a464430.tif\n",
      "--cv_resize_to st_lucia gros_islet\n",
      "resizing: 22553 images to: 512 with OpenCV border: 4\n",
      "saving 0th image to: data/st_lucia_gros_islet/cropped/train/rotated/clipped/512/7a1e7446.tif, copying to: data/train/rotated/clipped/reflect/512/7a1e7446.tif\n",
      "saving 1000th image to: data/st_lucia_gros_islet/cropped/train/rotated/clipped/512/7a334d58.tif, copying to: data/train/rotated/clipped/reflect/512/7a334d58.tif\n",
      "saving 2000th image to: data/st_lucia_gros_islet/cropped/train/rotated/clipped/512/7a442a92.tif, copying to: data/train/rotated/clipped/reflect/512/7a442a92.tif\n",
      "saving 3000th image to: data/st_lucia_gros_islet/cropped/train/rotated/clipped/512/7a4466f6.tif, copying to: data/train/rotated/clipped/reflect/512/7a4466f6.tif\n",
      "saving 4000th image to: data/st_lucia_gros_islet/cropped/train/rotated/clipped/512/7a2de9da.tif, copying to: data/train/rotated/clipped/reflect/512/7a2de9da.tif\n",
      "saving 5000th image to: data/st_lucia_gros_islet/cropped/train/rotated/clipped/512/7a2f7d68.tif, copying to: data/train/rotated/clipped/reflect/512/7a2f7d68.tif\n",
      "saving 6000th image to: data/st_lucia_gros_islet/cropped/train/rotated/clipped/512/7a3d6edc.tif, copying to: data/train/rotated/clipped/reflect/512/7a3d6edc.tif\n",
      "saving 7000th image to: data/st_lucia_gros_islet/cropped/train/rotated/clipped/512/7a25951e.tif, copying to: data/train/rotated/clipped/reflect/512/7a25951e.tif\n",
      "saving 8000th image to: data/st_lucia_gros_islet/cropped/train/rotated/clipped/512/7a38a1fe.tif, copying to: data/train/rotated/clipped/reflect/512/7a38a1fe.tif\n",
      "saving 9000th image to: data/st_lucia_gros_islet/cropped/train/rotated/clipped/512/7a377248.tif, copying to: data/train/rotated/clipped/reflect/512/7a377248.tif\n",
      "saving 10000th image to: data/st_lucia_gros_islet/cropped/train/rotated/clipped/512/7a3fd83e.tif, copying to: data/train/rotated/clipped/reflect/512/7a3fd83e.tif\n",
      "saving 11000th image to: data/st_lucia_gros_islet/cropped/train/rotated/clipped/512/7a31dd1a.tif, copying to: data/train/rotated/clipped/reflect/512/7a31dd1a.tif\n",
      "saving 12000th image to: data/st_lucia_gros_islet/cropped/train/rotated/clipped/512/7a328c74.tif, copying to: data/train/rotated/clipped/reflect/512/7a328c74.tif\n",
      "saving 13000th image to: data/st_lucia_gros_islet/cropped/train/rotated/clipped/512/7a42046a.tif, copying to: data/train/rotated/clipped/reflect/512/7a42046a.tif\n",
      "saving 14000th image to: data/st_lucia_gros_islet/cropped/train/rotated/clipped/512/7a3162f4.tif, copying to: data/train/rotated/clipped/reflect/512/7a3162f4.tif\n",
      "saving 15000th image to: data/st_lucia_gros_islet/cropped/train/rotated/clipped/512/7a3c2770.tif, copying to: data/train/rotated/clipped/reflect/512/7a3c2770.tif\n",
      "saving 16000th image to: data/st_lucia_gros_islet/cropped/train/rotated/clipped/512/7a33f668.tif, copying to: data/train/rotated/clipped/reflect/512/7a33f668.tif\n",
      "saving 17000th image to: data/st_lucia_gros_islet/cropped/train/rotated/clipped/512/7a42aca8.tif, copying to: data/train/rotated/clipped/reflect/512/7a42aca8.tif\n",
      "saving 18000th image to: data/st_lucia_gros_islet/cropped/train/rotated/clipped/512/7a4099a4.tif, copying to: data/train/rotated/clipped/reflect/512/7a4099a4.tif\n"
     ]
    },
    {
     "name": "stdout",
     "output_type": "stream",
     "text": [
      "saving 19000th image to: data/st_lucia_gros_islet/cropped/train/rotated/clipped/512/7a1f7940.tif, copying to: data/train/rotated/clipped/reflect/512/7a1f7940.tif\n",
      "saving 20000th image to: data/st_lucia_gros_islet/cropped/train/rotated/clipped/512/7a351728.tif, copying to: data/train/rotated/clipped/reflect/512/7a351728.tif\n",
      "saving 21000th image to: data/st_lucia_gros_islet/cropped/train/rotated/clipped/512/7a337742.tif, copying to: data/train/rotated/clipped/reflect/512/7a337742.tif\n",
      "saving 22000th image to: data/st_lucia_gros_islet/cropped/train/rotated/clipped/512/7a26c614.tif, copying to: data/train/rotated/clipped/reflect/512/7a26c614.tif\n"
     ]
    }
   ],
   "source": [
    "if CV_RESIZE_IMAGES:\n",
    "    #black for padding not covered by reflection\n",
    "    color = [0, 0, 0]\n",
    "    fl=[]\n",
    "    tl=[]\n",
    "    train_flat=[]\n",
    "    test_flat=[]\n",
    "    for c, r in zip(country_list, region_list):\n",
    "        p=data_dir/f'{c}_{r}/cropped'\n",
    "        pd = p/'train/rotated/clipped'\n",
    "        fn=[pd/f'{f}' for f in listdir(pd) if isfile(join(pd, f))]\n",
    "        assert (len(fn)>0)\n",
    "        fl.append(fn)\n",
    "        if r.strip() not in ['castries','gros_islet']:\n",
    "            print(f'{c} region {r} test gen')\n",
    "            pd = p/'test/rotated/clipped'\n",
    "            tn = [pd/f'{f}' for f in listdir(pd) if isfile(join(pd, f))]\n",
    "            assert (len(tn)>0)\n",
    "            tl.append(tn)\n",
    "    train_flat = [item for sublist in fl for item in sublist]\n",
    "    test_flat = [item for sublist in tl for item in sublist]\n",
    "    print(f'{len(train_flat)} train images; {len(test_flat)} test images')\n",
    "    cv_resize_to(fnames=train_flat, test_fnames=test_flat, color=color, size=img_size)"
   ]
  },
  {
   "cell_type": "code",
   "execution_count": 41,
   "metadata": {},
   "outputs": [
    {
     "data": {
      "text/plain": [
       "22553"
      ]
     },
     "execution_count": 41,
     "metadata": {},
     "output_type": "execute_result"
    }
   ],
   "source": [
    "len(train_flat)"
   ]
  },
  {
   "cell_type": "code",
   "execution_count": 42,
   "metadata": {},
   "outputs": [
    {
     "data": {
      "text/plain": [
       "7325"
      ]
     },
     "execution_count": 42,
     "metadata": {},
     "output_type": "execute_result"
    }
   ],
   "source": [
    "len(test_flat)"
   ]
  },
  {
   "cell_type": "code",
   "execution_count": 43,
   "metadata": {},
   "outputs": [
    {
     "data": {
      "text/plain": [
       "PosixPath('data/colombia_borde_rural/cropped/train/rotated/clipped/7a1e7446.tif')"
      ]
     },
     "execution_count": 43,
     "metadata": {},
     "output_type": "execute_result"
    }
   ],
   "source": [
    "train_flat[0]"
   ]
  },
  {
   "cell_type": "code",
   "execution_count": 44,
   "metadata": {},
   "outputs": [],
   "source": [
    "train_ids=df_all['id']"
   ]
  },
  {
   "cell_type": "code",
   "execution_count": 45,
   "metadata": {},
   "outputs": [],
   "source": [
    "p=data_dir/f'train/rotated/clipped/{border}/{img_size}'"
   ]
  },
  {
   "cell_type": "code",
   "execution_count": 46,
   "metadata": {},
   "outputs": [],
   "source": [
    "all_cv_train_fnames = [p/f'{f}' for f in listdir(p) if isfile(join(p, f))]"
   ]
  },
  {
   "cell_type": "code",
   "execution_count": 47,
   "metadata": {},
   "outputs": [
    {
     "data": {
      "text/plain": [
       "0       7a3f2a10\n",
       "1       7a1f731e\n",
       "2       7a424ad8\n",
       "3       7a3edc5e\n",
       "4       7a303a6e\n",
       "5       7a1eb2bc\n",
       "6       7a2c2a64\n",
       "7       7a2c92ba\n",
       "8       7a28a24a\n",
       "9       7a38a5b4\n",
       "10      7a349f28\n",
       "11      7a371a32\n",
       "12      7a44a472\n",
       "13      7a2fc05c\n",
       "14      7a41c798\n",
       "15      7a21eea0\n",
       "16      7a31c942\n",
       "17      7a2d66d6\n",
       "18      7a2f33ee\n",
       "19      7a38cd5a\n",
       "20      7a38c0ee\n",
       "21      7a2187f8\n",
       "22      7a3b0aa2\n",
       "23      7a339bdc\n",
       "24      7a303cf8\n",
       "25      7a3a2858\n",
       "26      7a38b1c6\n",
       "27      7a2f5d7e\n",
       "28      7a372928\n",
       "29      7a35666a\n",
       "          ...   \n",
       "1937    7a36a80e\n",
       "1938    7a2d4f84\n",
       "1939    7a2fd704\n",
       "1940    7a37d918\n",
       "1941    7a3c90f2\n",
       "1942    7a4248a8\n",
       "1943    7a1e24dc\n",
       "1944    7a344b04\n",
       "1945    7a29945c\n",
       "1946    7a1ecebe\n",
       "1947    7a424470\n",
       "1948    7a372b3a\n",
       "1949    7a276c86\n",
       "1950    7a3c6c30\n",
       "1951    7a364a4e\n",
       "1952    7a3bda90\n",
       "1953    7a419b74\n",
       "1954    7a25a3c4\n",
       "1955    7a1e8f26\n",
       "1956    7a2becd4\n",
       "1957    7a2cf796\n",
       "1958    7a2ff522\n",
       "1959    7a23e156\n",
       "1960    7a410894\n",
       "1961    7a23a86c\n",
       "1962    7a22ddec\n",
       "1963    7a2f73ea\n",
       "1964    7a34ffa4\n",
       "1965    7a41560a\n",
       "1966    7a283ad0\n",
       "Name: id, Length: 22553, dtype: object"
      ]
     },
     "execution_count": 47,
     "metadata": {},
     "output_type": "execute_result"
    }
   ],
   "source": [
    "train_ids"
   ]
  },
  {
   "cell_type": "code",
   "execution_count": 48,
   "metadata": {},
   "outputs": [
    {
     "ename": "AssertionError",
     "evalue": "",
     "output_type": "error",
     "traceback": [
      "\u001b[0;31m---------------------------------------------------------------------------\u001b[0m",
      "\u001b[0;31mAssertionError\u001b[0m                            Traceback (most recent call last)",
      "\u001b[0;32m<ipython-input-48-9f27e22c4c8c>\u001b[0m in \u001b[0;36m<module>\u001b[0;34m\u001b[0m\n\u001b[0;32m----> 1\u001b[0;31m \u001b[0;32massert\u001b[0m\u001b[0;34m(\u001b[0m\u001b[0mset\u001b[0m\u001b[0;34m(\u001b[0m\u001b[0mtrain_ids\u001b[0m\u001b[0;34m)\u001b[0m \u001b[0;34m==\u001b[0m \u001b[0mset\u001b[0m\u001b[0;34m(\u001b[0m\u001b[0mall_cv_train_fnames\u001b[0m\u001b[0;34m)\u001b[0m\u001b[0;34m)\u001b[0m\u001b[0;34m\u001b[0m\u001b[0;34m\u001b[0m\u001b[0m\n\u001b[0m",
      "\u001b[0;31mAssertionError\u001b[0m: "
     ]
    }
   ],
   "source": [
    "assert(set(train_ids) == set(all_cv_train_fnames))"
   ]
  },
  {
   "cell_type": "code",
   "execution_count": null,
   "metadata": {},
   "outputs": [],
   "source": [
    "test_ids=df_test['id']"
   ]
  },
  {
   "cell_type": "code",
   "execution_count": null,
   "metadata": {},
   "outputs": [],
   "source": [
    "p=data_dir/f'test/rotated/clipped/{border}/{img_size}'"
   ]
  },
  {
   "cell_type": "code",
   "execution_count": null,
   "metadata": {},
   "outputs": [],
   "source": [
    "all_cv_test_fnames = [p/f'{f}' for f in listdir(p) if isfile(join(p, f))]\n",
    "len(all_cv_test_fnames)"
   ]
  },
  {
   "cell_type": "code",
   "execution_count": null,
   "metadata": {},
   "outputs": [],
   "source": [
    "assert(set(test_ids) == set(all_cv_test_fnames))"
   ]
  },
  {
   "cell_type": "code",
   "execution_count": null,
   "metadata": {},
   "outputs": [],
   "source": []
  }
 ],
 "metadata": {
  "kernelspec": {
   "display_name": "Python 3",
   "language": "python",
   "name": "python3"
  },
  "language_info": {
   "codemirror_mode": {
    "name": "ipython",
    "version": 3
   },
   "file_extension": ".py",
   "mimetype": "text/x-python",
   "name": "python",
   "nbconvert_exporter": "python",
   "pygments_lexer": "ipython3",
   "version": "3.6.7"
  }
 },
 "nbformat": 4,
 "nbformat_minor": 2
}
