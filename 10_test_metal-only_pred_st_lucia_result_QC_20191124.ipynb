{
 "cells": [
  {
   "cell_type": "markdown",
   "metadata": {},
   "source": [
    "## Predict St Lucia Metal Roofs\n",
    "\n",
    "Using rotated to hz + OpenCv border\n"
   ]
  },
  {
   "cell_type": "code",
   "execution_count": 1,
   "metadata": {},
   "outputs": [],
   "source": [
    "%reload_ext autoreload\n",
    "%autoreload 2\n",
    "%matplotlib inline"
   ]
  },
  {
   "cell_type": "code",
   "execution_count": 2,
   "metadata": {},
   "outputs": [],
   "source": [
    "from fastai.vision import *\n",
    "import geopandas as gpd\n",
    "from resizeimage import resizeimage\n",
    "import datetime\n",
    "import uuid\n",
    "from os import listdir\n",
    "from os.path import isfile, join\n",
    "from ipyexperiments import *"
   ]
  },
  {
   "cell_type": "code",
   "execution_count": 3,
   "metadata": {},
   "outputs": [
    {
     "data": {
      "text/plain": [
       "0"
      ]
     },
     "execution_count": 3,
     "metadata": {},
     "output_type": "execute_result"
    }
   ],
   "source": [
    "torch.cuda.set_device(0)\n",
    "torch.cuda.current_device()"
   ]
  },
  {
   "cell_type": "code",
   "execution_count": 4,
   "metadata": {},
   "outputs": [],
   "source": [
    "data_dir = Path('data')\n"
   ]
  },
  {
   "cell_type": "code",
   "execution_count": 5,
   "metadata": {},
   "outputs": [],
   "source": [
    "MODEL_NAME='result_QC'"
   ]
  },
  {
   "cell_type": "code",
   "execution_count": 6,
   "metadata": {},
   "outputs": [],
   "source": [
    "NB_NUM='10_0'\n",
    "RUN='0'"
   ]
  },
  {
   "cell_type": "code",
   "execution_count": 7,
   "metadata": {},
   "outputs": [
    {
     "name": "stdout",
     "output_type": "stream",
     "text": [
      "UID: 2933e0a1, DATE: 20191125\n"
     ]
    }
   ],
   "source": [
    "DATE = datetime.datetime.today().strftime('%Y%m%d')\n",
    "UID=str(uuid.uuid4())[:8]\n",
    "print(f'UID: {UID}, DATE: {DATE}')                                                 "
   ]
  },
  {
   "cell_type": "code",
   "execution_count": 8,
   "metadata": {},
   "outputs": [],
   "source": [
    "#DATE = '20191124'\n",
    "#UID = '1328c588'"
   ]
  },
  {
   "cell_type": "code",
   "execution_count": 9,
   "metadata": {},
   "outputs": [],
   "source": [
    "SUB_NUM='2'"
   ]
  },
  {
   "cell_type": "code",
   "execution_count": 10,
   "metadata": {},
   "outputs": [],
   "source": [
    "img_size=256\n",
    "bs=128"
   ]
  },
  {
   "cell_type": "code",
   "execution_count": 11,
   "metadata": {},
   "outputs": [],
   "source": [
    "train_images=data_dir/f'train/rotated/clipped/{img_size}'\n",
    "test_images=data_dir/f'test/rotated/clipped/{img_size}'"
   ]
  },
  {
   "cell_type": "markdown",
   "metadata": {},
   "source": [
    "#### concat predictions"
   ]
  },
  {
   "cell_type": "code",
   "execution_count": 12,
   "metadata": {},
   "outputs": [],
   "source": [
    "list_ = []\n",
    "data_folder = data_dir/'processing/Test_Pred_Raw_Train_Data/'\n",
    "for file_ in os.listdir(data_folder):\n",
    "    df = pd.read_csv(data_folder/f'{file_}')\n",
    "    pfix=file_.split('stage-2-')[1]\n",
    "    df['model']=pfix.split('-')[0]\n",
    "    pfix=pfix.split('metal-only_')[1]\n",
    "    run=pfix.split('-')[0]\n",
    "    df['run']=run\n",
    "    ttype=pfix.split(f'{run}-')[1].split('-')[0]\n",
    "    df['ttype']=ttype\n",
    "    df['uid']=file_\n",
    "    list_.append(df)\n",
    "df_sl_metal = pd.concat(list_)"
   ]
  },
  {
   "cell_type": "code",
   "execution_count": 13,
   "metadata": {},
   "outputs": [
    {
     "data": {
      "text/html": [
       "<div>\n",
       "<style scoped>\n",
       "    .dataframe tbody tr th:only-of-type {\n",
       "        vertical-align: middle;\n",
       "    }\n",
       "\n",
       "    .dataframe tbody tr th {\n",
       "        vertical-align: top;\n",
       "    }\n",
       "\n",
       "    .dataframe thead th {\n",
       "        text-align: right;\n",
       "    }\n",
       "</style>\n",
       "<table border=\"1\" class=\"dataframe\">\n",
       "  <thead>\n",
       "    <tr style=\"text-align: right;\">\n",
       "      <th></th>\n",
       "      <th>id</th>\n",
       "      <th>healthy_metal</th>\n",
       "      <th>irregular_metal</th>\n",
       "      <th>model</th>\n",
       "      <th>run</th>\n",
       "      <th>ttype</th>\n",
       "      <th>uid</th>\n",
       "    </tr>\n",
       "  </thead>\n",
       "  <tbody>\n",
       "    <tr>\n",
       "      <td>0</td>\n",
       "      <td>7a4d630a</td>\n",
       "      <td>0.892201</td>\n",
       "      <td>0.009360</td>\n",
       "      <td>rn152</td>\n",
       "      <td>0</td>\n",
       "      <td>region</td>\n",
       "      <td>stage-2-rn152-10_metal-only_0-region-5-2019112...</td>\n",
       "    </tr>\n",
       "    <tr>\n",
       "      <td>1</td>\n",
       "      <td>7a4bbbd6</td>\n",
       "      <td>0.974252</td>\n",
       "      <td>0.016870</td>\n",
       "      <td>rn152</td>\n",
       "      <td>0</td>\n",
       "      <td>region</td>\n",
       "      <td>stage-2-rn152-10_metal-only_0-region-5-2019112...</td>\n",
       "    </tr>\n",
       "    <tr>\n",
       "      <td>2</td>\n",
       "      <td>7a4ac744</td>\n",
       "      <td>0.267454</td>\n",
       "      <td>0.559205</td>\n",
       "      <td>rn152</td>\n",
       "      <td>0</td>\n",
       "      <td>region</td>\n",
       "      <td>stage-2-rn152-10_metal-only_0-region-5-2019112...</td>\n",
       "    </tr>\n",
       "    <tr>\n",
       "      <td>3</td>\n",
       "      <td>7a4881fa</td>\n",
       "      <td>0.031138</td>\n",
       "      <td>0.760786</td>\n",
       "      <td>rn152</td>\n",
       "      <td>0</td>\n",
       "      <td>region</td>\n",
       "      <td>stage-2-rn152-10_metal-only_0-region-5-2019112...</td>\n",
       "    </tr>\n",
       "    <tr>\n",
       "      <td>4</td>\n",
       "      <td>7a4aa4a8</td>\n",
       "      <td>0.415445</td>\n",
       "      <td>0.454183</td>\n",
       "      <td>rn152</td>\n",
       "      <td>0</td>\n",
       "      <td>region</td>\n",
       "      <td>stage-2-rn152-10_metal-only_0-region-5-2019112...</td>\n",
       "    </tr>\n",
       "  </tbody>\n",
       "</table>\n",
       "</div>"
      ],
      "text/plain": [
       "         id  healthy_metal  irregular_metal  model run   ttype  \\\n",
       "0  7a4d630a       0.892201         0.009360  rn152   0  region   \n",
       "1  7a4bbbd6       0.974252         0.016870  rn152   0  region   \n",
       "2  7a4ac744       0.267454         0.559205  rn152   0  region   \n",
       "3  7a4881fa       0.031138         0.760786  rn152   0  region   \n",
       "4  7a4aa4a8       0.415445         0.454183  rn152   0  region   \n",
       "\n",
       "                                                 uid  \n",
       "0  stage-2-rn152-10_metal-only_0-region-5-2019112...  \n",
       "1  stage-2-rn152-10_metal-only_0-region-5-2019112...  \n",
       "2  stage-2-rn152-10_metal-only_0-region-5-2019112...  \n",
       "3  stage-2-rn152-10_metal-only_0-region-5-2019112...  \n",
       "4  stage-2-rn152-10_metal-only_0-region-5-2019112...  "
      ]
     },
     "execution_count": 13,
     "metadata": {},
     "output_type": "execute_result"
    }
   ],
   "source": [
    "df_sl_metal.head()"
   ]
  },
  {
   "cell_type": "code",
   "execution_count": 14,
   "metadata": {},
   "outputs": [],
   "source": [
    "def get_all_model_type(model, ttype, runs):\n",
    "    df = df_sl_metal.loc[(df_sl_metal['model'] == model) & (df_sl_metal['ttype']== ttype)& df_sl_metal['run'].isin(runs)]\n",
    "    df=df[['healthy_metal','irregular_metal']]\n",
    "    classes=df.idxmax(axis=1)\n",
    "    df['roof_material']=classes\n",
    "    return df"
   ]
  },
  {
   "cell_type": "code",
   "execution_count": 15,
   "metadata": {},
   "outputs": [],
   "source": [
    "def print_lengths(ls):\n",
    "    for l in ls:\n",
    "        print(len(l))"
   ]
  },
  {
   "cell_type": "code",
   "execution_count": 16,
   "metadata": {},
   "outputs": [],
   "source": [
    "def plot_df_types(df1, df2, df3):\n",
    "    ax = df1.roof_material.value_counts().plot(kind='bar', color='blue', width=.75, legend=True, alpha=0.2)\n",
    "    ax1 = df2.roof_material.value_counts().plot(kind='bar', color='green', width=.5, legend=True, alpha=0.2)\n",
    "    df3.roof_material.value_counts().plot(kind='bar', color='maroon', width=.25, alpha=0.5, legend=True)"
   ]
  },
  {
   "cell_type": "code",
   "execution_count": 17,
   "metadata": {},
   "outputs": [],
   "source": [
    "df_binary_rn50 = get_all_model_type('rn50', 'binary', ['0'])\n",
    "df_region_rn50 = get_all_model_type('rn50', 'region', ['0'])\n",
    "df_country_rn50 = get_all_model_type('rn50', 'country', ['0'])"
   ]
  },
  {
   "cell_type": "code",
   "execution_count": 18,
   "metadata": {},
   "outputs": [
    {
     "data": {
      "image/png": "[encoded data removed]",
      "text/plain": [
       "<Figure size 432x288 with 1 Axes>"
      ]
     },
     "metadata": {
      "needs_background": "light"
     },
     "output_type": "display_data"
    }
   ],
   "source": [
    "plot_df_types(df_binary_rn50, df_region_rn50, df_country_rn50)"
   ]
  },
  {
   "cell_type": "code",
   "execution_count": 19,
   "metadata": {},
   "outputs": [
    {
     "name": "stdout",
     "output_type": "stream",
     "text": [
      "7325\n",
      "7325\n",
      "7325\n"
     ]
    }
   ],
   "source": [
    "print_lengths([df_binary_rn50, df_region_rn50, df_country_rn50])"
   ]
  },
  {
   "cell_type": "code",
   "execution_count": 20,
   "metadata": {},
   "outputs": [],
   "source": [
    "df_binary_rn152 = get_all_model_type('rn152', 'binary', ['0'])\n",
    "df_region_rn152 = get_all_model_type('rn152', 'region', ['0'])\n",
    "df_country_rn152 = get_all_model_type('rn152', 'country', ['0'])"
   ]
  },
  {
   "cell_type": "code",
   "execution_count": 21,
   "metadata": {},
   "outputs": [
    {
     "data": {
      "image/png": "[encoded data removed]",
      "text/plain": [
       "<Figure size 432x288 with 1 Axes>"
      ]
     },
     "metadata": {
      "needs_background": "light"
     },
     "output_type": "display_data"
    }
   ],
   "source": [
    "plot_df_types(df_binary_rn152, df_region_rn152, df_country_rn152)"
   ]
  },
  {
   "cell_type": "code",
   "execution_count": 22,
   "metadata": {},
   "outputs": [
    {
     "name": "stdout",
     "output_type": "stream",
     "text": [
      "14650\n",
      "21975\n",
      "21975\n"
     ]
    }
   ],
   "source": [
    "print_lengths([df_binary_rn152, df_region_rn152, df_country_rn152])"
   ]
  },
  {
   "cell_type": "code",
   "execution_count": 23,
   "metadata": {},
   "outputs": [],
   "source": [
    "df_binary_dn121 = get_all_model_type('dn121', 'binary', ['0'])\n",
    "df_region_dn121 = get_all_model_type('dn121', 'region', ['0'])\n",
    "df_country_dn121 = get_all_model_type('dn121', 'country', ['0'])"
   ]
  },
  {
   "cell_type": "code",
   "execution_count": 24,
   "metadata": {},
   "outputs": [
    {
     "data": {
      "image/png": "[encoded data removed]",
      "text/plain": [
       "<Figure size 432x288 with 1 Axes>"
      ]
     },
     "metadata": {
      "needs_background": "light"
     },
     "output_type": "display_data"
    }
   ],
   "source": [
    "plot_df_types(df_binary_dn121, df_region_dn121, df_country_dn121)"
   ]
  },
  {
   "cell_type": "code",
   "execution_count": 25,
   "metadata": {},
   "outputs": [
    {
     "name": "stdout",
     "output_type": "stream",
     "text": [
      "14650\n",
      "21975\n",
      "21975\n"
     ]
    }
   ],
   "source": [
    "print_lengths([df_binary_dn121, df_region_dn121, df_country_dn121])"
   ]
  },
  {
   "cell_type": "code",
   "execution_count": 26,
   "metadata": {},
   "outputs": [],
   "source": [
    "#### Healthy metal"
   ]
  },
  {
   "cell_type": "code",
   "execution_count": 27,
   "metadata": {},
   "outputs": [],
   "source": [
    "df_hm=df_sl_metal[['id','healthy_metal']]"
   ]
  },
  {
   "cell_type": "code",
   "execution_count": 28,
   "metadata": {},
   "outputs": [
    {
     "data": {
      "text/plain": [
       "373575"
      ]
     },
     "execution_count": 28,
     "metadata": {},
     "output_type": "execute_result"
    }
   ],
   "source": [
    "len(df_hm)"
   ]
  },
  {
   "cell_type": "code",
   "execution_count": 29,
   "metadata": {},
   "outputs": [],
   "source": [
    "result = df_hm.groupby(['id'], as_index=False).agg(\n",
    "                     ['mean', 'std'])"
   ]
  },
  {
   "cell_type": "code",
   "execution_count": 30,
   "metadata": {},
   "outputs": [
    {
     "data": {
      "text/plain": [
       "7325"
      ]
     },
     "execution_count": 30,
     "metadata": {},
     "output_type": "execute_result"
    }
   ],
   "source": [
    "len(result)"
   ]
  },
  {
   "cell_type": "code",
   "execution_count": 31,
   "metadata": {},
   "outputs": [
    {
     "data": {
      "text/html": [
       "<div>\n",
       "<style scoped>\n",
       "    .dataframe tbody tr th:only-of-type {\n",
       "        vertical-align: middle;\n",
       "    }\n",
       "\n",
       "    .dataframe tbody tr th {\n",
       "        vertical-align: top;\n",
       "    }\n",
       "\n",
       "    .dataframe thead tr th {\n",
       "        text-align: left;\n",
       "    }\n",
       "\n",
       "    .dataframe thead tr:last-of-type th {\n",
       "        text-align: right;\n",
       "    }\n",
       "</style>\n",
       "<table border=\"1\" class=\"dataframe\">\n",
       "  <thead>\n",
       "    <tr>\n",
       "      <th></th>\n",
       "      <th colspan=\"2\" halign=\"left\">healthy_metal</th>\n",
       "    </tr>\n",
       "    <tr>\n",
       "      <th></th>\n",
       "      <th>mean</th>\n",
       "      <th>std</th>\n",
       "    </tr>\n",
       "    <tr>\n",
       "      <th>id</th>\n",
       "      <th></th>\n",
       "      <th></th>\n",
       "    </tr>\n",
       "  </thead>\n",
       "  <tbody>\n",
       "    <tr>\n",
       "      <td>7a44da50</td>\n",
       "      <td>0.993236</td>\n",
       "      <td>0.004211</td>\n",
       "    </tr>\n",
       "    <tr>\n",
       "      <td>7a44db72</td>\n",
       "      <td>0.980760</td>\n",
       "      <td>0.015458</td>\n",
       "    </tr>\n",
       "    <tr>\n",
       "      <td>7a44dc08</td>\n",
       "      <td>0.077523</td>\n",
       "      <td>0.043024</td>\n",
       "    </tr>\n",
       "    <tr>\n",
       "      <td>7a44dc80</td>\n",
       "      <td>0.349815</td>\n",
       "      <td>0.127981</td>\n",
       "    </tr>\n",
       "    <tr>\n",
       "      <td>7a44dcf8</td>\n",
       "      <td>0.612397</td>\n",
       "      <td>0.168109</td>\n",
       "    </tr>\n",
       "  </tbody>\n",
       "</table>\n",
       "</div>"
      ],
      "text/plain": [
       "         healthy_metal          \n",
       "                  mean       std\n",
       "id                              \n",
       "7a44da50      0.993236  0.004211\n",
       "7a44db72      0.980760  0.015458\n",
       "7a44dc08      0.077523  0.043024\n",
       "7a44dc80      0.349815  0.127981\n",
       "7a44dcf8      0.612397  0.168109"
      ]
     },
     "execution_count": 31,
     "metadata": {},
     "output_type": "execute_result"
    }
   ],
   "source": [
    "result.head()"
   ]
  },
  {
   "cell_type": "markdown",
   "metadata": {},
   "source": [
    "Sort by tuple"
   ]
  },
  {
   "cell_type": "code",
   "execution_count": 32,
   "metadata": {},
   "outputs": [
    {
     "data": {
      "text/html": [
       "<div>\n",
       "<style scoped>\n",
       "    .dataframe tbody tr th:only-of-type {\n",
       "        vertical-align: middle;\n",
       "    }\n",
       "\n",
       "    .dataframe tbody tr th {\n",
       "        vertical-align: top;\n",
       "    }\n",
       "\n",
       "    .dataframe thead tr th {\n",
       "        text-align: left;\n",
       "    }\n",
       "\n",
       "    .dataframe thead tr:last-of-type th {\n",
       "        text-align: right;\n",
       "    }\n",
       "</style>\n",
       "<table border=\"1\" class=\"dataframe\">\n",
       "  <thead>\n",
       "    <tr>\n",
       "      <th></th>\n",
       "      <th colspan=\"2\" halign=\"left\">healthy_metal</th>\n",
       "    </tr>\n",
       "    <tr>\n",
       "      <th></th>\n",
       "      <th>mean</th>\n",
       "      <th>std</th>\n",
       "    </tr>\n",
       "    <tr>\n",
       "      <th>id</th>\n",
       "      <th></th>\n",
       "      <th></th>\n",
       "    </tr>\n",
       "  </thead>\n",
       "  <tbody>\n",
       "    <tr>\n",
       "      <td>7a4e4a22</td>\n",
       "      <td>0.597232</td>\n",
       "      <td>0.339870</td>\n",
       "    </tr>\n",
       "    <tr>\n",
       "      <td>7a47123e</td>\n",
       "      <td>0.433977</td>\n",
       "      <td>0.338055</td>\n",
       "    </tr>\n",
       "    <tr>\n",
       "      <td>7a486b48</td>\n",
       "      <td>0.321523</td>\n",
       "      <td>0.326643</td>\n",
       "    </tr>\n",
       "    <tr>\n",
       "      <td>7a5156fe</td>\n",
       "      <td>0.416499</td>\n",
       "      <td>0.307607</td>\n",
       "    </tr>\n",
       "    <tr>\n",
       "      <td>7a50a524</td>\n",
       "      <td>0.498565</td>\n",
       "      <td>0.307309</td>\n",
       "    </tr>\n",
       "  </tbody>\n",
       "</table>\n",
       "</div>"
      ],
      "text/plain": [
       "         healthy_metal          \n",
       "                  mean       std\n",
       "id                              \n",
       "7a4e4a22      0.597232  0.339870\n",
       "7a47123e      0.433977  0.338055\n",
       "7a486b48      0.321523  0.326643\n",
       "7a5156fe      0.416499  0.307607\n",
       "7a50a524      0.498565  0.307309"
      ]
     },
     "execution_count": 32,
     "metadata": {},
     "output_type": "execute_result"
    }
   ],
   "source": [
    "result.sort_values(by=('healthy_metal','std'),ascending=False).head()"
   ]
  },
  {
   "cell_type": "markdown",
   "metadata": {},
   "source": [
    "Or drop header"
   ]
  },
  {
   "cell_type": "code",
   "execution_count": 33,
   "metadata": {},
   "outputs": [],
   "source": [
    "result.columns = result.columns.droplevel(0)"
   ]
  },
  {
   "cell_type": "code",
   "execution_count": 34,
   "metadata": {},
   "outputs": [
    {
     "data": {
      "text/html": [
       "<div>\n",
       "<style scoped>\n",
       "    .dataframe tbody tr th:only-of-type {\n",
       "        vertical-align: middle;\n",
       "    }\n",
       "\n",
       "    .dataframe tbody tr th {\n",
       "        vertical-align: top;\n",
       "    }\n",
       "\n",
       "    .dataframe thead th {\n",
       "        text-align: right;\n",
       "    }\n",
       "</style>\n",
       "<table border=\"1\" class=\"dataframe\">\n",
       "  <thead>\n",
       "    <tr style=\"text-align: right;\">\n",
       "      <th></th>\n",
       "      <th>mean</th>\n",
       "      <th>std</th>\n",
       "    </tr>\n",
       "    <tr>\n",
       "      <th>id</th>\n",
       "      <th></th>\n",
       "      <th></th>\n",
       "    </tr>\n",
       "  </thead>\n",
       "  <tbody>\n",
       "    <tr>\n",
       "      <td>7a44da50</td>\n",
       "      <td>0.993236</td>\n",
       "      <td>0.004211</td>\n",
       "    </tr>\n",
       "    <tr>\n",
       "      <td>7a44db72</td>\n",
       "      <td>0.980760</td>\n",
       "      <td>0.015458</td>\n",
       "    </tr>\n",
       "    <tr>\n",
       "      <td>7a44dc08</td>\n",
       "      <td>0.077523</td>\n",
       "      <td>0.043024</td>\n",
       "    </tr>\n",
       "    <tr>\n",
       "      <td>7a44dc80</td>\n",
       "      <td>0.349815</td>\n",
       "      <td>0.127981</td>\n",
       "    </tr>\n",
       "    <tr>\n",
       "      <td>7a44dcf8</td>\n",
       "      <td>0.612397</td>\n",
       "      <td>0.168109</td>\n",
       "    </tr>\n",
       "  </tbody>\n",
       "</table>\n",
       "</div>"
      ],
      "text/plain": [
       "              mean       std\n",
       "id                          \n",
       "7a44da50  0.993236  0.004211\n",
       "7a44db72  0.980760  0.015458\n",
       "7a44dc08  0.077523  0.043024\n",
       "7a44dc80  0.349815  0.127981\n",
       "7a44dcf8  0.612397  0.168109"
      ]
     },
     "execution_count": 34,
     "metadata": {},
     "output_type": "execute_result"
    }
   ],
   "source": [
    "result.head()"
   ]
  },
  {
   "cell_type": "code",
   "execution_count": 35,
   "metadata": {},
   "outputs": [],
   "source": [
    "result=result.sort_values(by=('std'),ascending=False).reset_index()"
   ]
  },
  {
   "cell_type": "code",
   "execution_count": 36,
   "metadata": {},
   "outputs": [
    {
     "data": {
      "text/html": [
       "<div>\n",
       "<style scoped>\n",
       "    .dataframe tbody tr th:only-of-type {\n",
       "        vertical-align: middle;\n",
       "    }\n",
       "\n",
       "    .dataframe tbody tr th {\n",
       "        vertical-align: top;\n",
       "    }\n",
       "\n",
       "    .dataframe thead th {\n",
       "        text-align: right;\n",
       "    }\n",
       "</style>\n",
       "<table border=\"1\" class=\"dataframe\">\n",
       "  <thead>\n",
       "    <tr style=\"text-align: right;\">\n",
       "      <th></th>\n",
       "      <th>id</th>\n",
       "      <th>mean</th>\n",
       "      <th>std</th>\n",
       "    </tr>\n",
       "  </thead>\n",
       "  <tbody>\n",
       "    <tr>\n",
       "      <td>0</td>\n",
       "      <td>7a4e4a22</td>\n",
       "      <td>0.597232</td>\n",
       "      <td>0.339870</td>\n",
       "    </tr>\n",
       "    <tr>\n",
       "      <td>1</td>\n",
       "      <td>7a47123e</td>\n",
       "      <td>0.433977</td>\n",
       "      <td>0.338055</td>\n",
       "    </tr>\n",
       "    <tr>\n",
       "      <td>2</td>\n",
       "      <td>7a486b48</td>\n",
       "      <td>0.321523</td>\n",
       "      <td>0.326643</td>\n",
       "    </tr>\n",
       "    <tr>\n",
       "      <td>3</td>\n",
       "      <td>7a5156fe</td>\n",
       "      <td>0.416499</td>\n",
       "      <td>0.307607</td>\n",
       "    </tr>\n",
       "    <tr>\n",
       "      <td>4</td>\n",
       "      <td>7a50a524</td>\n",
       "      <td>0.498565</td>\n",
       "      <td>0.307309</td>\n",
       "    </tr>\n",
       "  </tbody>\n",
       "</table>\n",
       "</div>"
      ],
      "text/plain": [
       "         id      mean       std\n",
       "0  7a4e4a22  0.597232  0.339870\n",
       "1  7a47123e  0.433977  0.338055\n",
       "2  7a486b48  0.321523  0.326643\n",
       "3  7a5156fe  0.416499  0.307607\n",
       "4  7a50a524  0.498565  0.307309"
      ]
     },
     "execution_count": 36,
     "metadata": {},
     "output_type": "execute_result"
    }
   ],
   "source": [
    "result.head()"
   ]
  },
  {
   "cell_type": "code",
   "execution_count": 37,
   "metadata": {},
   "outputs": [
    {
     "data": {
      "text/plain": [
       "<matplotlib.axes._subplots.AxesSubplot at 0x7f0884b87250>"
      ]
     },
     "execution_count": 37,
     "metadata": {},
     "output_type": "execute_result"
    },
    {
     "data": {
      "image/png": "[encoded data removed]",
      "text/plain": [
       "<Figure size 432x288 with 1 Axes>"
      ]
     },
     "metadata": {
      "needs_background": "light"
     },
     "output_type": "display_data"
    }
   ],
   "source": [
    "result.plot.hist(bins=100, alpha=0.3)"
   ]
  },
  {
   "cell_type": "markdown",
   "metadata": {},
   "source": [
    "Try as first pass using 0.8 mean as cutoff"
   ]
  },
  {
   "cell_type": "code",
   "execution_count": 38,
   "metadata": {},
   "outputs": [],
   "source": [
    "hm_10pct_stddev=result.loc[result['std'] <= 0.1]\n",
    "hm_20pct_stddev=result.loc[result['std'] <= 0.2]"
   ]
  },
  {
   "cell_type": "code",
   "execution_count": 39,
   "metadata": {},
   "outputs": [],
   "source": [
    "hm_80pct_plus=result.loc[result['mean'] >= 0.8]\n",
    "hm_70pct_plus=result.loc[result['mean'] >= 0.7]"
   ]
  },
  {
   "cell_type": "code",
   "execution_count": 40,
   "metadata": {},
   "outputs": [
    {
     "data": {
      "text/plain": [
       "0.3968600682593857"
      ]
     },
     "execution_count": 40,
     "metadata": {},
     "output_type": "execute_result"
    }
   ],
   "source": [
    "len(hm_80pct_plus)/len(result)"
   ]
  },
  {
   "cell_type": "markdown",
   "metadata": {},
   "source": [
    "#### Irregular metal"
   ]
  },
  {
   "cell_type": "code",
   "execution_count": 41,
   "metadata": {},
   "outputs": [],
   "source": [
    "df_im=df_sl_metal[['id','irregular_metal']]"
   ]
  },
  {
   "cell_type": "code",
   "execution_count": 42,
   "metadata": {},
   "outputs": [],
   "source": [
    "result_im = df_im.groupby(['id'], as_index=False).agg(\n",
    "                     ['mean', 'std'])"
   ]
  },
  {
   "cell_type": "code",
   "execution_count": 43,
   "metadata": {},
   "outputs": [],
   "source": [
    "result_im.columns = result_im.columns.droplevel(0)"
   ]
  },
  {
   "cell_type": "code",
   "execution_count": 44,
   "metadata": {},
   "outputs": [
    {
     "data": {
      "text/plain": [
       "<matplotlib.axes._subplots.AxesSubplot at 0x7f08842fea10>"
      ]
     },
     "execution_count": 44,
     "metadata": {},
     "output_type": "execute_result"
    },
    {
     "data": {
      "image/png": "[encoded data removed]",
      "text/plain": [
       "<Figure size 432x288 with 1 Axes>"
      ]
     },
     "metadata": {
      "needs_background": "light"
     },
     "output_type": "display_data"
    }
   ],
   "source": [
    "result_im.plot.hist(bins=100, alpha=0.3)"
   ]
  },
  {
   "cell_type": "code",
   "execution_count": 45,
   "metadata": {},
   "outputs": [],
   "source": [
    "im_10pct_stddev=result_im.loc[result_im['std'] <= 0.1]\n",
    "im_20pct_stddev=result_im.loc[result_im['std'] <= 0.2]"
   ]
  },
  {
   "cell_type": "code",
   "execution_count": 46,
   "metadata": {},
   "outputs": [],
   "source": [
    "im_80pct_plus=result_im.loc[result_im['mean'] >= 0.8]\n",
    "im_70pct_plus=result_im.loc[result_im['mean'] >= 0.7]"
   ]
  },
  {
   "cell_type": "code",
   "execution_count": 47,
   "metadata": {},
   "outputs": [
    {
     "data": {
      "text/plain": [
       "0.24313993174061432"
      ]
     },
     "execution_count": 47,
     "metadata": {},
     "output_type": "execute_result"
    }
   ],
   "source": [
    "len(im_80pct_plus)/len(result_im)"
   ]
  },
  {
   "cell_type": "markdown",
   "metadata": {},
   "source": [
    "#### Save these as 'silver' validated"
   ]
  },
  {
   "cell_type": "code",
   "execution_count": 48,
   "metadata": {},
   "outputs": [
    {
     "name": "stderr",
     "output_type": "stream",
     "text": [
      "/home/walle/miniconda3/envs/fastai-dev/lib/python3.7/site-packages/ipykernel_launcher.py:1: SettingWithCopyWarning: \n",
      "A value is trying to be set on a copy of a slice from a DataFrame.\n",
      "Try using .loc[row_indexer,col_indexer] = value instead\n",
      "\n",
      "See the caveats in the documentation: http://pandas.pydata.org/pandas-docs/stable/user_guide/indexing.html#returning-a-view-versus-a-copy\n",
      "  \"\"\"Entry point for launching an IPython kernel.\n",
      "/home/walle/miniconda3/envs/fastai-dev/lib/python3.7/site-packages/ipykernel_launcher.py:2: SettingWithCopyWarning: \n",
      "A value is trying to be set on a copy of a slice from a DataFrame.\n",
      "Try using .loc[row_indexer,col_indexer] = value instead\n",
      "\n",
      "See the caveats in the documentation: http://pandas.pydata.org/pandas-docs/stable/user_guide/indexing.html#returning-a-view-versus-a-copy\n",
      "  \n",
      "/home/walle/miniconda3/envs/fastai-dev/lib/python3.7/site-packages/ipykernel_launcher.py:4: SettingWithCopyWarning: \n",
      "A value is trying to be set on a copy of a slice from a DataFrame.\n",
      "Try using .loc[row_indexer,col_indexer] = value instead\n",
      "\n",
      "See the caveats in the documentation: http://pandas.pydata.org/pandas-docs/stable/user_guide/indexing.html#returning-a-view-versus-a-copy\n",
      "  after removing the cwd from sys.path.\n",
      "/home/walle/miniconda3/envs/fastai-dev/lib/python3.7/site-packages/ipykernel_launcher.py:5: SettingWithCopyWarning: \n",
      "A value is trying to be set on a copy of a slice from a DataFrame.\n",
      "Try using .loc[row_indexer,col_indexer] = value instead\n",
      "\n",
      "See the caveats in the documentation: http://pandas.pydata.org/pandas-docs/stable/user_guide/indexing.html#returning-a-view-versus-a-copy\n",
      "  \"\"\"\n"
     ]
    }
   ],
   "source": [
    "im_10pct_stddev['roof_type']= 'irregular_metal'\n",
    "im_20pct_stddev['roof_type']= 'irregular_metal'\n",
    "\n",
    "hm_10pct_stddev['roof_type']= 'healthy_metal'\n",
    "hm_20pct_stddev['roof_type']= 'healthy_metal'"
   ]
  },
  {
   "cell_type": "code",
   "execution_count": 49,
   "metadata": {},
   "outputs": [
    {
     "name": "stderr",
     "output_type": "stream",
     "text": [
      "/home/walle/miniconda3/envs/fastai-dev/lib/python3.7/site-packages/ipykernel_launcher.py:1: SettingWithCopyWarning: \n",
      "A value is trying to be set on a copy of a slice from a DataFrame.\n",
      "Try using .loc[row_indexer,col_indexer] = value instead\n",
      "\n",
      "See the caveats in the documentation: http://pandas.pydata.org/pandas-docs/stable/user_guide/indexing.html#returning-a-view-versus-a-copy\n",
      "  \"\"\"Entry point for launching an IPython kernel.\n",
      "/home/walle/miniconda3/envs/fastai-dev/lib/python3.7/site-packages/ipykernel_launcher.py:2: SettingWithCopyWarning: \n",
      "A value is trying to be set on a copy of a slice from a DataFrame.\n",
      "Try using .loc[row_indexer,col_indexer] = value instead\n",
      "\n",
      "See the caveats in the documentation: http://pandas.pydata.org/pandas-docs/stable/user_guide/indexing.html#returning-a-view-versus-a-copy\n",
      "  \n"
     ]
    }
   ],
   "source": [
    "im_80pct_plus['roof_type']= 'irregular_metal'\n",
    "hm_80pct_plus['roof_type']= 'healthy_metal'"
   ]
  },
  {
   "cell_type": "code",
   "execution_count": 50,
   "metadata": {},
   "outputs": [
    {
     "name": "stderr",
     "output_type": "stream",
     "text": [
      "/home/walle/miniconda3/envs/fastai-dev/lib/python3.7/site-packages/ipykernel_launcher.py:1: SettingWithCopyWarning: \n",
      "A value is trying to be set on a copy of a slice from a DataFrame.\n",
      "Try using .loc[row_indexer,col_indexer] = value instead\n",
      "\n",
      "See the caveats in the documentation: http://pandas.pydata.org/pandas-docs/stable/user_guide/indexing.html#returning-a-view-versus-a-copy\n",
      "  \"\"\"Entry point for launching an IPython kernel.\n",
      "/home/walle/miniconda3/envs/fastai-dev/lib/python3.7/site-packages/ipykernel_launcher.py:2: SettingWithCopyWarning: \n",
      "A value is trying to be set on a copy of a slice from a DataFrame.\n",
      "Try using .loc[row_indexer,col_indexer] = value instead\n",
      "\n",
      "See the caveats in the documentation: http://pandas.pydata.org/pandas-docs/stable/user_guide/indexing.html#returning-a-view-versus-a-copy\n",
      "  \n"
     ]
    }
   ],
   "source": [
    "im_70pct_plus['roof_type']= 'irregular_metal'\n",
    "hm_70pct_plus['roof_type']= 'healthy_metal'"
   ]
  },
  {
   "cell_type": "code",
   "execution_count": 51,
   "metadata": {},
   "outputs": [
    {
     "data": {
      "text/html": [
       "<div>\n",
       "<style scoped>\n",
       "    .dataframe tbody tr th:only-of-type {\n",
       "        vertical-align: middle;\n",
       "    }\n",
       "\n",
       "    .dataframe tbody tr th {\n",
       "        vertical-align: top;\n",
       "    }\n",
       "\n",
       "    .dataframe thead th {\n",
       "        text-align: right;\n",
       "    }\n",
       "</style>\n",
       "<table border=\"1\" class=\"dataframe\">\n",
       "  <thead>\n",
       "    <tr style=\"text-align: right;\">\n",
       "      <th></th>\n",
       "      <th>mean</th>\n",
       "      <th>std</th>\n",
       "      <th>roof_type</th>\n",
       "    </tr>\n",
       "    <tr>\n",
       "      <th>id</th>\n",
       "      <th></th>\n",
       "      <th></th>\n",
       "      <th></th>\n",
       "    </tr>\n",
       "  </thead>\n",
       "  <tbody>\n",
       "    <tr>\n",
       "      <td>7a44dc08</td>\n",
       "      <td>0.917674</td>\n",
       "      <td>0.043019</td>\n",
       "      <td>irregular_metal</td>\n",
       "    </tr>\n",
       "    <tr>\n",
       "      <td>7a44dd66</td>\n",
       "      <td>0.979412</td>\n",
       "      <td>0.009549</td>\n",
       "      <td>irregular_metal</td>\n",
       "    </tr>\n",
       "    <tr>\n",
       "      <td>7a44ddde</td>\n",
       "      <td>0.931887</td>\n",
       "      <td>0.041816</td>\n",
       "      <td>irregular_metal</td>\n",
       "    </tr>\n",
       "    <tr>\n",
       "      <td>7a44de60</td>\n",
       "      <td>0.920796</td>\n",
       "      <td>0.031312</td>\n",
       "      <td>irregular_metal</td>\n",
       "    </tr>\n",
       "    <tr>\n",
       "      <td>7a44dece</td>\n",
       "      <td>0.886574</td>\n",
       "      <td>0.113696</td>\n",
       "      <td>irregular_metal</td>\n",
       "    </tr>\n",
       "  </tbody>\n",
       "</table>\n",
       "</div>"
      ],
      "text/plain": [
       "              mean       std        roof_type\n",
       "id                                           \n",
       "7a44dc08  0.917674  0.043019  irregular_metal\n",
       "7a44dd66  0.979412  0.009549  irregular_metal\n",
       "7a44ddde  0.931887  0.041816  irregular_metal\n",
       "7a44de60  0.920796  0.031312  irregular_metal\n",
       "7a44dece  0.886574  0.113696  irregular_metal"
      ]
     },
     "execution_count": 51,
     "metadata": {},
     "output_type": "execute_result"
    }
   ],
   "source": [
    "im_80pct_plus.head()"
   ]
  },
  {
   "cell_type": "code",
   "execution_count": 52,
   "metadata": {},
   "outputs": [
    {
     "name": "stderr",
     "output_type": "stream",
     "text": [
      "/home/walle/miniconda3/envs/fastai-dev/lib/python3.7/site-packages/pandas/core/frame.py:4102: SettingWithCopyWarning: \n",
      "A value is trying to be set on a copy of a slice from a DataFrame\n",
      "\n",
      "See the caveats in the documentation: http://pandas.pydata.org/pandas-docs/stable/user_guide/indexing.html#returning-a-view-versus-a-copy\n",
      "  errors=errors,\n"
     ]
    }
   ],
   "source": [
    "im_80pct_plus.drop(columns=['mean','std'],inplace=True)\n",
    "hm_80pct_plus.drop(columns=['mean','std'],inplace=True)\n",
    "im_70pct_plus.drop(columns=['mean','std'],inplace=True)\n",
    "hm_70pct_plus.drop(columns=['mean','std'],inplace=True)\n",
    "\n",
    "im_10pct_stddev.drop(columns=['mean','std'],inplace=True)\n",
    "im_20pct_stddev.drop(columns=['mean','std'],inplace=True)\n",
    "hm_10pct_stddev.drop(columns=['mean','std'],inplace=True)\n",
    "hm_20pct_stddev.drop(columns=['mean','std'],inplace=True)"
   ]
  },
  {
   "cell_type": "code",
   "execution_count": 53,
   "metadata": {},
   "outputs": [
    {
     "name": "stderr",
     "output_type": "stream",
     "text": [
      "/home/walle/miniconda3/envs/fastai-dev/lib/python3.7/site-packages/pandas/core/frame.py:7123: FutureWarning: Sorting because non-concatenation axis is not aligned. A future version\n",
      "of pandas will change to not sort by default.\n",
      "\n",
      "To accept the future behavior, pass 'sort=False'.\n",
      "\n",
      "To retain the current behavior and silence the warning, pass 'sort=True'.\n",
      "\n",
      "  sort=sort,\n"
     ]
    }
   ],
   "source": [
    "silver_val_80pct_rooftypes=im_80pct_plus.append(hm_80pct_plus).reset_index()\n",
    "silver_val_70pct_rooftypes=im_70pct_plus.append(hm_70pct_plus).reset_index()\n",
    "\n",
    "silver_val_10pct_std_rooftypes=im_10pct_stddev.append(hm_10pct_stddev).reset_index()\n",
    "silver_val_20pct_std_rooftypes=im_20pct_stddev.append(hm_20pct_stddev).reset_index()"
   ]
  },
  {
   "cell_type": "code",
   "execution_count": 54,
   "metadata": {},
   "outputs": [],
   "source": [
    "silver_val_80pct_rooftypes = silver_val_80pct_rooftypes.rename(columns={'index': 'id', 'id': 'drop'})\n",
    "silver_val_70pct_rooftypes = silver_val_70pct_rooftypes.rename(columns={'index': 'id', 'id': 'drop'})\n",
    "\n",
    "silver_val_10pct_std_rooftypes=silver_val_10pct_std_rooftypes.rename(columns={'index': 'id', 'id': 'drop'})\n",
    "silver_val_20pct_std_rooftypes=silver_val_20pct_std_rooftypes.rename(columns={'index': 'id', 'id': 'drop'})"
   ]
  },
  {
   "cell_type": "code",
   "execution_count": 55,
   "metadata": {},
   "outputs": [],
   "source": [
    "silver_val_80pct_rooftypes.drop(columns=['drop'],inplace=True)\n",
    "silver_val_70pct_rooftypes.drop(columns=['drop'],inplace=True)\n",
    "\n",
    "silver_val_10pct_std_rooftypes.drop(columns=['drop'],inplace=True)\n",
    "silver_val_20pct_std_rooftypes.drop(columns=['drop'],inplace=True)"
   ]
  },
  {
   "cell_type": "code",
   "execution_count": 56,
   "metadata": {},
   "outputs": [
    {
     "data": {
      "text/plain": [
       "4688"
      ]
     },
     "execution_count": 56,
     "metadata": {},
     "output_type": "execute_result"
    }
   ],
   "source": [
    "len(silver_val_80pct_rooftypes)"
   ]
  },
  {
   "cell_type": "code",
   "execution_count": 57,
   "metadata": {},
   "outputs": [
    {
     "data": {
      "text/plain": [
       "5678"
      ]
     },
     "execution_count": 57,
     "metadata": {},
     "output_type": "execute_result"
    }
   ],
   "source": [
    "len(silver_val_70pct_rooftypes)"
   ]
  },
  {
   "cell_type": "markdown",
   "metadata": {},
   "source": [
    "these should not be > dataset length, dont use for now"
   ]
  },
  {
   "cell_type": "code",
   "execution_count": 58,
   "metadata": {},
   "outputs": [
    {
     "data": {
      "text/plain": [
       "9070"
      ]
     },
     "execution_count": 58,
     "metadata": {},
     "output_type": "execute_result"
    }
   ],
   "source": [
    "len(silver_val_10pct_std_rooftypes)"
   ]
  },
  {
   "cell_type": "code",
   "execution_count": 59,
   "metadata": {},
   "outputs": [
    {
     "data": {
      "text/plain": [
       "14274"
      ]
     },
     "execution_count": 59,
     "metadata": {},
     "output_type": "execute_result"
    }
   ],
   "source": [
    "len(silver_val_20pct_std_rooftypes)"
   ]
  },
  {
   "cell_type": "code",
   "execution_count": 60,
   "metadata": {},
   "outputs": [
    {
     "data": {
      "text/plain": [
       "373575"
      ]
     },
     "execution_count": 60,
     "metadata": {},
     "output_type": "execute_result"
    }
   ],
   "source": [
    "len(df_sl_metal)"
   ]
  },
  {
   "cell_type": "code",
   "execution_count": 61,
   "metadata": {},
   "outputs": [],
   "source": [
    "silver_val_80pct_rooftypes.to_csv(data_dir/'st_lucia_test_80pct_silver_healthy_irregular_metal.csv', index=False)\n",
    "silver_val_70pct_rooftypes.to_csv(data_dir/'st_lucia_test_70pct_silver_healthy_irregular_metal.csv', index=False)\n",
    "\n",
    "#silver_val_10pct_std_rooftypes.to_csv(data_dir/'st_lucia_silver_10pct_std_dev_healthy_irregular_metal.csv', index=False)\n",
    "#silver_val_20pct_std_rooftypes.to_csv(data_dir/'st_lucia_silver_20pct_std_dev_healthy_irregular_metal.csv', index=False)"
   ]
  }
 ],
 "metadata": {
  "kernelspec": {
   "display_name": "Python 3",
   "language": "python",
   "name": "python3"
  },
  "language_info": {
   "codemirror_mode": {
    "name": "ipython",
    "version": 3
   },
   "file_extension": ".py",
   "mimetype": "text/x-python",
   "name": "python",
   "nbconvert_exporter": "python",
   "pygments_lexer": "ipython3",
   "version": "3.7.4"
  }
 },
 "nbformat": 4,
 "nbformat_minor": 2
}
