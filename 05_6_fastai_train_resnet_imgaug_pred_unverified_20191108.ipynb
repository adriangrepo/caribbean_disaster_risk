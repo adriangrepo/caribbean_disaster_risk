{
 "cells": [
  {
   "cell_type": "markdown",
   "metadata": {},
   "source": [
    "## \n",
    "\n",
    "Using rotated to hz + OpenCv border\n",
    "\n",
    "Basic default transforms\n",
    "\n",
    "Using data with wrap instead of border_reflect_101 and imgaug to add classes\n",
    "\n",
    "Note we dont use aug on irregular metal\n",
    "\n",
    "valid + predicted unverified"
   ]
  },
  {
   "cell_type": "code",
   "execution_count": 1,
   "metadata": {},
   "outputs": [],
   "source": [
    "%reload_ext autoreload\n",
    "%autoreload 2\n",
    "%matplotlib inline"
   ]
  },
  {
   "cell_type": "code",
   "execution_count": 2,
   "metadata": {},
   "outputs": [],
   "source": [
    "from fastai.vision import *\n",
    "import geopandas as gpd\n",
    "from resizeimage import resizeimage\n",
    "import datetime\n",
    "import uuid\n",
    "from os import listdir\n",
    "from os.path import isfile, join"
   ]
  },
  {
   "cell_type": "code",
   "execution_count": 3,
   "metadata": {},
   "outputs": [
    {
     "data": {
      "text/plain": [
       "0"
      ]
     },
     "execution_count": 3,
     "metadata": {},
     "output_type": "execute_result"
    }
   ],
   "source": [
    "torch.cuda.set_device(0)\n",
    "torch.cuda.current_device()"
   ]
  },
  {
   "cell_type": "code",
   "execution_count": 4,
   "metadata": {},
   "outputs": [],
   "source": [
    "data_dir = Path('data')"
   ]
  },
  {
   "cell_type": "code",
   "execution_count": 5,
   "metadata": {},
   "outputs": [],
   "source": [
    "RETRAIN = True\n",
    "RESIZE_IMAGES = True"
   ]
  },
  {
   "cell_type": "code",
   "execution_count": 6,
   "metadata": {},
   "outputs": [],
   "source": [
    "MODEL_NAME='cv_reflect_imgaug'"
   ]
  },
  {
   "cell_type": "code",
   "execution_count": 7,
   "metadata": {},
   "outputs": [],
   "source": [
    "NB_NUM='05_6'"
   ]
  },
  {
   "cell_type": "code",
   "execution_count": 8,
   "metadata": {},
   "outputs": [
    {
     "name": "stdout",
     "output_type": "stream",
     "text": [
      "UID: dbaf2851, DATE: 20191110\n"
     ]
    }
   ],
   "source": [
    "DATE = datetime.datetime.today().strftime('%Y%m%d')\n",
    "UID=str(uuid.uuid4())[:8]\n",
    "print(f'UID: {UID}, DATE: {DATE}')                                                 "
   ]
  },
  {
   "cell_type": "code",
   "execution_count": 9,
   "metadata": {},
   "outputs": [],
   "source": [
    "#DATE ='20191028'\n",
    "#UID='77dc216d'"
   ]
  },
  {
   "cell_type": "code",
   "execution_count": 10,
   "metadata": {},
   "outputs": [],
   "source": [
    "SUB_NUM='17'"
   ]
  },
  {
   "cell_type": "code",
   "execution_count": 11,
   "metadata": {},
   "outputs": [],
   "source": [
    "img_size=256"
   ]
  },
  {
   "cell_type": "code",
   "execution_count": 12,
   "metadata": {},
   "outputs": [],
   "source": [
    "train_images=data_dir/f'train/rotated/clipped/reflect/{img_size}'\n",
    "test_images=data_dir/f'test/rotated/clipped/reflect/{img_size}'"
   ]
  },
  {
   "cell_type": "code",
   "execution_count": 13,
   "metadata": {},
   "outputs": [],
   "source": [
    "test_names = get_image_files(test_images)"
   ]
  },
  {
   "cell_type": "code",
   "execution_count": 14,
   "metadata": {},
   "outputs": [],
   "source": [
    "assert len(test_names)==7325"
   ]
  },
  {
   "cell_type": "code",
   "execution_count": 15,
   "metadata": {},
   "outputs": [],
   "source": [
    "df_all=pd.read_csv(data_dir/'df_train_all.csv')"
   ]
  },
  {
   "cell_type": "code",
   "execution_count": 16,
   "metadata": {},
   "outputs": [
    {
     "data": {
      "text/plain": [
       "<matplotlib.axes._subplots.AxesSubplot at 0x7ff5fa891250>"
      ]
     },
     "execution_count": 16,
     "metadata": {},
     "output_type": "execute_result"
    },
    {
     "data": {
      "image/png": "[encoded data removed]",
      "text/plain": [
       "<Figure size 432x288 with 1 Axes>"
      ]
     },
     "metadata": {
      "needs_background": "light"
     },
     "output_type": "display_data"
    }
   ],
   "source": [
    "df_all['roof_material'].value_counts().plot(kind='bar')"
   ]
  },
  {
   "cell_type": "code",
   "execution_count": 17,
   "metadata": {},
   "outputs": [],
   "source": [
    "df_v=df_all.loc[df_all['verified'] == True]"
   ]
  },
  {
   "cell_type": "code",
   "execution_count": 18,
   "metadata": {},
   "outputs": [],
   "source": [
    "df_npu=pd.read_csv(data_dir/'non_predicted_unverfied.csv')"
   ]
  },
  {
   "cell_type": "code",
   "execution_count": 19,
   "metadata": {},
   "outputs": [
    {
     "data": {
      "text/plain": [
       "<matplotlib.axes._subplots.AxesSubplot at 0x7ff584af6c90>"
      ]
     },
     "execution_count": 19,
     "metadata": {},
     "output_type": "execute_result"
    },
    {
     "data": {
      "image/png": "[encoded data removed]",
      "text/plain": [
       "<Figure size 432x288 with 1 Axes>"
      ]
     },
     "metadata": {
      "needs_background": "light"
     },
     "output_type": "display_data"
    }
   ],
   "source": [
    "df_npu['roof_material'].value_counts().plot(kind='bar', color='red')"
   ]
  },
  {
   "cell_type": "code",
   "execution_count": 20,
   "metadata": {},
   "outputs": [],
   "source": [
    "bad_ids=df_npu.id.values.tolist()"
   ]
  },
  {
   "cell_type": "code",
   "execution_count": 21,
   "metadata": {},
   "outputs": [],
   "source": [
    "df_uv=df_all.loc[df_all['verified'] == False]"
   ]
  },
  {
   "cell_type": "code",
   "execution_count": 22,
   "metadata": {},
   "outputs": [],
   "source": [
    "df_pred_v=df_uv.loc[~df_uv['id'].isin(bad_ids)]"
   ]
  },
  {
   "cell_type": "code",
   "execution_count": 23,
   "metadata": {},
   "outputs": [
    {
     "data": {
      "text/plain": [
       "<matplotlib.axes._subplots.AxesSubplot at 0x7ff5842edb90>"
      ]
     },
     "execution_count": 23,
     "metadata": {},
     "output_type": "execute_result"
    },
    {
     "data": {
      "image/png": "[encoded data removed]",
      "text/plain": [
       "<Figure size 432x288 with 1 Axes>"
      ]
     },
     "metadata": {
      "needs_background": "light"
     },
     "output_type": "display_data"
    }
   ],
   "source": [
    "df_pred_v['roof_material'].value_counts().plot(kind='bar', color='green')"
   ]
  },
  {
   "cell_type": "code",
   "execution_count": 24,
   "metadata": {},
   "outputs": [
    {
     "data": {
      "text/plain": [
       "<matplotlib.axes._subplots.AxesSubplot at 0x7ff584281a50>"
      ]
     },
     "execution_count": 24,
     "metadata": {},
     "output_type": "execute_result"
    },
    {
     "data": {
      "image/png": "[encoded data removed]",
      "text/plain": [
       "<Figure size 432x288 with 1 Axes>"
      ]
     },
     "metadata": {
      "needs_background": "light"
     },
     "output_type": "display_data"
    }
   ],
   "source": [
    "df_v['roof_material'].value_counts().plot(kind='bar')"
   ]
  },
  {
   "cell_type": "code",
   "execution_count": 25,
   "metadata": {},
   "outputs": [
    {
     "data": {
      "text/plain": [
       "<matplotlib.axes._subplots.AxesSubplot at 0x7ff5841f2610>"
      ]
     },
     "execution_count": 25,
     "metadata": {},
     "output_type": "execute_result"
    },
    {
     "data": {
      "image/png": "[encoded data removed]",
      "text/plain": [
       "<Figure size 432x288 with 1 Axes>"
      ]
     },
     "metadata": {
      "needs_background": "light"
     },
     "output_type": "display_data"
    }
   ],
   "source": [
    "df_all['roof_material'].value_counts().plot(kind='bar')"
   ]
  },
  {
   "cell_type": "code",
   "execution_count": 26,
   "metadata": {},
   "outputs": [],
   "source": [
    "df_aug=pd.read_csv(data_dir/'df_aug_reflect.csv')"
   ]
  },
  {
   "cell_type": "code",
   "execution_count": 27,
   "metadata": {},
   "outputs": [
    {
     "data": {
      "text/plain": [
       "171253"
      ]
     },
     "execution_count": 27,
     "metadata": {},
     "output_type": "execute_result"
    }
   ],
   "source": [
    "len(df_aug)"
   ]
  },
  {
   "cell_type": "code",
   "execution_count": 28,
   "metadata": {},
   "outputs": [
    {
     "data": {
      "text/html": [
       "<div>\n",
       "<style scoped>\n",
       "    .dataframe tbody tr th:only-of-type {\n",
       "        vertical-align: middle;\n",
       "    }\n",
       "\n",
       "    .dataframe tbody tr th {\n",
       "        vertical-align: top;\n",
       "    }\n",
       "\n",
       "    .dataframe thead th {\n",
       "        text-align: right;\n",
       "    }\n",
       "</style>\n",
       "<table border=\"1\" class=\"dataframe\">\n",
       "  <thead>\n",
       "    <tr style=\"text-align: right;\">\n",
       "      <th></th>\n",
       "      <th>id</th>\n",
       "      <th>roof_material</th>\n",
       "      <th>verified</th>\n",
       "      <th>country</th>\n",
       "      <th>region</th>\n",
       "    </tr>\n",
       "  </thead>\n",
       "  <tbody>\n",
       "    <tr>\n",
       "      <td>171248</td>\n",
       "      <td>7a214bda_imgaug_9_1005</td>\n",
       "      <td>concrete_cement</td>\n",
       "      <td>True</td>\n",
       "      <td>colombia</td>\n",
       "      <td>borde_rural</td>\n",
       "    </tr>\n",
       "    <tr>\n",
       "      <td>171249</td>\n",
       "      <td>7a2bfa30_imgaug_7_5683</td>\n",
       "      <td>healthy_metal</td>\n",
       "      <td>True</td>\n",
       "      <td>colombia</td>\n",
       "      <td>borde_soacha</td>\n",
       "    </tr>\n",
       "    <tr>\n",
       "      <td>171250</td>\n",
       "      <td>7a3dc152_imgaug_3_1483</td>\n",
       "      <td>healthy_metal</td>\n",
       "      <td>True</td>\n",
       "      <td>colombia</td>\n",
       "      <td>borde_rural</td>\n",
       "    </tr>\n",
       "    <tr>\n",
       "      <td>171251</td>\n",
       "      <td>7a3c9b10_imgaug_4_5386</td>\n",
       "      <td>healthy_metal</td>\n",
       "      <td>True</td>\n",
       "      <td>colombia</td>\n",
       "      <td>borde_soacha</td>\n",
       "    </tr>\n",
       "    <tr>\n",
       "      <td>171252</td>\n",
       "      <td>7a20854c_imgaug_7_14480</td>\n",
       "      <td>healthy_metal</td>\n",
       "      <td>True</td>\n",
       "      <td>st_lucia</td>\n",
       "      <td>dennery</td>\n",
       "    </tr>\n",
       "  </tbody>\n",
       "</table>\n",
       "</div>"
      ],
      "text/plain": [
       "                             id    roof_material  verified   country  \\\n",
       "171248   7a214bda_imgaug_9_1005  concrete_cement      True  colombia   \n",
       "171249   7a2bfa30_imgaug_7_5683    healthy_metal      True  colombia   \n",
       "171250   7a3dc152_imgaug_3_1483    healthy_metal      True  colombia   \n",
       "171251   7a3c9b10_imgaug_4_5386    healthy_metal      True  colombia   \n",
       "171252  7a20854c_imgaug_7_14480    healthy_metal      True  st_lucia   \n",
       "\n",
       "              region  \n",
       "171248   borde_rural  \n",
       "171249  borde_soacha  \n",
       "171250   borde_rural  \n",
       "171251  borde_soacha  \n",
       "171252       dennery  "
      ]
     },
     "execution_count": 28,
     "metadata": {},
     "output_type": "execute_result"
    }
   ],
   "source": [
    "df_aug.tail()"
   ]
  },
  {
   "cell_type": "code",
   "execution_count": 29,
   "metadata": {},
   "outputs": [
    {
     "data": {
      "text/plain": [
       "<matplotlib.axes._subplots.AxesSubplot at 0x7ff58415f090>"
      ]
     },
     "execution_count": 29,
     "metadata": {},
     "output_type": "execute_result"
    },
    {
     "data": {
      "image/png": "[encoded data removed]",
      "text/plain": [
       "<Figure size 432x288 with 1 Axes>"
      ]
     },
     "metadata": {
      "needs_background": "light"
     },
     "output_type": "display_data"
    }
   ],
   "source": [
    "df_aug['roof_material'].value_counts().plot(kind='bar')"
   ]
  },
  {
   "cell_type": "code",
   "execution_count": 30,
   "metadata": {},
   "outputs": [
    {
     "data": {
      "text/plain": [
       "<matplotlib.axes._subplots.AxesSubplot at 0x7ff583af9990>"
      ]
     },
     "execution_count": 30,
     "metadata": {},
     "output_type": "execute_result"
    },
    {
     "data": {
      "image/png": "[encoded data removed]",
      "text/plain": [
       "<Figure size 432x288 with 1 Axes>"
      ]
     },
     "metadata": {
      "needs_background": "light"
     },
     "output_type": "display_data"
    }
   ],
   "source": [
    "df_v['roof_material'].value_counts().plot(kind='bar', color='green')"
   ]
  },
  {
   "cell_type": "code",
   "execution_count": 31,
   "metadata": {},
   "outputs": [],
   "source": [
    "df_img=df_aug[df_aug.id.str.contains('imgaug')]"
   ]
  },
  {
   "cell_type": "code",
   "execution_count": 32,
   "metadata": {},
   "outputs": [
    {
     "data": {
      "text/plain": [
       "148700"
      ]
     },
     "execution_count": 32,
     "metadata": {},
     "output_type": "execute_result"
    }
   ],
   "source": [
    "len(df_img)"
   ]
  },
  {
   "cell_type": "code",
   "execution_count": 33,
   "metadata": {},
   "outputs": [],
   "source": [
    "df_irreg_aug=df_img.loc[df_img['roof_material'] == 'irregular_metal']"
   ]
  },
  {
   "cell_type": "code",
   "execution_count": 34,
   "metadata": {},
   "outputs": [],
   "source": [
    "df_healthy_aug=df_img.loc[df_img['roof_material'] == 'healthy_metal']"
   ]
  },
  {
   "cell_type": "code",
   "execution_count": 35,
   "metadata": {},
   "outputs": [],
   "source": [
    "df_concrete_aug=df_img.loc[df_img['roof_material'] == 'concrete_cement']"
   ]
  },
  {
   "cell_type": "code",
   "execution_count": 36,
   "metadata": {},
   "outputs": [],
   "source": [
    "df_incomplete_aug=df_img.loc[df_img['roof_material'] == 'incomplete']"
   ]
  },
  {
   "cell_type": "code",
   "execution_count": 37,
   "metadata": {},
   "outputs": [],
   "source": [
    "df_other_aug=df_img.loc[df_img['roof_material'] == 'other']"
   ]
  },
  {
   "cell_type": "code",
   "execution_count": 38,
   "metadata": {},
   "outputs": [
    {
     "data": {
      "text/plain": [
       "52410"
      ]
     },
     "execution_count": 38,
     "metadata": {},
     "output_type": "execute_result"
    }
   ],
   "source": [
    "len(df_irreg_aug)"
   ]
  },
  {
   "cell_type": "code",
   "execution_count": 39,
   "metadata": {},
   "outputs": [
    {
     "data": {
      "text/plain": [
       "73810"
      ]
     },
     "execution_count": 39,
     "metadata": {},
     "output_type": "execute_result"
    }
   ],
   "source": [
    "len(df_healthy_aug)"
   ]
  },
  {
   "cell_type": "code",
   "execution_count": 40,
   "metadata": {},
   "outputs": [
    {
     "data": {
      "text/plain": [
       "13870"
      ]
     },
     "execution_count": 40,
     "metadata": {},
     "output_type": "execute_result"
    }
   ],
   "source": [
    "len(df_concrete_aug)"
   ]
  },
  {
   "cell_type": "code",
   "execution_count": 41,
   "metadata": {},
   "outputs": [
    {
     "data": {
      "text/plain": [
       "6680"
      ]
     },
     "execution_count": 41,
     "metadata": {},
     "output_type": "execute_result"
    }
   ],
   "source": [
    "len(df_incomplete_aug)"
   ]
  },
  {
   "cell_type": "code",
   "execution_count": 42,
   "metadata": {},
   "outputs": [
    {
     "data": {
      "text/plain": [
       "1930"
      ]
     },
     "execution_count": 42,
     "metadata": {},
     "output_type": "execute_result"
    }
   ],
   "source": [
    "len(df_other_aug)"
   ]
  },
  {
   "cell_type": "code",
   "execution_count": 43,
   "metadata": {},
   "outputs": [],
   "source": [
    "### append a fixed number eg 1000 images to each class"
   ]
  },
  {
   "cell_type": "code",
   "execution_count": 44,
   "metadata": {},
   "outputs": [
    {
     "data": {
      "text/html": [
       "<div>\n",
       "<style scoped>\n",
       "    .dataframe tbody tr th:only-of-type {\n",
       "        vertical-align: middle;\n",
       "    }\n",
       "\n",
       "    .dataframe tbody tr th {\n",
       "        vertical-align: top;\n",
       "    }\n",
       "\n",
       "    .dataframe thead th {\n",
       "        text-align: right;\n",
       "    }\n",
       "</style>\n",
       "<table border=\"1\" class=\"dataframe\">\n",
       "  <thead>\n",
       "    <tr style=\"text-align: right;\">\n",
       "      <th></th>\n",
       "      <th>id</th>\n",
       "      <th>roof_material</th>\n",
       "      <th>verified</th>\n",
       "      <th>country</th>\n",
       "      <th>region</th>\n",
       "    </tr>\n",
       "  </thead>\n",
       "  <tbody>\n",
       "    <tr>\n",
       "      <td>46700</td>\n",
       "      <td>7a221880_imgaug_8_13991</td>\n",
       "      <td>irregular_metal</td>\n",
       "      <td>True</td>\n",
       "      <td>st_lucia</td>\n",
       "      <td>dennery</td>\n",
       "    </tr>\n",
       "    <tr>\n",
       "      <td>90499</td>\n",
       "      <td>7a2c4bde_imgaug_0_12917</td>\n",
       "      <td>irregular_metal</td>\n",
       "      <td>True</td>\n",
       "      <td>guatemala</td>\n",
       "      <td>mixco_1_and_ebenezer</td>\n",
       "    </tr>\n",
       "    <tr>\n",
       "      <td>152940</td>\n",
       "      <td>7a2a37e0_imgaug_4_6723</td>\n",
       "      <td>irregular_metal</td>\n",
       "      <td>True</td>\n",
       "      <td>colombia</td>\n",
       "      <td>borde_soacha</td>\n",
       "    </tr>\n",
       "    <tr>\n",
       "      <td>164205</td>\n",
       "      <td>7a35b35e_imgaug_1_11115</td>\n",
       "      <td>irregular_metal</td>\n",
       "      <td>True</td>\n",
       "      <td>guatemala</td>\n",
       "      <td>mixco_1_and_ebenezer</td>\n",
       "    </tr>\n",
       "    <tr>\n",
       "      <td>109816</td>\n",
       "      <td>7a35ffa8_imgaug_8_11066</td>\n",
       "      <td>irregular_metal</td>\n",
       "      <td>True</td>\n",
       "      <td>guatemala</td>\n",
       "      <td>mixco_1_and_ebenezer</td>\n",
       "    </tr>\n",
       "  </tbody>\n",
       "</table>\n",
       "</div>"
      ],
      "text/plain": [
       "                             id    roof_material  verified    country  \\\n",
       "46700   7a221880_imgaug_8_13991  irregular_metal      True   st_lucia   \n",
       "90499   7a2c4bde_imgaug_0_12917  irregular_metal      True  guatemala   \n",
       "152940   7a2a37e0_imgaug_4_6723  irregular_metal      True   colombia   \n",
       "164205  7a35b35e_imgaug_1_11115  irregular_metal      True  guatemala   \n",
       "109816  7a35ffa8_imgaug_8_11066  irregular_metal      True  guatemala   \n",
       "\n",
       "                      region  \n",
       "46700                dennery  \n",
       "90499   mixco_1_and_ebenezer  \n",
       "152940          borde_soacha  \n",
       "164205  mixco_1_and_ebenezer  \n",
       "109816  mixco_1_and_ebenezer  "
      ]
     },
     "execution_count": 44,
     "metadata": {},
     "output_type": "execute_result"
    }
   ],
   "source": [
    "df_irreg_aug = df_irreg_aug.sample(n=1000)\n",
    "assert len(df_irreg_aug)==1000\n",
    "df_irreg_aug.head()"
   ]
  },
  {
   "cell_type": "code",
   "execution_count": 45,
   "metadata": {},
   "outputs": [
    {
     "data": {
      "text/html": [
       "<div>\n",
       "<style scoped>\n",
       "    .dataframe tbody tr th:only-of-type {\n",
       "        vertical-align: middle;\n",
       "    }\n",
       "\n",
       "    .dataframe tbody tr th {\n",
       "        vertical-align: top;\n",
       "    }\n",
       "\n",
       "    .dataframe thead th {\n",
       "        text-align: right;\n",
       "    }\n",
       "</style>\n",
       "<table border=\"1\" class=\"dataframe\">\n",
       "  <thead>\n",
       "    <tr style=\"text-align: right;\">\n",
       "      <th></th>\n",
       "      <th>id</th>\n",
       "      <th>roof_material</th>\n",
       "      <th>verified</th>\n",
       "      <th>country</th>\n",
       "      <th>region</th>\n",
       "    </tr>\n",
       "  </thead>\n",
       "  <tbody>\n",
       "    <tr>\n",
       "      <td>63597</td>\n",
       "      <td>7a2363e8_imgaug_4_283</td>\n",
       "      <td>healthy_metal</td>\n",
       "      <td>True</td>\n",
       "      <td>colombia</td>\n",
       "      <td>borde_rural</td>\n",
       "    </tr>\n",
       "    <tr>\n",
       "      <td>165576</td>\n",
       "      <td>7a4449a0_imgaug_0_5724</td>\n",
       "      <td>healthy_metal</td>\n",
       "      <td>True</td>\n",
       "      <td>colombia</td>\n",
       "      <td>borde_soacha</td>\n",
       "    </tr>\n",
       "    <tr>\n",
       "      <td>80311</td>\n",
       "      <td>7a2af054_imgaug_6_9893</td>\n",
       "      <td>healthy_metal</td>\n",
       "      <td>True</td>\n",
       "      <td>colombia</td>\n",
       "      <td>borde_soacha</td>\n",
       "    </tr>\n",
       "    <tr>\n",
       "      <td>89141</td>\n",
       "      <td>7a2b73c6_imgaug_5_14310</td>\n",
       "      <td>healthy_metal</td>\n",
       "      <td>True</td>\n",
       "      <td>st_lucia</td>\n",
       "      <td>dennery</td>\n",
       "    </tr>\n",
       "    <tr>\n",
       "      <td>85731</td>\n",
       "      <td>7a3be0bc_imgaug_4_12673</td>\n",
       "      <td>healthy_metal</td>\n",
       "      <td>True</td>\n",
       "      <td>guatemala</td>\n",
       "      <td>mixco_1_and_ebenezer</td>\n",
       "    </tr>\n",
       "  </tbody>\n",
       "</table>\n",
       "</div>"
      ],
      "text/plain": [
       "                             id  roof_material  verified    country  \\\n",
       "63597     7a2363e8_imgaug_4_283  healthy_metal      True   colombia   \n",
       "165576   7a4449a0_imgaug_0_5724  healthy_metal      True   colombia   \n",
       "80311    7a2af054_imgaug_6_9893  healthy_metal      True   colombia   \n",
       "89141   7a2b73c6_imgaug_5_14310  healthy_metal      True   st_lucia   \n",
       "85731   7a3be0bc_imgaug_4_12673  healthy_metal      True  guatemala   \n",
       "\n",
       "                      region  \n",
       "63597            borde_rural  \n",
       "165576          borde_soacha  \n",
       "80311           borde_soacha  \n",
       "89141                dennery  \n",
       "85731   mixco_1_and_ebenezer  "
      ]
     },
     "execution_count": 45,
     "metadata": {},
     "output_type": "execute_result"
    }
   ],
   "source": [
    "df_healthy_aug = df_healthy_aug.sample(n=1000)\n",
    "assert len(df_healthy_aug)==1000\n",
    "df_healthy_aug.head()"
   ]
  },
  {
   "cell_type": "code",
   "execution_count": 46,
   "metadata": {},
   "outputs": [
    {
     "data": {
      "text/html": [
       "<div>\n",
       "<style scoped>\n",
       "    .dataframe tbody tr th:only-of-type {\n",
       "        vertical-align: middle;\n",
       "    }\n",
       "\n",
       "    .dataframe tbody tr th {\n",
       "        vertical-align: top;\n",
       "    }\n",
       "\n",
       "    .dataframe thead th {\n",
       "        text-align: right;\n",
       "    }\n",
       "</style>\n",
       "<table border=\"1\" class=\"dataframe\">\n",
       "  <thead>\n",
       "    <tr style=\"text-align: right;\">\n",
       "      <th></th>\n",
       "      <th>id</th>\n",
       "      <th>roof_material</th>\n",
       "      <th>verified</th>\n",
       "      <th>country</th>\n",
       "      <th>region</th>\n",
       "    </tr>\n",
       "  </thead>\n",
       "  <tbody>\n",
       "    <tr>\n",
       "      <td>34625</td>\n",
       "      <td>7a1f9362_imgaug_2_2720</td>\n",
       "      <td>concrete_cement</td>\n",
       "      <td>True</td>\n",
       "      <td>colombia</td>\n",
       "      <td>borde_rural</td>\n",
       "    </tr>\n",
       "    <tr>\n",
       "      <td>169672</td>\n",
       "      <td>7a3eaa0e_imgaug_6_10475</td>\n",
       "      <td>concrete_cement</td>\n",
       "      <td>True</td>\n",
       "      <td>guatemala</td>\n",
       "      <td>mixco_1_and_ebenezer</td>\n",
       "    </tr>\n",
       "    <tr>\n",
       "      <td>141541</td>\n",
       "      <td>7a32b686_imgaug_4_2104</td>\n",
       "      <td>concrete_cement</td>\n",
       "      <td>True</td>\n",
       "      <td>colombia</td>\n",
       "      <td>borde_rural</td>\n",
       "    </tr>\n",
       "    <tr>\n",
       "      <td>34458</td>\n",
       "      <td>7a2f80ba_imgaug_2_10811</td>\n",
       "      <td>concrete_cement</td>\n",
       "      <td>True</td>\n",
       "      <td>guatemala</td>\n",
       "      <td>mixco_1_and_ebenezer</td>\n",
       "    </tr>\n",
       "    <tr>\n",
       "      <td>60932</td>\n",
       "      <td>7a3dc080_imgaug_0_12639</td>\n",
       "      <td>concrete_cement</td>\n",
       "      <td>True</td>\n",
       "      <td>guatemala</td>\n",
       "      <td>mixco_1_and_ebenezer</td>\n",
       "    </tr>\n",
       "  </tbody>\n",
       "</table>\n",
       "</div>"
      ],
      "text/plain": [
       "                             id    roof_material  verified    country  \\\n",
       "34625    7a1f9362_imgaug_2_2720  concrete_cement      True   colombia   \n",
       "169672  7a3eaa0e_imgaug_6_10475  concrete_cement      True  guatemala   \n",
       "141541   7a32b686_imgaug_4_2104  concrete_cement      True   colombia   \n",
       "34458   7a2f80ba_imgaug_2_10811  concrete_cement      True  guatemala   \n",
       "60932   7a3dc080_imgaug_0_12639  concrete_cement      True  guatemala   \n",
       "\n",
       "                      region  \n",
       "34625            borde_rural  \n",
       "169672  mixco_1_and_ebenezer  \n",
       "141541           borde_rural  \n",
       "34458   mixco_1_and_ebenezer  \n",
       "60932   mixco_1_and_ebenezer  "
      ]
     },
     "execution_count": 46,
     "metadata": {},
     "output_type": "execute_result"
    }
   ],
   "source": [
    "df_concrete_aug=df_concrete_aug.sample(n=1000)\n",
    "assert len(df_concrete_aug)==1000\n",
    "df_concrete_aug.head()"
   ]
  },
  {
   "cell_type": "code",
   "execution_count": 47,
   "metadata": {},
   "outputs": [
    {
     "data": {
      "text/html": [
       "<div>\n",
       "<style scoped>\n",
       "    .dataframe tbody tr th:only-of-type {\n",
       "        vertical-align: middle;\n",
       "    }\n",
       "\n",
       "    .dataframe tbody tr th {\n",
       "        vertical-align: top;\n",
       "    }\n",
       "\n",
       "    .dataframe thead th {\n",
       "        text-align: right;\n",
       "    }\n",
       "</style>\n",
       "<table border=\"1\" class=\"dataframe\">\n",
       "  <thead>\n",
       "    <tr style=\"text-align: right;\">\n",
       "      <th></th>\n",
       "      <th>id</th>\n",
       "      <th>roof_material</th>\n",
       "      <th>verified</th>\n",
       "      <th>country</th>\n",
       "      <th>region</th>\n",
       "    </tr>\n",
       "  </thead>\n",
       "  <tbody>\n",
       "    <tr>\n",
       "      <td>71215</td>\n",
       "      <td>7a2b5d5a_imgaug_2_10149</td>\n",
       "      <td>incomplete</td>\n",
       "      <td>True</td>\n",
       "      <td>colombia</td>\n",
       "      <td>borde_soacha</td>\n",
       "    </tr>\n",
       "    <tr>\n",
       "      <td>56614</td>\n",
       "      <td>7a3b9f3a_imgaug_7_4184</td>\n",
       "      <td>incomplete</td>\n",
       "      <td>True</td>\n",
       "      <td>colombia</td>\n",
       "      <td>borde_rural</td>\n",
       "    </tr>\n",
       "    <tr>\n",
       "      <td>102273</td>\n",
       "      <td>7a1dc47e_imgaug_0_1072</td>\n",
       "      <td>incomplete</td>\n",
       "      <td>True</td>\n",
       "      <td>colombia</td>\n",
       "      <td>borde_rural</td>\n",
       "    </tr>\n",
       "    <tr>\n",
       "      <td>154452</td>\n",
       "      <td>7a3315a4_imgaug_3_4892</td>\n",
       "      <td>incomplete</td>\n",
       "      <td>True</td>\n",
       "      <td>colombia</td>\n",
       "      <td>borde_soacha</td>\n",
       "    </tr>\n",
       "    <tr>\n",
       "      <td>170628</td>\n",
       "      <td>7a41dea4_imgaug_4_3980</td>\n",
       "      <td>incomplete</td>\n",
       "      <td>True</td>\n",
       "      <td>colombia</td>\n",
       "      <td>borde_rural</td>\n",
       "    </tr>\n",
       "  </tbody>\n",
       "</table>\n",
       "</div>"
      ],
      "text/plain": [
       "                             id roof_material  verified   country  \\\n",
       "71215   7a2b5d5a_imgaug_2_10149    incomplete      True  colombia   \n",
       "56614    7a3b9f3a_imgaug_7_4184    incomplete      True  colombia   \n",
       "102273   7a1dc47e_imgaug_0_1072    incomplete      True  colombia   \n",
       "154452   7a3315a4_imgaug_3_4892    incomplete      True  colombia   \n",
       "170628   7a41dea4_imgaug_4_3980    incomplete      True  colombia   \n",
       "\n",
       "              region  \n",
       "71215   borde_soacha  \n",
       "56614    borde_rural  \n",
       "102273   borde_rural  \n",
       "154452  borde_soacha  \n",
       "170628   borde_rural  "
      ]
     },
     "execution_count": 47,
     "metadata": {},
     "output_type": "execute_result"
    }
   ],
   "source": [
    "df_incomplete_aug=df_incomplete_aug.sample(n=1000)\n",
    "assert len(df_incomplete_aug)==1000\n",
    "df_incomplete_aug.head()"
   ]
  },
  {
   "cell_type": "code",
   "execution_count": 48,
   "metadata": {},
   "outputs": [
    {
     "data": {
      "text/html": [
       "<div>\n",
       "<style scoped>\n",
       "    .dataframe tbody tr th:only-of-type {\n",
       "        vertical-align: middle;\n",
       "    }\n",
       "\n",
       "    .dataframe tbody tr th {\n",
       "        vertical-align: top;\n",
       "    }\n",
       "\n",
       "    .dataframe thead th {\n",
       "        text-align: right;\n",
       "    }\n",
       "</style>\n",
       "<table border=\"1\" class=\"dataframe\">\n",
       "  <thead>\n",
       "    <tr style=\"text-align: right;\">\n",
       "      <th></th>\n",
       "      <th>id</th>\n",
       "      <th>roof_material</th>\n",
       "      <th>verified</th>\n",
       "      <th>country</th>\n",
       "      <th>region</th>\n",
       "    </tr>\n",
       "  </thead>\n",
       "  <tbody>\n",
       "    <tr>\n",
       "      <td>0</td>\n",
       "      <td>7a3f2a10</td>\n",
       "      <td>concrete_cement</td>\n",
       "      <td>True</td>\n",
       "      <td>colombia</td>\n",
       "      <td>borde_rural</td>\n",
       "    </tr>\n",
       "    <tr>\n",
       "      <td>1</td>\n",
       "      <td>7a1f731e</td>\n",
       "      <td>irregular_metal</td>\n",
       "      <td>True</td>\n",
       "      <td>colombia</td>\n",
       "      <td>borde_rural</td>\n",
       "    </tr>\n",
       "    <tr>\n",
       "      <td>2</td>\n",
       "      <td>7a424ad8</td>\n",
       "      <td>healthy_metal</td>\n",
       "      <td>True</td>\n",
       "      <td>colombia</td>\n",
       "      <td>borde_rural</td>\n",
       "    </tr>\n",
       "    <tr>\n",
       "      <td>3</td>\n",
       "      <td>7a3edc5e</td>\n",
       "      <td>healthy_metal</td>\n",
       "      <td>True</td>\n",
       "      <td>colombia</td>\n",
       "      <td>borde_rural</td>\n",
       "    </tr>\n",
       "    <tr>\n",
       "      <td>4</td>\n",
       "      <td>7a303a6e</td>\n",
       "      <td>healthy_metal</td>\n",
       "      <td>True</td>\n",
       "      <td>colombia</td>\n",
       "      <td>borde_rural</td>\n",
       "    </tr>\n",
       "  </tbody>\n",
       "</table>\n",
       "</div>"
      ],
      "text/plain": [
       "         id    roof_material  verified   country       region\n",
       "0  7a3f2a10  concrete_cement      True  colombia  borde_rural\n",
       "1  7a1f731e  irregular_metal      True  colombia  borde_rural\n",
       "2  7a424ad8    healthy_metal      True  colombia  borde_rural\n",
       "3  7a3edc5e    healthy_metal      True  colombia  borde_rural\n",
       "4  7a303a6e    healthy_metal      True  colombia  borde_rural"
      ]
     },
     "execution_count": 48,
     "metadata": {},
     "output_type": "execute_result"
    }
   ],
   "source": [
    "df_v.head()"
   ]
  },
  {
   "cell_type": "code",
   "execution_count": 49,
   "metadata": {},
   "outputs": [
    {
     "data": {
      "text/html": [
       "<div>\n",
       "<style scoped>\n",
       "    .dataframe tbody tr th:only-of-type {\n",
       "        vertical-align: middle;\n",
       "    }\n",
       "\n",
       "    .dataframe tbody tr th {\n",
       "        vertical-align: top;\n",
       "    }\n",
       "\n",
       "    .dataframe thead th {\n",
       "        text-align: right;\n",
       "    }\n",
       "</style>\n",
       "<table border=\"1\" class=\"dataframe\">\n",
       "  <thead>\n",
       "    <tr style=\"text-align: right;\">\n",
       "      <th></th>\n",
       "      <th>id</th>\n",
       "      <th>roof_material</th>\n",
       "      <th>verified</th>\n",
       "      <th>country</th>\n",
       "      <th>region</th>\n",
       "    </tr>\n",
       "  </thead>\n",
       "  <tbody>\n",
       "    <tr>\n",
       "      <td>133005</td>\n",
       "      <td>7a29181a_imgaug_9_12293</td>\n",
       "      <td>other</td>\n",
       "      <td>True</td>\n",
       "      <td>guatemala</td>\n",
       "      <td>mixco_1_and_ebenezer</td>\n",
       "    </tr>\n",
       "    <tr>\n",
       "      <td>157425</td>\n",
       "      <td>7a353e24_imgaug_3_11792</td>\n",
       "      <td>other</td>\n",
       "      <td>True</td>\n",
       "      <td>guatemala</td>\n",
       "      <td>mixco_1_and_ebenezer</td>\n",
       "    </tr>\n",
       "    <tr>\n",
       "      <td>66421</td>\n",
       "      <td>7a20b13e_imgaug_0_12275</td>\n",
       "      <td>other</td>\n",
       "      <td>True</td>\n",
       "      <td>guatemala</td>\n",
       "      <td>mixco_1_and_ebenezer</td>\n",
       "    </tr>\n",
       "    <tr>\n",
       "      <td>168255</td>\n",
       "      <td>7a1dc41a_imgaug_2_2132</td>\n",
       "      <td>other</td>\n",
       "      <td>True</td>\n",
       "      <td>colombia</td>\n",
       "      <td>borde_rural</td>\n",
       "    </tr>\n",
       "    <tr>\n",
       "      <td>163650</td>\n",
       "      <td>7a349168_imgaug_4_11349</td>\n",
       "      <td>other</td>\n",
       "      <td>True</td>\n",
       "      <td>guatemala</td>\n",
       "      <td>mixco_1_and_ebenezer</td>\n",
       "    </tr>\n",
       "  </tbody>\n",
       "</table>\n",
       "</div>"
      ],
      "text/plain": [
       "                             id roof_material  verified    country  \\\n",
       "133005  7a29181a_imgaug_9_12293         other      True  guatemala   \n",
       "157425  7a353e24_imgaug_3_11792         other      True  guatemala   \n",
       "66421   7a20b13e_imgaug_0_12275         other      True  guatemala   \n",
       "168255   7a1dc41a_imgaug_2_2132         other      True   colombia   \n",
       "163650  7a349168_imgaug_4_11349         other      True  guatemala   \n",
       "\n",
       "                      region  \n",
       "133005  mixco_1_and_ebenezer  \n",
       "157425  mixco_1_and_ebenezer  \n",
       "66421   mixco_1_and_ebenezer  \n",
       "168255           borde_rural  \n",
       "163650  mixco_1_and_ebenezer  "
      ]
     },
     "execution_count": 49,
     "metadata": {},
     "output_type": "execute_result"
    }
   ],
   "source": [
    "df_other_aug=df_other_aug.sample(n=1000)\n",
    "assert len(df_other_aug)==1000\n",
    "df_other_aug.head()"
   ]
  },
  {
   "cell_type": "markdown",
   "metadata": {},
   "source": [
    "#### concat"
   ]
  },
  {
   "cell_type": "code",
   "execution_count": 50,
   "metadata": {},
   "outputs": [
    {
     "data": {
      "text/plain": [
       "14870"
      ]
     },
     "execution_count": 50,
     "metadata": {},
     "output_type": "execute_result"
    }
   ],
   "source": [
    "len(df_v)"
   ]
  },
  {
   "cell_type": "code",
   "execution_count": 51,
   "metadata": {},
   "outputs": [],
   "source": [
    "frames = [df_irreg_aug, df_healthy_aug, df_concrete_aug, df_incomplete_aug, df_other_aug]"
   ]
  },
  {
   "cell_type": "code",
   "execution_count": 52,
   "metadata": {},
   "outputs": [],
   "source": [
    "df_all_aug = pd.concat(frames)"
   ]
  },
  {
   "cell_type": "code",
   "execution_count": 53,
   "metadata": {},
   "outputs": [],
   "source": [
    "assert len(df_all_aug)==5000"
   ]
  },
  {
   "cell_type": "code",
   "execution_count": 54,
   "metadata": {},
   "outputs": [],
   "source": [
    "df_all_aug = df_v.append(df_all_aug, ignore_index=True)"
   ]
  },
  {
   "cell_type": "code",
   "execution_count": 55,
   "metadata": {},
   "outputs": [
    {
     "data": {
      "text/plain": [
       "<matplotlib.axes._subplots.AxesSubplot at 0x7ff583a9b5d0>"
      ]
     },
     "execution_count": 55,
     "metadata": {},
     "output_type": "execute_result"
    },
    {
     "data": {
      "image/png": "[encoded data removed]",
      "text/plain": [
       "<Figure size 432x288 with 1 Axes>"
      ]
     },
     "metadata": {
      "needs_background": "light"
     },
     "output_type": "display_data"
    }
   ],
   "source": [
    "df_all_aug['roof_material'].value_counts().plot(kind='bar')"
   ]
  },
  {
   "cell_type": "code",
   "execution_count": 56,
   "metadata": {},
   "outputs": [
    {
     "data": {
      "text/plain": [
       "<matplotlib.axes._subplots.AxesSubplot at 0x7ff582e0a750>"
      ]
     },
     "execution_count": 56,
     "metadata": {},
     "output_type": "execute_result"
    },
    {
     "data": {
      "image/png": "[encoded data removed]",
      "text/plain": [
       "<Figure size 432x288 with 1 Axes>"
      ]
     },
     "metadata": {
      "needs_background": "light"
     },
     "output_type": "display_data"
    }
   ],
   "source": [
    "df_v['roof_material'].value_counts().plot(kind='bar')"
   ]
  },
  {
   "cell_type": "code",
   "execution_count": 57,
   "metadata": {},
   "outputs": [],
   "source": [
    "#### add predicted unverified"
   ]
  },
  {
   "cell_type": "code",
   "execution_count": 58,
   "metadata": {},
   "outputs": [],
   "source": [
    "df_all_aug = df_all_aug.append(df_pred_v, ignore_index=True)"
   ]
  },
  {
   "cell_type": "code",
   "execution_count": 59,
   "metadata": {},
   "outputs": [
    {
     "data": {
      "text/plain": [
       "<matplotlib.axes._subplots.AxesSubplot at 0x7ff582d88090>"
      ]
     },
     "execution_count": 59,
     "metadata": {},
     "output_type": "execute_result"
    },
    {
     "data": {
      "image/png": "[encoded data removed]",
      "text/plain": [
       "<Figure size 432x288 with 1 Axes>"
      ]
     },
     "metadata": {
      "needs_background": "light"
     },
     "output_type": "display_data"
    }
   ],
   "source": [
    "df_all_aug['roof_material'].value_counts().plot(kind='bar', color='gray')"
   ]
  },
  {
   "cell_type": "markdown",
   "metadata": {},
   "source": [
    "#### test data"
   ]
  },
  {
   "cell_type": "code",
   "execution_count": 60,
   "metadata": {},
   "outputs": [],
   "source": [
    "df_test=pd.read_csv(data_dir/'df_test_all.csv')"
   ]
  },
  {
   "cell_type": "code",
   "execution_count": 61,
   "metadata": {},
   "outputs": [
    {
     "data": {
      "text/html": [
       "<div>\n",
       "<style scoped>\n",
       "    .dataframe tbody tr th:only-of-type {\n",
       "        vertical-align: middle;\n",
       "    }\n",
       "\n",
       "    .dataframe tbody tr th {\n",
       "        vertical-align: top;\n",
       "    }\n",
       "\n",
       "    .dataframe thead th {\n",
       "        text-align: right;\n",
       "    }\n",
       "</style>\n",
       "<table border=\"1\" class=\"dataframe\">\n",
       "  <thead>\n",
       "    <tr style=\"text-align: right;\">\n",
       "      <th></th>\n",
       "      <th>id</th>\n",
       "      <th>country</th>\n",
       "      <th>region</th>\n",
       "    </tr>\n",
       "  </thead>\n",
       "  <tbody>\n",
       "    <tr>\n",
       "      <td>7320</td>\n",
       "      <td>7a4f3ff4</td>\n",
       "      <td>st_lucia</td>\n",
       "      <td>dennery</td>\n",
       "    </tr>\n",
       "    <tr>\n",
       "      <td>7321</td>\n",
       "      <td>7a4fc578</td>\n",
       "      <td>st_lucia</td>\n",
       "      <td>dennery</td>\n",
       "    </tr>\n",
       "    <tr>\n",
       "      <td>7322</td>\n",
       "      <td>7a4ac7b2</td>\n",
       "      <td>st_lucia</td>\n",
       "      <td>dennery</td>\n",
       "    </tr>\n",
       "    <tr>\n",
       "      <td>7323</td>\n",
       "      <td>7a47e25e</td>\n",
       "      <td>st_lucia</td>\n",
       "      <td>dennery</td>\n",
       "    </tr>\n",
       "    <tr>\n",
       "      <td>7324</td>\n",
       "      <td>7a4e3f78</td>\n",
       "      <td>st_lucia</td>\n",
       "      <td>dennery</td>\n",
       "    </tr>\n",
       "  </tbody>\n",
       "</table>\n",
       "</div>"
      ],
      "text/plain": [
       "            id   country   region\n",
       "7320  7a4f3ff4  st_lucia  dennery\n",
       "7321  7a4fc578  st_lucia  dennery\n",
       "7322  7a4ac7b2  st_lucia  dennery\n",
       "7323  7a47e25e  st_lucia  dennery\n",
       "7324  7a4e3f78  st_lucia  dennery"
      ]
     },
     "execution_count": 61,
     "metadata": {},
     "output_type": "execute_result"
    }
   ],
   "source": [
    "df_test.tail()"
   ]
  },
  {
   "cell_type": "code",
   "execution_count": 62,
   "metadata": {},
   "outputs": [],
   "source": [
    "assert len(df_test)==7325"
   ]
  },
  {
   "cell_type": "code",
   "execution_count": 63,
   "metadata": {},
   "outputs": [
    {
     "data": {
      "text/html": [
       "<div>\n",
       "<style scoped>\n",
       "    .dataframe tbody tr th:only-of-type {\n",
       "        vertical-align: middle;\n",
       "    }\n",
       "\n",
       "    .dataframe tbody tr th {\n",
       "        vertical-align: top;\n",
       "    }\n",
       "\n",
       "    .dataframe thead th {\n",
       "        text-align: right;\n",
       "    }\n",
       "</style>\n",
       "<table border=\"1\" class=\"dataframe\">\n",
       "  <thead>\n",
       "    <tr style=\"text-align: right;\">\n",
       "      <th></th>\n",
       "      <th>id</th>\n",
       "      <th>roof_material</th>\n",
       "      <th>verified</th>\n",
       "      <th>country</th>\n",
       "      <th>region</th>\n",
       "    </tr>\n",
       "  </thead>\n",
       "  <tbody>\n",
       "    <tr>\n",
       "      <td>12960</td>\n",
       "      <td>7a204ec4</td>\n",
       "      <td>irregular_metal</td>\n",
       "      <td>True</td>\n",
       "      <td>guatemala</td>\n",
       "      <td>mixco_1_and_ebenezer</td>\n",
       "    </tr>\n",
       "  </tbody>\n",
       "</table>\n",
       "</div>"
      ],
      "text/plain": [
       "             id    roof_material  verified    country                region\n",
       "12960  7a204ec4  irregular_metal      True  guatemala  mixco_1_and_ebenezer"
      ]
     },
     "execution_count": 63,
     "metadata": {},
     "output_type": "execute_result"
    }
   ],
   "source": [
    "df_all_aug.loc[df_all_aug['id'] == '7a204ec4']"
   ]
  },
  {
   "cell_type": "code",
   "execution_count": 64,
   "metadata": {},
   "outputs": [
    {
     "data": {
      "text/plain": [
       "27426"
      ]
     },
     "execution_count": 64,
     "metadata": {},
     "output_type": "execute_result"
    }
   ],
   "source": [
    "len(df_all_aug)"
   ]
  },
  {
   "cell_type": "markdown",
   "metadata": {},
   "source": [
    "To put this in a `DataBunch` while using the [data block API](https://docs.fast.ai/data_block.html), we then need to using `ImageList` (and not `ImageDataBunch`). This will make sure the model created has the proper loss function to deal with the multiple classes."
   ]
  },
  {
   "cell_type": "code",
   "execution_count": 65,
   "metadata": {},
   "outputs": [],
   "source": [
    "tfms = get_transforms(flip_vert=True, max_lighting=0.1, max_zoom=1.05, max_warp=0.)"
   ]
  },
  {
   "cell_type": "markdown",
   "metadata": {},
   "source": [
    "### setup dataset"
   ]
  },
  {
   "cell_type": "code",
   "execution_count": 66,
   "metadata": {},
   "outputs": [],
   "source": [
    "np.random.seed(42)\n",
    "dep_var='roof_material'\n",
    "src = (ImageList.from_df(path=train_images, df=df_all_aug, cols='id', suffix='.tif')\n",
    "       .split_by_rand_pct(0.2)\n",
    "      .label_from_df(cols=dep_var)\n",
    "      .add_test_folder(test_images))"
   ]
  },
  {
   "cell_type": "code",
   "execution_count": 67,
   "metadata": {},
   "outputs": [],
   "source": [
    "data = (src.transform(tfms, size=img_size)\n",
    "        .databunch().normalize(imagenet_stats))"
   ]
  },
  {
   "cell_type": "code",
   "execution_count": 68,
   "metadata": {},
   "outputs": [],
   "source": [
    "#to check what params object has\n",
    "#dir(data)"
   ]
  },
  {
   "cell_type": "code",
   "execution_count": 69,
   "metadata": {},
   "outputs": [
    {
     "data": {
      "text/plain": [
       "LabelLists;\n",
       "\n",
       "Train: LabelList (21941 items)\n",
       "x: ImageList\n",
       "Image (3, 256, 256),Image (3, 256, 256),Image (3, 256, 256),Image (3, 256, 256),Image (3, 256, 256)\n",
       "y: CategoryList\n",
       "concrete_cement,irregular_metal,healthy_metal,healthy_metal,healthy_metal\n",
       "Path: data/train/rotated/clipped/reflect/256;\n",
       "\n",
       "Valid: LabelList (5485 items)\n",
       "x: ImageList\n",
       "Image (3, 256, 256),Image (3, 256, 256),Image (3, 256, 256),Image (3, 256, 256),Image (3, 256, 256)\n",
       "y: CategoryList\n",
       "healthy_metal,irregular_metal,concrete_cement,healthy_metal,irregular_metal\n",
       "Path: data/train/rotated/clipped/reflect/256;\n",
       "\n",
       "Test: LabelList (0 items)\n",
       "x: ImageList\n",
       "\n",
       "y: EmptyLabelList\n",
       "\n",
       "Path: data/train/rotated/clipped/reflect/256"
      ]
     },
     "execution_count": 69,
     "metadata": {},
     "output_type": "execute_result"
    }
   ],
   "source": [
    "data.label_list"
   ]
  },
  {
   "cell_type": "code",
   "execution_count": 70,
   "metadata": {},
   "outputs": [
    {
     "data": {
      "text/plain": [
       "FlattenedLoss of CrossEntropyLoss()"
      ]
     },
     "execution_count": 70,
     "metadata": {},
     "output_type": "execute_result"
    }
   ],
   "source": [
    "data.loss_func"
   ]
  },
  {
   "cell_type": "markdown",
   "metadata": {},
   "source": [
    "`show_batch` still works, and show us the different labels separated by `;`."
   ]
  },
  {
   "cell_type": "code",
   "execution_count": 71,
   "metadata": {},
   "outputs": [
    {
     "data": {
      "image/png": "[encoded data removed]",
      "text/plain": [
       "<Figure size 864x648 with 9 Axes>"
      ]
     },
     "metadata": {
      "needs_background": "light"
     },
     "output_type": "display_data"
    }
   ],
   "source": [
    "data.show_batch(rows=3, figsize=(12,9))"
   ]
  },
  {
   "cell_type": "markdown",
   "metadata": {},
   "source": [
    "### Model"
   ]
  },
  {
   "cell_type": "code",
   "execution_count": 72,
   "metadata": {},
   "outputs": [],
   "source": [
    "arch = models.resnet50\n",
    "arch_name = 'rn50'"
   ]
  },
  {
   "cell_type": "code",
   "execution_count": 73,
   "metadata": {},
   "outputs": [],
   "source": [
    "learn = cnn_learner(data, arch, metrics=error_rate, bn_final=True).to_fp16()"
   ]
  },
  {
   "cell_type": "markdown",
   "metadata": {},
   "source": [
    "### Train model"
   ]
  },
  {
   "cell_type": "code",
   "execution_count": 74,
   "metadata": {},
   "outputs": [
    {
     "data": {
      "text/html": [],
      "text/plain": [
       "<IPython.core.display.HTML object>"
      ]
     },
     "metadata": {},
     "output_type": "display_data"
    },
    {
     "name": "stdout",
     "output_type": "stream",
     "text": [
      "LR Finder is complete, type {learner_name}.recorder.plot() to see the graph.\n"
     ]
    }
   ],
   "source": [
    "learn.lr_find()"
   ]
  },
  {
   "cell_type": "code",
   "execution_count": 75,
   "metadata": {},
   "outputs": [
    {
     "data": {
      "image/png": "[encoded data removed]",
      "text/plain": [
       "<Figure size 432x288 with 1 Axes>"
      ]
     },
     "metadata": {
      "needs_background": "light"
     },
     "output_type": "display_data"
    }
   ],
   "source": [
    "learn.recorder.plot()"
   ]
  },
  {
   "cell_type": "markdown",
   "metadata": {},
   "source": [
    "Then we can fit the head of our network."
   ]
  },
  {
   "cell_type": "code",
   "execution_count": 76,
   "metadata": {},
   "outputs": [],
   "source": [
    "lr = 1e-2"
   ]
  },
  {
   "cell_type": "code",
   "execution_count": 77,
   "metadata": {},
   "outputs": [
    {
     "data": {
      "text/html": [
       "<table border=\"1\" class=\"dataframe\">\n",
       "  <thead>\n",
       "    <tr style=\"text-align: left;\">\n",
       "      <th>epoch</th>\n",
       "      <th>train_loss</th>\n",
       "      <th>valid_loss</th>\n",
       "      <th>error_rate</th>\n",
       "      <th>time</th>\n",
       "    </tr>\n",
       "  </thead>\n",
       "  <tbody>\n",
       "    <tr>\n",
       "      <td>0</td>\n",
       "      <td>0.712851</td>\n",
       "      <td>0.565356</td>\n",
       "      <td>0.187056</td>\n",
       "      <td>01:24</td>\n",
       "    </tr>\n",
       "    <tr>\n",
       "      <td>1</td>\n",
       "      <td>0.506678</td>\n",
       "      <td>0.464840</td>\n",
       "      <td>0.176481</td>\n",
       "      <td>01:19</td>\n",
       "    </tr>\n",
       "    <tr>\n",
       "      <td>2</td>\n",
       "      <td>0.463735</td>\n",
       "      <td>0.430806</td>\n",
       "      <td>0.169736</td>\n",
       "      <td>01:11</td>\n",
       "    </tr>\n",
       "    <tr>\n",
       "      <td>3</td>\n",
       "      <td>0.400770</td>\n",
       "      <td>0.383854</td>\n",
       "      <td>0.144394</td>\n",
       "      <td>01:14</td>\n",
       "    </tr>\n",
       "    <tr>\n",
       "      <td>4</td>\n",
       "      <td>0.382297</td>\n",
       "      <td>0.379990</td>\n",
       "      <td>0.142206</td>\n",
       "      <td>01:11</td>\n",
       "    </tr>\n",
       "  </tbody>\n",
       "</table>"
      ],
      "text/plain": [
       "<IPython.core.display.HTML object>"
      ]
     },
     "metadata": {},
     "output_type": "display_data"
    }
   ],
   "source": [
    "learn.fit_one_cycle(5, slice(lr))"
   ]
  },
  {
   "cell_type": "code",
   "execution_count": 78,
   "metadata": {},
   "outputs": [],
   "source": [
    "learn.save(f'stage-1-{arch_name}-{NB_NUM}-{MODEL_NAME}-{DATE}-{UID}')"
   ]
  },
  {
   "cell_type": "markdown",
   "metadata": {},
   "source": [
    "#### Load model"
   ]
  },
  {
   "cell_type": "code",
   "execution_count": 79,
   "metadata": {},
   "outputs": [
    {
     "data": {
      "text/plain": [
       "Learner(data=ImageDataBunch;\n",
       "\n",
       "Train: LabelList (21941 items)\n",
       "x: ImageList\n",
       "Image (3, 256, 256),Image (3, 256, 256),Image (3, 256, 256),Image (3, 256, 256),Image (3, 256, 256)\n",
       "y: CategoryList\n",
       "concrete_cement,irregular_metal,healthy_metal,healthy_metal,healthy_metal\n",
       "Path: data/train/rotated/clipped/reflect/256;\n",
       "\n",
       "Valid: LabelList (5485 items)\n",
       "x: ImageList\n",
       "Image (3, 256, 256),Image (3, 256, 256),Image (3, 256, 256),Image (3, 256, 256),Image (3, 256, 256)\n",
       "y: CategoryList\n",
       "healthy_metal,irregular_metal,concrete_cement,healthy_metal,irregular_metal\n",
       "Path: data/train/rotated/clipped/reflect/256;\n",
       "\n",
       "Test: LabelList (0 items)\n",
       "x: ImageList\n",
       "\n",
       "y: EmptyLabelList\n",
       "\n",
       "Path: data/train/rotated/clipped/reflect/256, model=Sequential(\n",
       "  (0): Sequential(\n",
       "    (0): Conv2d(3, 64, kernel_size=(7, 7), stride=(2, 2), padding=(3, 3), bias=False)\n",
       "    (1): BatchNorm2d(64, eps=1e-05, momentum=0.1, affine=True, track_running_stats=True)\n",
       "    (2): ReLU(inplace=True)\n",
       "    (3): MaxPool2d(kernel_size=3, stride=2, padding=1, dilation=1, ceil_mode=False)\n",
       "    (4): Sequential(\n",
       "      (0): Bottleneck(\n",
       "        (conv1): Conv2d(64, 64, kernel_size=(1, 1), stride=(1, 1), bias=False)\n",
       "        (bn1): BatchNorm2d(64, eps=1e-05, momentum=0.1, affine=True, track_running_stats=True)\n",
       "        (conv2): Conv2d(64, 64, kernel_size=(3, 3), stride=(1, 1), padding=(1, 1), bias=False)\n",
       "        (bn2): BatchNorm2d(64, eps=1e-05, momentum=0.1, affine=True, track_running_stats=True)\n",
       "        (conv3): Conv2d(64, 256, kernel_size=(1, 1), stride=(1, 1), bias=False)\n",
       "        (bn3): BatchNorm2d(256, eps=1e-05, momentum=0.1, affine=True, track_running_stats=True)\n",
       "        (relu): ReLU(inplace=True)\n",
       "        (downsample): Sequential(\n",
       "          (0): Conv2d(64, 256, kernel_size=(1, 1), stride=(1, 1), bias=False)\n",
       "          (1): BatchNorm2d(256, eps=1e-05, momentum=0.1, affine=True, track_running_stats=True)\n",
       "        )\n",
       "      )\n",
       "      (1): Bottleneck(\n",
       "        (conv1): Conv2d(256, 64, kernel_size=(1, 1), stride=(1, 1), bias=False)\n",
       "        (bn1): BatchNorm2d(64, eps=1e-05, momentum=0.1, affine=True, track_running_stats=True)\n",
       "        (conv2): Conv2d(64, 64, kernel_size=(3, 3), stride=(1, 1), padding=(1, 1), bias=False)\n",
       "        (bn2): BatchNorm2d(64, eps=1e-05, momentum=0.1, affine=True, track_running_stats=True)\n",
       "        (conv3): Conv2d(64, 256, kernel_size=(1, 1), stride=(1, 1), bias=False)\n",
       "        (bn3): BatchNorm2d(256, eps=1e-05, momentum=0.1, affine=True, track_running_stats=True)\n",
       "        (relu): ReLU(inplace=True)\n",
       "      )\n",
       "      (2): Bottleneck(\n",
       "        (conv1): Conv2d(256, 64, kernel_size=(1, 1), stride=(1, 1), bias=False)\n",
       "        (bn1): BatchNorm2d(64, eps=1e-05, momentum=0.1, affine=True, track_running_stats=True)\n",
       "        (conv2): Conv2d(64, 64, kernel_size=(3, 3), stride=(1, 1), padding=(1, 1), bias=False)\n",
       "        (bn2): BatchNorm2d(64, eps=1e-05, momentum=0.1, affine=True, track_running_stats=True)\n",
       "        (conv3): Conv2d(64, 256, kernel_size=(1, 1), stride=(1, 1), bias=False)\n",
       "        (bn3): BatchNorm2d(256, eps=1e-05, momentum=0.1, affine=True, track_running_stats=True)\n",
       "        (relu): ReLU(inplace=True)\n",
       "      )\n",
       "    )\n",
       "    (5): Sequential(\n",
       "      (0): Bottleneck(\n",
       "        (conv1): Conv2d(256, 128, kernel_size=(1, 1), stride=(1, 1), bias=False)\n",
       "        (bn1): BatchNorm2d(128, eps=1e-05, momentum=0.1, affine=True, track_running_stats=True)\n",
       "        (conv2): Conv2d(128, 128, kernel_size=(3, 3), stride=(2, 2), padding=(1, 1), bias=False)\n",
       "        (bn2): BatchNorm2d(128, eps=1e-05, momentum=0.1, affine=True, track_running_stats=True)\n",
       "        (conv3): Conv2d(128, 512, kernel_size=(1, 1), stride=(1, 1), bias=False)\n",
       "        (bn3): BatchNorm2d(512, eps=1e-05, momentum=0.1, affine=True, track_running_stats=True)\n",
       "        (relu): ReLU(inplace=True)\n",
       "        (downsample): Sequential(\n",
       "          (0): Conv2d(256, 512, kernel_size=(1, 1), stride=(2, 2), bias=False)\n",
       "          (1): BatchNorm2d(512, eps=1e-05, momentum=0.1, affine=True, track_running_stats=True)\n",
       "        )\n",
       "      )\n",
       "      (1): Bottleneck(\n",
       "        (conv1): Conv2d(512, 128, kernel_size=(1, 1), stride=(1, 1), bias=False)\n",
       "        (bn1): BatchNorm2d(128, eps=1e-05, momentum=0.1, affine=True, track_running_stats=True)\n",
       "        (conv2): Conv2d(128, 128, kernel_size=(3, 3), stride=(1, 1), padding=(1, 1), bias=False)\n",
       "        (bn2): BatchNorm2d(128, eps=1e-05, momentum=0.1, affine=True, track_running_stats=True)\n",
       "        (conv3): Conv2d(128, 512, kernel_size=(1, 1), stride=(1, 1), bias=False)\n",
       "        (bn3): BatchNorm2d(512, eps=1e-05, momentum=0.1, affine=True, track_running_stats=True)\n",
       "        (relu): ReLU(inplace=True)\n",
       "      )\n",
       "      (2): Bottleneck(\n",
       "        (conv1): Conv2d(512, 128, kernel_size=(1, 1), stride=(1, 1), bias=False)\n",
       "        (bn1): BatchNorm2d(128, eps=1e-05, momentum=0.1, affine=True, track_running_stats=True)\n",
       "        (conv2): Conv2d(128, 128, kernel_size=(3, 3), stride=(1, 1), padding=(1, 1), bias=False)\n",
       "        (bn2): BatchNorm2d(128, eps=1e-05, momentum=0.1, affine=True, track_running_stats=True)\n",
       "        (conv3): Conv2d(128, 512, kernel_size=(1, 1), stride=(1, 1), bias=False)\n",
       "        (bn3): BatchNorm2d(512, eps=1e-05, momentum=0.1, affine=True, track_running_stats=True)\n",
       "        (relu): ReLU(inplace=True)\n",
       "      )\n",
       "      (3): Bottleneck(\n",
       "        (conv1): Conv2d(512, 128, kernel_size=(1, 1), stride=(1, 1), bias=False)\n",
       "        (bn1): BatchNorm2d(128, eps=1e-05, momentum=0.1, affine=True, track_running_stats=True)\n",
       "        (conv2): Conv2d(128, 128, kernel_size=(3, 3), stride=(1, 1), padding=(1, 1), bias=False)\n",
       "        (bn2): BatchNorm2d(128, eps=1e-05, momentum=0.1, affine=True, track_running_stats=True)\n",
       "        (conv3): Conv2d(128, 512, kernel_size=(1, 1), stride=(1, 1), bias=False)\n",
       "        (bn3): BatchNorm2d(512, eps=1e-05, momentum=0.1, affine=True, track_running_stats=True)\n",
       "        (relu): ReLU(inplace=True)\n",
       "      )\n",
       "    )\n",
       "    (6): Sequential(\n",
       "      (0): Bottleneck(\n",
       "        (conv1): Conv2d(512, 256, kernel_size=(1, 1), stride=(1, 1), bias=False)\n",
       "        (bn1): BatchNorm2d(256, eps=1e-05, momentum=0.1, affine=True, track_running_stats=True)\n",
       "        (conv2): Conv2d(256, 256, kernel_size=(3, 3), stride=(2, 2), padding=(1, 1), bias=False)\n",
       "        (bn2): BatchNorm2d(256, eps=1e-05, momentum=0.1, affine=True, track_running_stats=True)\n",
       "        (conv3): Conv2d(256, 1024, kernel_size=(1, 1), stride=(1, 1), bias=False)\n",
       "        (bn3): BatchNorm2d(1024, eps=1e-05, momentum=0.1, affine=True, track_running_stats=True)\n",
       "        (relu): ReLU(inplace=True)\n",
       "        (downsample): Sequential(\n",
       "          (0): Conv2d(512, 1024, kernel_size=(1, 1), stride=(2, 2), bias=False)\n",
       "          (1): BatchNorm2d(1024, eps=1e-05, momentum=0.1, affine=True, track_running_stats=True)\n",
       "        )\n",
       "      )\n",
       "      (1): Bottleneck(\n",
       "        (conv1): Conv2d(1024, 256, kernel_size=(1, 1), stride=(1, 1), bias=False)\n",
       "        (bn1): BatchNorm2d(256, eps=1e-05, momentum=0.1, affine=True, track_running_stats=True)\n",
       "        (conv2): Conv2d(256, 256, kernel_size=(3, 3), stride=(1, 1), padding=(1, 1), bias=False)\n",
       "        (bn2): BatchNorm2d(256, eps=1e-05, momentum=0.1, affine=True, track_running_stats=True)\n",
       "        (conv3): Conv2d(256, 1024, kernel_size=(1, 1), stride=(1, 1), bias=False)\n",
       "        (bn3): BatchNorm2d(1024, eps=1e-05, momentum=0.1, affine=True, track_running_stats=True)\n",
       "        (relu): ReLU(inplace=True)\n",
       "      )\n",
       "      (2): Bottleneck(\n",
       "        (conv1): Conv2d(1024, 256, kernel_size=(1, 1), stride=(1, 1), bias=False)\n",
       "        (bn1): BatchNorm2d(256, eps=1e-05, momentum=0.1, affine=True, track_running_stats=True)\n",
       "        (conv2): Conv2d(256, 256, kernel_size=(3, 3), stride=(1, 1), padding=(1, 1), bias=False)\n",
       "        (bn2): BatchNorm2d(256, eps=1e-05, momentum=0.1, affine=True, track_running_stats=True)\n",
       "        (conv3): Conv2d(256, 1024, kernel_size=(1, 1), stride=(1, 1), bias=False)\n",
       "        (bn3): BatchNorm2d(1024, eps=1e-05, momentum=0.1, affine=True, track_running_stats=True)\n",
       "        (relu): ReLU(inplace=True)\n",
       "      )\n",
       "      (3): Bottleneck(\n",
       "        (conv1): Conv2d(1024, 256, kernel_size=(1, 1), stride=(1, 1), bias=False)\n",
       "        (bn1): BatchNorm2d(256, eps=1e-05, momentum=0.1, affine=True, track_running_stats=True)\n",
       "        (conv2): Conv2d(256, 256, kernel_size=(3, 3), stride=(1, 1), padding=(1, 1), bias=False)\n",
       "        (bn2): BatchNorm2d(256, eps=1e-05, momentum=0.1, affine=True, track_running_stats=True)\n",
       "        (conv3): Conv2d(256, 1024, kernel_size=(1, 1), stride=(1, 1), bias=False)\n",
       "        (bn3): BatchNorm2d(1024, eps=1e-05, momentum=0.1, affine=True, track_running_stats=True)\n",
       "        (relu): ReLU(inplace=True)\n",
       "      )\n",
       "      (4): Bottleneck(\n",
       "        (conv1): Conv2d(1024, 256, kernel_size=(1, 1), stride=(1, 1), bias=False)\n",
       "        (bn1): BatchNorm2d(256, eps=1e-05, momentum=0.1, affine=True, track_running_stats=True)\n",
       "        (conv2): Conv2d(256, 256, kernel_size=(3, 3), stride=(1, 1), padding=(1, 1), bias=False)\n",
       "        (bn2): BatchNorm2d(256, eps=1e-05, momentum=0.1, affine=True, track_running_stats=True)\n",
       "        (conv3): Conv2d(256, 1024, kernel_size=(1, 1), stride=(1, 1), bias=False)\n",
       "        (bn3): BatchNorm2d(1024, eps=1e-05, momentum=0.1, affine=True, track_running_stats=True)\n",
       "        (relu): ReLU(inplace=True)\n",
       "      )\n",
       "      (5): Bottleneck(\n",
       "        (conv1): Conv2d(1024, 256, kernel_size=(1, 1), stride=(1, 1), bias=False)\n",
       "        (bn1): BatchNorm2d(256, eps=1e-05, momentum=0.1, affine=True, track_running_stats=True)\n",
       "        (conv2): Conv2d(256, 256, kernel_size=(3, 3), stride=(1, 1), padding=(1, 1), bias=False)\n",
       "        (bn2): BatchNorm2d(256, eps=1e-05, momentum=0.1, affine=True, track_running_stats=True)\n",
       "        (conv3): Conv2d(256, 1024, kernel_size=(1, 1), stride=(1, 1), bias=False)\n",
       "        (bn3): BatchNorm2d(1024, eps=1e-05, momentum=0.1, affine=True, track_running_stats=True)\n",
       "        (relu): ReLU(inplace=True)\n",
       "      )\n",
       "    )\n",
       "    (7): Sequential(\n",
       "      (0): Bottleneck(\n",
       "        (conv1): Conv2d(1024, 512, kernel_size=(1, 1), stride=(1, 1), bias=False)\n",
       "        (bn1): BatchNorm2d(512, eps=1e-05, momentum=0.1, affine=True, track_running_stats=True)\n",
       "        (conv2): Conv2d(512, 512, kernel_size=(3, 3), stride=(2, 2), padding=(1, 1), bias=False)\n",
       "        (bn2): BatchNorm2d(512, eps=1e-05, momentum=0.1, affine=True, track_running_stats=True)\n",
       "        (conv3): Conv2d(512, 2048, kernel_size=(1, 1), stride=(1, 1), bias=False)\n",
       "        (bn3): BatchNorm2d(2048, eps=1e-05, momentum=0.1, affine=True, track_running_stats=True)\n",
       "        (relu): ReLU(inplace=True)\n",
       "        (downsample): Sequential(\n",
       "          (0): Conv2d(1024, 2048, kernel_size=(1, 1), stride=(2, 2), bias=False)\n",
       "          (1): BatchNorm2d(2048, eps=1e-05, momentum=0.1, affine=True, track_running_stats=True)\n",
       "        )\n",
       "      )\n",
       "      (1): Bottleneck(\n",
       "        (conv1): Conv2d(2048, 512, kernel_size=(1, 1), stride=(1, 1), bias=False)\n",
       "        (bn1): BatchNorm2d(512, eps=1e-05, momentum=0.1, affine=True, track_running_stats=True)\n",
       "        (conv2): Conv2d(512, 512, kernel_size=(3, 3), stride=(1, 1), padding=(1, 1), bias=False)\n",
       "        (bn2): BatchNorm2d(512, eps=1e-05, momentum=0.1, affine=True, track_running_stats=True)\n",
       "        (conv3): Conv2d(512, 2048, kernel_size=(1, 1), stride=(1, 1), bias=False)\n",
       "        (bn3): BatchNorm2d(2048, eps=1e-05, momentum=0.1, affine=True, track_running_stats=True)\n",
       "        (relu): ReLU(inplace=True)\n",
       "      )\n",
       "      (2): Bottleneck(\n",
       "        (conv1): Conv2d(2048, 512, kernel_size=(1, 1), stride=(1, 1), bias=False)\n",
       "        (bn1): BatchNorm2d(512, eps=1e-05, momentum=0.1, affine=True, track_running_stats=True)\n",
       "        (conv2): Conv2d(512, 512, kernel_size=(3, 3), stride=(1, 1), padding=(1, 1), bias=False)\n",
       "        (bn2): BatchNorm2d(512, eps=1e-05, momentum=0.1, affine=True, track_running_stats=True)\n",
       "        (conv3): Conv2d(512, 2048, kernel_size=(1, 1), stride=(1, 1), bias=False)\n",
       "        (bn3): BatchNorm2d(2048, eps=1e-05, momentum=0.1, affine=True, track_running_stats=True)\n",
       "        (relu): ReLU(inplace=True)\n",
       "      )\n",
       "    )\n",
       "  )\n",
       "  (1): Sequential(\n",
       "    (0): AdaptiveConcatPool2d(\n",
       "      (ap): AdaptiveAvgPool2d(output_size=1)\n",
       "      (mp): AdaptiveMaxPool2d(output_size=1)\n",
       "    )\n",
       "    (1): Flatten()\n",
       "    (2): BatchNorm1d(4096, eps=1e-05, momentum=0.1, affine=True, track_running_stats=True)\n",
       "    (3): Dropout(p=0.25, inplace=False)\n",
       "    (4): Linear(in_features=4096, out_features=512, bias=True)\n",
       "    (5): ReLU(inplace=True)\n",
       "    (6): BatchNorm1d(512, eps=1e-05, momentum=0.1, affine=True, track_running_stats=True)\n",
       "    (7): Dropout(p=0.5, inplace=False)\n",
       "    (8): Linear(in_features=512, out_features=5, bias=True)\n",
       "    (9): BatchNorm1d(5, eps=1e-05, momentum=0.01, affine=True, track_running_stats=True)\n",
       "  )\n",
       "), opt_func=functools.partial(<class 'torch.optim.adam.Adam'>, betas=(0.9, 0.99)), loss_func=FlattenedLoss of CrossEntropyLoss(), metrics=[<function error_rate at 0x7ff5a04229e0>], true_wd=True, bn_wd=True, wd=0.01, train_bn=True, path=PosixPath('data/train/rotated/clipped/reflect/256'), model_dir='models', callback_fns=[functools.partial(<class 'fastai.basic_train.Recorder'>, add_time=True, silent=False)], callbacks=[MixedPrecision\n",
       "learn: ...\n",
       "loss_scale: 131072\n",
       "max_noskip: 1000\n",
       "dynamic: True\n",
       "clip: None\n",
       "flat_master: False\n",
       "max_scale: 16777216\n",
       "loss_fp32: True], layer_groups=[Sequential(\n",
       "  (0): Conv2d(3, 64, kernel_size=(7, 7), stride=(2, 2), padding=(3, 3), bias=False)\n",
       "  (1): BatchNorm2d(64, eps=1e-05, momentum=0.1, affine=True, track_running_stats=True)\n",
       "  (2): ReLU(inplace=True)\n",
       "  (3): MaxPool2d(kernel_size=3, stride=2, padding=1, dilation=1, ceil_mode=False)\n",
       "  (4): Conv2d(64, 64, kernel_size=(1, 1), stride=(1, 1), bias=False)\n",
       "  (5): BatchNorm2d(64, eps=1e-05, momentum=0.1, affine=True, track_running_stats=True)\n",
       "  (6): Conv2d(64, 64, kernel_size=(3, 3), stride=(1, 1), padding=(1, 1), bias=False)\n",
       "  (7): BatchNorm2d(64, eps=1e-05, momentum=0.1, affine=True, track_running_stats=True)\n",
       "  (8): Conv2d(64, 256, kernel_size=(1, 1), stride=(1, 1), bias=False)\n",
       "  (9): BatchNorm2d(256, eps=1e-05, momentum=0.1, affine=True, track_running_stats=True)\n",
       "  (10): ReLU(inplace=True)\n",
       "  (11): Conv2d(64, 256, kernel_size=(1, 1), stride=(1, 1), bias=False)\n",
       "  (12): BatchNorm2d(256, eps=1e-05, momentum=0.1, affine=True, track_running_stats=True)\n",
       "  (13): Conv2d(256, 64, kernel_size=(1, 1), stride=(1, 1), bias=False)\n",
       "  (14): BatchNorm2d(64, eps=1e-05, momentum=0.1, affine=True, track_running_stats=True)\n",
       "  (15): Conv2d(64, 64, kernel_size=(3, 3), stride=(1, 1), padding=(1, 1), bias=False)\n",
       "  (16): BatchNorm2d(64, eps=1e-05, momentum=0.1, affine=True, track_running_stats=True)\n",
       "  (17): Conv2d(64, 256, kernel_size=(1, 1), stride=(1, 1), bias=False)\n",
       "  (18): BatchNorm2d(256, eps=1e-05, momentum=0.1, affine=True, track_running_stats=True)\n",
       "  (19): ReLU(inplace=True)\n",
       "  (20): Conv2d(256, 64, kernel_size=(1, 1), stride=(1, 1), bias=False)\n",
       "  (21): BatchNorm2d(64, eps=1e-05, momentum=0.1, affine=True, track_running_stats=True)\n",
       "  (22): Conv2d(64, 64, kernel_size=(3, 3), stride=(1, 1), padding=(1, 1), bias=False)\n",
       "  (23): BatchNorm2d(64, eps=1e-05, momentum=0.1, affine=True, track_running_stats=True)\n",
       "  (24): Conv2d(64, 256, kernel_size=(1, 1), stride=(1, 1), bias=False)\n",
       "  (25): BatchNorm2d(256, eps=1e-05, momentum=0.1, affine=True, track_running_stats=True)\n",
       "  (26): ReLU(inplace=True)\n",
       "  (27): Conv2d(256, 128, kernel_size=(1, 1), stride=(1, 1), bias=False)\n",
       "  (28): BatchNorm2d(128, eps=1e-05, momentum=0.1, affine=True, track_running_stats=True)\n",
       "  (29): Conv2d(128, 128, kernel_size=(3, 3), stride=(2, 2), padding=(1, 1), bias=False)\n",
       "  (30): BatchNorm2d(128, eps=1e-05, momentum=0.1, affine=True, track_running_stats=True)\n",
       "  (31): Conv2d(128, 512, kernel_size=(1, 1), stride=(1, 1), bias=False)\n",
       "  (32): BatchNorm2d(512, eps=1e-05, momentum=0.1, affine=True, track_running_stats=True)\n",
       "  (33): ReLU(inplace=True)\n",
       "  (34): Conv2d(256, 512, kernel_size=(1, 1), stride=(2, 2), bias=False)\n",
       "  (35): BatchNorm2d(512, eps=1e-05, momentum=0.1, affine=True, track_running_stats=True)\n",
       "  (36): Conv2d(512, 128, kernel_size=(1, 1), stride=(1, 1), bias=False)\n",
       "  (37): BatchNorm2d(128, eps=1e-05, momentum=0.1, affine=True, track_running_stats=True)\n",
       "  (38): Conv2d(128, 128, kernel_size=(3, 3), stride=(1, 1), padding=(1, 1), bias=False)\n",
       "  (39): BatchNorm2d(128, eps=1e-05, momentum=0.1, affine=True, track_running_stats=True)\n",
       "  (40): Conv2d(128, 512, kernel_size=(1, 1), stride=(1, 1), bias=False)\n",
       "  (41): BatchNorm2d(512, eps=1e-05, momentum=0.1, affine=True, track_running_stats=True)\n",
       "  (42): ReLU(inplace=True)\n",
       "  (43): Conv2d(512, 128, kernel_size=(1, 1), stride=(1, 1), bias=False)\n",
       "  (44): BatchNorm2d(128, eps=1e-05, momentum=0.1, affine=True, track_running_stats=True)\n",
       "  (45): Conv2d(128, 128, kernel_size=(3, 3), stride=(1, 1), padding=(1, 1), bias=False)\n",
       "  (46): BatchNorm2d(128, eps=1e-05, momentum=0.1, affine=True, track_running_stats=True)\n",
       "  (47): Conv2d(128, 512, kernel_size=(1, 1), stride=(1, 1), bias=False)\n",
       "  (48): BatchNorm2d(512, eps=1e-05, momentum=0.1, affine=True, track_running_stats=True)\n",
       "  (49): ReLU(inplace=True)\n",
       "  (50): Conv2d(512, 128, kernel_size=(1, 1), stride=(1, 1), bias=False)\n",
       "  (51): BatchNorm2d(128, eps=1e-05, momentum=0.1, affine=True, track_running_stats=True)\n",
       "  (52): Conv2d(128, 128, kernel_size=(3, 3), stride=(1, 1), padding=(1, 1), bias=False)\n",
       "  (53): BatchNorm2d(128, eps=1e-05, momentum=0.1, affine=True, track_running_stats=True)\n",
       "  (54): Conv2d(128, 512, kernel_size=(1, 1), stride=(1, 1), bias=False)\n",
       "  (55): BatchNorm2d(512, eps=1e-05, momentum=0.1, affine=True, track_running_stats=True)\n",
       "  (56): ReLU(inplace=True)\n",
       "), Sequential(\n",
       "  (0): Conv2d(512, 256, kernel_size=(1, 1), stride=(1, 1), bias=False)\n",
       "  (1): BatchNorm2d(256, eps=1e-05, momentum=0.1, affine=True, track_running_stats=True)\n",
       "  (2): Conv2d(256, 256, kernel_size=(3, 3), stride=(2, 2), padding=(1, 1), bias=False)\n",
       "  (3): BatchNorm2d(256, eps=1e-05, momentum=0.1, affine=True, track_running_stats=True)\n",
       "  (4): Conv2d(256, 1024, kernel_size=(1, 1), stride=(1, 1), bias=False)\n",
       "  (5): BatchNorm2d(1024, eps=1e-05, momentum=0.1, affine=True, track_running_stats=True)\n",
       "  (6): ReLU(inplace=True)\n",
       "  (7): Conv2d(512, 1024, kernel_size=(1, 1), stride=(2, 2), bias=False)\n",
       "  (8): BatchNorm2d(1024, eps=1e-05, momentum=0.1, affine=True, track_running_stats=True)\n",
       "  (9): Conv2d(1024, 256, kernel_size=(1, 1), stride=(1, 1), bias=False)\n",
       "  (10): BatchNorm2d(256, eps=1e-05, momentum=0.1, affine=True, track_running_stats=True)\n",
       "  (11): Conv2d(256, 256, kernel_size=(3, 3), stride=(1, 1), padding=(1, 1), bias=False)\n",
       "  (12): BatchNorm2d(256, eps=1e-05, momentum=0.1, affine=True, track_running_stats=True)\n",
       "  (13): Conv2d(256, 1024, kernel_size=(1, 1), stride=(1, 1), bias=False)\n",
       "  (14): BatchNorm2d(1024, eps=1e-05, momentum=0.1, affine=True, track_running_stats=True)\n",
       "  (15): ReLU(inplace=True)\n",
       "  (16): Conv2d(1024, 256, kernel_size=(1, 1), stride=(1, 1), bias=False)\n",
       "  (17): BatchNorm2d(256, eps=1e-05, momentum=0.1, affine=True, track_running_stats=True)\n",
       "  (18): Conv2d(256, 256, kernel_size=(3, 3), stride=(1, 1), padding=(1, 1), bias=False)\n",
       "  (19): BatchNorm2d(256, eps=1e-05, momentum=0.1, affine=True, track_running_stats=True)\n",
       "  (20): Conv2d(256, 1024, kernel_size=(1, 1), stride=(1, 1), bias=False)\n",
       "  (21): BatchNorm2d(1024, eps=1e-05, momentum=0.1, affine=True, track_running_stats=True)\n",
       "  (22): ReLU(inplace=True)\n",
       "  (23): Conv2d(1024, 256, kernel_size=(1, 1), stride=(1, 1), bias=False)\n",
       "  (24): BatchNorm2d(256, eps=1e-05, momentum=0.1, affine=True, track_running_stats=True)\n",
       "  (25): Conv2d(256, 256, kernel_size=(3, 3), stride=(1, 1), padding=(1, 1), bias=False)\n",
       "  (26): BatchNorm2d(256, eps=1e-05, momentum=0.1, affine=True, track_running_stats=True)\n",
       "  (27): Conv2d(256, 1024, kernel_size=(1, 1), stride=(1, 1), bias=False)\n",
       "  (28): BatchNorm2d(1024, eps=1e-05, momentum=0.1, affine=True, track_running_stats=True)\n",
       "  (29): ReLU(inplace=True)\n",
       "  (30): Conv2d(1024, 256, kernel_size=(1, 1), stride=(1, 1), bias=False)\n",
       "  (31): BatchNorm2d(256, eps=1e-05, momentum=0.1, affine=True, track_running_stats=True)\n",
       "  (32): Conv2d(256, 256, kernel_size=(3, 3), stride=(1, 1), padding=(1, 1), bias=False)\n",
       "  (33): BatchNorm2d(256, eps=1e-05, momentum=0.1, affine=True, track_running_stats=True)\n",
       "  (34): Conv2d(256, 1024, kernel_size=(1, 1), stride=(1, 1), bias=False)\n",
       "  (35): BatchNorm2d(1024, eps=1e-05, momentum=0.1, affine=True, track_running_stats=True)\n",
       "  (36): ReLU(inplace=True)\n",
       "  (37): Conv2d(1024, 256, kernel_size=(1, 1), stride=(1, 1), bias=False)\n",
       "  (38): BatchNorm2d(256, eps=1e-05, momentum=0.1, affine=True, track_running_stats=True)\n",
       "  (39): Conv2d(256, 256, kernel_size=(3, 3), stride=(1, 1), padding=(1, 1), bias=False)\n",
       "  (40): BatchNorm2d(256, eps=1e-05, momentum=0.1, affine=True, track_running_stats=True)\n",
       "  (41): Conv2d(256, 1024, kernel_size=(1, 1), stride=(1, 1), bias=False)\n",
       "  (42): BatchNorm2d(1024, eps=1e-05, momentum=0.1, affine=True, track_running_stats=True)\n",
       "  (43): ReLU(inplace=True)\n",
       "  (44): Conv2d(1024, 512, kernel_size=(1, 1), stride=(1, 1), bias=False)\n",
       "  (45): BatchNorm2d(512, eps=1e-05, momentum=0.1, affine=True, track_running_stats=True)\n",
       "  (46): Conv2d(512, 512, kernel_size=(3, 3), stride=(2, 2), padding=(1, 1), bias=False)\n",
       "  (47): BatchNorm2d(512, eps=1e-05, momentum=0.1, affine=True, track_running_stats=True)\n",
       "  (48): Conv2d(512, 2048, kernel_size=(1, 1), stride=(1, 1), bias=False)\n",
       "  (49): BatchNorm2d(2048, eps=1e-05, momentum=0.1, affine=True, track_running_stats=True)\n",
       "  (50): ReLU(inplace=True)\n",
       "  (51): Conv2d(1024, 2048, kernel_size=(1, 1), stride=(2, 2), bias=False)\n",
       "  (52): BatchNorm2d(2048, eps=1e-05, momentum=0.1, affine=True, track_running_stats=True)\n",
       "  (53): Conv2d(2048, 512, kernel_size=(1, 1), stride=(1, 1), bias=False)\n",
       "  (54): BatchNorm2d(512, eps=1e-05, momentum=0.1, affine=True, track_running_stats=True)\n",
       "  (55): Conv2d(512, 512, kernel_size=(3, 3), stride=(1, 1), padding=(1, 1), bias=False)\n",
       "  (56): BatchNorm2d(512, eps=1e-05, momentum=0.1, affine=True, track_running_stats=True)\n",
       "  (57): Conv2d(512, 2048, kernel_size=(1, 1), stride=(1, 1), bias=False)\n",
       "  (58): BatchNorm2d(2048, eps=1e-05, momentum=0.1, affine=True, track_running_stats=True)\n",
       "  (59): ReLU(inplace=True)\n",
       "  (60): Conv2d(2048, 512, kernel_size=(1, 1), stride=(1, 1), bias=False)\n",
       "  (61): BatchNorm2d(512, eps=1e-05, momentum=0.1, affine=True, track_running_stats=True)\n",
       "  (62): Conv2d(512, 512, kernel_size=(3, 3), stride=(1, 1), padding=(1, 1), bias=False)\n",
       "  (63): BatchNorm2d(512, eps=1e-05, momentum=0.1, affine=True, track_running_stats=True)\n",
       "  (64): Conv2d(512, 2048, kernel_size=(1, 1), stride=(1, 1), bias=False)\n",
       "  (65): BatchNorm2d(2048, eps=1e-05, momentum=0.1, affine=True, track_running_stats=True)\n",
       "  (66): ReLU(inplace=True)\n",
       "), Sequential(\n",
       "  (0): AdaptiveAvgPool2d(output_size=1)\n",
       "  (1): AdaptiveMaxPool2d(output_size=1)\n",
       "  (2): Flatten()\n",
       "  (3): BatchNorm1d(4096, eps=1e-05, momentum=0.1, affine=True, track_running_stats=True)\n",
       "  (4): Dropout(p=0.25, inplace=False)\n",
       "  (5): Linear(in_features=4096, out_features=512, bias=True)\n",
       "  (6): ReLU(inplace=True)\n",
       "  (7): BatchNorm1d(512, eps=1e-05, momentum=0.1, affine=True, track_running_stats=True)\n",
       "  (8): Dropout(p=0.5, inplace=False)\n",
       "  (9): Linear(in_features=512, out_features=5, bias=True)\n",
       "  (10): BatchNorm1d(5, eps=1e-05, momentum=0.01, affine=True, track_running_stats=True)\n",
       ")], add_time=True, silent=False)"
      ]
     },
     "execution_count": 79,
     "metadata": {},
     "output_type": "execute_result"
    }
   ],
   "source": [
    "learn.load(f'stage-1-{arch_name}-{NB_NUM}-{MODEL_NAME}-{DATE}-{UID}')"
   ]
  },
  {
   "cell_type": "code",
   "execution_count": 80,
   "metadata": {},
   "outputs": [
    {
     "data": {
      "text/plain": [
       "[('irregular_metal', 'healthy_metal', 273),\n",
       " ('healthy_metal', 'irregular_metal', 121),\n",
       " ('incomplete', 'irregular_metal', 103),\n",
       " ('concrete_cement', 'healthy_metal', 54),\n",
       " ('incomplete', 'concrete_cement', 41),\n",
       " ('other', 'healthy_metal', 33),\n",
       " ('healthy_metal', 'concrete_cement', 28),\n",
       " ('incomplete', 'healthy_metal', 27),\n",
       " ('irregular_metal', 'incomplete', 22),\n",
       " ('other', 'irregular_metal', 16),\n",
       " ('concrete_cement', 'irregular_metal', 14),\n",
       " ('healthy_metal', 'other', 14),\n",
       " ('irregular_metal', 'concrete_cement', 13),\n",
       " ('concrete_cement', 'incomplete', 7),\n",
       " ('healthy_metal', 'incomplete', 7),\n",
       " ('other', 'concrete_cement', 5)]"
      ]
     },
     "execution_count": 80,
     "metadata": {},
     "output_type": "execute_result"
    }
   ],
   "source": [
    "interp = ClassificationInterpretation.from_learner(learn)\n",
    "interp.most_confused(min_val=2)"
   ]
  },
  {
   "cell_type": "code",
   "execution_count": 81,
   "metadata": {},
   "outputs": [
    {
     "data": {
      "image/png": "[encoded data removed]",
      "text/plain": [
       "<Figure size 600x600 with 1 Axes>"
      ]
     },
     "metadata": {
      "needs_background": "light"
     },
     "output_type": "display_data"
    }
   ],
   "source": [
    "interp.plot_confusion_matrix(figsize=(10,10), dpi=60)"
   ]
  },
  {
   "cell_type": "markdown",
   "metadata": {},
   "source": [
    "### Re-train"
   ]
  },
  {
   "cell_type": "code",
   "execution_count": 82,
   "metadata": {},
   "outputs": [],
   "source": [
    "learn.unfreeze()"
   ]
  },
  {
   "cell_type": "code",
   "execution_count": 83,
   "metadata": {},
   "outputs": [
    {
     "data": {
      "text/html": [],
      "text/plain": [
       "<IPython.core.display.HTML object>"
      ]
     },
     "metadata": {},
     "output_type": "display_data"
    },
    {
     "name": "stdout",
     "output_type": "stream",
     "text": [
      "LR Finder is complete, type {learner_name}.recorder.plot() to see the graph.\n"
     ]
    },
    {
     "data": {
      "image/png": "[encoded data removed]",
      "text/plain": [
       "<Figure size 432x288 with 1 Axes>"
      ]
     },
     "metadata": {
      "needs_background": "light"
     },
     "output_type": "display_data"
    }
   ],
   "source": [
    "learn.lr_find()\n",
    "learn.recorder.plot()"
   ]
  },
  {
   "cell_type": "code",
   "execution_count": 84,
   "metadata": {},
   "outputs": [
    {
     "data": {
      "text/html": [
       "<table border=\"1\" class=\"dataframe\">\n",
       "  <thead>\n",
       "    <tr style=\"text-align: left;\">\n",
       "      <th>epoch</th>\n",
       "      <th>train_loss</th>\n",
       "      <th>valid_loss</th>\n",
       "      <th>error_rate</th>\n",
       "      <th>time</th>\n",
       "    </tr>\n",
       "  </thead>\n",
       "  <tbody>\n",
       "    <tr>\n",
       "      <td>0</td>\n",
       "      <td>0.411450</td>\n",
       "      <td>0.379298</td>\n",
       "      <td>0.143118</td>\n",
       "      <td>01:47</td>\n",
       "    </tr>\n",
       "    <tr>\n",
       "      <td>1</td>\n",
       "      <td>0.383190</td>\n",
       "      <td>0.367902</td>\n",
       "      <td>0.142024</td>\n",
       "      <td>01:46</td>\n",
       "    </tr>\n",
       "    <tr>\n",
       "      <td>2</td>\n",
       "      <td>0.327580</td>\n",
       "      <td>0.347963</td>\n",
       "      <td>0.130356</td>\n",
       "      <td>01:49</td>\n",
       "    </tr>\n",
       "    <tr>\n",
       "      <td>3</td>\n",
       "      <td>0.285736</td>\n",
       "      <td>0.325206</td>\n",
       "      <td>0.121604</td>\n",
       "      <td>01:53</td>\n",
       "    </tr>\n",
       "    <tr>\n",
       "      <td>4</td>\n",
       "      <td>0.257935</td>\n",
       "      <td>0.320515</td>\n",
       "      <td>0.119599</td>\n",
       "      <td>02:14</td>\n",
       "    </tr>\n",
       "  </tbody>\n",
       "</table>"
      ],
      "text/plain": [
       "<IPython.core.display.HTML object>"
      ]
     },
     "metadata": {},
     "output_type": "display_data"
    }
   ],
   "source": [
    "learn.fit_one_cycle(5, slice(1e-6, lr/5))"
   ]
  },
  {
   "cell_type": "code",
   "execution_count": 85,
   "metadata": {},
   "outputs": [],
   "source": [
    "learn.save(f'stage-2-{arch_name}-{NB_NUM}-{MODEL_NAME}-{DATE}-{UID}')"
   ]
  },
  {
   "cell_type": "code",
   "execution_count": 90,
   "metadata": {},
   "outputs": [
    {
     "data": {
      "text/plain": [
       "Learner(data=ImageDataBunch;\n",
       "\n",
       "Train: LabelList (21941 items)\n",
       "x: ImageList\n",
       "Image (3, 256, 256),Image (3, 256, 256),Image (3, 256, 256),Image (3, 256, 256),Image (3, 256, 256)\n",
       "y: CategoryList\n",
       "concrete_cement,irregular_metal,healthy_metal,healthy_metal,healthy_metal\n",
       "Path: data/train/rotated/clipped/reflect/256;\n",
       "\n",
       "Valid: LabelList (5485 items)\n",
       "x: ImageList\n",
       "Image (3, 256, 256),Image (3, 256, 256),Image (3, 256, 256),Image (3, 256, 256),Image (3, 256, 256)\n",
       "y: CategoryList\n",
       "healthy_metal,irregular_metal,concrete_cement,healthy_metal,irregular_metal\n",
       "Path: data/train/rotated/clipped/reflect/256;\n",
       "\n",
       "Test: LabelList (0 items)\n",
       "x: ImageList\n",
       "\n",
       "y: EmptyLabelList\n",
       "\n",
       "Path: data/train/rotated/clipped/reflect/256, model=Sequential(\n",
       "  (0): Sequential(\n",
       "    (0): Conv2d(3, 64, kernel_size=(7, 7), stride=(2, 2), padding=(3, 3), bias=False)\n",
       "    (1): BatchNorm2d(64, eps=1e-05, momentum=0.1, affine=True, track_running_stats=True)\n",
       "    (2): ReLU(inplace=True)\n",
       "    (3): MaxPool2d(kernel_size=3, stride=2, padding=1, dilation=1, ceil_mode=False)\n",
       "    (4): Sequential(\n",
       "      (0): Bottleneck(\n",
       "        (conv1): Conv2d(64, 64, kernel_size=(1, 1), stride=(1, 1), bias=False)\n",
       "        (bn1): BatchNorm2d(64, eps=1e-05, momentum=0.1, affine=True, track_running_stats=True)\n",
       "        (conv2): Conv2d(64, 64, kernel_size=(3, 3), stride=(1, 1), padding=(1, 1), bias=False)\n",
       "        (bn2): BatchNorm2d(64, eps=1e-05, momentum=0.1, affine=True, track_running_stats=True)\n",
       "        (conv3): Conv2d(64, 256, kernel_size=(1, 1), stride=(1, 1), bias=False)\n",
       "        (bn3): BatchNorm2d(256, eps=1e-05, momentum=0.1, affine=True, track_running_stats=True)\n",
       "        (relu): ReLU(inplace=True)\n",
       "        (downsample): Sequential(\n",
       "          (0): Conv2d(64, 256, kernel_size=(1, 1), stride=(1, 1), bias=False)\n",
       "          (1): BatchNorm2d(256, eps=1e-05, momentum=0.1, affine=True, track_running_stats=True)\n",
       "        )\n",
       "      )\n",
       "      (1): Bottleneck(\n",
       "        (conv1): Conv2d(256, 64, kernel_size=(1, 1), stride=(1, 1), bias=False)\n",
       "        (bn1): BatchNorm2d(64, eps=1e-05, momentum=0.1, affine=True, track_running_stats=True)\n",
       "        (conv2): Conv2d(64, 64, kernel_size=(3, 3), stride=(1, 1), padding=(1, 1), bias=False)\n",
       "        (bn2): BatchNorm2d(64, eps=1e-05, momentum=0.1, affine=True, track_running_stats=True)\n",
       "        (conv3): Conv2d(64, 256, kernel_size=(1, 1), stride=(1, 1), bias=False)\n",
       "        (bn3): BatchNorm2d(256, eps=1e-05, momentum=0.1, affine=True, track_running_stats=True)\n",
       "        (relu): ReLU(inplace=True)\n",
       "      )\n",
       "      (2): Bottleneck(\n",
       "        (conv1): Conv2d(256, 64, kernel_size=(1, 1), stride=(1, 1), bias=False)\n",
       "        (bn1): BatchNorm2d(64, eps=1e-05, momentum=0.1, affine=True, track_running_stats=True)\n",
       "        (conv2): Conv2d(64, 64, kernel_size=(3, 3), stride=(1, 1), padding=(1, 1), bias=False)\n",
       "        (bn2): BatchNorm2d(64, eps=1e-05, momentum=0.1, affine=True, track_running_stats=True)\n",
       "        (conv3): Conv2d(64, 256, kernel_size=(1, 1), stride=(1, 1), bias=False)\n",
       "        (bn3): BatchNorm2d(256, eps=1e-05, momentum=0.1, affine=True, track_running_stats=True)\n",
       "        (relu): ReLU(inplace=True)\n",
       "      )\n",
       "    )\n",
       "    (5): Sequential(\n",
       "      (0): Bottleneck(\n",
       "        (conv1): Conv2d(256, 128, kernel_size=(1, 1), stride=(1, 1), bias=False)\n",
       "        (bn1): BatchNorm2d(128, eps=1e-05, momentum=0.1, affine=True, track_running_stats=True)\n",
       "        (conv2): Conv2d(128, 128, kernel_size=(3, 3), stride=(2, 2), padding=(1, 1), bias=False)\n",
       "        (bn2): BatchNorm2d(128, eps=1e-05, momentum=0.1, affine=True, track_running_stats=True)\n",
       "        (conv3): Conv2d(128, 512, kernel_size=(1, 1), stride=(1, 1), bias=False)\n",
       "        (bn3): BatchNorm2d(512, eps=1e-05, momentum=0.1, affine=True, track_running_stats=True)\n",
       "        (relu): ReLU(inplace=True)\n",
       "        (downsample): Sequential(\n",
       "          (0): Conv2d(256, 512, kernel_size=(1, 1), stride=(2, 2), bias=False)\n",
       "          (1): BatchNorm2d(512, eps=1e-05, momentum=0.1, affine=True, track_running_stats=True)\n",
       "        )\n",
       "      )\n",
       "      (1): Bottleneck(\n",
       "        (conv1): Conv2d(512, 128, kernel_size=(1, 1), stride=(1, 1), bias=False)\n",
       "        (bn1): BatchNorm2d(128, eps=1e-05, momentum=0.1, affine=True, track_running_stats=True)\n",
       "        (conv2): Conv2d(128, 128, kernel_size=(3, 3), stride=(1, 1), padding=(1, 1), bias=False)\n",
       "        (bn2): BatchNorm2d(128, eps=1e-05, momentum=0.1, affine=True, track_running_stats=True)\n",
       "        (conv3): Conv2d(128, 512, kernel_size=(1, 1), stride=(1, 1), bias=False)\n",
       "        (bn3): BatchNorm2d(512, eps=1e-05, momentum=0.1, affine=True, track_running_stats=True)\n",
       "        (relu): ReLU(inplace=True)\n",
       "      )\n",
       "      (2): Bottleneck(\n",
       "        (conv1): Conv2d(512, 128, kernel_size=(1, 1), stride=(1, 1), bias=False)\n",
       "        (bn1): BatchNorm2d(128, eps=1e-05, momentum=0.1, affine=True, track_running_stats=True)\n",
       "        (conv2): Conv2d(128, 128, kernel_size=(3, 3), stride=(1, 1), padding=(1, 1), bias=False)\n",
       "        (bn2): BatchNorm2d(128, eps=1e-05, momentum=0.1, affine=True, track_running_stats=True)\n",
       "        (conv3): Conv2d(128, 512, kernel_size=(1, 1), stride=(1, 1), bias=False)\n",
       "        (bn3): BatchNorm2d(512, eps=1e-05, momentum=0.1, affine=True, track_running_stats=True)\n",
       "        (relu): ReLU(inplace=True)\n",
       "      )\n",
       "      (3): Bottleneck(\n",
       "        (conv1): Conv2d(512, 128, kernel_size=(1, 1), stride=(1, 1), bias=False)\n",
       "        (bn1): BatchNorm2d(128, eps=1e-05, momentum=0.1, affine=True, track_running_stats=True)\n",
       "        (conv2): Conv2d(128, 128, kernel_size=(3, 3), stride=(1, 1), padding=(1, 1), bias=False)\n",
       "        (bn2): BatchNorm2d(128, eps=1e-05, momentum=0.1, affine=True, track_running_stats=True)\n",
       "        (conv3): Conv2d(128, 512, kernel_size=(1, 1), stride=(1, 1), bias=False)\n",
       "        (bn3): BatchNorm2d(512, eps=1e-05, momentum=0.1, affine=True, track_running_stats=True)\n",
       "        (relu): ReLU(inplace=True)\n",
       "      )\n",
       "    )\n",
       "    (6): Sequential(\n",
       "      (0): Bottleneck(\n",
       "        (conv1): Conv2d(512, 256, kernel_size=(1, 1), stride=(1, 1), bias=False)\n",
       "        (bn1): BatchNorm2d(256, eps=1e-05, momentum=0.1, affine=True, track_running_stats=True)\n",
       "        (conv2): Conv2d(256, 256, kernel_size=(3, 3), stride=(2, 2), padding=(1, 1), bias=False)\n",
       "        (bn2): BatchNorm2d(256, eps=1e-05, momentum=0.1, affine=True, track_running_stats=True)\n",
       "        (conv3): Conv2d(256, 1024, kernel_size=(1, 1), stride=(1, 1), bias=False)\n",
       "        (bn3): BatchNorm2d(1024, eps=1e-05, momentum=0.1, affine=True, track_running_stats=True)\n",
       "        (relu): ReLU(inplace=True)\n",
       "        (downsample): Sequential(\n",
       "          (0): Conv2d(512, 1024, kernel_size=(1, 1), stride=(2, 2), bias=False)\n",
       "          (1): BatchNorm2d(1024, eps=1e-05, momentum=0.1, affine=True, track_running_stats=True)\n",
       "        )\n",
       "      )\n",
       "      (1): Bottleneck(\n",
       "        (conv1): Conv2d(1024, 256, kernel_size=(1, 1), stride=(1, 1), bias=False)\n",
       "        (bn1): BatchNorm2d(256, eps=1e-05, momentum=0.1, affine=True, track_running_stats=True)\n",
       "        (conv2): Conv2d(256, 256, kernel_size=(3, 3), stride=(1, 1), padding=(1, 1), bias=False)\n",
       "        (bn2): BatchNorm2d(256, eps=1e-05, momentum=0.1, affine=True, track_running_stats=True)\n",
       "        (conv3): Conv2d(256, 1024, kernel_size=(1, 1), stride=(1, 1), bias=False)\n",
       "        (bn3): BatchNorm2d(1024, eps=1e-05, momentum=0.1, affine=True, track_running_stats=True)\n",
       "        (relu): ReLU(inplace=True)\n",
       "      )\n",
       "      (2): Bottleneck(\n",
       "        (conv1): Conv2d(1024, 256, kernel_size=(1, 1), stride=(1, 1), bias=False)\n",
       "        (bn1): BatchNorm2d(256, eps=1e-05, momentum=0.1, affine=True, track_running_stats=True)\n",
       "        (conv2): Conv2d(256, 256, kernel_size=(3, 3), stride=(1, 1), padding=(1, 1), bias=False)\n",
       "        (bn2): BatchNorm2d(256, eps=1e-05, momentum=0.1, affine=True, track_running_stats=True)\n",
       "        (conv3): Conv2d(256, 1024, kernel_size=(1, 1), stride=(1, 1), bias=False)\n",
       "        (bn3): BatchNorm2d(1024, eps=1e-05, momentum=0.1, affine=True, track_running_stats=True)\n",
       "        (relu): ReLU(inplace=True)\n",
       "      )\n",
       "      (3): Bottleneck(\n",
       "        (conv1): Conv2d(1024, 256, kernel_size=(1, 1), stride=(1, 1), bias=False)\n",
       "        (bn1): BatchNorm2d(256, eps=1e-05, momentum=0.1, affine=True, track_running_stats=True)\n",
       "        (conv2): Conv2d(256, 256, kernel_size=(3, 3), stride=(1, 1), padding=(1, 1), bias=False)\n",
       "        (bn2): BatchNorm2d(256, eps=1e-05, momentum=0.1, affine=True, track_running_stats=True)\n",
       "        (conv3): Conv2d(256, 1024, kernel_size=(1, 1), stride=(1, 1), bias=False)\n",
       "        (bn3): BatchNorm2d(1024, eps=1e-05, momentum=0.1, affine=True, track_running_stats=True)\n",
       "        (relu): ReLU(inplace=True)\n",
       "      )\n",
       "      (4): Bottleneck(\n",
       "        (conv1): Conv2d(1024, 256, kernel_size=(1, 1), stride=(1, 1), bias=False)\n",
       "        (bn1): BatchNorm2d(256, eps=1e-05, momentum=0.1, affine=True, track_running_stats=True)\n",
       "        (conv2): Conv2d(256, 256, kernel_size=(3, 3), stride=(1, 1), padding=(1, 1), bias=False)\n",
       "        (bn2): BatchNorm2d(256, eps=1e-05, momentum=0.1, affine=True, track_running_stats=True)\n",
       "        (conv3): Conv2d(256, 1024, kernel_size=(1, 1), stride=(1, 1), bias=False)\n",
       "        (bn3): BatchNorm2d(1024, eps=1e-05, momentum=0.1, affine=True, track_running_stats=True)\n",
       "        (relu): ReLU(inplace=True)\n",
       "      )\n",
       "      (5): Bottleneck(\n",
       "        (conv1): Conv2d(1024, 256, kernel_size=(1, 1), stride=(1, 1), bias=False)\n",
       "        (bn1): BatchNorm2d(256, eps=1e-05, momentum=0.1, affine=True, track_running_stats=True)\n",
       "        (conv2): Conv2d(256, 256, kernel_size=(3, 3), stride=(1, 1), padding=(1, 1), bias=False)\n",
       "        (bn2): BatchNorm2d(256, eps=1e-05, momentum=0.1, affine=True, track_running_stats=True)\n",
       "        (conv3): Conv2d(256, 1024, kernel_size=(1, 1), stride=(1, 1), bias=False)\n",
       "        (bn3): BatchNorm2d(1024, eps=1e-05, momentum=0.1, affine=True, track_running_stats=True)\n",
       "        (relu): ReLU(inplace=True)\n",
       "      )\n",
       "    )\n",
       "    (7): Sequential(\n",
       "      (0): Bottleneck(\n",
       "        (conv1): Conv2d(1024, 512, kernel_size=(1, 1), stride=(1, 1), bias=False)\n",
       "        (bn1): BatchNorm2d(512, eps=1e-05, momentum=0.1, affine=True, track_running_stats=True)\n",
       "        (conv2): Conv2d(512, 512, kernel_size=(3, 3), stride=(2, 2), padding=(1, 1), bias=False)\n",
       "        (bn2): BatchNorm2d(512, eps=1e-05, momentum=0.1, affine=True, track_running_stats=True)\n",
       "        (conv3): Conv2d(512, 2048, kernel_size=(1, 1), stride=(1, 1), bias=False)\n",
       "        (bn3): BatchNorm2d(2048, eps=1e-05, momentum=0.1, affine=True, track_running_stats=True)\n",
       "        (relu): ReLU(inplace=True)\n",
       "        (downsample): Sequential(\n",
       "          (0): Conv2d(1024, 2048, kernel_size=(1, 1), stride=(2, 2), bias=False)\n",
       "          (1): BatchNorm2d(2048, eps=1e-05, momentum=0.1, affine=True, track_running_stats=True)\n",
       "        )\n",
       "      )\n",
       "      (1): Bottleneck(\n",
       "        (conv1): Conv2d(2048, 512, kernel_size=(1, 1), stride=(1, 1), bias=False)\n",
       "        (bn1): BatchNorm2d(512, eps=1e-05, momentum=0.1, affine=True, track_running_stats=True)\n",
       "        (conv2): Conv2d(512, 512, kernel_size=(3, 3), stride=(1, 1), padding=(1, 1), bias=False)\n",
       "        (bn2): BatchNorm2d(512, eps=1e-05, momentum=0.1, affine=True, track_running_stats=True)\n",
       "        (conv3): Conv2d(512, 2048, kernel_size=(1, 1), stride=(1, 1), bias=False)\n",
       "        (bn3): BatchNorm2d(2048, eps=1e-05, momentum=0.1, affine=True, track_running_stats=True)\n",
       "        (relu): ReLU(inplace=True)\n",
       "      )\n",
       "      (2): Bottleneck(\n",
       "        (conv1): Conv2d(2048, 512, kernel_size=(1, 1), stride=(1, 1), bias=False)\n",
       "        (bn1): BatchNorm2d(512, eps=1e-05, momentum=0.1, affine=True, track_running_stats=True)\n",
       "        (conv2): Conv2d(512, 512, kernel_size=(3, 3), stride=(1, 1), padding=(1, 1), bias=False)\n",
       "        (bn2): BatchNorm2d(512, eps=1e-05, momentum=0.1, affine=True, track_running_stats=True)\n",
       "        (conv3): Conv2d(512, 2048, kernel_size=(1, 1), stride=(1, 1), bias=False)\n",
       "        (bn3): BatchNorm2d(2048, eps=1e-05, momentum=0.1, affine=True, track_running_stats=True)\n",
       "        (relu): ReLU(inplace=True)\n",
       "      )\n",
       "    )\n",
       "  )\n",
       "  (1): Sequential(\n",
       "    (0): AdaptiveConcatPool2d(\n",
       "      (ap): AdaptiveAvgPool2d(output_size=1)\n",
       "      (mp): AdaptiveMaxPool2d(output_size=1)\n",
       "    )\n",
       "    (1): Flatten()\n",
       "    (2): BatchNorm1d(4096, eps=1e-05, momentum=0.1, affine=True, track_running_stats=True)\n",
       "    (3): Dropout(p=0.25, inplace=False)\n",
       "    (4): Linear(in_features=4096, out_features=512, bias=True)\n",
       "    (5): ReLU(inplace=True)\n",
       "    (6): BatchNorm1d(512, eps=1e-05, momentum=0.1, affine=True, track_running_stats=True)\n",
       "    (7): Dropout(p=0.5, inplace=False)\n",
       "    (8): Linear(in_features=512, out_features=5, bias=True)\n",
       "    (9): BatchNorm1d(5, eps=1e-05, momentum=0.01, affine=True, track_running_stats=True)\n",
       "  )\n",
       "), opt_func=functools.partial(<class 'torch.optim.adam.Adam'>, betas=(0.9, 0.99)), loss_func=FlattenedLoss of CrossEntropyLoss(), metrics=[<function error_rate at 0x7ff5a04229e0>], true_wd=True, bn_wd=True, wd=0.01, train_bn=True, path=PosixPath('data/train/rotated/clipped/reflect/256'), model_dir='models', callback_fns=[functools.partial(<class 'fastai.basic_train.Recorder'>, add_time=True, silent=False)], callbacks=[MixedPrecision\n",
       "learn: ...\n",
       "loss_scale: 8192.0\n",
       "max_noskip: 1000\n",
       "dynamic: True\n",
       "clip: None\n",
       "flat_master: False\n",
       "max_scale: 16777216\n",
       "loss_fp32: True], layer_groups=[Sequential(\n",
       "  (0): Conv2d(3, 64, kernel_size=(7, 7), stride=(2, 2), padding=(3, 3), bias=False)\n",
       "  (1): BatchNorm2d(64, eps=1e-05, momentum=0.1, affine=True, track_running_stats=True)\n",
       "  (2): ReLU(inplace=True)\n",
       "  (3): MaxPool2d(kernel_size=3, stride=2, padding=1, dilation=1, ceil_mode=False)\n",
       "  (4): Conv2d(64, 64, kernel_size=(1, 1), stride=(1, 1), bias=False)\n",
       "  (5): BatchNorm2d(64, eps=1e-05, momentum=0.1, affine=True, track_running_stats=True)\n",
       "  (6): Conv2d(64, 64, kernel_size=(3, 3), stride=(1, 1), padding=(1, 1), bias=False)\n",
       "  (7): BatchNorm2d(64, eps=1e-05, momentum=0.1, affine=True, track_running_stats=True)\n",
       "  (8): Conv2d(64, 256, kernel_size=(1, 1), stride=(1, 1), bias=False)\n",
       "  (9): BatchNorm2d(256, eps=1e-05, momentum=0.1, affine=True, track_running_stats=True)\n",
       "  (10): ReLU(inplace=True)\n",
       "  (11): Conv2d(64, 256, kernel_size=(1, 1), stride=(1, 1), bias=False)\n",
       "  (12): BatchNorm2d(256, eps=1e-05, momentum=0.1, affine=True, track_running_stats=True)\n",
       "  (13): Conv2d(256, 64, kernel_size=(1, 1), stride=(1, 1), bias=False)\n",
       "  (14): BatchNorm2d(64, eps=1e-05, momentum=0.1, affine=True, track_running_stats=True)\n",
       "  (15): Conv2d(64, 64, kernel_size=(3, 3), stride=(1, 1), padding=(1, 1), bias=False)\n",
       "  (16): BatchNorm2d(64, eps=1e-05, momentum=0.1, affine=True, track_running_stats=True)\n",
       "  (17): Conv2d(64, 256, kernel_size=(1, 1), stride=(1, 1), bias=False)\n",
       "  (18): BatchNorm2d(256, eps=1e-05, momentum=0.1, affine=True, track_running_stats=True)\n",
       "  (19): ReLU(inplace=True)\n",
       "  (20): Conv2d(256, 64, kernel_size=(1, 1), stride=(1, 1), bias=False)\n",
       "  (21): BatchNorm2d(64, eps=1e-05, momentum=0.1, affine=True, track_running_stats=True)\n",
       "  (22): Conv2d(64, 64, kernel_size=(3, 3), stride=(1, 1), padding=(1, 1), bias=False)\n",
       "  (23): BatchNorm2d(64, eps=1e-05, momentum=0.1, affine=True, track_running_stats=True)\n",
       "  (24): Conv2d(64, 256, kernel_size=(1, 1), stride=(1, 1), bias=False)\n",
       "  (25): BatchNorm2d(256, eps=1e-05, momentum=0.1, affine=True, track_running_stats=True)\n",
       "  (26): ReLU(inplace=True)\n",
       "  (27): Conv2d(256, 128, kernel_size=(1, 1), stride=(1, 1), bias=False)\n",
       "  (28): BatchNorm2d(128, eps=1e-05, momentum=0.1, affine=True, track_running_stats=True)\n",
       "  (29): Conv2d(128, 128, kernel_size=(3, 3), stride=(2, 2), padding=(1, 1), bias=False)\n",
       "  (30): BatchNorm2d(128, eps=1e-05, momentum=0.1, affine=True, track_running_stats=True)\n",
       "  (31): Conv2d(128, 512, kernel_size=(1, 1), stride=(1, 1), bias=False)\n",
       "  (32): BatchNorm2d(512, eps=1e-05, momentum=0.1, affine=True, track_running_stats=True)\n",
       "  (33): ReLU(inplace=True)\n",
       "  (34): Conv2d(256, 512, kernel_size=(1, 1), stride=(2, 2), bias=False)\n",
       "  (35): BatchNorm2d(512, eps=1e-05, momentum=0.1, affine=True, track_running_stats=True)\n",
       "  (36): Conv2d(512, 128, kernel_size=(1, 1), stride=(1, 1), bias=False)\n",
       "  (37): BatchNorm2d(128, eps=1e-05, momentum=0.1, affine=True, track_running_stats=True)\n",
       "  (38): Conv2d(128, 128, kernel_size=(3, 3), stride=(1, 1), padding=(1, 1), bias=False)\n",
       "  (39): BatchNorm2d(128, eps=1e-05, momentum=0.1, affine=True, track_running_stats=True)\n",
       "  (40): Conv2d(128, 512, kernel_size=(1, 1), stride=(1, 1), bias=False)\n",
       "  (41): BatchNorm2d(512, eps=1e-05, momentum=0.1, affine=True, track_running_stats=True)\n",
       "  (42): ReLU(inplace=True)\n",
       "  (43): Conv2d(512, 128, kernel_size=(1, 1), stride=(1, 1), bias=False)\n",
       "  (44): BatchNorm2d(128, eps=1e-05, momentum=0.1, affine=True, track_running_stats=True)\n",
       "  (45): Conv2d(128, 128, kernel_size=(3, 3), stride=(1, 1), padding=(1, 1), bias=False)\n",
       "  (46): BatchNorm2d(128, eps=1e-05, momentum=0.1, affine=True, track_running_stats=True)\n",
       "  (47): Conv2d(128, 512, kernel_size=(1, 1), stride=(1, 1), bias=False)\n",
       "  (48): BatchNorm2d(512, eps=1e-05, momentum=0.1, affine=True, track_running_stats=True)\n",
       "  (49): ReLU(inplace=True)\n",
       "  (50): Conv2d(512, 128, kernel_size=(1, 1), stride=(1, 1), bias=False)\n",
       "  (51): BatchNorm2d(128, eps=1e-05, momentum=0.1, affine=True, track_running_stats=True)\n",
       "  (52): Conv2d(128, 128, kernel_size=(3, 3), stride=(1, 1), padding=(1, 1), bias=False)\n",
       "  (53): BatchNorm2d(128, eps=1e-05, momentum=0.1, affine=True, track_running_stats=True)\n",
       "  (54): Conv2d(128, 512, kernel_size=(1, 1), stride=(1, 1), bias=False)\n",
       "  (55): BatchNorm2d(512, eps=1e-05, momentum=0.1, affine=True, track_running_stats=True)\n",
       "  (56): ReLU(inplace=True)\n",
       "), Sequential(\n",
       "  (0): Conv2d(512, 256, kernel_size=(1, 1), stride=(1, 1), bias=False)\n",
       "  (1): BatchNorm2d(256, eps=1e-05, momentum=0.1, affine=True, track_running_stats=True)\n",
       "  (2): Conv2d(256, 256, kernel_size=(3, 3), stride=(2, 2), padding=(1, 1), bias=False)\n",
       "  (3): BatchNorm2d(256, eps=1e-05, momentum=0.1, affine=True, track_running_stats=True)\n",
       "  (4): Conv2d(256, 1024, kernel_size=(1, 1), stride=(1, 1), bias=False)\n",
       "  (5): BatchNorm2d(1024, eps=1e-05, momentum=0.1, affine=True, track_running_stats=True)\n",
       "  (6): ReLU(inplace=True)\n",
       "  (7): Conv2d(512, 1024, kernel_size=(1, 1), stride=(2, 2), bias=False)\n",
       "  (8): BatchNorm2d(1024, eps=1e-05, momentum=0.1, affine=True, track_running_stats=True)\n",
       "  (9): Conv2d(1024, 256, kernel_size=(1, 1), stride=(1, 1), bias=False)\n",
       "  (10): BatchNorm2d(256, eps=1e-05, momentum=0.1, affine=True, track_running_stats=True)\n",
       "  (11): Conv2d(256, 256, kernel_size=(3, 3), stride=(1, 1), padding=(1, 1), bias=False)\n",
       "  (12): BatchNorm2d(256, eps=1e-05, momentum=0.1, affine=True, track_running_stats=True)\n",
       "  (13): Conv2d(256, 1024, kernel_size=(1, 1), stride=(1, 1), bias=False)\n",
       "  (14): BatchNorm2d(1024, eps=1e-05, momentum=0.1, affine=True, track_running_stats=True)\n",
       "  (15): ReLU(inplace=True)\n",
       "  (16): Conv2d(1024, 256, kernel_size=(1, 1), stride=(1, 1), bias=False)\n",
       "  (17): BatchNorm2d(256, eps=1e-05, momentum=0.1, affine=True, track_running_stats=True)\n",
       "  (18): Conv2d(256, 256, kernel_size=(3, 3), stride=(1, 1), padding=(1, 1), bias=False)\n",
       "  (19): BatchNorm2d(256, eps=1e-05, momentum=0.1, affine=True, track_running_stats=True)\n",
       "  (20): Conv2d(256, 1024, kernel_size=(1, 1), stride=(1, 1), bias=False)\n",
       "  (21): BatchNorm2d(1024, eps=1e-05, momentum=0.1, affine=True, track_running_stats=True)\n",
       "  (22): ReLU(inplace=True)\n",
       "  (23): Conv2d(1024, 256, kernel_size=(1, 1), stride=(1, 1), bias=False)\n",
       "  (24): BatchNorm2d(256, eps=1e-05, momentum=0.1, affine=True, track_running_stats=True)\n",
       "  (25): Conv2d(256, 256, kernel_size=(3, 3), stride=(1, 1), padding=(1, 1), bias=False)\n",
       "  (26): BatchNorm2d(256, eps=1e-05, momentum=0.1, affine=True, track_running_stats=True)\n",
       "  (27): Conv2d(256, 1024, kernel_size=(1, 1), stride=(1, 1), bias=False)\n",
       "  (28): BatchNorm2d(1024, eps=1e-05, momentum=0.1, affine=True, track_running_stats=True)\n",
       "  (29): ReLU(inplace=True)\n",
       "  (30): Conv2d(1024, 256, kernel_size=(1, 1), stride=(1, 1), bias=False)\n",
       "  (31): BatchNorm2d(256, eps=1e-05, momentum=0.1, affine=True, track_running_stats=True)\n",
       "  (32): Conv2d(256, 256, kernel_size=(3, 3), stride=(1, 1), padding=(1, 1), bias=False)\n",
       "  (33): BatchNorm2d(256, eps=1e-05, momentum=0.1, affine=True, track_running_stats=True)\n",
       "  (34): Conv2d(256, 1024, kernel_size=(1, 1), stride=(1, 1), bias=False)\n",
       "  (35): BatchNorm2d(1024, eps=1e-05, momentum=0.1, affine=True, track_running_stats=True)\n",
       "  (36): ReLU(inplace=True)\n",
       "  (37): Conv2d(1024, 256, kernel_size=(1, 1), stride=(1, 1), bias=False)\n",
       "  (38): BatchNorm2d(256, eps=1e-05, momentum=0.1, affine=True, track_running_stats=True)\n",
       "  (39): Conv2d(256, 256, kernel_size=(3, 3), stride=(1, 1), padding=(1, 1), bias=False)\n",
       "  (40): BatchNorm2d(256, eps=1e-05, momentum=0.1, affine=True, track_running_stats=True)\n",
       "  (41): Conv2d(256, 1024, kernel_size=(1, 1), stride=(1, 1), bias=False)\n",
       "  (42): BatchNorm2d(1024, eps=1e-05, momentum=0.1, affine=True, track_running_stats=True)\n",
       "  (43): ReLU(inplace=True)\n",
       "  (44): Conv2d(1024, 512, kernel_size=(1, 1), stride=(1, 1), bias=False)\n",
       "  (45): BatchNorm2d(512, eps=1e-05, momentum=0.1, affine=True, track_running_stats=True)\n",
       "  (46): Conv2d(512, 512, kernel_size=(3, 3), stride=(2, 2), padding=(1, 1), bias=False)\n",
       "  (47): BatchNorm2d(512, eps=1e-05, momentum=0.1, affine=True, track_running_stats=True)\n",
       "  (48): Conv2d(512, 2048, kernel_size=(1, 1), stride=(1, 1), bias=False)\n",
       "  (49): BatchNorm2d(2048, eps=1e-05, momentum=0.1, affine=True, track_running_stats=True)\n",
       "  (50): ReLU(inplace=True)\n",
       "  (51): Conv2d(1024, 2048, kernel_size=(1, 1), stride=(2, 2), bias=False)\n",
       "  (52): BatchNorm2d(2048, eps=1e-05, momentum=0.1, affine=True, track_running_stats=True)\n",
       "  (53): Conv2d(2048, 512, kernel_size=(1, 1), stride=(1, 1), bias=False)\n",
       "  (54): BatchNorm2d(512, eps=1e-05, momentum=0.1, affine=True, track_running_stats=True)\n",
       "  (55): Conv2d(512, 512, kernel_size=(3, 3), stride=(1, 1), padding=(1, 1), bias=False)\n",
       "  (56): BatchNorm2d(512, eps=1e-05, momentum=0.1, affine=True, track_running_stats=True)\n",
       "  (57): Conv2d(512, 2048, kernel_size=(1, 1), stride=(1, 1), bias=False)\n",
       "  (58): BatchNorm2d(2048, eps=1e-05, momentum=0.1, affine=True, track_running_stats=True)\n",
       "  (59): ReLU(inplace=True)\n",
       "  (60): Conv2d(2048, 512, kernel_size=(1, 1), stride=(1, 1), bias=False)\n",
       "  (61): BatchNorm2d(512, eps=1e-05, momentum=0.1, affine=True, track_running_stats=True)\n",
       "  (62): Conv2d(512, 512, kernel_size=(3, 3), stride=(1, 1), padding=(1, 1), bias=False)\n",
       "  (63): BatchNorm2d(512, eps=1e-05, momentum=0.1, affine=True, track_running_stats=True)\n",
       "  (64): Conv2d(512, 2048, kernel_size=(1, 1), stride=(1, 1), bias=False)\n",
       "  (65): BatchNorm2d(2048, eps=1e-05, momentum=0.1, affine=True, track_running_stats=True)\n",
       "  (66): ReLU(inplace=True)\n",
       "), Sequential(\n",
       "  (0): AdaptiveAvgPool2d(output_size=1)\n",
       "  (1): AdaptiveMaxPool2d(output_size=1)\n",
       "  (2): Flatten()\n",
       "  (3): BatchNorm1d(4096, eps=1e-05, momentum=0.1, affine=True, track_running_stats=True)\n",
       "  (4): Dropout(p=0.25, inplace=False)\n",
       "  (5): Linear(in_features=4096, out_features=512, bias=True)\n",
       "  (6): ReLU(inplace=True)\n",
       "  (7): BatchNorm1d(512, eps=1e-05, momentum=0.1, affine=True, track_running_stats=True)\n",
       "  (8): Dropout(p=0.5, inplace=False)\n",
       "  (9): Linear(in_features=512, out_features=5, bias=True)\n",
       "  (10): BatchNorm1d(5, eps=1e-05, momentum=0.01, affine=True, track_running_stats=True)\n",
       ")], add_time=True, silent=False)"
      ]
     },
     "execution_count": 90,
     "metadata": {},
     "output_type": "execute_result"
    }
   ],
   "source": [
    "learn.load(f'stage-2-{arch_name}-{NB_NUM}-{MODEL_NAME}-{DATE}-{UID}')"
   ]
  },
  {
   "cell_type": "code",
   "execution_count": 91,
   "metadata": {},
   "outputs": [
    {
     "data": {
      "text/html": [
       "<table border=\"1\" class=\"dataframe\">\n",
       "  <thead>\n",
       "    <tr style=\"text-align: left;\">\n",
       "      <th>epoch</th>\n",
       "      <th>train_loss</th>\n",
       "      <th>valid_loss</th>\n",
       "      <th>error_rate</th>\n",
       "      <th>time</th>\n",
       "    </tr>\n",
       "  </thead>\n",
       "  <tbody>\n",
       "    <tr>\n",
       "      <td>0</td>\n",
       "      <td>0.260303</td>\n",
       "      <td>0.341357</td>\n",
       "      <td>0.126527</td>\n",
       "      <td>02:03</td>\n",
       "    </tr>\n",
       "    <tr>\n",
       "      <td>1</td>\n",
       "      <td>0.291511</td>\n",
       "      <td>0.335999</td>\n",
       "      <td>0.126345</td>\n",
       "      <td>02:04</td>\n",
       "    </tr>\n",
       "    <tr>\n",
       "      <td>2</td>\n",
       "      <td>0.259632</td>\n",
       "      <td>0.321617</td>\n",
       "      <td>0.122151</td>\n",
       "      <td>01:50</td>\n",
       "    </tr>\n",
       "    <tr>\n",
       "      <td>3</td>\n",
       "      <td>0.190422</td>\n",
       "      <td>0.299595</td>\n",
       "      <td>0.110119</td>\n",
       "      <td>01:47</td>\n",
       "    </tr>\n",
       "    <tr>\n",
       "      <td>4</td>\n",
       "      <td>0.174454</td>\n",
       "      <td>0.300714</td>\n",
       "      <td>0.109389</td>\n",
       "      <td>01:46</td>\n",
       "    </tr>\n",
       "  </tbody>\n",
       "</table>"
      ],
      "text/plain": [
       "<IPython.core.display.HTML object>"
      ]
     },
     "metadata": {},
     "output_type": "display_data"
    }
   ],
   "source": [
    "learn.fit_one_cycle(5, slice(1e-6, lr/5))"
   ]
  },
  {
   "cell_type": "code",
   "execution_count": 92,
   "metadata": {},
   "outputs": [
    {
     "data": {
      "image/png": "[encoded data removed]",
      "text/plain": [
       "<Figure size 432x288 with 1 Axes>"
      ]
     },
     "metadata": {
      "needs_background": "light"
     },
     "output_type": "display_data"
    }
   ],
   "source": [
    "learn.recorder.plot_losses()"
   ]
  },
  {
   "cell_type": "code",
   "execution_count": 93,
   "metadata": {},
   "outputs": [],
   "source": [
    "learn.save(f'stage-2_1-{arch_name}-{NB_NUM}-{MODEL_NAME}-{DATE}-{UID}')"
   ]
  },
  {
   "cell_type": "markdown",
   "metadata": {},
   "source": [
    "### fp32"
   ]
  },
  {
   "cell_type": "code",
   "execution_count": 94,
   "metadata": {},
   "outputs": [
    {
     "data": {
      "text/plain": [
       "Learner(data=ImageDataBunch;\n",
       "\n",
       "Train: LabelList (21941 items)\n",
       "x: ImageList\n",
       "Image (3, 256, 256),Image (3, 256, 256),Image (3, 256, 256),Image (3, 256, 256),Image (3, 256, 256)\n",
       "y: CategoryList\n",
       "concrete_cement,irregular_metal,healthy_metal,healthy_metal,healthy_metal\n",
       "Path: data/train/rotated/clipped/reflect/256;\n",
       "\n",
       "Valid: LabelList (5485 items)\n",
       "x: ImageList\n",
       "Image (3, 256, 256),Image (3, 256, 256),Image (3, 256, 256),Image (3, 256, 256),Image (3, 256, 256)\n",
       "y: CategoryList\n",
       "healthy_metal,irregular_metal,concrete_cement,healthy_metal,irregular_metal\n",
       "Path: data/train/rotated/clipped/reflect/256;\n",
       "\n",
       "Test: LabelList (0 items)\n",
       "x: ImageList\n",
       "\n",
       "y: EmptyLabelList\n",
       "\n",
       "Path: data/train/rotated/clipped/reflect/256, model=Sequential(\n",
       "  (0): Sequential(\n",
       "    (0): Conv2d(3, 64, kernel_size=(7, 7), stride=(2, 2), padding=(3, 3), bias=False)\n",
       "    (1): BatchNorm2d(64, eps=1e-05, momentum=0.1, affine=True, track_running_stats=True)\n",
       "    (2): ReLU(inplace=True)\n",
       "    (3): MaxPool2d(kernel_size=3, stride=2, padding=1, dilation=1, ceil_mode=False)\n",
       "    (4): Sequential(\n",
       "      (0): Bottleneck(\n",
       "        (conv1): Conv2d(64, 64, kernel_size=(1, 1), stride=(1, 1), bias=False)\n",
       "        (bn1): BatchNorm2d(64, eps=1e-05, momentum=0.1, affine=True, track_running_stats=True)\n",
       "        (conv2): Conv2d(64, 64, kernel_size=(3, 3), stride=(1, 1), padding=(1, 1), bias=False)\n",
       "        (bn2): BatchNorm2d(64, eps=1e-05, momentum=0.1, affine=True, track_running_stats=True)\n",
       "        (conv3): Conv2d(64, 256, kernel_size=(1, 1), stride=(1, 1), bias=False)\n",
       "        (bn3): BatchNorm2d(256, eps=1e-05, momentum=0.1, affine=True, track_running_stats=True)\n",
       "        (relu): ReLU(inplace=True)\n",
       "        (downsample): Sequential(\n",
       "          (0): Conv2d(64, 256, kernel_size=(1, 1), stride=(1, 1), bias=False)\n",
       "          (1): BatchNorm2d(256, eps=1e-05, momentum=0.1, affine=True, track_running_stats=True)\n",
       "        )\n",
       "      )\n",
       "      (1): Bottleneck(\n",
       "        (conv1): Conv2d(256, 64, kernel_size=(1, 1), stride=(1, 1), bias=False)\n",
       "        (bn1): BatchNorm2d(64, eps=1e-05, momentum=0.1, affine=True, track_running_stats=True)\n",
       "        (conv2): Conv2d(64, 64, kernel_size=(3, 3), stride=(1, 1), padding=(1, 1), bias=False)\n",
       "        (bn2): BatchNorm2d(64, eps=1e-05, momentum=0.1, affine=True, track_running_stats=True)\n",
       "        (conv3): Conv2d(64, 256, kernel_size=(1, 1), stride=(1, 1), bias=False)\n",
       "        (bn3): BatchNorm2d(256, eps=1e-05, momentum=0.1, affine=True, track_running_stats=True)\n",
       "        (relu): ReLU(inplace=True)\n",
       "      )\n",
       "      (2): Bottleneck(\n",
       "        (conv1): Conv2d(256, 64, kernel_size=(1, 1), stride=(1, 1), bias=False)\n",
       "        (bn1): BatchNorm2d(64, eps=1e-05, momentum=0.1, affine=True, track_running_stats=True)\n",
       "        (conv2): Conv2d(64, 64, kernel_size=(3, 3), stride=(1, 1), padding=(1, 1), bias=False)\n",
       "        (bn2): BatchNorm2d(64, eps=1e-05, momentum=0.1, affine=True, track_running_stats=True)\n",
       "        (conv3): Conv2d(64, 256, kernel_size=(1, 1), stride=(1, 1), bias=False)\n",
       "        (bn3): BatchNorm2d(256, eps=1e-05, momentum=0.1, affine=True, track_running_stats=True)\n",
       "        (relu): ReLU(inplace=True)\n",
       "      )\n",
       "    )\n",
       "    (5): Sequential(\n",
       "      (0): Bottleneck(\n",
       "        (conv1): Conv2d(256, 128, kernel_size=(1, 1), stride=(1, 1), bias=False)\n",
       "        (bn1): BatchNorm2d(128, eps=1e-05, momentum=0.1, affine=True, track_running_stats=True)\n",
       "        (conv2): Conv2d(128, 128, kernel_size=(3, 3), stride=(2, 2), padding=(1, 1), bias=False)\n",
       "        (bn2): BatchNorm2d(128, eps=1e-05, momentum=0.1, affine=True, track_running_stats=True)\n",
       "        (conv3): Conv2d(128, 512, kernel_size=(1, 1), stride=(1, 1), bias=False)\n",
       "        (bn3): BatchNorm2d(512, eps=1e-05, momentum=0.1, affine=True, track_running_stats=True)\n",
       "        (relu): ReLU(inplace=True)\n",
       "        (downsample): Sequential(\n",
       "          (0): Conv2d(256, 512, kernel_size=(1, 1), stride=(2, 2), bias=False)\n",
       "          (1): BatchNorm2d(512, eps=1e-05, momentum=0.1, affine=True, track_running_stats=True)\n",
       "        )\n",
       "      )\n",
       "      (1): Bottleneck(\n",
       "        (conv1): Conv2d(512, 128, kernel_size=(1, 1), stride=(1, 1), bias=False)\n",
       "        (bn1): BatchNorm2d(128, eps=1e-05, momentum=0.1, affine=True, track_running_stats=True)\n",
       "        (conv2): Conv2d(128, 128, kernel_size=(3, 3), stride=(1, 1), padding=(1, 1), bias=False)\n",
       "        (bn2): BatchNorm2d(128, eps=1e-05, momentum=0.1, affine=True, track_running_stats=True)\n",
       "        (conv3): Conv2d(128, 512, kernel_size=(1, 1), stride=(1, 1), bias=False)\n",
       "        (bn3): BatchNorm2d(512, eps=1e-05, momentum=0.1, affine=True, track_running_stats=True)\n",
       "        (relu): ReLU(inplace=True)\n",
       "      )\n",
       "      (2): Bottleneck(\n",
       "        (conv1): Conv2d(512, 128, kernel_size=(1, 1), stride=(1, 1), bias=False)\n",
       "        (bn1): BatchNorm2d(128, eps=1e-05, momentum=0.1, affine=True, track_running_stats=True)\n",
       "        (conv2): Conv2d(128, 128, kernel_size=(3, 3), stride=(1, 1), padding=(1, 1), bias=False)\n",
       "        (bn2): BatchNorm2d(128, eps=1e-05, momentum=0.1, affine=True, track_running_stats=True)\n",
       "        (conv3): Conv2d(128, 512, kernel_size=(1, 1), stride=(1, 1), bias=False)\n",
       "        (bn3): BatchNorm2d(512, eps=1e-05, momentum=0.1, affine=True, track_running_stats=True)\n",
       "        (relu): ReLU(inplace=True)\n",
       "      )\n",
       "      (3): Bottleneck(\n",
       "        (conv1): Conv2d(512, 128, kernel_size=(1, 1), stride=(1, 1), bias=False)\n",
       "        (bn1): BatchNorm2d(128, eps=1e-05, momentum=0.1, affine=True, track_running_stats=True)\n",
       "        (conv2): Conv2d(128, 128, kernel_size=(3, 3), stride=(1, 1), padding=(1, 1), bias=False)\n",
       "        (bn2): BatchNorm2d(128, eps=1e-05, momentum=0.1, affine=True, track_running_stats=True)\n",
       "        (conv3): Conv2d(128, 512, kernel_size=(1, 1), stride=(1, 1), bias=False)\n",
       "        (bn3): BatchNorm2d(512, eps=1e-05, momentum=0.1, affine=True, track_running_stats=True)\n",
       "        (relu): ReLU(inplace=True)\n",
       "      )\n",
       "    )\n",
       "    (6): Sequential(\n",
       "      (0): Bottleneck(\n",
       "        (conv1): Conv2d(512, 256, kernel_size=(1, 1), stride=(1, 1), bias=False)\n",
       "        (bn1): BatchNorm2d(256, eps=1e-05, momentum=0.1, affine=True, track_running_stats=True)\n",
       "        (conv2): Conv2d(256, 256, kernel_size=(3, 3), stride=(2, 2), padding=(1, 1), bias=False)\n",
       "        (bn2): BatchNorm2d(256, eps=1e-05, momentum=0.1, affine=True, track_running_stats=True)\n",
       "        (conv3): Conv2d(256, 1024, kernel_size=(1, 1), stride=(1, 1), bias=False)\n",
       "        (bn3): BatchNorm2d(1024, eps=1e-05, momentum=0.1, affine=True, track_running_stats=True)\n",
       "        (relu): ReLU(inplace=True)\n",
       "        (downsample): Sequential(\n",
       "          (0): Conv2d(512, 1024, kernel_size=(1, 1), stride=(2, 2), bias=False)\n",
       "          (1): BatchNorm2d(1024, eps=1e-05, momentum=0.1, affine=True, track_running_stats=True)\n",
       "        )\n",
       "      )\n",
       "      (1): Bottleneck(\n",
       "        (conv1): Conv2d(1024, 256, kernel_size=(1, 1), stride=(1, 1), bias=False)\n",
       "        (bn1): BatchNorm2d(256, eps=1e-05, momentum=0.1, affine=True, track_running_stats=True)\n",
       "        (conv2): Conv2d(256, 256, kernel_size=(3, 3), stride=(1, 1), padding=(1, 1), bias=False)\n",
       "        (bn2): BatchNorm2d(256, eps=1e-05, momentum=0.1, affine=True, track_running_stats=True)\n",
       "        (conv3): Conv2d(256, 1024, kernel_size=(1, 1), stride=(1, 1), bias=False)\n",
       "        (bn3): BatchNorm2d(1024, eps=1e-05, momentum=0.1, affine=True, track_running_stats=True)\n",
       "        (relu): ReLU(inplace=True)\n",
       "      )\n",
       "      (2): Bottleneck(\n",
       "        (conv1): Conv2d(1024, 256, kernel_size=(1, 1), stride=(1, 1), bias=False)\n",
       "        (bn1): BatchNorm2d(256, eps=1e-05, momentum=0.1, affine=True, track_running_stats=True)\n",
       "        (conv2): Conv2d(256, 256, kernel_size=(3, 3), stride=(1, 1), padding=(1, 1), bias=False)\n",
       "        (bn2): BatchNorm2d(256, eps=1e-05, momentum=0.1, affine=True, track_running_stats=True)\n",
       "        (conv3): Conv2d(256, 1024, kernel_size=(1, 1), stride=(1, 1), bias=False)\n",
       "        (bn3): BatchNorm2d(1024, eps=1e-05, momentum=0.1, affine=True, track_running_stats=True)\n",
       "        (relu): ReLU(inplace=True)\n",
       "      )\n",
       "      (3): Bottleneck(\n",
       "        (conv1): Conv2d(1024, 256, kernel_size=(1, 1), stride=(1, 1), bias=False)\n",
       "        (bn1): BatchNorm2d(256, eps=1e-05, momentum=0.1, affine=True, track_running_stats=True)\n",
       "        (conv2): Conv2d(256, 256, kernel_size=(3, 3), stride=(1, 1), padding=(1, 1), bias=False)\n",
       "        (bn2): BatchNorm2d(256, eps=1e-05, momentum=0.1, affine=True, track_running_stats=True)\n",
       "        (conv3): Conv2d(256, 1024, kernel_size=(1, 1), stride=(1, 1), bias=False)\n",
       "        (bn3): BatchNorm2d(1024, eps=1e-05, momentum=0.1, affine=True, track_running_stats=True)\n",
       "        (relu): ReLU(inplace=True)\n",
       "      )\n",
       "      (4): Bottleneck(\n",
       "        (conv1): Conv2d(1024, 256, kernel_size=(1, 1), stride=(1, 1), bias=False)\n",
       "        (bn1): BatchNorm2d(256, eps=1e-05, momentum=0.1, affine=True, track_running_stats=True)\n",
       "        (conv2): Conv2d(256, 256, kernel_size=(3, 3), stride=(1, 1), padding=(1, 1), bias=False)\n",
       "        (bn2): BatchNorm2d(256, eps=1e-05, momentum=0.1, affine=True, track_running_stats=True)\n",
       "        (conv3): Conv2d(256, 1024, kernel_size=(1, 1), stride=(1, 1), bias=False)\n",
       "        (bn3): BatchNorm2d(1024, eps=1e-05, momentum=0.1, affine=True, track_running_stats=True)\n",
       "        (relu): ReLU(inplace=True)\n",
       "      )\n",
       "      (5): Bottleneck(\n",
       "        (conv1): Conv2d(1024, 256, kernel_size=(1, 1), stride=(1, 1), bias=False)\n",
       "        (bn1): BatchNorm2d(256, eps=1e-05, momentum=0.1, affine=True, track_running_stats=True)\n",
       "        (conv2): Conv2d(256, 256, kernel_size=(3, 3), stride=(1, 1), padding=(1, 1), bias=False)\n",
       "        (bn2): BatchNorm2d(256, eps=1e-05, momentum=0.1, affine=True, track_running_stats=True)\n",
       "        (conv3): Conv2d(256, 1024, kernel_size=(1, 1), stride=(1, 1), bias=False)\n",
       "        (bn3): BatchNorm2d(1024, eps=1e-05, momentum=0.1, affine=True, track_running_stats=True)\n",
       "        (relu): ReLU(inplace=True)\n",
       "      )\n",
       "    )\n",
       "    (7): Sequential(\n",
       "      (0): Bottleneck(\n",
       "        (conv1): Conv2d(1024, 512, kernel_size=(1, 1), stride=(1, 1), bias=False)\n",
       "        (bn1): BatchNorm2d(512, eps=1e-05, momentum=0.1, affine=True, track_running_stats=True)\n",
       "        (conv2): Conv2d(512, 512, kernel_size=(3, 3), stride=(2, 2), padding=(1, 1), bias=False)\n",
       "        (bn2): BatchNorm2d(512, eps=1e-05, momentum=0.1, affine=True, track_running_stats=True)\n",
       "        (conv3): Conv2d(512, 2048, kernel_size=(1, 1), stride=(1, 1), bias=False)\n",
       "        (bn3): BatchNorm2d(2048, eps=1e-05, momentum=0.1, affine=True, track_running_stats=True)\n",
       "        (relu): ReLU(inplace=True)\n",
       "        (downsample): Sequential(\n",
       "          (0): Conv2d(1024, 2048, kernel_size=(1, 1), stride=(2, 2), bias=False)\n",
       "          (1): BatchNorm2d(2048, eps=1e-05, momentum=0.1, affine=True, track_running_stats=True)\n",
       "        )\n",
       "      )\n",
       "      (1): Bottleneck(\n",
       "        (conv1): Conv2d(2048, 512, kernel_size=(1, 1), stride=(1, 1), bias=False)\n",
       "        (bn1): BatchNorm2d(512, eps=1e-05, momentum=0.1, affine=True, track_running_stats=True)\n",
       "        (conv2): Conv2d(512, 512, kernel_size=(3, 3), stride=(1, 1), padding=(1, 1), bias=False)\n",
       "        (bn2): BatchNorm2d(512, eps=1e-05, momentum=0.1, affine=True, track_running_stats=True)\n",
       "        (conv3): Conv2d(512, 2048, kernel_size=(1, 1), stride=(1, 1), bias=False)\n",
       "        (bn3): BatchNorm2d(2048, eps=1e-05, momentum=0.1, affine=True, track_running_stats=True)\n",
       "        (relu): ReLU(inplace=True)\n",
       "      )\n",
       "      (2): Bottleneck(\n",
       "        (conv1): Conv2d(2048, 512, kernel_size=(1, 1), stride=(1, 1), bias=False)\n",
       "        (bn1): BatchNorm2d(512, eps=1e-05, momentum=0.1, affine=True, track_running_stats=True)\n",
       "        (conv2): Conv2d(512, 512, kernel_size=(3, 3), stride=(1, 1), padding=(1, 1), bias=False)\n",
       "        (bn2): BatchNorm2d(512, eps=1e-05, momentum=0.1, affine=True, track_running_stats=True)\n",
       "        (conv3): Conv2d(512, 2048, kernel_size=(1, 1), stride=(1, 1), bias=False)\n",
       "        (bn3): BatchNorm2d(2048, eps=1e-05, momentum=0.1, affine=True, track_running_stats=True)\n",
       "        (relu): ReLU(inplace=True)\n",
       "      )\n",
       "    )\n",
       "  )\n",
       "  (1): Sequential(\n",
       "    (0): AdaptiveConcatPool2d(\n",
       "      (ap): AdaptiveAvgPool2d(output_size=1)\n",
       "      (mp): AdaptiveMaxPool2d(output_size=1)\n",
       "    )\n",
       "    (1): Flatten()\n",
       "    (2): BatchNorm1d(4096, eps=1e-05, momentum=0.1, affine=True, track_running_stats=True)\n",
       "    (3): Dropout(p=0.25, inplace=False)\n",
       "    (4): Linear(in_features=4096, out_features=512, bias=True)\n",
       "    (5): ReLU(inplace=True)\n",
       "    (6): BatchNorm1d(512, eps=1e-05, momentum=0.1, affine=True, track_running_stats=True)\n",
       "    (7): Dropout(p=0.5, inplace=False)\n",
       "    (8): Linear(in_features=512, out_features=5, bias=True)\n",
       "    (9): BatchNorm1d(5, eps=1e-05, momentum=0.01, affine=True, track_running_stats=True)\n",
       "  )\n",
       "), opt_func=functools.partial(<class 'torch.optim.adam.Adam'>, betas=(0.9, 0.99)), loss_func=FlattenedLoss of CrossEntropyLoss(), metrics=[<function error_rate at 0x7ff5a04229e0>], true_wd=True, bn_wd=True, wd=0.01, train_bn=True, path=PosixPath('data/train/rotated/clipped/reflect/256'), model_dir='models', callback_fns=[functools.partial(<class 'fastai.basic_train.Recorder'>, add_time=True, silent=False)], callbacks=[MixedPrecision\n",
       "learn: ...\n",
       "loss_scale: 16384.0\n",
       "max_noskip: 1000\n",
       "dynamic: True\n",
       "clip: None\n",
       "flat_master: False\n",
       "max_scale: 16777216\n",
       "loss_fp32: True], layer_groups=[Sequential(\n",
       "  (0): Conv2d(3, 64, kernel_size=(7, 7), stride=(2, 2), padding=(3, 3), bias=False)\n",
       "  (1): BatchNorm2d(64, eps=1e-05, momentum=0.1, affine=True, track_running_stats=True)\n",
       "  (2): ReLU(inplace=True)\n",
       "  (3): MaxPool2d(kernel_size=3, stride=2, padding=1, dilation=1, ceil_mode=False)\n",
       "  (4): Conv2d(64, 64, kernel_size=(1, 1), stride=(1, 1), bias=False)\n",
       "  (5): BatchNorm2d(64, eps=1e-05, momentum=0.1, affine=True, track_running_stats=True)\n",
       "  (6): Conv2d(64, 64, kernel_size=(3, 3), stride=(1, 1), padding=(1, 1), bias=False)\n",
       "  (7): BatchNorm2d(64, eps=1e-05, momentum=0.1, affine=True, track_running_stats=True)\n",
       "  (8): Conv2d(64, 256, kernel_size=(1, 1), stride=(1, 1), bias=False)\n",
       "  (9): BatchNorm2d(256, eps=1e-05, momentum=0.1, affine=True, track_running_stats=True)\n",
       "  (10): ReLU(inplace=True)\n",
       "  (11): Conv2d(64, 256, kernel_size=(1, 1), stride=(1, 1), bias=False)\n",
       "  (12): BatchNorm2d(256, eps=1e-05, momentum=0.1, affine=True, track_running_stats=True)\n",
       "  (13): Conv2d(256, 64, kernel_size=(1, 1), stride=(1, 1), bias=False)\n",
       "  (14): BatchNorm2d(64, eps=1e-05, momentum=0.1, affine=True, track_running_stats=True)\n",
       "  (15): Conv2d(64, 64, kernel_size=(3, 3), stride=(1, 1), padding=(1, 1), bias=False)\n",
       "  (16): BatchNorm2d(64, eps=1e-05, momentum=0.1, affine=True, track_running_stats=True)\n",
       "  (17): Conv2d(64, 256, kernel_size=(1, 1), stride=(1, 1), bias=False)\n",
       "  (18): BatchNorm2d(256, eps=1e-05, momentum=0.1, affine=True, track_running_stats=True)\n",
       "  (19): ReLU(inplace=True)\n",
       "  (20): Conv2d(256, 64, kernel_size=(1, 1), stride=(1, 1), bias=False)\n",
       "  (21): BatchNorm2d(64, eps=1e-05, momentum=0.1, affine=True, track_running_stats=True)\n",
       "  (22): Conv2d(64, 64, kernel_size=(3, 3), stride=(1, 1), padding=(1, 1), bias=False)\n",
       "  (23): BatchNorm2d(64, eps=1e-05, momentum=0.1, affine=True, track_running_stats=True)\n",
       "  (24): Conv2d(64, 256, kernel_size=(1, 1), stride=(1, 1), bias=False)\n",
       "  (25): BatchNorm2d(256, eps=1e-05, momentum=0.1, affine=True, track_running_stats=True)\n",
       "  (26): ReLU(inplace=True)\n",
       "  (27): Conv2d(256, 128, kernel_size=(1, 1), stride=(1, 1), bias=False)\n",
       "  (28): BatchNorm2d(128, eps=1e-05, momentum=0.1, affine=True, track_running_stats=True)\n",
       "  (29): Conv2d(128, 128, kernel_size=(3, 3), stride=(2, 2), padding=(1, 1), bias=False)\n",
       "  (30): BatchNorm2d(128, eps=1e-05, momentum=0.1, affine=True, track_running_stats=True)\n",
       "  (31): Conv2d(128, 512, kernel_size=(1, 1), stride=(1, 1), bias=False)\n",
       "  (32): BatchNorm2d(512, eps=1e-05, momentum=0.1, affine=True, track_running_stats=True)\n",
       "  (33): ReLU(inplace=True)\n",
       "  (34): Conv2d(256, 512, kernel_size=(1, 1), stride=(2, 2), bias=False)\n",
       "  (35): BatchNorm2d(512, eps=1e-05, momentum=0.1, affine=True, track_running_stats=True)\n",
       "  (36): Conv2d(512, 128, kernel_size=(1, 1), stride=(1, 1), bias=False)\n",
       "  (37): BatchNorm2d(128, eps=1e-05, momentum=0.1, affine=True, track_running_stats=True)\n",
       "  (38): Conv2d(128, 128, kernel_size=(3, 3), stride=(1, 1), padding=(1, 1), bias=False)\n",
       "  (39): BatchNorm2d(128, eps=1e-05, momentum=0.1, affine=True, track_running_stats=True)\n",
       "  (40): Conv2d(128, 512, kernel_size=(1, 1), stride=(1, 1), bias=False)\n",
       "  (41): BatchNorm2d(512, eps=1e-05, momentum=0.1, affine=True, track_running_stats=True)\n",
       "  (42): ReLU(inplace=True)\n",
       "  (43): Conv2d(512, 128, kernel_size=(1, 1), stride=(1, 1), bias=False)\n",
       "  (44): BatchNorm2d(128, eps=1e-05, momentum=0.1, affine=True, track_running_stats=True)\n",
       "  (45): Conv2d(128, 128, kernel_size=(3, 3), stride=(1, 1), padding=(1, 1), bias=False)\n",
       "  (46): BatchNorm2d(128, eps=1e-05, momentum=0.1, affine=True, track_running_stats=True)\n",
       "  (47): Conv2d(128, 512, kernel_size=(1, 1), stride=(1, 1), bias=False)\n",
       "  (48): BatchNorm2d(512, eps=1e-05, momentum=0.1, affine=True, track_running_stats=True)\n",
       "  (49): ReLU(inplace=True)\n",
       "  (50): Conv2d(512, 128, kernel_size=(1, 1), stride=(1, 1), bias=False)\n",
       "  (51): BatchNorm2d(128, eps=1e-05, momentum=0.1, affine=True, track_running_stats=True)\n",
       "  (52): Conv2d(128, 128, kernel_size=(3, 3), stride=(1, 1), padding=(1, 1), bias=False)\n",
       "  (53): BatchNorm2d(128, eps=1e-05, momentum=0.1, affine=True, track_running_stats=True)\n",
       "  (54): Conv2d(128, 512, kernel_size=(1, 1), stride=(1, 1), bias=False)\n",
       "  (55): BatchNorm2d(512, eps=1e-05, momentum=0.1, affine=True, track_running_stats=True)\n",
       "  (56): ReLU(inplace=True)\n",
       "), Sequential(\n",
       "  (0): Conv2d(512, 256, kernel_size=(1, 1), stride=(1, 1), bias=False)\n",
       "  (1): BatchNorm2d(256, eps=1e-05, momentum=0.1, affine=True, track_running_stats=True)\n",
       "  (2): Conv2d(256, 256, kernel_size=(3, 3), stride=(2, 2), padding=(1, 1), bias=False)\n",
       "  (3): BatchNorm2d(256, eps=1e-05, momentum=0.1, affine=True, track_running_stats=True)\n",
       "  (4): Conv2d(256, 1024, kernel_size=(1, 1), stride=(1, 1), bias=False)\n",
       "  (5): BatchNorm2d(1024, eps=1e-05, momentum=0.1, affine=True, track_running_stats=True)\n",
       "  (6): ReLU(inplace=True)\n",
       "  (7): Conv2d(512, 1024, kernel_size=(1, 1), stride=(2, 2), bias=False)\n",
       "  (8): BatchNorm2d(1024, eps=1e-05, momentum=0.1, affine=True, track_running_stats=True)\n",
       "  (9): Conv2d(1024, 256, kernel_size=(1, 1), stride=(1, 1), bias=False)\n",
       "  (10): BatchNorm2d(256, eps=1e-05, momentum=0.1, affine=True, track_running_stats=True)\n",
       "  (11): Conv2d(256, 256, kernel_size=(3, 3), stride=(1, 1), padding=(1, 1), bias=False)\n",
       "  (12): BatchNorm2d(256, eps=1e-05, momentum=0.1, affine=True, track_running_stats=True)\n",
       "  (13): Conv2d(256, 1024, kernel_size=(1, 1), stride=(1, 1), bias=False)\n",
       "  (14): BatchNorm2d(1024, eps=1e-05, momentum=0.1, affine=True, track_running_stats=True)\n",
       "  (15): ReLU(inplace=True)\n",
       "  (16): Conv2d(1024, 256, kernel_size=(1, 1), stride=(1, 1), bias=False)\n",
       "  (17): BatchNorm2d(256, eps=1e-05, momentum=0.1, affine=True, track_running_stats=True)\n",
       "  (18): Conv2d(256, 256, kernel_size=(3, 3), stride=(1, 1), padding=(1, 1), bias=False)\n",
       "  (19): BatchNorm2d(256, eps=1e-05, momentum=0.1, affine=True, track_running_stats=True)\n",
       "  (20): Conv2d(256, 1024, kernel_size=(1, 1), stride=(1, 1), bias=False)\n",
       "  (21): BatchNorm2d(1024, eps=1e-05, momentum=0.1, affine=True, track_running_stats=True)\n",
       "  (22): ReLU(inplace=True)\n",
       "  (23): Conv2d(1024, 256, kernel_size=(1, 1), stride=(1, 1), bias=False)\n",
       "  (24): BatchNorm2d(256, eps=1e-05, momentum=0.1, affine=True, track_running_stats=True)\n",
       "  (25): Conv2d(256, 256, kernel_size=(3, 3), stride=(1, 1), padding=(1, 1), bias=False)\n",
       "  (26): BatchNorm2d(256, eps=1e-05, momentum=0.1, affine=True, track_running_stats=True)\n",
       "  (27): Conv2d(256, 1024, kernel_size=(1, 1), stride=(1, 1), bias=False)\n",
       "  (28): BatchNorm2d(1024, eps=1e-05, momentum=0.1, affine=True, track_running_stats=True)\n",
       "  (29): ReLU(inplace=True)\n",
       "  (30): Conv2d(1024, 256, kernel_size=(1, 1), stride=(1, 1), bias=False)\n",
       "  (31): BatchNorm2d(256, eps=1e-05, momentum=0.1, affine=True, track_running_stats=True)\n",
       "  (32): Conv2d(256, 256, kernel_size=(3, 3), stride=(1, 1), padding=(1, 1), bias=False)\n",
       "  (33): BatchNorm2d(256, eps=1e-05, momentum=0.1, affine=True, track_running_stats=True)\n",
       "  (34): Conv2d(256, 1024, kernel_size=(1, 1), stride=(1, 1), bias=False)\n",
       "  (35): BatchNorm2d(1024, eps=1e-05, momentum=0.1, affine=True, track_running_stats=True)\n",
       "  (36): ReLU(inplace=True)\n",
       "  (37): Conv2d(1024, 256, kernel_size=(1, 1), stride=(1, 1), bias=False)\n",
       "  (38): BatchNorm2d(256, eps=1e-05, momentum=0.1, affine=True, track_running_stats=True)\n",
       "  (39): Conv2d(256, 256, kernel_size=(3, 3), stride=(1, 1), padding=(1, 1), bias=False)\n",
       "  (40): BatchNorm2d(256, eps=1e-05, momentum=0.1, affine=True, track_running_stats=True)\n",
       "  (41): Conv2d(256, 1024, kernel_size=(1, 1), stride=(1, 1), bias=False)\n",
       "  (42): BatchNorm2d(1024, eps=1e-05, momentum=0.1, affine=True, track_running_stats=True)\n",
       "  (43): ReLU(inplace=True)\n",
       "  (44): Conv2d(1024, 512, kernel_size=(1, 1), stride=(1, 1), bias=False)\n",
       "  (45): BatchNorm2d(512, eps=1e-05, momentum=0.1, affine=True, track_running_stats=True)\n",
       "  (46): Conv2d(512, 512, kernel_size=(3, 3), stride=(2, 2), padding=(1, 1), bias=False)\n",
       "  (47): BatchNorm2d(512, eps=1e-05, momentum=0.1, affine=True, track_running_stats=True)\n",
       "  (48): Conv2d(512, 2048, kernel_size=(1, 1), stride=(1, 1), bias=False)\n",
       "  (49): BatchNorm2d(2048, eps=1e-05, momentum=0.1, affine=True, track_running_stats=True)\n",
       "  (50): ReLU(inplace=True)\n",
       "  (51): Conv2d(1024, 2048, kernel_size=(1, 1), stride=(2, 2), bias=False)\n",
       "  (52): BatchNorm2d(2048, eps=1e-05, momentum=0.1, affine=True, track_running_stats=True)\n",
       "  (53): Conv2d(2048, 512, kernel_size=(1, 1), stride=(1, 1), bias=False)\n",
       "  (54): BatchNorm2d(512, eps=1e-05, momentum=0.1, affine=True, track_running_stats=True)\n",
       "  (55): Conv2d(512, 512, kernel_size=(3, 3), stride=(1, 1), padding=(1, 1), bias=False)\n",
       "  (56): BatchNorm2d(512, eps=1e-05, momentum=0.1, affine=True, track_running_stats=True)\n",
       "  (57): Conv2d(512, 2048, kernel_size=(1, 1), stride=(1, 1), bias=False)\n",
       "  (58): BatchNorm2d(2048, eps=1e-05, momentum=0.1, affine=True, track_running_stats=True)\n",
       "  (59): ReLU(inplace=True)\n",
       "  (60): Conv2d(2048, 512, kernel_size=(1, 1), stride=(1, 1), bias=False)\n",
       "  (61): BatchNorm2d(512, eps=1e-05, momentum=0.1, affine=True, track_running_stats=True)\n",
       "  (62): Conv2d(512, 512, kernel_size=(3, 3), stride=(1, 1), padding=(1, 1), bias=False)\n",
       "  (63): BatchNorm2d(512, eps=1e-05, momentum=0.1, affine=True, track_running_stats=True)\n",
       "  (64): Conv2d(512, 2048, kernel_size=(1, 1), stride=(1, 1), bias=False)\n",
       "  (65): BatchNorm2d(2048, eps=1e-05, momentum=0.1, affine=True, track_running_stats=True)\n",
       "  (66): ReLU(inplace=True)\n",
       "), Sequential(\n",
       "  (0): AdaptiveAvgPool2d(output_size=1)\n",
       "  (1): AdaptiveMaxPool2d(output_size=1)\n",
       "  (2): Flatten()\n",
       "  (3): BatchNorm1d(4096, eps=1e-05, momentum=0.1, affine=True, track_running_stats=True)\n",
       "  (4): Dropout(p=0.25, inplace=False)\n",
       "  (5): Linear(in_features=4096, out_features=512, bias=True)\n",
       "  (6): ReLU(inplace=True)\n",
       "  (7): BatchNorm1d(512, eps=1e-05, momentum=0.1, affine=True, track_running_stats=True)\n",
       "  (8): Dropout(p=0.5, inplace=False)\n",
       "  (9): Linear(in_features=512, out_features=5, bias=True)\n",
       "  (10): BatchNorm1d(5, eps=1e-05, momentum=0.01, affine=True, track_running_stats=True)\n",
       ")], add_time=True, silent=False)"
      ]
     },
     "execution_count": 94,
     "metadata": {},
     "output_type": "execute_result"
    }
   ],
   "source": [
    "learn.load(f'stage-2_1-{arch_name}-{NB_NUM}-{MODEL_NAME}-{DATE}-{UID}')"
   ]
  },
  {
   "cell_type": "code",
   "execution_count": 95,
   "metadata": {},
   "outputs": [],
   "source": [
    "learn = learn.to_fp32()"
   ]
  },
  {
   "cell_type": "code",
   "execution_count": 96,
   "metadata": {},
   "outputs": [],
   "source": [
    "learn.export(f'stage-2_1-{arch_name}-{NB_NUM}-{MODEL_NAME}-{DATE}-{UID}.pkl')"
   ]
  },
  {
   "cell_type": "code",
   "execution_count": 97,
   "metadata": {},
   "outputs": [],
   "source": [
    "learn.export()"
   ]
  },
  {
   "cell_type": "markdown",
   "metadata": {},
   "source": [
    "### inference"
   ]
  },
  {
   "cell_type": "code",
   "execution_count": 98,
   "metadata": {},
   "outputs": [],
   "source": [
    "#test_images=data_dir/f'test/rotated/clipped/{img_size}'\n",
    "test_dataset=ImageList.from_folder(test_images)"
   ]
  },
  {
   "cell_type": "code",
   "execution_count": 99,
   "metadata": {},
   "outputs": [
    {
     "data": {
      "text/plain": [
       "7325"
      ]
     },
     "execution_count": 99,
     "metadata": {},
     "output_type": "execute_result"
    }
   ],
   "source": [
    "len(test_dataset)"
   ]
  },
  {
   "cell_type": "code",
   "execution_count": 104,
   "metadata": {},
   "outputs": [],
   "source": [
    "learn = load_learner(path=data_dir/f'train/rotated/clipped/reflect/{img_size}', test=test_dataset)"
   ]
  },
  {
   "cell_type": "code",
   "execution_count": 105,
   "metadata": {},
   "outputs": [
    {
     "data": {
      "text/plain": [
       "FlattenedLoss of CrossEntropyLoss()"
      ]
     },
     "execution_count": 105,
     "metadata": {},
     "output_type": "execute_result"
    }
   ],
   "source": [
    "learn.data.loss_func"
   ]
  },
  {
   "cell_type": "code",
   "execution_count": 106,
   "metadata": {},
   "outputs": [
    {
     "data": {
      "text/plain": [
       "fastai.vision.data.ImageDataBunch"
      ]
     },
     "execution_count": 106,
     "metadata": {},
     "output_type": "execute_result"
    }
   ],
   "source": [
    "type(learn.data)"
   ]
  },
  {
   "cell_type": "code",
   "execution_count": 107,
   "metadata": {},
   "outputs": [
    {
     "data": {
      "text/plain": [
       "fastai.basic_data.DeviceDataLoader"
      ]
     },
     "execution_count": 107,
     "metadata": {},
     "output_type": "execute_result"
    }
   ],
   "source": [
    "type(learn.dl(DatasetType.Test))"
   ]
  },
  {
   "cell_type": "code",
   "execution_count": 108,
   "metadata": {},
   "outputs": [
    {
     "data": {
      "text/plain": [
       "115"
      ]
     },
     "execution_count": 108,
     "metadata": {},
     "output_type": "execute_result"
    }
   ],
   "source": [
    "len(learn.dl(DatasetType.Test))"
   ]
  },
  {
   "cell_type": "markdown",
   "metadata": {},
   "source": [
    "Get number of items in the Valid dataset (in DeviceDataLoader)"
   ]
  },
  {
   "cell_type": "code",
   "execution_count": 109,
   "metadata": {},
   "outputs": [],
   "source": [
    "#assert len(learn.dl(DatasetType.Test).dl)==7325"
   ]
  },
  {
   "cell_type": "markdown",
   "metadata": {},
   "source": [
    "Required format:\n",
    "    \n",
    "<pre>\n",
    "id\tconcrete_cement\thealthy_metal\tincomplete\tirregular_metal\tother\n",
    "7a4d630a\t0.9\t0\t0\t0\t0\n",
    "7a4bbbd6\t0.9\t0\t0\t0\t0\n",
    "7a4ac744\t0.9\t0\t0\t0\t0\n",
    "7a4881fa\t0.9\t0\t0\t0\t0\n",
    "7a4aa4a8\t0.9\t0\t0\t0\t0\n",
    "</pre>\n"
   ]
  },
  {
   "cell_type": "code",
   "execution_count": 110,
   "metadata": {},
   "outputs": [],
   "source": [
    "preds,y= learn.get_preds(ds_type=DatasetType.Test)"
   ]
  },
  {
   "cell_type": "code",
   "execution_count": 111,
   "metadata": {},
   "outputs": [],
   "source": [
    "labels = np.argmax(preds, 1)"
   ]
  },
  {
   "cell_type": "code",
   "execution_count": 112,
   "metadata": {},
   "outputs": [
    {
     "data": {
      "text/plain": [
       "7325"
      ]
     },
     "execution_count": 112,
     "metadata": {},
     "output_type": "execute_result"
    }
   ],
   "source": [
    "len(preds)"
   ]
  },
  {
   "cell_type": "code",
   "execution_count": 113,
   "metadata": {},
   "outputs": [
    {
     "data": {
      "text/plain": [
       "[0.009772867895662785,\n",
       " 0.988596498966217,\n",
       " 0.0005484218127094209,\n",
       " 0.0005262459744699299,\n",
       " 0.0005559707060456276]"
      ]
     },
     "execution_count": 113,
     "metadata": {},
     "output_type": "execute_result"
    }
   ],
   "source": [
    "preds[0].tolist()"
   ]
  },
  {
   "cell_type": "code",
   "execution_count": 114,
   "metadata": {},
   "outputs": [],
   "source": [
    "preds_list=[]\n",
    "for pred in preds:\n",
    "    preds_list.append(pred.tolist())"
   ]
  },
  {
   "cell_type": "code",
   "execution_count": 115,
   "metadata": {},
   "outputs": [
    {
     "data": {
      "text/plain": [
       "7325"
      ]
     },
     "execution_count": 115,
     "metadata": {},
     "output_type": "execute_result"
    }
   ],
   "source": [
    "len(labels)"
   ]
  },
  {
   "cell_type": "code",
   "execution_count": 116,
   "metadata": {},
   "outputs": [
    {
     "data": {
      "text/plain": [
       "['concrete_cement', 'healthy_metal', 'incomplete', 'irregular_metal', 'other']"
      ]
     },
     "execution_count": 116,
     "metadata": {},
     "output_type": "execute_result"
    }
   ],
   "source": [
    "learn.data.classes"
   ]
  },
  {
   "cell_type": "code",
   "execution_count": 117,
   "metadata": {},
   "outputs": [
    {
     "data": {
      "text/plain": [
       "['concrete_cement', 'healthy_metal', 'incomplete', 'irregular_metal', 'other']"
      ]
     },
     "execution_count": 117,
     "metadata": {},
     "output_type": "execute_result"
    }
   ],
   "source": [
    "data.classes"
   ]
  },
  {
   "cell_type": "code",
   "execution_count": 118,
   "metadata": {},
   "outputs": [],
   "source": [
    "test_predictions = [learn.data.classes[int(x)] for x in labels]"
   ]
  },
  {
   "cell_type": "code",
   "execution_count": 119,
   "metadata": {},
   "outputs": [
    {
     "data": {
      "text/plain": [
       "'healthy_metal'"
      ]
     },
     "execution_count": 119,
     "metadata": {},
     "output_type": "execute_result"
    }
   ],
   "source": [
    "test_predictions[0]"
   ]
  },
  {
   "cell_type": "code",
   "execution_count": 120,
   "metadata": {},
   "outputs": [
    {
     "data": {
      "text/plain": [
       "fastai.data_block.LabelList"
      ]
     },
     "execution_count": 120,
     "metadata": {},
     "output_type": "execute_result"
    }
   ],
   "source": [
    "type(learn.data.test_ds)"
   ]
  },
  {
   "cell_type": "code",
   "execution_count": 121,
   "metadata": {},
   "outputs": [
    {
     "data": {
      "text/plain": [
       "array([PosixPath('data/test/rotated/clipped/reflect/256/7a4d9168.tif'),\n",
       "       PosixPath('data/test/rotated/clipped/reflect/256/7a4ae922.tif'),\n",
       "       PosixPath('data/test/rotated/clipped/reflect/256/7a48ca98.tif'),\n",
       "       PosixPath('data/test/rotated/clipped/reflect/256/7a49c614.tif'), ...,\n",
       "       PosixPath('data/test/rotated/clipped/reflect/256/7a486800.tif'),\n",
       "       PosixPath('data/test/rotated/clipped/reflect/256/7a4c49fc.tif'),\n",
       "       PosixPath('data/test/rotated/clipped/reflect/256/7a501f50.tif'),\n",
       "       PosixPath('data/test/rotated/clipped/reflect/256/7a4d27b4.tif')], dtype=object)"
      ]
     },
     "execution_count": 121,
     "metadata": {},
     "output_type": "execute_result"
    }
   ],
   "source": [
    " learn.data.test_ds.x.items"
   ]
  },
  {
   "cell_type": "code",
   "execution_count": 122,
   "metadata": {},
   "outputs": [],
   "source": [
    "ids=[]\n",
    "for item in learn.data.test_ds.x.items:\n",
    "    base, id = os.path.split(item)\n",
    "    id = id.split('.tif')[0]\n",
    "    ids.append(id)"
   ]
  },
  {
   "cell_type": "code",
   "execution_count": 123,
   "metadata": {},
   "outputs": [
    {
     "data": {
      "text/plain": [
       "[0.009772867895662785,\n",
       " 0.988596498966217,\n",
       " 0.0005484218127094209,\n",
       " 0.0005262459744699299,\n",
       " 0.0005559707060456276]"
      ]
     },
     "execution_count": 123,
     "metadata": {},
     "output_type": "execute_result"
    }
   ],
   "source": [
    "preds_list[0]"
   ]
  },
  {
   "cell_type": "code",
   "execution_count": 124,
   "metadata": {},
   "outputs": [],
   "source": [
    "cols = learn.data.classes.copy()\n",
    "cols.insert(0,'id')\n",
    "df = pd.DataFrame(list(zip(ids, preds_list)), \n",
    "               columns =['id', 'pred']) "
   ]
  },
  {
   "cell_type": "code",
   "execution_count": 125,
   "metadata": {},
   "outputs": [
    {
     "data": {
      "text/plain": [
       "['id',\n",
       " 'concrete_cement',\n",
       " 'healthy_metal',\n",
       " 'incomplete',\n",
       " 'irregular_metal',\n",
       " 'other']"
      ]
     },
     "execution_count": 125,
     "metadata": {},
     "output_type": "execute_result"
    }
   ],
   "source": [
    "cols"
   ]
  },
  {
   "cell_type": "code",
   "execution_count": 126,
   "metadata": {},
   "outputs": [
    {
     "data": {
      "text/html": [
       "<div>\n",
       "<style scoped>\n",
       "    .dataframe tbody tr th:only-of-type {\n",
       "        vertical-align: middle;\n",
       "    }\n",
       "\n",
       "    .dataframe tbody tr th {\n",
       "        vertical-align: top;\n",
       "    }\n",
       "\n",
       "    .dataframe thead th {\n",
       "        text-align: right;\n",
       "    }\n",
       "</style>\n",
       "<table border=\"1\" class=\"dataframe\">\n",
       "  <thead>\n",
       "    <tr style=\"text-align: right;\">\n",
       "      <th></th>\n",
       "      <th>id</th>\n",
       "      <th>pred</th>\n",
       "    </tr>\n",
       "  </thead>\n",
       "  <tbody>\n",
       "    <tr>\n",
       "      <td>0</td>\n",
       "      <td>7a4d9168</td>\n",
       "      <td>[0.009772867895662785, 0.988596498966217, 0.00...</td>\n",
       "    </tr>\n",
       "    <tr>\n",
       "      <td>1</td>\n",
       "      <td>7a4ae922</td>\n",
       "      <td>[0.0010870289988815784, 0.9866624474525452, 0....</td>\n",
       "    </tr>\n",
       "    <tr>\n",
       "      <td>2</td>\n",
       "      <td>7a48ca98</td>\n",
       "      <td>[0.002392478520050645, 0.22535312175750732, 0....</td>\n",
       "    </tr>\n",
       "    <tr>\n",
       "      <td>3</td>\n",
       "      <td>7a49c614</td>\n",
       "      <td>[0.0007905348902568221, 0.9753568172454834, 0....</td>\n",
       "    </tr>\n",
       "    <tr>\n",
       "      <td>4</td>\n",
       "      <td>7a4dd4f2</td>\n",
       "      <td>[0.00046309552271850407, 0.9671767354011536, 0...</td>\n",
       "    </tr>\n",
       "  </tbody>\n",
       "</table>\n",
       "</div>"
      ],
      "text/plain": [
       "         id                                               pred\n",
       "0  7a4d9168  [0.009772867895662785, 0.988596498966217, 0.00...\n",
       "1  7a4ae922  [0.0010870289988815784, 0.9866624474525452, 0....\n",
       "2  7a48ca98  [0.002392478520050645, 0.22535312175750732, 0....\n",
       "3  7a49c614  [0.0007905348902568221, 0.9753568172454834, 0....\n",
       "4  7a4dd4f2  [0.00046309552271850407, 0.9671767354011536, 0..."
      ]
     },
     "execution_count": 126,
     "metadata": {},
     "output_type": "execute_result"
    }
   ],
   "source": [
    "df.head()"
   ]
  },
  {
   "cell_type": "code",
   "execution_count": 127,
   "metadata": {},
   "outputs": [],
   "source": [
    "pred_df = pd.DataFrame(df['pred'].values.tolist())"
   ]
  },
  {
   "cell_type": "code",
   "execution_count": 128,
   "metadata": {},
   "outputs": [],
   "source": [
    "pred_df.insert(loc=0, column='id', value=ids)"
   ]
  },
  {
   "cell_type": "code",
   "execution_count": 129,
   "metadata": {},
   "outputs": [],
   "source": [
    "pred_df.columns = cols"
   ]
  },
  {
   "cell_type": "code",
   "execution_count": 130,
   "metadata": {},
   "outputs": [
    {
     "data": {
      "text/html": [
       "<div>\n",
       "<style scoped>\n",
       "    .dataframe tbody tr th:only-of-type {\n",
       "        vertical-align: middle;\n",
       "    }\n",
       "\n",
       "    .dataframe tbody tr th {\n",
       "        vertical-align: top;\n",
       "    }\n",
       "\n",
       "    .dataframe thead th {\n",
       "        text-align: right;\n",
       "    }\n",
       "</style>\n",
       "<table border=\"1\" class=\"dataframe\">\n",
       "  <thead>\n",
       "    <tr style=\"text-align: right;\">\n",
       "      <th></th>\n",
       "      <th>id</th>\n",
       "      <th>concrete_cement</th>\n",
       "      <th>healthy_metal</th>\n",
       "      <th>incomplete</th>\n",
       "      <th>irregular_metal</th>\n",
       "      <th>other</th>\n",
       "    </tr>\n",
       "  </thead>\n",
       "  <tbody>\n",
       "    <tr>\n",
       "      <td>0</td>\n",
       "      <td>7a4d9168</td>\n",
       "      <td>0.009773</td>\n",
       "      <td>0.988596</td>\n",
       "      <td>0.000548</td>\n",
       "      <td>0.000526</td>\n",
       "      <td>0.000556</td>\n",
       "    </tr>\n",
       "    <tr>\n",
       "      <td>1</td>\n",
       "      <td>7a4ae922</td>\n",
       "      <td>0.001087</td>\n",
       "      <td>0.986662</td>\n",
       "      <td>0.000228</td>\n",
       "      <td>0.011893</td>\n",
       "      <td>0.000129</td>\n",
       "    </tr>\n",
       "    <tr>\n",
       "      <td>2</td>\n",
       "      <td>7a48ca98</td>\n",
       "      <td>0.002392</td>\n",
       "      <td>0.225353</td>\n",
       "      <td>0.022957</td>\n",
       "      <td>0.747425</td>\n",
       "      <td>0.001873</td>\n",
       "    </tr>\n",
       "    <tr>\n",
       "      <td>3</td>\n",
       "      <td>7a49c614</td>\n",
       "      <td>0.000791</td>\n",
       "      <td>0.975357</td>\n",
       "      <td>0.000984</td>\n",
       "      <td>0.022245</td>\n",
       "      <td>0.000623</td>\n",
       "    </tr>\n",
       "    <tr>\n",
       "      <td>4</td>\n",
       "      <td>7a4dd4f2</td>\n",
       "      <td>0.000463</td>\n",
       "      <td>0.967177</td>\n",
       "      <td>0.000873</td>\n",
       "      <td>0.028267</td>\n",
       "      <td>0.003220</td>\n",
       "    </tr>\n",
       "  </tbody>\n",
       "</table>\n",
       "</div>"
      ],
      "text/plain": [
       "         id  concrete_cement  healthy_metal  incomplete  irregular_metal  \\\n",
       "0  7a4d9168         0.009773       0.988596    0.000548         0.000526   \n",
       "1  7a4ae922         0.001087       0.986662    0.000228         0.011893   \n",
       "2  7a48ca98         0.002392       0.225353    0.022957         0.747425   \n",
       "3  7a49c614         0.000791       0.975357    0.000984         0.022245   \n",
       "4  7a4dd4f2         0.000463       0.967177    0.000873         0.028267   \n",
       "\n",
       "      other  \n",
       "0  0.000556  \n",
       "1  0.000129  \n",
       "2  0.001873  \n",
       "3  0.000623  \n",
       "4  0.003220  "
      ]
     },
     "execution_count": 130,
     "metadata": {},
     "output_type": "execute_result"
    }
   ],
   "source": [
    "pred_df.head()"
   ]
  },
  {
   "cell_type": "markdown",
   "metadata": {},
   "source": [
    "Required format:\n",
    "    \n",
    "<pre>\n",
    "id\tconcrete_cement\thealthy_metal\tincomplete\tirregular_metal\tother\n",
    "7a4d630a\t0.9\t0\t0\t0\t0\n",
    "7a4bbbd6\t0.9\t0\t0\t0\t0\n",
    "7a4ac744\t0.9\t0\t0\t0\t0\n",
    "7a4881fa\t0.9\t0\t0\t0\t0\n",
    "7a4aa4a8\t0.9\t0\t0\t0\t0\n",
    "</pre>\n"
   ]
  },
  {
   "cell_type": "code",
   "execution_count": 131,
   "metadata": {},
   "outputs": [],
   "source": [
    "pred_ids=pred_df['id'].values.tolist()"
   ]
  },
  {
   "cell_type": "code",
   "execution_count": 132,
   "metadata": {},
   "outputs": [],
   "source": [
    "df_baseline = pd.read_csv(data_dir/f'submissions/mean_baseline.csv')"
   ]
  },
  {
   "cell_type": "code",
   "execution_count": 133,
   "metadata": {},
   "outputs": [
    {
     "data": {
      "text/html": [
       "<div>\n",
       "<style scoped>\n",
       "    .dataframe tbody tr th:only-of-type {\n",
       "        vertical-align: middle;\n",
       "    }\n",
       "\n",
       "    .dataframe tbody tr th {\n",
       "        vertical-align: top;\n",
       "    }\n",
       "\n",
       "    .dataframe thead th {\n",
       "        text-align: right;\n",
       "    }\n",
       "</style>\n",
       "<table border=\"1\" class=\"dataframe\">\n",
       "  <thead>\n",
       "    <tr style=\"text-align: right;\">\n",
       "      <th></th>\n",
       "      <th>id</th>\n",
       "      <th>concrete_cement</th>\n",
       "      <th>healthy_metal</th>\n",
       "      <th>incomplete</th>\n",
       "      <th>irregular_metal</th>\n",
       "      <th>other</th>\n",
       "    </tr>\n",
       "  </thead>\n",
       "  <tbody>\n",
       "    <tr>\n",
       "      <td>0</td>\n",
       "      <td>7a4d630a</td>\n",
       "      <td>0.093275</td>\n",
       "      <td>0.496369</td>\n",
       "      <td>0.044923</td>\n",
       "      <td>0.352455</td>\n",
       "      <td>0.012979</td>\n",
       "    </tr>\n",
       "    <tr>\n",
       "      <td>1</td>\n",
       "      <td>7a4bbbd6</td>\n",
       "      <td>0.093275</td>\n",
       "      <td>0.496369</td>\n",
       "      <td>0.044923</td>\n",
       "      <td>0.352455</td>\n",
       "      <td>0.012979</td>\n",
       "    </tr>\n",
       "    <tr>\n",
       "      <td>2</td>\n",
       "      <td>7a4ac744</td>\n",
       "      <td>0.093275</td>\n",
       "      <td>0.496369</td>\n",
       "      <td>0.044923</td>\n",
       "      <td>0.352455</td>\n",
       "      <td>0.012979</td>\n",
       "    </tr>\n",
       "    <tr>\n",
       "      <td>3</td>\n",
       "      <td>7a4881fa</td>\n",
       "      <td>0.093275</td>\n",
       "      <td>0.496369</td>\n",
       "      <td>0.044923</td>\n",
       "      <td>0.352455</td>\n",
       "      <td>0.012979</td>\n",
       "    </tr>\n",
       "    <tr>\n",
       "      <td>4</td>\n",
       "      <td>7a4aa4a8</td>\n",
       "      <td>0.093275</td>\n",
       "      <td>0.496369</td>\n",
       "      <td>0.044923</td>\n",
       "      <td>0.352455</td>\n",
       "      <td>0.012979</td>\n",
       "    </tr>\n",
       "  </tbody>\n",
       "</table>\n",
       "</div>"
      ],
      "text/plain": [
       "         id  concrete_cement  healthy_metal  incomplete  irregular_metal  \\\n",
       "0  7a4d630a         0.093275       0.496369    0.044923         0.352455   \n",
       "1  7a4bbbd6         0.093275       0.496369    0.044923         0.352455   \n",
       "2  7a4ac744         0.093275       0.496369    0.044923         0.352455   \n",
       "3  7a4881fa         0.093275       0.496369    0.044923         0.352455   \n",
       "4  7a4aa4a8         0.093275       0.496369    0.044923         0.352455   \n",
       "\n",
       "      other  \n",
       "0  0.012979  \n",
       "1  0.012979  \n",
       "2  0.012979  \n",
       "3  0.012979  \n",
       "4  0.012979  "
      ]
     },
     "execution_count": 133,
     "metadata": {},
     "output_type": "execute_result"
    }
   ],
   "source": [
    "df_baseline.head()"
   ]
  },
  {
   "cell_type": "code",
   "execution_count": 134,
   "metadata": {},
   "outputs": [],
   "source": [
    "baseline_ids=df_baseline['id'].values.tolist()"
   ]
  },
  {
   "cell_type": "code",
   "execution_count": 135,
   "metadata": {},
   "outputs": [
    {
     "data": {
      "text/plain": [
       "['7a4d630a',\n",
       " '7a4bbbd6',\n",
       " '7a4ac744',\n",
       " '7a4881fa',\n",
       " '7a4aa4a8',\n",
       " '7a514434',\n",
       " '7a485f72',\n",
       " '7a4b8d32',\n",
       " '7a47eb3c',\n",
       " '7a4be3ae',\n",
       " '7a46a330',\n",
       " '7a481620',\n",
       " '7a49c678',\n",
       " '7a4ea044',\n",
       " '7a47aa1e',\n",
       " '7a51aa1e',\n",
       " '7a498be0',\n",
       " '7a4a2848',\n",
       " '7a4c4cd6',\n",
       " '7a465038',\n",
       " '7a4e94aa',\n",
       " '7a49f62a',\n",
       " '7a45b6f0',\n",
       " '7a50bb90',\n",
       " '7a4d38e4',\n",
       " '7a48a3a6',\n",
       " '7a4ebe9e',\n",
       " '7a48352e',\n",
       " '7a4bfaec',\n",
       " '7a51e060',\n",
       " '7a4c0f5a',\n",
       " '7a4b9976',\n",
       " '7a4b27d4',\n",
       " '7a51c698',\n",
       " '7a474bb4',\n",
       " '7a480054',\n",
       " '7a4a4044',\n",
       " '7a4c35ca',\n",
       " '7a4d3fd8',\n",
       " '7a4c1a68',\n",
       " '7a4eb1c4',\n",
       " '7a4a51ce',\n",
       " '7a4a14fc',\n",
       " '7a5015d2',\n",
       " '7a4ba95c',\n",
       " '7a5101ae',\n",
       " '7a4d0a22',\n",
       " '7a5134ee',\n",
       " '7a4a85c2',\n",
       " '7a514b14',\n",
       " '7a4d0a90',\n",
       " '7a485fd6',\n",
       " '7a4f668c',\n",
       " '7a44e752',\n",
       " '7a5162d4',\n",
       " '7a465894',\n",
       " '7a4c9a10',\n",
       " '7a485810',\n",
       " '7a4a9788',\n",
       " '7a503198',\n",
       " '7a4e206a',\n",
       " '7a4c15ea',\n",
       " '7a4f8536',\n",
       " '7a513df4',\n",
       " '7a4d7624',\n",
       " '7a4c9e8e',\n",
       " '7a4b2554',\n",
       " '7a502b12',\n",
       " '7a4c32e6',\n",
       " '7a4a8a2c',\n",
       " '7a467b76',\n",
       " '7a51b554',\n",
       " '7a4622e8',\n",
       " '7a4a599e',\n",
       " '7a4d17c4',\n",
       " '7a4fb740',\n",
       " '7a4ceed4',\n",
       " '7a45d1a8',\n",
       " '7a4ef33c',\n",
       " '7a4ec808',\n",
       " '7a4eb8d6',\n",
       " '7a4f39d2',\n",
       " '7a47a140',\n",
       " '7a4ec79a',\n",
       " '7a4be75a',\n",
       " '7a515d20',\n",
       " '7a4e6048',\n",
       " '7a4b4ade',\n",
       " '7a4e6250',\n",
       " '7a4848f2',\n",
       " '7a4fe30a',\n",
       " '7a5098e0',\n",
       " '7a4c4f60',\n",
       " '7a469bb0',\n",
       " '7a50b06e',\n",
       " '7a4e0e68',\n",
       " '7a496e3a',\n",
       " '7a49ff30',\n",
       " '7a4c2b84',\n",
       " '7a4533a6',\n",
       " '7a48103a',\n",
       " '7a4878d6',\n",
       " '7a455d2c',\n",
       " '7a49913a',\n",
       " '7a4598f0',\n",
       " '7a500c04',\n",
       " '7a481332',\n",
       " '7a48366e',\n",
       " '7a500042',\n",
       " '7a4b859e',\n",
       " '7a4f46fc',\n",
       " '7a4cad98',\n",
       " '7a47a604',\n",
       " '7a48cebc',\n",
       " '7a4c9178',\n",
       " '7a46ba28',\n",
       " '7a49888e',\n",
       " '7a4773fa',\n",
       " '7a4c1720',\n",
       " '7a4c11c6',\n",
       " '7a493f6e',\n",
       " '7a50a93e',\n",
       " '7a497eac',\n",
       " '7a4bdc4c',\n",
       " '7a46b820',\n",
       " '7a4b200e',\n",
       " '7a4b24f0',\n",
       " '7a5159d8',\n",
       " '7a4ddda8',\n",
       " '7a4556e2',\n",
       " '7a483952',\n",
       " '7a48624c',\n",
       " '7a48255c',\n",
       " '7a4bad76',\n",
       " '7a46a95c',\n",
       " '7a4e0224',\n",
       " '7a48b102',\n",
       " '7a49e298',\n",
       " '7a4f5ca0',\n",
       " '7a4bf4ca',\n",
       " '7a4f69d4',\n",
       " '7a4c7d5a',\n",
       " '7a4f0746',\n",
       " '7a4fe4a4',\n",
       " '7a4f1e52',\n",
       " '7a4664a6',\n",
       " '7a50b1a4',\n",
       " '7a4fd482',\n",
       " '7a51210c',\n",
       " '7a505b82',\n",
       " '7a4b7fea',\n",
       " '7a4f4c4c',\n",
       " '7a4b2edc',\n",
       " '7a461dac',\n",
       " '7a4ca23a',\n",
       " '7a49281c',\n",
       " '7a4dfe6e',\n",
       " '7a4b8256',\n",
       " '7a511c70',\n",
       " '7a4e0288',\n",
       " '7a48672e',\n",
       " '7a467cb6',\n",
       " '7a51da2a',\n",
       " '7a4c2f3a',\n",
       " '7a514a4c',\n",
       " '7a4e725e',\n",
       " '7a465d9e',\n",
       " '7a4b33b4',\n",
       " '7a5094da',\n",
       " '7a473840',\n",
       " '7a50711c',\n",
       " '7a4856d0',\n",
       " '7a4f2f3c',\n",
       " '7a50d792',\n",
       " '7a4d71ba',\n",
       " '7a49a9a4',\n",
       " '7a45043a',\n",
       " '7a4a4b16',\n",
       " '7a4e9374',\n",
       " '7a4a2e38',\n",
       " '7a48324a',\n",
       " '7a4754b0',\n",
       " '7a477288',\n",
       " '7a503bca',\n",
       " '7a4be48a',\n",
       " '7a50de7c',\n",
       " '7a48453c',\n",
       " '7a48a7c0',\n",
       " '7a4786a6',\n",
       " '7a4dd4f2',\n",
       " '7a476694',\n",
       " '7a46ed36',\n",
       " '7a4e8a14',\n",
       " '7a45b182',\n",
       " '7a46a9c0',\n",
       " '7a4eec70',\n",
       " '7a452172',\n",
       " '7a479588',\n",
       " '7a4b900c',\n",
       " '7a4eb2fa',\n",
       " '7a4ad00e',\n",
       " '7a50a2b8',\n",
       " '7a4f5890',\n",
       " '7a4997d4',\n",
       " '7a4f9850',\n",
       " '7a4c887c',\n",
       " '7a4b1fa0',\n",
       " '7a4be066',\n",
       " '7a4e4392',\n",
       " '7a4d7f84',\n",
       " '7a48e564',\n",
       " '7a4e909a',\n",
       " '7a50ad3a',\n",
       " '7a4baa2e',\n",
       " '7a4b970a',\n",
       " '7a51c558',\n",
       " '7a4e8050',\n",
       " '7a4b0c54',\n",
       " '7a4e50d0',\n",
       " '7a466154',\n",
       " '7a503b66',\n",
       " '7a4d651c',\n",
       " '7a51a280',\n",
       " '7a4b502e',\n",
       " '7a519bf0',\n",
       " '7a4a4d96',\n",
       " '7a508224',\n",
       " '7a4aba6a',\n",
       " '7a4e774a',\n",
       " '7a4fe846',\n",
       " '7a45a05c',\n",
       " '7a466e9c',\n",
       " '7a51884a',\n",
       " '7a4b509c',\n",
       " '7a457e2e',\n",
       " '7a4e9f04',\n",
       " '7a489b5e',\n",
       " '7a4d77be',\n",
       " '7a4b7d6a',\n",
       " '7a46f8f8',\n",
       " '7a51870a',\n",
       " '7a4e95ea',\n",
       " '7a517012',\n",
       " '7a4eba7a',\n",
       " '7a4aed32',\n",
       " '7a48e848',\n",
       " '7a51a80c',\n",
       " '7a511e8c',\n",
       " '7a471c84',\n",
       " '7a50c46e',\n",
       " '7a4fc4a6',\n",
       " '7a4adcc0',\n",
       " '7a4e8d52',\n",
       " '7a4a9b3e',\n",
       " '7a48532e',\n",
       " '7a4fd4e6',\n",
       " '7a49afc6',\n",
       " '7a4e71fa',\n",
       " '7a4f1ec0',\n",
       " '7a4665dc',\n",
       " '7a4aaef8',\n",
       " '7a4828ae',\n",
       " '7a4a3630',\n",
       " '7a4cd3cc',\n",
       " '7a4f0034',\n",
       " '7a4dbd50',\n",
       " '7a4da432',\n",
       " '7a488998',\n",
       " '7a4a46e8',\n",
       " '7a50228e',\n",
       " '7a4d05ae',\n",
       " '7a483d8a',\n",
       " '7a50072c',\n",
       " '7a4ebc82',\n",
       " '7a4e8cee',\n",
       " '7a4af71e',\n",
       " '7a4d3b5a',\n",
       " '7a4eb71e',\n",
       " '7a4eba0c',\n",
       " '7a4b88b4',\n",
       " '7a492d12',\n",
       " '7a49ef72',\n",
       " '7a4fafe8',\n",
       " '7a471e96',\n",
       " '7a479c5e',\n",
       " '7a4efe86',\n",
       " '7a500240',\n",
       " '7a4bd2d8',\n",
       " '7a4a5304',\n",
       " '7a4f08ea',\n",
       " '7a4bcc48',\n",
       " '7a4f6556',\n",
       " '7a490df0',\n",
       " '7a4c425e',\n",
       " '7a466f00',\n",
       " '7a464f5c',\n",
       " '7a4d923a',\n",
       " '7a4ab2a4',\n",
       " '7a51ba40',\n",
       " '7a4cae6a',\n",
       " '7a4c53e8',\n",
       " '7a484d70',\n",
       " '7a4dbb2a',\n",
       " '7a495a8a',\n",
       " '7a4bd684',\n",
       " '7a4d8c86',\n",
       " '7a49bdd6',\n",
       " '7a489e42',\n",
       " '7a4c4e84',\n",
       " '7a4a80cc',\n",
       " '7a484c9e',\n",
       " '7a4e0634',\n",
       " '7a4fb3f8',\n",
       " '7a50f3d0',\n",
       " '7a4ac596',\n",
       " '7a4c21b6',\n",
       " '7a4d504a',\n",
       " '7a4b6b54',\n",
       " '7a4fa3a4',\n",
       " '7a504872',\n",
       " '7a46510a',\n",
       " '7a49edce',\n",
       " '7a4bb0be',\n",
       " '7a4900f8',\n",
       " '7a483038',\n",
       " '7a498d16',\n",
       " '7a50c612',\n",
       " '7a4bbd84',\n",
       " '7a4956d4',\n",
       " '7a500e70',\n",
       " '7a4e3d0c',\n",
       " '7a4c731e',\n",
       " '7a4663d4',\n",
       " '7a50a65a',\n",
       " '7a506e4c',\n",
       " '7a482a66',\n",
       " '7a4b4796',\n",
       " '7a4aa228',\n",
       " '7a50612c',\n",
       " '7a4b7b58',\n",
       " '7a4f24ba',\n",
       " '7a4b9638',\n",
       " '7a48892a',\n",
       " '7a4fde28',\n",
       " '7a4946da',\n",
       " '7a4c2abc',\n",
       " '7a5082f6',\n",
       " '7a4d27b4',\n",
       " '7a4864c2',\n",
       " '7a4add92',\n",
       " '7a4d7890',\n",
       " '7a45172c',\n",
       " '7a490a9e',\n",
       " '7a45e95e',\n",
       " '7a459314',\n",
       " '7a4f9170',\n",
       " '7a4ad428',\n",
       " '7a4f9440',\n",
       " '7a515f96',\n",
       " '7a4f971a',\n",
       " '7a47675c',\n",
       " '7a46a11e',\n",
       " '7a506a96',\n",
       " '7a50d4c2',\n",
       " '7a4d2af2',\n",
       " '7a518778',\n",
       " '7a5125a8',\n",
       " '7a451a2e',\n",
       " '7a50480e',\n",
       " '7a49dbd6',\n",
       " '7a4d424e',\n",
       " '7a51253a',\n",
       " '7a463c42',\n",
       " '7a4b08a8',\n",
       " '7a487c28',\n",
       " '7a4f8a0e',\n",
       " '7a457866',\n",
       " '7a4a2f14',\n",
       " '7a4dd484',\n",
       " '7a4e8122',\n",
       " '7a519916',\n",
       " '7a4c4fce',\n",
       " '7a5132e6',\n",
       " '7a48e424',\n",
       " '7a4b4ce6',\n",
       " '7a47a4d8',\n",
       " '7a4ab448',\n",
       " '7a45e5f8',\n",
       " '7a51b90a',\n",
       " '7a50e502',\n",
       " '7a4f9abc',\n",
       " '7a4ed2b2',\n",
       " '7a468c7e',\n",
       " '7a50efb6',\n",
       " '7a4b4034',\n",
       " '7a4510ec',\n",
       " '7a4fbe20',\n",
       " '7a47285a',\n",
       " '7a4d1a44',\n",
       " '7a480bda',\n",
       " '7a466b40',\n",
       " '7a46b474',\n",
       " '7a4b660e',\n",
       " '7a4e33b6',\n",
       " '7a4bb4e2',\n",
       " '7a49d2bc',\n",
       " '7a4dee06',\n",
       " '7a50745a',\n",
       " '7a4e916c',\n",
       " '7a4d19e0',\n",
       " '7a4cf834',\n",
       " '7a4a3694',\n",
       " '7a495594',\n",
       " '7a4ff908',\n",
       " '7a459634',\n",
       " '7a46072c',\n",
       " '7a49bca0',\n",
       " '7a454f9e',\n",
       " '7a4fbcea',\n",
       " '7a4b20d6',\n",
       " '7a494d06',\n",
       " '7a4a8c52',\n",
       " '7a51cd46',\n",
       " '7a4c369c',\n",
       " '7a4e4dd8',\n",
       " '7a47209e',\n",
       " '7a47a1e0',\n",
       " '7a4812c4',\n",
       " '7a49617e',\n",
       " '7a46c48c',\n",
       " '7a4677c0',\n",
       " '7a4b03c6',\n",
       " '7a47dbe2',\n",
       " '7a50d17a',\n",
       " '7a4bfa1a',\n",
       " '7a4f2668',\n",
       " '7a4c37c8',\n",
       " '7a490530',\n",
       " '7a44fb2a',\n",
       " '7a519cc2',\n",
       " '7a4e59c2',\n",
       " '7a4f5e4e',\n",
       " '7a457fbe',\n",
       " '7a48ea50',\n",
       " '7a45a868',\n",
       " '7a4a8626',\n",
       " '7a4fc776',\n",
       " '7a4ad220',\n",
       " '7a490e54',\n",
       " '7a4bae48',\n",
       " '7a4ad496',\n",
       " '7a48a054',\n",
       " '7a4abcc2',\n",
       " '7a4d65e4',\n",
       " '7a50f8b2',\n",
       " '7a4dd7ea',\n",
       " '7a45b7c2',\n",
       " '7a51f06e',\n",
       " '7a4ac8f2',\n",
       " '7a4b34ea',\n",
       " '7a4a66b4',\n",
       " '7a4dde16',\n",
       " '7a48b382',\n",
       " '7a51e272',\n",
       " '7a50df4e',\n",
       " '7a4e1a48',\n",
       " '7a4e92a2',\n",
       " '7a49c614',\n",
       " '7a4a4a44',\n",
       " '7a51ca58',\n",
       " '7a4f6416',\n",
       " '7a489596',\n",
       " '7a49312c',\n",
       " '7a4b9070',\n",
       " '7a4e3140',\n",
       " '7a51b3b0',\n",
       " '7a46f614',\n",
       " '7a4f3b08',\n",
       " '7a483380',\n",
       " '7a45b592',\n",
       " '7a45d48c',\n",
       " '7a4cab86',\n",
       " '7a49b0a2',\n",
       " '7a494af4',\n",
       " '7a51021c',\n",
       " '7a4e3d70',\n",
       " '7a485cfc',\n",
       " '7a4ea116',\n",
       " '7a5053b2',\n",
       " '7a4d6378',\n",
       " '7a504944',\n",
       " '7a45eb0c',\n",
       " '7a485bbc',\n",
       " '7a484c30',\n",
       " '7a4b5ae2',\n",
       " '7a459b34',\n",
       " '7a50312a',\n",
       " '7a4e7fe2',\n",
       " '7a4852c0',\n",
       " '7a4bf8e4',\n",
       " '7a4d121a',\n",
       " '7a4e3758',\n",
       " '7a475884',\n",
       " '7a4fb66e',\n",
       " '7a49d3fc',\n",
       " '7a508a4e',\n",
       " '7a4d4460',\n",
       " '7a4c9312',\n",
       " '7a502702',\n",
       " '7a50d044',\n",
       " '7a46a254',\n",
       " '7a457dac',\n",
       " '7a450070',\n",
       " '7a4e049a',\n",
       " '7a4be5c0',\n",
       " '7a50374c',\n",
       " '7a494f0e',\n",
       " '7a492380',\n",
       " '7a50c7b6',\n",
       " '7a4716bc',\n",
       " '7a498c44',\n",
       " '7a46cb94',\n",
       " '7a4df360',\n",
       " '7a51ed1c',\n",
       " '7a4c30de',\n",
       " '7a45915c',\n",
       " '7a459e2c',\n",
       " '7a4becaa',\n",
       " '7a4a460c',\n",
       " '7a4ef116',\n",
       " '7a45e328',\n",
       " '7a5195ce',\n",
       " '7a4e445a',\n",
       " '7a4edc62',\n",
       " '7a517152',\n",
       " '7a4c50a0',\n",
       " '7a488cf4',\n",
       " '7a50e8ae',\n",
       " '7a488f06',\n",
       " '7a4f0886',\n",
       " '7a4debfe',\n",
       " '7a4eb93a',\n",
       " '7a48e7da',\n",
       " '7a4fc97e',\n",
       " '7a4bf056',\n",
       " '7a4c81ec',\n",
       " '7a4b72c0',\n",
       " '7a4b128a',\n",
       " '7a492de4',\n",
       " '7a4de83e',\n",
       " '7a4c71e8',\n",
       " '7a4e148a',\n",
       " '7a4afc14',\n",
       " '7a476f4a',\n",
       " '7a48bfda',\n",
       " '7a4be7c8',\n",
       " '7a4a4256',\n",
       " '7a4a4184',\n",
       " '7a494a22',\n",
       " '7a51c21a',\n",
       " '7a4ba9ca',\n",
       " '7a48fb3a',\n",
       " '7a4ce48e',\n",
       " '7a489bcc',\n",
       " '7a4fac32',\n",
       " '7a4c1ba8',\n",
       " '7a516964',\n",
       " '7a4e45fe',\n",
       " '7a4f3356',\n",
       " '7a502a4a',\n",
       " '7a4e57ba',\n",
       " '7a4924b6',\n",
       " '7a4c5e1a',\n",
       " '7a499c5c',\n",
       " '7a46f132',\n",
       " '7a490f26',\n",
       " '7a4da63a',\n",
       " '7a49f04e',\n",
       " '7a4c31b0',\n",
       " '7a4b0434',\n",
       " '7a48980c',\n",
       " '7a481db4',\n",
       " '7a4ea3aa',\n",
       " '7a51aff0',\n",
       " '7a4f12fe',\n",
       " '7a4f44ea',\n",
       " '7a452244',\n",
       " '7a4e66c4',\n",
       " '7a4bb122',\n",
       " '7a4d9f3c',\n",
       " '7a459d50',\n",
       " '7a48d90c',\n",
       " '7a4ce218',\n",
       " '7a4b3e22',\n",
       " '7a46185c',\n",
       " '7a4ff836',\n",
       " '7a4811e8',\n",
       " '7a4f0606',\n",
       " '7a51c9ea',\n",
       " '7a510848',\n",
       " '7a4d94a6',\n",
       " '7a498618',\n",
       " '7a46524a',\n",
       " '7a4872a0',\n",
       " '7a51e7d6',\n",
       " '7a4ddc04',\n",
       " '7a4c6590',\n",
       " '7a47146e',\n",
       " '7a505dee',\n",
       " '7a4768ec',\n",
       " '7a4fb8e4',\n",
       " '7a51583e',\n",
       " '7a4be692',\n",
       " '7a4bac36',\n",
       " '7a4abbe6',\n",
       " '7a4c5104',\n",
       " '7a4ce3bc',\n",
       " '7a498ca8',\n",
       " '7a471a90',\n",
       " '7a4e4afe',\n",
       " '7a4b2d38',\n",
       " '7a48f432',\n",
       " '7a4d9780',\n",
       " '7a459ba2',\n",
       " '7a468e22',\n",
       " '7a484884',\n",
       " '7a4f9102',\n",
       " '7a4cbf40',\n",
       " '7a4500d4',\n",
       " '7a46aa92',\n",
       " '7a45ee72',\n",
       " '7a45e166',\n",
       " '7a4e02f6',\n",
       " '7a4619e2',\n",
       " '7a501f50',\n",
       " '7a4b2356',\n",
       " '7a496bc4',\n",
       " '7a4909cc',\n",
       " '7a47eede',\n",
       " '7a4857a2',\n",
       " '7a4e9518',\n",
       " '7a495602',\n",
       " '7a4503cc',\n",
       " '7a4c5938',\n",
       " '7a4f13d0',\n",
       " '7a4ab3da',\n",
       " '7a4d8a7e',\n",
       " '7a4dfac2',\n",
       " '7a480914',\n",
       " '7a515064',\n",
       " '7a45ed5a',\n",
       " '7a50863e',\n",
       " '7a4a5930',\n",
       " '7a516752',\n",
       " '7a4d6724',\n",
       " '7a4bcf2c',\n",
       " '7a4dce58',\n",
       " '7a51a5d2',\n",
       " '7a4fb9b6',\n",
       " '7a4d24da',\n",
       " '7a4593f0',\n",
       " '7a4d5af4',\n",
       " '7a4891e0',\n",
       " '7a50e0e8',\n",
       " '7a517f44',\n",
       " '7a502be4',\n",
       " '7a468bac',\n",
       " '7a4779e0',\n",
       " '7a451812',\n",
       " '7a4a1baa',\n",
       " '7a46678a',\n",
       " '7a4833ee',\n",
       " '7a506956',\n",
       " '7a50cca2',\n",
       " '7a4be278',\n",
       " '7a46c20c',\n",
       " '7a51a21c',\n",
       " '7a467040',\n",
       " '7a4bd26a',\n",
       " '7a45fd5e',\n",
       " '7a4ae986',\n",
       " '7a469e26',\n",
       " '7a4dec62',\n",
       " '7a50e494',\n",
       " '7a4dc958',\n",
       " '7a4d4a28',\n",
       " '7a451c90',\n",
       " '7a4b8cce',\n",
       " '7a4f5bd8',\n",
       " '7a4c5726',\n",
       " '7a4eb4a8',\n",
       " '7a4be8fe',\n",
       " '7a4f15f6',\n",
       " '7a472d5a',\n",
       " '7a4c6bbc',\n",
       " '7a4b87b0',\n",
       " '7a45071e',\n",
       " '7a4f9f9e',\n",
       " '7a496598',\n",
       " '7a5100dc',\n",
       " '7a4a8b12',\n",
       " '7a500d3a',\n",
       " '7a486044',\n",
       " '7a4ff552',\n",
       " '7a4c44d4',\n",
       " '7a4efef4',\n",
       " '7a475028',\n",
       " '7a50e3c2',\n",
       " '7a4d78fe',\n",
       " '7a47fab4',\n",
       " '7a4c551e',\n",
       " '7a4edee2',\n",
       " '7a48140e',\n",
       " '7a455e08',\n",
       " '7a51debc',\n",
       " '7a47961e',\n",
       " '7a4ff278',\n",
       " '7a4ac4f6',\n",
       " '7a4dc2b4',\n",
       " '7a45dd9c',\n",
       " '7a4ce074',\n",
       " '7a469372',\n",
       " '7a4b4732',\n",
       " '7a509746',\n",
       " '7a45f62e',\n",
       " '7a46f358',\n",
       " '7a4b0b82',\n",
       " '7a4610c8',\n",
       " '7a44dcf8',\n",
       " '7a4f2b04',\n",
       " '7a4c5e88',\n",
       " '7a4e658e',\n",
       " '7a4efc74',\n",
       " '7a4cebfa',\n",
       " '7a4a6f1a',\n",
       " '7a484000',\n",
       " '7a4dacd4',\n",
       " '7a491624',\n",
       " '7a4ad3c4',\n",
       " '7a47b3a6',\n",
       " '7a46e962',\n",
       " '7a4c7bb6',\n",
       " '7a50590c',\n",
       " '7a478c8c',\n",
       " '7a46449e',\n",
       " '7a4df28e',\n",
       " '7a4ecb0a',\n",
       " '7a50e778',\n",
       " '7a487e30',\n",
       " '7a4d859c',\n",
       " '7a4ee7ca',\n",
       " '7a4c09a6',\n",
       " '7a4c717a',\n",
       " '7a51463c',\n",
       " '7a4be890',\n",
       " '7a505cb8',\n",
       " '7a4c1e14',\n",
       " '7a47f186',\n",
       " '7a4f6eb6',\n",
       " '7a4ec876',\n",
       " '7a4c1e78',\n",
       " '7a4701d6',\n",
       " '7a503ddc',\n",
       " '7a4deab4',\n",
       " '7a4c609a',\n",
       " '7a46e53e',\n",
       " '7a454d82',\n",
       " '7a50f2f4',\n",
       " '7a4fe7e2',\n",
       " '7a4adfb8',\n",
       " '7a484b5e',\n",
       " '7a48da42',\n",
       " '7a471536',\n",
       " '7a4b7af4',\n",
       " '7a4b32ec',\n",
       " '7a463fa8',\n",
       " '7a508cba',\n",
       " '7a50cc34',\n",
       " '7a4ca096',\n",
       " '7a4eeb26',\n",
       " '7a517da0',\n",
       " '7a50660e',\n",
       " '7a4bda3a',\n",
       " '7a48c6ec',\n",
       " '7a460434',\n",
       " '7a48269c',\n",
       " '7a480fcc',\n",
       " '7a4753fc',\n",
       " '7a51b9dc',\n",
       " '7a4d930c',\n",
       " '7a49119c',\n",
       " '7a50506a',\n",
       " '7a4a578c',\n",
       " '7a49545e',\n",
       " '7a453ac2',\n",
       " '7a4642f0',\n",
       " '7a4d359c',\n",
       " '7a511428',\n",
       " '7a4903e6',\n",
       " '7a4f54e4',\n",
       " '7a46aeac',\n",
       " '7a51e68c',\n",
       " '7a48ddee',\n",
       " '7a4be9d0',\n",
       " '7a4d3e34',\n",
       " '7a4c6efa',\n",
       " '7a4ea8dc',\n",
       " '7a44df46',\n",
       " '7a485dce',\n",
       " '7a4c06cc',\n",
       " '7a4e8258',\n",
       " '7a48e19a',\n",
       " '7a48ca98',\n",
       " '7a46adda',\n",
       " '7a51a3ca',\n",
       " '7a47e6f0',\n",
       " '7a497402',\n",
       " '7a4726d4',\n",
       " '7a5133b8',\n",
       " '7a4c1c0c',\n",
       " '7a515e60',\n",
       " '7a4a9a6c',\n",
       " '7a475c62',\n",
       " '7a4a091c',\n",
       " '7a462388',\n",
       " '7a51f28a',\n",
       " '7a475280',\n",
       " '7a46b758',\n",
       " '7a4e3a96',\n",
       " '7a45c096',\n",
       " '7a5114fa',\n",
       " '7a502cb6',\n",
       " '7a46b956',\n",
       " '7a4c623e',\n",
       " '7a4b53da',\n",
       " '7a45a8d6',\n",
       " '7a46ebe2',\n",
       " '7a48262e',\n",
       " '7a45fb42',\n",
       " '7a5093fe',\n",
       " '7a47913c',\n",
       " '7a4a2a6e',\n",
       " '7a4f2226',\n",
       " '7a4ad766',\n",
       " '7a4c7e9a',\n",
       " '7a4db7a6',\n",
       " '7a4a6bf0',\n",
       " '7a5152da',\n",
       " '7a4991a8',\n",
       " '7a4f50ca',\n",
       " '7a4f4eb8',\n",
       " '7a4c786e',\n",
       " '7a506334',\n",
       " '7a47d8b8',\n",
       " '7a45f69c',\n",
       " '7a4a4828',\n",
       " '7a4b9f3e',\n",
       " '7a4dc52a',\n",
       " '7a4f98be',\n",
       " '7a48a2d4',\n",
       " '7a4de154',\n",
       " '7a4b4656',\n",
       " '7a4649f8',\n",
       " '7a51d098',\n",
       " '7a4eb9a8',\n",
       " '7a4978ee',\n",
       " '7a4535fe',\n",
       " '7a5199e8',\n",
       " '7a49b732',\n",
       " '7a4e097c',\n",
       " '7a4ae6ac',\n",
       " '7a4f4d82',\n",
       " '7a482ef8',\n",
       " '7a49cbd2',\n",
       " '7a44da50',\n",
       " '7a4f9b20',\n",
       " '7a491e08',\n",
       " '7a488c22',\n",
       " '7a4b680c',\n",
       " '7a4b6118',\n",
       " '7a49081e',\n",
       " '7a4b3486',\n",
       " '7a48b58a',\n",
       " '7a47051e',\n",
       " '7a516aa4',\n",
       " '7a50f290',\n",
       " '7a4f7618',\n",
       " '7a46732e',\n",
       " '7a4f859a',\n",
       " '7a464e1c',\n",
       " '7a472a94',\n",
       " '7a495af8',\n",
       " '7a50ac68',\n",
       " '7a516df6',\n",
       " '7a4b6f0a',\n",
       " '7a50cd06',\n",
       " '7a49c5a6',\n",
       " '7a4e4f0e',\n",
       " '7a51d37c',\n",
       " '7a496b56',\n",
       " '7a4e8bae',\n",
       " '7a4c6c2a',\n",
       " '7a51b4f0',\n",
       " '7a4842d0',\n",
       " '7a487084',\n",
       " '7a460a92',\n",
       " '7a45aa8e',\n",
       " '7a4a971a',\n",
       " '7a4942c0',\n",
       " '7a4bad08',\n",
       " '7a4eb368',\n",
       " '7a509e94',\n",
       " '7a4a3126',\n",
       " '7a4fd00e',\n",
       " '7a4b5790',\n",
       " '7a44edba',\n",
       " '7a4ce556',\n",
       " '7a4d1148',\n",
       " '7a4b142e',\n",
       " '7a504052',\n",
       " '7a507252',\n",
       " '7a48dcb8',\n",
       " '7a44f0d0',\n",
       " '7a48a40a',\n",
       " '7a48c2d2',\n",
       " '7a5095a2',\n",
       " '7a48ad88',\n",
       " '7a465c54',\n",
       " '7a4e8942',\n",
       " '7a4ee02c',\n",
       " '7a48c4da',\n",
       " '7a4f47ce',\n",
       " '7a48dff6',\n",
       " '7a4b321a',\n",
       " '7a5054e8',\n",
       " '7a5119fa',\n",
       " '7a493af0',\n",
       " '7a4ad9e6',\n",
       " '7a473322',\n",
       " '7a4634a4',\n",
       " '7a502f86',\n",
       " '7a4846e0',\n",
       " '7a4d2f0c',\n",
       " '7a4ab51a',\n",
       " '7a495c9c',\n",
       " '7a44dfb4',\n",
       " '7a49dafa',\n",
       " '7a492664',\n",
       " '7a4edcd0',\n",
       " '7a4ebdc2',\n",
       " '7a48811e',\n",
       " '7a4a5bce',\n",
       " '7a49481a',\n",
       " '7a4f4896',\n",
       " '7a4fc91a',\n",
       " '7a512968',\n",
       " '7a4945a4',\n",
       " '7a4a55e8',\n",
       " '7a493190',\n",
       " '7a462a0e',\n",
       " '7a4824ee',\n",
       " '7a4de500',\n",
       " '7a462c34',\n",
       " '7a51be00',\n",
       " '7a47de94',\n",
       " '7a47a7bc',\n",
       " '7a517364',\n",
       " '7a48c548',\n",
       " '7a4b7f7c',\n",
       " '7a452776',\n",
       " '7a49a5e4',\n",
       " '7a508f94',\n",
       " '7a4895fa',\n",
       " '7a472b48',\n",
       " '7a51eab0',\n",
       " '7a4ffea8',\n",
       " '7a492f88',\n",
       " '7a4d2822',\n",
       " '7a50381e',\n",
       " '7a45f034',\n",
       " '7a47e0e2',\n",
       " '7a4f512e',\n",
       " '7a50e91c',\n",
       " '7a4920a6',\n",
       " '7a471856',\n",
       " '7a510ac8',\n",
       " '7a4e2b82',\n",
       " '7a50a6c8',\n",
       " '7a4beb6a',\n",
       " '7a515aaa',\n",
       " '7a4b4246',\n",
       " '7a515a3c',\n",
       " '7a4b9bec',\n",
       " '7a4a3d4c',\n",
       " '7a5092c8',\n",
       " '7a4f3752',\n",
       " '7a48f1b2',\n",
       " '7a5038f0',\n",
       " '7a44ff26',\n",
       " '7a4b0cc2',\n",
       " ...]"
      ]
     },
     "execution_count": 135,
     "metadata": {},
     "output_type": "execute_result"
    }
   ],
   "source": [
    "baseline_ids"
   ]
  },
  {
   "cell_type": "code",
   "execution_count": 136,
   "metadata": {},
   "outputs": [],
   "source": [
    "assert set(pred_ids)==set(baseline_ids)"
   ]
  },
  {
   "cell_type": "markdown",
   "metadata": {},
   "source": [
    "#### sort by baseline ids"
   ]
  },
  {
   "cell_type": "code",
   "execution_count": 137,
   "metadata": {},
   "outputs": [],
   "source": [
    "pred_df['id_cat'] = pd.Categorical(\n",
    "    pred_df['id'], \n",
    "    categories=baseline_ids, \n",
    "    ordered=True\n",
    ")"
   ]
  },
  {
   "cell_type": "code",
   "execution_count": 138,
   "metadata": {},
   "outputs": [
    {
     "data": {
      "text/html": [
       "<div>\n",
       "<style scoped>\n",
       "    .dataframe tbody tr th:only-of-type {\n",
       "        vertical-align: middle;\n",
       "    }\n",
       "\n",
       "    .dataframe tbody tr th {\n",
       "        vertical-align: top;\n",
       "    }\n",
       "\n",
       "    .dataframe thead th {\n",
       "        text-align: right;\n",
       "    }\n",
       "</style>\n",
       "<table border=\"1\" class=\"dataframe\">\n",
       "  <thead>\n",
       "    <tr style=\"text-align: right;\">\n",
       "      <th></th>\n",
       "      <th>id</th>\n",
       "      <th>concrete_cement</th>\n",
       "      <th>healthy_metal</th>\n",
       "      <th>incomplete</th>\n",
       "      <th>irregular_metal</th>\n",
       "      <th>other</th>\n",
       "      <th>id_cat</th>\n",
       "    </tr>\n",
       "  </thead>\n",
       "  <tbody>\n",
       "    <tr>\n",
       "      <td>0</td>\n",
       "      <td>7a4d9168</td>\n",
       "      <td>0.009773</td>\n",
       "      <td>0.988596</td>\n",
       "      <td>0.000548</td>\n",
       "      <td>0.000526</td>\n",
       "      <td>0.000556</td>\n",
       "      <td>7a4d9168</td>\n",
       "    </tr>\n",
       "    <tr>\n",
       "      <td>1</td>\n",
       "      <td>7a4ae922</td>\n",
       "      <td>0.001087</td>\n",
       "      <td>0.986662</td>\n",
       "      <td>0.000228</td>\n",
       "      <td>0.011893</td>\n",
       "      <td>0.000129</td>\n",
       "      <td>7a4ae922</td>\n",
       "    </tr>\n",
       "    <tr>\n",
       "      <td>2</td>\n",
       "      <td>7a48ca98</td>\n",
       "      <td>0.002392</td>\n",
       "      <td>0.225353</td>\n",
       "      <td>0.022957</td>\n",
       "      <td>0.747425</td>\n",
       "      <td>0.001873</td>\n",
       "      <td>7a48ca98</td>\n",
       "    </tr>\n",
       "    <tr>\n",
       "      <td>3</td>\n",
       "      <td>7a49c614</td>\n",
       "      <td>0.000791</td>\n",
       "      <td>0.975357</td>\n",
       "      <td>0.000984</td>\n",
       "      <td>0.022245</td>\n",
       "      <td>0.000623</td>\n",
       "      <td>7a49c614</td>\n",
       "    </tr>\n",
       "    <tr>\n",
       "      <td>4</td>\n",
       "      <td>7a4dd4f2</td>\n",
       "      <td>0.000463</td>\n",
       "      <td>0.967177</td>\n",
       "      <td>0.000873</td>\n",
       "      <td>0.028267</td>\n",
       "      <td>0.003220</td>\n",
       "      <td>7a4dd4f2</td>\n",
       "    </tr>\n",
       "  </tbody>\n",
       "</table>\n",
       "</div>"
      ],
      "text/plain": [
       "         id  concrete_cement  healthy_metal  incomplete  irregular_metal  \\\n",
       "0  7a4d9168         0.009773       0.988596    0.000548         0.000526   \n",
       "1  7a4ae922         0.001087       0.986662    0.000228         0.011893   \n",
       "2  7a48ca98         0.002392       0.225353    0.022957         0.747425   \n",
       "3  7a49c614         0.000791       0.975357    0.000984         0.022245   \n",
       "4  7a4dd4f2         0.000463       0.967177    0.000873         0.028267   \n",
       "\n",
       "      other    id_cat  \n",
       "0  0.000556  7a4d9168  \n",
       "1  0.000129  7a4ae922  \n",
       "2  0.001873  7a48ca98  \n",
       "3  0.000623  7a49c614  \n",
       "4  0.003220  7a4dd4f2  "
      ]
     },
     "execution_count": 138,
     "metadata": {},
     "output_type": "execute_result"
    }
   ],
   "source": [
    "pred_df.head()"
   ]
  },
  {
   "cell_type": "code",
   "execution_count": 139,
   "metadata": {},
   "outputs": [],
   "source": [
    "pred_df=pred_df.sort_values('id_cat')"
   ]
  },
  {
   "cell_type": "code",
   "execution_count": 140,
   "metadata": {},
   "outputs": [
    {
     "data": {
      "text/html": [
       "<div>\n",
       "<style scoped>\n",
       "    .dataframe tbody tr th:only-of-type {\n",
       "        vertical-align: middle;\n",
       "    }\n",
       "\n",
       "    .dataframe tbody tr th {\n",
       "        vertical-align: top;\n",
       "    }\n",
       "\n",
       "    .dataframe thead th {\n",
       "        text-align: right;\n",
       "    }\n",
       "</style>\n",
       "<table border=\"1\" class=\"dataframe\">\n",
       "  <thead>\n",
       "    <tr style=\"text-align: right;\">\n",
       "      <th></th>\n",
       "      <th>id</th>\n",
       "      <th>concrete_cement</th>\n",
       "      <th>healthy_metal</th>\n",
       "      <th>incomplete</th>\n",
       "      <th>irregular_metal</th>\n",
       "      <th>other</th>\n",
       "      <th>id_cat</th>\n",
       "    </tr>\n",
       "  </thead>\n",
       "  <tbody>\n",
       "    <tr>\n",
       "      <td>716</td>\n",
       "      <td>7a4d630a</td>\n",
       "      <td>0.002565</td>\n",
       "      <td>0.977879</td>\n",
       "      <td>0.003695</td>\n",
       "      <td>0.014461</td>\n",
       "      <td>0.001400</td>\n",
       "      <td>7a4d630a</td>\n",
       "    </tr>\n",
       "    <tr>\n",
       "      <td>764</td>\n",
       "      <td>7a4bbbd6</td>\n",
       "      <td>0.000488</td>\n",
       "      <td>0.989842</td>\n",
       "      <td>0.000594</td>\n",
       "      <td>0.008172</td>\n",
       "      <td>0.000904</td>\n",
       "      <td>7a4bbbd6</td>\n",
       "    </tr>\n",
       "    <tr>\n",
       "      <td>1841</td>\n",
       "      <td>7a4ac744</td>\n",
       "      <td>0.002789</td>\n",
       "      <td>0.064884</td>\n",
       "      <td>0.004274</td>\n",
       "      <td>0.927339</td>\n",
       "      <td>0.000713</td>\n",
       "      <td>7a4ac744</td>\n",
       "    </tr>\n",
       "    <tr>\n",
       "      <td>3363</td>\n",
       "      <td>7a4881fa</td>\n",
       "      <td>0.001195</td>\n",
       "      <td>0.008399</td>\n",
       "      <td>0.001224</td>\n",
       "      <td>0.988718</td>\n",
       "      <td>0.000465</td>\n",
       "      <td>7a4881fa</td>\n",
       "    </tr>\n",
       "    <tr>\n",
       "      <td>133</td>\n",
       "      <td>7a4aa4a8</td>\n",
       "      <td>0.004565</td>\n",
       "      <td>0.957510</td>\n",
       "      <td>0.003574</td>\n",
       "      <td>0.033118</td>\n",
       "      <td>0.001234</td>\n",
       "      <td>7a4aa4a8</td>\n",
       "    </tr>\n",
       "  </tbody>\n",
       "</table>\n",
       "</div>"
      ],
      "text/plain": [
       "            id  concrete_cement  healthy_metal  incomplete  irregular_metal  \\\n",
       "716   7a4d630a         0.002565       0.977879    0.003695         0.014461   \n",
       "764   7a4bbbd6         0.000488       0.989842    0.000594         0.008172   \n",
       "1841  7a4ac744         0.002789       0.064884    0.004274         0.927339   \n",
       "3363  7a4881fa         0.001195       0.008399    0.001224         0.988718   \n",
       "133   7a4aa4a8         0.004565       0.957510    0.003574         0.033118   \n",
       "\n",
       "         other    id_cat  \n",
       "716   0.001400  7a4d630a  \n",
       "764   0.000904  7a4bbbd6  \n",
       "1841  0.000713  7a4ac744  \n",
       "3363  0.000465  7a4881fa  \n",
       "133   0.001234  7a4aa4a8  "
      ]
     },
     "execution_count": 140,
     "metadata": {},
     "output_type": "execute_result"
    }
   ],
   "source": [
    "pred_df.head()"
   ]
  },
  {
   "cell_type": "code",
   "execution_count": 141,
   "metadata": {},
   "outputs": [],
   "source": [
    "pred_df.drop(columns=['id_cat'],inplace=True)"
   ]
  },
  {
   "cell_type": "code",
   "execution_count": 142,
   "metadata": {},
   "outputs": [],
   "source": [
    "assert (len(pred_df))==7325"
   ]
  },
  {
   "cell_type": "code",
   "execution_count": 143,
   "metadata": {},
   "outputs": [],
   "source": [
    "pred_df.to_csv(data_dir/f'submissions/stage-2-{arch_name}-{NB_NUM}-{MODEL_NAME}-{DATE}-{UID}.csv', index=False)"
   ]
  },
  {
   "cell_type": "code",
   "execution_count": null,
   "metadata": {},
   "outputs": [],
   "source": [
    "### "
   ]
  }
 ],
 "metadata": {
  "kernelspec": {
   "display_name": "Python 3",
   "language": "python",
   "name": "python3"
  },
  "language_info": {
   "codemirror_mode": {
    "name": "ipython",
    "version": 3
   },
   "file_extension": ".py",
   "mimetype": "text/x-python",
   "name": "python",
   "nbconvert_exporter": "python",
   "pygments_lexer": "ipython3",
   "version": "3.7.4"
  }
 },
 "nbformat": 4,
 "nbformat_minor": 2
}
