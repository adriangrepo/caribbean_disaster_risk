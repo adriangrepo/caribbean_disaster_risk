{
 "cells": [
  {
   "cell_type": "markdown",
   "metadata": {},
   "source": [
    "## Train and Prediction on all data\n",
    "\n",
    "Using rotated to hz + OpenCv border\n",
    "\n",
    "Basic default transforms"
   ]
  },
  {
   "cell_type": "code",
   "execution_count": 44,
   "metadata": {},
   "outputs": [],
   "source": [
    "%reload_ext autoreload\n",
    "%autoreload 2\n",
    "%matplotlib inline"
   ]
  },
  {
   "cell_type": "code",
   "execution_count": 45,
   "metadata": {},
   "outputs": [],
   "source": [
    "from fastai.vision import *\n",
    "import geopandas as gpd\n",
    "from resizeimage import resizeimage\n",
    "import datetime\n",
    "import uuid\n",
    "from os import listdir\n",
    "from os.path import isfile, join\n",
    "from fastai_extensions import *"
   ]
  },
  {
   "cell_type": "code",
   "execution_count": 46,
   "metadata": {},
   "outputs": [],
   "source": [
    "pd.set_option('display.max_columns', None)  \n",
    "pd.set_option('display.expand_frame_repr', False)\n",
    "pd.set_option('max_colwidth', -1)"
   ]
  },
  {
   "cell_type": "code",
   "execution_count": 47,
   "metadata": {},
   "outputs": [
    {
     "data": {
      "text/plain": [
       "1"
      ]
     },
     "execution_count": 47,
     "metadata": {},
     "output_type": "execute_result"
    }
   ],
   "source": [
    "torch.cuda.set_device(1)\n",
    "torch.cuda.current_device()"
   ]
  },
  {
   "cell_type": "code",
   "execution_count": 48,
   "metadata": {},
   "outputs": [],
   "source": [
    "data_dir = Path('data')\n",
    "data_04 = Path('data_04')"
   ]
  },
  {
   "cell_type": "code",
   "execution_count": 49,
   "metadata": {},
   "outputs": [],
   "source": [
    "qc_path=data_dir/'processing/model_confusion_qc/'"
   ]
  },
  {
   "cell_type": "code",
   "execution_count": 50,
   "metadata": {},
   "outputs": [],
   "source": [
    "MODEL_NAME='bg_const'\n",
    "tfm_name='cutout'"
   ]
  },
  {
   "cell_type": "code",
   "execution_count": 51,
   "metadata": {},
   "outputs": [],
   "source": [
    "NB_NUM='03_28'"
   ]
  },
  {
   "cell_type": "code",
   "execution_count": 52,
   "metadata": {},
   "outputs": [
    {
     "name": "stdout",
     "output_type": "stream",
     "text": [
      "UID: 004fa2d0, DATE: 20191203\n"
     ]
    }
   ],
   "source": [
    "DATE = datetime.datetime.today().strftime('%Y%m%d')\n",
    "UID=str(uuid.uuid4())[:8]\n",
    "print(f'UID: {UID}, DATE: {DATE}')                                                 "
   ]
  },
  {
   "cell_type": "code",
   "execution_count": 53,
   "metadata": {},
   "outputs": [],
   "source": [
    "SUB_NUM='30'"
   ]
  },
  {
   "cell_type": "code",
   "execution_count": 54,
   "metadata": {},
   "outputs": [],
   "source": [
    "img_size=256\n",
    "bs=128\n",
    "background='constant'"
   ]
  },
  {
   "cell_type": "code",
   "execution_count": 55,
   "metadata": {},
   "outputs": [],
   "source": [
    "train_images=data_04/f'train/rotated/clipped/constant/{img_size}'\n",
    "test_images=data_04/f'test/rotated/clipped/constant/{img_size}'"
   ]
  },
  {
   "cell_type": "code",
   "execution_count": 56,
   "metadata": {},
   "outputs": [],
   "source": [
    "train_names = get_image_files(train_images)"
   ]
  },
  {
   "cell_type": "code",
   "execution_count": 57,
   "metadata": {},
   "outputs": [],
   "source": [
    "test_names = get_image_files(test_images)"
   ]
  },
  {
   "cell_type": "code",
   "execution_count": 58,
   "metadata": {},
   "outputs": [],
   "source": [
    "dfl=[]\n",
    "for i in range(5):\n",
    "    df=pd.read_csv(qc_path/f'03_28-0c79e3be_rz-s2-r{i}-20191201_result.csv')\n",
    "    dfl.append(df)\n",
    "df=pd.concat(dfl)"
   ]
  },
  {
   "cell_type": "code",
   "execution_count": 59,
   "metadata": {
    "scrolled": true
   },
   "outputs": [],
   "source": [
    "dfl=[]\n",
    "for i in range(5):\n",
    "    df=pd.read_csv(qc_path/f'03_28-0c79e3be_rz-s2-r{i}-20191201_preds.csv')\n",
    "    dfl.append(df)\n",
    "dfp=pd.concat(dfl)"
   ]
  },
  {
   "cell_type": "code",
   "execution_count": 60,
   "metadata": {},
   "outputs": [
    {
     "data": {
      "text/html": [
       "<div>\n",
       "<style scoped>\n",
       "    .dataframe tbody tr th:only-of-type {\n",
       "        vertical-align: middle;\n",
       "    }\n",
       "\n",
       "    .dataframe tbody tr th {\n",
       "        vertical-align: top;\n",
       "    }\n",
       "\n",
       "    .dataframe thead th {\n",
       "        text-align: right;\n",
       "    }\n",
       "</style>\n",
       "<table border=\"1\" class=\"dataframe\">\n",
       "  <thead>\n",
       "    <tr style=\"text-align: right;\">\n",
       "      <th></th>\n",
       "      <th>Unnamed: 0</th>\n",
       "      <th>id</th>\n",
       "      <th>pred</th>\n",
       "      <th>loss</th>\n",
       "      <th>model</th>\n",
       "    </tr>\n",
       "  </thead>\n",
       "  <tbody>\n",
       "    <tr>\n",
       "      <td>0</td>\n",
       "      <td>0</td>\n",
       "      <td>7a2d1320_256_bgconstant</td>\n",
       "      <td>concrete_cement</td>\n",
       "      <td>7.26</td>\n",
       "      <td>03_28-0c79e3be_rz-s2-r0-20191201</td>\n",
       "    </tr>\n",
       "    <tr>\n",
       "      <td>1</td>\n",
       "      <td>1</td>\n",
       "      <td>7a2d1320_zoom</td>\n",
       "      <td>concrete_cement</td>\n",
       "      <td>6.72</td>\n",
       "      <td>03_28-0c79e3be_rz-s2-r0-20191201</td>\n",
       "    </tr>\n",
       "    <tr>\n",
       "      <td>2</td>\n",
       "      <td>2</td>\n",
       "      <td>7a2d1320_256_wrap</td>\n",
       "      <td>concrete_cement</td>\n",
       "      <td>6.67</td>\n",
       "      <td>03_28-0c79e3be_rz-s2-r0-20191201</td>\n",
       "    </tr>\n",
       "    <tr>\n",
       "      <td>3</td>\n",
       "      <td>3</td>\n",
       "      <td>7a2d1320_256_reflect</td>\n",
       "      <td>concrete_cement</td>\n",
       "      <td>6.22</td>\n",
       "      <td>03_28-0c79e3be_rz-s2-r0-20191201</td>\n",
       "    </tr>\n",
       "    <tr>\n",
       "      <td>4</td>\n",
       "      <td>4</td>\n",
       "      <td>7a2dcf7c_256_reflect</td>\n",
       "      <td>irregular_metal</td>\n",
       "      <td>5.94</td>\n",
       "      <td>03_28-0c79e3be_rz-s2-r0-20191201</td>\n",
       "    </tr>\n",
       "  </tbody>\n",
       "</table>\n",
       "</div>"
      ],
      "text/plain": [
       "   Unnamed: 0                       id             pred  loss                             model\n",
       "0  0           7a2d1320_256_bgconstant  concrete_cement  7.26  03_28-0c79e3be_rz-s2-r0-20191201\n",
       "1  1           7a2d1320_zoom            concrete_cement  6.72  03_28-0c79e3be_rz-s2-r0-20191201\n",
       "2  2           7a2d1320_256_wrap        concrete_cement  6.67  03_28-0c79e3be_rz-s2-r0-20191201\n",
       "3  3           7a2d1320_256_reflect     concrete_cement  6.22  03_28-0c79e3be_rz-s2-r0-20191201\n",
       "4  4           7a2dcf7c_256_reflect     irregular_metal  5.94  03_28-0c79e3be_rz-s2-r0-20191201"
      ]
     },
     "execution_count": 60,
     "metadata": {},
     "output_type": "execute_result"
    }
   ],
   "source": [
    "dfp.head()"
   ]
  },
  {
   "cell_type": "code",
   "execution_count": 61,
   "metadata": {},
   "outputs": [],
   "source": [
    "dfp.drop(columns=['Unnamed: 0'],inplace=True)"
   ]
  },
  {
   "cell_type": "code",
   "execution_count": 62,
   "metadata": {},
   "outputs": [],
   "source": [
    "df_gold = pd.read_csv(data_dir / 'df_all_repl_st_lucia_castries_gold_concrete_cement.csv')\n",
    "df_gold.drop(columns=['target'], inplace=True)\n",
    "df_gold = df_gold[['id', 'roof_material', 'verified', 'country', 'region']]"
   ]
  },
  {
   "cell_type": "code",
   "execution_count": 63,
   "metadata": {},
   "outputs": [
    {
     "data": {
      "text/html": [
       "<div>\n",
       "<style scoped>\n",
       "    .dataframe tbody tr th:only-of-type {\n",
       "        vertical-align: middle;\n",
       "    }\n",
       "\n",
       "    .dataframe tbody tr th {\n",
       "        vertical-align: top;\n",
       "    }\n",
       "\n",
       "    .dataframe thead th {\n",
       "        text-align: right;\n",
       "    }\n",
       "</style>\n",
       "<table border=\"1\" class=\"dataframe\">\n",
       "  <thead>\n",
       "    <tr style=\"text-align: right;\">\n",
       "      <th></th>\n",
       "      <th>id</th>\n",
       "      <th>roof_material</th>\n",
       "      <th>verified</th>\n",
       "      <th>country</th>\n",
       "      <th>region</th>\n",
       "    </tr>\n",
       "  </thead>\n",
       "  <tbody>\n",
       "    <tr>\n",
       "      <td>0</td>\n",
       "      <td>7a3f2a10</td>\n",
       "      <td>concrete_cement</td>\n",
       "      <td>True</td>\n",
       "      <td>colombia</td>\n",
       "      <td>borde_rural</td>\n",
       "    </tr>\n",
       "    <tr>\n",
       "      <td>1</td>\n",
       "      <td>7a1f731e</td>\n",
       "      <td>irregular_metal</td>\n",
       "      <td>True</td>\n",
       "      <td>colombia</td>\n",
       "      <td>borde_rural</td>\n",
       "    </tr>\n",
       "    <tr>\n",
       "      <td>2</td>\n",
       "      <td>7a424ad8</td>\n",
       "      <td>healthy_metal</td>\n",
       "      <td>True</td>\n",
       "      <td>colombia</td>\n",
       "      <td>borde_rural</td>\n",
       "    </tr>\n",
       "    <tr>\n",
       "      <td>3</td>\n",
       "      <td>7a3edc5e</td>\n",
       "      <td>healthy_metal</td>\n",
       "      <td>True</td>\n",
       "      <td>colombia</td>\n",
       "      <td>borde_rural</td>\n",
       "    </tr>\n",
       "    <tr>\n",
       "      <td>4</td>\n",
       "      <td>7a303a6e</td>\n",
       "      <td>healthy_metal</td>\n",
       "      <td>True</td>\n",
       "      <td>colombia</td>\n",
       "      <td>borde_rural</td>\n",
       "    </tr>\n",
       "  </tbody>\n",
       "</table>\n",
       "</div>"
      ],
      "text/plain": [
       "         id    roof_material  verified   country       region\n",
       "0  7a3f2a10  concrete_cement  True      colombia  borde_rural\n",
       "1  7a1f731e  irregular_metal  True      colombia  borde_rural\n",
       "2  7a424ad8  healthy_metal    True      colombia  borde_rural\n",
       "3  7a3edc5e  healthy_metal    True      colombia  borde_rural\n",
       "4  7a303a6e  healthy_metal    True      colombia  borde_rural"
      ]
     },
     "execution_count": 63,
     "metadata": {},
     "output_type": "execute_result"
    }
   ],
   "source": [
    "df_gold.head()"
   ]
  },
  {
   "cell_type": "code",
   "execution_count": 64,
   "metadata": {},
   "outputs": [],
   "source": [
    "def roof_aug_split():\n",
    "    df_gold = pd.read_csv(data_dir / 'df_all_repl_st_lucia_castries_gold_concrete_cement.csv')\n",
    "    df_gold.drop(columns=['target'], inplace=True)\n",
    "    df_gold = df_gold[['id', 'roof_material', 'verified', 'country', 'region']]\n",
    "\n",
    "    df_pewter_70pct = pd.read_csv(data_dir / 'st_lucia_castries_gros_islet_70pct_rn50-rn152-dn121_preds.csv')\n",
    "    df_pewter_70pct.tail()\n",
    "    frames = [df_gold, df_pewter_70pct]\n",
    "    df_gold_pewter = pd.concat(frames)\n",
    "\n",
    "    #### test data\n",
    "    df_test = pd.read_csv(data_dir / 'df_test_all.csv')\n",
    "    gp_ids = df_gold_pewter.id.values.tolist()\n",
    "\n",
    "    trn_file_names = []\n",
    "    for f in train_names:\n",
    "        trn_file_names.append(f.name.split('.tif')[0])\n",
    "\n",
    "    bg_const_names = []\n",
    "    for f in trn_file_names:\n",
    "        if '_256_bgconstant' in f:\n",
    "            bg_const_names.append(f.split('_256_bgconstant')[0])\n",
    "\n",
    "    raw_names = []\n",
    "    for f in trn_file_names:\n",
    "        if '_raw' in f:\n",
    "            raw_names.append(f.split('_raw')[0])\n",
    "\n",
    "    zoom_names = []\n",
    "    for f in trn_file_names:\n",
    "        if '_zoom' in f:\n",
    "            zoom_names.append(f.split('_zoom')[0])\n",
    "\n",
    "    reflect_names = []\n",
    "    for f in trn_file_names:\n",
    "        if '_256_reflect' in f:\n",
    "            reflect_names.append(f.split('_256_reflect')[0])\n",
    "\n",
    "    wrap_names = []\n",
    "    for f in trn_file_names:\n",
    "        if '_256_wrap' in f:\n",
    "            wrap_names.append(f.split('_256_wrap')[0])\n",
    "\n",
    "    df_gold_pewter_bg_const = df_gold_pewter.loc[df_gold_pewter['id'].isin(bg_const_names)]\n",
    "    df_gold_pewter_bg_const['id'] = df_gold_pewter_bg_const['id'] + '_256_bgconstant'\n",
    "    df_gold_pewter_bg_const = df_gold_pewter_bg_const.drop_duplicates(subset=['id'])\n",
    "\n",
    "    # Ensure is only ids with _256_bgconstant\n",
    "\n",
    "    #### raw\n",
    "    df_gold_pewter_raw = df_gold_pewter.loc[df_gold_pewter['id'].isin(raw_names)]\n",
    "    df_gold_pewter_raw['id'] = df_gold_pewter_raw['id'] + '_raw'\n",
    "    df_gold_pewter_raw = df_gold_pewter_raw.drop_duplicates(subset=['id'])\n",
    "\n",
    "    #### zoom\n",
    "    df_gold_pewter_zoom = df_gold_pewter.loc[df_gold_pewter['id'].isin(zoom_names)]\n",
    "    df_gold_pewter_zoom['id'] = df_gold_pewter_zoom['id'] + '_zoom'\n",
    "    df_gold_pewter_zoom = df_gold_pewter_zoom.drop_duplicates(subset=['id'])\n",
    "\n",
    "    #### wrap\n",
    "    df_gold_pewter_wrap = df_gold_pewter.loc[df_gold_pewter['id'].isin(wrap_names)]\n",
    "    df_gold_pewter_wrap['id'] = df_gold_pewter_wrap['id'] + '_256_wrap'\n",
    "    len(df_gold_pewter_wrap)\n",
    "    df_gold_pewter_wrap = df_gold_pewter_wrap.drop_duplicates(subset=['id'])\n",
    "\n",
    "    df_gold_pewter_reflect = df_gold_pewter.loc[df_gold_pewter['id'].isin(reflect_names)]\n",
    "    df_gold_pewter_reflect['id'] = df_gold_pewter_reflect['id'] + '_256_reflect'\n",
    "    df_gold_pewter_reflect = df_gold_pewter_reflect.drop_duplicates(subset=['id'])\n",
    "    return df_gold_pewter_bg_const, df_gold_pewter_reflect, df_gold_pewter_wrap, df_gold_pewter_zoom, df_gold_pewter_raw"
   ]
  },
  {
   "cell_type": "code",
   "execution_count": 65,
   "metadata": {},
   "outputs": [
    {
     "name": "stderr",
     "output_type": "stream",
     "text": [
      "/home/walle/miniconda3/envs/fastai-dev/lib/python3.7/site-packages/ipykernel_launcher.py:57: SettingWithCopyWarning: \n",
      "A value is trying to be set on a copy of a slice from a DataFrame.\n",
      "Try using .loc[row_indexer,col_indexer] = value instead\n",
      "\n",
      "See the caveats in the documentation: http://pandas.pydata.org/pandas-docs/stable/user_guide/indexing.html#returning-a-view-versus-a-copy\n"
     ]
    }
   ],
   "source": [
    "df_gold_pewter_bg_const, df_gold_pewter_reflect, df_gold_pewter_wrap, df_gold_pewter_zoom, df_gold_pewter_raw = roof_aug_split()"
   ]
  },
  {
   "cell_type": "code",
   "execution_count": 66,
   "metadata": {},
   "outputs": [],
   "source": [
    "frames= [df_gold_pewter_bg_const, df_gold_pewter_reflect, df_gold_pewter_wrap, df_gold_pewter_zoom, df_gold_pewter_raw]\n",
    "df_gold_all = pd.concat(frames)"
   ]
  },
  {
   "cell_type": "code",
   "execution_count": 67,
   "metadata": {},
   "outputs": [],
   "source": [
    "df_gold_all=df_gold_all.drop_duplicates(subset=['id'])\n",
    "dfp=dfp.drop_duplicates(subset=['id'])"
   ]
  },
  {
   "cell_type": "code",
   "execution_count": 68,
   "metadata": {},
   "outputs": [
    {
     "data": {
      "text/html": [
       "<div>\n",
       "<style scoped>\n",
       "    .dataframe tbody tr th:only-of-type {\n",
       "        vertical-align: middle;\n",
       "    }\n",
       "\n",
       "    .dataframe tbody tr th {\n",
       "        vertical-align: top;\n",
       "    }\n",
       "\n",
       "    .dataframe thead th {\n",
       "        text-align: right;\n",
       "    }\n",
       "</style>\n",
       "<table border=\"1\" class=\"dataframe\">\n",
       "  <thead>\n",
       "    <tr style=\"text-align: right;\">\n",
       "      <th></th>\n",
       "      <th>id</th>\n",
       "      <th>roof_material</th>\n",
       "      <th>verified</th>\n",
       "      <th>country</th>\n",
       "      <th>region</th>\n",
       "    </tr>\n",
       "  </thead>\n",
       "  <tbody>\n",
       "    <tr>\n",
       "      <td>0</td>\n",
       "      <td>7a3f2a10_256_bgconstant</td>\n",
       "      <td>concrete_cement</td>\n",
       "      <td>True</td>\n",
       "      <td>colombia</td>\n",
       "      <td>borde_rural</td>\n",
       "    </tr>\n",
       "    <tr>\n",
       "      <td>1</td>\n",
       "      <td>7a1f731e_256_bgconstant</td>\n",
       "      <td>irregular_metal</td>\n",
       "      <td>True</td>\n",
       "      <td>colombia</td>\n",
       "      <td>borde_rural</td>\n",
       "    </tr>\n",
       "    <tr>\n",
       "      <td>2</td>\n",
       "      <td>7a424ad8_256_bgconstant</td>\n",
       "      <td>healthy_metal</td>\n",
       "      <td>True</td>\n",
       "      <td>colombia</td>\n",
       "      <td>borde_rural</td>\n",
       "    </tr>\n",
       "    <tr>\n",
       "      <td>3</td>\n",
       "      <td>7a3edc5e_256_bgconstant</td>\n",
       "      <td>healthy_metal</td>\n",
       "      <td>True</td>\n",
       "      <td>colombia</td>\n",
       "      <td>borde_rural</td>\n",
       "    </tr>\n",
       "    <tr>\n",
       "      <td>4</td>\n",
       "      <td>7a303a6e_256_bgconstant</td>\n",
       "      <td>healthy_metal</td>\n",
       "      <td>True</td>\n",
       "      <td>colombia</td>\n",
       "      <td>borde_rural</td>\n",
       "    </tr>\n",
       "  </tbody>\n",
       "</table>\n",
       "</div>"
      ],
      "text/plain": [
       "                        id    roof_material  verified   country       region\n",
       "0  7a3f2a10_256_bgconstant  concrete_cement  True      colombia  borde_rural\n",
       "1  7a1f731e_256_bgconstant  irregular_metal  True      colombia  borde_rural\n",
       "2  7a424ad8_256_bgconstant  healthy_metal    True      colombia  borde_rural\n",
       "3  7a3edc5e_256_bgconstant  healthy_metal    True      colombia  borde_rural\n",
       "4  7a303a6e_256_bgconstant  healthy_metal    True      colombia  borde_rural"
      ]
     },
     "execution_count": 68,
     "metadata": {},
     "output_type": "execute_result"
    }
   ],
   "source": [
    "df_gold_all.head()"
   ]
  },
  {
   "cell_type": "code",
   "execution_count": 69,
   "metadata": {},
   "outputs": [
    {
     "data": {
      "text/html": [
       "<div>\n",
       "<style scoped>\n",
       "    .dataframe tbody tr th:only-of-type {\n",
       "        vertical-align: middle;\n",
       "    }\n",
       "\n",
       "    .dataframe tbody tr th {\n",
       "        vertical-align: top;\n",
       "    }\n",
       "\n",
       "    .dataframe thead th {\n",
       "        text-align: right;\n",
       "    }\n",
       "</style>\n",
       "<table border=\"1\" class=\"dataframe\">\n",
       "  <thead>\n",
       "    <tr style=\"text-align: right;\">\n",
       "      <th></th>\n",
       "      <th>id</th>\n",
       "      <th>pred</th>\n",
       "      <th>loss</th>\n",
       "      <th>model</th>\n",
       "    </tr>\n",
       "  </thead>\n",
       "  <tbody>\n",
       "    <tr>\n",
       "      <td>0</td>\n",
       "      <td>7a2d1320_256_bgconstant</td>\n",
       "      <td>concrete_cement</td>\n",
       "      <td>7.26</td>\n",
       "      <td>03_28-0c79e3be_rz-s2-r0-20191201</td>\n",
       "    </tr>\n",
       "    <tr>\n",
       "      <td>1</td>\n",
       "      <td>7a2d1320_zoom</td>\n",
       "      <td>concrete_cement</td>\n",
       "      <td>6.72</td>\n",
       "      <td>03_28-0c79e3be_rz-s2-r0-20191201</td>\n",
       "    </tr>\n",
       "    <tr>\n",
       "      <td>2</td>\n",
       "      <td>7a2d1320_256_wrap</td>\n",
       "      <td>concrete_cement</td>\n",
       "      <td>6.67</td>\n",
       "      <td>03_28-0c79e3be_rz-s2-r0-20191201</td>\n",
       "    </tr>\n",
       "    <tr>\n",
       "      <td>3</td>\n",
       "      <td>7a2d1320_256_reflect</td>\n",
       "      <td>concrete_cement</td>\n",
       "      <td>6.22</td>\n",
       "      <td>03_28-0c79e3be_rz-s2-r0-20191201</td>\n",
       "    </tr>\n",
       "    <tr>\n",
       "      <td>4</td>\n",
       "      <td>7a2dcf7c_256_reflect</td>\n",
       "      <td>irregular_metal</td>\n",
       "      <td>5.94</td>\n",
       "      <td>03_28-0c79e3be_rz-s2-r0-20191201</td>\n",
       "    </tr>\n",
       "  </tbody>\n",
       "</table>\n",
       "</div>"
      ],
      "text/plain": [
       "                        id             pred  loss                             model\n",
       "0  7a2d1320_256_bgconstant  concrete_cement  7.26  03_28-0c79e3be_rz-s2-r0-20191201\n",
       "1  7a2d1320_zoom            concrete_cement  6.72  03_28-0c79e3be_rz-s2-r0-20191201\n",
       "2  7a2d1320_256_wrap        concrete_cement  6.67  03_28-0c79e3be_rz-s2-r0-20191201\n",
       "3  7a2d1320_256_reflect     concrete_cement  6.22  03_28-0c79e3be_rz-s2-r0-20191201\n",
       "4  7a2dcf7c_256_reflect     irregular_metal  5.94  03_28-0c79e3be_rz-s2-r0-20191201"
      ]
     },
     "execution_count": 69,
     "metadata": {},
     "output_type": "execute_result"
    }
   ],
   "source": [
    "dfp.head()"
   ]
  },
  {
   "cell_type": "code",
   "execution_count": 70,
   "metadata": {},
   "outputs": [],
   "source": [
    "df = df_gold_all.copy()\n",
    "df['pred']='none'\n",
    "df['model']='none'\n",
    "df['loss']=-999.25\n",
    "df['result']=False"
   ]
  },
  {
   "cell_type": "code",
   "execution_count": 71,
   "metadata": {},
   "outputs": [
    {
     "data": {
      "text/html": [
       "<div>\n",
       "<style scoped>\n",
       "    .dataframe tbody tr th:only-of-type {\n",
       "        vertical-align: middle;\n",
       "    }\n",
       "\n",
       "    .dataframe tbody tr th {\n",
       "        vertical-align: top;\n",
       "    }\n",
       "\n",
       "    .dataframe thead th {\n",
       "        text-align: right;\n",
       "    }\n",
       "</style>\n",
       "<table border=\"1\" class=\"dataframe\">\n",
       "  <thead>\n",
       "    <tr style=\"text-align: right;\">\n",
       "      <th></th>\n",
       "      <th>id</th>\n",
       "      <th>roof_material</th>\n",
       "      <th>verified</th>\n",
       "      <th>country</th>\n",
       "      <th>region</th>\n",
       "      <th>pred</th>\n",
       "      <th>model</th>\n",
       "      <th>loss</th>\n",
       "      <th>result</th>\n",
       "    </tr>\n",
       "  </thead>\n",
       "  <tbody>\n",
       "    <tr>\n",
       "      <td>0</td>\n",
       "      <td>7a3f2a10_256_bgconstant</td>\n",
       "      <td>concrete_cement</td>\n",
       "      <td>True</td>\n",
       "      <td>colombia</td>\n",
       "      <td>borde_rural</td>\n",
       "      <td>none</td>\n",
       "      <td>none</td>\n",
       "      <td>-999.25</td>\n",
       "      <td>False</td>\n",
       "    </tr>\n",
       "    <tr>\n",
       "      <td>1</td>\n",
       "      <td>7a1f731e_256_bgconstant</td>\n",
       "      <td>irregular_metal</td>\n",
       "      <td>True</td>\n",
       "      <td>colombia</td>\n",
       "      <td>borde_rural</td>\n",
       "      <td>none</td>\n",
       "      <td>none</td>\n",
       "      <td>-999.25</td>\n",
       "      <td>False</td>\n",
       "    </tr>\n",
       "    <tr>\n",
       "      <td>2</td>\n",
       "      <td>7a424ad8_256_bgconstant</td>\n",
       "      <td>healthy_metal</td>\n",
       "      <td>True</td>\n",
       "      <td>colombia</td>\n",
       "      <td>borde_rural</td>\n",
       "      <td>none</td>\n",
       "      <td>none</td>\n",
       "      <td>-999.25</td>\n",
       "      <td>False</td>\n",
       "    </tr>\n",
       "    <tr>\n",
       "      <td>3</td>\n",
       "      <td>7a3edc5e_256_bgconstant</td>\n",
       "      <td>healthy_metal</td>\n",
       "      <td>True</td>\n",
       "      <td>colombia</td>\n",
       "      <td>borde_rural</td>\n",
       "      <td>none</td>\n",
       "      <td>none</td>\n",
       "      <td>-999.25</td>\n",
       "      <td>False</td>\n",
       "    </tr>\n",
       "    <tr>\n",
       "      <td>4</td>\n",
       "      <td>7a303a6e_256_bgconstant</td>\n",
       "      <td>healthy_metal</td>\n",
       "      <td>True</td>\n",
       "      <td>colombia</td>\n",
       "      <td>borde_rural</td>\n",
       "      <td>none</td>\n",
       "      <td>none</td>\n",
       "      <td>-999.25</td>\n",
       "      <td>False</td>\n",
       "    </tr>\n",
       "  </tbody>\n",
       "</table>\n",
       "</div>"
      ],
      "text/plain": [
       "                        id    roof_material  verified   country       region  pred model    loss  result\n",
       "0  7a3f2a10_256_bgconstant  concrete_cement  True      colombia  borde_rural  none  none -999.25  False \n",
       "1  7a1f731e_256_bgconstant  irregular_metal  True      colombia  borde_rural  none  none -999.25  False \n",
       "2  7a424ad8_256_bgconstant  healthy_metal    True      colombia  borde_rural  none  none -999.25  False \n",
       "3  7a3edc5e_256_bgconstant  healthy_metal    True      colombia  borde_rural  none  none -999.25  False \n",
       "4  7a303a6e_256_bgconstant  healthy_metal    True      colombia  borde_rural  none  none -999.25  False "
      ]
     },
     "execution_count": 71,
     "metadata": {},
     "output_type": "execute_result"
    }
   ],
   "source": [
    "df.head()"
   ]
  },
  {
   "cell_type": "code",
   "execution_count": 72,
   "metadata": {},
   "outputs": [],
   "source": [
    "df = df.reset_index()"
   ]
  },
  {
   "cell_type": "code",
   "execution_count": 73,
   "metadata": {},
   "outputs": [],
   "source": [
    "df_ids=df.id.values.tolist()"
   ]
  },
  {
   "cell_type": "code",
   "execution_count": 74,
   "metadata": {},
   "outputs": [],
   "source": [
    "dfp_ids=dfp.id.values.tolist()"
   ]
  },
  {
   "cell_type": "code",
   "execution_count": 75,
   "metadata": {},
   "outputs": [],
   "source": [
    "overlap_ids=list(set(df_ids) & set(dfp_ids))"
   ]
  },
  {
   "cell_type": "code",
   "execution_count": 76,
   "metadata": {},
   "outputs": [
    {
     "data": {
      "text/plain": [
       "92388"
      ]
     },
     "execution_count": 76,
     "metadata": {},
     "output_type": "execute_result"
    }
   ],
   "source": [
    "len(df_ids)"
   ]
  },
  {
   "cell_type": "code",
   "execution_count": 77,
   "metadata": {},
   "outputs": [
    {
     "data": {
      "text/plain": [
       "14166"
      ]
     },
     "execution_count": 77,
     "metadata": {},
     "output_type": "execute_result"
    }
   ],
   "source": [
    "len(overlap_ids)"
   ]
  },
  {
   "cell_type": "code",
   "execution_count": 78,
   "metadata": {},
   "outputs": [],
   "source": [
    "df=df.loc[df['id'].isin(overlap_ids)]"
   ]
  },
  {
   "cell_type": "code",
   "execution_count": 79,
   "metadata": {},
   "outputs": [],
   "source": [
    "df=df.sort_values('id')"
   ]
  },
  {
   "cell_type": "code",
   "execution_count": 80,
   "metadata": {},
   "outputs": [],
   "source": [
    "dfp=dfp.loc[dfp['id'].isin(overlap_ids)]\n",
    "dfp=dfp.sort_values('id')\n"
   ]
  },
  {
   "cell_type": "code",
   "execution_count": 81,
   "metadata": {},
   "outputs": [],
   "source": [
    "assert len(df)==len(dfp)"
   ]
  },
  {
   "cell_type": "code",
   "execution_count": 82,
   "metadata": {},
   "outputs": [],
   "source": [
    "df['loss'] = dfp['loss'].values.tolist()\n",
    "df['pred'] = dfp['pred'].values.tolist()\n",
    "df['model'] = dfp['model'].values.tolist()"
   ]
  },
  {
   "cell_type": "code",
   "execution_count": 83,
   "metadata": {
    "scrolled": true
   },
   "outputs": [
    {
     "data": {
      "text/html": [
       "<div>\n",
       "<style scoped>\n",
       "    .dataframe tbody tr th:only-of-type {\n",
       "        vertical-align: middle;\n",
       "    }\n",
       "\n",
       "    .dataframe tbody tr th {\n",
       "        vertical-align: top;\n",
       "    }\n",
       "\n",
       "    .dataframe thead th {\n",
       "        text-align: right;\n",
       "    }\n",
       "</style>\n",
       "<table border=\"1\" class=\"dataframe\">\n",
       "  <thead>\n",
       "    <tr style=\"text-align: right;\">\n",
       "      <th></th>\n",
       "      <th>index</th>\n",
       "      <th>id</th>\n",
       "      <th>roof_material</th>\n",
       "      <th>verified</th>\n",
       "      <th>country</th>\n",
       "      <th>region</th>\n",
       "      <th>pred</th>\n",
       "      <th>model</th>\n",
       "      <th>loss</th>\n",
       "      <th>result</th>\n",
       "    </tr>\n",
       "  </thead>\n",
       "  <tbody>\n",
       "    <tr>\n",
       "      <td>18866</td>\n",
       "      <td>18866</td>\n",
       "      <td>7a1c5026_256_bgconstant</td>\n",
       "      <td>healthy_metal</td>\n",
       "      <td>False</td>\n",
       "      <td>st_lucia</td>\n",
       "      <td>castries</td>\n",
       "      <td>healthy_metal</td>\n",
       "      <td>03_28-0c79e3be_rz-s2-r0-20191201</td>\n",
       "      <td>0.03</td>\n",
       "      <td>False</td>\n",
       "    </tr>\n",
       "    <tr>\n",
       "      <td>41405</td>\n",
       "      <td>18866</td>\n",
       "      <td>7a1c5026_256_reflect</td>\n",
       "      <td>healthy_metal</td>\n",
       "      <td>False</td>\n",
       "      <td>st_lucia</td>\n",
       "      <td>castries</td>\n",
       "      <td>healthy_metal</td>\n",
       "      <td>03_28-0c79e3be_rz-s2-r0-20191201</td>\n",
       "      <td>0.02</td>\n",
       "      <td>False</td>\n",
       "    </tr>\n",
       "    <tr>\n",
       "      <td>63944</td>\n",
       "      <td>18866</td>\n",
       "      <td>7a1c5026_256_wrap</td>\n",
       "      <td>healthy_metal</td>\n",
       "      <td>False</td>\n",
       "      <td>st_lucia</td>\n",
       "      <td>castries</td>\n",
       "      <td>healthy_metal</td>\n",
       "      <td>03_28-0c79e3be_rz-s2-r0-20191201</td>\n",
       "      <td>0.03</td>\n",
       "      <td>False</td>\n",
       "    </tr>\n",
       "    <tr>\n",
       "      <td>14217</td>\n",
       "      <td>14217</td>\n",
       "      <td>7a1c50f8_256_bgconstant</td>\n",
       "      <td>healthy_metal</td>\n",
       "      <td>False</td>\n",
       "      <td>st_lucia</td>\n",
       "      <td>castries</td>\n",
       "      <td>healthy_metal</td>\n",
       "      <td>03_28-0c79e3be_rz-s2-r0-20191201</td>\n",
       "      <td>0.02</td>\n",
       "      <td>False</td>\n",
       "    </tr>\n",
       "    <tr>\n",
       "      <td>36756</td>\n",
       "      <td>14217</td>\n",
       "      <td>7a1c50f8_256_reflect</td>\n",
       "      <td>healthy_metal</td>\n",
       "      <td>False</td>\n",
       "      <td>st_lucia</td>\n",
       "      <td>castries</td>\n",
       "      <td>healthy_metal</td>\n",
       "      <td>03_28-0c79e3be_rz-s2-r0-20191201</td>\n",
       "      <td>0.02</td>\n",
       "      <td>False</td>\n",
       "    </tr>\n",
       "  </tbody>\n",
       "</table>\n",
       "</div>"
      ],
      "text/plain": [
       "       index                       id  roof_material  verified   country    region           pred                             model  loss  result\n",
       "18866  18866  7a1c5026_256_bgconstant  healthy_metal  False     st_lucia  castries  healthy_metal  03_28-0c79e3be_rz-s2-r0-20191201  0.03  False \n",
       "41405  18866  7a1c5026_256_reflect     healthy_metal  False     st_lucia  castries  healthy_metal  03_28-0c79e3be_rz-s2-r0-20191201  0.02  False \n",
       "63944  18866  7a1c5026_256_wrap        healthy_metal  False     st_lucia  castries  healthy_metal  03_28-0c79e3be_rz-s2-r0-20191201  0.03  False \n",
       "14217  14217  7a1c50f8_256_bgconstant  healthy_metal  False     st_lucia  castries  healthy_metal  03_28-0c79e3be_rz-s2-r0-20191201  0.02  False \n",
       "36756  14217  7a1c50f8_256_reflect     healthy_metal  False     st_lucia  castries  healthy_metal  03_28-0c79e3be_rz-s2-r0-20191201  0.02  False "
      ]
     },
     "execution_count": 83,
     "metadata": {},
     "output_type": "execute_result"
    }
   ],
   "source": [
    "df.head()"
   ]
  },
  {
   "cell_type": "code",
   "execution_count": 94,
   "metadata": {},
   "outputs": [],
   "source": [
    "df['result']=df['pred'].str.strip() == (df['roof_material'].str.strip())\n",
    "df_incorrect=df.loc[(df['pred'] != 'none') & df['result']==False]"
   ]
  },
  {
   "cell_type": "code",
   "execution_count": 95,
   "metadata": {},
   "outputs": [
    {
     "name": "stdout",
     "output_type": "stream",
     "text": [
      "14166\n",
      "1605\n"
     ]
    }
   ],
   "source": [
    "print(len(df))\n",
    "print(len(df_incorrect))"
   ]
  },
  {
   "cell_type": "code",
   "execution_count": 96,
   "metadata": {},
   "outputs": [
    {
     "data": {
      "text/html": [
       "<div>\n",
       "<style scoped>\n",
       "    .dataframe tbody tr th:only-of-type {\n",
       "        vertical-align: middle;\n",
       "    }\n",
       "\n",
       "    .dataframe tbody tr th {\n",
       "        vertical-align: top;\n",
       "    }\n",
       "\n",
       "    .dataframe thead th {\n",
       "        text-align: right;\n",
       "    }\n",
       "</style>\n",
       "<table border=\"1\" class=\"dataframe\">\n",
       "  <thead>\n",
       "    <tr style=\"text-align: right;\">\n",
       "      <th></th>\n",
       "      <th>index</th>\n",
       "      <th>id</th>\n",
       "      <th>roof_material</th>\n",
       "      <th>verified</th>\n",
       "      <th>country</th>\n",
       "      <th>region</th>\n",
       "      <th>pred</th>\n",
       "      <th>model</th>\n",
       "      <th>loss</th>\n",
       "      <th>result</th>\n",
       "    </tr>\n",
       "  </thead>\n",
       "  <tbody>\n",
       "    <tr>\n",
       "      <td>18866</td>\n",
       "      <td>18866</td>\n",
       "      <td>7a1c5026_256_bgconstant</td>\n",
       "      <td>healthy_metal</td>\n",
       "      <td>False</td>\n",
       "      <td>st_lucia</td>\n",
       "      <td>castries</td>\n",
       "      <td>healthy_metal</td>\n",
       "      <td>03_28-0c79e3be_rz-s2-r0-20191201</td>\n",
       "      <td>0.03</td>\n",
       "      <td>True</td>\n",
       "    </tr>\n",
       "    <tr>\n",
       "      <td>41405</td>\n",
       "      <td>18866</td>\n",
       "      <td>7a1c5026_256_reflect</td>\n",
       "      <td>healthy_metal</td>\n",
       "      <td>False</td>\n",
       "      <td>st_lucia</td>\n",
       "      <td>castries</td>\n",
       "      <td>healthy_metal</td>\n",
       "      <td>03_28-0c79e3be_rz-s2-r0-20191201</td>\n",
       "      <td>0.02</td>\n",
       "      <td>True</td>\n",
       "    </tr>\n",
       "    <tr>\n",
       "      <td>63944</td>\n",
       "      <td>18866</td>\n",
       "      <td>7a1c5026_256_wrap</td>\n",
       "      <td>healthy_metal</td>\n",
       "      <td>False</td>\n",
       "      <td>st_lucia</td>\n",
       "      <td>castries</td>\n",
       "      <td>healthy_metal</td>\n",
       "      <td>03_28-0c79e3be_rz-s2-r0-20191201</td>\n",
       "      <td>0.03</td>\n",
       "      <td>True</td>\n",
       "    </tr>\n",
       "    <tr>\n",
       "      <td>14217</td>\n",
       "      <td>14217</td>\n",
       "      <td>7a1c50f8_256_bgconstant</td>\n",
       "      <td>healthy_metal</td>\n",
       "      <td>False</td>\n",
       "      <td>st_lucia</td>\n",
       "      <td>castries</td>\n",
       "      <td>healthy_metal</td>\n",
       "      <td>03_28-0c79e3be_rz-s2-r0-20191201</td>\n",
       "      <td>0.02</td>\n",
       "      <td>True</td>\n",
       "    </tr>\n",
       "    <tr>\n",
       "      <td>36756</td>\n",
       "      <td>14217</td>\n",
       "      <td>7a1c50f8_256_reflect</td>\n",
       "      <td>healthy_metal</td>\n",
       "      <td>False</td>\n",
       "      <td>st_lucia</td>\n",
       "      <td>castries</td>\n",
       "      <td>healthy_metal</td>\n",
       "      <td>03_28-0c79e3be_rz-s2-r0-20191201</td>\n",
       "      <td>0.02</td>\n",
       "      <td>True</td>\n",
       "    </tr>\n",
       "  </tbody>\n",
       "</table>\n",
       "</div>"
      ],
      "text/plain": [
       "       index                       id  roof_material  verified   country    region           pred                             model  loss  result\n",
       "18866  18866  7a1c5026_256_bgconstant  healthy_metal  False     st_lucia  castries  healthy_metal  03_28-0c79e3be_rz-s2-r0-20191201  0.03  True  \n",
       "41405  18866  7a1c5026_256_reflect     healthy_metal  False     st_lucia  castries  healthy_metal  03_28-0c79e3be_rz-s2-r0-20191201  0.02  True  \n",
       "63944  18866  7a1c5026_256_wrap        healthy_metal  False     st_lucia  castries  healthy_metal  03_28-0c79e3be_rz-s2-r0-20191201  0.03  True  \n",
       "14217  14217  7a1c50f8_256_bgconstant  healthy_metal  False     st_lucia  castries  healthy_metal  03_28-0c79e3be_rz-s2-r0-20191201  0.02  True  \n",
       "36756  14217  7a1c50f8_256_reflect     healthy_metal  False     st_lucia  castries  healthy_metal  03_28-0c79e3be_rz-s2-r0-20191201  0.02  True  "
      ]
     },
     "execution_count": 96,
     "metadata": {},
     "output_type": "execute_result"
    }
   ],
   "source": [
    "df.head()"
   ]
  },
  {
   "cell_type": "code",
   "execution_count": 100,
   "metadata": {},
   "outputs": [
    {
     "data": {
      "text/plain": [
       "array(['borde_rural', 'mixco_1_and_ebenezer', 'borde_soacha', 'mixco_3', 'castries', 'gros_islet', 'dennery'],\n",
       "      dtype=object)"
      ]
     },
     "execution_count": 100,
     "metadata": {},
     "output_type": "execute_result"
    }
   ],
   "source": [
    "df_incorrect.region.unique()"
   ]
  },
  {
   "cell_type": "code",
   "execution_count": 103,
   "metadata": {},
   "outputs": [
    {
     "data": {
      "text/plain": [
       "<matplotlib.axes._subplots.AxesSubplot at 0x7f301ff7be50>"
      ]
     },
     "execution_count": 103,
     "metadata": {},
     "output_type": "execute_result"
    },
    {
     "data": {
      "image/png": "[encoded data removed]",
      "text/plain": [
       "<Figure size 432x288 with 1 Axes>"
      ]
     },
     "metadata": {
      "needs_background": "light"
     },
     "output_type": "display_data"
    }
   ],
   "source": [
    "df.groupby(['pred','region']).size().plot(kind=\"bar\")"
   ]
  },
  {
   "cell_type": "code",
   "execution_count": 104,
   "metadata": {},
   "outputs": [
    {
     "data": {
      "text/plain": [
       "<matplotlib.axes._subplots.AxesSubplot at 0x7f301fd5c0d0>"
      ]
     },
     "execution_count": 104,
     "metadata": {},
     "output_type": "execute_result"
    },
    {
     "data": {
      "image/png": "[encoded data removed]",
      "text/plain": [
       "<Figure size 432x288 with 1 Axes>"
      ]
     },
     "metadata": {
      "needs_background": "light"
     },
     "output_type": "display_data"
    }
   ],
   "source": [
    "df.groupby(['region']).size().plot(kind=\"bar\")"
   ]
  },
  {
   "cell_type": "code",
   "execution_count": 107,
   "metadata": {},
   "outputs": [
    {
     "data": {
      "text/html": [
       "<div>\n",
       "<style scoped>\n",
       "    .dataframe tbody tr th:only-of-type {\n",
       "        vertical-align: middle;\n",
       "    }\n",
       "\n",
       "    .dataframe tbody tr th {\n",
       "        vertical-align: top;\n",
       "    }\n",
       "\n",
       "    .dataframe thead th {\n",
       "        text-align: right;\n",
       "    }\n",
       "</style>\n",
       "<table border=\"1\" class=\"dataframe\">\n",
       "  <thead>\n",
       "    <tr style=\"text-align: right;\">\n",
       "      <th></th>\n",
       "      <th>index</th>\n",
       "      <th>id</th>\n",
       "      <th>roof_material</th>\n",
       "      <th>verified</th>\n",
       "      <th>country</th>\n",
       "      <th>region</th>\n",
       "      <th>pred</th>\n",
       "      <th>model</th>\n",
       "      <th>loss</th>\n",
       "      <th>result</th>\n",
       "      <th>0</th>\n",
       "    </tr>\n",
       "  </thead>\n",
       "  <tbody>\n",
       "    <tr>\n",
       "      <td>1</td>\n",
       "      <td>1</td>\n",
       "      <td>7a1f731e_256_bgconstant</td>\n",
       "      <td>irregular_metal</td>\n",
       "      <td>True</td>\n",
       "      <td>colombia</td>\n",
       "      <td>borde_rural</td>\n",
       "      <td>irregular_metal</td>\n",
       "      <td>03_28-0c79e3be_rz-s2-r0-20191201</td>\n",
       "      <td>0.71</td>\n",
       "      <td>True</td>\n",
       "      <td>7a1f731e</td>\n",
       "    </tr>\n",
       "    <tr>\n",
       "      <td>1</td>\n",
       "      <td>1</td>\n",
       "      <td>7a1f731e_256_bgconstant</td>\n",
       "      <td>irregular_metal</td>\n",
       "      <td>True</td>\n",
       "      <td>colombia</td>\n",
       "      <td>borde_rural</td>\n",
       "      <td>irregular_metal</td>\n",
       "      <td>03_28-0c79e3be_rz-s2-r0-20191201</td>\n",
       "      <td>0.71</td>\n",
       "      <td>True</td>\n",
       "      <td>256</td>\n",
       "    </tr>\n",
       "    <tr>\n",
       "      <td>1</td>\n",
       "      <td>1</td>\n",
       "      <td>7a1f731e_256_bgconstant</td>\n",
       "      <td>irregular_metal</td>\n",
       "      <td>True</td>\n",
       "      <td>colombia</td>\n",
       "      <td>borde_rural</td>\n",
       "      <td>irregular_metal</td>\n",
       "      <td>03_28-0c79e3be_rz-s2-r0-20191201</td>\n",
       "      <td>0.71</td>\n",
       "      <td>True</td>\n",
       "      <td>bgconstant</td>\n",
       "    </tr>\n",
       "    <tr>\n",
       "      <td>5</td>\n",
       "      <td>5</td>\n",
       "      <td>7a1eb2bc_256_bgconstant</td>\n",
       "      <td>healthy_metal</td>\n",
       "      <td>True</td>\n",
       "      <td>colombia</td>\n",
       "      <td>borde_rural</td>\n",
       "      <td>healthy_metal</td>\n",
       "      <td>03_28-0c79e3be_rz-s2-r0-20191201</td>\n",
       "      <td>0.03</td>\n",
       "      <td>True</td>\n",
       "      <td>7a1eb2bc</td>\n",
       "    </tr>\n",
       "    <tr>\n",
       "      <td>5</td>\n",
       "      <td>5</td>\n",
       "      <td>7a1eb2bc_256_bgconstant</td>\n",
       "      <td>healthy_metal</td>\n",
       "      <td>True</td>\n",
       "      <td>colombia</td>\n",
       "      <td>borde_rural</td>\n",
       "      <td>healthy_metal</td>\n",
       "      <td>03_28-0c79e3be_rz-s2-r0-20191201</td>\n",
       "      <td>0.03</td>\n",
       "      <td>True</td>\n",
       "      <td>256</td>\n",
       "    </tr>\n",
       "    <tr>\n",
       "      <td>...</td>\n",
       "      <td>...</td>\n",
       "      <td>...</td>\n",
       "      <td>...</td>\n",
       "      <td>...</td>\n",
       "      <td>...</td>\n",
       "      <td>...</td>\n",
       "      <td>...</td>\n",
       "      <td>...</td>\n",
       "      <td>...</td>\n",
       "      <td>...</td>\n",
       "      <td>...</td>\n",
       "    </tr>\n",
       "    <tr>\n",
       "      <td>69825</td>\n",
       "      <td>22350</td>\n",
       "      <td>7a345068_zoom</td>\n",
       "      <td>healthy_metal</td>\n",
       "      <td>False</td>\n",
       "      <td>st_lucia</td>\n",
       "      <td>gros_islet</td>\n",
       "      <td>healthy_metal</td>\n",
       "      <td>03_28-0c79e3be_rz-s2-r0-20191201</td>\n",
       "      <td>0.11</td>\n",
       "      <td>True</td>\n",
       "      <td>zoom</td>\n",
       "    </tr>\n",
       "    <tr>\n",
       "      <td>69845</td>\n",
       "      <td>22506</td>\n",
       "      <td>7a232c70_zoom</td>\n",
       "      <td>concrete_cement</td>\n",
       "      <td>True</td>\n",
       "      <td>st_lucia</td>\n",
       "      <td>castries</td>\n",
       "      <td>concrete_cement</td>\n",
       "      <td>03_28-0c79e3be_rz-s2-r0-20191201</td>\n",
       "      <td>0.09</td>\n",
       "      <td>True</td>\n",
       "      <td>7a232c70</td>\n",
       "    </tr>\n",
       "    <tr>\n",
       "      <td>69845</td>\n",
       "      <td>22506</td>\n",
       "      <td>7a232c70_zoom</td>\n",
       "      <td>concrete_cement</td>\n",
       "      <td>True</td>\n",
       "      <td>st_lucia</td>\n",
       "      <td>castries</td>\n",
       "      <td>concrete_cement</td>\n",
       "      <td>03_28-0c79e3be_rz-s2-r0-20191201</td>\n",
       "      <td>0.09</td>\n",
       "      <td>True</td>\n",
       "      <td>zoom</td>\n",
       "    </tr>\n",
       "    <tr>\n",
       "      <td>69847</td>\n",
       "      <td>22537</td>\n",
       "      <td>7a27186c_zoom</td>\n",
       "      <td>concrete_cement</td>\n",
       "      <td>True</td>\n",
       "      <td>st_lucia</td>\n",
       "      <td>castries</td>\n",
       "      <td>healthy_metal</td>\n",
       "      <td>03_28-0c79e3be_rz-s2-r0-20191201</td>\n",
       "      <td>1.33</td>\n",
       "      <td>False</td>\n",
       "      <td>7a27186c</td>\n",
       "    </tr>\n",
       "    <tr>\n",
       "      <td>69847</td>\n",
       "      <td>22537</td>\n",
       "      <td>7a27186c_zoom</td>\n",
       "      <td>concrete_cement</td>\n",
       "      <td>True</td>\n",
       "      <td>st_lucia</td>\n",
       "      <td>castries</td>\n",
       "      <td>healthy_metal</td>\n",
       "      <td>03_28-0c79e3be_rz-s2-r0-20191201</td>\n",
       "      <td>1.33</td>\n",
       "      <td>False</td>\n",
       "      <td>zoom</td>\n",
       "    </tr>\n",
       "  </tbody>\n",
       "</table>\n",
       "<p>41955 rows × 11 columns</p>\n",
       "</div>"
      ],
      "text/plain": [
       "       index                       id    roof_material  verified   country       region             pred                             model  loss  result           0\n",
       "1      1      7a1f731e_256_bgconstant  irregular_metal  True      colombia  borde_rural  irregular_metal  03_28-0c79e3be_rz-s2-r0-20191201  0.71  True    7a1f731e  \n",
       "1      1      7a1f731e_256_bgconstant  irregular_metal  True      colombia  borde_rural  irregular_metal  03_28-0c79e3be_rz-s2-r0-20191201  0.71  True    256       \n",
       "1      1      7a1f731e_256_bgconstant  irregular_metal  True      colombia  borde_rural  irregular_metal  03_28-0c79e3be_rz-s2-r0-20191201  0.71  True    bgconstant\n",
       "5      5      7a1eb2bc_256_bgconstant  healthy_metal    True      colombia  borde_rural  healthy_metal    03_28-0c79e3be_rz-s2-r0-20191201  0.03  True    7a1eb2bc  \n",
       "5      5      7a1eb2bc_256_bgconstant  healthy_metal    True      colombia  borde_rural  healthy_metal    03_28-0c79e3be_rz-s2-r0-20191201  0.03  True    256       \n",
       "...   ..                          ...            ...     ...           ...          ...            ...                                 ...   ...   ...    ...       \n",
       "69825  22350  7a345068_zoom            healthy_metal    False     st_lucia  gros_islet   healthy_metal    03_28-0c79e3be_rz-s2-r0-20191201  0.11  True    zoom      \n",
       "69845  22506  7a232c70_zoom            concrete_cement  True      st_lucia  castries     concrete_cement  03_28-0c79e3be_rz-s2-r0-20191201  0.09  True    7a232c70  \n",
       "69845  22506  7a232c70_zoom            concrete_cement  True      st_lucia  castries     concrete_cement  03_28-0c79e3be_rz-s2-r0-20191201  0.09  True    zoom      \n",
       "69847  22537  7a27186c_zoom            concrete_cement  True      st_lucia  castries     healthy_metal    03_28-0c79e3be_rz-s2-r0-20191201  1.33  False   7a27186c  \n",
       "69847  22537  7a27186c_zoom            concrete_cement  True      st_lucia  castries     healthy_metal    03_28-0c79e3be_rz-s2-r0-20191201  1.33  False   zoom      \n",
       "\n",
       "[41955 rows x 11 columns]"
      ]
     },
     "execution_count": 107,
     "metadata": {},
     "output_type": "execute_result"
    }
   ],
   "source": [
    "#TODO run without generating repeats\n",
    "s = df['id'].str.split('_').apply(Series, 1).stack()\n",
    "s.index = s.index.droplevel(-1) # to line up with df's index\n",
    "s.name = 'is' # needs a name to join\n",
    "df.join(s.apply(lambda x: Series(x.split('_'))))"
   ]
  },
  {
   "cell_type": "code",
   "execution_count": 109,
   "metadata": {},
   "outputs": [
    {
     "data": {
      "text/html": [
       "<div>\n",
       "<style scoped>\n",
       "    .dataframe tbody tr th:only-of-type {\n",
       "        vertical-align: middle;\n",
       "    }\n",
       "\n",
       "    .dataframe tbody tr th {\n",
       "        vertical-align: top;\n",
       "    }\n",
       "\n",
       "    .dataframe thead th {\n",
       "        text-align: right;\n",
       "    }\n",
       "</style>\n",
       "<table border=\"1\" class=\"dataframe\">\n",
       "  <thead>\n",
       "    <tr style=\"text-align: right;\">\n",
       "      <th></th>\n",
       "      <th>index</th>\n",
       "      <th>id</th>\n",
       "      <th>roof_material</th>\n",
       "      <th>verified</th>\n",
       "      <th>country</th>\n",
       "      <th>region</th>\n",
       "      <th>pred</th>\n",
       "      <th>model</th>\n",
       "      <th>loss</th>\n",
       "      <th>result</th>\n",
       "    </tr>\n",
       "  </thead>\n",
       "  <tbody>\n",
       "    <tr>\n",
       "      <td>18866</td>\n",
       "      <td>18866</td>\n",
       "      <td>7a1c5026_256_bgconstant</td>\n",
       "      <td>healthy_metal</td>\n",
       "      <td>False</td>\n",
       "      <td>st_lucia</td>\n",
       "      <td>castries</td>\n",
       "      <td>healthy_metal</td>\n",
       "      <td>03_28-0c79e3be_rz-s2-r0-20191201</td>\n",
       "      <td>0.03</td>\n",
       "      <td>True</td>\n",
       "    </tr>\n",
       "    <tr>\n",
       "      <td>41405</td>\n",
       "      <td>18866</td>\n",
       "      <td>7a1c5026_256_reflect</td>\n",
       "      <td>healthy_metal</td>\n",
       "      <td>False</td>\n",
       "      <td>st_lucia</td>\n",
       "      <td>castries</td>\n",
       "      <td>healthy_metal</td>\n",
       "      <td>03_28-0c79e3be_rz-s2-r0-20191201</td>\n",
       "      <td>0.02</td>\n",
       "      <td>True</td>\n",
       "    </tr>\n",
       "    <tr>\n",
       "      <td>63944</td>\n",
       "      <td>18866</td>\n",
       "      <td>7a1c5026_256_wrap</td>\n",
       "      <td>healthy_metal</td>\n",
       "      <td>False</td>\n",
       "      <td>st_lucia</td>\n",
       "      <td>castries</td>\n",
       "      <td>healthy_metal</td>\n",
       "      <td>03_28-0c79e3be_rz-s2-r0-20191201</td>\n",
       "      <td>0.03</td>\n",
       "      <td>True</td>\n",
       "    </tr>\n",
       "    <tr>\n",
       "      <td>14217</td>\n",
       "      <td>14217</td>\n",
       "      <td>7a1c50f8_256_bgconstant</td>\n",
       "      <td>healthy_metal</td>\n",
       "      <td>False</td>\n",
       "      <td>st_lucia</td>\n",
       "      <td>castries</td>\n",
       "      <td>healthy_metal</td>\n",
       "      <td>03_28-0c79e3be_rz-s2-r0-20191201</td>\n",
       "      <td>0.02</td>\n",
       "      <td>True</td>\n",
       "    </tr>\n",
       "    <tr>\n",
       "      <td>36756</td>\n",
       "      <td>14217</td>\n",
       "      <td>7a1c50f8_256_reflect</td>\n",
       "      <td>healthy_metal</td>\n",
       "      <td>False</td>\n",
       "      <td>st_lucia</td>\n",
       "      <td>castries</td>\n",
       "      <td>healthy_metal</td>\n",
       "      <td>03_28-0c79e3be_rz-s2-r0-20191201</td>\n",
       "      <td>0.02</td>\n",
       "      <td>True</td>\n",
       "    </tr>\n",
       "  </tbody>\n",
       "</table>\n",
       "</div>"
      ],
      "text/plain": [
       "       index                       id  roof_material  verified   country    region           pred                             model  loss  result\n",
       "18866  18866  7a1c5026_256_bgconstant  healthy_metal  False     st_lucia  castries  healthy_metal  03_28-0c79e3be_rz-s2-r0-20191201  0.03  True  \n",
       "41405  18866  7a1c5026_256_reflect     healthy_metal  False     st_lucia  castries  healthy_metal  03_28-0c79e3be_rz-s2-r0-20191201  0.02  True  \n",
       "63944  18866  7a1c5026_256_wrap        healthy_metal  False     st_lucia  castries  healthy_metal  03_28-0c79e3be_rz-s2-r0-20191201  0.03  True  \n",
       "14217  14217  7a1c50f8_256_bgconstant  healthy_metal  False     st_lucia  castries  healthy_metal  03_28-0c79e3be_rz-s2-r0-20191201  0.02  True  \n",
       "36756  14217  7a1c50f8_256_reflect     healthy_metal  False     st_lucia  castries  healthy_metal  03_28-0c79e3be_rz-s2-r0-20191201  0.02  True  "
      ]
     },
     "execution_count": 109,
     "metadata": {},
     "output_type": "execute_result"
    }
   ],
   "source": [
    "df.head()"
   ]
  },
  {
   "cell_type": "code",
   "execution_count": null,
   "metadata": {},
   "outputs": [],
   "source": []
  }
 ],
 "metadata": {
  "kernelspec": {
   "display_name": "Python 3",
   "language": "python",
   "name": "python3"
  },
  "language_info": {
   "codemirror_mode": {
    "name": "ipython",
    "version": 3
   },
   "file_extension": ".py",
   "mimetype": "text/x-python",
   "name": "python",
   "nbconvert_exporter": "python",
   "pygments_lexer": "ipython3",
   "version": "3.7.4"
  }
 },
 "nbformat": 4,
 "nbformat_minor": 2
}
