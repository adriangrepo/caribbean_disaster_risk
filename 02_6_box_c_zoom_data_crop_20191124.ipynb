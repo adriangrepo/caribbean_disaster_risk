{
 "cells": [
  {
   "cell_type": "markdown",
   "metadata": {},
   "source": [
    "## Image resizing - constant BG, + zoom when black>n %\n",
    "\n",
    "Use conda env solaris\n",
    "\n",
    "image size 512 with reflect\n",
    "and without reflect"
   ]
  },
  {
   "cell_type": "code",
   "execution_count": 1,
   "metadata": {},
   "outputs": [],
   "source": [
    "%reload_ext autoreload\n",
    "%autoreload 2\n",
    "%matplotlib inline"
   ]
  },
  {
   "cell_type": "code",
   "execution_count": 2,
   "metadata": {},
   "outputs": [],
   "source": [
    "import geopandas as gpd\n",
    "from PIL import Image\n",
    "import PIL.Image as pil_image\n",
    "import cv2\n",
    "from pathlib import Path\n",
    "from os import listdir\n",
    "from os.path import isfile, join\n",
    "from matplotlib import pyplot as plt\n",
    "import pandas as pd\n",
    "import math\n",
    "import shutil"
   ]
  },
  {
   "cell_type": "code",
   "execution_count": 3,
   "metadata": {},
   "outputs": [],
   "source": [
    "data_dir = Path('data_04')\n",
    "pd_dir = Path('data_04')\n",
    "d_pth = 'data_04'\n",
    "colombia_rural = Path(f'{d_pth}/stac/colombia/borde_rural')\n",
    "colombia_soacha = Path(f'{d_pth}/stac/colombia/borde_soacha')\n",
    "BLACK_ZOOM_CUTOFF=0.2"
   ]
  },
  {
   "cell_type": "code",
   "execution_count": 4,
   "metadata": {},
   "outputs": [],
   "source": [
    "guatemala_mixco1 = Path(f'{d_pth}/stac/guatemala/mixco_1_and_ebenezer')\n",
    "guatemala_mixco3 = Path(f'{d_pth}/stac/guatemala/mixco_3')"
   ]
  },
  {
   "cell_type": "code",
   "execution_count": 5,
   "metadata": {},
   "outputs": [],
   "source": [
    "st_lucia_castries = Path(f'{d_pth}/stac/st_lucia/castries')\n",
    "st_lucia_dennery = Path(f'{d_pth}/stac/st_lucia/dennery')\n",
    "st_lucia_gros_islet = Path(f'{d_pth}/stac/st_lucia/gros_islet')"
   ]
  },
  {
   "cell_type": "code",
   "execution_count": 6,
   "metadata": {},
   "outputs": [],
   "source": [
    "COUNTRY='colombia'\n",
    "REGION='borde_rural'\n",
    "DATASET = f'{COUNTRY}_{REGION}'\n",
    "DATASET_PATH=colombia_rural\n",
    "path=data_dir/f'{COUNTRY}_{REGION}/cropped/'\n",
    "TRAIN_JSON = f'train-{REGION}.geojson'\n",
    "TEST_JSON = f'test-{REGION}.geojson'"
   ]
  },
  {
   "cell_type": "code",
   "execution_count": 7,
   "metadata": {},
   "outputs": [],
   "source": [
    "CV_RESIZE_IMAGES = True\n",
    "PIL_RESIZE_IMAGES = False\n",
    "#BORDER_WRAP\n",
    "#BORDER_CONSTANT\n",
    "#BORDER_REFLECT_101\n",
    "BORDER = cv2.BORDER_CONSTANT\n",
    "#RGB or L\n",
    "IMG_COLOUR='RGB'\n",
    "FLIPS=False"
   ]
  },
  {
   "cell_type": "code",
   "execution_count": 8,
   "metadata": {},
   "outputs": [],
   "source": [
    "border = 'constant'"
   ]
  },
  {
   "cell_type": "code",
   "execution_count": 9,
   "metadata": {},
   "outputs": [],
   "source": [
    "img_size=256"
   ]
  },
  {
   "cell_type": "code",
   "execution_count": 10,
   "metadata": {},
   "outputs": [],
   "source": [
    "def create_df(data_path, json, country, region):\n",
    "    df = gpd.read_file(data_path/json)\n",
    "    e=[country] * len(df)\n",
    "    f=[region] * len(df)\n",
    "    df['country'] = e\n",
    "    df['region'] = f\n",
    "    return df"
   ]
  },
  {
   "cell_type": "code",
   "execution_count": 11,
   "metadata": {},
   "outputs": [],
   "source": [
    "df_list=[]\n",
    "path_list= [colombia_rural, colombia_soacha, guatemala_mixco1, guatemala_mixco3,\n",
    "         st_lucia_castries, st_lucia_dennery, st_lucia_gros_islet]\n",
    "json_list=['train-borde_rural.geojson','train-borde_soacha.geojson','train-mixco_1_and_ebenezer.geojson','train-mixco_3.geojson',\n",
    "          'train-castries.geojson','train-dennery.geojson','train-gros_islet.geojson']\n",
    "country_list=['colombia','colombia','guatemala','guatemala','st_lucia','st_lucia','st_lucia']\n",
    "region_list=['borde_rural','borde_soacha','mixco_1_and_ebenezer','mixco_3','castries','dennery','gros_islet']\n",
    "for data_path, json, country, region in zip(path_list,json_list,country_list,region_list):\n",
    "    df_list.append(create_df(data_path, json, country, region))"
   ]
  },
  {
   "cell_type": "code",
   "execution_count": 12,
   "metadata": {},
   "outputs": [],
   "source": [
    "df_all = pd.concat(df_list)"
   ]
  },
  {
   "cell_type": "code",
   "execution_count": 13,
   "metadata": {},
   "outputs": [
    {
     "data": {
      "text/html": [
       "<div>\n",
       "<style scoped>\n",
       "    .dataframe tbody tr th:only-of-type {\n",
       "        vertical-align: middle;\n",
       "    }\n",
       "\n",
       "    .dataframe tbody tr th {\n",
       "        vertical-align: top;\n",
       "    }\n",
       "\n",
       "    .dataframe thead th {\n",
       "        text-align: right;\n",
       "    }\n",
       "</style>\n",
       "<table border=\"1\" class=\"dataframe\">\n",
       "  <thead>\n",
       "    <tr style=\"text-align: right;\">\n",
       "      <th></th>\n",
       "      <th>id</th>\n",
       "      <th>roof_material</th>\n",
       "      <th>verified</th>\n",
       "      <th>geometry</th>\n",
       "      <th>country</th>\n",
       "      <th>region</th>\n",
       "    </tr>\n",
       "  </thead>\n",
       "  <tbody>\n",
       "    <tr>\n",
       "      <td>1962</td>\n",
       "      <td>7a22ddec</td>\n",
       "      <td>healthy_metal</td>\n",
       "      <td>False</td>\n",
       "      <td>POLYGON ((-60.95293 14.08097, -60.95289 14.080...</td>\n",
       "      <td>st_lucia</td>\n",
       "      <td>gros_islet</td>\n",
       "    </tr>\n",
       "    <tr>\n",
       "      <td>1963</td>\n",
       "      <td>7a2f73ea</td>\n",
       "      <td>healthy_metal</td>\n",
       "      <td>False</td>\n",
       "      <td>POLYGON ((-60.94701 14.08085, -60.94705 14.080...</td>\n",
       "      <td>st_lucia</td>\n",
       "      <td>gros_islet</td>\n",
       "    </tr>\n",
       "    <tr>\n",
       "      <td>1964</td>\n",
       "      <td>7a34ffa4</td>\n",
       "      <td>healthy_metal</td>\n",
       "      <td>False</td>\n",
       "      <td>POLYGON ((-60.95235 14.08003, -60.95239 14.080...</td>\n",
       "      <td>st_lucia</td>\n",
       "      <td>gros_islet</td>\n",
       "    </tr>\n",
       "    <tr>\n",
       "      <td>1965</td>\n",
       "      <td>7a41560a</td>\n",
       "      <td>healthy_metal</td>\n",
       "      <td>False</td>\n",
       "      <td>POLYGON ((-60.94875 14.08058, -60.94875 14.080...</td>\n",
       "      <td>st_lucia</td>\n",
       "      <td>gros_islet</td>\n",
       "    </tr>\n",
       "    <tr>\n",
       "      <td>1966</td>\n",
       "      <td>7a283ad0</td>\n",
       "      <td>healthy_metal</td>\n",
       "      <td>False</td>\n",
       "      <td>POLYGON ((-60.94869 14.08074, -60.94869 14.080...</td>\n",
       "      <td>st_lucia</td>\n",
       "      <td>gros_islet</td>\n",
       "    </tr>\n",
       "  </tbody>\n",
       "</table>\n",
       "</div>"
      ],
      "text/plain": [
       "            id  roof_material  verified  \\\n",
       "1962  7a22ddec  healthy_metal     False   \n",
       "1963  7a2f73ea  healthy_metal     False   \n",
       "1964  7a34ffa4  healthy_metal     False   \n",
       "1965  7a41560a  healthy_metal     False   \n",
       "1966  7a283ad0  healthy_metal     False   \n",
       "\n",
       "                                               geometry   country      region  \n",
       "1962  POLYGON ((-60.95293 14.08097, -60.95289 14.080...  st_lucia  gros_islet  \n",
       "1963  POLYGON ((-60.94701 14.08085, -60.94705 14.080...  st_lucia  gros_islet  \n",
       "1964  POLYGON ((-60.95235 14.08003, -60.95239 14.080...  st_lucia  gros_islet  \n",
       "1965  POLYGON ((-60.94875 14.08058, -60.94875 14.080...  st_lucia  gros_islet  \n",
       "1966  POLYGON ((-60.94869 14.08074, -60.94869 14.080...  st_lucia  gros_islet  "
      ]
     },
     "execution_count": 13,
     "metadata": {},
     "output_type": "execute_result"
    }
   ],
   "source": [
    "df_all.tail()"
   ]
  },
  {
   "cell_type": "code",
   "execution_count": 14,
   "metadata": {},
   "outputs": [],
   "source": [
    "#cant save to csv with geometry\n",
    "df_all.drop(columns=['geometry'],inplace=True)"
   ]
  },
  {
   "cell_type": "code",
   "execution_count": 15,
   "metadata": {},
   "outputs": [],
   "source": [
    "#df_all.to_csv(data_dir/'df_train_all.csv', index=False)"
   ]
  },
  {
   "cell_type": "code",
   "execution_count": 16,
   "metadata": {},
   "outputs": [],
   "source": [
    "#note no geo json from st_lucia castries or gros_islet\n",
    "df_t=[]\n",
    "t_path_list= [colombia_rural, colombia_soacha, guatemala_mixco1, guatemala_mixco3, st_lucia_dennery]\n",
    "t_json_list=['test-borde_rural.geojson','test-borde_soacha.geojson','test-mixco_1_and_ebenezer.geojson',\n",
    "           'test-mixco_3.geojson','test-dennery.geojson']\n",
    "t_country_list=['colombia','colombia','guatemala','guatemala','st_lucia']\n",
    "t_region_list=['borde_rural','borde_soacha','mixco_1_and_ebenezer','mixco_3','dennery']\n",
    "for data_path, json, country, region in zip(t_path_list,t_json_list,t_country_list,t_region_list):\n",
    "    df_t.append(create_df(data_path, json, country, region))"
   ]
  },
  {
   "cell_type": "code",
   "execution_count": 17,
   "metadata": {},
   "outputs": [],
   "source": [
    "df_test = pd.concat(df_t)"
   ]
  },
  {
   "cell_type": "code",
   "execution_count": 18,
   "metadata": {},
   "outputs": [
    {
     "data": {
      "text/html": [
       "<div>\n",
       "<style scoped>\n",
       "    .dataframe tbody tr th:only-of-type {\n",
       "        vertical-align: middle;\n",
       "    }\n",
       "\n",
       "    .dataframe tbody tr th {\n",
       "        vertical-align: top;\n",
       "    }\n",
       "\n",
       "    .dataframe thead th {\n",
       "        text-align: right;\n",
       "    }\n",
       "</style>\n",
       "<table border=\"1\" class=\"dataframe\">\n",
       "  <thead>\n",
       "    <tr style=\"text-align: right;\">\n",
       "      <th></th>\n",
       "      <th>id</th>\n",
       "      <th>geometry</th>\n",
       "      <th>country</th>\n",
       "      <th>region</th>\n",
       "    </tr>\n",
       "  </thead>\n",
       "  <tbody>\n",
       "    <tr>\n",
       "      <td>0</td>\n",
       "      <td>7a4d630a</td>\n",
       "      <td>POLYGON ((-74.15900 4.55463, -74.15898 4.55470...</td>\n",
       "      <td>colombia</td>\n",
       "      <td>borde_rural</td>\n",
       "    </tr>\n",
       "    <tr>\n",
       "      <td>1</td>\n",
       "      <td>7a4bbbd6</td>\n",
       "      <td>POLYGON ((-74.15955 4.55463, -74.15951 4.55474...</td>\n",
       "      <td>colombia</td>\n",
       "      <td>borde_rural</td>\n",
       "    </tr>\n",
       "    <tr>\n",
       "      <td>2</td>\n",
       "      <td>7a4ac744</td>\n",
       "      <td>POLYGON ((-74.15892 4.55509, -74.15887 4.55507...</td>\n",
       "      <td>colombia</td>\n",
       "      <td>borde_rural</td>\n",
       "    </tr>\n",
       "    <tr>\n",
       "      <td>3</td>\n",
       "      <td>7a4881fa</td>\n",
       "      <td>POLYGON ((-74.15887 4.55506, -74.15883 4.55505...</td>\n",
       "      <td>colombia</td>\n",
       "      <td>borde_rural</td>\n",
       "    </tr>\n",
       "    <tr>\n",
       "      <td>4</td>\n",
       "      <td>7a4aa4a8</td>\n",
       "      <td>POLYGON ((-74.15882 4.55504, -74.15871 4.55500...</td>\n",
       "      <td>colombia</td>\n",
       "      <td>borde_rural</td>\n",
       "    </tr>\n",
       "  </tbody>\n",
       "</table>\n",
       "</div>"
      ],
      "text/plain": [
       "         id                                           geometry   country  \\\n",
       "0  7a4d630a  POLYGON ((-74.15900 4.55463, -74.15898 4.55470...  colombia   \n",
       "1  7a4bbbd6  POLYGON ((-74.15955 4.55463, -74.15951 4.55474...  colombia   \n",
       "2  7a4ac744  POLYGON ((-74.15892 4.55509, -74.15887 4.55507...  colombia   \n",
       "3  7a4881fa  POLYGON ((-74.15887 4.55506, -74.15883 4.55505...  colombia   \n",
       "4  7a4aa4a8  POLYGON ((-74.15882 4.55504, -74.15871 4.55500...  colombia   \n",
       "\n",
       "        region  \n",
       "0  borde_rural  \n",
       "1  borde_rural  \n",
       "2  borde_rural  \n",
       "3  borde_rural  \n",
       "4  borde_rural  "
      ]
     },
     "execution_count": 18,
     "metadata": {},
     "output_type": "execute_result"
    }
   ],
   "source": [
    "df_test.head()"
   ]
  },
  {
   "cell_type": "code",
   "execution_count": 19,
   "metadata": {},
   "outputs": [],
   "source": [
    "#cant save to csv with geometry\n",
    "df_test.drop(columns=['geometry'],inplace=True)"
   ]
  },
  {
   "cell_type": "code",
   "execution_count": 20,
   "metadata": {},
   "outputs": [],
   "source": [
    "#df_test.to_csv(data_dir/'df_test_all.csv', index=False)"
   ]
  },
  {
   "cell_type": "markdown",
   "metadata": {},
   "source": [
    "#### get average image size"
   ]
  },
  {
   "cell_type": "code",
   "execution_count": 21,
   "metadata": {},
   "outputs": [],
   "source": [
    "def img_type_av_sz(fn_list):\n",
    "    widths = []\n",
    "    heights = []\n",
    "    for im in fn_list:\n",
    "        #100 x faster than open_image(img_f)\n",
    "        w,h=pil_image.open(im).size\n",
    "        widths.append(w)\n",
    "        heights.append(h)\n",
    "    av_w = sum(widths)/len(widths)\n",
    "    av_h = sum(heights)/len(heights)\n",
    "    print(f'avg width: {av_w}, avg height: {av_h}, max w: {max(widths)}, min w: {min(widths)}, max h: {max(heights)}, min h: {min(heights)}')\n",
    "    return widths, heights\n"
   ]
  },
  {
   "cell_type": "code",
   "execution_count": 22,
   "metadata": {},
   "outputs": [
    {
     "data": {
      "text/plain": [
       "PosixPath('data_04/colombia_borde_rural/cropped')"
      ]
     },
     "execution_count": 22,
     "metadata": {},
     "output_type": "execute_result"
    }
   ],
   "source": [
    "path"
   ]
  },
  {
   "cell_type": "code",
   "execution_count": 23,
   "metadata": {},
   "outputs": [],
   "source": [
    "fnames = [path/'train'/f'{f}' for f in listdir(path/'train') if isfile(join(path/'train', f))]"
   ]
  },
  {
   "cell_type": "code",
   "execution_count": 24,
   "metadata": {},
   "outputs": [
    {
     "data": {
      "text/plain": [
       "PosixPath('data_04/colombia_borde_rural/cropped/train/7a371b04.tif')"
      ]
     },
     "execution_count": 24,
     "metadata": {},
     "output_type": "execute_result"
    }
   ],
   "source": [
    "fnames[0]"
   ]
  },
  {
   "cell_type": "code",
   "execution_count": 25,
   "metadata": {},
   "outputs": [],
   "source": [
    "test_fnames = [path/'train'/f'{f}' for f in listdir(path/'test') if isfile(join(path/'test', f))]"
   ]
  },
  {
   "cell_type": "code",
   "execution_count": 26,
   "metadata": {},
   "outputs": [
    {
     "name": "stdout",
     "output_type": "stream",
     "text": [
      "avg width: 264.2011006649851, avg height: 266.640220132997, max w: 1502, min w: 69, max h: 1871, min h: 59\n"
     ]
    }
   ],
   "source": [
    "widths, heights=img_type_av_sz(fnames)"
   ]
  },
  {
   "cell_type": "code",
   "execution_count": 27,
   "metadata": {},
   "outputs": [
    {
     "data": {
      "image/png": "[encoded data removed]",
      "text/plain": [
       "<Figure size 432x288 with 1 Axes>"
      ]
     },
     "metadata": {
      "needs_background": "light"
     },
     "output_type": "display_data"
    }
   ],
   "source": [
    "num_bins = 100\n",
    "n, bins, patches = plt.hist(widths, num_bins, facecolor='blue', alpha=0.5)\n",
    "plt.show()"
   ]
  },
  {
   "cell_type": "code",
   "execution_count": 28,
   "metadata": {
    "scrolled": true
   },
   "outputs": [
    {
     "data": {
      "image/png": "[encoded data removed]",
      "text/plain": [
       "<Figure size 432x288 with 1 Axes>"
      ]
     },
     "metadata": {
      "needs_background": "light"
     },
     "output_type": "display_data"
    }
   ],
   "source": [
    "num_bins = 100\n",
    "n, bins, patches = plt.hist(heights, num_bins, facecolor='red', alpha=0.5)\n",
    "plt.show()"
   ]
  },
  {
   "cell_type": "code",
   "execution_count": 29,
   "metadata": {},
   "outputs": [],
   "source": [
    "def resize_contain(image, size, resample=Image.LANCZOS, bg_color=(255, 255, 255, 255)):\n",
    "    \"\"\"\n",
    "    Resize image according to size.\n",
    "    image:      a Pillow image instance\n",
    "    size:       a list of two integers [width, height]\n",
    "    \"\"\"\n",
    "    img_format = image.format\n",
    "    img = image.copy()\n",
    "    img.thumbnail((size[0], size[1]), resample)\n",
    "    background = Image.new('RGBA', (size[0], size[1]), bg_color)\n",
    "    img_position = (\n",
    "        int(math.ceil((size[0] - img.size[0]) / 2)),\n",
    "        int(math.ceil((size[1] - img.size[1]) / 2))\n",
    "    )\n",
    "    background.paste(img, img_position)\n",
    "    background.format = img_format\n",
    "    return background.convert('RGBA')"
   ]
  },
  {
   "cell_type": "code",
   "execution_count": 30,
   "metadata": {},
   "outputs": [],
   "source": [
    "def resize_to_max(fn_list, max_w, max_h):\n",
    "    widths = []\n",
    "    heights = []\n",
    "    for im in fn_list:\n",
    "        with pil_image.open(im) as image:\n",
    "            w,h=image.size\n",
    "            if (w > max_w) or (h > max_h):\n",
    "                res_im = resize_contain(image, [max_w, max_h])\n",
    "                name=str(im).split('.')[0]\n",
    "                res_im.save(f'{name}_512.tif', image.format)"
   ]
  },
  {
   "cell_type": "code",
   "execution_count": 31,
   "metadata": {},
   "outputs": [],
   "source": [
    "def resize_all(fn_list, max_w, max_h, data_path, all_path):\n",
    "    ''' using Pillow to resize to max_w ot h'''\n",
    "    widths = []\n",
    "    heights = []\n",
    "    for im in fn_list:\n",
    "        with pil_image.open(im) as image:\n",
    "            w,h=image.size\n",
    "            res_im = resize_contain(image, [max_w, max_h])\n",
    "            name=str(im).split('.')[0]\n",
    "            name=name.split('/')[-1]\n",
    "            res_im.save(f'{data_path}/{name}.tif', image.format)\n",
    "            shutil.copyfile(f'{data_path}/{name}.tif', all_path/f'{name}.tif')"
   ]
  },
  {
   "cell_type": "code",
   "execution_count": 32,
   "metadata": {},
   "outputs": [],
   "source": [
    "def save_img(img, all_path, name):\n",
    "    img.save(f'{all_path}/{name}.tif')\n",
    "    #shutil.copyfile(f'{data_path}/{name}.tif', all_path/f'{name}.tif')"
   ]
  },
  {
   "cell_type": "code",
   "execution_count": 33,
   "metadata": {},
   "outputs": [],
   "source": [
    "def pil_image_flips(img, data_path, all_path, name):\n",
    "    '''\n",
    "    out = im.transpose(Image.FLIP_LEFT_RIGHT)\n",
    "    out = im.transpose(Image.FLIP_TOP_BOTTOM)\n",
    "    out = im.transpose(Image.ROTATE_90)\n",
    "    out = im.transpose(Image.ROTATE_180)\n",
    "    out = im.transpose(Image.ROTATE_270)\n",
    "    '''\n",
    "    images=[]\n",
    "    names=[]\n",
    "    \n",
    "    im_x=img.transpose(Image.FLIP_LEFT_RIGHT)\n",
    "    im_xy=im_x.transpose(Image.FLIP_TOP_BOTTOM)\n",
    "    im_y=im_xy.transpose(Image.FLIP_LEFT_RIGHT)\n",
    "    im_90=img.transpose(Image.ROTATE_90)\n",
    "    im_90x=im_90.transpose(Image.FLIP_LEFT_RIGHT)\n",
    "    im_270=img.transpose(Image.ROTATE_270)\n",
    "    im_270x=im_270.transpose(Image.FLIP_LEFT_RIGHT)\n",
    "    images.extend([img, im_x,im_xy,im_y,im_90,im_90x,im_270,im_270x])\n",
    "    names.extend([name, name+'_x',name+'_xy',name+'_y',name+'_90',name+'_90x',name+'_270',name+'_270x'])\n",
    "    return images, names"
   ]
  },
  {
   "cell_type": "code",
   "execution_count": 34,
   "metadata": {},
   "outputs": [
    {
     "data": {
      "text/plain": [
       "\"eg:\\n    for id in ids:\\n        im = Image.open(train_images/f'{id}.tif')\\n        mpl_show(im, label=id, title='')\\n        blk=get_black_frac(im)\\n        print(f'black fraction: {blk}')\\n\""
      ]
     },
     "execution_count": 34,
     "metadata": {},
     "output_type": "execute_result"
    }
   ],
   "source": [
    "def get_black_frac(opencvImage):\n",
    "    #opencvImage = cv2.cvtColor(np.array(im), cv2.COLOR_RGB2BGR)\n",
    "    gray = cv2.cvtColor(opencvImage, cv2.COLOR_BGR2GRAY)\n",
    "    count = cv2.countNonZero(gray)\n",
    "    height, width, channels = opencvImage.shape\n",
    "    tot_px=height*width\n",
    "    blk=(tot_px-count)/tot_px\n",
    "    return blk\n",
    "\n",
    "'''eg:\n",
    "    for id in ids:\n",
    "        im = Image.open(train_images/f'{id}.tif')\n",
    "        mpl_show(im, label=id, title='')\n",
    "        blk=get_black_frac(im)\n",
    "        print(f'black fraction: {blk}')\n",
    "'''"
   ]
  },
  {
   "cell_type": "markdown",
   "metadata": {},
   "source": [
    "#### OpenCV"
   ]
  },
  {
   "cell_type": "code",
   "execution_count": 35,
   "metadata": {},
   "outputs": [],
   "source": [
    "def cv_zoom_blacks(fn_list, max_size, data_path, all_path, color, border, flips):\n",
    "    ''' if black> fraction, zoom in rather than just reflect'''\n",
    "    print(f'resizing: {len(fn_list)} images to: {max_size} with OpenCV border: {border}')\n",
    "    widths = []\n",
    "    heights = []\n",
    "    for i, im in enumerate(fn_list):\n",
    "        img = cv2.imread(str(im))\n",
    "        blk=get_black_frac(img)\n",
    "        if blk>BLACK_ZOOM_CUTOFF:\n",
    "            old_size = img.shape[:2] # old_size is in (height, width) format\n",
    "            ratio = float(max_size)/min(old_size)\n",
    "            #print(f'ratio: {ratio}, old_size: {old_size}')\n",
    "            #ratio=ratio*1.25\n",
    "            new_size = tuple([int(x*ratio) for x in old_size])\n",
    "            # new_size should be in (width, height) format\n",
    "            img = cv2.resize(img, (new_size[1], new_size[0])) \n",
    "            \n",
    "            hn, wn, channels = img.shape\n",
    "            \n",
    "            delta_w = max_size - new_size[1]\n",
    "            delta_h = max_size - new_size[0]\n",
    "            print(f'delta_w: {delta_w}, delta_h: {delta_h}, max_size: {max_size}') \n",
    "            if delta_w<0:\n",
    "                print(delta_w)\n",
    "            if delta_h<0:\n",
    "                print(delta_h)\n",
    "            top, bottom = delta_h//2, delta_h-(delta_h//2)\n",
    "            left, right = delta_w//2, delta_w-(delta_w//2)\n",
    "            print(f'new ratio: {ratio}, old_size: {old_size}, new_size: {new_size}, top: {top}, bottom: {bottom}, left: {left}, right: {right}, border: {border}')\n",
    "            new_im = cv2.copyMakeBorder(img, top, bottom, left, right, border,\n",
    "        value=color)\n",
    "            \n",
    "            height, width, channels = img.shape\n",
    "            ymgn= int((height-max_size)/2)\n",
    "            xmgn=int((width-max_size)/2)\n",
    "            #print(f'ymgn: {ymgn}, xmgn: {xmgn}')     \n",
    "            crop = img[ymgn:height-ymgn, xmgn:width-xmgn]\n",
    "            height, width, channels = img.shape\n",
    "            #print(f'height: {height}, width: {width}')     \n",
    "            name=str(im).split('.')[0]\n",
    "            name=name.split('/')[-1]\n",
    "            if i % 1000 == 0:\n",
    "                print(f'saving {i}th image to: {all_path}/{name}_zoom.tif')\n",
    "            #write np array to image usinf PIL\n",
    "            pim = Image.fromarray(crop)\n",
    "            save_img(pim, all_path, name+'_zoom')"
   ]
  },
  {
   "cell_type": "code",
   "execution_count": 36,
   "metadata": {},
   "outputs": [],
   "source": [
    "def cv_resize_all(fn_list, max_size, data_path, all_path, color, border, flips):\n",
    "    ''' using OpenCV to resize to max_w ot h'''\n",
    "    print(f'resizing: {len(fn_list)} images to: {max_size} with OpenCV border: {border}')\n",
    "    widths = []\n",
    "    heights = []\n",
    "    for i, im in enumerate(fn_list):\n",
    "        img = cv2.imread(str(im))\n",
    "        old_size = img.shape[:2] # old_size is in (height, width) format\n",
    "        ratio = float(max_size)/max(old_size)\n",
    "        new_size = tuple([int(x*ratio) for x in old_size])\n",
    "        # new_size should be in (width, height) format\n",
    "        img = cv2.resize(img, (new_size[1], new_size[0])) \n",
    "        delta_w = max_size - new_size[1]\n",
    "        delta_h = max_size - new_size[0]\n",
    "        top, bottom = delta_h//2, delta_h-(delta_h//2)\n",
    "        left, right = delta_w//2, delta_w-(delta_w//2)\n",
    "        name=str(im).split('.')[0]\n",
    "        name=name.split('/')[-1]\n",
    "        if i % 1000 == 0:\n",
    "            print(f'saving {i}th image to: {all_path}/{name}.tif')\n",
    "            \n",
    "        '''\n",
    "        #BORDER = cv2.BORDER_CONSTANT\n",
    "        bgconst_im = cv2.copyMakeBorder(img, top, bottom, left, right, border,\n",
    "    value=color)\n",
    "        bgconst_pim = Image.fromarray(bgconst_im)\n",
    "        if flips:\n",
    "            images, names=pil_image_flips(bgconst_pim, data_path, all_path, name)\n",
    "            for img, name in zip(images, names):\n",
    "                save_img(bgconst_pim, all_path, name+'_256_flip')\n",
    "        else:\n",
    "            save_img(bgconst_pim, all_path, name+'_256_bgconstant')\n",
    "        '''\n",
    "    \n",
    "        #BORDER_REFLECT_101\n",
    "        refelect_im = cv2.copyMakeBorder(img, top, bottom, left, right, cv2.BORDER_REFLECT_101,\n",
    "    value=color)\n",
    "        refelect_im = Image.fromarray(refelect_im)\n",
    "        if flips:\n",
    "            images, names=pil_image_flips(refelect_im, data_path, all_path, name)\n",
    "            for img, name in zip(images, names):\n",
    "                save_img(refelect_im, all_path, name+'_256_reflect_flip')\n",
    "        else:\n",
    "            save_img(refelect_im, all_path, name+'_256_reflect')\n",
    "            \n",
    "        #BORDER_WRAP\n",
    "        wrap_im = cv2.copyMakeBorder(img, top, bottom, left, right, cv2.BORDER_WRAP,\n",
    "    value=color)\n",
    "        wrap_im = Image.fromarray(wrap_im)\n",
    "        if flips:\n",
    "            images, names=pil_image_flips(wrap_im, data_path, all_path, name)\n",
    "            for img, name in zip(images, names):\n",
    "                save_img(wrap_im, all_path, name+'_256_wrap_flip')\n",
    "        else:\n",
    "            save_img(wrap_im, all_path, name+'_256_wrap')"
   ]
  },
  {
   "cell_type": "code",
   "execution_count": 37,
   "metadata": {},
   "outputs": [
    {
     "data": {
      "text/plain": [
       "PosixPath('data_04/colombia_borde_rural/cropped/train/7a371b04.tif')"
      ]
     },
     "execution_count": 37,
     "metadata": {},
     "output_type": "execute_result"
    }
   ],
   "source": [
    "fnames[0]"
   ]
  },
  {
   "cell_type": "code",
   "execution_count": 38,
   "metadata": {},
   "outputs": [],
   "source": [
    "train_dir = Path(f'{d_pth}/train')\n",
    "train_dir.mkdir(exist_ok=True)\n",
    "test_dir = Path(f'{d_pth}/test')\n",
    "test_dir.mkdir(exist_ok=True)"
   ]
  },
  {
   "cell_type": "markdown",
   "metadata": {},
   "source": [
    "#### PIL gen resized images"
   ]
  },
  {
   "cell_type": "code",
   "execution_count": 39,
   "metadata": {},
   "outputs": [],
   "source": [
    "train_sized_dir = Path(f'{d_pth}/train/{img_size}')\n",
    "train_sized_dir.mkdir(exist_ok=True)\n",
    "test_sized_dir = Path(f'{d_pth}/test/{img_size}')\n",
    "test_sized_dir.mkdir(exist_ok=True)"
   ]
  },
  {
   "cell_type": "markdown",
   "metadata": {},
   "source": [
    "#### OpenCV gen resized images"
   ]
  },
  {
   "cell_type": "code",
   "execution_count": 40,
   "metadata": {},
   "outputs": [],
   "source": [
    "train_cv_dir = Path(f'{d_pth}/train/rotated')\n",
    "train_cv_dir.mkdir(exist_ok=True)\n",
    "train_cv_dir = Path(f'{d_pth}/train/rotated/clipped')\n",
    "train_cv_dir.mkdir(exist_ok=True)\n",
    "train_cv_dir = Path(f'{d_pth}/train/rotated/clipped/{border}')\n",
    "train_cv_dir.mkdir(exist_ok=True)\n",
    "train_cv_dir = Path(f'{d_pth}/train/rotated/clipped/{border}/{img_size}')\n",
    "train_cv_dir.mkdir(exist_ok=True)\n",
    "train_cv_dir = Path(f'{d_pth}/train/rotated/clipped/{img_size}')\n",
    "train_cv_dir.mkdir(exist_ok=True)\n",
    "test_cv_dir = Path(f'{d_pth}/test/rotated')\n",
    "test_cv_dir.mkdir(exist_ok=True)\n",
    "test_cv_dir = Path(f'{d_pth}/test/rotated/clipped')\n",
    "test_cv_dir.mkdir(exist_ok=True)\n",
    "test_cv_dir = Path(f'{d_pth}/test/rotated/clipped/{border}')\n",
    "test_cv_dir.mkdir(exist_ok=True)\n",
    "test_cv_dir = Path(f'{d_pth}/test/rotated/clipped/{border}/{img_size}')\n",
    "test_cv_dir.mkdir(exist_ok=True)"
   ]
  },
  {
   "cell_type": "markdown",
   "metadata": {},
   "source": [
    "### resize all images"
   ]
  },
  {
   "cell_type": "code",
   "execution_count": 41,
   "metadata": {},
   "outputs": [],
   "source": [
    "def pil_resize_to(fnames, test_fnames, size=256):\n",
    "    for c, r in zip(country_list, region_list):\n",
    "        p=data_dir/f'{c}_{r}/cropped/'\n",
    "        t_dir = p/f'train/{size}'\n",
    "        t_dir.mkdir(exist_ok=True)\n",
    "        resize_all(fnames, size,size, data_path=f'{p}/train/{size}', all_path=data_dir/f'train/{size}')\n",
    "        if r.strip() not in ['castries','gros_islet']:\n",
    "            t_dir = p/f'test/{size}'\n",
    "            t_dir.mkdir(exist_ok=True)\n",
    "            resize_all(test_fnames, size, size, data_path=f'{p}/test/{size}', all_path=data_dir/f'test/{size}')"
   ]
  },
  {
   "cell_type": "code",
   "execution_count": 42,
   "metadata": {},
   "outputs": [],
   "source": [
    "def cv_resize_zoom_to(fnames, test_fnames, color, size=256, flips=None):\n",
    "    for c, r in zip(country_list, region_list):\n",
    "        print(f'--cv_resize_to {c} {r}')\n",
    "        p=data_dir/f'{c}_{r}/cropped/'\n",
    "        t_dir = p/f'train/rotated/clipped/{size}'\n",
    "        t_dir.mkdir(exist_ok=True)\n",
    "        t_dir = p/f'train/rotated/clipped/{size}'\n",
    "        t_dir.mkdir(exist_ok=True)\n",
    "        cv_zoom_blacks(fnames, size, data_path=f'{p}/train/rotated/clipped/{size}', all_path=data_dir/f'train/rotated/clipped/{border}/{size}', color=color, border=BORDER, flips=flips)\n",
    "        cv_resize_all(fnames, size, data_path=f'{p}/train/rotated/clipped/{size}', all_path=data_dir/f'train/rotated/clipped/{border}/{size}', color=color, border=BORDER, flips=flips)\n",
    "        if r.strip() not in ['castries','gros_islet']:\n",
    "            t_dir = p/f'test/rotated/clipped/{size}'\n",
    "            t_dir.mkdir(exist_ok=True)\n",
    "            t_dir = p/f'test/rotated/clipped/{size}'\n",
    "            t_dir.mkdir(exist_ok=True)\n",
    "            cv_zoom_blacks(test_fnames, size, data_path=f'{p}/test/rotated/clipped/{size}', all_path=data_dir/f'test/rotated/clipped/{border}/{size}', color=color, border=BORDER, flips=flips)\n",
    "            cv_resize_all(test_fnames, size, data_path=f'{p}/test/rotated/clipped/{size}', all_path=data_dir/f'test/rotated/clipped/{border}/{size}', color=color, border=BORDER, flips=flips)"
   ]
  },
  {
   "cell_type": "code",
   "execution_count": 43,
   "metadata": {},
   "outputs": [],
   "source": [
    "if PIL_RESIZE_IMAGES:\n",
    "    fl=[]\n",
    "    tl=[]\n",
    "    train_flat=[]\n",
    "    test_flat=[]\n",
    "    for c, r in zip(country_list, region_list):\n",
    "        p=data_dir/f'{c}_{r}/cropped/'\n",
    "        fn = get_image_files(p/'train')\n",
    "        fl.append(fn)\n",
    "        if r.strip() not in ['castries','gros_islet']:\n",
    "            tn = get_image_files(p/'test')\n",
    "            tl.append(tn)\n",
    "    train_flat = [item for sublist in fl for item in sublist]\n",
    "    test_flat = [item for sublist in tl for item in sublist]\n",
    "    resize_to(fnames=train_flat, test_fnames=test_flat, size=img_size)"
   ]
  },
  {
   "cell_type": "code",
   "execution_count": 44,
   "metadata": {},
   "outputs": [
    {
     "name": "stdout",
     "output_type": "stream",
     "text": [
      "colombia region borde_rural test gen\n",
      "colombia region borde_soacha test gen\n",
      "guatemala region mixco_1_and_ebenezer test gen\n",
      "guatemala region mixco_3 test gen\n",
      "st_lucia region dennery test gen\n",
      "22553 train images; 7325 test images\n",
      "--cv_resize_to colombia borde_rural\n",
      "resizing: 22553 images to: 256 with OpenCV border: 0\n",
      "saving 3000th image to: data_04/train/rotated/clipped/constant/256/7a3ef3ce.tif\n",
      "saving 7000th image to: data_04/train/rotated/clipped/constant/256/7a3bf3ae.tif\n",
      "saving 15000th image to: data_04/train/rotated/clipped/constant/256/7a2be504.tif\n",
      "resizing: 22553 images to: 256 with OpenCV border: 0\n",
      "saving 0th image to: data_04/train/rotated/clipped/constant/256/7a371b04.tif\n",
      "saving 1000th image to: data_04/train/rotated/clipped/constant/256/7a2dbbae.tif\n",
      "saving 2000th image to: data_04/train/rotated/clipped/constant/256/7a379368.tif\n",
      "saving 3000th image to: data_04/train/rotated/clipped/constant/256/7a3ef3ce.tif\n",
      "saving 4000th image to: data_04/train/rotated/clipped/constant/256/7a1d12cc.tif\n",
      "saving 5000th image to: data_04/train/rotated/clipped/constant/256/7a392a66.tif\n",
      "saving 6000th image to: data_04/train/rotated/clipped/constant/256/7a409152.tif\n",
      "saving 7000th image to: data_04/train/rotated/clipped/constant/256/7a3bf3ae.tif\n",
      "saving 8000th image to: data_04/train/rotated/clipped/constant/256/7a1d1b00.tif\n",
      "saving 9000th image to: data_04/train/rotated/clipped/constant/256/7a216976.tif\n",
      "saving 10000th image to: data_04/train/rotated/clipped/constant/256/7a20225a.tif\n",
      "saving 11000th image to: data_04/train/rotated/clipped/constant/256/7a387314.tif\n",
      "saving 12000th image to: data_04/train/rotated/clipped/constant/256/7a301d90.tif\n",
      "saving 13000th image to: data_04/train/rotated/clipped/constant/256/7a2d5a6a.tif\n",
      "saving 14000th image to: data_04/train/rotated/clipped/constant/256/7a426e50.tif\n",
      "saving 15000th image to: data_04/train/rotated/clipped/constant/256/7a2be504.tif\n",
      "saving 16000th image to: data_04/train/rotated/clipped/constant/256/7a328daa.tif\n",
      "saving 17000th image to: data_04/train/rotated/clipped/constant/256/7a2a3b96.tif\n",
      "saving 18000th image to: data_04/train/rotated/clipped/constant/256/7a443546.tif\n",
      "saving 19000th image to: data_04/train/rotated/clipped/constant/256/7a3cccca.tif\n",
      "saving 20000th image to: data_04/train/rotated/clipped/constant/256/7a1cec0c.tif\n",
      "saving 21000th image to: data_04/train/rotated/clipped/constant/256/7a24614e.tif\n",
      "saving 22000th image to: data_04/train/rotated/clipped/constant/256/7a42215c.tif\n",
      "resizing: 7325 images to: 256 with OpenCV border: 0\n",
      "resizing: 7325 images to: 256 with OpenCV border: 0\n",
      "saving 0th image to: data_04/test/rotated/clipped/constant/256/7a452078.tif\n",
      "saving 1000th image to: data_04/test/rotated/clipped/constant/256/7a4ba6e6.tif\n",
      "saving 2000th image to: data_04/test/rotated/clipped/constant/256/7a4fafe8.tif\n",
      "saving 3000th image to: data_04/test/rotated/clipped/constant/256/7a51613a.tif\n",
      "saving 4000th image to: data_04/test/rotated/clipped/constant/256/7a4ed9e2.tif\n",
      "saving 5000th image to: data_04/test/rotated/clipped/constant/256/7a45c6a4.tif\n",
      "saving 6000th image to: data_04/test/rotated/clipped/constant/256/7a490a30.tif\n",
      "saving 7000th image to: data_04/test/rotated/clipped/constant/256/7a47f71c.tif\n",
      "--cv_resize_to colombia borde_soacha\n",
      "resizing: 22553 images to: 256 with OpenCV border: 0\n",
      "saving 3000th image to: data_04/train/rotated/clipped/constant/256/7a3ef3ce.tif\n",
      "saving 7000th image to: data_04/train/rotated/clipped/constant/256/7a3bf3ae.tif\n",
      "saving 15000th image to: data_04/train/rotated/clipped/constant/256/7a2be504.tif\n",
      "resizing: 22553 images to: 256 with OpenCV border: 0\n",
      "saving 0th image to: data_04/train/rotated/clipped/constant/256/7a371b04.tif\n",
      "saving 1000th image to: data_04/train/rotated/clipped/constant/256/7a2dbbae.tif\n",
      "saving 2000th image to: data_04/train/rotated/clipped/constant/256/7a379368.tif\n",
      "saving 3000th image to: data_04/train/rotated/clipped/constant/256/7a3ef3ce.tif\n",
      "saving 4000th image to: data_04/train/rotated/clipped/constant/256/7a1d12cc.tif\n",
      "saving 5000th image to: data_04/train/rotated/clipped/constant/256/7a392a66.tif\n",
      "saving 6000th image to: data_04/train/rotated/clipped/constant/256/7a409152.tif\n",
      "saving 7000th image to: data_04/train/rotated/clipped/constant/256/7a3bf3ae.tif\n",
      "saving 8000th image to: data_04/train/rotated/clipped/constant/256/7a1d1b00.tif\n",
      "saving 9000th image to: data_04/train/rotated/clipped/constant/256/7a216976.tif\n",
      "saving 10000th image to: data_04/train/rotated/clipped/constant/256/7a20225a.tif\n",
      "saving 11000th image to: data_04/train/rotated/clipped/constant/256/7a387314.tif\n",
      "saving 12000th image to: data_04/train/rotated/clipped/constant/256/7a301d90.tif\n",
      "saving 13000th image to: data_04/train/rotated/clipped/constant/256/7a2d5a6a.tif\n",
      "saving 14000th image to: data_04/train/rotated/clipped/constant/256/7a426e50.tif\n",
      "saving 15000th image to: data_04/train/rotated/clipped/constant/256/7a2be504.tif\n",
      "saving 16000th image to: data_04/train/rotated/clipped/constant/256/7a328daa.tif\n",
      "saving 17000th image to: data_04/train/rotated/clipped/constant/256/7a2a3b96.tif\n",
      "saving 18000th image to: data_04/train/rotated/clipped/constant/256/7a443546.tif\n",
      "saving 19000th image to: data_04/train/rotated/clipped/constant/256/7a3cccca.tif\n",
      "saving 20000th image to: data_04/train/rotated/clipped/constant/256/7a1cec0c.tif\n",
      "saving 21000th image to: data_04/train/rotated/clipped/constant/256/7a24614e.tif\n",
      "saving 22000th image to: data_04/train/rotated/clipped/constant/256/7a42215c.tif\n",
      "resizing: 7325 images to: 256 with OpenCV border: 0\n",
      "resizing: 7325 images to: 256 with OpenCV border: 0\n",
      "saving 0th image to: data_04/test/rotated/clipped/constant/256/7a452078.tif\n",
      "saving 1000th image to: data_04/test/rotated/clipped/constant/256/7a4ba6e6.tif\n",
      "saving 2000th image to: data_04/test/rotated/clipped/constant/256/7a4fafe8.tif\n",
      "saving 3000th image to: data_04/test/rotated/clipped/constant/256/7a51613a.tif\n",
      "saving 4000th image to: data_04/test/rotated/clipped/constant/256/7a4ed9e2.tif\n",
      "saving 5000th image to: data_04/test/rotated/clipped/constant/256/7a45c6a4.tif\n",
      "saving 6000th image to: data_04/test/rotated/clipped/constant/256/7a490a30.tif\n",
      "saving 7000th image to: data_04/test/rotated/clipped/constant/256/7a47f71c.tif\n",
      "--cv_resize_to guatemala mixco_1_and_ebenezer\n",
      "resizing: 22553 images to: 256 with OpenCV border: 0\n",
      "saving 3000th image to: data_04/train/rotated/clipped/constant/256/7a3ef3ce.tif\n",
      "saving 7000th image to: data_04/train/rotated/clipped/constant/256/7a3bf3ae.tif\n",
      "saving 15000th image to: data_04/train/rotated/clipped/constant/256/7a2be504.tif\n",
      "resizing: 22553 images to: 256 with OpenCV border: 0\n",
      "saving 0th image to: data_04/train/rotated/clipped/constant/256/7a371b04.tif\n",
      "saving 1000th image to: data_04/train/rotated/clipped/constant/256/7a2dbbae.tif\n",
      "saving 2000th image to: data_04/train/rotated/clipped/constant/256/7a379368.tif\n",
      "saving 3000th image to: data_04/train/rotated/clipped/constant/256/7a3ef3ce.tif\n",
      "saving 4000th image to: data_04/train/rotated/clipped/constant/256/7a1d12cc.tif\n",
      "saving 5000th image to: data_04/train/rotated/clipped/constant/256/7a392a66.tif\n",
      "saving 6000th image to: data_04/train/rotated/clipped/constant/256/7a409152.tif\n",
      "saving 7000th image to: data_04/train/rotated/clipped/constant/256/7a3bf3ae.tif\n",
      "saving 8000th image to: data_04/train/rotated/clipped/constant/256/7a1d1b00.tif\n",
      "saving 9000th image to: data_04/train/rotated/clipped/constant/256/7a216976.tif\n",
      "saving 10000th image to: data_04/train/rotated/clipped/constant/256/7a20225a.tif\n",
      "saving 11000th image to: data_04/train/rotated/clipped/constant/256/7a387314.tif\n",
      "saving 12000th image to: data_04/train/rotated/clipped/constant/256/7a301d90.tif\n",
      "saving 13000th image to: data_04/train/rotated/clipped/constant/256/7a2d5a6a.tif\n",
      "saving 14000th image to: data_04/train/rotated/clipped/constant/256/7a426e50.tif\n",
      "saving 15000th image to: data_04/train/rotated/clipped/constant/256/7a2be504.tif\n",
      "saving 16000th image to: data_04/train/rotated/clipped/constant/256/7a328daa.tif\n",
      "saving 17000th image to: data_04/train/rotated/clipped/constant/256/7a2a3b96.tif\n",
      "saving 18000th image to: data_04/train/rotated/clipped/constant/256/7a443546.tif\n",
      "saving 19000th image to: data_04/train/rotated/clipped/constant/256/7a3cccca.tif\n",
      "saving 20000th image to: data_04/train/rotated/clipped/constant/256/7a1cec0c.tif\n"
     ]
    },
    {
     "name": "stdout",
     "output_type": "stream",
     "text": [
      "saving 21000th image to: data_04/train/rotated/clipped/constant/256/7a24614e.tif\n",
      "saving 22000th image to: data_04/train/rotated/clipped/constant/256/7a42215c.tif\n",
      "resizing: 7325 images to: 256 with OpenCV border: 0\n",
      "resizing: 7325 images to: 256 with OpenCV border: 0\n",
      "saving 0th image to: data_04/test/rotated/clipped/constant/256/7a452078.tif\n",
      "saving 1000th image to: data_04/test/rotated/clipped/constant/256/7a4ba6e6.tif\n",
      "saving 2000th image to: data_04/test/rotated/clipped/constant/256/7a4fafe8.tif\n",
      "saving 3000th image to: data_04/test/rotated/clipped/constant/256/7a51613a.tif\n",
      "saving 4000th image to: data_04/test/rotated/clipped/constant/256/7a4ed9e2.tif\n",
      "saving 5000th image to: data_04/test/rotated/clipped/constant/256/7a45c6a4.tif\n",
      "saving 6000th image to: data_04/test/rotated/clipped/constant/256/7a490a30.tif\n",
      "saving 7000th image to: data_04/test/rotated/clipped/constant/256/7a47f71c.tif\n",
      "--cv_resize_to guatemala mixco_3\n",
      "resizing: 22553 images to: 256 with OpenCV border: 0\n",
      "saving 3000th image to: data_04/train/rotated/clipped/constant/256/7a3ef3ce.tif\n",
      "saving 7000th image to: data_04/train/rotated/clipped/constant/256/7a3bf3ae.tif\n",
      "saving 15000th image to: data_04/train/rotated/clipped/constant/256/7a2be504.tif\n",
      "resizing: 22553 images to: 256 with OpenCV border: 0\n",
      "saving 0th image to: data_04/train/rotated/clipped/constant/256/7a371b04.tif\n",
      "saving 1000th image to: data_04/train/rotated/clipped/constant/256/7a2dbbae.tif\n",
      "saving 2000th image to: data_04/train/rotated/clipped/constant/256/7a379368.tif\n",
      "saving 3000th image to: data_04/train/rotated/clipped/constant/256/7a3ef3ce.tif\n",
      "saving 4000th image to: data_04/train/rotated/clipped/constant/256/7a1d12cc.tif\n",
      "saving 5000th image to: data_04/train/rotated/clipped/constant/256/7a392a66.tif\n",
      "saving 6000th image to: data_04/train/rotated/clipped/constant/256/7a409152.tif\n",
      "saving 7000th image to: data_04/train/rotated/clipped/constant/256/7a3bf3ae.tif\n",
      "saving 8000th image to: data_04/train/rotated/clipped/constant/256/7a1d1b00.tif\n",
      "saving 9000th image to: data_04/train/rotated/clipped/constant/256/7a216976.tif\n",
      "saving 10000th image to: data_04/train/rotated/clipped/constant/256/7a20225a.tif\n",
      "saving 11000th image to: data_04/train/rotated/clipped/constant/256/7a387314.tif\n",
      "saving 12000th image to: data_04/train/rotated/clipped/constant/256/7a301d90.tif\n",
      "saving 13000th image to: data_04/train/rotated/clipped/constant/256/7a2d5a6a.tif\n",
      "saving 14000th image to: data_04/train/rotated/clipped/constant/256/7a426e50.tif\n",
      "saving 15000th image to: data_04/train/rotated/clipped/constant/256/7a2be504.tif\n",
      "saving 16000th image to: data_04/train/rotated/clipped/constant/256/7a328daa.tif\n",
      "saving 17000th image to: data_04/train/rotated/clipped/constant/256/7a2a3b96.tif\n",
      "saving 18000th image to: data_04/train/rotated/clipped/constant/256/7a443546.tif\n",
      "saving 19000th image to: data_04/train/rotated/clipped/constant/256/7a3cccca.tif\n",
      "saving 20000th image to: data_04/train/rotated/clipped/constant/256/7a1cec0c.tif\n",
      "saving 21000th image to: data_04/train/rotated/clipped/constant/256/7a24614e.tif\n",
      "saving 22000th image to: data_04/train/rotated/clipped/constant/256/7a42215c.tif\n",
      "resizing: 7325 images to: 256 with OpenCV border: 0\n",
      "resizing: 7325 images to: 256 with OpenCV border: 0\n",
      "saving 0th image to: data_04/test/rotated/clipped/constant/256/7a452078.tif\n",
      "saving 1000th image to: data_04/test/rotated/clipped/constant/256/7a4ba6e6.tif\n",
      "saving 2000th image to: data_04/test/rotated/clipped/constant/256/7a4fafe8.tif\n",
      "saving 3000th image to: data_04/test/rotated/clipped/constant/256/7a51613a.tif\n",
      "saving 4000th image to: data_04/test/rotated/clipped/constant/256/7a4ed9e2.tif\n",
      "saving 5000th image to: data_04/test/rotated/clipped/constant/256/7a45c6a4.tif\n",
      "saving 6000th image to: data_04/test/rotated/clipped/constant/256/7a490a30.tif\n",
      "saving 7000th image to: data_04/test/rotated/clipped/constant/256/7a47f71c.tif\n",
      "--cv_resize_to st_lucia castries\n",
      "resizing: 22553 images to: 256 with OpenCV border: 0\n",
      "saving 3000th image to: data_04/train/rotated/clipped/constant/256/7a3ef3ce.tif\n",
      "saving 7000th image to: data_04/train/rotated/clipped/constant/256/7a3bf3ae.tif\n",
      "saving 15000th image to: data_04/train/rotated/clipped/constant/256/7a2be504.tif\n",
      "resizing: 22553 images to: 256 with OpenCV border: 0\n",
      "saving 0th image to: data_04/train/rotated/clipped/constant/256/7a371b04.tif\n",
      "saving 1000th image to: data_04/train/rotated/clipped/constant/256/7a2dbbae.tif\n",
      "saving 2000th image to: data_04/train/rotated/clipped/constant/256/7a379368.tif\n",
      "saving 3000th image to: data_04/train/rotated/clipped/constant/256/7a3ef3ce.tif\n",
      "saving 4000th image to: data_04/train/rotated/clipped/constant/256/7a1d12cc.tif\n",
      "saving 5000th image to: data_04/train/rotated/clipped/constant/256/7a392a66.tif\n",
      "saving 6000th image to: data_04/train/rotated/clipped/constant/256/7a409152.tif\n",
      "saving 7000th image to: data_04/train/rotated/clipped/constant/256/7a3bf3ae.tif\n",
      "saving 8000th image to: data_04/train/rotated/clipped/constant/256/7a1d1b00.tif\n",
      "saving 9000th image to: data_04/train/rotated/clipped/constant/256/7a216976.tif\n",
      "saving 10000th image to: data_04/train/rotated/clipped/constant/256/7a20225a.tif\n",
      "saving 11000th image to: data_04/train/rotated/clipped/constant/256/7a387314.tif\n",
      "saving 12000th image to: data_04/train/rotated/clipped/constant/256/7a301d90.tif\n",
      "saving 13000th image to: data_04/train/rotated/clipped/constant/256/7a2d5a6a.tif\n",
      "saving 14000th image to: data_04/train/rotated/clipped/constant/256/7a426e50.tif\n",
      "saving 15000th image to: data_04/train/rotated/clipped/constant/256/7a2be504.tif\n",
      "saving 16000th image to: data_04/train/rotated/clipped/constant/256/7a328daa.tif\n",
      "saving 17000th image to: data_04/train/rotated/clipped/constant/256/7a2a3b96.tif\n",
      "saving 18000th image to: data_04/train/rotated/clipped/constant/256/7a443546.tif\n",
      "saving 19000th image to: data_04/train/rotated/clipped/constant/256/7a3cccca.tif\n",
      "saving 20000th image to: data_04/train/rotated/clipped/constant/256/7a1cec0c.tif\n",
      "saving 21000th image to: data_04/train/rotated/clipped/constant/256/7a24614e.tif\n",
      "saving 22000th image to: data_04/train/rotated/clipped/constant/256/7a42215c.tif\n",
      "--cv_resize_to st_lucia dennery\n",
      "resizing: 22553 images to: 256 with OpenCV border: 0\n",
      "saving 3000th image to: data_04/train/rotated/clipped/constant/256/7a3ef3ce.tif\n",
      "saving 7000th image to: data_04/train/rotated/clipped/constant/256/7a3bf3ae.tif\n",
      "saving 15000th image to: data_04/train/rotated/clipped/constant/256/7a2be504.tif\n",
      "resizing: 22553 images to: 256 with OpenCV border: 0\n",
      "saving 0th image to: data_04/train/rotated/clipped/constant/256/7a371b04.tif\n",
      "saving 1000th image to: data_04/train/rotated/clipped/constant/256/7a2dbbae.tif\n",
      "saving 2000th image to: data_04/train/rotated/clipped/constant/256/7a379368.tif\n",
      "saving 3000th image to: data_04/train/rotated/clipped/constant/256/7a3ef3ce.tif\n",
      "saving 4000th image to: data_04/train/rotated/clipped/constant/256/7a1d12cc.tif\n",
      "saving 5000th image to: data_04/train/rotated/clipped/constant/256/7a392a66.tif\n",
      "saving 6000th image to: data_04/train/rotated/clipped/constant/256/7a409152.tif\n",
      "saving 7000th image to: data_04/train/rotated/clipped/constant/256/7a3bf3ae.tif\n",
      "saving 8000th image to: data_04/train/rotated/clipped/constant/256/7a1d1b00.tif\n",
      "saving 9000th image to: data_04/train/rotated/clipped/constant/256/7a216976.tif\n",
      "saving 10000th image to: data_04/train/rotated/clipped/constant/256/7a20225a.tif\n",
      "saving 11000th image to: data_04/train/rotated/clipped/constant/256/7a387314.tif\n",
      "saving 12000th image to: data_04/train/rotated/clipped/constant/256/7a301d90.tif\n",
      "saving 13000th image to: data_04/train/rotated/clipped/constant/256/7a2d5a6a.tif\n",
      "saving 14000th image to: data_04/train/rotated/clipped/constant/256/7a426e50.tif\n",
      "saving 15000th image to: data_04/train/rotated/clipped/constant/256/7a2be504.tif\n",
      "saving 16000th image to: data_04/train/rotated/clipped/constant/256/7a328daa.tif\n",
      "saving 17000th image to: data_04/train/rotated/clipped/constant/256/7a2a3b96.tif\n",
      "saving 18000th image to: data_04/train/rotated/clipped/constant/256/7a443546.tif\n",
      "saving 19000th image to: data_04/train/rotated/clipped/constant/256/7a3cccca.tif\n",
      "saving 20000th image to: data_04/train/rotated/clipped/constant/256/7a1cec0c.tif\n",
      "saving 21000th image to: data_04/train/rotated/clipped/constant/256/7a24614e.tif\n"
     ]
    },
    {
     "name": "stdout",
     "output_type": "stream",
     "text": [
      "saving 22000th image to: data_04/train/rotated/clipped/constant/256/7a42215c.tif\n",
      "resizing: 7325 images to: 256 with OpenCV border: 0\n",
      "resizing: 7325 images to: 256 with OpenCV border: 0\n",
      "saving 0th image to: data_04/test/rotated/clipped/constant/256/7a452078.tif\n",
      "saving 1000th image to: data_04/test/rotated/clipped/constant/256/7a4ba6e6.tif\n",
      "saving 2000th image to: data_04/test/rotated/clipped/constant/256/7a4fafe8.tif\n",
      "saving 3000th image to: data_04/test/rotated/clipped/constant/256/7a51613a.tif\n",
      "saving 4000th image to: data_04/test/rotated/clipped/constant/256/7a4ed9e2.tif\n",
      "saving 5000th image to: data_04/test/rotated/clipped/constant/256/7a45c6a4.tif\n",
      "saving 6000th image to: data_04/test/rotated/clipped/constant/256/7a490a30.tif\n",
      "saving 7000th image to: data_04/test/rotated/clipped/constant/256/7a47f71c.tif\n",
      "--cv_resize_to st_lucia gros_islet\n",
      "resizing: 22553 images to: 256 with OpenCV border: 0\n",
      "saving 3000th image to: data_04/train/rotated/clipped/constant/256/7a3ef3ce.tif\n",
      "saving 7000th image to: data_04/train/rotated/clipped/constant/256/7a3bf3ae.tif\n",
      "saving 15000th image to: data_04/train/rotated/clipped/constant/256/7a2be504.tif\n",
      "resizing: 22553 images to: 256 with OpenCV border: 0\n",
      "saving 0th image to: data_04/train/rotated/clipped/constant/256/7a371b04.tif\n",
      "saving 1000th image to: data_04/train/rotated/clipped/constant/256/7a2dbbae.tif\n",
      "saving 2000th image to: data_04/train/rotated/clipped/constant/256/7a379368.tif\n",
      "saving 3000th image to: data_04/train/rotated/clipped/constant/256/7a3ef3ce.tif\n",
      "saving 4000th image to: data_04/train/rotated/clipped/constant/256/7a1d12cc.tif\n",
      "saving 5000th image to: data_04/train/rotated/clipped/constant/256/7a392a66.tif\n",
      "saving 6000th image to: data_04/train/rotated/clipped/constant/256/7a409152.tif\n",
      "saving 7000th image to: data_04/train/rotated/clipped/constant/256/7a3bf3ae.tif\n",
      "saving 8000th image to: data_04/train/rotated/clipped/constant/256/7a1d1b00.tif\n",
      "saving 9000th image to: data_04/train/rotated/clipped/constant/256/7a216976.tif\n",
      "saving 10000th image to: data_04/train/rotated/clipped/constant/256/7a20225a.tif\n",
      "saving 11000th image to: data_04/train/rotated/clipped/constant/256/7a387314.tif\n",
      "saving 12000th image to: data_04/train/rotated/clipped/constant/256/7a301d90.tif\n",
      "saving 13000th image to: data_04/train/rotated/clipped/constant/256/7a2d5a6a.tif\n",
      "saving 14000th image to: data_04/train/rotated/clipped/constant/256/7a426e50.tif\n",
      "saving 15000th image to: data_04/train/rotated/clipped/constant/256/7a2be504.tif\n",
      "saving 16000th image to: data_04/train/rotated/clipped/constant/256/7a328daa.tif\n",
      "saving 17000th image to: data_04/train/rotated/clipped/constant/256/7a2a3b96.tif\n",
      "saving 18000th image to: data_04/train/rotated/clipped/constant/256/7a443546.tif\n",
      "saving 19000th image to: data_04/train/rotated/clipped/constant/256/7a3cccca.tif\n",
      "saving 20000th image to: data_04/train/rotated/clipped/constant/256/7a1cec0c.tif\n",
      "saving 21000th image to: data_04/train/rotated/clipped/constant/256/7a24614e.tif\n",
      "saving 22000th image to: data_04/train/rotated/clipped/constant/256/7a42215c.tif\n"
     ]
    }
   ],
   "source": [
    "if CV_RESIZE_IMAGES:\n",
    "    #black for padding not covered by reflection\n",
    "    color = [0, 0, 0]\n",
    "    fl=[]\n",
    "    tl=[]\n",
    "    train_flat=[]\n",
    "    test_flat=[]\n",
    "    for c, r in zip(country_list, region_list):\n",
    "        p=data_dir/f'{c}_{r}/cropped'\n",
    "        pd = p/'train/rotated/clipped'\n",
    "        fn=[pd/f'{f}' for f in listdir(pd) if isfile(join(pd, f))]\n",
    "        assert (len(fn)>0)\n",
    "        fl.append(fn)\n",
    "        if r.strip() not in ['castries','gros_islet']:\n",
    "            print(f'{c} region {r} test gen')\n",
    "            pd = p/'test/rotated/clipped'\n",
    "            tn = [pd/f'{f}' for f in listdir(pd) if isfile(join(pd, f))]\n",
    "            assert (len(tn)>0)\n",
    "            tl.append(tn)\n",
    "    train_flat = [item for sublist in fl for item in sublist]\n",
    "    test_flat = [item for sublist in tl for item in sublist]\n",
    "    print(f'{len(train_flat)} train images; {len(test_flat)} test images')\n",
    "    cv_resize_zoom_to(fnames=train_flat, test_fnames=test_flat, color=color, size=img_size, flips=FLIPS)"
   ]
  }
 ],
 "metadata": {
  "kernelspec": {
   "display_name": "Python 3",
   "language": "python",
   "name": "python3"
  },
  "language_info": {
   "codemirror_mode": {
    "name": "ipython",
    "version": 3
   },
   "file_extension": ".py",
   "mimetype": "text/x-python",
   "name": "python",
   "nbconvert_exporter": "python",
   "pygments_lexer": "ipython3",
   "version": "3.7.4"
  }
 },
 "nbformat": 4,
 "nbformat_minor": 2
}
