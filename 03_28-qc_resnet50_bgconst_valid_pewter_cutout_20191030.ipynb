{
 "cells": [
  {
   "cell_type": "markdown",
   "metadata": {},
   "source": [
    "## Train and Prediction on all data\n",
    "\n",
    "Using rotated to hz + OpenCv border\n",
    "\n",
    "Basic default transforms"
   ]
  },
  {
   "cell_type": "code",
   "execution_count": 1,
   "metadata": {},
   "outputs": [],
   "source": [
    "%reload_ext autoreload\n",
    "%autoreload 2\n",
    "%matplotlib inline"
   ]
  },
  {
   "cell_type": "code",
   "execution_count": 2,
   "metadata": {},
   "outputs": [
    {
     "data": {
      "text/html": [
       "<style>.container { width:100% !important; }</style>"
      ],
      "text/plain": [
       "<IPython.core.display.HTML object>"
      ]
     },
     "metadata": {},
     "output_type": "display_data"
    },
    {
     "data": {
      "text/html": [
       "<style>.container { width:100% !important; }</style>"
      ],
      "text/plain": [
       "<IPython.core.display.HTML object>"
      ]
     },
     "metadata": {},
     "output_type": "display_data"
    },
    {
     "data": {
      "text/html": [
       "<style>.container { width:100% !important; }</style>"
      ],
      "text/plain": [
       "<IPython.core.display.HTML object>"
      ]
     },
     "metadata": {},
     "output_type": "display_data"
    }
   ],
   "source": [
    "from fastai.vision import *\n",
    "import geopandas as gpd\n",
    "from resizeimage import resizeimage\n",
    "import datetime\n",
    "import uuid\n",
    "from os import listdir\n",
    "from os.path import isfile, join\n",
    "from fastai_extensions import *"
   ]
  },
  {
   "cell_type": "code",
   "execution_count": 3,
   "metadata": {},
   "outputs": [],
   "source": [
    "pd.set_option('display.max_columns', None)  \n",
    "pd.set_option('display.expand_frame_repr', False)\n",
    "pd.set_option('max_colwidth', -1)"
   ]
  },
  {
   "cell_type": "code",
   "execution_count": 4,
   "metadata": {},
   "outputs": [
    {
     "data": {
      "text/plain": [
       "1"
      ]
     },
     "execution_count": 4,
     "metadata": {},
     "output_type": "execute_result"
    }
   ],
   "source": [
    "torch.cuda.set_device(1)\n",
    "torch.cuda.current_device()"
   ]
  },
  {
   "cell_type": "code",
   "execution_count": 5,
   "metadata": {},
   "outputs": [],
   "source": [
    "data_dir = Path('data')\n",
    "data_04 = Path('data_04')"
   ]
  },
  {
   "cell_type": "code",
   "execution_count": 6,
   "metadata": {},
   "outputs": [],
   "source": [
    "MODEL_NAME='bg_const'\n",
    "tfm_name='cutout'"
   ]
  },
  {
   "cell_type": "code",
   "execution_count": 7,
   "metadata": {},
   "outputs": [],
   "source": [
    "NB_NUM='03_28'"
   ]
  },
  {
   "cell_type": "code",
   "execution_count": 8,
   "metadata": {},
   "outputs": [
    {
     "name": "stdout",
     "output_type": "stream",
     "text": [
      "UID: 4f366385, DATE: 20191201\n"
     ]
    }
   ],
   "source": [
    "DATE = datetime.datetime.today().strftime('%Y%m%d')\n",
    "UID=str(uuid.uuid4())[:8]\n",
    "print(f'UID: {UID}, DATE: {DATE}')                                                 "
   ]
  },
  {
   "cell_type": "code",
   "execution_count": 9,
   "metadata": {},
   "outputs": [],
   "source": [
    "DATE = '20191201'\n",
    "UID = '0c79e3be'"
   ]
  },
  {
   "cell_type": "code",
   "execution_count": 10,
   "metadata": {},
   "outputs": [],
   "source": [
    "SUB_NUM='30'"
   ]
  },
  {
   "cell_type": "code",
   "execution_count": 11,
   "metadata": {},
   "outputs": [],
   "source": [
    "img_size=256\n",
    "bs=128\n",
    "background='constant'"
   ]
  },
  {
   "cell_type": "code",
   "execution_count": 12,
   "metadata": {},
   "outputs": [],
   "source": [
    "train_images=data_04/f'train/rotated/clipped/constant/{img_size}'\n",
    "test_images=data_04/f'test/rotated/clipped/constant/{img_size}'"
   ]
  },
  {
   "cell_type": "code",
   "execution_count": 13,
   "metadata": {},
   "outputs": [],
   "source": [
    "train_names = get_image_files(train_images)"
   ]
  },
  {
   "cell_type": "code",
   "execution_count": 14,
   "metadata": {},
   "outputs": [],
   "source": [
    "test_names = get_image_files(test_images)"
   ]
  },
  {
   "cell_type": "code",
   "execution_count": 15,
   "metadata": {},
   "outputs": [],
   "source": [
    "def roof_aug_split():\n",
    "    df_gold = pd.read_csv(data_dir / 'df_all_repl_st_lucia_castries_gold_concrete_cement.csv')\n",
    "    df_gold.drop(columns=['target'], inplace=True)\n",
    "    df_gold = df_gold[['id', 'roof_material', 'verified', 'country', 'region']]\n",
    "\n",
    "    df_pewter_70pct = pd.read_csv(data_dir / 'st_lucia_castries_gros_islet_70pct_rn50-rn152-dn121_preds.csv')\n",
    "    df_pewter_70pct.tail()\n",
    "    frames = [df_gold, df_pewter_70pct]\n",
    "    df_gold_pewter = pd.concat(frames)\n",
    "\n",
    "    #### test data\n",
    "    df_test = pd.read_csv(data_dir / 'df_test_all.csv')\n",
    "    gp_ids = df_gold_pewter.id.values.tolist()\n",
    "\n",
    "    trn_file_names = []\n",
    "    for f in train_names:\n",
    "        trn_file_names.append(f.name.split('.tif')[0])\n",
    "\n",
    "    bg_const_names = []\n",
    "    for f in trn_file_names:\n",
    "        if '_256_bgconstant' in f:\n",
    "            bg_const_names.append(f.split('_256_bgconstant')[0])\n",
    "\n",
    "    raw_names = []\n",
    "    for f in trn_file_names:\n",
    "        if '_raw' in f:\n",
    "            raw_names.append(f.split('_raw')[0])\n",
    "\n",
    "    zoom_names = []\n",
    "    for f in trn_file_names:\n",
    "        if '_zoom' in f:\n",
    "            zoom_names.append(f.split('_zoom')[0])\n",
    "\n",
    "    reflect_names = []\n",
    "    for f in trn_file_names:\n",
    "        if '_256_reflect' in f:\n",
    "            reflect_names.append(f.split('_256_reflect')[0])\n",
    "\n",
    "    wrap_names = []\n",
    "    for f in trn_file_names:\n",
    "        if '_256_wrap' in f:\n",
    "            wrap_names.append(f.split('_256_wrap')[0])\n",
    "\n",
    "    df_gold_pewter_bg_const = df_gold_pewter.loc[df_gold_pewter['id'].isin(bg_const_names)]\n",
    "    df_gold_pewter_bg_const['id'] = df_gold_pewter_bg_const['id'] + '_256_bgconstant'\n",
    "    df_gold_pewter_bg_const = df_gold_pewter_bg_const.drop_duplicates(subset=['id'])\n",
    "\n",
    "    # Ensure is only ids with _256_bgconstant\n",
    "\n",
    "    #### raw\n",
    "    df_gold_pewter_raw = df_gold_pewter.loc[df_gold_pewter['id'].isin(raw_names)]\n",
    "    df_gold_pewter_raw['id'] = df_gold_pewter_raw['id'] + '_raw'\n",
    "    df_gold_pewter_raw = df_gold_pewter_raw.drop_duplicates(subset=['id'])\n",
    "\n",
    "    #### zoom\n",
    "    df_gold_pewter_zoom = df_gold_pewter.loc[df_gold_pewter['id'].isin(zoom_names)]\n",
    "    df_gold_pewter_zoom['id'] = df_gold_pewter_zoom['id'] + '_zoom'\n",
    "    df_gold_pewter_zoom = df_gold_pewter_zoom.drop_duplicates(subset=['id'])\n",
    "\n",
    "    #### wrap\n",
    "    df_gold_pewter_wrap = df_gold_pewter.loc[df_gold_pewter['id'].isin(wrap_names)]\n",
    "    df_gold_pewter_wrap['id'] = df_gold_pewter_wrap['id'] + '_256_wrap'\n",
    "    len(df_gold_pewter_wrap)\n",
    "    df_gold_pewter_wrap = df_gold_pewter_wrap.drop_duplicates(subset=['id'])\n",
    "\n",
    "    df_gold_pewter_reflect = df_gold_pewter.loc[df_gold_pewter['id'].isin(reflect_names)]\n",
    "    df_gold_pewter_reflect['id'] = df_gold_pewter_reflect['id'] + '_256_reflect'\n",
    "    df_gold_pewter_reflect = df_gold_pewter_reflect.drop_duplicates(subset=['id'])\n",
    "    return df_gold_pewter_bg_const, df_gold_pewter_reflect, df_gold_pewter_wrap, df_gold_pewter_zoom, df_gold_pewter_raw"
   ]
  },
  {
   "cell_type": "code",
   "execution_count": 16,
   "metadata": {},
   "outputs": [],
   "source": [
    "def get_train_val_test(roof_combinations):\n",
    "    df_gold_pewter = pd.concat(roof_combinations)\n",
    "\n",
    "    # ### split df manally\n",
    "    df_val = df_gold_pewter.sample(frac=0.07)\n",
    "    df_val_ids = df_val.id.values.tolist()\n",
    "\n",
    "    core_ds = []\n",
    "    for id in df_val_ids:\n",
    "        core_ds.append(id.split('_')[0])\n",
    "\n",
    "    core_ds = list(set(core_ds))\n",
    "    df_val = df_gold_pewter[df_gold_pewter['id'].str.contains('|'.join(core_ds))]\n",
    "    df_train = df_gold_pewter[~df_gold_pewter['id'].str.contains('|'.join(core_ds))]\n",
    "    df_val['is_valid'] = True\n",
    "    df_train['is_valid'] = False\n",
    "    frames = [df_val, df_train]\n",
    "    df_train = pd.concat(frames)\n",
    "    return df_train, df_val"
   ]
  },
  {
   "cell_type": "code",
   "execution_count": 17,
   "metadata": {},
   "outputs": [],
   "source": [
    "def setup_dataset(df_train):\n",
    "    cutout_1 = cutout(n_holes=(1, 4), length=(10, 20), p=.5)\n",
    "    cutout_2 = cutout(n_holes=(1, 4), length=(10, 20), p=.5)\n",
    "    cutout_3 = cutout(n_holes=(1, 4), length=(20, 20), p=.6)\n",
    "    cutout_4 = cutout(n_holes=(1, 4), length=(20, 20), p=.6)\n",
    "    xtra_tfms = [cutout_1, cutout_2, cutout_3, cutout_4, rand_crop(p=0.4), rand_zoom(scale=(1., 1.5), p=0.4)]\n",
    "    tfms = get_transforms(flip_vert=True, max_lighting=0.25, max_warp=0., xtra_tfms=xtra_tfms)\n",
    "\n",
    "    # ### setup dataset\n",
    "    np.random.seed(42)\n",
    "    dep_var = 'roof_material'\n",
    "    src = (ImageList.from_df(path=train_images, df=df_train, cols='id', suffix='.tif')\n",
    "           # .split_by_rand_pct(0.1)\n",
    "           .split_from_df(col='is_valid')\n",
    "           .label_from_df(cols=dep_var)\n",
    "           .add_test_folder(test_images))\n",
    "\n",
    "    data = (src.transform(tfms, size=img_size)\n",
    "            .databunch(bs=bs).normalize(imagenet_stats))\n",
    "    return data"
   ]
  },
  {
   "cell_type": "code",
   "execution_count": 18,
   "metadata": {
    "scrolled": true
   },
   "outputs": [
    {
     "name": "stderr",
     "output_type": "stream",
     "text": [
      "/home/walle/miniconda3/envs/fastai-dev/lib/python3.7/site-packages/ipykernel_launcher.py:57: SettingWithCopyWarning: \n",
      "A value is trying to be set on a copy of a slice from a DataFrame.\n",
      "Try using .loc[row_indexer,col_indexer] = value instead\n",
      "\n",
      "See the caveats in the documentation: http://pandas.pydata.org/pandas-docs/stable/user_guide/indexing.html#returning-a-view-versus-a-copy\n",
      "/home/walle/miniconda3/envs/fastai-dev/lib/python3.7/site-packages/ipykernel_launcher.py:15: SettingWithCopyWarning: \n",
      "A value is trying to be set on a copy of a slice from a DataFrame.\n",
      "Try using .loc[row_indexer,col_indexer] = value instead\n",
      "\n",
      "See the caveats in the documentation: http://pandas.pydata.org/pandas-docs/stable/user_guide/indexing.html#returning-a-view-versus-a-copy\n",
      "  from ipykernel import kernelapp as app\n",
      "/home/walle/miniconda3/envs/fastai-dev/lib/python3.7/site-packages/ipykernel_launcher.py:16: SettingWithCopyWarning: \n",
      "A value is trying to be set on a copy of a slice from a DataFrame.\n",
      "Try using .loc[row_indexer,col_indexer] = value instead\n",
      "\n",
      "See the caveats in the documentation: http://pandas.pydata.org/pandas-docs/stable/user_guide/indexing.html#returning-a-view-versus-a-copy\n",
      "  app.launch_new_instance()\n"
     ]
    },
    {
     "name": "stdout",
     "output_type": "stream",
     "text": [
      "69849\n"
     ]
    }
   ],
   "source": [
    "df_gold_pewter_bg_const, df_gold_pewter_reflect, df_gold_pewter_wrap, df_gold_pewter_zoom, df_gold_pewter_raw = roof_aug_split()\n",
    "roof_combinations = [df_gold_pewter_bg_const, df_gold_pewter_reflect, df_gold_pewter_wrap, df_gold_pewter_zoom]\n",
    "df_train, df_val=get_train_val_test(roof_combinations)\n",
    "data=setup_dataset(df_train)"
   ]
  },
  {
   "cell_type": "code",
   "execution_count": 19,
   "metadata": {},
   "outputs": [],
   "source": [
    "def index_valid(idxl, learn):\n",
    "    '''return loss name by order of top loss'''\n",
    "    lossidx_img={}\n",
    "    for c, i in enumerate(idxl):\n",
    "        f=learn.data.valid_ds.items[i]\n",
    "        lossidx_img[c]=f\n",
    "    return lossidx_img\n",
    "\n",
    "def get_img_id(all_images):\n",
    "    ids=[]\n",
    "    for img_name in all_images:\n",
    "        end=img_name.split('/')[-1]\n",
    "        ids.append(end.split('.tif')[0])\n",
    "    return ids"
   ]
  },
  {
   "cell_type": "code",
   "execution_count": 20,
   "metadata": {},
   "outputs": [],
   "source": [
    "def confusion_dump(learn, interp, arch_name, combo_name, run_num):\n",
    "    all_losses=interp.top_losses(len(interp.losses), largest=True)\n",
    "    all_idx=all_losses[1].tolist()\n",
    "    all_loss=all_losses[0].tolist()\n",
    "    all_images=index_valid(all_idx, learn)\n",
    "    all_images=list(all_images.values())\n",
    "\n",
    "    ids=get_img_id(all_images)\n",
    "    assert len(ids)==len(all_loss)\n",
    "\n",
    "    # list of strings\n",
    "    columns=['id','loss']\n",
    "    df = pd.DataFrame(list(zip(ids, all_loss)),\n",
    "                   columns =columns)\n",
    "    mname=f'{arch_name}-{NB_NUM}-{MODEL_NAME}-{tfm_name}-{DATE}-{UID}-{combo_name}-{run_num}'\n",
    "    print(f'saving {mname}.csv')\n",
    "    df['model']=mname\n",
    "    df.to_csv(data_dir/f'processing/model_confusion_qc/{mname}.csv')"
   ]
  },
  {
   "cell_type": "code",
   "execution_count": 21,
   "metadata": {},
   "outputs": [],
   "source": [
    "def confusion_loss(learn, preds, pred_classes, tl_val, tl_idx, losses, arch_name, combo_name, run_num):\n",
    "    print('>>confusion_loss()')\n",
    "\n",
    "    all_images=index_valid(tl_idx, learn)\n",
    "    all_images=list(all_images.values())\n",
    "    ids=get_img_id(all_images)\n",
    "    assert len(ids)==len(losses)\n",
    "\n",
    "    columns=['id','pred','loss']\n",
    "    df = pd.DataFrame(list(zip(ids,pred_classes,losses)), columns =columns)\n",
    "    mname=f'{arch_name}-{NB_NUM}-{MODEL_NAME}-{tfm_name}-{DATE}-{UID}-{combo_name}-{run_num}'\n",
    "    print(f'saving {mname}.csv')\n",
    "    df['model']=mname\n",
    "    df.to_csv(data_dir/f'processing/model_confusion_qc/{mname}.csv')"
   ]
  },
  {
   "cell_type": "code",
   "execution_count": 22,
   "metadata": {},
   "outputs": [],
   "source": [
    "def get_top_losses(interp, k=20, largest=True):\n",
    "    tl_val,tl_idx = interp.top_losses(k, largest)\n",
    "    classes = interp.data.classes\n",
    "    preds=[]\n",
    "    pred_classes=[]\n",
    "    losses=[]\n",
    "    for i,idx in enumerate(tl_idx):\n",
    "        im,cl = interp.data.dl(interp.ds_type).dataset[idx]\n",
    "        cl = int(cl)\n",
    "        loss=f'{interp.losses[idx]:.2f}'\n",
    "        pred=f'{interp.preds[idx][cl]:.2f}'\n",
    "        pred_class=str(classes[interp.pred_class[idx]])\n",
    "        preds.append(pred)\n",
    "        pred_classes.append(pred_class)\n",
    "        losses.append(loss)\n",
    "    return preds, pred_classes, tl_val, tl_idx, losses"
   ]
  },
  {
   "cell_type": "code",
   "execution_count": 23,
   "metadata": {},
   "outputs": [],
   "source": [
    "\n",
    "#combo_name='const_ref_wrap_zoom'\n",
    "combo_name='raw_zoom'\n",
    "tfm_name='cutout'"
   ]
  },
  {
   "cell_type": "code",
   "execution_count": 24,
   "metadata": {},
   "outputs": [],
   "source": [
    "arch = models.resnet50\n",
    "arch_name='rn50'\n",
    "learn = cnn_learner(data, arch, metrics=error_rate, bn_final=True).to_fp16()"
   ]
  },
  {
   "cell_type": "code",
   "execution_count": 25,
   "metadata": {},
   "outputs": [
    {
     "name": "stdout",
     "output_type": "stream",
     "text": [
      ">>confusion_loss()\n",
      "saving rn50-03_28-bg_const-cutout-20191201-0c79e3be-raw_zoom-4.csv\n"
     ]
    }
   ],
   "source": [
    "for run in range(5):\n",
    "    mname=f'stage-2-{arch_name}-{NB_NUM}-{MODEL_NAME}-{DATE}-{UID}-{combo_name}-{run}'\n",
    "    learn.load(f'{mname}')\n",
    "    interp = ClassificationInterpretation.from_learner(learn)\n",
    "    preds, pred_classes, tl_val, tl_idx, losses=get_top_losses(interp, k=len(interp.losses))\n",
    "    confusion_loss(learn, preds, pred_classes, tl_val, tl_idx, losses, arch_name, combo_name, run)"
   ]
  },
  {
   "cell_type": "markdown",
   "metadata": {},
   "source": [
    "### load preds to review confusion"
   ]
  },
  {
   "cell_type": "code",
   "execution_count": 81,
   "metadata": {},
   "outputs": [
    {
     "data": {
      "image/png": "[encoded data removed]",
      "text/plain": [
       "<Figure size 432x288 with 1 Axes>"
      ]
     },
     "metadata": {
      "needs_background": "light"
     },
     "output_type": "display_data"
    },
    {
     "data": {
      "image/png": "[encoded data removed]",
      "text/plain": [
       "<Figure size 432x288 with 1 Axes>"
      ]
     },
     "metadata": {
      "needs_background": "light"
     },
     "output_type": "display_data"
    },
    {
     "data": {
      "image/png": "[encoded data removed]",
      "text/plain": [
       "<Figure size 432x288 with 1 Axes>"
      ]
     },
     "metadata": {
      "needs_background": "light"
     },
     "output_type": "display_data"
    },
    {
     "data": {
      "image/png": "[encoded data removed]",
      "text/plain": [
       "<Figure size 432x288 with 1 Axes>"
      ]
     },
     "metadata": {
      "needs_background": "light"
     },
     "output_type": "display_data"
    },
    {
     "data": {
      "image/png": "[encoded data removed]",
      "text/plain": [
       "<Figure size 432x288 with 1 Axes>"
      ]
     },
     "metadata": {
      "needs_background": "light"
     },
     "output_type": "display_data"
    }
   ],
   "source": [
    "dfs=[]\n",
    "for run in range(5):\n",
    "    mname=f'{arch_name}-{NB_NUM}-{MODEL_NAME}-{tfm_name}-{DATE}-{UID}-{combo_name}-{run}'\n",
    "    df=pd.read_csv(data_dir/f'processing/model_confusion_qc/{mname}.csv')\n",
    "    df.drop(columns=['Unnamed: 0'],inplace=True)\n",
    "    df.plot(title=f'{tfm_name}-{combo_name}-{run} {len(df)}')\n",
    "    dfs.append(df)"
   ]
  },
  {
   "cell_type": "code",
   "execution_count": 82,
   "metadata": {},
   "outputs": [],
   "source": [
    "df_loss = pd.concat(dfs)"
   ]
  },
  {
   "cell_type": "code",
   "execution_count": 83,
   "metadata": {},
   "outputs": [
    {
     "data": {
      "text/plain": [
       "70790"
      ]
     },
     "execution_count": 83,
     "metadata": {},
     "output_type": "execute_result"
    }
   ],
   "source": [
    "len(df_loss)"
   ]
  },
  {
   "cell_type": "code",
   "execution_count": 84,
   "metadata": {},
   "outputs": [
    {
     "data": {
      "text/plain": [
       "<matplotlib.axes._subplots.AxesSubplot at 0x7fe66cf4ff50>"
      ]
     },
     "execution_count": 84,
     "metadata": {},
     "output_type": "execute_result"
    },
    {
     "data": {
      "image/png": "[encoded data removed]",
      "text/plain": [
       "<Figure size 432x288 with 1 Axes>"
      ]
     },
     "metadata": {
      "needs_background": "light"
     },
     "output_type": "display_data"
    }
   ],
   "source": [
    "df_loss.plot.hist(alpha=0.5, bins=100)"
   ]
  },
  {
   "cell_type": "markdown",
   "metadata": {},
   "source": [
    "#### group duplicated ids and force to one pred"
   ]
  },
  {
   "cell_type": "code",
   "execution_count": 85,
   "metadata": {},
   "outputs": [],
   "source": [
    "dup_df=df_loss[df_loss.duplicated(['id'])]"
   ]
  },
  {
   "cell_type": "code",
   "execution_count": 86,
   "metadata": {},
   "outputs": [],
   "source": [
    "non_dup_df=df_loss[~df_loss.duplicated(['id'])]"
   ]
  },
  {
   "cell_type": "code",
   "execution_count": 87,
   "metadata": {},
   "outputs": [
    {
     "data": {
      "text/plain": [
       "14158"
      ]
     },
     "execution_count": 87,
     "metadata": {},
     "output_type": "execute_result"
    }
   ],
   "source": [
    "len(non_dup_df)"
   ]
  },
  {
   "cell_type": "code",
   "execution_count": 88,
   "metadata": {},
   "outputs": [
    {
     "data": {
      "text/html": [
       "<div>\n",
       "<style scoped>\n",
       "    .dataframe tbody tr th:only-of-type {\n",
       "        vertical-align: middle;\n",
       "    }\n",
       "\n",
       "    .dataframe tbody tr th {\n",
       "        vertical-align: top;\n",
       "    }\n",
       "\n",
       "    .dataframe thead th {\n",
       "        text-align: right;\n",
       "    }\n",
       "</style>\n",
       "<table border=\"1\" class=\"dataframe\">\n",
       "  <thead>\n",
       "    <tr style=\"text-align: right;\">\n",
       "      <th></th>\n",
       "      <th>id</th>\n",
       "      <th>pred</th>\n",
       "      <th>loss</th>\n",
       "      <th>model</th>\n",
       "    </tr>\n",
       "  </thead>\n",
       "  <tbody>\n",
       "    <tr>\n",
       "      <td>10783</td>\n",
       "      <td>7a1c5026_256_bgconstant</td>\n",
       "      <td>healthy_metal</td>\n",
       "      <td>0.02</td>\n",
       "      <td>rn50-03_28-bg_const-cutout-20191201-0c79e3be-raw_zoom-2</td>\n",
       "    </tr>\n",
       "    <tr>\n",
       "      <td>10029</td>\n",
       "      <td>7a1c5026_256_bgconstant</td>\n",
       "      <td>healthy_metal</td>\n",
       "      <td>0.02</td>\n",
       "      <td>rn50-03_28-bg_const-cutout-20191201-0c79e3be-raw_zoom-3</td>\n",
       "    </tr>\n",
       "    <tr>\n",
       "      <td>11136</td>\n",
       "      <td>7a1c5026_256_bgconstant</td>\n",
       "      <td>healthy_metal</td>\n",
       "      <td>0.02</td>\n",
       "      <td>rn50-03_28-bg_const-cutout-20191201-0c79e3be-raw_zoom-4</td>\n",
       "    </tr>\n",
       "    <tr>\n",
       "      <td>9024</td>\n",
       "      <td>7a1c5026_256_bgconstant</td>\n",
       "      <td>healthy_metal</td>\n",
       "      <td>0.03</td>\n",
       "      <td>rn50-03_28-bg_const-cutout-20191201-0c79e3be-raw_zoom-1</td>\n",
       "    </tr>\n",
       "    <tr>\n",
       "      <td>11827</td>\n",
       "      <td>7a1c5026_256_reflect</td>\n",
       "      <td>healthy_metal</td>\n",
       "      <td>0.01</td>\n",
       "      <td>rn50-03_28-bg_const-cutout-20191201-0c79e3be-raw_zoom-4</td>\n",
       "    </tr>\n",
       "    <tr>\n",
       "      <td>...</td>\n",
       "      <td>...</td>\n",
       "      <td>...</td>\n",
       "      <td>...</td>\n",
       "      <td>...</td>\n",
       "    </tr>\n",
       "    <tr>\n",
       "      <td>9843</td>\n",
       "      <td>7a44d190_256_reflect</td>\n",
       "      <td>healthy_metal</td>\n",
       "      <td>0.02</td>\n",
       "      <td>rn50-03_28-bg_const-cutout-20191201-0c79e3be-raw_zoom-3</td>\n",
       "    </tr>\n",
       "    <tr>\n",
       "      <td>12487</td>\n",
       "      <td>7a44d190_256_wrap</td>\n",
       "      <td>healthy_metal</td>\n",
       "      <td>0.01</td>\n",
       "      <td>rn50-03_28-bg_const-cutout-20191201-0c79e3be-raw_zoom-1</td>\n",
       "    </tr>\n",
       "    <tr>\n",
       "      <td>13591</td>\n",
       "      <td>7a44d190_256_wrap</td>\n",
       "      <td>healthy_metal</td>\n",
       "      <td>0.01</td>\n",
       "      <td>rn50-03_28-bg_const-cutout-20191201-0c79e3be-raw_zoom-2</td>\n",
       "    </tr>\n",
       "    <tr>\n",
       "      <td>11530</td>\n",
       "      <td>7a44d190_256_wrap</td>\n",
       "      <td>healthy_metal</td>\n",
       "      <td>0.01</td>\n",
       "      <td>rn50-03_28-bg_const-cutout-20191201-0c79e3be-raw_zoom-4</td>\n",
       "    </tr>\n",
       "    <tr>\n",
       "      <td>11153</td>\n",
       "      <td>7a44d190_256_wrap</td>\n",
       "      <td>healthy_metal</td>\n",
       "      <td>0.02</td>\n",
       "      <td>rn50-03_28-bg_const-cutout-20191201-0c79e3be-raw_zoom-3</td>\n",
       "    </tr>\n",
       "  </tbody>\n",
       "</table>\n",
       "<p>56632 rows × 4 columns</p>\n",
       "</div>"
      ],
      "text/plain": [
       "                            id           pred  loss                                                    model\n",
       "10783  7a1c5026_256_bgconstant  healthy_metal  0.02  rn50-03_28-bg_const-cutout-20191201-0c79e3be-raw_zoom-2\n",
       "10029  7a1c5026_256_bgconstant  healthy_metal  0.02  rn50-03_28-bg_const-cutout-20191201-0c79e3be-raw_zoom-3\n",
       "11136  7a1c5026_256_bgconstant  healthy_metal  0.02  rn50-03_28-bg_const-cutout-20191201-0c79e3be-raw_zoom-4\n",
       "9024   7a1c5026_256_bgconstant  healthy_metal  0.03  rn50-03_28-bg_const-cutout-20191201-0c79e3be-raw_zoom-1\n",
       "11827  7a1c5026_256_reflect     healthy_metal  0.01  rn50-03_28-bg_const-cutout-20191201-0c79e3be-raw_zoom-4\n",
       "...                     ...               ...   ...                                                      ...\n",
       "9843   7a44d190_256_reflect     healthy_metal  0.02  rn50-03_28-bg_const-cutout-20191201-0c79e3be-raw_zoom-3\n",
       "12487  7a44d190_256_wrap        healthy_metal  0.01  rn50-03_28-bg_const-cutout-20191201-0c79e3be-raw_zoom-1\n",
       "13591  7a44d190_256_wrap        healthy_metal  0.01  rn50-03_28-bg_const-cutout-20191201-0c79e3be-raw_zoom-2\n",
       "11530  7a44d190_256_wrap        healthy_metal  0.01  rn50-03_28-bg_const-cutout-20191201-0c79e3be-raw_zoom-4\n",
       "11153  7a44d190_256_wrap        healthy_metal  0.02  rn50-03_28-bg_const-cutout-20191201-0c79e3be-raw_zoom-3\n",
       "\n",
       "[56632 rows x 4 columns]"
      ]
     },
     "execution_count": 88,
     "metadata": {},
     "output_type": "execute_result"
    }
   ],
   "source": [
    "dup_df.sort_values(by=['id', 'loss'])"
   ]
  },
  {
   "cell_type": "code",
   "execution_count": 89,
   "metadata": {},
   "outputs": [],
   "source": [
    "dup_df[['model_name','run']] = dup_df.model.str.rsplit(pat=\"-\", n=1,expand = True)"
   ]
  },
  {
   "cell_type": "code",
   "execution_count": 90,
   "metadata": {},
   "outputs": [],
   "source": [
    "dup_df.drop(columns=['model'],inplace=True)"
   ]
  },
  {
   "cell_type": "code",
   "execution_count": 91,
   "metadata": {},
   "outputs": [],
   "source": [
    "dup_df=dup_df.sort_values(by=['id', 'model_name', 'loss'])"
   ]
  },
  {
   "cell_type": "code",
   "execution_count": 92,
   "metadata": {},
   "outputs": [],
   "source": [
    "mean_df=dup_df.groupby(['id', 'model_name']).mean()"
   ]
  },
  {
   "cell_type": "code",
   "execution_count": 93,
   "metadata": {},
   "outputs": [],
   "source": [
    "temp_df=dup_df.drop(columns=['run'],inplace=False)"
   ]
  },
  {
   "cell_type": "code",
   "execution_count": 94,
   "metadata": {},
   "outputs": [
    {
     "data": {
      "text/html": [
       "<div>\n",
       "<style scoped>\n",
       "    .dataframe tbody tr th:only-of-type {\n",
       "        vertical-align: middle;\n",
       "    }\n",
       "\n",
       "    .dataframe tbody tr th {\n",
       "        vertical-align: top;\n",
       "    }\n",
       "\n",
       "    .dataframe thead th {\n",
       "        text-align: right;\n",
       "    }\n",
       "</style>\n",
       "<table border=\"1\" class=\"dataframe\">\n",
       "  <thead>\n",
       "    <tr style=\"text-align: right;\">\n",
       "      <th></th>\n",
       "      <th>id</th>\n",
       "      <th>pred</th>\n",
       "      <th>loss</th>\n",
       "      <th>model_name</th>\n",
       "    </tr>\n",
       "  </thead>\n",
       "  <tbody>\n",
       "    <tr>\n",
       "      <td>10783</td>\n",
       "      <td>7a1c5026_256_bgconstant</td>\n",
       "      <td>healthy_metal</td>\n",
       "      <td>0.02</td>\n",
       "      <td>rn50-03_28-bg_const-cutout-20191201-0c79e3be-raw_zoom</td>\n",
       "    </tr>\n",
       "    <tr>\n",
       "      <td>10029</td>\n",
       "      <td>7a1c5026_256_bgconstant</td>\n",
       "      <td>healthy_metal</td>\n",
       "      <td>0.02</td>\n",
       "      <td>rn50-03_28-bg_const-cutout-20191201-0c79e3be-raw_zoom</td>\n",
       "    </tr>\n",
       "    <tr>\n",
       "      <td>11136</td>\n",
       "      <td>7a1c5026_256_bgconstant</td>\n",
       "      <td>healthy_metal</td>\n",
       "      <td>0.02</td>\n",
       "      <td>rn50-03_28-bg_const-cutout-20191201-0c79e3be-raw_zoom</td>\n",
       "    </tr>\n",
       "    <tr>\n",
       "      <td>9024</td>\n",
       "      <td>7a1c5026_256_bgconstant</td>\n",
       "      <td>healthy_metal</td>\n",
       "      <td>0.03</td>\n",
       "      <td>rn50-03_28-bg_const-cutout-20191201-0c79e3be-raw_zoom</td>\n",
       "    </tr>\n",
       "    <tr>\n",
       "      <td>11827</td>\n",
       "      <td>7a1c5026_256_reflect</td>\n",
       "      <td>healthy_metal</td>\n",
       "      <td>0.01</td>\n",
       "      <td>rn50-03_28-bg_const-cutout-20191201-0c79e3be-raw_zoom</td>\n",
       "    </tr>\n",
       "  </tbody>\n",
       "</table>\n",
       "</div>"
      ],
      "text/plain": [
       "                            id           pred  loss                                             model_name\n",
       "10783  7a1c5026_256_bgconstant  healthy_metal  0.02  rn50-03_28-bg_const-cutout-20191201-0c79e3be-raw_zoom\n",
       "10029  7a1c5026_256_bgconstant  healthy_metal  0.02  rn50-03_28-bg_const-cutout-20191201-0c79e3be-raw_zoom\n",
       "11136  7a1c5026_256_bgconstant  healthy_metal  0.02  rn50-03_28-bg_const-cutout-20191201-0c79e3be-raw_zoom\n",
       "9024   7a1c5026_256_bgconstant  healthy_metal  0.03  rn50-03_28-bg_const-cutout-20191201-0c79e3be-raw_zoom\n",
       "11827  7a1c5026_256_reflect     healthy_metal  0.01  rn50-03_28-bg_const-cutout-20191201-0c79e3be-raw_zoom"
      ]
     },
     "execution_count": 94,
     "metadata": {},
     "output_type": "execute_result"
    }
   ],
   "source": [
    "temp_df.head()"
   ]
  },
  {
   "cell_type": "code",
   "execution_count": 95,
   "metadata": {},
   "outputs": [],
   "source": [
    "df = temp_df[['id','model_name','pred','loss']] "
   ]
  },
  {
   "cell_type": "markdown",
   "metadata": {},
   "source": [
    "#### get mode of preds"
   ]
  },
  {
   "cell_type": "code",
   "execution_count": 96,
   "metadata": {},
   "outputs": [],
   "source": [
    "def get_mode_per_column(dataframe, group_cols, col):\n",
    "    return (dataframe.fillna(-1)  # NaN placeholder to keep group \n",
    "            .groupby(group_cols + [col])\n",
    "            .size()\n",
    "            .to_frame('count')\n",
    "            .reset_index()\n",
    "            .sort_values('count', ascending=False)\n",
    "            .drop_duplicates(subset=group_cols)\n",
    "            .drop(columns=['count'])\n",
    "            .sort_values(group_cols)\n",
    "            .replace(-1, np.NaN))  # restore NaNs\n",
    "\n"
   ]
  },
  {
   "cell_type": "code",
   "execution_count": 97,
   "metadata": {},
   "outputs": [],
   "source": [
    "group_cols = ['id', 'model_name']\n",
    "non_grp_cols = list(set(df).difference(group_cols))\n",
    "output_df = get_mode_per_column(df, group_cols, non_grp_cols[0]).set_index(group_cols)\n",
    "for col in non_grp_cols[1:]:\n",
    "    output_df[col] = get_mode_per_column(df, group_cols, col)[col].values\n",
    "    \n",
    "\n",
    "#temp_df.groupby(['id', 'model_name']).agg(lambda x:x.value_counts().index[0])"
   ]
  },
  {
   "cell_type": "code",
   "execution_count": 98,
   "metadata": {},
   "outputs": [
    {
     "data": {
      "text/html": [
       "<div>\n",
       "<style scoped>\n",
       "    .dataframe tbody tr th:only-of-type {\n",
       "        vertical-align: middle;\n",
       "    }\n",
       "\n",
       "    .dataframe tbody tr th {\n",
       "        vertical-align: top;\n",
       "    }\n",
       "\n",
       "    .dataframe thead th {\n",
       "        text-align: right;\n",
       "    }\n",
       "</style>\n",
       "<table border=\"1\" class=\"dataframe\">\n",
       "  <thead>\n",
       "    <tr style=\"text-align: right;\">\n",
       "      <th></th>\n",
       "      <th></th>\n",
       "      <th>loss</th>\n",
       "      <th>pred</th>\n",
       "    </tr>\n",
       "    <tr>\n",
       "      <th>id</th>\n",
       "      <th>model_name</th>\n",
       "      <th></th>\n",
       "      <th></th>\n",
       "    </tr>\n",
       "  </thead>\n",
       "  <tbody>\n",
       "    <tr>\n",
       "      <td>7a1c5026_256_bgconstant</td>\n",
       "      <td>rn50-03_28-bg_const-cutout-20191201-0c79e3be-raw_zoom</td>\n",
       "      <td>0.02</td>\n",
       "      <td>healthy_metal</td>\n",
       "    </tr>\n",
       "    <tr>\n",
       "      <td>7a1c5026_256_reflect</td>\n",
       "      <td>rn50-03_28-bg_const-cutout-20191201-0c79e3be-raw_zoom</td>\n",
       "      <td>0.02</td>\n",
       "      <td>healthy_metal</td>\n",
       "    </tr>\n",
       "    <tr>\n",
       "      <td>7a1c5026_256_wrap</td>\n",
       "      <td>rn50-03_28-bg_const-cutout-20191201-0c79e3be-raw_zoom</td>\n",
       "      <td>0.02</td>\n",
       "      <td>healthy_metal</td>\n",
       "    </tr>\n",
       "    <tr>\n",
       "      <td>7a1c5a6c_256_bgconstant</td>\n",
       "      <td>rn50-03_28-bg_const-cutout-20191201-0c79e3be-raw_zoom</td>\n",
       "      <td>0.03</td>\n",
       "      <td>healthy_metal</td>\n",
       "    </tr>\n",
       "    <tr>\n",
       "      <td>7a1c5a6c_256_reflect</td>\n",
       "      <td>rn50-03_28-bg_const-cutout-20191201-0c79e3be-raw_zoom</td>\n",
       "      <td>0.03</td>\n",
       "      <td>healthy_metal</td>\n",
       "    </tr>\n",
       "  </tbody>\n",
       "</table>\n",
       "</div>"
      ],
      "text/plain": [
       "                                                                               loss           pred\n",
       "id                      model_name                                                                \n",
       "7a1c5026_256_bgconstant rn50-03_28-bg_const-cutout-20191201-0c79e3be-raw_zoom  0.02  healthy_metal\n",
       "7a1c5026_256_reflect    rn50-03_28-bg_const-cutout-20191201-0c79e3be-raw_zoom  0.02  healthy_metal\n",
       "7a1c5026_256_wrap       rn50-03_28-bg_const-cutout-20191201-0c79e3be-raw_zoom  0.02  healthy_metal\n",
       "7a1c5a6c_256_bgconstant rn50-03_28-bg_const-cutout-20191201-0c79e3be-raw_zoom  0.03  healthy_metal\n",
       "7a1c5a6c_256_reflect    rn50-03_28-bg_const-cutout-20191201-0c79e3be-raw_zoom  0.03  healthy_metal"
      ]
     },
     "execution_count": 98,
     "metadata": {},
     "output_type": "execute_result"
    }
   ],
   "source": [
    "output_df.head()"
   ]
  },
  {
   "cell_type": "code",
   "execution_count": 99,
   "metadata": {},
   "outputs": [
    {
     "data": {
      "text/plain": [
       "array(['healthy_metal', 'irregular_metal', 'concrete_cement', 'incomplete', 'other'], dtype=object)"
      ]
     },
     "execution_count": 99,
     "metadata": {},
     "output_type": "execute_result"
    }
   ],
   "source": [
    "output_df.pred.unique()"
   ]
  },
  {
   "cell_type": "code",
   "execution_count": 102,
   "metadata": {},
   "outputs": [
    {
     "data": {
      "text/plain": [
       "['id', 'model_name', 'loss', 'pred']"
      ]
     },
     "execution_count": 102,
     "metadata": {},
     "output_type": "execute_result"
    }
   ],
   "source": [
    "list(output_df)"
   ]
  },
  {
   "cell_type": "code",
   "execution_count": 100,
   "metadata": {},
   "outputs": [],
   "source": [
    "output_df=output_df.reset_index()"
   ]
  },
  {
   "cell_type": "code",
   "execution_count": 112,
   "metadata": {},
   "outputs": [],
   "source": [
    "output_df.rename(columns={'model_name': 'model'}, inplace=True)"
   ]
  },
  {
   "cell_type": "code",
   "execution_count": 113,
   "metadata": {},
   "outputs": [],
   "source": [
    "output_df=output_df[['id', 'pred', 'loss', 'model']]"
   ]
  },
  {
   "cell_type": "code",
   "execution_count": 114,
   "metadata": {},
   "outputs": [
    {
     "data": {
      "text/html": [
       "<div>\n",
       "<style scoped>\n",
       "    .dataframe tbody tr th:only-of-type {\n",
       "        vertical-align: middle;\n",
       "    }\n",
       "\n",
       "    .dataframe tbody tr th {\n",
       "        vertical-align: top;\n",
       "    }\n",
       "\n",
       "    .dataframe thead th {\n",
       "        text-align: right;\n",
       "    }\n",
       "</style>\n",
       "<table border=\"1\" class=\"dataframe\">\n",
       "  <thead>\n",
       "    <tr style=\"text-align: right;\">\n",
       "      <th></th>\n",
       "      <th>id</th>\n",
       "      <th>pred</th>\n",
       "      <th>loss</th>\n",
       "      <th>model</th>\n",
       "    </tr>\n",
       "  </thead>\n",
       "  <tbody>\n",
       "    <tr>\n",
       "      <td>0</td>\n",
       "      <td>7a2924c2_256_reflect</td>\n",
       "      <td>irregular_metal</td>\n",
       "      <td>7.96</td>\n",
       "      <td>rn50-03_28-bg_const-cutout-20191201-0c79e3be-raw_zoom-0</td>\n",
       "    </tr>\n",
       "    <tr>\n",
       "      <td>1</td>\n",
       "      <td>7a2924c2_256_wrap</td>\n",
       "      <td>irregular_metal</td>\n",
       "      <td>7.57</td>\n",
       "      <td>rn50-03_28-bg_const-cutout-20191201-0c79e3be-raw_zoom-0</td>\n",
       "    </tr>\n",
       "    <tr>\n",
       "      <td>2</td>\n",
       "      <td>7a2924c2_256_bgconstant</td>\n",
       "      <td>irregular_metal</td>\n",
       "      <td>7.55</td>\n",
       "      <td>rn50-03_28-bg_const-cutout-20191201-0c79e3be-raw_zoom-0</td>\n",
       "    </tr>\n",
       "    <tr>\n",
       "      <td>3</td>\n",
       "      <td>7a1d8428_256_reflect</td>\n",
       "      <td>healthy_metal</td>\n",
       "      <td>6.77</td>\n",
       "      <td>rn50-03_28-bg_const-cutout-20191201-0c79e3be-raw_zoom-0</td>\n",
       "    </tr>\n",
       "    <tr>\n",
       "      <td>4</td>\n",
       "      <td>7a35def6_256_wrap</td>\n",
       "      <td>healthy_metal</td>\n",
       "      <td>6.76</td>\n",
       "      <td>rn50-03_28-bg_const-cutout-20191201-0c79e3be-raw_zoom-0</td>\n",
       "    </tr>\n",
       "  </tbody>\n",
       "</table>\n",
       "</div>"
      ],
      "text/plain": [
       "                        id             pred  loss                                                    model\n",
       "0  7a2924c2_256_reflect     irregular_metal  7.96  rn50-03_28-bg_const-cutout-20191201-0c79e3be-raw_zoom-0\n",
       "1  7a2924c2_256_wrap        irregular_metal  7.57  rn50-03_28-bg_const-cutout-20191201-0c79e3be-raw_zoom-0\n",
       "2  7a2924c2_256_bgconstant  irregular_metal  7.55  rn50-03_28-bg_const-cutout-20191201-0c79e3be-raw_zoom-0\n",
       "3  7a1d8428_256_reflect     healthy_metal    6.77  rn50-03_28-bg_const-cutout-20191201-0c79e3be-raw_zoom-0\n",
       "4  7a35def6_256_wrap        healthy_metal    6.76  rn50-03_28-bg_const-cutout-20191201-0c79e3be-raw_zoom-0"
      ]
     },
     "execution_count": 114,
     "metadata": {},
     "output_type": "execute_result"
    }
   ],
   "source": [
    "non_dup_df.head()"
   ]
  },
  {
   "cell_type": "code",
   "execution_count": 115,
   "metadata": {},
   "outputs": [],
   "source": [
    "mean_df= pd.concat([output_df, non_dup_df])"
   ]
  },
  {
   "cell_type": "markdown",
   "metadata": {},
   "source": [
    "<pre>\n",
    "df_gold_pewter_bg_const, df_gold_pewter_reflect, df_gold_pewter_wrap, df_gold_pewter_zoom, df_gold_pewter_raw\n",
    "</pre>"
   ]
  },
  {
   "cell_type": "code",
   "execution_count": 116,
   "metadata": {},
   "outputs": [],
   "source": [
    "ids=mean_df.id.unique()"
   ]
  },
  {
   "cell_type": "code",
   "execution_count": 117,
   "metadata": {},
   "outputs": [],
   "source": [
    "unids=[]\n",
    "for id in ids:\n",
    "    b=len(id.split('_')[0])\n",
    "    unids.append(id[b+1:])"
   ]
  },
  {
   "cell_type": "code",
   "execution_count": 118,
   "metadata": {},
   "outputs": [],
   "source": [
    "tfm_types=list(set(unids))"
   ]
  },
  {
   "cell_type": "code",
   "execution_count": 119,
   "metadata": {},
   "outputs": [
    {
     "data": {
      "text/plain": [
       "['256_reflect', 'zoom', '256_wrap', '256_bgconstant']"
      ]
     },
     "execution_count": 119,
     "metadata": {},
     "output_type": "execute_result"
    }
   ],
   "source": [
    "tfm_types"
   ]
  },
  {
   "cell_type": "code",
   "execution_count": 120,
   "metadata": {},
   "outputs": [],
   "source": [
    "zoom_preds=mean_df[mean_df['id'].str.contains(\"zoom\")]\n",
    "bgconstant_preds=mean_df[mean_df['id'].str.contains(\"bgconstant\")]\n",
    "reflect_preds=mean_df[mean_df['id'].str.contains(\"reflect\")]\n",
    "wrap_preds=mean_df[mean_df['id'].str.contains(\"wrap\")]"
   ]
  },
  {
   "cell_type": "code",
   "execution_count": 121,
   "metadata": {},
   "outputs": [
    {
     "data": {
      "text/html": [
       "<div>\n",
       "<style scoped>\n",
       "    .dataframe tbody tr th:only-of-type {\n",
       "        vertical-align: middle;\n",
       "    }\n",
       "\n",
       "    .dataframe tbody tr th {\n",
       "        vertical-align: top;\n",
       "    }\n",
       "\n",
       "    .dataframe thead th {\n",
       "        text-align: right;\n",
       "    }\n",
       "</style>\n",
       "<table border=\"1\" class=\"dataframe\">\n",
       "  <thead>\n",
       "    <tr style=\"text-align: right;\">\n",
       "      <th></th>\n",
       "      <th>id</th>\n",
       "      <th>pred</th>\n",
       "      <th>loss</th>\n",
       "      <th>model</th>\n",
       "    </tr>\n",
       "  </thead>\n",
       "  <tbody>\n",
       "    <tr>\n",
       "      <td>60</td>\n",
       "      <td>7a1cb2be_zoom</td>\n",
       "      <td>healthy_metal</td>\n",
       "      <td>0.10</td>\n",
       "      <td>rn50-03_28-bg_const-cutout-20191201-0c79e3be-raw_zoom</td>\n",
       "    </tr>\n",
       "    <tr>\n",
       "      <td>85</td>\n",
       "      <td>7a1ccef2_zoom</td>\n",
       "      <td>healthy_metal</td>\n",
       "      <td>1.48</td>\n",
       "      <td>rn50-03_28-bg_const-cutout-20191201-0c79e3be-raw_zoom</td>\n",
       "    </tr>\n",
       "    <tr>\n",
       "      <td>95</td>\n",
       "      <td>7a1cd780_zoom</td>\n",
       "      <td>healthy_metal</td>\n",
       "      <td>0.02</td>\n",
       "      <td>rn50-03_28-bg_const-cutout-20191201-0c79e3be-raw_zoom</td>\n",
       "    </tr>\n",
       "    <tr>\n",
       "      <td>147</td>\n",
       "      <td>7a1cf2e2_zoom</td>\n",
       "      <td>irregular_metal</td>\n",
       "      <td>0.02</td>\n",
       "      <td>rn50-03_28-bg_const-cutout-20191201-0c79e3be-raw_zoom</td>\n",
       "    </tr>\n",
       "    <tr>\n",
       "      <td>184</td>\n",
       "      <td>7a1d0cbe_zoom</td>\n",
       "      <td>concrete_cement</td>\n",
       "      <td>0.01</td>\n",
       "      <td>rn50-03_28-bg_const-cutout-20191201-0c79e3be-raw_zoom</td>\n",
       "    </tr>\n",
       "  </tbody>\n",
       "</table>\n",
       "</div>"
      ],
      "text/plain": [
       "                id             pred  loss                                                  model\n",
       "60   7a1cb2be_zoom  healthy_metal    0.10  rn50-03_28-bg_const-cutout-20191201-0c79e3be-raw_zoom\n",
       "85   7a1ccef2_zoom  healthy_metal    1.48  rn50-03_28-bg_const-cutout-20191201-0c79e3be-raw_zoom\n",
       "95   7a1cd780_zoom  healthy_metal    0.02  rn50-03_28-bg_const-cutout-20191201-0c79e3be-raw_zoom\n",
       "147  7a1cf2e2_zoom  irregular_metal  0.02  rn50-03_28-bg_const-cutout-20191201-0c79e3be-raw_zoom\n",
       "184  7a1d0cbe_zoom  concrete_cement  0.01  rn50-03_28-bg_const-cutout-20191201-0c79e3be-raw_zoom"
      ]
     },
     "execution_count": 121,
     "metadata": {},
     "output_type": "execute_result"
    }
   ],
   "source": [
    "zoom_preds.head()"
   ]
  },
  {
   "cell_type": "code",
   "execution_count": 122,
   "metadata": {},
   "outputs": [
    {
     "data": {
      "text/html": [
       "<div>\n",
       "<style scoped>\n",
       "    .dataframe tbody tr th:only-of-type {\n",
       "        vertical-align: middle;\n",
       "    }\n",
       "\n",
       "    .dataframe tbody tr th {\n",
       "        vertical-align: top;\n",
       "    }\n",
       "\n",
       "    .dataframe thead th {\n",
       "        text-align: right;\n",
       "    }\n",
       "</style>\n",
       "<table border=\"1\" class=\"dataframe\">\n",
       "  <thead>\n",
       "    <tr style=\"text-align: right;\">\n",
       "      <th></th>\n",
       "      <th>id</th>\n",
       "      <th>roof_material</th>\n",
       "      <th>verified</th>\n",
       "      <th>country</th>\n",
       "      <th>region</th>\n",
       "    </tr>\n",
       "  </thead>\n",
       "  <tbody>\n",
       "    <tr>\n",
       "      <td>64</td>\n",
       "      <td>7a42454c_zoom</td>\n",
       "      <td>concrete_cement</td>\n",
       "      <td>True</td>\n",
       "      <td>colombia</td>\n",
       "      <td>borde_rural</td>\n",
       "    </tr>\n",
       "    <tr>\n",
       "      <td>72</td>\n",
       "      <td>7a407a64_zoom</td>\n",
       "      <td>irregular_metal</td>\n",
       "      <td>True</td>\n",
       "      <td>colombia</td>\n",
       "      <td>borde_rural</td>\n",
       "    </tr>\n",
       "    <tr>\n",
       "      <td>73</td>\n",
       "      <td>7a41a984_zoom</td>\n",
       "      <td>irregular_metal</td>\n",
       "      <td>True</td>\n",
       "      <td>colombia</td>\n",
       "      <td>borde_rural</td>\n",
       "    </tr>\n",
       "    <tr>\n",
       "      <td>94</td>\n",
       "      <td>7a320e20_zoom</td>\n",
       "      <td>irregular_metal</td>\n",
       "      <td>True</td>\n",
       "      <td>colombia</td>\n",
       "      <td>borde_rural</td>\n",
       "    </tr>\n",
       "    <tr>\n",
       "      <td>184</td>\n",
       "      <td>7a34bb84_zoom</td>\n",
       "      <td>irregular_metal</td>\n",
       "      <td>True</td>\n",
       "      <td>colombia</td>\n",
       "      <td>borde_rural</td>\n",
       "    </tr>\n",
       "  </tbody>\n",
       "</table>\n",
       "</div>"
      ],
      "text/plain": [
       "                id    roof_material  verified   country       region\n",
       "64   7a42454c_zoom  concrete_cement  True      colombia  borde_rural\n",
       "72   7a407a64_zoom  irregular_metal  True      colombia  borde_rural\n",
       "73   7a41a984_zoom  irregular_metal  True      colombia  borde_rural\n",
       "94   7a320e20_zoom  irregular_metal  True      colombia  borde_rural\n",
       "184  7a34bb84_zoom  irregular_metal  True      colombia  borde_rural"
      ]
     },
     "execution_count": 122,
     "metadata": {},
     "output_type": "execute_result"
    }
   ],
   "source": [
    "df_gold_pewter_zoom.head()"
   ]
  },
  {
   "cell_type": "code",
   "execution_count": 132,
   "metadata": {},
   "outputs": [],
   "source": [
    "dup_zoom_id=zoom_preds[zoom_preds.duplicated(['id'], keep=False)]"
   ]
  },
  {
   "cell_type": "code",
   "execution_count": 133,
   "metadata": {},
   "outputs": [
    {
     "data": {
      "text/plain": [
       "1034"
      ]
     },
     "execution_count": 133,
     "metadata": {},
     "output_type": "execute_result"
    }
   ],
   "source": [
    "len(dup_zoom_id)"
   ]
  },
  {
   "cell_type": "code",
   "execution_count": 134,
   "metadata": {},
   "outputs": [
    {
     "data": {
      "text/plain": [
       "517"
      ]
     },
     "execution_count": 134,
     "metadata": {},
     "output_type": "execute_result"
    }
   ],
   "source": [
    "len(dup_zoom_id.id.unique())"
   ]
  },
  {
   "cell_type": "code",
   "execution_count": 135,
   "metadata": {},
   "outputs": [
    {
     "data": {
      "text/html": [
       "<div>\n",
       "<style scoped>\n",
       "    .dataframe tbody tr th:only-of-type {\n",
       "        vertical-align: middle;\n",
       "    }\n",
       "\n",
       "    .dataframe tbody tr th {\n",
       "        vertical-align: top;\n",
       "    }\n",
       "\n",
       "    .dataframe thead th {\n",
       "        text-align: right;\n",
       "    }\n",
       "</style>\n",
       "<table border=\"1\" class=\"dataframe\">\n",
       "  <thead>\n",
       "    <tr style=\"text-align: right;\">\n",
       "      <th></th>\n",
       "      <th>id</th>\n",
       "      <th>pred</th>\n",
       "      <th>loss</th>\n",
       "      <th>model</th>\n",
       "    </tr>\n",
       "  </thead>\n",
       "  <tbody>\n",
       "    <tr>\n",
       "      <td>60</td>\n",
       "      <td>7a1cb2be_zoom</td>\n",
       "      <td>healthy_metal</td>\n",
       "      <td>0.10</td>\n",
       "      <td>rn50-03_28-bg_const-cutout-20191201-0c79e3be-raw_zoom</td>\n",
       "    </tr>\n",
       "    <tr>\n",
       "      <td>3027</td>\n",
       "      <td>7a1cb2be_zoom</td>\n",
       "      <td>healthy_metal</td>\n",
       "      <td>0.33</td>\n",
       "      <td>rn50-03_28-bg_const-cutout-20191201-0c79e3be-raw_zoom-0</td>\n",
       "    </tr>\n",
       "    <tr>\n",
       "      <td>298</td>\n",
       "      <td>7a1ccef2_zoom</td>\n",
       "      <td>healthy_metal</td>\n",
       "      <td>2.94</td>\n",
       "      <td>rn50-03_28-bg_const-cutout-20191201-0c79e3be-raw_zoom-0</td>\n",
       "    </tr>\n",
       "    <tr>\n",
       "      <td>85</td>\n",
       "      <td>7a1ccef2_zoom</td>\n",
       "      <td>healthy_metal</td>\n",
       "      <td>1.48</td>\n",
       "      <td>rn50-03_28-bg_const-cutout-20191201-0c79e3be-raw_zoom</td>\n",
       "    </tr>\n",
       "    <tr>\n",
       "      <td>10169</td>\n",
       "      <td>7a1cd780_zoom</td>\n",
       "      <td>healthy_metal</td>\n",
       "      <td>0.02</td>\n",
       "      <td>rn50-03_28-bg_const-cutout-20191201-0c79e3be-raw_zoom-0</td>\n",
       "    </tr>\n",
       "    <tr>\n",
       "      <td>...</td>\n",
       "      <td>...</td>\n",
       "      <td>...</td>\n",
       "      <td>...</td>\n",
       "      <td>...</td>\n",
       "    </tr>\n",
       "    <tr>\n",
       "      <td>14143</td>\n",
       "      <td>7a44c768_zoom</td>\n",
       "      <td>healthy_metal</td>\n",
       "      <td>0.19</td>\n",
       "      <td>rn50-03_28-bg_const-cutout-20191201-0c79e3be-raw_zoom</td>\n",
       "    </tr>\n",
       "    <tr>\n",
       "      <td>14147</td>\n",
       "      <td>7a44c93e_zoom</td>\n",
       "      <td>healthy_metal</td>\n",
       "      <td>0.02</td>\n",
       "      <td>rn50-03_28-bg_const-cutout-20191201-0c79e3be-raw_zoom</td>\n",
       "    </tr>\n",
       "    <tr>\n",
       "      <td>10859</td>\n",
       "      <td>7a44c93e_zoom</td>\n",
       "      <td>healthy_metal</td>\n",
       "      <td>0.02</td>\n",
       "      <td>rn50-03_28-bg_const-cutout-20191201-0c79e3be-raw_zoom-0</td>\n",
       "    </tr>\n",
       "    <tr>\n",
       "      <td>602</td>\n",
       "      <td>7a44c9b6_zoom</td>\n",
       "      <td>incomplete</td>\n",
       "      <td>2.02</td>\n",
       "      <td>rn50-03_28-bg_const-cutout-20191201-0c79e3be-raw_zoom-0</td>\n",
       "    </tr>\n",
       "    <tr>\n",
       "      <td>14151</td>\n",
       "      <td>7a44c9b6_zoom</td>\n",
       "      <td>incomplete</td>\n",
       "      <td>0.53</td>\n",
       "      <td>rn50-03_28-bg_const-cutout-20191201-0c79e3be-raw_zoom</td>\n",
       "    </tr>\n",
       "  </tbody>\n",
       "</table>\n",
       "<p>1034 rows × 4 columns</p>\n",
       "</div>"
      ],
      "text/plain": [
       "                  id           pred  loss                                                    model\n",
       "60     7a1cb2be_zoom  healthy_metal  0.10  rn50-03_28-bg_const-cutout-20191201-0c79e3be-raw_zoom  \n",
       "3027   7a1cb2be_zoom  healthy_metal  0.33  rn50-03_28-bg_const-cutout-20191201-0c79e3be-raw_zoom-0\n",
       "298    7a1ccef2_zoom  healthy_metal  2.94  rn50-03_28-bg_const-cutout-20191201-0c79e3be-raw_zoom-0\n",
       "85     7a1ccef2_zoom  healthy_metal  1.48  rn50-03_28-bg_const-cutout-20191201-0c79e3be-raw_zoom  \n",
       "10169  7a1cd780_zoom  healthy_metal  0.02  rn50-03_28-bg_const-cutout-20191201-0c79e3be-raw_zoom-0\n",
       "...              ...            ...   ...                                                      ...\n",
       "14143  7a44c768_zoom  healthy_metal  0.19  rn50-03_28-bg_const-cutout-20191201-0c79e3be-raw_zoom  \n",
       "14147  7a44c93e_zoom  healthy_metal  0.02  rn50-03_28-bg_const-cutout-20191201-0c79e3be-raw_zoom  \n",
       "10859  7a44c93e_zoom  healthy_metal  0.02  rn50-03_28-bg_const-cutout-20191201-0c79e3be-raw_zoom-0\n",
       "602    7a44c9b6_zoom  incomplete     2.02  rn50-03_28-bg_const-cutout-20191201-0c79e3be-raw_zoom-0\n",
       "14151  7a44c9b6_zoom  incomplete     0.53  rn50-03_28-bg_const-cutout-20191201-0c79e3be-raw_zoom  \n",
       "\n",
       "[1034 rows x 4 columns]"
      ]
     },
     "execution_count": 135,
     "metadata": {},
     "output_type": "execute_result"
    }
   ],
   "source": [
    "dup_zoom_id.sort_values(by=['id'])"
   ]
  },
  {
   "cell_type": "markdown",
   "metadata": {},
   "source": [
    "#### containd duplicte indices"
   ]
  },
  {
   "cell_type": "code",
   "execution_count": 136,
   "metadata": {},
   "outputs": [],
   "source": [
    "zoom_preds = zoom_preds.set_index([\"id\"])\n",
    "df_gold_pewter_zoom = df_gold_pewter_zoom.set_index([\"id\"])"
   ]
  },
  {
   "cell_type": "code",
   "execution_count": 146,
   "metadata": {},
   "outputs": [],
   "source": [
    "zoom_preds['id'] = zoom_preds.index\n",
    "df_gold_pewter_zoom['id'] = df_gold_pewter_zoom.index"
   ]
  },
  {
   "cell_type": "markdown",
   "metadata": {},
   "source": [
    "#### Add preds to larger dataframe"
   ]
  },
  {
   "cell_type": "code",
   "execution_count": 166,
   "metadata": {},
   "outputs": [],
   "source": [
    "df = df_gold_pewter_zoom.copy()"
   ]
  },
  {
   "cell_type": "code",
   "execution_count": 167,
   "metadata": {},
   "outputs": [],
   "source": [
    "df['pred']='none'\n",
    "df['model']='none'\n",
    "df['loss']=-999.25\n",
    "df['result']=False"
   ]
  },
  {
   "cell_type": "code",
   "execution_count": 168,
   "metadata": {},
   "outputs": [
    {
     "data": {
      "text/html": [
       "<div>\n",
       "<style scoped>\n",
       "    .dataframe tbody tr th:only-of-type {\n",
       "        vertical-align: middle;\n",
       "    }\n",
       "\n",
       "    .dataframe tbody tr th {\n",
       "        vertical-align: top;\n",
       "    }\n",
       "\n",
       "    .dataframe thead th {\n",
       "        text-align: right;\n",
       "    }\n",
       "</style>\n",
       "<table border=\"1\" class=\"dataframe\">\n",
       "  <thead>\n",
       "    <tr style=\"text-align: right;\">\n",
       "      <th></th>\n",
       "      <th>roof_material</th>\n",
       "      <th>verified</th>\n",
       "      <th>country</th>\n",
       "      <th>region</th>\n",
       "      <th>id</th>\n",
       "      <th>pred</th>\n",
       "      <th>model</th>\n",
       "      <th>loss</th>\n",
       "      <th>result</th>\n",
       "    </tr>\n",
       "    <tr>\n",
       "      <th>id</th>\n",
       "      <th></th>\n",
       "      <th></th>\n",
       "      <th></th>\n",
       "      <th></th>\n",
       "      <th></th>\n",
       "      <th></th>\n",
       "      <th></th>\n",
       "      <th></th>\n",
       "      <th></th>\n",
       "    </tr>\n",
       "  </thead>\n",
       "  <tbody>\n",
       "    <tr>\n",
       "      <td>7a42454c_zoom</td>\n",
       "      <td>concrete_cement</td>\n",
       "      <td>True</td>\n",
       "      <td>colombia</td>\n",
       "      <td>borde_rural</td>\n",
       "      <td>7a42454c_zoom</td>\n",
       "      <td>none</td>\n",
       "      <td>none</td>\n",
       "      <td>-999.25</td>\n",
       "      <td>False</td>\n",
       "    </tr>\n",
       "    <tr>\n",
       "      <td>7a407a64_zoom</td>\n",
       "      <td>irregular_metal</td>\n",
       "      <td>True</td>\n",
       "      <td>colombia</td>\n",
       "      <td>borde_rural</td>\n",
       "      <td>7a407a64_zoom</td>\n",
       "      <td>none</td>\n",
       "      <td>none</td>\n",
       "      <td>-999.25</td>\n",
       "      <td>False</td>\n",
       "    </tr>\n",
       "    <tr>\n",
       "      <td>7a41a984_zoom</td>\n",
       "      <td>irregular_metal</td>\n",
       "      <td>True</td>\n",
       "      <td>colombia</td>\n",
       "      <td>borde_rural</td>\n",
       "      <td>7a41a984_zoom</td>\n",
       "      <td>none</td>\n",
       "      <td>none</td>\n",
       "      <td>-999.25</td>\n",
       "      <td>False</td>\n",
       "    </tr>\n",
       "    <tr>\n",
       "      <td>7a320e20_zoom</td>\n",
       "      <td>irregular_metal</td>\n",
       "      <td>True</td>\n",
       "      <td>colombia</td>\n",
       "      <td>borde_rural</td>\n",
       "      <td>7a320e20_zoom</td>\n",
       "      <td>none</td>\n",
       "      <td>none</td>\n",
       "      <td>-999.25</td>\n",
       "      <td>False</td>\n",
       "    </tr>\n",
       "    <tr>\n",
       "      <td>7a34bb84_zoom</td>\n",
       "      <td>irregular_metal</td>\n",
       "      <td>True</td>\n",
       "      <td>colombia</td>\n",
       "      <td>borde_rural</td>\n",
       "      <td>7a34bb84_zoom</td>\n",
       "      <td>none</td>\n",
       "      <td>none</td>\n",
       "      <td>-999.25</td>\n",
       "      <td>False</td>\n",
       "    </tr>\n",
       "  </tbody>\n",
       "</table>\n",
       "</div>"
      ],
      "text/plain": [
       "                 roof_material  verified   country       region             id  pred model    loss  result\n",
       "id                                                                                                        \n",
       "7a42454c_zoom  concrete_cement  True      colombia  borde_rural  7a42454c_zoom  none  none -999.25  False \n",
       "7a407a64_zoom  irregular_metal  True      colombia  borde_rural  7a407a64_zoom  none  none -999.25  False \n",
       "7a41a984_zoom  irregular_metal  True      colombia  borde_rural  7a41a984_zoom  none  none -999.25  False \n",
       "7a320e20_zoom  irregular_metal  True      colombia  borde_rural  7a320e20_zoom  none  none -999.25  False \n",
       "7a34bb84_zoom  irregular_metal  True      colombia  borde_rural  7a34bb84_zoom  none  none -999.25  False "
      ]
     },
     "execution_count": 168,
     "metadata": {},
     "output_type": "execute_result"
    }
   ],
   "source": [
    "df.head()"
   ]
  },
  {
   "cell_type": "code",
   "execution_count": 169,
   "metadata": {},
   "outputs": [
    {
     "data": {
      "text/plain": [
       "array(['none'], dtype=object)"
      ]
     },
     "execution_count": 169,
     "metadata": {},
     "output_type": "execute_result"
    }
   ],
   "source": [
    "df.pred.unique()"
   ]
  },
  {
   "cell_type": "code",
   "execution_count": 170,
   "metadata": {},
   "outputs": [],
   "source": [
    "for row in zoom_preds.itertuples():\n",
    "    id=getattr(row, \"id\")\n",
    "    pred=getattr(row, \"pred\")\n",
    "    loss=getattr(row, \"loss\")\n",
    "    model=getattr(row, \"model\")\n",
    "    df.at[id, 'loss'] = loss\n",
    "    df.at[id, 'pred'] = str(pred)\n",
    "    df.at[id, 'model'] = str(model)"
   ]
  },
  {
   "cell_type": "code",
   "execution_count": 171,
   "metadata": {},
   "outputs": [
    {
     "data": {
      "text/html": [
       "<div>\n",
       "<style scoped>\n",
       "    .dataframe tbody tr th:only-of-type {\n",
       "        vertical-align: middle;\n",
       "    }\n",
       "\n",
       "    .dataframe tbody tr th {\n",
       "        vertical-align: top;\n",
       "    }\n",
       "\n",
       "    .dataframe thead th {\n",
       "        text-align: right;\n",
       "    }\n",
       "</style>\n",
       "<table border=\"1\" class=\"dataframe\">\n",
       "  <thead>\n",
       "    <tr style=\"text-align: right;\">\n",
       "      <th></th>\n",
       "      <th>roof_material</th>\n",
       "      <th>verified</th>\n",
       "      <th>country</th>\n",
       "      <th>region</th>\n",
       "      <th>id</th>\n",
       "      <th>pred</th>\n",
       "      <th>model</th>\n",
       "      <th>loss</th>\n",
       "      <th>result</th>\n",
       "    </tr>\n",
       "    <tr>\n",
       "      <th>id</th>\n",
       "      <th></th>\n",
       "      <th></th>\n",
       "      <th></th>\n",
       "      <th></th>\n",
       "      <th></th>\n",
       "      <th></th>\n",
       "      <th></th>\n",
       "      <th></th>\n",
       "      <th></th>\n",
       "    </tr>\n",
       "  </thead>\n",
       "  <tbody>\n",
       "    <tr>\n",
       "      <td>7a42454c_zoom</td>\n",
       "      <td>concrete_cement</td>\n",
       "      <td>True</td>\n",
       "      <td>colombia</td>\n",
       "      <td>borde_rural</td>\n",
       "      <td>7a42454c_zoom</td>\n",
       "      <td>none</td>\n",
       "      <td>none</td>\n",
       "      <td>-999.25</td>\n",
       "      <td>False</td>\n",
       "    </tr>\n",
       "    <tr>\n",
       "      <td>7a407a64_zoom</td>\n",
       "      <td>irregular_metal</td>\n",
       "      <td>True</td>\n",
       "      <td>colombia</td>\n",
       "      <td>borde_rural</td>\n",
       "      <td>7a407a64_zoom</td>\n",
       "      <td>none</td>\n",
       "      <td>none</td>\n",
       "      <td>-999.25</td>\n",
       "      <td>False</td>\n",
       "    </tr>\n",
       "    <tr>\n",
       "      <td>7a41a984_zoom</td>\n",
       "      <td>irregular_metal</td>\n",
       "      <td>True</td>\n",
       "      <td>colombia</td>\n",
       "      <td>borde_rural</td>\n",
       "      <td>7a41a984_zoom</td>\n",
       "      <td>none</td>\n",
       "      <td>none</td>\n",
       "      <td>-999.25</td>\n",
       "      <td>False</td>\n",
       "    </tr>\n",
       "    <tr>\n",
       "      <td>7a320e20_zoom</td>\n",
       "      <td>irregular_metal</td>\n",
       "      <td>True</td>\n",
       "      <td>colombia</td>\n",
       "      <td>borde_rural</td>\n",
       "      <td>7a320e20_zoom</td>\n",
       "      <td>none</td>\n",
       "      <td>none</td>\n",
       "      <td>-999.25</td>\n",
       "      <td>False</td>\n",
       "    </tr>\n",
       "    <tr>\n",
       "      <td>7a34bb84_zoom</td>\n",
       "      <td>irregular_metal</td>\n",
       "      <td>True</td>\n",
       "      <td>colombia</td>\n",
       "      <td>borde_rural</td>\n",
       "      <td>7a34bb84_zoom</td>\n",
       "      <td>none</td>\n",
       "      <td>none</td>\n",
       "      <td>-999.25</td>\n",
       "      <td>False</td>\n",
       "    </tr>\n",
       "  </tbody>\n",
       "</table>\n",
       "</div>"
      ],
      "text/plain": [
       "                 roof_material  verified   country       region             id  pred model    loss  result\n",
       "id                                                                                                        \n",
       "7a42454c_zoom  concrete_cement  True      colombia  borde_rural  7a42454c_zoom  none  none -999.25  False \n",
       "7a407a64_zoom  irregular_metal  True      colombia  borde_rural  7a407a64_zoom  none  none -999.25  False \n",
       "7a41a984_zoom  irregular_metal  True      colombia  borde_rural  7a41a984_zoom  none  none -999.25  False \n",
       "7a320e20_zoom  irregular_metal  True      colombia  borde_rural  7a320e20_zoom  none  none -999.25  False \n",
       "7a34bb84_zoom  irregular_metal  True      colombia  borde_rural  7a34bb84_zoom  none  none -999.25  False "
      ]
     },
     "execution_count": 171,
     "metadata": {},
     "output_type": "execute_result"
    }
   ],
   "source": [
    "df.head()"
   ]
  },
  {
   "cell_type": "code",
   "execution_count": 172,
   "metadata": {},
   "outputs": [],
   "source": [
    "df['result']=df['pred'].equals(df['roof_material'])"
   ]
  },
  {
   "cell_type": "code",
   "execution_count": 173,
   "metadata": {},
   "outputs": [],
   "source": [
    "df_incorrect=df.loc[(df['pred'] != 'none') & df['result']==False]"
   ]
  },
  {
   "cell_type": "code",
   "execution_count": 174,
   "metadata": {},
   "outputs": [
    {
     "data": {
      "text/plain": [
       "2232"
      ]
     },
     "execution_count": 174,
     "metadata": {},
     "output_type": "execute_result"
    }
   ],
   "source": [
    "len(df_incorrect)"
   ]
  },
  {
   "cell_type": "code",
   "execution_count": 175,
   "metadata": {},
   "outputs": [],
   "source": [
    "df_incorrect=df_incorrect.sort_values(by='loss', ascending=0)"
   ]
  },
  {
   "cell_type": "code",
   "execution_count": 176,
   "metadata": {},
   "outputs": [
    {
     "data": {
      "text/html": [
       "<div>\n",
       "<style scoped>\n",
       "    .dataframe tbody tr th:only-of-type {\n",
       "        vertical-align: middle;\n",
       "    }\n",
       "\n",
       "    .dataframe tbody tr th {\n",
       "        vertical-align: top;\n",
       "    }\n",
       "\n",
       "    .dataframe thead th {\n",
       "        text-align: right;\n",
       "    }\n",
       "</style>\n",
       "<table border=\"1\" class=\"dataframe\">\n",
       "  <thead>\n",
       "    <tr style=\"text-align: right;\">\n",
       "      <th></th>\n",
       "      <th>roof_material</th>\n",
       "      <th>verified</th>\n",
       "      <th>country</th>\n",
       "      <th>region</th>\n",
       "      <th>id</th>\n",
       "      <th>pred</th>\n",
       "      <th>model</th>\n",
       "      <th>loss</th>\n",
       "      <th>result</th>\n",
       "    </tr>\n",
       "    <tr>\n",
       "      <th>id</th>\n",
       "      <th></th>\n",
       "      <th></th>\n",
       "      <th></th>\n",
       "      <th></th>\n",
       "      <th></th>\n",
       "      <th></th>\n",
       "      <th></th>\n",
       "      <th></th>\n",
       "      <th></th>\n",
       "    </tr>\n",
       "  </thead>\n",
       "  <tbody>\n",
       "    <tr>\n",
       "      <td>7a440ea4_zoom</td>\n",
       "      <td>concrete_cement</td>\n",
       "      <td>False</td>\n",
       "      <td>st_lucia</td>\n",
       "      <td>gros_islet</td>\n",
       "      <td>7a440ea4_zoom</td>\n",
       "      <td>healthy_metal</td>\n",
       "      <td>rn50-03_28-bg_const-cutout-20191201-0c79e3be-raw_zoom-0</td>\n",
       "      <td>5.31</td>\n",
       "      <td>False</td>\n",
       "    </tr>\n",
       "    <tr>\n",
       "      <td>7a3c0740_zoom</td>\n",
       "      <td>other</td>\n",
       "      <td>True</td>\n",
       "      <td>guatemala</td>\n",
       "      <td>mixco_1_and_ebenezer</td>\n",
       "      <td>7a3c0740_zoom</td>\n",
       "      <td>irregular_metal</td>\n",
       "      <td>rn50-03_28-bg_const-cutout-20191201-0c79e3be-raw_zoom-0</td>\n",
       "      <td>4.58</td>\n",
       "      <td>False</td>\n",
       "    </tr>\n",
       "    <tr>\n",
       "      <td>7a37eee4_zoom</td>\n",
       "      <td>incomplete</td>\n",
       "      <td>True</td>\n",
       "      <td>colombia</td>\n",
       "      <td>borde_soacha</td>\n",
       "      <td>7a37eee4_zoom</td>\n",
       "      <td>healthy_metal</td>\n",
       "      <td>rn50-03_28-bg_const-cutout-20191201-0c79e3be-raw_zoom-0</td>\n",
       "      <td>4.07</td>\n",
       "      <td>False</td>\n",
       "    </tr>\n",
       "    <tr>\n",
       "      <td>7a2071e2_zoom</td>\n",
       "      <td>other</td>\n",
       "      <td>True</td>\n",
       "      <td>guatemala</td>\n",
       "      <td>mixco_1_and_ebenezer</td>\n",
       "      <td>7a2071e2_zoom</td>\n",
       "      <td>irregular_metal</td>\n",
       "      <td>rn50-03_28-bg_const-cutout-20191201-0c79e3be-raw_zoom-0</td>\n",
       "      <td>3.95</td>\n",
       "      <td>False</td>\n",
       "    </tr>\n",
       "    <tr>\n",
       "      <td>7a3cecaa_zoom</td>\n",
       "      <td>concrete_cement</td>\n",
       "      <td>True</td>\n",
       "      <td>guatemala</td>\n",
       "      <td>mixco_1_and_ebenezer</td>\n",
       "      <td>7a3cecaa_zoom</td>\n",
       "      <td>irregular_metal</td>\n",
       "      <td>rn50-03_28-bg_const-cutout-20191201-0c79e3be-raw_zoom-0</td>\n",
       "      <td>3.81</td>\n",
       "      <td>False</td>\n",
       "    </tr>\n",
       "  </tbody>\n",
       "</table>\n",
       "</div>"
      ],
      "text/plain": [
       "                 roof_material  verified    country                region             id             pred                                                    model  loss  result\n",
       "id                                                                                                                                                                              \n",
       "7a440ea4_zoom  concrete_cement  False     st_lucia   gros_islet            7a440ea4_zoom  healthy_metal    rn50-03_28-bg_const-cutout-20191201-0c79e3be-raw_zoom-0  5.31  False \n",
       "7a3c0740_zoom  other            True      guatemala  mixco_1_and_ebenezer  7a3c0740_zoom  irregular_metal  rn50-03_28-bg_const-cutout-20191201-0c79e3be-raw_zoom-0  4.58  False \n",
       "7a37eee4_zoom  incomplete       True      colombia   borde_soacha          7a37eee4_zoom  healthy_metal    rn50-03_28-bg_const-cutout-20191201-0c79e3be-raw_zoom-0  4.07  False \n",
       "7a2071e2_zoom  other            True      guatemala  mixco_1_and_ebenezer  7a2071e2_zoom  irregular_metal  rn50-03_28-bg_const-cutout-20191201-0c79e3be-raw_zoom-0  3.95  False \n",
       "7a3cecaa_zoom  concrete_cement  True      guatemala  mixco_1_and_ebenezer  7a3cecaa_zoom  irregular_metal  rn50-03_28-bg_const-cutout-20191201-0c79e3be-raw_zoom-0  3.81  False "
      ]
     },
     "execution_count": 176,
     "metadata": {},
     "output_type": "execute_result"
    }
   ],
   "source": [
    "df_incorrect.head()"
   ]
  },
  {
   "cell_type": "code",
   "execution_count": null,
   "metadata": {},
   "outputs": [],
   "source": []
  }
 ],
 "metadata": {
  "kernelspec": {
   "display_name": "Python 3",
   "language": "python",
   "name": "python3"
  },
  "language_info": {
   "codemirror_mode": {
    "name": "ipython",
    "version": 3
   },
   "file_extension": ".py",
   "mimetype": "text/x-python",
   "name": "python",
   "nbconvert_exporter": "python",
   "pygments_lexer": "ipython3",
   "version": "3.7.4"
  }
 },
 "nbformat": 4,
 "nbformat_minor": 2
}
