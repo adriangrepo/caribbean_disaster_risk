{
 "cells": [
  {
   "cell_type": "markdown",
   "metadata": {},
   "source": [
    "## St Lucia Cement Pred\n",
    "\n"
   ]
  },
  {
   "cell_type": "code",
   "execution_count": 1,
   "metadata": {},
   "outputs": [],
   "source": [
    "%reload_ext autoreload\n",
    "%autoreload 2\n",
    "%matplotlib inline"
   ]
  },
  {
   "cell_type": "code",
   "execution_count": 2,
   "metadata": {},
   "outputs": [],
   "source": [
    "from fastai.vision import *\n",
    "import geopandas as gpd\n",
    "from resizeimage import resizeimage\n",
    "import datetime\n",
    "import uuid\n",
    "from os import listdir\n",
    "from os.path import isfile, join"
   ]
  },
  {
   "cell_type": "code",
   "execution_count": 3,
   "metadata": {},
   "outputs": [
    {
     "data": {
      "text/plain": [
       "0"
      ]
     },
     "execution_count": 3,
     "metadata": {},
     "output_type": "execute_result"
    }
   ],
   "source": [
    "torch.cuda.set_device(0)\n",
    "torch.cuda.current_device()"
   ]
  },
  {
   "cell_type": "code",
   "execution_count": 4,
   "metadata": {},
   "outputs": [],
   "source": [
    "data_dir = Path('data')\n",
    "sub_dir=data_dir/'submissions'\n",
    "st_lucia_castries = Path('data/stac/st_lucia/castries')\n",
    "COUNTRY='st_lucia'\n",
    "REGION='castries'\n",
    "DATASET_PATH=st_lucia_castries\n",
    "TRAIN_JSON = f'train-{REGION}.geojson'"
   ]
  },
  {
   "cell_type": "code",
   "execution_count": 5,
   "metadata": {},
   "outputs": [],
   "source": [
    "img_size=256"
   ]
  },
  {
   "cell_type": "code",
   "execution_count": 6,
   "metadata": {},
   "outputs": [],
   "source": [
    "train_images=data_dir/f'train/rotated/clipped/reflect/{img_size}'\n",
    "test_images=data_dir/f'test/rotated/clipped/reflect/{img_size}'"
   ]
  },
  {
   "cell_type": "code",
   "execution_count": 7,
   "metadata": {},
   "outputs": [],
   "source": [
    "df_st_cc=pd.read_csv(sub_dir/'stage-2-rn50-03_11-cv_reflect_101_valid-20191109-123cca5f.csv')"
   ]
  },
  {
   "cell_type": "code",
   "execution_count": 8,
   "metadata": {},
   "outputs": [
    {
     "data": {
      "text/html": [
       "<div>\n",
       "<style scoped>\n",
       "    .dataframe tbody tr th:only-of-type {\n",
       "        vertical-align: middle;\n",
       "    }\n",
       "\n",
       "    .dataframe tbody tr th {\n",
       "        vertical-align: top;\n",
       "    }\n",
       "\n",
       "    .dataframe thead th {\n",
       "        text-align: right;\n",
       "    }\n",
       "</style>\n",
       "<table border=\"1\" class=\"dataframe\">\n",
       "  <thead>\n",
       "    <tr style=\"text-align: right;\">\n",
       "      <th></th>\n",
       "      <th>id</th>\n",
       "      <th>concrete_cement</th>\n",
       "      <th>healthy_metal</th>\n",
       "      <th>incomplete</th>\n",
       "      <th>irregular_metal</th>\n",
       "      <th>other</th>\n",
       "    </tr>\n",
       "  </thead>\n",
       "  <tbody>\n",
       "    <tr>\n",
       "      <td>0</td>\n",
       "      <td>7a4d630a</td>\n",
       "      <td>0.000964</td>\n",
       "      <td>0.991899</td>\n",
       "      <td>0.001250</td>\n",
       "      <td>0.003872</td>\n",
       "      <td>0.002015</td>\n",
       "    </tr>\n",
       "    <tr>\n",
       "      <td>1</td>\n",
       "      <td>7a4bbbd6</td>\n",
       "      <td>0.002175</td>\n",
       "      <td>0.991627</td>\n",
       "      <td>0.000803</td>\n",
       "      <td>0.004684</td>\n",
       "      <td>0.000711</td>\n",
       "    </tr>\n",
       "    <tr>\n",
       "      <td>2</td>\n",
       "      <td>7a4ac744</td>\n",
       "      <td>0.008024</td>\n",
       "      <td>0.417557</td>\n",
       "      <td>0.010922</td>\n",
       "      <td>0.561353</td>\n",
       "      <td>0.002144</td>\n",
       "    </tr>\n",
       "    <tr>\n",
       "      <td>3</td>\n",
       "      <td>7a4881fa</td>\n",
       "      <td>0.001661</td>\n",
       "      <td>0.018901</td>\n",
       "      <td>0.010896</td>\n",
       "      <td>0.968236</td>\n",
       "      <td>0.000307</td>\n",
       "    </tr>\n",
       "    <tr>\n",
       "      <td>4</td>\n",
       "      <td>7a4aa4a8</td>\n",
       "      <td>0.004693</td>\n",
       "      <td>0.853668</td>\n",
       "      <td>0.002853</td>\n",
       "      <td>0.135639</td>\n",
       "      <td>0.003147</td>\n",
       "    </tr>\n",
       "  </tbody>\n",
       "</table>\n",
       "</div>"
      ],
      "text/plain": [
       "         id  concrete_cement  healthy_metal  incomplete  irregular_metal  \\\n",
       "0  7a4d630a         0.000964       0.991899    0.001250         0.003872   \n",
       "1  7a4bbbd6         0.002175       0.991627    0.000803         0.004684   \n",
       "2  7a4ac744         0.008024       0.417557    0.010922         0.561353   \n",
       "3  7a4881fa         0.001661       0.018901    0.010896         0.968236   \n",
       "4  7a4aa4a8         0.004693       0.853668    0.002853         0.135639   \n",
       "\n",
       "      other  \n",
       "0  0.002015  \n",
       "1  0.000711  \n",
       "2  0.002144  \n",
       "3  0.000307  \n",
       "4  0.003147  "
      ]
     },
     "execution_count": 8,
     "metadata": {},
     "output_type": "execute_result"
    }
   ],
   "source": [
    "df_st_cc.head()"
   ]
  },
  {
   "cell_type": "code",
   "execution_count": 9,
   "metadata": {},
   "outputs": [],
   "source": [
    "df_st_cc_preds=df_st_cc.drop(columns=['id'])"
   ]
  },
  {
   "cell_type": "code",
   "execution_count": 10,
   "metadata": {},
   "outputs": [],
   "source": [
    "pred_classes=df_st_cc_preds.idxmax(axis=1)"
   ]
  },
  {
   "cell_type": "code",
   "execution_count": 11,
   "metadata": {},
   "outputs": [],
   "source": [
    "df_st_cc['pred']=pred_classes"
   ]
  },
  {
   "cell_type": "code",
   "execution_count": 12,
   "metadata": {},
   "outputs": [
    {
     "data": {
      "text/html": [
       "<div>\n",
       "<style scoped>\n",
       "    .dataframe tbody tr th:only-of-type {\n",
       "        vertical-align: middle;\n",
       "    }\n",
       "\n",
       "    .dataframe tbody tr th {\n",
       "        vertical-align: top;\n",
       "    }\n",
       "\n",
       "    .dataframe thead th {\n",
       "        text-align: right;\n",
       "    }\n",
       "</style>\n",
       "<table border=\"1\" class=\"dataframe\">\n",
       "  <thead>\n",
       "    <tr style=\"text-align: right;\">\n",
       "      <th></th>\n",
       "      <th>id</th>\n",
       "      <th>concrete_cement</th>\n",
       "      <th>healthy_metal</th>\n",
       "      <th>incomplete</th>\n",
       "      <th>irregular_metal</th>\n",
       "      <th>other</th>\n",
       "      <th>pred</th>\n",
       "    </tr>\n",
       "  </thead>\n",
       "  <tbody>\n",
       "    <tr>\n",
       "      <td>0</td>\n",
       "      <td>7a4d630a</td>\n",
       "      <td>0.000964</td>\n",
       "      <td>0.991899</td>\n",
       "      <td>0.001250</td>\n",
       "      <td>0.003872</td>\n",
       "      <td>0.002015</td>\n",
       "      <td>healthy_metal</td>\n",
       "    </tr>\n",
       "    <tr>\n",
       "      <td>1</td>\n",
       "      <td>7a4bbbd6</td>\n",
       "      <td>0.002175</td>\n",
       "      <td>0.991627</td>\n",
       "      <td>0.000803</td>\n",
       "      <td>0.004684</td>\n",
       "      <td>0.000711</td>\n",
       "      <td>healthy_metal</td>\n",
       "    </tr>\n",
       "    <tr>\n",
       "      <td>2</td>\n",
       "      <td>7a4ac744</td>\n",
       "      <td>0.008024</td>\n",
       "      <td>0.417557</td>\n",
       "      <td>0.010922</td>\n",
       "      <td>0.561353</td>\n",
       "      <td>0.002144</td>\n",
       "      <td>irregular_metal</td>\n",
       "    </tr>\n",
       "    <tr>\n",
       "      <td>3</td>\n",
       "      <td>7a4881fa</td>\n",
       "      <td>0.001661</td>\n",
       "      <td>0.018901</td>\n",
       "      <td>0.010896</td>\n",
       "      <td>0.968236</td>\n",
       "      <td>0.000307</td>\n",
       "      <td>irregular_metal</td>\n",
       "    </tr>\n",
       "    <tr>\n",
       "      <td>4</td>\n",
       "      <td>7a4aa4a8</td>\n",
       "      <td>0.004693</td>\n",
       "      <td>0.853668</td>\n",
       "      <td>0.002853</td>\n",
       "      <td>0.135639</td>\n",
       "      <td>0.003147</td>\n",
       "      <td>healthy_metal</td>\n",
       "    </tr>\n",
       "  </tbody>\n",
       "</table>\n",
       "</div>"
      ],
      "text/plain": [
       "         id  concrete_cement  healthy_metal  incomplete  irregular_metal  \\\n",
       "0  7a4d630a         0.000964       0.991899    0.001250         0.003872   \n",
       "1  7a4bbbd6         0.002175       0.991627    0.000803         0.004684   \n",
       "2  7a4ac744         0.008024       0.417557    0.010922         0.561353   \n",
       "3  7a4881fa         0.001661       0.018901    0.010896         0.968236   \n",
       "4  7a4aa4a8         0.004693       0.853668    0.002853         0.135639   \n",
       "\n",
       "      other             pred  \n",
       "0  0.002015    healthy_metal  \n",
       "1  0.000711    healthy_metal  \n",
       "2  0.002144  irregular_metal  \n",
       "3  0.000307  irregular_metal  \n",
       "4  0.003147    healthy_metal  "
      ]
     },
     "execution_count": 12,
     "metadata": {},
     "output_type": "execute_result"
    }
   ],
   "source": [
    "df_st_cc.head()"
   ]
  },
  {
   "cell_type": "code",
   "execution_count": 13,
   "metadata": {},
   "outputs": [],
   "source": [
    "label_df = gpd.read_file(DATASET_PATH/TRAIN_JSON)\n",
    "label_df = label_df[label_df['geometry'].isna() != True] # remove empty rows"
   ]
  },
  {
   "cell_type": "code",
   "execution_count": 14,
   "metadata": {},
   "outputs": [
    {
     "data": {
      "text/html": [
       "<div>\n",
       "<style scoped>\n",
       "    .dataframe tbody tr th:only-of-type {\n",
       "        vertical-align: middle;\n",
       "    }\n",
       "\n",
       "    .dataframe tbody tr th {\n",
       "        vertical-align: top;\n",
       "    }\n",
       "\n",
       "    .dataframe thead th {\n",
       "        text-align: right;\n",
       "    }\n",
       "</style>\n",
       "<table border=\"1\" class=\"dataframe\">\n",
       "  <thead>\n",
       "    <tr style=\"text-align: right;\">\n",
       "      <th></th>\n",
       "      <th>id</th>\n",
       "      <th>roof_material</th>\n",
       "      <th>verified</th>\n",
       "      <th>geometry</th>\n",
       "    </tr>\n",
       "  </thead>\n",
       "  <tbody>\n",
       "    <tr>\n",
       "      <td>0</td>\n",
       "      <td>7a24bd7e</td>\n",
       "      <td>healthy_metal</td>\n",
       "      <td>False</td>\n",
       "      <td>POLYGON ((-60.99638 13.99362, -60.99626 13.993...</td>\n",
       "    </tr>\n",
       "    <tr>\n",
       "      <td>1</td>\n",
       "      <td>7a2cf00c</td>\n",
       "      <td>healthy_metal</td>\n",
       "      <td>False</td>\n",
       "      <td>POLYGON ((-60.99657 13.99379, -60.99662 13.993...</td>\n",
       "    </tr>\n",
       "    <tr>\n",
       "      <td>2</td>\n",
       "      <td>7a3975e8</td>\n",
       "      <td>healthy_metal</td>\n",
       "      <td>False</td>\n",
       "      <td>POLYGON ((-60.99189 13.99392, -60.99179 13.993...</td>\n",
       "    </tr>\n",
       "    <tr>\n",
       "      <td>3</td>\n",
       "      <td>7a1d215e</td>\n",
       "      <td>healthy_metal</td>\n",
       "      <td>False</td>\n",
       "      <td>POLYGON ((-60.99345 13.99396, -60.99330 13.993...</td>\n",
       "    </tr>\n",
       "    <tr>\n",
       "      <td>4</td>\n",
       "      <td>7a42475e</td>\n",
       "      <td>healthy_metal</td>\n",
       "      <td>False</td>\n",
       "      <td>POLYGON ((-60.99617 13.99408, -60.99609 13.994...</td>\n",
       "    </tr>\n",
       "  </tbody>\n",
       "</table>\n",
       "</div>"
      ],
      "text/plain": [
       "         id  roof_material  verified  \\\n",
       "0  7a24bd7e  healthy_metal     False   \n",
       "1  7a2cf00c  healthy_metal     False   \n",
       "2  7a3975e8  healthy_metal     False   \n",
       "3  7a1d215e  healthy_metal     False   \n",
       "4  7a42475e  healthy_metal     False   \n",
       "\n",
       "                                            geometry  \n",
       "0  POLYGON ((-60.99638 13.99362, -60.99626 13.993...  \n",
       "1  POLYGON ((-60.99657 13.99379, -60.99662 13.993...  \n",
       "2  POLYGON ((-60.99189 13.99392, -60.99179 13.993...  \n",
       "3  POLYGON ((-60.99345 13.99396, -60.99330 13.993...  \n",
       "4  POLYGON ((-60.99617 13.99408, -60.99609 13.994...  "
      ]
     },
     "execution_count": 14,
     "metadata": {},
     "output_type": "execute_result"
    }
   ],
   "source": [
    "label_df.head()"
   ]
  },
  {
   "cell_type": "code",
   "execution_count": 15,
   "metadata": {},
   "outputs": [],
   "source": [
    "label_cc=label_df.loc[label_df['roof_material'] ==  'concrete_cement']"
   ]
  },
  {
   "cell_type": "code",
   "execution_count": 16,
   "metadata": {},
   "outputs": [
    {
     "data": {
      "text/html": [
       "<div>\n",
       "<style scoped>\n",
       "    .dataframe tbody tr th:only-of-type {\n",
       "        vertical-align: middle;\n",
       "    }\n",
       "\n",
       "    .dataframe tbody tr th {\n",
       "        vertical-align: top;\n",
       "    }\n",
       "\n",
       "    .dataframe thead th {\n",
       "        text-align: right;\n",
       "    }\n",
       "</style>\n",
       "<table border=\"1\" class=\"dataframe\">\n",
       "  <thead>\n",
       "    <tr style=\"text-align: right;\">\n",
       "      <th></th>\n",
       "      <th>id</th>\n",
       "      <th>roof_material</th>\n",
       "      <th>verified</th>\n",
       "      <th>geometry</th>\n",
       "    </tr>\n",
       "  </thead>\n",
       "  <tbody>\n",
       "    <tr>\n",
       "      <td>20</td>\n",
       "      <td>7a23d864</td>\n",
       "      <td>concrete_cement</td>\n",
       "      <td>False</td>\n",
       "      <td>POLYGON ((-60.99474 13.99438, -60.99474 13.994...</td>\n",
       "    </tr>\n",
       "    <tr>\n",
       "      <td>74</td>\n",
       "      <td>7a297f76</td>\n",
       "      <td>concrete_cement</td>\n",
       "      <td>False</td>\n",
       "      <td>POLYGON ((-60.99817 13.99509, -60.99802 13.995...</td>\n",
       "    </tr>\n",
       "    <tr>\n",
       "      <td>198</td>\n",
       "      <td>7a34ef78</td>\n",
       "      <td>concrete_cement</td>\n",
       "      <td>False</td>\n",
       "      <td>POLYGON ((-60.99777 13.99632, -60.99783 13.996...</td>\n",
       "    </tr>\n",
       "    <tr>\n",
       "      <td>216</td>\n",
       "      <td>7a3dc49a</td>\n",
       "      <td>concrete_cement</td>\n",
       "      <td>False</td>\n",
       "      <td>POLYGON ((-60.99531 13.99688, -60.99535 13.996...</td>\n",
       "    </tr>\n",
       "    <tr>\n",
       "      <td>287</td>\n",
       "      <td>7a26dfa0</td>\n",
       "      <td>concrete_cement</td>\n",
       "      <td>False</td>\n",
       "      <td>POLYGON ((-60.98675 13.99786, -60.98669 13.997...</td>\n",
       "    </tr>\n",
       "  </tbody>\n",
       "</table>\n",
       "</div>"
      ],
      "text/plain": [
       "           id    roof_material  verified  \\\n",
       "20   7a23d864  concrete_cement     False   \n",
       "74   7a297f76  concrete_cement     False   \n",
       "198  7a34ef78  concrete_cement     False   \n",
       "216  7a3dc49a  concrete_cement     False   \n",
       "287  7a26dfa0  concrete_cement     False   \n",
       "\n",
       "                                              geometry  \n",
       "20   POLYGON ((-60.99474 13.99438, -60.99474 13.994...  \n",
       "74   POLYGON ((-60.99817 13.99509, -60.99802 13.995...  \n",
       "198  POLYGON ((-60.99777 13.99632, -60.99783 13.996...  \n",
       "216  POLYGON ((-60.99531 13.99688, -60.99535 13.996...  \n",
       "287  POLYGON ((-60.98675 13.99786, -60.98669 13.997...  "
      ]
     },
     "execution_count": 16,
     "metadata": {},
     "output_type": "execute_result"
    }
   ],
   "source": [
    "label_cc.head()"
   ]
  },
  {
   "cell_type": "code",
   "execution_count": 17,
   "metadata": {},
   "outputs": [
    {
     "data": {
      "text/plain": [
       "89"
      ]
     },
     "execution_count": 17,
     "metadata": {},
     "output_type": "execute_result"
    }
   ],
   "source": [
    "len(label_cc)"
   ]
  },
  {
   "cell_type": "code",
   "execution_count": 18,
   "metadata": {},
   "outputs": [],
   "source": [
    "unver_cc = label_cc.id.tolist()\n",
    "unver_cc_roof = label_cc.roof_material.tolist()\n",
    "st_cc=df_st_cc.id.tolist()"
   ]
  },
  {
   "cell_type": "code",
   "execution_count": 19,
   "metadata": {},
   "outputs": [
    {
     "data": {
      "text/plain": [
       "['7a23d864',\n",
       " '7a297f76',\n",
       " '7a34ef78',\n",
       " '7a3dc49a',\n",
       " '7a26dfa0',\n",
       " '7a33c346',\n",
       " '7a3e0126',\n",
       " '7a30b9d0',\n",
       " '7a2f2cf0',\n",
       " '7a27cda2']"
      ]
     },
     "execution_count": 19,
     "metadata": {},
     "output_type": "execute_result"
    }
   ],
   "source": [
    "unver_cc[:10]"
   ]
  },
  {
   "cell_type": "code",
   "execution_count": 20,
   "metadata": {},
   "outputs": [
    {
     "data": {
      "text/html": [
       "<div>\n",
       "<style scoped>\n",
       "    .dataframe tbody tr th:only-of-type {\n",
       "        vertical-align: middle;\n",
       "    }\n",
       "\n",
       "    .dataframe tbody tr th {\n",
       "        vertical-align: top;\n",
       "    }\n",
       "\n",
       "    .dataframe thead th {\n",
       "        text-align: right;\n",
       "    }\n",
       "</style>\n",
       "<table border=\"1\" class=\"dataframe\">\n",
       "  <thead>\n",
       "    <tr style=\"text-align: right;\">\n",
       "      <th></th>\n",
       "      <th>id</th>\n",
       "      <th>concrete_cement</th>\n",
       "      <th>healthy_metal</th>\n",
       "      <th>incomplete</th>\n",
       "      <th>irregular_metal</th>\n",
       "      <th>other</th>\n",
       "      <th>pred</th>\n",
       "    </tr>\n",
       "  </thead>\n",
       "  <tbody>\n",
       "    <tr>\n",
       "      <td>0</td>\n",
       "      <td>7a4d630a</td>\n",
       "      <td>0.000964</td>\n",
       "      <td>0.991899</td>\n",
       "      <td>0.001250</td>\n",
       "      <td>0.003872</td>\n",
       "      <td>0.002015</td>\n",
       "      <td>healthy_metal</td>\n",
       "    </tr>\n",
       "    <tr>\n",
       "      <td>1</td>\n",
       "      <td>7a4bbbd6</td>\n",
       "      <td>0.002175</td>\n",
       "      <td>0.991627</td>\n",
       "      <td>0.000803</td>\n",
       "      <td>0.004684</td>\n",
       "      <td>0.000711</td>\n",
       "      <td>healthy_metal</td>\n",
       "    </tr>\n",
       "    <tr>\n",
       "      <td>2</td>\n",
       "      <td>7a4ac744</td>\n",
       "      <td>0.008024</td>\n",
       "      <td>0.417557</td>\n",
       "      <td>0.010922</td>\n",
       "      <td>0.561353</td>\n",
       "      <td>0.002144</td>\n",
       "      <td>irregular_metal</td>\n",
       "    </tr>\n",
       "    <tr>\n",
       "      <td>3</td>\n",
       "      <td>7a4881fa</td>\n",
       "      <td>0.001661</td>\n",
       "      <td>0.018901</td>\n",
       "      <td>0.010896</td>\n",
       "      <td>0.968236</td>\n",
       "      <td>0.000307</td>\n",
       "      <td>irregular_metal</td>\n",
       "    </tr>\n",
       "    <tr>\n",
       "      <td>4</td>\n",
       "      <td>7a4aa4a8</td>\n",
       "      <td>0.004693</td>\n",
       "      <td>0.853668</td>\n",
       "      <td>0.002853</td>\n",
       "      <td>0.135639</td>\n",
       "      <td>0.003147</td>\n",
       "      <td>healthy_metal</td>\n",
       "    </tr>\n",
       "  </tbody>\n",
       "</table>\n",
       "</div>"
      ],
      "text/plain": [
       "         id  concrete_cement  healthy_metal  incomplete  irregular_metal  \\\n",
       "0  7a4d630a         0.000964       0.991899    0.001250         0.003872   \n",
       "1  7a4bbbd6         0.002175       0.991627    0.000803         0.004684   \n",
       "2  7a4ac744         0.008024       0.417557    0.010922         0.561353   \n",
       "3  7a4881fa         0.001661       0.018901    0.010896         0.968236   \n",
       "4  7a4aa4a8         0.004693       0.853668    0.002853         0.135639   \n",
       "\n",
       "      other             pred  \n",
       "0  0.002015    healthy_metal  \n",
       "1  0.000711    healthy_metal  \n",
       "2  0.002144  irregular_metal  \n",
       "3  0.000307  irregular_metal  \n",
       "4  0.003147    healthy_metal  "
      ]
     },
     "execution_count": 20,
     "metadata": {},
     "output_type": "execute_result"
    }
   ],
   "source": [
    "df_st_cc.head()"
   ]
  },
  {
   "cell_type": "code",
   "execution_count": 21,
   "metadata": {},
   "outputs": [],
   "source": [
    "### This needs QC!!!"
   ]
  },
  {
   "cell_type": "code",
   "execution_count": 22,
   "metadata": {},
   "outputs": [],
   "source": [
    "df_npu=pd.read_csv(data_dir/'non_predicted_unverfied.csv')"
   ]
  },
  {
   "cell_type": "code",
   "execution_count": 23,
   "metadata": {},
   "outputs": [
    {
     "data": {
      "text/html": [
       "<div>\n",
       "<style scoped>\n",
       "    .dataframe tbody tr th:only-of-type {\n",
       "        vertical-align: middle;\n",
       "    }\n",
       "\n",
       "    .dataframe tbody tr th {\n",
       "        vertical-align: top;\n",
       "    }\n",
       "\n",
       "    .dataframe thead th {\n",
       "        text-align: right;\n",
       "    }\n",
       "</style>\n",
       "<table border=\"1\" class=\"dataframe\">\n",
       "  <thead>\n",
       "    <tr style=\"text-align: right;\">\n",
       "      <th></th>\n",
       "      <th>id</th>\n",
       "      <th>roof_material</th>\n",
       "    </tr>\n",
       "  </thead>\n",
       "  <tbody>\n",
       "    <tr>\n",
       "      <td>0</td>\n",
       "      <td>7a295212</td>\n",
       "      <td>healthy_metal</td>\n",
       "    </tr>\n",
       "    <tr>\n",
       "      <td>1</td>\n",
       "      <td>7a3e455a</td>\n",
       "      <td>other</td>\n",
       "    </tr>\n",
       "    <tr>\n",
       "      <td>2</td>\n",
       "      <td>7a26dfa0</td>\n",
       "      <td>concrete_cement</td>\n",
       "    </tr>\n",
       "    <tr>\n",
       "      <td>3</td>\n",
       "      <td>7a44cd9e</td>\n",
       "      <td>other</td>\n",
       "    </tr>\n",
       "    <tr>\n",
       "      <td>4</td>\n",
       "      <td>7a3e5482</td>\n",
       "      <td>other</td>\n",
       "    </tr>\n",
       "  </tbody>\n",
       "</table>\n",
       "</div>"
      ],
      "text/plain": [
       "         id    roof_material\n",
       "0  7a295212    healthy_metal\n",
       "1  7a3e455a            other\n",
       "2  7a26dfa0  concrete_cement\n",
       "3  7a44cd9e            other\n",
       "4  7a3e5482            other"
      ]
     },
     "execution_count": 23,
     "metadata": {},
     "output_type": "execute_result"
    }
   ],
   "source": [
    "df_npu.head()"
   ]
  },
  {
   "cell_type": "code",
   "execution_count": 24,
   "metadata": {},
   "outputs": [],
   "source": [
    "bad_ids=df_npu.id.values.tolist()"
   ]
  },
  {
   "cell_type": "code",
   "execution_count": 25,
   "metadata": {},
   "outputs": [],
   "source": [
    "df_all = pd.read_csv(data_dir/'df_train_all.csv')"
   ]
  },
  {
   "cell_type": "code",
   "execution_count": 26,
   "metadata": {},
   "outputs": [],
   "source": [
    "df_uv=df_all.loc[df_all['verified'] == False]"
   ]
  },
  {
   "cell_type": "code",
   "execution_count": 27,
   "metadata": {},
   "outputs": [],
   "source": [
    "df_pred_v=df_uv.loc[~df_uv['id'].isin(bad_ids)]"
   ]
  },
  {
   "cell_type": "code",
   "execution_count": 28,
   "metadata": {},
   "outputs": [
    {
     "data": {
      "text/plain": [
       "7556"
      ]
     },
     "execution_count": 28,
     "metadata": {},
     "output_type": "execute_result"
    }
   ],
   "source": [
    "len(df_pred_v)"
   ]
  },
  {
   "cell_type": "code",
   "execution_count": 29,
   "metadata": {},
   "outputs": [
    {
     "data": {
      "text/html": [
       "<div>\n",
       "<style scoped>\n",
       "    .dataframe tbody tr th:only-of-type {\n",
       "        vertical-align: middle;\n",
       "    }\n",
       "\n",
       "    .dataframe tbody tr th {\n",
       "        vertical-align: top;\n",
       "    }\n",
       "\n",
       "    .dataframe thead th {\n",
       "        text-align: right;\n",
       "    }\n",
       "</style>\n",
       "<table border=\"1\" class=\"dataframe\">\n",
       "  <thead>\n",
       "    <tr style=\"text-align: right;\">\n",
       "      <th></th>\n",
       "      <th>id</th>\n",
       "      <th>roof_material</th>\n",
       "      <th>verified</th>\n",
       "      <th>country</th>\n",
       "      <th>region</th>\n",
       "    </tr>\n",
       "  </thead>\n",
       "  <tbody>\n",
       "    <tr>\n",
       "      <td>13866</td>\n",
       "      <td>7a24bd7e</td>\n",
       "      <td>healthy_metal</td>\n",
       "      <td>False</td>\n",
       "      <td>st_lucia</td>\n",
       "      <td>castries</td>\n",
       "    </tr>\n",
       "    <tr>\n",
       "      <td>13867</td>\n",
       "      <td>7a2cf00c</td>\n",
       "      <td>healthy_metal</td>\n",
       "      <td>False</td>\n",
       "      <td>st_lucia</td>\n",
       "      <td>castries</td>\n",
       "    </tr>\n",
       "    <tr>\n",
       "      <td>13868</td>\n",
       "      <td>7a3975e8</td>\n",
       "      <td>healthy_metal</td>\n",
       "      <td>False</td>\n",
       "      <td>st_lucia</td>\n",
       "      <td>castries</td>\n",
       "    </tr>\n",
       "    <tr>\n",
       "      <td>13869</td>\n",
       "      <td>7a1d215e</td>\n",
       "      <td>healthy_metal</td>\n",
       "      <td>False</td>\n",
       "      <td>st_lucia</td>\n",
       "      <td>castries</td>\n",
       "    </tr>\n",
       "    <tr>\n",
       "      <td>13870</td>\n",
       "      <td>7a42475e</td>\n",
       "      <td>healthy_metal</td>\n",
       "      <td>False</td>\n",
       "      <td>st_lucia</td>\n",
       "      <td>castries</td>\n",
       "    </tr>\n",
       "  </tbody>\n",
       "</table>\n",
       "</div>"
      ],
      "text/plain": [
       "             id  roof_material  verified   country    region\n",
       "13866  7a24bd7e  healthy_metal     False  st_lucia  castries\n",
       "13867  7a2cf00c  healthy_metal     False  st_lucia  castries\n",
       "13868  7a3975e8  healthy_metal     False  st_lucia  castries\n",
       "13869  7a1d215e  healthy_metal     False  st_lucia  castries\n",
       "13870  7a42475e  healthy_metal     False  st_lucia  castries"
      ]
     },
     "execution_count": 29,
     "metadata": {},
     "output_type": "execute_result"
    }
   ],
   "source": [
    "df_pred_v.head()"
   ]
  },
  {
   "cell_type": "code",
   "execution_count": 30,
   "metadata": {},
   "outputs": [],
   "source": [
    "df_pred_v_cc=df_pred_v.loc[df_pred_v['roof_material'] == 'concrete_cement']"
   ]
  },
  {
   "cell_type": "code",
   "execution_count": 31,
   "metadata": {},
   "outputs": [
    {
     "data": {
      "text/plain": [
       "105"
      ]
     },
     "execution_count": 31,
     "metadata": {},
     "output_type": "execute_result"
    }
   ],
   "source": [
    "len(df_pred_v_cc)"
   ]
  },
  {
   "cell_type": "code",
   "execution_count": 32,
   "metadata": {},
   "outputs": [],
   "source": [
    "b1=label_cc.id.tolist()\n",
    "b2=df_pred_v_cc.id.tolist()"
   ]
  },
  {
   "cell_type": "markdown",
   "metadata": {},
   "source": [
    "The gold ids - TODO - double check this"
   ]
  },
  {
   "cell_type": "code",
   "execution_count": 33,
   "metadata": {},
   "outputs": [
    {
     "data": {
      "text/plain": [
       "75"
      ]
     },
     "execution_count": 33,
     "metadata": {},
     "output_type": "execute_result"
    }
   ],
   "source": [
    "len(set(b1).intersection(b2))"
   ]
  },
  {
   "cell_type": "code",
   "execution_count": 34,
   "metadata": {},
   "outputs": [],
   "source": [
    "gold_ids = list(set(b1).intersection(b2))\n"
   ]
  },
  {
   "cell_type": "code",
   "execution_count": 35,
   "metadata": {},
   "outputs": [
    {
     "data": {
      "text/html": [
       "<div>\n",
       "<style scoped>\n",
       "    .dataframe tbody tr th:only-of-type {\n",
       "        vertical-align: middle;\n",
       "    }\n",
       "\n",
       "    .dataframe tbody tr th {\n",
       "        vertical-align: top;\n",
       "    }\n",
       "\n",
       "    .dataframe thead th {\n",
       "        text-align: right;\n",
       "    }\n",
       "</style>\n",
       "<table border=\"1\" class=\"dataframe\">\n",
       "  <thead>\n",
       "    <tr style=\"text-align: right;\">\n",
       "      <th></th>\n",
       "      <th>id</th>\n",
       "    </tr>\n",
       "  </thead>\n",
       "  <tbody>\n",
       "    <tr>\n",
       "      <td>0</td>\n",
       "      <td>7a1dd158</td>\n",
       "    </tr>\n",
       "    <tr>\n",
       "      <td>1</td>\n",
       "      <td>7a32aa7e</td>\n",
       "    </tr>\n",
       "    <tr>\n",
       "      <td>2</td>\n",
       "      <td>7a3de768</td>\n",
       "    </tr>\n",
       "    <tr>\n",
       "      <td>3</td>\n",
       "      <td>7a2087b8</td>\n",
       "    </tr>\n",
       "    <tr>\n",
       "      <td>4</td>\n",
       "      <td>7a3cc4fa</td>\n",
       "    </tr>\n",
       "  </tbody>\n",
       "</table>\n",
       "</div>"
      ],
      "text/plain": [
       "         id\n",
       "0  7a1dd158\n",
       "1  7a32aa7e\n",
       "2  7a3de768\n",
       "3  7a2087b8\n",
       "4  7a3cc4fa"
      ]
     },
     "execution_count": 35,
     "metadata": {},
     "output_type": "execute_result"
    }
   ],
   "source": [
    "df=pd.DataFrame({\"id\":gold_ids})\n",
    "df.head()"
   ]
  },
  {
   "cell_type": "code",
   "execution_count": 36,
   "metadata": {},
   "outputs": [],
   "source": [
    "\n",
    "df.to_csv(data_dir/'st_lucia_castries_gold_concrete_cement.csv', index=False)"
   ]
  },
  {
   "cell_type": "code",
   "execution_count": null,
   "metadata": {},
   "outputs": [],
   "source": []
  }
 ],
 "metadata": {
  "kernelspec": {
   "display_name": "Python 3",
   "language": "python",
   "name": "python3"
  },
  "language_info": {
   "codemirror_mode": {
    "name": "ipython",
    "version": 3
   },
   "file_extension": ".py",
   "mimetype": "text/x-python",
   "name": "python",
   "nbconvert_exporter": "python",
   "pygments_lexer": "ipython3",
   "version": "3.7.4"
  }
 },
 "nbformat": 4,
 "nbformat_minor": 2
}
