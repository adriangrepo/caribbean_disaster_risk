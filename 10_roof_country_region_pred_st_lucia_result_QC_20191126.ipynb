{
 "cells": [
  {
   "cell_type": "markdown",
   "metadata": {},
   "source": [
    "## Predict St Lucia Metal Roofs\n",
    "\n",
    "Using rotated to hz + OpenCv border\n"
   ]
  },
  {
   "cell_type": "code",
   "execution_count": 1,
   "metadata": {},
   "outputs": [],
   "source": [
    "%reload_ext autoreload\n",
    "%autoreload 2\n",
    "%matplotlib inline"
   ]
  },
  {
   "cell_type": "code",
   "execution_count": 2,
   "metadata": {},
   "outputs": [],
   "source": [
    "from fastai.vision import *\n",
    "import geopandas as gpd\n",
    "from resizeimage import resizeimage\n",
    "import datetime\n",
    "import uuid\n",
    "from os import listdir\n",
    "from os.path import isfile, join\n",
    "from ipyexperiments import *\n",
    "import pandas as pd"
   ]
  },
  {
   "cell_type": "code",
   "execution_count": 3,
   "metadata": {},
   "outputs": [
    {
     "data": {
      "text/plain": [
       "1"
      ]
     },
     "execution_count": 3,
     "metadata": {},
     "output_type": "execute_result"
    }
   ],
   "source": [
    "torch.cuda.set_device(1)\n",
    "torch.cuda.current_device()"
   ]
  },
  {
   "cell_type": "code",
   "execution_count": 4,
   "metadata": {},
   "outputs": [],
   "source": [
    "data_dir = Path('data')\n"
   ]
  },
  {
   "cell_type": "code",
   "execution_count": 5,
   "metadata": {},
   "outputs": [],
   "source": [
    "MODEL_NAME='result_QC'"
   ]
  },
  {
   "cell_type": "code",
   "execution_count": 6,
   "metadata": {},
   "outputs": [],
   "source": [
    "NB_NUM='10_0'\n",
    "RUN='0'"
   ]
  },
  {
   "cell_type": "code",
   "execution_count": 7,
   "metadata": {},
   "outputs": [
    {
     "name": "stdout",
     "output_type": "stream",
     "text": [
      "UID: c5dbcee4, DATE: 20191130\n"
     ]
    }
   ],
   "source": [
    "DATE = datetime.datetime.today().strftime('%Y%m%d')\n",
    "UID=str(uuid.uuid4())[:8]\n",
    "print(f'UID: {UID}, DATE: {DATE}')                                                 "
   ]
  },
  {
   "cell_type": "code",
   "execution_count": 8,
   "metadata": {},
   "outputs": [],
   "source": [
    "#DATE = '20191124'\n",
    "#UID = '1328c588'"
   ]
  },
  {
   "cell_type": "code",
   "execution_count": 9,
   "metadata": {},
   "outputs": [],
   "source": [
    "SUB_NUM='2'"
   ]
  },
  {
   "cell_type": "code",
   "execution_count": 10,
   "metadata": {},
   "outputs": [],
   "source": [
    "img_size=256\n",
    "bs=128"
   ]
  },
  {
   "cell_type": "code",
   "execution_count": 11,
   "metadata": {},
   "outputs": [],
   "source": [
    "train_images=data_dir/f'train/rotated/clipped/{img_size}'\n",
    "test_images=data_dir/f'test/rotated/clipped/{img_size}'"
   ]
  },
  {
   "cell_type": "code",
   "execution_count": 12,
   "metadata": {},
   "outputs": [],
   "source": [
    "batch_runs_df=pd.read_csv(data_dir/f'processing/8daa24a2_clean.txt', delimiter=':', names=[\"epoch\", \"valid_loss\", \"model\"])"
   ]
  },
  {
   "cell_type": "code",
   "execution_count": 13,
   "metadata": {},
   "outputs": [
    {
     "data": {
      "text/html": [
       "<div>\n",
       "<style scoped>\n",
       "    .dataframe tbody tr th:only-of-type {\n",
       "        vertical-align: middle;\n",
       "    }\n",
       "\n",
       "    .dataframe tbody tr th {\n",
       "        vertical-align: top;\n",
       "    }\n",
       "\n",
       "    .dataframe thead th {\n",
       "        text-align: right;\n",
       "    }\n",
       "</style>\n",
       "<table border=\"1\" class=\"dataframe\">\n",
       "  <thead>\n",
       "    <tr style=\"text-align: right;\">\n",
       "      <th></th>\n",
       "      <th>epoch</th>\n",
       "      <th>valid_loss</th>\n",
       "      <th>model</th>\n",
       "    </tr>\n",
       "  </thead>\n",
       "  <tbody>\n",
       "    <tr>\n",
       "      <td>0</td>\n",
       "      <td>0</td>\n",
       "      <td>0.770429</td>\n",
       "      <td>dn121-10_0-roof_material-5-cef-20191127-8daa24a2</td>\n",
       "    </tr>\n",
       "    <tr>\n",
       "      <td>1</td>\n",
       "      <td>1</td>\n",
       "      <td>0.615580</td>\n",
       "      <td>dn121-10_0-roof_material-5-cef-20191127-8daa24a2</td>\n",
       "    </tr>\n",
       "    <tr>\n",
       "      <td>2</td>\n",
       "      <td>2</td>\n",
       "      <td>0.525846</td>\n",
       "      <td>dn121-10_0-roof_material-5-cef-20191127-8daa24a2</td>\n",
       "    </tr>\n",
       "    <tr>\n",
       "      <td>3</td>\n",
       "      <td>3</td>\n",
       "      <td>0.509258</td>\n",
       "      <td>dn121-10_0-roof_material-5-cef-20191127-8daa24a2</td>\n",
       "    </tr>\n",
       "    <tr>\n",
       "      <td>4</td>\n",
       "      <td>4</td>\n",
       "      <td>0.500766</td>\n",
       "      <td>dn121-10_0-roof_material-5-cef-20191127-8daa24a2</td>\n",
       "    </tr>\n",
       "  </tbody>\n",
       "</table>\n",
       "</div>"
      ],
      "text/plain": [
       "   epoch  valid_loss                                              model\n",
       "0      0    0.770429   dn121-10_0-roof_material-5-cef-20191127-8daa24a2\n",
       "1      1    0.615580   dn121-10_0-roof_material-5-cef-20191127-8daa24a2\n",
       "2      2    0.525846   dn121-10_0-roof_material-5-cef-20191127-8daa24a2\n",
       "3      3    0.509258   dn121-10_0-roof_material-5-cef-20191127-8daa24a2\n",
       "4      4    0.500766   dn121-10_0-roof_material-5-cef-20191127-8daa24a2"
      ]
     },
     "execution_count": 13,
     "metadata": {},
     "output_type": "execute_result"
    }
   ],
   "source": [
    "batch_runs_df.head()"
   ]
  },
  {
   "cell_type": "code",
   "execution_count": 14,
   "metadata": {},
   "outputs": [],
   "source": [
    "models=batch_runs_df.model.unique()"
   ]
  },
  {
   "cell_type": "code",
   "execution_count": 15,
   "metadata": {},
   "outputs": [],
   "source": [
    "model_dfs={}\n",
    "useable_df={}"
   ]
  },
  {
   "cell_type": "code",
   "execution_count": 16,
   "metadata": {},
   "outputs": [
    {
     "name": "stdout",
     "output_type": "stream",
     "text": [
      "0.4612890779972077\n",
      "0.4316668808460236\n",
      "0.4822363257408142\n",
      "0.4696026146411896\n",
      "0.4734733700752258\n",
      "0.473246693611145\n",
      "0.4594766497612\n",
      "0.43135055899620056\n",
      "0.4750053584575653\n",
      "0.4799478650093079\n",
      "0.4814993739128113\n",
      "0.4717568159103394\n",
      "0.4662067890167236\n",
      "0.4310843646526337\n",
      "0.4722830653190613\n",
      "0.4766620993614197\n",
      "0.4689280390739441\n",
      "0.4760406911373138\n"
     ]
    }
   ],
   "source": [
    "for model in models:\n",
    "    df = batch_runs_df.loc[batch_runs_df['model']==model]\n",
    "    model_dfs[model]=df\n",
    "    if df.valid_loss.min()<0.6:\n",
    "        useable_df[model]=df\n",
    "        print(df.valid_loss.min())"
   ]
  },
  {
   "cell_type": "code",
   "execution_count": 17,
   "metadata": {},
   "outputs": [
    {
     "data": {
      "text/plain": [
       "dict_keys([' dn121-10_0-roof_material-5-cef-20191127-8daa24a2', ' rn152-10_0-roof_material-5-cef-20191127-8daa24a2', ' rn50-10_0-roof_material-5-cef-20191127-8daa24a2', ' dn121-10_0-country-5-cef-20191127-8daa24a2', ' rn152-10_0-country-5-cef-20191127-8daa24a2', ' rn50-10_0-country-5-cef-20191127-8daa24a2', ' dn121-10_1-roof_material-5-cef-20191127-8daa24a2', ' rn152-10_1-roof_material-5-cef-20191127-8daa24a2', ' rn50-10_1-roof_material-5-cef-20191127-8daa24a2', ' dn121-10_1-country-5-cef-20191127-8daa24a2', ' rn152-10_1-country-5-cef-20191127-8daa24a2', ' rn50-10_1-country-5-cef-20191127-8daa24a2', ' dn121-10_2-roof_material-5-cef-20191127-8daa24a2', ' rn152-10_2-roof_material-5-cef-20191127-8daa24a2', ' rn50-10_2-roof_material-5-cef-20191127-8daa24a2', ' dn121-10_2-country-5-cef-20191127-8daa24a2', ' rn152-10_2-country-5-cef-20191127-8daa24a2', ' rn50-10_2-country-5-cef-20191127-8daa24a2'])"
      ]
     },
     "execution_count": 17,
     "metadata": {},
     "output_type": "execute_result"
    }
   ],
   "source": [
    "useable_df.keys()"
   ]
  },
  {
   "cell_type": "code",
   "execution_count": 18,
   "metadata": {},
   "outputs": [
    {
     "data": {
      "text/plain": [
       "18"
      ]
     },
     "execution_count": 18,
     "metadata": {},
     "output_type": "execute_result"
    }
   ],
   "source": [
    "len(useable_df)"
   ]
  },
  {
   "cell_type": "code",
   "execution_count": 19,
   "metadata": {},
   "outputs": [
    {
     "data": {
      "image/png": "[encoded data removed]",
      "text/plain": [
       "<Figure size 432x288 with 1 Axes>"
      ]
     },
     "metadata": {
      "needs_background": "light"
     },
     "output_type": "display_data"
    },
    {
     "data": {
      "image/png": "[encoded data removed]",
      "text/plain": [
       "<Figure size 432x288 with 1 Axes>"
      ]
     },
     "metadata": {
      "needs_background": "light"
     },
     "output_type": "display_data"
    },
    {
     "data": {
      "image/png": "[encoded data removed]",
      "text/plain": [
       "<Figure size 432x288 with 1 Axes>"
      ]
     },
     "metadata": {
      "needs_background": "light"
     },
     "output_type": "display_data"
    },
    {
     "data": {
      "image/png": "[encoded data removed]",
      "text/plain": [
       "<Figure size 432x288 with 1 Axes>"
      ]
     },
     "metadata": {
      "needs_background": "light"
     },
     "output_type": "display_data"
    },
    {
     "data": {
      "image/png": "[encoded data removed]",
      "text/plain": [
       "<Figure size 432x288 with 1 Axes>"
      ]
     },
     "metadata": {
      "needs_background": "light"
     },
     "output_type": "display_data"
    },
    {
     "data": {
      "image/png": "[encoded data removed]",
      "text/plain": [
       "<Figure size 432x288 with 1 Axes>"
      ]
     },
     "metadata": {
      "needs_background": "light"
     },
     "output_type": "display_data"
    },
    {
     "data": {
      "image/png": "[encoded data removed]",
      "text/plain": [
       "<Figure size 432x288 with 1 Axes>"
      ]
     },
     "metadata": {
      "needs_background": "light"
     },
     "output_type": "display_data"
    },
    {
     "data": {
      "image/png": "[encoded data removed]",
      "text/plain": [
       "<Figure size 432x288 with 1 Axes>"
      ]
     },
     "metadata": {
      "needs_background": "light"
     },
     "output_type": "display_data"
    },
    {
     "data": {
      "image/png": "[encoded data removed]",
      "text/plain": [
       "<Figure size 432x288 with 1 Axes>"
      ]
     },
     "metadata": {
      "needs_background": "light"
     },
     "output_type": "display_data"
    },
    {
     "data": {
      "image/png": "[encoded data removed]",
      "text/plain": [
       "<Figure size 432x288 with 1 Axes>"
      ]
     },
     "metadata": {
      "needs_background": "light"
     },
     "output_type": "display_data"
    },
    {
     "data": {
      "image/png": "[encoded data removed]",
      "text/plain": [
       "<Figure size 432x288 with 1 Axes>"
      ]
     },
     "metadata": {
      "needs_background": "light"
     },
     "output_type": "display_data"
    },
    {
     "data": {
      "image/png": "[encoded data removed]",
      "text/plain": [
       "<Figure size 432x288 with 1 Axes>"
      ]
     },
     "metadata": {
      "needs_background": "light"
     },
     "output_type": "display_data"
    },
    {
     "data": {
      "image/png": "[encoded data removed]",
      "text/plain": [
       "<Figure size 432x288 with 1 Axes>"
      ]
     },
     "metadata": {
      "needs_background": "light"
     },
     "output_type": "display_data"
    },
    {
     "data": {
      "image/png": "[encoded data removed]",
      "text/plain": [
       "<Figure size 432x288 with 1 Axes>"
      ]
     },
     "metadata": {
      "needs_background": "light"
     },
     "output_type": "display_data"
    },
    {
     "data": {
      "image/png": "[encoded data removed]",
      "text/plain": [
       "<Figure size 432x288 with 1 Axes>"
      ]
     },
     "metadata": {
      "needs_background": "light"
     },
     "output_type": "display_data"
    },
    {
     "data": {
      "image/png": "[encoded data removed]",
      "text/plain": [
       "<Figure size 432x288 with 1 Axes>"
      ]
     },
     "metadata": {
      "needs_background": "light"
     },
     "output_type": "display_data"
    },
    {
     "data": {
      "image/png": "[encoded data removed]",
      "text/plain": [
       "<Figure size 432x288 with 1 Axes>"
      ]
     },
     "metadata": {
      "needs_background": "light"
     },
     "output_type": "display_data"
    },
    {
     "data": {
      "image/png": "[encoded data removed]",
      "text/plain": [
       "<Figure size 432x288 with 1 Axes>"
      ]
     },
     "metadata": {
      "needs_background": "light"
     },
     "output_type": "display_data"
    }
   ],
   "source": [
    "for key, value in useable_df.items():\n",
    "    plt.figure()\n",
    "    x = value['epoch']\n",
    "    y1 = value['valid_loss']\n",
    "    plt.plot(x,y1)\n",
    "    #plt.ylim(0, 1)\n",
    "    plt.title(key)"
   ]
  },
  {
   "cell_type": "markdown",
   "metadata": {},
   "source": [
    "No Label Smoothing models were any good"
   ]
  },
  {
   "cell_type": "code",
   "execution_count": 20,
   "metadata": {},
   "outputs": [],
   "source": [
    "en_df=pd.read_csv(data_dir/f'processing/3c19f55d_run.txt', delimiter=':', names=[\"epoch\", \"valid_loss\", \"model\"])"
   ]
  },
  {
   "cell_type": "code",
   "execution_count": 21,
   "metadata": {},
   "outputs": [
    {
     "data": {
      "text/html": [
       "<div>\n",
       "<style scoped>\n",
       "    .dataframe tbody tr th:only-of-type {\n",
       "        vertical-align: middle;\n",
       "    }\n",
       "\n",
       "    .dataframe tbody tr th {\n",
       "        vertical-align: top;\n",
       "    }\n",
       "\n",
       "    .dataframe thead th {\n",
       "        text-align: right;\n",
       "    }\n",
       "</style>\n",
       "<table border=\"1\" class=\"dataframe\">\n",
       "  <thead>\n",
       "    <tr style=\"text-align: right;\">\n",
       "      <th></th>\n",
       "      <th>epoch</th>\n",
       "      <th>valid_loss</th>\n",
       "      <th>model</th>\n",
       "    </tr>\n",
       "  </thead>\n",
       "  <tbody>\n",
       "    <tr>\n",
       "      <td>0</td>\n",
       "      <td>0</td>\n",
       "      <td>0.934998</td>\n",
       "      <td>best-efficient_net_b4-06_16-efficientnet-2019...</td>\n",
       "    </tr>\n",
       "    <tr>\n",
       "      <td>1</td>\n",
       "      <td>1</td>\n",
       "      <td>0.867647</td>\n",
       "      <td>best-efficient_net_b4-06_16-efficientnet-2019...</td>\n",
       "    </tr>\n",
       "    <tr>\n",
       "      <td>2</td>\n",
       "      <td>4</td>\n",
       "      <td>0.848041</td>\n",
       "      <td>best-efficient_net_b4-06_16-efficientnet-2019...</td>\n",
       "    </tr>\n",
       "    <tr>\n",
       "      <td>3</td>\n",
       "      <td>5</td>\n",
       "      <td>0.740643</td>\n",
       "      <td>best-efficient_net_b4-06_16-efficientnet-2019...</td>\n",
       "    </tr>\n",
       "    <tr>\n",
       "      <td>4</td>\n",
       "      <td>6</td>\n",
       "      <td>0.703647</td>\n",
       "      <td>best-efficient_net_b4-06_16-efficientnet-2019...</td>\n",
       "    </tr>\n",
       "    <tr>\n",
       "      <td>5</td>\n",
       "      <td>7</td>\n",
       "      <td>0.688994</td>\n",
       "      <td>best-efficient_net_b4-06_16-efficientnet-2019...</td>\n",
       "    </tr>\n",
       "    <tr>\n",
       "      <td>6</td>\n",
       "      <td>8</td>\n",
       "      <td>0.631526</td>\n",
       "      <td>best-efficient_net_b4-06_16-efficientnet-2019...</td>\n",
       "    </tr>\n",
       "    <tr>\n",
       "      <td>7</td>\n",
       "      <td>9</td>\n",
       "      <td>0.599729</td>\n",
       "      <td>best-efficient_net_b4-06_16-efficientnet-2019...</td>\n",
       "    </tr>\n",
       "    <tr>\n",
       "      <td>8</td>\n",
       "      <td>10</td>\n",
       "      <td>0.581946</td>\n",
       "      <td>best-efficient_net_b4-06_16-efficientnet-2019...</td>\n",
       "    </tr>\n",
       "    <tr>\n",
       "      <td>9</td>\n",
       "      <td>11</td>\n",
       "      <td>0.573472</td>\n",
       "      <td>best-efficient_net_b4-06_16-efficientnet-2019...</td>\n",
       "    </tr>\n",
       "    <tr>\n",
       "      <td>10</td>\n",
       "      <td>12</td>\n",
       "      <td>0.561193</td>\n",
       "      <td>best-efficient_net_b4-06_16-efficientnet-2019...</td>\n",
       "    </tr>\n",
       "    <tr>\n",
       "      <td>11</td>\n",
       "      <td>13</td>\n",
       "      <td>0.557018</td>\n",
       "      <td>best-efficient_net_b4-06_16-efficientnet-2019...</td>\n",
       "    </tr>\n",
       "    <tr>\n",
       "      <td>12</td>\n",
       "      <td>Loading previous model with loss</td>\n",
       "      <td>0.557018</td>\n",
       "      <td>best-efficient_net_b4-06_16-efficientnet-2019...</td>\n",
       "    </tr>\n",
       "    <tr>\n",
       "      <td>13</td>\n",
       "      <td>0</td>\n",
       "      <td>0.554724</td>\n",
       "      <td>best-efficient_net_b4-06_16-efficientnet-2019...</td>\n",
       "    </tr>\n",
       "    <tr>\n",
       "      <td>14</td>\n",
       "      <td>1</td>\n",
       "      <td>0.512044</td>\n",
       "      <td>best-efficient_net_b4-06_16-efficientnet-2019...</td>\n",
       "    </tr>\n",
       "    <tr>\n",
       "      <td>15</td>\n",
       "      <td>3</td>\n",
       "      <td>0.491563</td>\n",
       "      <td>best-efficient_net_b4-06_16-efficientnet-2019...</td>\n",
       "    </tr>\n",
       "    <tr>\n",
       "      <td>16</td>\n",
       "      <td>4</td>\n",
       "      <td>0.490605</td>\n",
       "      <td>best-efficient_net_b4-06_16-efficientnet-2019...</td>\n",
       "    </tr>\n",
       "  </tbody>\n",
       "</table>\n",
       "</div>"
      ],
      "text/plain": [
       "                               epoch  valid_loss  \\\n",
       "0                                  0    0.934998   \n",
       "1                                  1    0.867647   \n",
       "2                                  4    0.848041   \n",
       "3                                  5    0.740643   \n",
       "4                                  6    0.703647   \n",
       "5                                  7    0.688994   \n",
       "6                                  8    0.631526   \n",
       "7                                  9    0.599729   \n",
       "8                                 10    0.581946   \n",
       "9                                 11    0.573472   \n",
       "10                                12    0.561193   \n",
       "11                                13    0.557018   \n",
       "12  Loading previous model with loss    0.557018   \n",
       "13                                 0    0.554724   \n",
       "14                                 1    0.512044   \n",
       "15                                 3    0.491563   \n",
       "16                                 4    0.490605   \n",
       "\n",
       "                                                model  \n",
       "0    best-efficient_net_b4-06_16-efficientnet-2019...  \n",
       "1    best-efficient_net_b4-06_16-efficientnet-2019...  \n",
       "2    best-efficient_net_b4-06_16-efficientnet-2019...  \n",
       "3    best-efficient_net_b4-06_16-efficientnet-2019...  \n",
       "4    best-efficient_net_b4-06_16-efficientnet-2019...  \n",
       "5    best-efficient_net_b4-06_16-efficientnet-2019...  \n",
       "6    best-efficient_net_b4-06_16-efficientnet-2019...  \n",
       "7    best-efficient_net_b4-06_16-efficientnet-2019...  \n",
       "8    best-efficient_net_b4-06_16-efficientnet-2019...  \n",
       "9    best-efficient_net_b4-06_16-efficientnet-2019...  \n",
       "10   best-efficient_net_b4-06_16-efficientnet-2019...  \n",
       "11   best-efficient_net_b4-06_16-efficientnet-2019...  \n",
       "12   best-efficient_net_b4-06_16-efficientnet-2019...  \n",
       "13   best-efficient_net_b4-06_16-efficientnet-2019...  \n",
       "14   best-efficient_net_b4-06_16-efficientnet-2019...  \n",
       "15   best-efficient_net_b4-06_16-efficientnet-2019...  \n",
       "16   best-efficient_net_b4-06_16-efficientnet-2019...  "
      ]
     },
     "execution_count": 21,
     "metadata": {},
     "output_type": "execute_result"
    }
   ],
   "source": [
    "en_df.head(n=20)"
   ]
  },
  {
   "cell_type": "code",
   "execution_count": 22,
   "metadata": {},
   "outputs": [],
   "source": [
    "en_df=en_df.drop(en_df.index[12])"
   ]
  },
  {
   "cell_type": "code",
   "execution_count": 23,
   "metadata": {},
   "outputs": [
    {
     "data": {
      "text/html": [
       "<div>\n",
       "<style scoped>\n",
       "    .dataframe tbody tr th:only-of-type {\n",
       "        vertical-align: middle;\n",
       "    }\n",
       "\n",
       "    .dataframe tbody tr th {\n",
       "        vertical-align: top;\n",
       "    }\n",
       "\n",
       "    .dataframe thead th {\n",
       "        text-align: right;\n",
       "    }\n",
       "</style>\n",
       "<table border=\"1\" class=\"dataframe\">\n",
       "  <thead>\n",
       "    <tr style=\"text-align: right;\">\n",
       "      <th></th>\n",
       "      <th>epoch</th>\n",
       "      <th>valid_loss</th>\n",
       "      <th>model</th>\n",
       "    </tr>\n",
       "  </thead>\n",
       "  <tbody>\n",
       "    <tr>\n",
       "      <td>0</td>\n",
       "      <td>0</td>\n",
       "      <td>0.934998</td>\n",
       "      <td>best-efficient_net_b4-06_16-efficientnet-2019...</td>\n",
       "    </tr>\n",
       "    <tr>\n",
       "      <td>1</td>\n",
       "      <td>1</td>\n",
       "      <td>0.867647</td>\n",
       "      <td>best-efficient_net_b4-06_16-efficientnet-2019...</td>\n",
       "    </tr>\n",
       "    <tr>\n",
       "      <td>2</td>\n",
       "      <td>4</td>\n",
       "      <td>0.848041</td>\n",
       "      <td>best-efficient_net_b4-06_16-efficientnet-2019...</td>\n",
       "    </tr>\n",
       "    <tr>\n",
       "      <td>3</td>\n",
       "      <td>5</td>\n",
       "      <td>0.740643</td>\n",
       "      <td>best-efficient_net_b4-06_16-efficientnet-2019...</td>\n",
       "    </tr>\n",
       "    <tr>\n",
       "      <td>4</td>\n",
       "      <td>6</td>\n",
       "      <td>0.703647</td>\n",
       "      <td>best-efficient_net_b4-06_16-efficientnet-2019...</td>\n",
       "    </tr>\n",
       "    <tr>\n",
       "      <td>5</td>\n",
       "      <td>7</td>\n",
       "      <td>0.688994</td>\n",
       "      <td>best-efficient_net_b4-06_16-efficientnet-2019...</td>\n",
       "    </tr>\n",
       "    <tr>\n",
       "      <td>6</td>\n",
       "      <td>8</td>\n",
       "      <td>0.631526</td>\n",
       "      <td>best-efficient_net_b4-06_16-efficientnet-2019...</td>\n",
       "    </tr>\n",
       "    <tr>\n",
       "      <td>7</td>\n",
       "      <td>9</td>\n",
       "      <td>0.599729</td>\n",
       "      <td>best-efficient_net_b4-06_16-efficientnet-2019...</td>\n",
       "    </tr>\n",
       "    <tr>\n",
       "      <td>8</td>\n",
       "      <td>10</td>\n",
       "      <td>0.581946</td>\n",
       "      <td>best-efficient_net_b4-06_16-efficientnet-2019...</td>\n",
       "    </tr>\n",
       "    <tr>\n",
       "      <td>9</td>\n",
       "      <td>11</td>\n",
       "      <td>0.573472</td>\n",
       "      <td>best-efficient_net_b4-06_16-efficientnet-2019...</td>\n",
       "    </tr>\n",
       "    <tr>\n",
       "      <td>10</td>\n",
       "      <td>12</td>\n",
       "      <td>0.561193</td>\n",
       "      <td>best-efficient_net_b4-06_16-efficientnet-2019...</td>\n",
       "    </tr>\n",
       "    <tr>\n",
       "      <td>11</td>\n",
       "      <td>13</td>\n",
       "      <td>0.557018</td>\n",
       "      <td>best-efficient_net_b4-06_16-efficientnet-2019...</td>\n",
       "    </tr>\n",
       "    <tr>\n",
       "      <td>13</td>\n",
       "      <td>0</td>\n",
       "      <td>0.554724</td>\n",
       "      <td>best-efficient_net_b4-06_16-efficientnet-2019...</td>\n",
       "    </tr>\n",
       "    <tr>\n",
       "      <td>14</td>\n",
       "      <td>1</td>\n",
       "      <td>0.512044</td>\n",
       "      <td>best-efficient_net_b4-06_16-efficientnet-2019...</td>\n",
       "    </tr>\n",
       "    <tr>\n",
       "      <td>15</td>\n",
       "      <td>3</td>\n",
       "      <td>0.491563</td>\n",
       "      <td>best-efficient_net_b4-06_16-efficientnet-2019...</td>\n",
       "    </tr>\n",
       "    <tr>\n",
       "      <td>16</td>\n",
       "      <td>4</td>\n",
       "      <td>0.490605</td>\n",
       "      <td>best-efficient_net_b4-06_16-efficientnet-2019...</td>\n",
       "    </tr>\n",
       "  </tbody>\n",
       "</table>\n",
       "</div>"
      ],
      "text/plain": [
       "   epoch  valid_loss                                              model\n",
       "0      0    0.934998   best-efficient_net_b4-06_16-efficientnet-2019...\n",
       "1      1    0.867647   best-efficient_net_b4-06_16-efficientnet-2019...\n",
       "2      4    0.848041   best-efficient_net_b4-06_16-efficientnet-2019...\n",
       "3      5    0.740643   best-efficient_net_b4-06_16-efficientnet-2019...\n",
       "4      6    0.703647   best-efficient_net_b4-06_16-efficientnet-2019...\n",
       "5      7    0.688994   best-efficient_net_b4-06_16-efficientnet-2019...\n",
       "6      8    0.631526   best-efficient_net_b4-06_16-efficientnet-2019...\n",
       "7      9    0.599729   best-efficient_net_b4-06_16-efficientnet-2019...\n",
       "8     10    0.581946   best-efficient_net_b4-06_16-efficientnet-2019...\n",
       "9     11    0.573472   best-efficient_net_b4-06_16-efficientnet-2019...\n",
       "10    12    0.561193   best-efficient_net_b4-06_16-efficientnet-2019...\n",
       "11    13    0.557018   best-efficient_net_b4-06_16-efficientnet-2019...\n",
       "13     0    0.554724   best-efficient_net_b4-06_16-efficientnet-2019...\n",
       "14     1    0.512044   best-efficient_net_b4-06_16-efficientnet-2019...\n",
       "15     3    0.491563   best-efficient_net_b4-06_16-efficientnet-2019...\n",
       "16     4    0.490605   best-efficient_net_b4-06_16-efficientnet-2019..."
      ]
     },
     "execution_count": 23,
     "metadata": {},
     "output_type": "execute_result"
    }
   ],
   "source": [
    "en_df.head(n=20)"
   ]
  },
  {
   "cell_type": "code",
   "execution_count": 24,
   "metadata": {},
   "outputs": [],
   "source": [
    "useable_df['best-efficient_net_b4-06_16-efficientnet-20191128-3c19f55d'] = en_df"
   ]
  },
  {
   "cell_type": "code",
   "execution_count": 25,
   "metadata": {},
   "outputs": [
    {
     "data": {
      "text/plain": [
       "[' dn121-10_0-roof_material-5-cef-20191127-8daa24a2',\n",
       " ' rn152-10_0-roof_material-5-cef-20191127-8daa24a2',\n",
       " ' rn50-10_0-roof_material-5-cef-20191127-8daa24a2',\n",
       " ' dn121-10_0-country-5-cef-20191127-8daa24a2',\n",
       " ' rn152-10_0-country-5-cef-20191127-8daa24a2',\n",
       " ' rn50-10_0-country-5-cef-20191127-8daa24a2',\n",
       " ' dn121-10_1-roof_material-5-cef-20191127-8daa24a2',\n",
       " ' rn152-10_1-roof_material-5-cef-20191127-8daa24a2',\n",
       " ' rn50-10_1-roof_material-5-cef-20191127-8daa24a2',\n",
       " ' dn121-10_1-country-5-cef-20191127-8daa24a2',\n",
       " ' rn152-10_1-country-5-cef-20191127-8daa24a2',\n",
       " ' rn50-10_1-country-5-cef-20191127-8daa24a2',\n",
       " ' dn121-10_2-roof_material-5-cef-20191127-8daa24a2',\n",
       " ' rn152-10_2-roof_material-5-cef-20191127-8daa24a2',\n",
       " ' rn50-10_2-roof_material-5-cef-20191127-8daa24a2',\n",
       " ' dn121-10_2-country-5-cef-20191127-8daa24a2',\n",
       " ' rn152-10_2-country-5-cef-20191127-8daa24a2',\n",
       " ' rn50-10_2-country-5-cef-20191127-8daa24a2',\n",
       " 'best-efficient_net_b4-06_16-efficientnet-20191128-3c19f55d']"
      ]
     },
     "execution_count": 25,
     "metadata": {},
     "output_type": "execute_result"
    }
   ],
   "source": [
    "list(useable_df.keys())"
   ]
  },
  {
   "cell_type": "code",
   "execution_count": 26,
   "metadata": {},
   "outputs": [
    {
     "data": {
      "text/plain": [
       "Text(0.5, 1.0, ' rn50-10_2-country-5-cef-20191127-8daa24a2')"
      ]
     },
     "execution_count": 26,
     "metadata": {},
     "output_type": "execute_result"
    },
    {
     "data": {
      "image/png": "[encoded data removed]",
      "text/plain": [
       "<Figure size 432x288 with 1 Axes>"
      ]
     },
     "metadata": {
      "needs_background": "light"
     },
     "output_type": "display_data"
    }
   ],
   "source": [
    "plt.figure()\n",
    "x = en_df['epoch']\n",
    "y1 = en_df['valid_loss']\n",
    "plt.plot(x,y1)\n",
    "#plt.ylim(0, 1)\n",
    "plt.title(key)"
   ]
  },
  {
   "cell_type": "code",
   "execution_count": null,
   "metadata": {},
   "outputs": [],
   "source": []
  },
  {
   "cell_type": "code",
   "execution_count": 27,
   "metadata": {},
   "outputs": [],
   "source": [
    "def gen_df(file_):\n",
    "    df = pd.read_csv(data_dir/f'processing/{file_}')\n",
    "    if file_=='efficientnet_b4-06_16-efficientnet-20191128-3c19f55d.csv':\n",
    "        print('efficientnet_b4')\n",
    "        df['model']='efficientnet_b4'\n",
    "        df['run']=0\n",
    "        df['ttype']='cef'\n",
    "        df['uid']='3c19f55d'\n",
    "    else:\n",
    "        df['model']=file_.split('-')[0]\n",
    "        pfix=file_.split('10_')[1]\n",
    "        run=pfix.split('-')[0]\n",
    "        df['run']=run\n",
    "        ttype=pfix.split(f'{run}-')[1].split('-')[0]\n",
    "        df['ttype']=ttype\n",
    "        df['uid']=file_\n",
    "    return df"
   ]
  },
  {
   "cell_type": "markdown",
   "metadata": {},
   "source": [
    "#### concat predictions"
   ]
  },
  {
   "cell_type": "code",
   "execution_count": 28,
   "metadata": {},
   "outputs": [],
   "source": [
    "def concat_preds_1():\n",
    "    c_list_ = []\n",
    "    rm_list=[]\n",
    "    region_list=[]\n",
    "    data_folder = data_dir/'processing/1_without_cbs/'\n",
    "    for file_ in os.listdir(data_folder):\n",
    "        if file_.endswith('.csv'):\n",
    "            if 'country' in file_:\n",
    "                c_list_.append(gen_df(file_))\n",
    "            elif 'roof_material' in file_:\n",
    "                rm_list.append(gen_df(file_))\n",
    "            elif 'efficientnet' in file_:\n",
    "                rm_list.append(gen_df(file_))\n",
    "            elif 'region' in file_:\n",
    "                region_list.append(gen_df(file_))\n",
    "    df_sl_c = pd.concat(c_list_)\n",
    "    df_sl_rm = pd.concat(rm_list)\n",
    "    df_sl_region = pd.concat(region_list)"
   ]
  },
  {
   "cell_type": "code",
   "execution_count": 29,
   "metadata": {},
   "outputs": [],
   "source": [
    "useable_list=[]\n",
    "for i in list(useable_df.keys()):\n",
    "    fi=i.strip()\n",
    "    #if 'best-efficient' in fi:\n",
    "        #fi = 'efficientnet_b4-06_16-efficientnet-20191128-3c19f55d'\n",
    "    useable_list.append(fi)"
   ]
  },
  {
   "cell_type": "code",
   "execution_count": 30,
   "metadata": {},
   "outputs": [],
   "source": [
    "def concat_preds_2():\n",
    "    rm_list=[]\n",
    "    c_list=[]\n",
    "    r_list=[]\n",
    "    data_folder = data_dir/'processing/'\n",
    "    l=useable_list\n",
    "    ls=[]\n",
    "    f_list=[]\n",
    "    for i in l:\n",
    "        ls.append(i.strip())\n",
    "    for file_ in os.listdir(data_folder):\n",
    "        if file_.endswith('.csv'):\n",
    "            f = file_.replace(\"-all_unverified-\", \"-\")\n",
    "            f=f.strip()\n",
    "            if f.split('.csv')[0] in ls:\n",
    "                if 'roof_material' in f:\n",
    "                    rm_list.append(gen_df(f))\n",
    "                elif 'country' in f:\n",
    "                    c_list.append(gen_df(f))\n",
    "                elif 'region' in f:\n",
    "                    r_list.append(gen_df(f))\n",
    "                #elif 'efficientnet' in f:\n",
    "                #    print('efficientnet')\n",
    "                #    rm_list.append(gen_df(f))\n",
    "                else:\n",
    "                    print(f.split('.csv')[0])\n",
    "                f_list.append(f.split('.csv')[0])\n",
    "    df_roofmat = pd.concat(rm_list)\n",
    "    df_cntry = pd.concat(c_list)\n",
    "    df_region = pd.concat(c_list)\n",
    "    return df_roofmat, df_cntry, df_region, f_list"
   ]
  },
  {
   "cell_type": "code",
   "execution_count": 31,
   "metadata": {},
   "outputs": [],
   "source": [
    "#useable_list"
   ]
  },
  {
   "cell_type": "code",
   "execution_count": 32,
   "metadata": {},
   "outputs": [],
   "source": [
    "#f_list"
   ]
  },
  {
   "cell_type": "code",
   "execution_count": 33,
   "metadata": {},
   "outputs": [
    {
     "name": "stdout",
     "output_type": "stream",
     "text": [
      "best-efficient_net_b4-06_16-efficientnet-20191128-3c19f55d\n"
     ]
    }
   ],
   "source": [
    "df_roofmat, df_cntry, df_region, f_list=concat_preds_2()"
   ]
  },
  {
   "cell_type": "code",
   "execution_count": 34,
   "metadata": {},
   "outputs": [],
   "source": [
    "dif_list = list(set(useable_list) - set(f_list))"
   ]
  },
  {
   "cell_type": "code",
   "execution_count": 35,
   "metadata": {},
   "outputs": [
    {
     "data": {
      "text/plain": [
       "[]"
      ]
     },
     "execution_count": 35,
     "metadata": {},
     "output_type": "execute_result"
    }
   ],
   "source": [
    "dif_list"
   ]
  },
  {
   "cell_type": "code",
   "execution_count": 36,
   "metadata": {},
   "outputs": [
    {
     "data": {
      "text/html": [
       "<div>\n",
       "<style scoped>\n",
       "    .dataframe tbody tr th:only-of-type {\n",
       "        vertical-align: middle;\n",
       "    }\n",
       "\n",
       "    .dataframe tbody tr th {\n",
       "        vertical-align: top;\n",
       "    }\n",
       "\n",
       "    .dataframe thead th {\n",
       "        text-align: right;\n",
       "    }\n",
       "</style>\n",
       "<table border=\"1\" class=\"dataframe\">\n",
       "  <thead>\n",
       "    <tr style=\"text-align: right;\">\n",
       "      <th></th>\n",
       "      <th>id</th>\n",
       "      <th>concrete_cement</th>\n",
       "      <th>healthy_metal</th>\n",
       "      <th>incomplete</th>\n",
       "      <th>irregular_metal</th>\n",
       "      <th>other</th>\n",
       "      <th>model</th>\n",
       "      <th>run</th>\n",
       "      <th>ttype</th>\n",
       "      <th>uid</th>\n",
       "    </tr>\n",
       "  </thead>\n",
       "  <tbody>\n",
       "    <tr>\n",
       "      <td>0</td>\n",
       "      <td>7a24bd7e</td>\n",
       "      <td>0.004939</td>\n",
       "      <td>0.932740</td>\n",
       "      <td>0.001336</td>\n",
       "      <td>0.004563</td>\n",
       "      <td>0.056422</td>\n",
       "      <td>rn152</td>\n",
       "      <td>1</td>\n",
       "      <td>roof_material</td>\n",
       "      <td>rn152-10_1-roof_material-5-cef-20191127-8daa24...</td>\n",
       "    </tr>\n",
       "    <tr>\n",
       "      <td>1</td>\n",
       "      <td>7a2cf00c</td>\n",
       "      <td>0.017172</td>\n",
       "      <td>0.947697</td>\n",
       "      <td>0.004637</td>\n",
       "      <td>0.021555</td>\n",
       "      <td>0.008939</td>\n",
       "      <td>rn152</td>\n",
       "      <td>1</td>\n",
       "      <td>roof_material</td>\n",
       "      <td>rn152-10_1-roof_material-5-cef-20191127-8daa24...</td>\n",
       "    </tr>\n",
       "    <tr>\n",
       "      <td>2</td>\n",
       "      <td>7a3975e8</td>\n",
       "      <td>0.006075</td>\n",
       "      <td>0.975022</td>\n",
       "      <td>0.003209</td>\n",
       "      <td>0.011226</td>\n",
       "      <td>0.004468</td>\n",
       "      <td>rn152</td>\n",
       "      <td>1</td>\n",
       "      <td>roof_material</td>\n",
       "      <td>rn152-10_1-roof_material-5-cef-20191127-8daa24...</td>\n",
       "    </tr>\n",
       "    <tr>\n",
       "      <td>3</td>\n",
       "      <td>7a1d215e</td>\n",
       "      <td>0.002101</td>\n",
       "      <td>0.713817</td>\n",
       "      <td>0.001633</td>\n",
       "      <td>0.014818</td>\n",
       "      <td>0.267632</td>\n",
       "      <td>rn152</td>\n",
       "      <td>1</td>\n",
       "      <td>roof_material</td>\n",
       "      <td>rn152-10_1-roof_material-5-cef-20191127-8daa24...</td>\n",
       "    </tr>\n",
       "    <tr>\n",
       "      <td>4</td>\n",
       "      <td>7a42475e</td>\n",
       "      <td>0.007688</td>\n",
       "      <td>0.964313</td>\n",
       "      <td>0.001483</td>\n",
       "      <td>0.007898</td>\n",
       "      <td>0.018618</td>\n",
       "      <td>rn152</td>\n",
       "      <td>1</td>\n",
       "      <td>roof_material</td>\n",
       "      <td>rn152-10_1-roof_material-5-cef-20191127-8daa24...</td>\n",
       "    </tr>\n",
       "  </tbody>\n",
       "</table>\n",
       "</div>"
      ],
      "text/plain": [
       "         id  concrete_cement  healthy_metal  incomplete  irregular_metal  \\\n",
       "0  7a24bd7e         0.004939       0.932740    0.001336         0.004563   \n",
       "1  7a2cf00c         0.017172       0.947697    0.004637         0.021555   \n",
       "2  7a3975e8         0.006075       0.975022    0.003209         0.011226   \n",
       "3  7a1d215e         0.002101       0.713817    0.001633         0.014818   \n",
       "4  7a42475e         0.007688       0.964313    0.001483         0.007898   \n",
       "\n",
       "      other  model run          ttype  \\\n",
       "0  0.056422  rn152   1  roof_material   \n",
       "1  0.008939  rn152   1  roof_material   \n",
       "2  0.004468  rn152   1  roof_material   \n",
       "3  0.267632  rn152   1  roof_material   \n",
       "4  0.018618  rn152   1  roof_material   \n",
       "\n",
       "                                                 uid  \n",
       "0  rn152-10_1-roof_material-5-cef-20191127-8daa24...  \n",
       "1  rn152-10_1-roof_material-5-cef-20191127-8daa24...  \n",
       "2  rn152-10_1-roof_material-5-cef-20191127-8daa24...  \n",
       "3  rn152-10_1-roof_material-5-cef-20191127-8daa24...  \n",
       "4  rn152-10_1-roof_material-5-cef-20191127-8daa24...  "
      ]
     },
     "execution_count": 36,
     "metadata": {},
     "output_type": "execute_result"
    }
   ],
   "source": [
    "df_roofmat.head()"
   ]
  },
  {
   "cell_type": "code",
   "execution_count": 37,
   "metadata": {},
   "outputs": [
    {
     "data": {
      "text/plain": [
       "array(['rn152-10_1-roof_material-5-cef-20191127-8daa24a2.csv', 'dn121-10_1-roof_material-5-cef-20191127-8daa24a2.csv',\n",
       "       'rn50-10_0-roof_material-5-cef-20191127-8daa24a2.csv', 'rn50-10_1-roof_material-5-cef-20191127-8daa24a2.csv',\n",
       "       'rn152-10_2-roof_material-5-cef-20191127-8daa24a2.csv', 'rn50-10_2-roof_material-5-cef-20191127-8daa24a2.csv',\n",
       "       'dn121-10_0-roof_material-5-cef-20191127-8daa24a2.csv', 'dn121-10_2-roof_material-5-cef-20191127-8daa24a2.csv',\n",
       "       'rn152-10_0-roof_material-5-cef-20191127-8daa24a2.csv'], dtype=object)"
      ]
     },
     "execution_count": 37,
     "metadata": {},
     "output_type": "execute_result"
    }
   ],
   "source": [
    "df_roofmat.uid.unique()"
   ]
  },
  {
   "cell_type": "code",
   "execution_count": 38,
   "metadata": {},
   "outputs": [
    {
     "data": {
      "text/html": [
       "<div>\n",
       "<style scoped>\n",
       "    .dataframe tbody tr th:only-of-type {\n",
       "        vertical-align: middle;\n",
       "    }\n",
       "\n",
       "    .dataframe tbody tr th {\n",
       "        vertical-align: top;\n",
       "    }\n",
       "\n",
       "    .dataframe thead th {\n",
       "        text-align: right;\n",
       "    }\n",
       "</style>\n",
       "<table border=\"1\" class=\"dataframe\">\n",
       "  <thead>\n",
       "    <tr style=\"text-align: right;\">\n",
       "      <th></th>\n",
       "      <th>id</th>\n",
       "      <th>concrete_cement_colombia</th>\n",
       "      <th>concrete_cement_guatemala</th>\n",
       "      <th>concrete_cement_st_lucia</th>\n",
       "      <th>healthy_metal_colombia</th>\n",
       "      <th>healthy_metal_guatemala</th>\n",
       "      <th>healthy_metal_st_lucia</th>\n",
       "      <th>incomplete_colombia</th>\n",
       "      <th>incomplete_st_lucia</th>\n",
       "      <th>irregular_metal_colombia</th>\n",
       "      <th>irregular_metal_guatemala</th>\n",
       "      <th>irregular_metal_st_lucia</th>\n",
       "      <th>other_colombia</th>\n",
       "      <th>other_guatemala</th>\n",
       "      <th>other_st_lucia</th>\n",
       "      <th>model</th>\n",
       "      <th>run</th>\n",
       "      <th>ttype</th>\n",
       "      <th>uid</th>\n",
       "    </tr>\n",
       "  </thead>\n",
       "  <tbody>\n",
       "    <tr>\n",
       "      <td>0</td>\n",
       "      <td>7a24bd7e</td>\n",
       "      <td>0.000505</td>\n",
       "      <td>0.002495</td>\n",
       "      <td>0.006808</td>\n",
       "      <td>0.000410</td>\n",
       "      <td>0.000241</td>\n",
       "      <td>0.953270</td>\n",
       "      <td>0.000137</td>\n",
       "      <td>0.000654</td>\n",
       "      <td>0.000182</td>\n",
       "      <td>0.000280</td>\n",
       "      <td>0.003733</td>\n",
       "      <td>0.000470</td>\n",
       "      <td>0.029239</td>\n",
       "      <td>0.001576</td>\n",
       "      <td>rn50</td>\n",
       "      <td>2</td>\n",
       "      <td>country</td>\n",
       "      <td>rn50-10_2-country-5-cef-20191127-8daa24a2.csv</td>\n",
       "    </tr>\n",
       "    <tr>\n",
       "      <td>1</td>\n",
       "      <td>7a2cf00c</td>\n",
       "      <td>0.010805</td>\n",
       "      <td>0.133181</td>\n",
       "      <td>0.019100</td>\n",
       "      <td>0.051424</td>\n",
       "      <td>0.263356</td>\n",
       "      <td>0.396560</td>\n",
       "      <td>0.019273</td>\n",
       "      <td>0.006037</td>\n",
       "      <td>0.039630</td>\n",
       "      <td>0.010314</td>\n",
       "      <td>0.006121</td>\n",
       "      <td>0.016071</td>\n",
       "      <td>0.026755</td>\n",
       "      <td>0.001372</td>\n",
       "      <td>rn50</td>\n",
       "      <td>2</td>\n",
       "      <td>country</td>\n",
       "      <td>rn50-10_2-country-5-cef-20191127-8daa24a2.csv</td>\n",
       "    </tr>\n",
       "    <tr>\n",
       "      <td>2</td>\n",
       "      <td>7a3975e8</td>\n",
       "      <td>0.004618</td>\n",
       "      <td>0.001411</td>\n",
       "      <td>0.002768</td>\n",
       "      <td>0.065473</td>\n",
       "      <td>0.006193</td>\n",
       "      <td>0.849746</td>\n",
       "      <td>0.002883</td>\n",
       "      <td>0.002225</td>\n",
       "      <td>0.036617</td>\n",
       "      <td>0.005119</td>\n",
       "      <td>0.009132</td>\n",
       "      <td>0.003953</td>\n",
       "      <td>0.001582</td>\n",
       "      <td>0.008280</td>\n",
       "      <td>rn50</td>\n",
       "      <td>2</td>\n",
       "      <td>country</td>\n",
       "      <td>rn50-10_2-country-5-cef-20191127-8daa24a2.csv</td>\n",
       "    </tr>\n",
       "    <tr>\n",
       "      <td>3</td>\n",
       "      <td>7a1d215e</td>\n",
       "      <td>0.000175</td>\n",
       "      <td>0.000265</td>\n",
       "      <td>0.000417</td>\n",
       "      <td>0.000514</td>\n",
       "      <td>0.000177</td>\n",
       "      <td>0.989979</td>\n",
       "      <td>0.000148</td>\n",
       "      <td>0.000364</td>\n",
       "      <td>0.000157</td>\n",
       "      <td>0.000224</td>\n",
       "      <td>0.004457</td>\n",
       "      <td>0.000508</td>\n",
       "      <td>0.000422</td>\n",
       "      <td>0.002192</td>\n",
       "      <td>rn50</td>\n",
       "      <td>2</td>\n",
       "      <td>country</td>\n",
       "      <td>rn50-10_2-country-5-cef-20191127-8daa24a2.csv</td>\n",
       "    </tr>\n",
       "    <tr>\n",
       "      <td>4</td>\n",
       "      <td>7a42475e</td>\n",
       "      <td>0.011410</td>\n",
       "      <td>0.021139</td>\n",
       "      <td>0.008054</td>\n",
       "      <td>0.015009</td>\n",
       "      <td>0.002517</td>\n",
       "      <td>0.627861</td>\n",
       "      <td>0.000862</td>\n",
       "      <td>0.001490</td>\n",
       "      <td>0.000921</td>\n",
       "      <td>0.001612</td>\n",
       "      <td>0.004258</td>\n",
       "      <td>0.001577</td>\n",
       "      <td>0.302497</td>\n",
       "      <td>0.000793</td>\n",
       "      <td>rn50</td>\n",
       "      <td>2</td>\n",
       "      <td>country</td>\n",
       "      <td>rn50-10_2-country-5-cef-20191127-8daa24a2.csv</td>\n",
       "    </tr>\n",
       "  </tbody>\n",
       "</table>\n",
       "</div>"
      ],
      "text/plain": [
       "         id  concrete_cement_colombia  concrete_cement_guatemala  \\\n",
       "0  7a24bd7e                  0.000505                   0.002495   \n",
       "1  7a2cf00c                  0.010805                   0.133181   \n",
       "2  7a3975e8                  0.004618                   0.001411   \n",
       "3  7a1d215e                  0.000175                   0.000265   \n",
       "4  7a42475e                  0.011410                   0.021139   \n",
       "\n",
       "   concrete_cement_st_lucia  healthy_metal_colombia  healthy_metal_guatemala  \\\n",
       "0                  0.006808                0.000410                 0.000241   \n",
       "1                  0.019100                0.051424                 0.263356   \n",
       "2                  0.002768                0.065473                 0.006193   \n",
       "3                  0.000417                0.000514                 0.000177   \n",
       "4                  0.008054                0.015009                 0.002517   \n",
       "\n",
       "   healthy_metal_st_lucia  incomplete_colombia  incomplete_st_lucia  \\\n",
       "0                0.953270             0.000137             0.000654   \n",
       "1                0.396560             0.019273             0.006037   \n",
       "2                0.849746             0.002883             0.002225   \n",
       "3                0.989979             0.000148             0.000364   \n",
       "4                0.627861             0.000862             0.001490   \n",
       "\n",
       "   irregular_metal_colombia  irregular_metal_guatemala  \\\n",
       "0                  0.000182                   0.000280   \n",
       "1                  0.039630                   0.010314   \n",
       "2                  0.036617                   0.005119   \n",
       "3                  0.000157                   0.000224   \n",
       "4                  0.000921                   0.001612   \n",
       "\n",
       "   irregular_metal_st_lucia  other_colombia  other_guatemala  other_st_lucia  \\\n",
       "0                  0.003733        0.000470         0.029239        0.001576   \n",
       "1                  0.006121        0.016071         0.026755        0.001372   \n",
       "2                  0.009132        0.003953         0.001582        0.008280   \n",
       "3                  0.004457        0.000508         0.000422        0.002192   \n",
       "4                  0.004258        0.001577         0.302497        0.000793   \n",
       "\n",
       "  model run    ttype                                            uid  \n",
       "0  rn50   2  country  rn50-10_2-country-5-cef-20191127-8daa24a2.csv  \n",
       "1  rn50   2  country  rn50-10_2-country-5-cef-20191127-8daa24a2.csv  \n",
       "2  rn50   2  country  rn50-10_2-country-5-cef-20191127-8daa24a2.csv  \n",
       "3  rn50   2  country  rn50-10_2-country-5-cef-20191127-8daa24a2.csv  \n",
       "4  rn50   2  country  rn50-10_2-country-5-cef-20191127-8daa24a2.csv  "
      ]
     },
     "execution_count": 38,
     "metadata": {},
     "output_type": "execute_result"
    }
   ],
   "source": [
    "df_region.head()"
   ]
  },
  {
   "cell_type": "code",
   "execution_count": 39,
   "metadata": {},
   "outputs": [
    {
     "data": {
      "text/plain": [
       "array(['rn50', 'rn152', 'dn121'], dtype=object)"
      ]
     },
     "execution_count": 39,
     "metadata": {},
     "output_type": "execute_result"
    }
   ],
   "source": [
    "df_region.model.unique()"
   ]
  },
  {
   "cell_type": "code",
   "execution_count": 40,
   "metadata": {},
   "outputs": [
    {
     "data": {
      "text/html": [
       "<div>\n",
       "<style scoped>\n",
       "    .dataframe tbody tr th:only-of-type {\n",
       "        vertical-align: middle;\n",
       "    }\n",
       "\n",
       "    .dataframe tbody tr th {\n",
       "        vertical-align: top;\n",
       "    }\n",
       "\n",
       "    .dataframe thead th {\n",
       "        text-align: right;\n",
       "    }\n",
       "</style>\n",
       "<table border=\"1\" class=\"dataframe\">\n",
       "  <thead>\n",
       "    <tr style=\"text-align: right;\">\n",
       "      <th></th>\n",
       "      <th>id</th>\n",
       "      <th>concrete_cement_colombia</th>\n",
       "      <th>concrete_cement_guatemala</th>\n",
       "      <th>concrete_cement_st_lucia</th>\n",
       "      <th>healthy_metal_colombia</th>\n",
       "      <th>healthy_metal_guatemala</th>\n",
       "      <th>healthy_metal_st_lucia</th>\n",
       "      <th>incomplete_colombia</th>\n",
       "      <th>incomplete_st_lucia</th>\n",
       "      <th>irregular_metal_colombia</th>\n",
       "      <th>irregular_metal_guatemala</th>\n",
       "      <th>irregular_metal_st_lucia</th>\n",
       "      <th>other_colombia</th>\n",
       "      <th>other_guatemala</th>\n",
       "      <th>other_st_lucia</th>\n",
       "      <th>model</th>\n",
       "      <th>run</th>\n",
       "      <th>ttype</th>\n",
       "      <th>uid</th>\n",
       "    </tr>\n",
       "  </thead>\n",
       "  <tbody>\n",
       "    <tr>\n",
       "      <td>0</td>\n",
       "      <td>7a24bd7e</td>\n",
       "      <td>0.000505</td>\n",
       "      <td>0.002495</td>\n",
       "      <td>0.006808</td>\n",
       "      <td>0.000410</td>\n",
       "      <td>0.000241</td>\n",
       "      <td>0.953270</td>\n",
       "      <td>0.000137</td>\n",
       "      <td>0.000654</td>\n",
       "      <td>0.000182</td>\n",
       "      <td>0.000280</td>\n",
       "      <td>0.003733</td>\n",
       "      <td>0.000470</td>\n",
       "      <td>0.029239</td>\n",
       "      <td>0.001576</td>\n",
       "      <td>rn50</td>\n",
       "      <td>2</td>\n",
       "      <td>country</td>\n",
       "      <td>rn50-10_2-country-5-cef-20191127-8daa24a2.csv</td>\n",
       "    </tr>\n",
       "    <tr>\n",
       "      <td>1</td>\n",
       "      <td>7a2cf00c</td>\n",
       "      <td>0.010805</td>\n",
       "      <td>0.133181</td>\n",
       "      <td>0.019100</td>\n",
       "      <td>0.051424</td>\n",
       "      <td>0.263356</td>\n",
       "      <td>0.396560</td>\n",
       "      <td>0.019273</td>\n",
       "      <td>0.006037</td>\n",
       "      <td>0.039630</td>\n",
       "      <td>0.010314</td>\n",
       "      <td>0.006121</td>\n",
       "      <td>0.016071</td>\n",
       "      <td>0.026755</td>\n",
       "      <td>0.001372</td>\n",
       "      <td>rn50</td>\n",
       "      <td>2</td>\n",
       "      <td>country</td>\n",
       "      <td>rn50-10_2-country-5-cef-20191127-8daa24a2.csv</td>\n",
       "    </tr>\n",
       "    <tr>\n",
       "      <td>2</td>\n",
       "      <td>7a3975e8</td>\n",
       "      <td>0.004618</td>\n",
       "      <td>0.001411</td>\n",
       "      <td>0.002768</td>\n",
       "      <td>0.065473</td>\n",
       "      <td>0.006193</td>\n",
       "      <td>0.849746</td>\n",
       "      <td>0.002883</td>\n",
       "      <td>0.002225</td>\n",
       "      <td>0.036617</td>\n",
       "      <td>0.005119</td>\n",
       "      <td>0.009132</td>\n",
       "      <td>0.003953</td>\n",
       "      <td>0.001582</td>\n",
       "      <td>0.008280</td>\n",
       "      <td>rn50</td>\n",
       "      <td>2</td>\n",
       "      <td>country</td>\n",
       "      <td>rn50-10_2-country-5-cef-20191127-8daa24a2.csv</td>\n",
       "    </tr>\n",
       "    <tr>\n",
       "      <td>3</td>\n",
       "      <td>7a1d215e</td>\n",
       "      <td>0.000175</td>\n",
       "      <td>0.000265</td>\n",
       "      <td>0.000417</td>\n",
       "      <td>0.000514</td>\n",
       "      <td>0.000177</td>\n",
       "      <td>0.989979</td>\n",
       "      <td>0.000148</td>\n",
       "      <td>0.000364</td>\n",
       "      <td>0.000157</td>\n",
       "      <td>0.000224</td>\n",
       "      <td>0.004457</td>\n",
       "      <td>0.000508</td>\n",
       "      <td>0.000422</td>\n",
       "      <td>0.002192</td>\n",
       "      <td>rn50</td>\n",
       "      <td>2</td>\n",
       "      <td>country</td>\n",
       "      <td>rn50-10_2-country-5-cef-20191127-8daa24a2.csv</td>\n",
       "    </tr>\n",
       "    <tr>\n",
       "      <td>4</td>\n",
       "      <td>7a42475e</td>\n",
       "      <td>0.011410</td>\n",
       "      <td>0.021139</td>\n",
       "      <td>0.008054</td>\n",
       "      <td>0.015009</td>\n",
       "      <td>0.002517</td>\n",
       "      <td>0.627861</td>\n",
       "      <td>0.000862</td>\n",
       "      <td>0.001490</td>\n",
       "      <td>0.000921</td>\n",
       "      <td>0.001612</td>\n",
       "      <td>0.004258</td>\n",
       "      <td>0.001577</td>\n",
       "      <td>0.302497</td>\n",
       "      <td>0.000793</td>\n",
       "      <td>rn50</td>\n",
       "      <td>2</td>\n",
       "      <td>country</td>\n",
       "      <td>rn50-10_2-country-5-cef-20191127-8daa24a2.csv</td>\n",
       "    </tr>\n",
       "  </tbody>\n",
       "</table>\n",
       "</div>"
      ],
      "text/plain": [
       "         id  concrete_cement_colombia  concrete_cement_guatemala  \\\n",
       "0  7a24bd7e                  0.000505                   0.002495   \n",
       "1  7a2cf00c                  0.010805                   0.133181   \n",
       "2  7a3975e8                  0.004618                   0.001411   \n",
       "3  7a1d215e                  0.000175                   0.000265   \n",
       "4  7a42475e                  0.011410                   0.021139   \n",
       "\n",
       "   concrete_cement_st_lucia  healthy_metal_colombia  healthy_metal_guatemala  \\\n",
       "0                  0.006808                0.000410                 0.000241   \n",
       "1                  0.019100                0.051424                 0.263356   \n",
       "2                  0.002768                0.065473                 0.006193   \n",
       "3                  0.000417                0.000514                 0.000177   \n",
       "4                  0.008054                0.015009                 0.002517   \n",
       "\n",
       "   healthy_metal_st_lucia  incomplete_colombia  incomplete_st_lucia  \\\n",
       "0                0.953270             0.000137             0.000654   \n",
       "1                0.396560             0.019273             0.006037   \n",
       "2                0.849746             0.002883             0.002225   \n",
       "3                0.989979             0.000148             0.000364   \n",
       "4                0.627861             0.000862             0.001490   \n",
       "\n",
       "   irregular_metal_colombia  irregular_metal_guatemala  \\\n",
       "0                  0.000182                   0.000280   \n",
       "1                  0.039630                   0.010314   \n",
       "2                  0.036617                   0.005119   \n",
       "3                  0.000157                   0.000224   \n",
       "4                  0.000921                   0.001612   \n",
       "\n",
       "   irregular_metal_st_lucia  other_colombia  other_guatemala  other_st_lucia  \\\n",
       "0                  0.003733        0.000470         0.029239        0.001576   \n",
       "1                  0.006121        0.016071         0.026755        0.001372   \n",
       "2                  0.009132        0.003953         0.001582        0.008280   \n",
       "3                  0.004457        0.000508         0.000422        0.002192   \n",
       "4                  0.004258        0.001577         0.302497        0.000793   \n",
       "\n",
       "  model run    ttype                                            uid  \n",
       "0  rn50   2  country  rn50-10_2-country-5-cef-20191127-8daa24a2.csv  \n",
       "1  rn50   2  country  rn50-10_2-country-5-cef-20191127-8daa24a2.csv  \n",
       "2  rn50   2  country  rn50-10_2-country-5-cef-20191127-8daa24a2.csv  \n",
       "3  rn50   2  country  rn50-10_2-country-5-cef-20191127-8daa24a2.csv  \n",
       "4  rn50   2  country  rn50-10_2-country-5-cef-20191127-8daa24a2.csv  "
      ]
     },
     "execution_count": 40,
     "metadata": {},
     "output_type": "execute_result"
    }
   ],
   "source": [
    "df_cntry.head()"
   ]
  },
  {
   "cell_type": "code",
   "execution_count": 41,
   "metadata": {},
   "outputs": [
    {
     "data": {
      "text/plain": [
       "array(['rn50', 'rn152', 'dn121'], dtype=object)"
      ]
     },
     "execution_count": 41,
     "metadata": {},
     "output_type": "execute_result"
    }
   ],
   "source": [
    "df_cntry.model.unique()"
   ]
  },
  {
   "cell_type": "code",
   "execution_count": 42,
   "metadata": {},
   "outputs": [],
   "source": [
    "def get_c_r_by_model_type(df, model):\n",
    "    df = df.loc[(df['model'] == model)]\n",
    "    ids=df.id.values.tolist()\n",
    "    df.drop(columns=['id','model','run','ttype','uid'],inplace=True)\n",
    "    classes=df.idxmax(axis=1)\n",
    "    df['roof_material']=classes\n",
    "    df['id']=ids\n",
    "    return df"
   ]
  },
  {
   "cell_type": "code",
   "execution_count": 43,
   "metadata": {},
   "outputs": [],
   "source": [
    "def print_lengths(ls):\n",
    "    for l in ls:\n",
    "        print(len(l))"
   ]
  },
  {
   "cell_type": "code",
   "execution_count": 44,
   "metadata": {},
   "outputs": [],
   "source": [
    "def country_to_roof(df_in):\n",
    "    ttype='region'\n",
    "    model_dfs={}\n",
    "    for model in ['rn50','rn152', 'dn121']:\n",
    "        df = df_in.copy()\n",
    "        cols=list(df)\n",
    "        hm=[]\n",
    "        im=[]\n",
    "        cc=[]\n",
    "        ot=[]\n",
    "        inc=[]\n",
    "        healthy_metals = [s for s in cols if 'healthy_metal' in s]\n",
    "        irregular_metals = [s for s in cols if 'irregular_metal' in s]\n",
    "        concrete_cements = [s for s in cols if 'concrete_cement' in s]\n",
    "        others = [s for s in cols if 'other' in s]\n",
    "        incompletes = [s for s in cols if 'incomplete' in s]\n",
    "\n",
    "        df[\"healthy_metal\"] = df[healthy_metals].max(axis=1)\n",
    "        df[\"irregular_metal\"] = df[irregular_metals].max(axis=1)\n",
    "        df[\"concrete_cement\"] = df[concrete_cements].max(axis=1)\n",
    "        df[\"other\"] = df[others].max(axis=1)\n",
    "        df[\"incomplete\"] = df[incompletes].max(axis=1)\n",
    "\n",
    "        # #### drop region/country\n",
    "        df.drop(columns=healthy_metals, inplace=True)\n",
    "        df.drop(columns=irregular_metals, inplace=True)\n",
    "        df.drop(columns=concrete_cements, inplace=True)\n",
    "        df.drop(columns=others, inplace=True)\n",
    "        df.drop(columns=incompletes, inplace=True)\n",
    "        df = get_c_r_by_model_type(df, model)\n",
    "        model_dfs[model]=df\n",
    "    return model_dfs"
   ]
  },
  {
   "cell_type": "code",
   "execution_count": 45,
   "metadata": {},
   "outputs": [
    {
     "data": {
      "text/html": [
       "<div>\n",
       "<style scoped>\n",
       "    .dataframe tbody tr th:only-of-type {\n",
       "        vertical-align: middle;\n",
       "    }\n",
       "\n",
       "    .dataframe tbody tr th {\n",
       "        vertical-align: top;\n",
       "    }\n",
       "\n",
       "    .dataframe thead th {\n",
       "        text-align: right;\n",
       "    }\n",
       "</style>\n",
       "<table border=\"1\" class=\"dataframe\">\n",
       "  <thead>\n",
       "    <tr style=\"text-align: right;\">\n",
       "      <th></th>\n",
       "      <th>id</th>\n",
       "      <th>concrete_cement_colombia</th>\n",
       "      <th>concrete_cement_guatemala</th>\n",
       "      <th>concrete_cement_st_lucia</th>\n",
       "      <th>healthy_metal_colombia</th>\n",
       "      <th>healthy_metal_guatemala</th>\n",
       "      <th>healthy_metal_st_lucia</th>\n",
       "      <th>incomplete_colombia</th>\n",
       "      <th>incomplete_st_lucia</th>\n",
       "      <th>irregular_metal_colombia</th>\n",
       "      <th>irregular_metal_guatemala</th>\n",
       "      <th>irregular_metal_st_lucia</th>\n",
       "      <th>other_colombia</th>\n",
       "      <th>other_guatemala</th>\n",
       "      <th>other_st_lucia</th>\n",
       "      <th>model</th>\n",
       "      <th>run</th>\n",
       "      <th>ttype</th>\n",
       "      <th>uid</th>\n",
       "    </tr>\n",
       "  </thead>\n",
       "  <tbody>\n",
       "    <tr>\n",
       "      <td>0</td>\n",
       "      <td>7a24bd7e</td>\n",
       "      <td>0.000505</td>\n",
       "      <td>0.002495</td>\n",
       "      <td>0.006808</td>\n",
       "      <td>0.000410</td>\n",
       "      <td>0.000241</td>\n",
       "      <td>0.953270</td>\n",
       "      <td>0.000137</td>\n",
       "      <td>0.000654</td>\n",
       "      <td>0.000182</td>\n",
       "      <td>0.000280</td>\n",
       "      <td>0.003733</td>\n",
       "      <td>0.000470</td>\n",
       "      <td>0.029239</td>\n",
       "      <td>0.001576</td>\n",
       "      <td>rn50</td>\n",
       "      <td>2</td>\n",
       "      <td>country</td>\n",
       "      <td>rn50-10_2-country-5-cef-20191127-8daa24a2.csv</td>\n",
       "    </tr>\n",
       "    <tr>\n",
       "      <td>1</td>\n",
       "      <td>7a2cf00c</td>\n",
       "      <td>0.010805</td>\n",
       "      <td>0.133181</td>\n",
       "      <td>0.019100</td>\n",
       "      <td>0.051424</td>\n",
       "      <td>0.263356</td>\n",
       "      <td>0.396560</td>\n",
       "      <td>0.019273</td>\n",
       "      <td>0.006037</td>\n",
       "      <td>0.039630</td>\n",
       "      <td>0.010314</td>\n",
       "      <td>0.006121</td>\n",
       "      <td>0.016071</td>\n",
       "      <td>0.026755</td>\n",
       "      <td>0.001372</td>\n",
       "      <td>rn50</td>\n",
       "      <td>2</td>\n",
       "      <td>country</td>\n",
       "      <td>rn50-10_2-country-5-cef-20191127-8daa24a2.csv</td>\n",
       "    </tr>\n",
       "    <tr>\n",
       "      <td>2</td>\n",
       "      <td>7a3975e8</td>\n",
       "      <td>0.004618</td>\n",
       "      <td>0.001411</td>\n",
       "      <td>0.002768</td>\n",
       "      <td>0.065473</td>\n",
       "      <td>0.006193</td>\n",
       "      <td>0.849746</td>\n",
       "      <td>0.002883</td>\n",
       "      <td>0.002225</td>\n",
       "      <td>0.036617</td>\n",
       "      <td>0.005119</td>\n",
       "      <td>0.009132</td>\n",
       "      <td>0.003953</td>\n",
       "      <td>0.001582</td>\n",
       "      <td>0.008280</td>\n",
       "      <td>rn50</td>\n",
       "      <td>2</td>\n",
       "      <td>country</td>\n",
       "      <td>rn50-10_2-country-5-cef-20191127-8daa24a2.csv</td>\n",
       "    </tr>\n",
       "    <tr>\n",
       "      <td>3</td>\n",
       "      <td>7a1d215e</td>\n",
       "      <td>0.000175</td>\n",
       "      <td>0.000265</td>\n",
       "      <td>0.000417</td>\n",
       "      <td>0.000514</td>\n",
       "      <td>0.000177</td>\n",
       "      <td>0.989979</td>\n",
       "      <td>0.000148</td>\n",
       "      <td>0.000364</td>\n",
       "      <td>0.000157</td>\n",
       "      <td>0.000224</td>\n",
       "      <td>0.004457</td>\n",
       "      <td>0.000508</td>\n",
       "      <td>0.000422</td>\n",
       "      <td>0.002192</td>\n",
       "      <td>rn50</td>\n",
       "      <td>2</td>\n",
       "      <td>country</td>\n",
       "      <td>rn50-10_2-country-5-cef-20191127-8daa24a2.csv</td>\n",
       "    </tr>\n",
       "    <tr>\n",
       "      <td>4</td>\n",
       "      <td>7a42475e</td>\n",
       "      <td>0.011410</td>\n",
       "      <td>0.021139</td>\n",
       "      <td>0.008054</td>\n",
       "      <td>0.015009</td>\n",
       "      <td>0.002517</td>\n",
       "      <td>0.627861</td>\n",
       "      <td>0.000862</td>\n",
       "      <td>0.001490</td>\n",
       "      <td>0.000921</td>\n",
       "      <td>0.001612</td>\n",
       "      <td>0.004258</td>\n",
       "      <td>0.001577</td>\n",
       "      <td>0.302497</td>\n",
       "      <td>0.000793</td>\n",
       "      <td>rn50</td>\n",
       "      <td>2</td>\n",
       "      <td>country</td>\n",
       "      <td>rn50-10_2-country-5-cef-20191127-8daa24a2.csv</td>\n",
       "    </tr>\n",
       "  </tbody>\n",
       "</table>\n",
       "</div>"
      ],
      "text/plain": [
       "         id  concrete_cement_colombia  concrete_cement_guatemala  \\\n",
       "0  7a24bd7e                  0.000505                   0.002495   \n",
       "1  7a2cf00c                  0.010805                   0.133181   \n",
       "2  7a3975e8                  0.004618                   0.001411   \n",
       "3  7a1d215e                  0.000175                   0.000265   \n",
       "4  7a42475e                  0.011410                   0.021139   \n",
       "\n",
       "   concrete_cement_st_lucia  healthy_metal_colombia  healthy_metal_guatemala  \\\n",
       "0                  0.006808                0.000410                 0.000241   \n",
       "1                  0.019100                0.051424                 0.263356   \n",
       "2                  0.002768                0.065473                 0.006193   \n",
       "3                  0.000417                0.000514                 0.000177   \n",
       "4                  0.008054                0.015009                 0.002517   \n",
       "\n",
       "   healthy_metal_st_lucia  incomplete_colombia  incomplete_st_lucia  \\\n",
       "0                0.953270             0.000137             0.000654   \n",
       "1                0.396560             0.019273             0.006037   \n",
       "2                0.849746             0.002883             0.002225   \n",
       "3                0.989979             0.000148             0.000364   \n",
       "4                0.627861             0.000862             0.001490   \n",
       "\n",
       "   irregular_metal_colombia  irregular_metal_guatemala  \\\n",
       "0                  0.000182                   0.000280   \n",
       "1                  0.039630                   0.010314   \n",
       "2                  0.036617                   0.005119   \n",
       "3                  0.000157                   0.000224   \n",
       "4                  0.000921                   0.001612   \n",
       "\n",
       "   irregular_metal_st_lucia  other_colombia  other_guatemala  other_st_lucia  \\\n",
       "0                  0.003733        0.000470         0.029239        0.001576   \n",
       "1                  0.006121        0.016071         0.026755        0.001372   \n",
       "2                  0.009132        0.003953         0.001582        0.008280   \n",
       "3                  0.004457        0.000508         0.000422        0.002192   \n",
       "4                  0.004258        0.001577         0.302497        0.000793   \n",
       "\n",
       "  model run    ttype                                            uid  \n",
       "0  rn50   2  country  rn50-10_2-country-5-cef-20191127-8daa24a2.csv  \n",
       "1  rn50   2  country  rn50-10_2-country-5-cef-20191127-8daa24a2.csv  \n",
       "2  rn50   2  country  rn50-10_2-country-5-cef-20191127-8daa24a2.csv  \n",
       "3  rn50   2  country  rn50-10_2-country-5-cef-20191127-8daa24a2.csv  \n",
       "4  rn50   2  country  rn50-10_2-country-5-cef-20191127-8daa24a2.csv  "
      ]
     },
     "execution_count": 45,
     "metadata": {},
     "output_type": "execute_result"
    }
   ],
   "source": [
    "df_region.head()"
   ]
  },
  {
   "cell_type": "code",
   "execution_count": 46,
   "metadata": {},
   "outputs": [
    {
     "name": "stderr",
     "output_type": "stream",
     "text": [
      "/home/walle/miniconda3/envs/fastai-dev/lib/python3.7/site-packages/pandas/core/frame.py:4102: SettingWithCopyWarning: \n",
      "A value is trying to be set on a copy of a slice from a DataFrame\n",
      "\n",
      "See the caveats in the documentation: http://pandas.pydata.org/pandas-docs/stable/user_guide/indexing.html#returning-a-view-versus-a-copy\n",
      "  errors=errors,\n",
      "/home/walle/miniconda3/envs/fastai-dev/lib/python3.7/site-packages/ipykernel_launcher.py:6: SettingWithCopyWarning: \n",
      "A value is trying to be set on a copy of a slice from a DataFrame.\n",
      "Try using .loc[row_indexer,col_indexer] = value instead\n",
      "\n",
      "See the caveats in the documentation: http://pandas.pydata.org/pandas-docs/stable/user_guide/indexing.html#returning-a-view-versus-a-copy\n",
      "  \n",
      "/home/walle/miniconda3/envs/fastai-dev/lib/python3.7/site-packages/ipykernel_launcher.py:7: SettingWithCopyWarning: \n",
      "A value is trying to be set on a copy of a slice from a DataFrame.\n",
      "Try using .loc[row_indexer,col_indexer] = value instead\n",
      "\n",
      "See the caveats in the documentation: http://pandas.pydata.org/pandas-docs/stable/user_guide/indexing.html#returning-a-view-versus-a-copy\n",
      "  import sys\n"
     ]
    }
   ],
   "source": [
    "model_dfs=country_to_roof(df_region)"
   ]
  },
  {
   "cell_type": "code",
   "execution_count": 47,
   "metadata": {},
   "outputs": [],
   "source": [
    "df_region_rn50=model_dfs['rn50']\n",
    "df_region_rn152=model_dfs['rn152']\n",
    "df_region_dn121=model_dfs['dn121']"
   ]
  },
  {
   "cell_type": "code",
   "execution_count": 48,
   "metadata": {},
   "outputs": [
    {
     "data": {
      "text/html": [
       "<div>\n",
       "<style scoped>\n",
       "    .dataframe tbody tr th:only-of-type {\n",
       "        vertical-align: middle;\n",
       "    }\n",
       "\n",
       "    .dataframe tbody tr th {\n",
       "        vertical-align: top;\n",
       "    }\n",
       "\n",
       "    .dataframe thead th {\n",
       "        text-align: right;\n",
       "    }\n",
       "</style>\n",
       "<table border=\"1\" class=\"dataframe\">\n",
       "  <thead>\n",
       "    <tr style=\"text-align: right;\">\n",
       "      <th></th>\n",
       "      <th>healthy_metal</th>\n",
       "      <th>irregular_metal</th>\n",
       "      <th>concrete_cement</th>\n",
       "      <th>other</th>\n",
       "      <th>incomplete</th>\n",
       "      <th>roof_material</th>\n",
       "      <th>id</th>\n",
       "    </tr>\n",
       "  </thead>\n",
       "  <tbody>\n",
       "    <tr>\n",
       "      <td>0</td>\n",
       "      <td>0.953270</td>\n",
       "      <td>0.003733</td>\n",
       "      <td>0.006808</td>\n",
       "      <td>0.029239</td>\n",
       "      <td>0.000654</td>\n",
       "      <td>healthy_metal</td>\n",
       "      <td>7a24bd7e</td>\n",
       "    </tr>\n",
       "    <tr>\n",
       "      <td>1</td>\n",
       "      <td>0.396560</td>\n",
       "      <td>0.039630</td>\n",
       "      <td>0.133181</td>\n",
       "      <td>0.026755</td>\n",
       "      <td>0.019273</td>\n",
       "      <td>healthy_metal</td>\n",
       "      <td>7a2cf00c</td>\n",
       "    </tr>\n",
       "    <tr>\n",
       "      <td>2</td>\n",
       "      <td>0.849746</td>\n",
       "      <td>0.036617</td>\n",
       "      <td>0.004618</td>\n",
       "      <td>0.008280</td>\n",
       "      <td>0.002883</td>\n",
       "      <td>healthy_metal</td>\n",
       "      <td>7a3975e8</td>\n",
       "    </tr>\n",
       "    <tr>\n",
       "      <td>3</td>\n",
       "      <td>0.989979</td>\n",
       "      <td>0.004457</td>\n",
       "      <td>0.000417</td>\n",
       "      <td>0.002192</td>\n",
       "      <td>0.000364</td>\n",
       "      <td>healthy_metal</td>\n",
       "      <td>7a1d215e</td>\n",
       "    </tr>\n",
       "    <tr>\n",
       "      <td>4</td>\n",
       "      <td>0.627861</td>\n",
       "      <td>0.004258</td>\n",
       "      <td>0.021139</td>\n",
       "      <td>0.302497</td>\n",
       "      <td>0.001490</td>\n",
       "      <td>healthy_metal</td>\n",
       "      <td>7a42475e</td>\n",
       "    </tr>\n",
       "  </tbody>\n",
       "</table>\n",
       "</div>"
      ],
      "text/plain": [
       "   healthy_metal  irregular_metal  concrete_cement     other  incomplete  \\\n",
       "0       0.953270         0.003733         0.006808  0.029239    0.000654   \n",
       "1       0.396560         0.039630         0.133181  0.026755    0.019273   \n",
       "2       0.849746         0.036617         0.004618  0.008280    0.002883   \n",
       "3       0.989979         0.004457         0.000417  0.002192    0.000364   \n",
       "4       0.627861         0.004258         0.021139  0.302497    0.001490   \n",
       "\n",
       "   roof_material        id  \n",
       "0  healthy_metal  7a24bd7e  \n",
       "1  healthy_metal  7a2cf00c  \n",
       "2  healthy_metal  7a3975e8  \n",
       "3  healthy_metal  7a1d215e  \n",
       "4  healthy_metal  7a42475e  "
      ]
     },
     "execution_count": 48,
     "metadata": {},
     "output_type": "execute_result"
    }
   ],
   "source": [
    "df_region_rn50.head()"
   ]
  },
  {
   "cell_type": "code",
   "execution_count": 49,
   "metadata": {},
   "outputs": [],
   "source": [
    "def plot_df_types(df1, df2, df3):\n",
    "    ax = df1.roof_material.value_counts().plot(kind='bar', color='blue', width=.75, legend=True, alpha=0.2)\n",
    "    ax1 = df2.roof_material.value_counts().plot(kind='bar', color='green', width=.5, legend=True, alpha=0.2)\n",
    "    df3.roof_material.value_counts().plot(kind='bar', color='maroon', width=.25, alpha=0.5, legend=True)"
   ]
  },
  {
   "cell_type": "code",
   "execution_count": 50,
   "metadata": {},
   "outputs": [
    {
     "data": {
      "image/png": "[encoded data removed]",
      "text/plain": [
       "<Figure size 432x288 with 1 Axes>"
      ]
     },
     "metadata": {
      "needs_background": "light"
     },
     "output_type": "display_data"
    }
   ],
   "source": [
    "plot_df_types(df_region_rn50, df_region_rn152, df_region_dn121 )"
   ]
  },
  {
   "cell_type": "code",
   "execution_count": 51,
   "metadata": {},
   "outputs": [],
   "source": [
    "def get_splits(df_in, roof_type, model):\n",
    "    df_hm=df_in[['id', roof_type]]\n",
    "    result = df_hm.groupby(['id'], as_index=False).agg(\n",
    "                     ['mean', 'std'])\n",
    "    result.sort_values(by=(roof_type,'std'),ascending=False).head()\n",
    "    result.columns = result.columns.droplevel(0)\n",
    "    result=result.sort_values(by=('std'),ascending=False).reset_index()\n",
    "    result.plot.hist(bins=100, alpha=0.3, title=model)\n",
    "    return result"
   ]
  },
  {
   "cell_type": "code",
   "execution_count": 52,
   "metadata": {},
   "outputs": [],
   "source": [
    "def concate_df_results(df_rn50, df_rn152, df_dn121):\n",
    "    '''get ids where they are in all the df's then do mean of probailities for single pred'''\n",
    "    rn50ids=df_rn50.id.values.tolist()\n",
    "    rn152ids=df_rn152.id.values.tolist()\n",
    "    dn121ids=df_dn121.id.values.tolist()\n",
    "    all_iter= set(rn50ids) & set(rn152ids) & set(dn121ids)\n",
    "    df1=df_rn50.loc[df_rn50['id'].isin(all_iter)]\n",
    "    df2=df_rn152.loc[df_rn152['id'].isin(all_iter)]\n",
    "    df3=df_dn121.loc[df_dn121['id'].isin(all_iter)]\n",
    "    frames = [df1, df2, df3]\n",
    "    df= pd.concat(frames)\n",
    "    result = df.groupby('id', as_index=False).mean()\n",
    "    return result\n",
    "    "
   ]
  },
  {
   "cell_type": "code",
   "execution_count": 53,
   "metadata": {},
   "outputs": [],
   "source": [
    "#### Healthy metal"
   ]
  },
  {
   "cell_type": "code",
   "execution_count": 54,
   "metadata": {},
   "outputs": [
    {
     "data": {
      "image/png": "[encoded data removed]",
      "text/plain": [
       "<Figure size 432x288 with 1 Axes>"
      ]
     },
     "metadata": {
      "needs_background": "light"
     },
     "output_type": "display_data"
    },
    {
     "data": {
      "image/png": "[encoded data removed]",
      "text/plain": [
       "<Figure size 432x288 with 1 Axes>"
      ]
     },
     "metadata": {
      "needs_background": "light"
     },
     "output_type": "display_data"
    },
    {
     "data": {
      "image/png": "[encoded data removed]",
      "text/plain": [
       "<Figure size 432x288 with 1 Axes>"
      ]
     },
     "metadata": {
      "needs_background": "light"
     },
     "output_type": "display_data"
    }
   ],
   "source": [
    "result_rn50=get_splits(df_region_rn50, 'healthy_metal', 'rn50')\n",
    "result_rn152=get_splits(df_region_rn152, 'healthy_metal', 'rn152')\n",
    "result_dn121=get_splits(df_region_dn121, 'healthy_metal', 'dn121')"
   ]
  },
  {
   "cell_type": "markdown",
   "metadata": {},
   "source": [
    "Try as first pass using 0.8 mean as cutoff"
   ]
  },
  {
   "cell_type": "code",
   "execution_count": 55,
   "metadata": {},
   "outputs": [],
   "source": [
    "hm_rn50_80pct_plus=result_rn50.loc[result_rn50['mean'] >= 0.8]\n",
    "hm_rn50_70pct_plus=result_rn50.loc[result_rn50['mean'] >= 0.7]"
   ]
  },
  {
   "cell_type": "code",
   "execution_count": 56,
   "metadata": {},
   "outputs": [],
   "source": [
    "hm_rn152_80pct_plus=result_rn152.loc[result_rn152['mean'] >= 0.8]\n",
    "hm_rn152_70pct_plus=result_rn152.loc[result_rn152['mean'] >= 0.7]"
   ]
  },
  {
   "cell_type": "code",
   "execution_count": 57,
   "metadata": {},
   "outputs": [],
   "source": [
    "hm_dn121_80pct_plus=result_dn121.loc[result_dn121['mean'] >= 0.8]\n",
    "hm_dn121_70pct_plus=result_dn121.loc[result_dn121['mean'] >= 0.7]"
   ]
  },
  {
   "cell_type": "code",
   "execution_count": 58,
   "metadata": {},
   "outputs": [
    {
     "data": {
      "text/plain": [
       "0.4873584408743745"
      ]
     },
     "execution_count": 58,
     "metadata": {},
     "output_type": "execute_result"
    }
   ],
   "source": [
    "len(hm_rn50_80pct_plus)/len(result_rn50)"
   ]
  },
  {
   "cell_type": "code",
   "execution_count": 59,
   "metadata": {},
   "outputs": [],
   "source": [
    "hm_80pct=concate_df_results(hm_rn50_80pct_plus, hm_rn152_80pct_plus, hm_dn121_80pct_plus)\n",
    "hm_70pct=concate_df_results(hm_rn50_70pct_plus, hm_rn152_70pct_plus, hm_dn121_70pct_plus)"
   ]
  },
  {
   "cell_type": "code",
   "execution_count": 60,
   "metadata": {},
   "outputs": [
    {
     "data": {
      "text/plain": [
       "0.6687381788705755"
      ]
     },
     "execution_count": 60,
     "metadata": {},
     "output_type": "execute_result"
    }
   ],
   "source": [
    "len(hm_80pct)/len(hm_rn50_80pct_plus)"
   ]
  },
  {
   "cell_type": "code",
   "execution_count": 61,
   "metadata": {},
   "outputs": [
    {
     "data": {
      "text/plain": [
       "2475"
      ]
     },
     "execution_count": 61,
     "metadata": {},
     "output_type": "execute_result"
    }
   ],
   "source": [
    "len(hm_80pct)"
   ]
  },
  {
   "cell_type": "code",
   "execution_count": 62,
   "metadata": {},
   "outputs": [
    {
     "data": {
      "text/html": [
       "<div>\n",
       "<style scoped>\n",
       "    .dataframe tbody tr th:only-of-type {\n",
       "        vertical-align: middle;\n",
       "    }\n",
       "\n",
       "    .dataframe tbody tr th {\n",
       "        vertical-align: top;\n",
       "    }\n",
       "\n",
       "    .dataframe thead th {\n",
       "        text-align: right;\n",
       "    }\n",
       "</style>\n",
       "<table border=\"1\" class=\"dataframe\">\n",
       "  <thead>\n",
       "    <tr style=\"text-align: right;\">\n",
       "      <th></th>\n",
       "      <th>id</th>\n",
       "      <th>mean</th>\n",
       "      <th>std</th>\n",
       "    </tr>\n",
       "  </thead>\n",
       "  <tbody>\n",
       "    <tr>\n",
       "      <td>0</td>\n",
       "      <td>7a1c5b2a</td>\n",
       "      <td>0.989738</td>\n",
       "      <td>0.006410</td>\n",
       "    </tr>\n",
       "    <tr>\n",
       "      <td>1</td>\n",
       "      <td>7a1c5c6a</td>\n",
       "      <td>0.951573</td>\n",
       "      <td>0.010842</td>\n",
       "    </tr>\n",
       "    <tr>\n",
       "      <td>2</td>\n",
       "      <td>7a1c5d14</td>\n",
       "      <td>0.936311</td>\n",
       "      <td>0.035347</td>\n",
       "    </tr>\n",
       "    <tr>\n",
       "      <td>3</td>\n",
       "      <td>7a1c6458</td>\n",
       "      <td>0.993839</td>\n",
       "      <td>0.002727</td>\n",
       "    </tr>\n",
       "    <tr>\n",
       "      <td>4</td>\n",
       "      <td>7a1c6836</td>\n",
       "      <td>0.990383</td>\n",
       "      <td>0.006711</td>\n",
       "    </tr>\n",
       "  </tbody>\n",
       "</table>\n",
       "</div>"
      ],
      "text/plain": [
       "         id      mean       std\n",
       "0  7a1c5b2a  0.989738  0.006410\n",
       "1  7a1c5c6a  0.951573  0.010842\n",
       "2  7a1c5d14  0.936311  0.035347\n",
       "3  7a1c6458  0.993839  0.002727\n",
       "4  7a1c6836  0.990383  0.006711"
      ]
     },
     "execution_count": 62,
     "metadata": {},
     "output_type": "execute_result"
    }
   ],
   "source": [
    "hm_80pct.head()"
   ]
  },
  {
   "cell_type": "code",
   "execution_count": 63,
   "metadata": {},
   "outputs": [],
   "source": [
    "hm_80pct['roof_type']= 'healthy_metal'\n",
    "hm_70pct['roof_type']= 'healthy_metal'\n",
    "hm_80pct.drop(columns=['mean','std'],inplace=True)\n",
    "hm_70pct.drop(columns=['mean','std'],inplace=True)"
   ]
  },
  {
   "cell_type": "markdown",
   "metadata": {},
   "source": [
    "concrete_cement \thealthy_metal \tincomplete \tirregular_metal \tother"
   ]
  },
  {
   "cell_type": "markdown",
   "metadata": {},
   "source": [
    "#### Irregular metal"
   ]
  },
  {
   "cell_type": "code",
   "execution_count": 64,
   "metadata": {},
   "outputs": [
    {
     "data": {
      "image/png": "[encoded data removed]",
      "text/plain": [
       "<Figure size 432x288 with 1 Axes>"
      ]
     },
     "metadata": {
      "needs_background": "light"
     },
     "output_type": "display_data"
    },
    {
     "data": {
      "image/png": "[encoded data removed]",
      "text/plain": [
       "<Figure size 432x288 with 1 Axes>"
      ]
     },
     "metadata": {
      "needs_background": "light"
     },
     "output_type": "display_data"
    },
    {
     "data": {
      "image/png": "[encoded data removed]",
      "text/plain": [
       "<Figure size 432x288 with 1 Axes>"
      ]
     },
     "metadata": {
      "needs_background": "light"
     },
     "output_type": "display_data"
    }
   ],
   "source": [
    "ir_rn50=get_splits(df_region_rn50, 'irregular_metal', 'rn50')\n",
    "ir_rn152=get_splits(df_region_rn152, 'irregular_metal', 'rn152')\n",
    "ir_dn121=get_splits(df_region_dn121, 'irregular_metal', 'dn121')"
   ]
  },
  {
   "cell_type": "code",
   "execution_count": 65,
   "metadata": {},
   "outputs": [
    {
     "data": {
      "text/html": [
       "<div>\n",
       "<style scoped>\n",
       "    .dataframe tbody tr th:only-of-type {\n",
       "        vertical-align: middle;\n",
       "    }\n",
       "\n",
       "    .dataframe tbody tr th {\n",
       "        vertical-align: top;\n",
       "    }\n",
       "\n",
       "    .dataframe thead th {\n",
       "        text-align: right;\n",
       "    }\n",
       "</style>\n",
       "<table border=\"1\" class=\"dataframe\">\n",
       "  <thead>\n",
       "    <tr style=\"text-align: right;\">\n",
       "      <th></th>\n",
       "      <th>healthy_metal</th>\n",
       "      <th>irregular_metal</th>\n",
       "      <th>concrete_cement</th>\n",
       "      <th>other</th>\n",
       "      <th>incomplete</th>\n",
       "      <th>roof_material</th>\n",
       "      <th>id</th>\n",
       "    </tr>\n",
       "  </thead>\n",
       "  <tbody>\n",
       "    <tr>\n",
       "      <td>0</td>\n",
       "      <td>0.953270</td>\n",
       "      <td>0.003733</td>\n",
       "      <td>0.006808</td>\n",
       "      <td>0.029239</td>\n",
       "      <td>0.000654</td>\n",
       "      <td>healthy_metal</td>\n",
       "      <td>7a24bd7e</td>\n",
       "    </tr>\n",
       "    <tr>\n",
       "      <td>1</td>\n",
       "      <td>0.396560</td>\n",
       "      <td>0.039630</td>\n",
       "      <td>0.133181</td>\n",
       "      <td>0.026755</td>\n",
       "      <td>0.019273</td>\n",
       "      <td>healthy_metal</td>\n",
       "      <td>7a2cf00c</td>\n",
       "    </tr>\n",
       "    <tr>\n",
       "      <td>2</td>\n",
       "      <td>0.849746</td>\n",
       "      <td>0.036617</td>\n",
       "      <td>0.004618</td>\n",
       "      <td>0.008280</td>\n",
       "      <td>0.002883</td>\n",
       "      <td>healthy_metal</td>\n",
       "      <td>7a3975e8</td>\n",
       "    </tr>\n",
       "    <tr>\n",
       "      <td>3</td>\n",
       "      <td>0.989979</td>\n",
       "      <td>0.004457</td>\n",
       "      <td>0.000417</td>\n",
       "      <td>0.002192</td>\n",
       "      <td>0.000364</td>\n",
       "      <td>healthy_metal</td>\n",
       "      <td>7a1d215e</td>\n",
       "    </tr>\n",
       "    <tr>\n",
       "      <td>4</td>\n",
       "      <td>0.627861</td>\n",
       "      <td>0.004258</td>\n",
       "      <td>0.021139</td>\n",
       "      <td>0.302497</td>\n",
       "      <td>0.001490</td>\n",
       "      <td>healthy_metal</td>\n",
       "      <td>7a42475e</td>\n",
       "    </tr>\n",
       "  </tbody>\n",
       "</table>\n",
       "</div>"
      ],
      "text/plain": [
       "   healthy_metal  irregular_metal  concrete_cement     other  incomplete  \\\n",
       "0       0.953270         0.003733         0.006808  0.029239    0.000654   \n",
       "1       0.396560         0.039630         0.133181  0.026755    0.019273   \n",
       "2       0.849746         0.036617         0.004618  0.008280    0.002883   \n",
       "3       0.989979         0.004457         0.000417  0.002192    0.000364   \n",
       "4       0.627861         0.004258         0.021139  0.302497    0.001490   \n",
       "\n",
       "   roof_material        id  \n",
       "0  healthy_metal  7a24bd7e  \n",
       "1  healthy_metal  7a2cf00c  \n",
       "2  healthy_metal  7a3975e8  \n",
       "3  healthy_metal  7a1d215e  \n",
       "4  healthy_metal  7a42475e  "
      ]
     },
     "execution_count": 65,
     "metadata": {},
     "output_type": "execute_result"
    }
   ],
   "source": [
    "df_region_rn50.head()"
   ]
  },
  {
   "cell_type": "code",
   "execution_count": 66,
   "metadata": {},
   "outputs": [],
   "source": [
    "ir_rn50_80pct_plus=ir_rn50.loc[ir_rn50['mean'] >= 0.8]\n",
    "ir_rn50_70pct_plus=ir_rn50.loc[ir_rn50['mean'] >= 0.7]"
   ]
  },
  {
   "cell_type": "code",
   "execution_count": 67,
   "metadata": {},
   "outputs": [
    {
     "data": {
      "text/plain": [
       "72"
      ]
     },
     "execution_count": 67,
     "metadata": {},
     "output_type": "execute_result"
    }
   ],
   "source": [
    "len(ir_rn50_80pct_plus)"
   ]
  },
  {
   "cell_type": "code",
   "execution_count": 68,
   "metadata": {},
   "outputs": [
    {
     "data": {
      "text/html": [
       "<div>\n",
       "<style scoped>\n",
       "    .dataframe tbody tr th:only-of-type {\n",
       "        vertical-align: middle;\n",
       "    }\n",
       "\n",
       "    .dataframe tbody tr th {\n",
       "        vertical-align: top;\n",
       "    }\n",
       "\n",
       "    .dataframe thead th {\n",
       "        text-align: right;\n",
       "    }\n",
       "</style>\n",
       "<table border=\"1\" class=\"dataframe\">\n",
       "  <thead>\n",
       "    <tr style=\"text-align: right;\">\n",
       "      <th></th>\n",
       "      <th>id</th>\n",
       "      <th>mean</th>\n",
       "      <th>std</th>\n",
       "    </tr>\n",
       "  </thead>\n",
       "  <tbody>\n",
       "    <tr>\n",
       "      <td>637</td>\n",
       "      <td>7a370b00</td>\n",
       "      <td>0.804342</td>\n",
       "      <td>0.146290</td>\n",
       "    </tr>\n",
       "    <tr>\n",
       "      <td>681</td>\n",
       "      <td>7a299d8a</td>\n",
       "      <td>0.857987</td>\n",
       "      <td>0.139567</td>\n",
       "    </tr>\n",
       "    <tr>\n",
       "      <td>730</td>\n",
       "      <td>7a23040c</td>\n",
       "      <td>0.832147</td>\n",
       "      <td>0.132976</td>\n",
       "    </tr>\n",
       "    <tr>\n",
       "      <td>869</td>\n",
       "      <td>7a39861e</td>\n",
       "      <td>0.808203</td>\n",
       "      <td>0.120009</td>\n",
       "    </tr>\n",
       "    <tr>\n",
       "      <td>1022</td>\n",
       "      <td>7a28b4ba</td>\n",
       "      <td>0.844831</td>\n",
       "      <td>0.105072</td>\n",
       "    </tr>\n",
       "  </tbody>\n",
       "</table>\n",
       "</div>"
      ],
      "text/plain": [
       "            id      mean       std\n",
       "637   7a370b00  0.804342  0.146290\n",
       "681   7a299d8a  0.857987  0.139567\n",
       "730   7a23040c  0.832147  0.132976\n",
       "869   7a39861e  0.808203  0.120009\n",
       "1022  7a28b4ba  0.844831  0.105072"
      ]
     },
     "execution_count": 68,
     "metadata": {},
     "output_type": "execute_result"
    }
   ],
   "source": [
    "ir_rn50_80pct_plus.head()"
   ]
  },
  {
   "cell_type": "code",
   "execution_count": 69,
   "metadata": {},
   "outputs": [
    {
     "data": {
      "text/plain": [
       "<matplotlib.axes._subplots.AxesSubplot at 0x7f22844a70d0>"
      ]
     },
     "execution_count": 69,
     "metadata": {},
     "output_type": "execute_result"
    },
    {
     "data": {
      "image/png": "[encoded data removed]",
      "text/plain": [
       "<Figure size 432x288 with 1 Axes>"
      ]
     },
     "metadata": {
      "needs_background": "light"
     },
     "output_type": "display_data"
    }
   ],
   "source": [
    "ir_rn50_70pct_plus['mean'].plot.hist()"
   ]
  },
  {
   "cell_type": "code",
   "execution_count": 70,
   "metadata": {},
   "outputs": [],
   "source": [
    "ir_rn152_80pct_plus=ir_rn152.loc[ir_rn152['mean'] >= 0.8]\n",
    "ir_rn152_70pct_plus=ir_rn152.loc[ir_rn152['mean'] >= 0.7]"
   ]
  },
  {
   "cell_type": "code",
   "execution_count": 71,
   "metadata": {},
   "outputs": [],
   "source": [
    "ir_dn121_80pct_plus=ir_dn121.loc[ir_dn121['mean'] >= 0.8]\n",
    "ir_dn121_70pct_plus=ir_dn121.loc[ir_dn121['mean'] >= 0.7]"
   ]
  },
  {
   "cell_type": "code",
   "execution_count": 72,
   "metadata": {},
   "outputs": [],
   "source": [
    "ir_80pct=concate_df_results(ir_rn50_80pct_plus, ir_rn152_80pct_plus, ir_dn121_80pct_plus)\n",
    "ir_70pct=concate_df_results(ir_rn50_70pct_plus, ir_rn152_70pct_plus, ir_dn121_70pct_plus)"
   ]
  },
  {
   "cell_type": "code",
   "execution_count": 73,
   "metadata": {},
   "outputs": [
    {
     "data": {
      "text/plain": [
       "72"
      ]
     },
     "execution_count": 73,
     "metadata": {},
     "output_type": "execute_result"
    }
   ],
   "source": [
    "len(ir_rn50_80pct_plus)"
   ]
  },
  {
   "cell_type": "code",
   "execution_count": 74,
   "metadata": {},
   "outputs": [
    {
     "data": {
      "text/html": [
       "<div>\n",
       "<style scoped>\n",
       "    .dataframe tbody tr th:only-of-type {\n",
       "        vertical-align: middle;\n",
       "    }\n",
       "\n",
       "    .dataframe tbody tr th {\n",
       "        vertical-align: top;\n",
       "    }\n",
       "\n",
       "    .dataframe thead th {\n",
       "        text-align: right;\n",
       "    }\n",
       "</style>\n",
       "<table border=\"1\" class=\"dataframe\">\n",
       "  <thead>\n",
       "    <tr style=\"text-align: right;\">\n",
       "      <th></th>\n",
       "      <th>id</th>\n",
       "      <th>mean</th>\n",
       "      <th>std</th>\n",
       "    </tr>\n",
       "  </thead>\n",
       "  <tbody>\n",
       "    <tr>\n",
       "      <td>637</td>\n",
       "      <td>7a370b00</td>\n",
       "      <td>0.804342</td>\n",
       "      <td>0.146290</td>\n",
       "    </tr>\n",
       "    <tr>\n",
       "      <td>681</td>\n",
       "      <td>7a299d8a</td>\n",
       "      <td>0.857987</td>\n",
       "      <td>0.139567</td>\n",
       "    </tr>\n",
       "    <tr>\n",
       "      <td>730</td>\n",
       "      <td>7a23040c</td>\n",
       "      <td>0.832147</td>\n",
       "      <td>0.132976</td>\n",
       "    </tr>\n",
       "    <tr>\n",
       "      <td>869</td>\n",
       "      <td>7a39861e</td>\n",
       "      <td>0.808203</td>\n",
       "      <td>0.120009</td>\n",
       "    </tr>\n",
       "    <tr>\n",
       "      <td>1022</td>\n",
       "      <td>7a28b4ba</td>\n",
       "      <td>0.844831</td>\n",
       "      <td>0.105072</td>\n",
       "    </tr>\n",
       "  </tbody>\n",
       "</table>\n",
       "</div>"
      ],
      "text/plain": [
       "            id      mean       std\n",
       "637   7a370b00  0.804342  0.146290\n",
       "681   7a299d8a  0.857987  0.139567\n",
       "730   7a23040c  0.832147  0.132976\n",
       "869   7a39861e  0.808203  0.120009\n",
       "1022  7a28b4ba  0.844831  0.105072"
      ]
     },
     "execution_count": 74,
     "metadata": {},
     "output_type": "execute_result"
    }
   ],
   "source": [
    "ir_rn50_80pct_plus.head()"
   ]
  },
  {
   "cell_type": "code",
   "execution_count": 75,
   "metadata": {},
   "outputs": [
    {
     "data": {
      "text/html": [
       "<div>\n",
       "<style scoped>\n",
       "    .dataframe tbody tr th:only-of-type {\n",
       "        vertical-align: middle;\n",
       "    }\n",
       "\n",
       "    .dataframe tbody tr th {\n",
       "        vertical-align: top;\n",
       "    }\n",
       "\n",
       "    .dataframe thead th {\n",
       "        text-align: right;\n",
       "    }\n",
       "</style>\n",
       "<table border=\"1\" class=\"dataframe\">\n",
       "  <thead>\n",
       "    <tr style=\"text-align: right;\">\n",
       "      <th></th>\n",
       "      <th>id</th>\n",
       "      <th>mean</th>\n",
       "      <th>std</th>\n",
       "    </tr>\n",
       "  </thead>\n",
       "  <tbody>\n",
       "    <tr>\n",
       "      <td>0</td>\n",
       "      <td>7a1e8080</td>\n",
       "      <td>0.851592</td>\n",
       "      <td>0.048519</td>\n",
       "    </tr>\n",
       "    <tr>\n",
       "      <td>1</td>\n",
       "      <td>7a1e8be8</td>\n",
       "      <td>0.851511</td>\n",
       "      <td>0.075570</td>\n",
       "    </tr>\n",
       "    <tr>\n",
       "      <td>2</td>\n",
       "      <td>7a1ed7ec</td>\n",
       "      <td>0.941658</td>\n",
       "      <td>0.020244</td>\n",
       "    </tr>\n",
       "    <tr>\n",
       "      <td>3</td>\n",
       "      <td>7a1f7076</td>\n",
       "      <td>0.891272</td>\n",
       "      <td>0.036736</td>\n",
       "    </tr>\n",
       "    <tr>\n",
       "      <td>4</td>\n",
       "      <td>7a234a66</td>\n",
       "      <td>0.900211</td>\n",
       "      <td>0.030302</td>\n",
       "    </tr>\n",
       "  </tbody>\n",
       "</table>\n",
       "</div>"
      ],
      "text/plain": [
       "         id      mean       std\n",
       "0  7a1e8080  0.851592  0.048519\n",
       "1  7a1e8be8  0.851511  0.075570\n",
       "2  7a1ed7ec  0.941658  0.020244\n",
       "3  7a1f7076  0.891272  0.036736\n",
       "4  7a234a66  0.900211  0.030302"
      ]
     },
     "execution_count": 75,
     "metadata": {},
     "output_type": "execute_result"
    }
   ],
   "source": [
    "ir_80pct.head()"
   ]
  },
  {
   "cell_type": "code",
   "execution_count": 76,
   "metadata": {},
   "outputs": [],
   "source": [
    "ir_80pct['roof_type']= 'irregular_metal'\n",
    "ir_70pct['roof_type']= 'irregular_metal'\n",
    "ir_80pct.drop(columns=['mean','std'],inplace=True)\n",
    "ir_70pct.drop(columns=['mean','std'],inplace=True)"
   ]
  },
  {
   "cell_type": "markdown",
   "metadata": {},
   "source": [
    "#### concrete cement"
   ]
  },
  {
   "cell_type": "code",
   "execution_count": 77,
   "metadata": {
    "scrolled": true
   },
   "outputs": [
    {
     "data": {
      "image/png": "[encoded data removed]",
      "text/plain": [
       "<Figure size 432x288 with 1 Axes>"
      ]
     },
     "metadata": {
      "needs_background": "light"
     },
     "output_type": "display_data"
    },
    {
     "data": {
      "image/png": "[encoded data removed]",
      "text/plain": [
       "<Figure size 432x288 with 1 Axes>"
      ]
     },
     "metadata": {
      "needs_background": "light"
     },
     "output_type": "display_data"
    },
    {
     "data": {
      "image/png": "[encoded data removed]",
      "text/plain": [
       "<Figure size 432x288 with 1 Axes>"
      ]
     },
     "metadata": {
      "needs_background": "light"
     },
     "output_type": "display_data"
    }
   ],
   "source": [
    "cc_rn50=get_splits(df_region_rn50, 'concrete_cement', 'rn50')\n",
    "cc_rn152=get_splits(df_region_rn152, 'concrete_cement', 'rn152')\n",
    "cc_dn121=get_splits(df_region_dn121, 'concrete_cement', 'dn121')"
   ]
  },
  {
   "cell_type": "code",
   "execution_count": 78,
   "metadata": {},
   "outputs": [],
   "source": [
    "cc_rn50_80pct_plus=cc_rn50.loc[cc_rn50['mean'] >= 0.8]\n",
    "cc_rn50_70pct_plus=cc_rn50.loc[cc_rn50['mean'] >= 0.7]"
   ]
  },
  {
   "cell_type": "code",
   "execution_count": 79,
   "metadata": {},
   "outputs": [],
   "source": [
    "cc_rn152_80pct_plus=cc_rn152.loc[cc_rn152['mean'] >= 0.8]\n",
    "cc_rn152_70pct_plus=cc_rn152.loc[cc_rn152['mean'] >= 0.7]"
   ]
  },
  {
   "cell_type": "code",
   "execution_count": 80,
   "metadata": {},
   "outputs": [],
   "source": [
    "cc_dn121_80pct_plus=cc_dn121.loc[cc_dn121['mean'] >= 0.8]\n",
    "cc_dn121_70pct_plus=cc_dn121.loc[cc_dn121['mean'] >= 0.7]"
   ]
  },
  {
   "cell_type": "code",
   "execution_count": 81,
   "metadata": {},
   "outputs": [],
   "source": [
    "cc_80pct=concate_df_results(cc_rn50_80pct_plus, cc_rn152_80pct_plus, cc_dn121_80pct_plus)\n",
    "cc_70pct=concate_df_results(cc_rn50_70pct_plus, cc_rn152_70pct_plus, cc_dn121_70pct_plus)"
   ]
  },
  {
   "cell_type": "code",
   "execution_count": 82,
   "metadata": {},
   "outputs": [
    {
     "data": {
      "text/plain": [
       "59"
      ]
     },
     "execution_count": 82,
     "metadata": {},
     "output_type": "execute_result"
    }
   ],
   "source": [
    "len(cc_70pct)"
   ]
  },
  {
   "cell_type": "code",
   "execution_count": 83,
   "metadata": {},
   "outputs": [
    {
     "data": {
      "text/html": [
       "<div>\n",
       "<style scoped>\n",
       "    .dataframe tbody tr th:only-of-type {\n",
       "        vertical-align: middle;\n",
       "    }\n",
       "\n",
       "    .dataframe tbody tr th {\n",
       "        vertical-align: top;\n",
       "    }\n",
       "\n",
       "    .dataframe thead th {\n",
       "        text-align: right;\n",
       "    }\n",
       "</style>\n",
       "<table border=\"1\" class=\"dataframe\">\n",
       "  <thead>\n",
       "    <tr style=\"text-align: right;\">\n",
       "      <th></th>\n",
       "      <th>id</th>\n",
       "      <th>mean</th>\n",
       "      <th>std</th>\n",
       "    </tr>\n",
       "  </thead>\n",
       "  <tbody>\n",
       "    <tr>\n",
       "      <td>0</td>\n",
       "      <td>7a1ce338</td>\n",
       "      <td>0.999163</td>\n",
       "      <td>0.000768</td>\n",
       "    </tr>\n",
       "    <tr>\n",
       "      <td>1</td>\n",
       "      <td>7a1ec31a</td>\n",
       "      <td>0.913840</td>\n",
       "      <td>0.075832</td>\n",
       "    </tr>\n",
       "    <tr>\n",
       "      <td>2</td>\n",
       "      <td>7a2033c6</td>\n",
       "      <td>0.986869</td>\n",
       "      <td>0.004955</td>\n",
       "    </tr>\n",
       "    <tr>\n",
       "      <td>3</td>\n",
       "      <td>7a2129c0</td>\n",
       "      <td>0.991680</td>\n",
       "      <td>0.010562</td>\n",
       "    </tr>\n",
       "    <tr>\n",
       "      <td>4</td>\n",
       "      <td>7a216a52</td>\n",
       "      <td>0.894474</td>\n",
       "      <td>0.118695</td>\n",
       "    </tr>\n",
       "  </tbody>\n",
       "</table>\n",
       "</div>"
      ],
      "text/plain": [
       "         id      mean       std\n",
       "0  7a1ce338  0.999163  0.000768\n",
       "1  7a1ec31a  0.913840  0.075832\n",
       "2  7a2033c6  0.986869  0.004955\n",
       "3  7a2129c0  0.991680  0.010562\n",
       "4  7a216a52  0.894474  0.118695"
      ]
     },
     "execution_count": 83,
     "metadata": {},
     "output_type": "execute_result"
    }
   ],
   "source": [
    "cc_70pct.head()"
   ]
  },
  {
   "cell_type": "code",
   "execution_count": 84,
   "metadata": {},
   "outputs": [],
   "source": [
    "cc_80pct['roof_type']= 'concrete_cement'\n",
    "cc_70pct['roof_type']= 'concrete_cement'\n",
    "cc_80pct.drop(columns=['mean','std'],inplace=True)\n",
    "cc_70pct.drop(columns=['mean','std'],inplace=True)"
   ]
  },
  {
   "cell_type": "markdown",
   "metadata": {},
   "source": [
    "#### incomplete"
   ]
  },
  {
   "cell_type": "code",
   "execution_count": 85,
   "metadata": {
    "scrolled": true
   },
   "outputs": [
    {
     "data": {
      "image/png": "[encoded data removed]",
      "text/plain": [
       "<Figure size 432x288 with 1 Axes>"
      ]
     },
     "metadata": {
      "needs_background": "light"
     },
     "output_type": "display_data"
    },
    {
     "data": {
      "image/png": "[encoded data removed]",
      "text/plain": [
       "<Figure size 432x288 with 1 Axes>"
      ]
     },
     "metadata": {
      "needs_background": "light"
     },
     "output_type": "display_data"
    },
    {
     "data": {
      "image/png": "[encoded data removed]",
      "text/plain": [
       "<Figure size 432x288 with 1 Axes>"
      ]
     },
     "metadata": {
      "needs_background": "light"
     },
     "output_type": "display_data"
    }
   ],
   "source": [
    "ic_rn50=get_splits(df_region_rn50, 'incomplete', 'rn50')\n",
    "ic_rn152=get_splits(df_region_rn152, 'incomplete', 'rn152')\n",
    "ic_dn121=get_splits(df_region_dn121, 'incomplete', 'dn121')"
   ]
  },
  {
   "cell_type": "code",
   "execution_count": 86,
   "metadata": {},
   "outputs": [],
   "source": [
    "ic_rn50_80pct_plus=ic_rn50.loc[ic_rn50['mean'] >= 0.8]\n",
    "ic_rn50_70pct_plus=ic_rn50.loc[ic_rn50['mean'] >= 0.7]"
   ]
  },
  {
   "cell_type": "code",
   "execution_count": 87,
   "metadata": {},
   "outputs": [],
   "source": [
    "ic_rn152_80pct_plus=ic_rn152.loc[ic_rn152['mean'] >= 0.8]\n",
    "ic_rn152_70pct_plus=ic_rn152.loc[ic_rn152['mean'] >= 0.7]"
   ]
  },
  {
   "cell_type": "code",
   "execution_count": 88,
   "metadata": {},
   "outputs": [],
   "source": [
    "ic_dn121_80pct_plus=ic_dn121.loc[ic_dn121['mean'] >= 0.8]\n",
    "ic_dn121_70pct_plus=ic_dn121.loc[ic_dn121['mean'] >= 0.7]"
   ]
  },
  {
   "cell_type": "code",
   "execution_count": 89,
   "metadata": {},
   "outputs": [],
   "source": [
    "ic_80pct=concate_df_results(ic_rn50_80pct_plus, ic_rn152_80pct_plus, ic_dn121_80pct_plus)\n",
    "ic_70pct=concate_df_results(ic_rn50_70pct_plus, ic_rn152_70pct_plus, ic_dn121_70pct_plus)"
   ]
  },
  {
   "cell_type": "code",
   "execution_count": 90,
   "metadata": {},
   "outputs": [
    {
     "data": {
      "text/plain": [
       "5"
      ]
     },
     "execution_count": 90,
     "metadata": {},
     "output_type": "execute_result"
    }
   ],
   "source": [
    "len(ic_70pct)"
   ]
  },
  {
   "cell_type": "code",
   "execution_count": 91,
   "metadata": {},
   "outputs": [
    {
     "data": {
      "text/html": [
       "<div>\n",
       "<style scoped>\n",
       "    .dataframe tbody tr th:only-of-type {\n",
       "        vertical-align: middle;\n",
       "    }\n",
       "\n",
       "    .dataframe tbody tr th {\n",
       "        vertical-align: top;\n",
       "    }\n",
       "\n",
       "    .dataframe thead th {\n",
       "        text-align: right;\n",
       "    }\n",
       "</style>\n",
       "<table border=\"1\" class=\"dataframe\">\n",
       "  <thead>\n",
       "    <tr style=\"text-align: right;\">\n",
       "      <th></th>\n",
       "      <th>id</th>\n",
       "      <th>mean</th>\n",
       "      <th>std</th>\n",
       "    </tr>\n",
       "  </thead>\n",
       "  <tbody>\n",
       "    <tr>\n",
       "      <td>0</td>\n",
       "      <td>7a32403e</td>\n",
       "      <td>0.824357</td>\n",
       "      <td>0.102494</td>\n",
       "    </tr>\n",
       "    <tr>\n",
       "      <td>1</td>\n",
       "      <td>7a32f538</td>\n",
       "      <td>0.825143</td>\n",
       "      <td>0.079229</td>\n",
       "    </tr>\n",
       "    <tr>\n",
       "      <td>2</td>\n",
       "      <td>7a33ff6e</td>\n",
       "      <td>0.802123</td>\n",
       "      <td>0.112165</td>\n",
       "    </tr>\n",
       "    <tr>\n",
       "      <td>3</td>\n",
       "      <td>7a3cbeba</td>\n",
       "      <td>0.846415</td>\n",
       "      <td>0.067191</td>\n",
       "    </tr>\n",
       "    <tr>\n",
       "      <td>4</td>\n",
       "      <td>7a3db8ba</td>\n",
       "      <td>0.791882</td>\n",
       "      <td>0.091488</td>\n",
       "    </tr>\n",
       "  </tbody>\n",
       "</table>\n",
       "</div>"
      ],
      "text/plain": [
       "         id      mean       std\n",
       "0  7a32403e  0.824357  0.102494\n",
       "1  7a32f538  0.825143  0.079229\n",
       "2  7a33ff6e  0.802123  0.112165\n",
       "3  7a3cbeba  0.846415  0.067191\n",
       "4  7a3db8ba  0.791882  0.091488"
      ]
     },
     "execution_count": 91,
     "metadata": {},
     "output_type": "execute_result"
    }
   ],
   "source": [
    "ic_70pct.head()"
   ]
  },
  {
   "cell_type": "code",
   "execution_count": 92,
   "metadata": {},
   "outputs": [],
   "source": [
    "ic_80pct['roof_type']= 'incomplete'\n",
    "ic_70pct['roof_type']= 'incomplete'\n",
    "ic_80pct.drop(columns=['mean','std'],inplace=True)\n",
    "ic_70pct.drop(columns=['mean','std'],inplace=True)"
   ]
  },
  {
   "cell_type": "markdown",
   "metadata": {},
   "source": [
    "#### other"
   ]
  },
  {
   "cell_type": "code",
   "execution_count": 93,
   "metadata": {
    "scrolled": true
   },
   "outputs": [
    {
     "data": {
      "image/png": "[encoded data removed]",
      "text/plain": [
       "<Figure size 432x288 with 1 Axes>"
      ]
     },
     "metadata": {
      "needs_background": "light"
     },
     "output_type": "display_data"
    },
    {
     "data": {
      "image/png": "[encoded data removed]",
      "text/plain": [
       "<Figure size 432x288 with 1 Axes>"
      ]
     },
     "metadata": {
      "needs_background": "light"
     },
     "output_type": "display_data"
    },
    {
     "data": {
      "image/png": "[encoded data removed]",
      "text/plain": [
       "<Figure size 432x288 with 1 Axes>"
      ]
     },
     "metadata": {
      "needs_background": "light"
     },
     "output_type": "display_data"
    }
   ],
   "source": [
    "ot_rn50=get_splits(df_region_rn50, 'other', 'rn50')\n",
    "ot_rn152=get_splits(df_region_rn152, 'other', 'rn152')\n",
    "ot_dn121=get_splits(df_region_dn121, 'other', 'dn121')"
   ]
  },
  {
   "cell_type": "code",
   "execution_count": 94,
   "metadata": {},
   "outputs": [],
   "source": [
    "ot_rn50_80pct_plus=ot_rn50.loc[ot_rn50['mean'] >= 0.8]\n",
    "ot_rn50_70pct_plus=ot_rn50.loc[ot_rn50['mean'] >= 0.7]"
   ]
  },
  {
   "cell_type": "code",
   "execution_count": 95,
   "metadata": {},
   "outputs": [],
   "source": [
    "ot_rn152_80pct_plus=ot_rn152.loc[ot_rn152['mean'] >= 0.8]\n",
    "ot_rn152_70pct_plus=ot_rn152.loc[ot_rn152['mean'] >= 0.7]"
   ]
  },
  {
   "cell_type": "code",
   "execution_count": 96,
   "metadata": {},
   "outputs": [],
   "source": [
    "ot_dn121_80pct_plus=ot_dn121.loc[ot_dn121['mean'] >= 0.8]\n",
    "ot_dn121_70pct_plus=ot_dn121.loc[ot_dn121['mean'] >= 0.7]"
   ]
  },
  {
   "cell_type": "code",
   "execution_count": 97,
   "metadata": {},
   "outputs": [],
   "source": [
    "ot_80pct=concate_df_results(ot_rn50_80pct_plus, ot_rn152_80pct_plus, ot_dn121_80pct_plus)\n",
    "ot_70pct=concate_df_results(ot_rn50_70pct_plus, ot_rn152_70pct_plus, ot_dn121_70pct_plus)"
   ]
  },
  {
   "cell_type": "code",
   "execution_count": 98,
   "metadata": {},
   "outputs": [
    {
     "data": {
      "text/plain": [
       "20"
      ]
     },
     "execution_count": 98,
     "metadata": {},
     "output_type": "execute_result"
    }
   ],
   "source": [
    "len(ot_70pct)"
   ]
  },
  {
   "cell_type": "code",
   "execution_count": 99,
   "metadata": {},
   "outputs": [
    {
     "data": {
      "text/html": [
       "<div>\n",
       "<style scoped>\n",
       "    .dataframe tbody tr th:only-of-type {\n",
       "        vertical-align: middle;\n",
       "    }\n",
       "\n",
       "    .dataframe tbody tr th {\n",
       "        vertical-align: top;\n",
       "    }\n",
       "\n",
       "    .dataframe thead th {\n",
       "        text-align: right;\n",
       "    }\n",
       "</style>\n",
       "<table border=\"1\" class=\"dataframe\">\n",
       "  <thead>\n",
       "    <tr style=\"text-align: right;\">\n",
       "      <th></th>\n",
       "      <th>id</th>\n",
       "      <th>mean</th>\n",
       "      <th>std</th>\n",
       "    </tr>\n",
       "  </thead>\n",
       "  <tbody>\n",
       "    <tr>\n",
       "      <td>0</td>\n",
       "      <td>7a1d7dca</td>\n",
       "      <td>0.883503</td>\n",
       "      <td>0.044116</td>\n",
       "    </tr>\n",
       "    <tr>\n",
       "      <td>1</td>\n",
       "      <td>7a1eb0b4</td>\n",
       "      <td>0.967453</td>\n",
       "      <td>0.032860</td>\n",
       "    </tr>\n",
       "    <tr>\n",
       "      <td>2</td>\n",
       "      <td>7a1fffe6</td>\n",
       "      <td>0.940731</td>\n",
       "      <td>0.024905</td>\n",
       "    </tr>\n",
       "    <tr>\n",
       "      <td>3</td>\n",
       "      <td>7a214c84</td>\n",
       "      <td>0.873530</td>\n",
       "      <td>0.052674</td>\n",
       "    </tr>\n",
       "    <tr>\n",
       "      <td>4</td>\n",
       "      <td>7a2768c6</td>\n",
       "      <td>0.938175</td>\n",
       "      <td>0.037131</td>\n",
       "    </tr>\n",
       "  </tbody>\n",
       "</table>\n",
       "</div>"
      ],
      "text/plain": [
       "         id      mean       std\n",
       "0  7a1d7dca  0.883503  0.044116\n",
       "1  7a1eb0b4  0.967453  0.032860\n",
       "2  7a1fffe6  0.940731  0.024905\n",
       "3  7a214c84  0.873530  0.052674\n",
       "4  7a2768c6  0.938175  0.037131"
      ]
     },
     "execution_count": 99,
     "metadata": {},
     "output_type": "execute_result"
    }
   ],
   "source": [
    "ot_80pct.head()"
   ]
  },
  {
   "cell_type": "code",
   "execution_count": 100,
   "metadata": {},
   "outputs": [],
   "source": [
    "ot_80pct['roof_type']= 'other'\n",
    "ot_70pct['roof_type']= 'other'\n",
    "ot_80pct.drop(columns=['mean','std'],inplace=True)\n",
    "ot_70pct.drop(columns=['mean','std'],inplace=True)"
   ]
  },
  {
   "cell_type": "markdown",
   "metadata": {},
   "source": [
    "### Add all together"
   ]
  },
  {
   "cell_type": "code",
   "execution_count": 101,
   "metadata": {},
   "outputs": [],
   "source": [
    "frames_80pct = [hm_80pct, ir_80pct, cc_80pct,ic_80pct,ot_80pct]\n",
    "df_80pct= pd.concat(frames_80pct)\n",
    "frames_70pct = [hm_70pct, ir_70pct, cc_70pct,ic_70pct,ot_70pct]\n",
    "df_70pct= pd.concat(frames_70pct)"
   ]
  },
  {
   "cell_type": "code",
   "execution_count": 102,
   "metadata": {},
   "outputs": [
    {
     "data": {
      "text/html": [
       "<div>\n",
       "<style scoped>\n",
       "    .dataframe tbody tr th:only-of-type {\n",
       "        vertical-align: middle;\n",
       "    }\n",
       "\n",
       "    .dataframe tbody tr th {\n",
       "        vertical-align: top;\n",
       "    }\n",
       "\n",
       "    .dataframe thead th {\n",
       "        text-align: right;\n",
       "    }\n",
       "</style>\n",
       "<table border=\"1\" class=\"dataframe\">\n",
       "  <thead>\n",
       "    <tr style=\"text-align: right;\">\n",
       "      <th></th>\n",
       "      <th>id</th>\n",
       "      <th>roof_type</th>\n",
       "    </tr>\n",
       "  </thead>\n",
       "  <tbody>\n",
       "    <tr>\n",
       "      <td>0</td>\n",
       "      <td>7a1c5b2a</td>\n",
       "      <td>healthy_metal</td>\n",
       "    </tr>\n",
       "    <tr>\n",
       "      <td>1</td>\n",
       "      <td>7a1c5c6a</td>\n",
       "      <td>healthy_metal</td>\n",
       "    </tr>\n",
       "    <tr>\n",
       "      <td>2</td>\n",
       "      <td>7a1c5d14</td>\n",
       "      <td>healthy_metal</td>\n",
       "    </tr>\n",
       "    <tr>\n",
       "      <td>3</td>\n",
       "      <td>7a1c6458</td>\n",
       "      <td>healthy_metal</td>\n",
       "    </tr>\n",
       "    <tr>\n",
       "      <td>4</td>\n",
       "      <td>7a1c6836</td>\n",
       "      <td>healthy_metal</td>\n",
       "    </tr>\n",
       "  </tbody>\n",
       "</table>\n",
       "</div>"
      ],
      "text/plain": [
       "         id      roof_type\n",
       "0  7a1c5b2a  healthy_metal\n",
       "1  7a1c5c6a  healthy_metal\n",
       "2  7a1c5d14  healthy_metal\n",
       "3  7a1c6458  healthy_metal\n",
       "4  7a1c6836  healthy_metal"
      ]
     },
     "execution_count": 102,
     "metadata": {},
     "output_type": "execute_result"
    }
   ],
   "source": [
    "df_80pct.head()"
   ]
  },
  {
   "cell_type": "code",
   "execution_count": 103,
   "metadata": {},
   "outputs": [
    {
     "data": {
      "text/plain": [
       "2556"
      ]
     },
     "execution_count": 103,
     "metadata": {},
     "output_type": "execute_result"
    }
   ],
   "source": [
    "len(df_80pct)"
   ]
  },
  {
   "cell_type": "markdown",
   "metadata": {},
   "source": [
    "these should not be > dataset length, dont use for now"
   ]
  },
  {
   "cell_type": "code",
   "execution_count": 104,
   "metadata": {},
   "outputs": [
    {
     "data": {
      "text/plain": [
       "3369"
      ]
     },
     "execution_count": 104,
     "metadata": {},
     "output_type": "execute_result"
    }
   ],
   "source": [
    "len(df_70pct)"
   ]
  },
  {
   "cell_type": "code",
   "execution_count": 105,
   "metadata": {},
   "outputs": [],
   "source": [
    "df_all=pd.read_csv(data_dir/'df_train_all.csv')"
   ]
  },
  {
   "cell_type": "code",
   "execution_count": 106,
   "metadata": {},
   "outputs": [],
   "source": [
    "df_counrty_80pct=df_all.loc[df_all['id'].isin(df_80pct.id.values.tolist())]"
   ]
  },
  {
   "cell_type": "code",
   "execution_count": 107,
   "metadata": {},
   "outputs": [
    {
     "data": {
      "text/plain": [
       "array(['st_lucia'], dtype=object)"
      ]
     },
     "execution_count": 107,
     "metadata": {},
     "output_type": "execute_result"
    }
   ],
   "source": [
    "df_counrty_80pct.country.unique()"
   ]
  },
  {
   "cell_type": "code",
   "execution_count": 108,
   "metadata": {},
   "outputs": [
    {
     "data": {
      "text/plain": [
       "array(['castries', 'gros_islet'], dtype=object)"
      ]
     },
     "execution_count": 108,
     "metadata": {},
     "output_type": "execute_result"
    }
   ],
   "source": [
    "df_counrty_80pct.region.unique()"
   ]
  },
  {
   "cell_type": "code",
   "execution_count": 109,
   "metadata": {},
   "outputs": [
    {
     "data": {
      "text/html": [
       "<div>\n",
       "<style scoped>\n",
       "    .dataframe tbody tr th:only-of-type {\n",
       "        vertical-align: middle;\n",
       "    }\n",
       "\n",
       "    .dataframe tbody tr th {\n",
       "        vertical-align: top;\n",
       "    }\n",
       "\n",
       "    .dataframe thead th {\n",
       "        text-align: right;\n",
       "    }\n",
       "</style>\n",
       "<table border=\"1\" class=\"dataframe\">\n",
       "  <thead>\n",
       "    <tr style=\"text-align: right;\">\n",
       "      <th></th>\n",
       "      <th>id</th>\n",
       "      <th>roof_material</th>\n",
       "      <th>verified</th>\n",
       "      <th>country</th>\n",
       "      <th>region</th>\n",
       "    </tr>\n",
       "  </thead>\n",
       "  <tbody>\n",
       "    <tr>\n",
       "      <td>0</td>\n",
       "      <td>7a3f2a10</td>\n",
       "      <td>concrete_cement</td>\n",
       "      <td>True</td>\n",
       "      <td>colombia</td>\n",
       "      <td>borde_rural</td>\n",
       "    </tr>\n",
       "    <tr>\n",
       "      <td>1</td>\n",
       "      <td>7a1f731e</td>\n",
       "      <td>irregular_metal</td>\n",
       "      <td>True</td>\n",
       "      <td>colombia</td>\n",
       "      <td>borde_rural</td>\n",
       "    </tr>\n",
       "    <tr>\n",
       "      <td>2</td>\n",
       "      <td>7a424ad8</td>\n",
       "      <td>healthy_metal</td>\n",
       "      <td>True</td>\n",
       "      <td>colombia</td>\n",
       "      <td>borde_rural</td>\n",
       "    </tr>\n",
       "    <tr>\n",
       "      <td>3</td>\n",
       "      <td>7a3edc5e</td>\n",
       "      <td>healthy_metal</td>\n",
       "      <td>True</td>\n",
       "      <td>colombia</td>\n",
       "      <td>borde_rural</td>\n",
       "    </tr>\n",
       "    <tr>\n",
       "      <td>4</td>\n",
       "      <td>7a303a6e</td>\n",
       "      <td>healthy_metal</td>\n",
       "      <td>True</td>\n",
       "      <td>colombia</td>\n",
       "      <td>borde_rural</td>\n",
       "    </tr>\n",
       "  </tbody>\n",
       "</table>\n",
       "</div>"
      ],
      "text/plain": [
       "         id    roof_material  verified   country       region\n",
       "0  7a3f2a10  concrete_cement      True  colombia  borde_rural\n",
       "1  7a1f731e  irregular_metal      True  colombia  borde_rural\n",
       "2  7a424ad8    healthy_metal      True  colombia  borde_rural\n",
       "3  7a3edc5e    healthy_metal      True  colombia  borde_rural\n",
       "4  7a303a6e    healthy_metal      True  colombia  borde_rural"
      ]
     },
     "execution_count": 109,
     "metadata": {},
     "output_type": "execute_result"
    }
   ],
   "source": [
    "df_all.head()"
   ]
  },
  {
   "cell_type": "code",
   "execution_count": 110,
   "metadata": {},
   "outputs": [
    {
     "data": {
      "text/html": [
       "<div>\n",
       "<style scoped>\n",
       "    .dataframe tbody tr th:only-of-type {\n",
       "        vertical-align: middle;\n",
       "    }\n",
       "\n",
       "    .dataframe tbody tr th {\n",
       "        vertical-align: top;\n",
       "    }\n",
       "\n",
       "    .dataframe thead th {\n",
       "        text-align: right;\n",
       "    }\n",
       "</style>\n",
       "<table border=\"1\" class=\"dataframe\">\n",
       "  <thead>\n",
       "    <tr style=\"text-align: right;\">\n",
       "      <th></th>\n",
       "      <th>id</th>\n",
       "      <th>roof_type</th>\n",
       "    </tr>\n",
       "  </thead>\n",
       "  <tbody>\n",
       "    <tr>\n",
       "      <td>0</td>\n",
       "      <td>7a1c5b2a</td>\n",
       "      <td>healthy_metal</td>\n",
       "    </tr>\n",
       "    <tr>\n",
       "      <td>1</td>\n",
       "      <td>7a1c5c6a</td>\n",
       "      <td>healthy_metal</td>\n",
       "    </tr>\n",
       "    <tr>\n",
       "      <td>2</td>\n",
       "      <td>7a1c5d14</td>\n",
       "      <td>healthy_metal</td>\n",
       "    </tr>\n",
       "    <tr>\n",
       "      <td>3</td>\n",
       "      <td>7a1c6458</td>\n",
       "      <td>healthy_metal</td>\n",
       "    </tr>\n",
       "    <tr>\n",
       "      <td>4</td>\n",
       "      <td>7a1c6836</td>\n",
       "      <td>healthy_metal</td>\n",
       "    </tr>\n",
       "  </tbody>\n",
       "</table>\n",
       "</div>"
      ],
      "text/plain": [
       "         id      roof_type\n",
       "0  7a1c5b2a  healthy_metal\n",
       "1  7a1c5c6a  healthy_metal\n",
       "2  7a1c5d14  healthy_metal\n",
       "3  7a1c6458  healthy_metal\n",
       "4  7a1c6836  healthy_metal"
      ]
     },
     "execution_count": 110,
     "metadata": {},
     "output_type": "execute_result"
    }
   ],
   "source": [
    "df_80pct.head()"
   ]
  },
  {
   "cell_type": "code",
   "execution_count": 111,
   "metadata": {},
   "outputs": [],
   "source": [
    "df_all_vals=df_all.loc[df_all['id'].isin(df_80pct.id.values.tolist())]"
   ]
  },
  {
   "cell_type": "code",
   "execution_count": 112,
   "metadata": {},
   "outputs": [
    {
     "data": {
      "text/html": [
       "<div>\n",
       "<style scoped>\n",
       "    .dataframe tbody tr th:only-of-type {\n",
       "        vertical-align: middle;\n",
       "    }\n",
       "\n",
       "    .dataframe tbody tr th {\n",
       "        vertical-align: top;\n",
       "    }\n",
       "\n",
       "    .dataframe thead th {\n",
       "        text-align: right;\n",
       "    }\n",
       "</style>\n",
       "<table border=\"1\" class=\"dataframe\">\n",
       "  <thead>\n",
       "    <tr style=\"text-align: right;\">\n",
       "      <th></th>\n",
       "      <th>id</th>\n",
       "      <th>roof_material</th>\n",
       "      <th>verified</th>\n",
       "      <th>country</th>\n",
       "      <th>region</th>\n",
       "    </tr>\n",
       "  </thead>\n",
       "  <tbody>\n",
       "    <tr>\n",
       "      <td>13868</td>\n",
       "      <td>7a3975e8</td>\n",
       "      <td>healthy_metal</td>\n",
       "      <td>False</td>\n",
       "      <td>st_lucia</td>\n",
       "      <td>castries</td>\n",
       "    </tr>\n",
       "    <tr>\n",
       "      <td>13869</td>\n",
       "      <td>7a1d215e</td>\n",
       "      <td>healthy_metal</td>\n",
       "      <td>False</td>\n",
       "      <td>st_lucia</td>\n",
       "      <td>castries</td>\n",
       "    </tr>\n",
       "    <tr>\n",
       "      <td>13871</td>\n",
       "      <td>7a40f1d8</td>\n",
       "      <td>healthy_metal</td>\n",
       "      <td>False</td>\n",
       "      <td>st_lucia</td>\n",
       "      <td>castries</td>\n",
       "    </tr>\n",
       "    <tr>\n",
       "      <td>13874</td>\n",
       "      <td>7a352524</td>\n",
       "      <td>healthy_metal</td>\n",
       "      <td>False</td>\n",
       "      <td>st_lucia</td>\n",
       "      <td>castries</td>\n",
       "    </tr>\n",
       "    <tr>\n",
       "      <td>13876</td>\n",
       "      <td>7a3ce822</td>\n",
       "      <td>healthy_metal</td>\n",
       "      <td>False</td>\n",
       "      <td>st_lucia</td>\n",
       "      <td>castries</td>\n",
       "    </tr>\n",
       "  </tbody>\n",
       "</table>\n",
       "</div>"
      ],
      "text/plain": [
       "             id  roof_material  verified   country    region\n",
       "13868  7a3975e8  healthy_metal     False  st_lucia  castries\n",
       "13869  7a1d215e  healthy_metal     False  st_lucia  castries\n",
       "13871  7a40f1d8  healthy_metal     False  st_lucia  castries\n",
       "13874  7a352524  healthy_metal     False  st_lucia  castries\n",
       "13876  7a3ce822  healthy_metal     False  st_lucia  castries"
      ]
     },
     "execution_count": 112,
     "metadata": {},
     "output_type": "execute_result"
    }
   ],
   "source": [
    "df_all_vals.head()"
   ]
  },
  {
   "cell_type": "code",
   "execution_count": 113,
   "metadata": {},
   "outputs": [],
   "source": [
    "ids_sort_by=df_80pct.id.values.tolist()"
   ]
  },
  {
   "cell_type": "code",
   "execution_count": 114,
   "metadata": {},
   "outputs": [
    {
     "data": {
      "text/plain": [
       "['7a1c5c6a', '7a1c5d14', '7a1c6458', '7a1c6836']"
      ]
     },
     "execution_count": 114,
     "metadata": {},
     "output_type": "execute_result"
    }
   ],
   "source": [
    "ids_sort_by[1:5]"
   ]
  },
  {
   "cell_type": "code",
   "execution_count": 115,
   "metadata": {
    "scrolled": true
   },
   "outputs": [
    {
     "name": "stderr",
     "output_type": "stream",
     "text": [
      "/home/walle/miniconda3/envs/fastai-dev/lib/python3.7/site-packages/ipykernel_launcher.py:4: SettingWithCopyWarning: \n",
      "A value is trying to be set on a copy of a slice from a DataFrame.\n",
      "Try using .loc[row_indexer,col_indexer] = value instead\n",
      "\n",
      "See the caveats in the documentation: http://pandas.pydata.org/pandas-docs/stable/user_guide/indexing.html#returning-a-view-versus-a-copy\n",
      "  after removing the cwd from sys.path.\n"
     ]
    }
   ],
   "source": [
    "df_all_vals['id_cat'] = pd.Categorical(\n",
    " df_all_vals['id'], \n",
    " categories=ids_sort_by, \n",
    " ordered=True\n",
    ")\n",
    "df_all_vals=df_all_vals.sort_values('id_cat')"
   ]
  },
  {
   "cell_type": "code",
   "execution_count": 116,
   "metadata": {},
   "outputs": [
    {
     "data": {
      "text/html": [
       "<div>\n",
       "<style scoped>\n",
       "    .dataframe tbody tr th:only-of-type {\n",
       "        vertical-align: middle;\n",
       "    }\n",
       "\n",
       "    .dataframe tbody tr th {\n",
       "        vertical-align: top;\n",
       "    }\n",
       "\n",
       "    .dataframe thead th {\n",
       "        text-align: right;\n",
       "    }\n",
       "</style>\n",
       "<table border=\"1\" class=\"dataframe\">\n",
       "  <thead>\n",
       "    <tr style=\"text-align: right;\">\n",
       "      <th></th>\n",
       "      <th>id</th>\n",
       "      <th>roof_material</th>\n",
       "      <th>verified</th>\n",
       "      <th>country</th>\n",
       "      <th>region</th>\n",
       "      <th>id_cat</th>\n",
       "    </tr>\n",
       "  </thead>\n",
       "  <tbody>\n",
       "    <tr>\n",
       "      <td>21042</td>\n",
       "      <td>7a1c5b2a</td>\n",
       "      <td>healthy_metal</td>\n",
       "      <td>False</td>\n",
       "      <td>st_lucia</td>\n",
       "      <td>gros_islet</td>\n",
       "      <td>7a1c5b2a</td>\n",
       "    </tr>\n",
       "    <tr>\n",
       "      <td>18783</td>\n",
       "      <td>7a1c5c6a</td>\n",
       "      <td>healthy_metal</td>\n",
       "      <td>False</td>\n",
       "      <td>st_lucia</td>\n",
       "      <td>castries</td>\n",
       "      <td>7a1c5c6a</td>\n",
       "    </tr>\n",
       "    <tr>\n",
       "      <td>16496</td>\n",
       "      <td>7a1c5d14</td>\n",
       "      <td>healthy_metal</td>\n",
       "      <td>False</td>\n",
       "      <td>st_lucia</td>\n",
       "      <td>castries</td>\n",
       "      <td>7a1c5d14</td>\n",
       "    </tr>\n",
       "    <tr>\n",
       "      <td>17544</td>\n",
       "      <td>7a1c6458</td>\n",
       "      <td>healthy_metal</td>\n",
       "      <td>False</td>\n",
       "      <td>st_lucia</td>\n",
       "      <td>castries</td>\n",
       "      <td>7a1c6458</td>\n",
       "    </tr>\n",
       "    <tr>\n",
       "      <td>16726</td>\n",
       "      <td>7a1c6836</td>\n",
       "      <td>healthy_metal</td>\n",
       "      <td>False</td>\n",
       "      <td>st_lucia</td>\n",
       "      <td>castries</td>\n",
       "      <td>7a1c6836</td>\n",
       "    </tr>\n",
       "  </tbody>\n",
       "</table>\n",
       "</div>"
      ],
      "text/plain": [
       "             id  roof_material  verified   country      region    id_cat\n",
       "21042  7a1c5b2a  healthy_metal     False  st_lucia  gros_islet  7a1c5b2a\n",
       "18783  7a1c5c6a  healthy_metal     False  st_lucia    castries  7a1c5c6a\n",
       "16496  7a1c5d14  healthy_metal     False  st_lucia    castries  7a1c5d14\n",
       "17544  7a1c6458  healthy_metal     False  st_lucia    castries  7a1c6458\n",
       "16726  7a1c6836  healthy_metal     False  st_lucia    castries  7a1c6836"
      ]
     },
     "execution_count": 116,
     "metadata": {},
     "output_type": "execute_result"
    }
   ],
   "source": [
    "df_all_vals.head()"
   ]
  },
  {
   "cell_type": "code",
   "execution_count": 117,
   "metadata": {},
   "outputs": [],
   "source": [
    "df_all_vals.drop(columns=['id_cat'],inplace=True)"
   ]
  },
  {
   "cell_type": "markdown",
   "metadata": {},
   "source": [
    "make sure ids smae before we push columns accross"
   ]
  },
  {
   "cell_type": "code",
   "execution_count": 118,
   "metadata": {},
   "outputs": [
    {
     "data": {
      "text/plain": [
       "True"
      ]
     },
     "execution_count": 118,
     "metadata": {},
     "output_type": "execute_result"
    }
   ],
   "source": [
    "df_all_vals.id.values.tolist() == df_80pct.id.values.tolist()"
   ]
  },
  {
   "cell_type": "code",
   "execution_count": 119,
   "metadata": {},
   "outputs": [],
   "source": [
    "df_80pct['verified']=True\n",
    "df_80pct['country']='st_lucia'\n",
    "df_80pct['region']=df_all_vals['region'].values.tolist()"
   ]
  },
  {
   "cell_type": "code",
   "execution_count": 120,
   "metadata": {},
   "outputs": [
    {
     "data": {
      "text/html": [
       "<div>\n",
       "<style scoped>\n",
       "    .dataframe tbody tr th:only-of-type {\n",
       "        vertical-align: middle;\n",
       "    }\n",
       "\n",
       "    .dataframe tbody tr th {\n",
       "        vertical-align: top;\n",
       "    }\n",
       "\n",
       "    .dataframe thead th {\n",
       "        text-align: right;\n",
       "    }\n",
       "</style>\n",
       "<table border=\"1\" class=\"dataframe\">\n",
       "  <thead>\n",
       "    <tr style=\"text-align: right;\">\n",
       "      <th></th>\n",
       "      <th>id</th>\n",
       "      <th>roof_type</th>\n",
       "      <th>verified</th>\n",
       "      <th>country</th>\n",
       "      <th>region</th>\n",
       "    </tr>\n",
       "  </thead>\n",
       "  <tbody>\n",
       "    <tr>\n",
       "      <td>0</td>\n",
       "      <td>7a1c5b2a</td>\n",
       "      <td>healthy_metal</td>\n",
       "      <td>True</td>\n",
       "      <td>st_lucia</td>\n",
       "      <td>gros_islet</td>\n",
       "    </tr>\n",
       "    <tr>\n",
       "      <td>1</td>\n",
       "      <td>7a1c5c6a</td>\n",
       "      <td>healthy_metal</td>\n",
       "      <td>True</td>\n",
       "      <td>st_lucia</td>\n",
       "      <td>castries</td>\n",
       "    </tr>\n",
       "    <tr>\n",
       "      <td>2</td>\n",
       "      <td>7a1c5d14</td>\n",
       "      <td>healthy_metal</td>\n",
       "      <td>True</td>\n",
       "      <td>st_lucia</td>\n",
       "      <td>castries</td>\n",
       "    </tr>\n",
       "    <tr>\n",
       "      <td>3</td>\n",
       "      <td>7a1c6458</td>\n",
       "      <td>healthy_metal</td>\n",
       "      <td>True</td>\n",
       "      <td>st_lucia</td>\n",
       "      <td>castries</td>\n",
       "    </tr>\n",
       "    <tr>\n",
       "      <td>4</td>\n",
       "      <td>7a1c6836</td>\n",
       "      <td>healthy_metal</td>\n",
       "      <td>True</td>\n",
       "      <td>st_lucia</td>\n",
       "      <td>castries</td>\n",
       "    </tr>\n",
       "  </tbody>\n",
       "</table>\n",
       "</div>"
      ],
      "text/plain": [
       "         id      roof_type  verified   country      region\n",
       "0  7a1c5b2a  healthy_metal      True  st_lucia  gros_islet\n",
       "1  7a1c5c6a  healthy_metal      True  st_lucia    castries\n",
       "2  7a1c5d14  healthy_metal      True  st_lucia    castries\n",
       "3  7a1c6458  healthy_metal      True  st_lucia    castries\n",
       "4  7a1c6836  healthy_metal      True  st_lucia    castries"
      ]
     },
     "execution_count": 120,
     "metadata": {},
     "output_type": "execute_result"
    }
   ],
   "source": [
    "df_80pct.head()"
   ]
  },
  {
   "cell_type": "markdown",
   "metadata": {},
   "source": [
    "#### 70 pct"
   ]
  },
  {
   "cell_type": "code",
   "execution_count": 121,
   "metadata": {},
   "outputs": [],
   "source": [
    "df_all=pd.read_csv(data_dir/'df_train_all.csv')"
   ]
  },
  {
   "cell_type": "code",
   "execution_count": 122,
   "metadata": {},
   "outputs": [],
   "source": [
    "df_all_vals_70=df_all.loc[df_all['id'].isin(df_70pct.id.values.tolist())]"
   ]
  },
  {
   "cell_type": "code",
   "execution_count": 123,
   "metadata": {},
   "outputs": [],
   "source": [
    "ids_sort_by_70=df_70pct.id.values.tolist()"
   ]
  },
  {
   "cell_type": "code",
   "execution_count": 124,
   "metadata": {
    "scrolled": true
   },
   "outputs": [
    {
     "name": "stderr",
     "output_type": "stream",
     "text": [
      "/home/walle/miniconda3/envs/fastai-dev/lib/python3.7/site-packages/ipykernel_launcher.py:4: SettingWithCopyWarning: \n",
      "A value is trying to be set on a copy of a slice from a DataFrame.\n",
      "Try using .loc[row_indexer,col_indexer] = value instead\n",
      "\n",
      "See the caveats in the documentation: http://pandas.pydata.org/pandas-docs/stable/user_guide/indexing.html#returning-a-view-versus-a-copy\n",
      "  after removing the cwd from sys.path.\n"
     ]
    }
   ],
   "source": [
    "df_all_vals_70['id_cat'] = pd.Categorical(\n",
    " df_all_vals_70['id'], \n",
    " categories=ids_sort_by_70, \n",
    " ordered=True\n",
    ")\n",
    "df_all_vals_70=df_all_vals_70.sort_values('id_cat')"
   ]
  },
  {
   "cell_type": "code",
   "execution_count": 125,
   "metadata": {},
   "outputs": [],
   "source": [
    "df_all_vals_70.drop(columns=['id_cat'],inplace=True)"
   ]
  },
  {
   "cell_type": "code",
   "execution_count": 126,
   "metadata": {},
   "outputs": [
    {
     "data": {
      "text/plain": [
       "True"
      ]
     },
     "execution_count": 126,
     "metadata": {},
     "output_type": "execute_result"
    }
   ],
   "source": [
    "df_all_vals_70.id.values.tolist() == df_70pct.id.values.tolist()"
   ]
  },
  {
   "cell_type": "code",
   "execution_count": 127,
   "metadata": {},
   "outputs": [],
   "source": [
    "df_70pct['verified']=True\n",
    "df_70pct['country']='st_lucia'\n",
    "df_70pct['region']=df_all_vals_70['region'].values.tolist()"
   ]
  },
  {
   "cell_type": "code",
   "execution_count": 128,
   "metadata": {},
   "outputs": [],
   "source": [
    "df_70pct.rename(columns={'roof_type': 'roof_material'}, inplace=True)\n",
    "df_80pct.rename(columns={'roof_type': 'roof_material'}, inplace=True)"
   ]
  },
  {
   "cell_type": "code",
   "execution_count": 129,
   "metadata": {},
   "outputs": [],
   "source": [
    "df_80pct.to_csv(data_dir/'st_lucia_castries_gros_islet_80pct_rn50-rn152-dn121_preds.csv', index=False)\n",
    "df_70pct.to_csv(data_dir/'st_lucia_castries_gros_islet_70pct_rn50-rn152-dn121_preds.csv', index=False)"
   ]
  },
  {
   "cell_type": "code",
   "execution_count": 130,
   "metadata": {},
   "outputs": [
    {
     "data": {
      "text/plain": [
       "['dn121-10_0-roof_material-5-cef-20191127-8daa24a2',\n",
       " 'rn152-10_0-roof_material-5-cef-20191127-8daa24a2',\n",
       " 'rn50-10_0-roof_material-5-cef-20191127-8daa24a2',\n",
       " 'dn121-10_0-country-5-cef-20191127-8daa24a2',\n",
       " 'rn152-10_0-country-5-cef-20191127-8daa24a2',\n",
       " 'rn50-10_0-country-5-cef-20191127-8daa24a2',\n",
       " 'dn121-10_1-roof_material-5-cef-20191127-8daa24a2',\n",
       " 'rn152-10_1-roof_material-5-cef-20191127-8daa24a2',\n",
       " 'rn50-10_1-roof_material-5-cef-20191127-8daa24a2',\n",
       " 'dn121-10_1-country-5-cef-20191127-8daa24a2',\n",
       " 'rn152-10_1-country-5-cef-20191127-8daa24a2',\n",
       " 'rn50-10_1-country-5-cef-20191127-8daa24a2',\n",
       " 'dn121-10_2-roof_material-5-cef-20191127-8daa24a2',\n",
       " 'rn152-10_2-roof_material-5-cef-20191127-8daa24a2',\n",
       " 'rn50-10_2-roof_material-5-cef-20191127-8daa24a2',\n",
       " 'dn121-10_2-country-5-cef-20191127-8daa24a2',\n",
       " 'rn152-10_2-country-5-cef-20191127-8daa24a2',\n",
       " 'rn50-10_2-country-5-cef-20191127-8daa24a2',\n",
       " 'best-efficient_net_b4-06_16-efficientnet-20191128-3c19f55d']"
      ]
     },
     "execution_count": 130,
     "metadata": {},
     "output_type": "execute_result"
    }
   ],
   "source": [
    "useable_list"
   ]
  },
  {
   "cell_type": "markdown",
   "metadata": {},
   "source": [
    "The saved predictions are predictions from an 18 model ensemble (efficientnet not used) where all models are predicting the same roof type witch certain thresholds"
   ]
  },
  {
   "cell_type": "code",
   "execution_count": null,
   "metadata": {},
   "outputs": [],
   "source": []
  }
 ],
 "metadata": {
  "kernelspec": {
   "display_name": "Python 3",
   "language": "python",
   "name": "python3"
  },
  "language_info": {
   "codemirror_mode": {
    "name": "ipython",
    "version": 3
   },
   "file_extension": ".py",
   "mimetype": "text/x-python",
   "name": "python",
   "nbconvert_exporter": "python",
   "pygments_lexer": "ipython3",
   "version": "3.7.4"
  }
 },
 "nbformat": 4,
 "nbformat_minor": 2
}
